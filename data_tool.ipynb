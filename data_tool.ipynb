{
 "cells": [
  {
   "cell_type": "code",
   "execution_count": null,
   "metadata": {},
   "outputs": [],
   "source": [
    "from app.data.local_storage import (\n",
    "    read_json,\n",
    "    read_csv,\n",
    "    csv_to_df\n",
    ")\n",
    "from app.data.local_storage import get_cwd\n",
    "import pandas as pd"
   ]
  },
  {
   "cell_type": "code",
   "execution_count": null,
   "metadata": {},
   "outputs": [],
   "source": [
    "default_bool = True\n",
    "\n",
    "run = {\n",
    "    'gauge_to_map': False,\n",
    "    'curve_locker': False,\n",
    "    'curve_gauge_votes': False,\n",
    "    'curve_gauge_rounds': False,\n",
    "    'curve_liquidity': default_bool,\n",
    "\n",
    "    'convex_locker': default_bool,\n",
    "    'convex_delegations': default_bool,\n",
    "\n",
    "    'stakedao_delegations': default_bool,\n",
    "    'stakedao_staked_sdcrv': default_bool,\n",
    "    'stakedao_locker': default_bool,\n",
    "\n",
    "    'warden_vesdt_boost_delegation': default_bool,\n",
    "\n",
    "}\n",
    "\n",
    "# run['curve_locker'] = True\n",
    "# run['stakedao_locker'] = True\n",
    "\n",
    "load_initial = False\n",
    "should_fetch = True"
   ]
  },
  {
   "cell_type": "markdown",
   "metadata": {},
   "source": [
    "```markdown\n",
    "* [X] Gauge to LP map\n",
    "\n",
    "* [X] Curve Locks\n",
    "* [X] Curve Votes\n",
    "* [X] Curve Gauge Rounds\n",
    "\n",
    "* [X] Curve Liquidity\n",
    "\n",
    "* [] Convex Snapshot\n",
    "* [-] Convex Delegations\n",
    "* [X] Convex Locker\n",
    "\n",
    "\n",
    "* [] StakeDAO Snapshot\n",
    "* [-] StakeDAO Delegations\n",
    "* [X] StakeDAO sdCRV Staker\n",
    "* [X] StakeDAO Locker\n",
    "\n",
    "* [] Votium Bounties (v2)\n",
    "\n",
    "```"
   ]
  },
  {
   "cell_type": "markdown",
   "metadata": {},
   "source": [
    "# Gauge To LP Map"
   ]
  },
  {
   "cell_type": "code",
   "execution_count": null,
   "metadata": {},
   "outputs": [],
   "source": [
    "if run['gauge_to_map']:   \n",
    "    from app.curve.gauges.fetch import fetch as curve_gauges_fetch\n",
    "    from app.curve.gauges.process_flipside import process_and_save as curve_gauges_process_and_save\n",
    "    from app.curve.gauges.process_flipside import process_and_get as curve_gauges_process_and_get\n",
    "else:\n",
    "    print('skip')"
   ]
  },
  {
   "cell_type": "markdown",
   "metadata": {},
   "source": [
    "For whatever reason when load initial set to false, it doesn't join votes and non votes, likely because it doesn't join new records with old records. \n",
    "\n",
    "For the time being, just hardcoding to always query all instead of relying on existing data. Will work on joining later."
   ]
  },
  {
   "cell_type": "code",
   "execution_count": null,
   "metadata": {},
   "outputs": [],
   "source": [
    "if run['gauge_to_map']:   \n",
    "    if should_fetch:\n",
    "        df = curve_gauges_fetch(True)"
   ]
  },
  {
   "cell_type": "code",
   "execution_count": null,
   "metadata": {},
   "outputs": [],
   "source": [
    "if run['gauge_to_map']:   \n",
    "    df_gauges_p = curve_gauges_process_and_save()"
   ]
  },
  {
   "cell_type": "code",
   "execution_count": null,
   "metadata": {},
   "outputs": [],
   "source": [
    "if run['gauge_to_map']:   \n",
    "    from app.curve.gauges.models import gauge_registry, df_curve_gauge_registry"
   ]
  },
  {
   "cell_type": "markdown",
   "metadata": {},
   "source": [
    "# Curve Locker"
   ]
  },
  {
   "cell_type": "code",
   "execution_count": null,
   "metadata": {},
   "outputs": [],
   "source": [
    "if run['curve_locker']:   \n",
    "    from app.curve.locker.fetch import fetch as curve_locker_fetch\n",
    "    from app.curve.locker.process_flipside import process_and_save as curve_locker_process_and_save\n",
    "\n",
    "else:\n",
    "    print('skip')"
   ]
  },
  {
   "cell_type": "code",
   "execution_count": null,
   "metadata": {},
   "outputs": [],
   "source": [
    "df_locker_raw = None\n",
    "if run['curve_locker']:   \n",
    "    if should_fetch:\n",
    "        df_locker_raw = curve_locker_fetch(load_initial)\n",
    "df_locker_raw"
   ]
  },
  {
   "cell_type": "code",
   "execution_count": null,
   "metadata": {},
   "outputs": [],
   "source": [
    "df_locker_list_p = None\n",
    "if run['curve_locker']:   \n",
    "    df_locker_list_p = curve_locker_process_and_save()\n",
    "# df_locker_list_p"
   ]
  },
  {
   "cell_type": "code",
   "execution_count": null,
   "metadata": {},
   "outputs": [],
   "source": [
    "# df_locker_list_p['df_curve_vecrv'].tail()"
   ]
  },
  {
   "cell_type": "code",
   "execution_count": null,
   "metadata": {},
   "outputs": [],
   "source": [
    "# df_locker_list_p['df_curve_vecrv_decay_agg'].tail()"
   ]
  },
  {
   "cell_type": "code",
   "execution_count": null,
   "metadata": {},
   "outputs": [],
   "source": [
    "# df_curve_locker_history = None\n",
    "# if run['curve_locker']:   \n",
    "#     from app.curve.locker.models import df_curve_locker_history, df_curve_locker_current_locks\n",
    "# df_curve_locker_history"
   ]
  },
  {
   "cell_type": "markdown",
   "metadata": {},
   "source": [
    "# Curve Gauge Votes"
   ]
  },
  {
   "cell_type": "code",
   "execution_count": null,
   "metadata": {},
   "outputs": [],
   "source": [
    "if run['curve_gauge_votes']:   \n",
    "    from app.curve.gauge_votes.fetch import fetch as curve_gauge_votes_fetch\n",
    "    from app.curve.gauge_votes.process_flipside import process_and_save as curve_gauge_votes_process_and_save\n",
    "else:\n",
    "    print('skip')"
   ]
  },
  {
   "cell_type": "code",
   "execution_count": null,
   "metadata": {},
   "outputs": [],
   "source": [
    "df_gauge_votes_raw = None\n",
    "if run['curve_gauge_votes']:   \n",
    "    if should_fetch:\n",
    "        df_gauge_votes_raw = curve_gauge_votes_fetch(load_initial)\n",
    "# df_gauge_votes_raw"
   ]
  },
  {
   "cell_type": "code",
   "execution_count": null,
   "metadata": {},
   "outputs": [],
   "source": [
    "df_gauge_votes_list = None\n",
    "if run['curve_gauge_votes']:   \n",
    "    df_gauge_votes_list = curve_gauge_votes_process_and_save()\n",
    "# df_gauge_votes_list"
   ]
  },
  {
   "cell_type": "code",
   "execution_count": null,
   "metadata": {},
   "outputs": [],
   "source": [
    "if run['curve_gauge_votes']:   \n",
    "    from app.curve.gauge_votes.models import df_gauge_votes_formatted, df_all_votes, df_current_gauge_votes"
   ]
  },
  {
   "cell_type": "code",
   "execution_count": null,
   "metadata": {},
   "outputs": [],
   "source": [
    "# df_gauge_votes_formatted[df_gauge_votes_formatted['known_as'] == 'Convex (cvxCRV)']"
   ]
  },
  {
   "cell_type": "markdown",
   "metadata": {},
   "source": [
    "# Curve Gauge Rounds"
   ]
  },
  {
   "cell_type": "code",
   "execution_count": null,
   "metadata": {},
   "outputs": [],
   "source": [
    "if run['curve_gauge_rounds']:   \n",
    "    from app.curve.gauge_rounds.process_flipside import process_and_save as curve_gauge_rounds_process_and_save\n",
    "else:\n",
    "    print('skip')"
   ]
  },
  {
   "cell_type": "markdown",
   "metadata": {},
   "source": [
    "no fetch as relies only on other fetched tables"
   ]
  },
  {
   "cell_type": "code",
   "execution_count": null,
   "metadata": {},
   "outputs": [],
   "source": [
    "df_gauge_rounds_list = None\n",
    "if run['curve_gauge_rounds']:   \n",
    "    df_gauge_rounds_list = curve_gauge_rounds_process_and_save()\n",
    "# df_gauge_rounds_list"
   ]
  },
  {
   "cell_type": "code",
   "execution_count": null,
   "metadata": {},
   "outputs": [],
   "source": [
    "# df_gauge_rounds_list['df_gauge_rounds_all_by_user'][['vote_power_raw', 'vote_percent', 'vote_power', 'vote_utilization']]"
   ]
  },
  {
   "cell_type": "code",
   "execution_count": null,
   "metadata": {},
   "outputs": [],
   "source": [
    "if run['curve_gauge_rounds']:   \n",
    "    from app.curve.gauge_rounds.models import df_checkpoints, df_checkpoints_agg"
   ]
  },
  {
   "cell_type": "code",
   "execution_count": null,
   "metadata": {},
   "outputs": [],
   "source": [
    "# df_checkpoints_agg"
   ]
  },
  {
   "cell_type": "code",
   "execution_count": null,
   "metadata": {},
   "outputs": [],
   "source": [
    "# df_checkpoints_agg.sort_values(['checkpoint_id', 'total_vote_power'], ascending=False)"
   ]
  },
  {
   "cell_type": "markdown",
   "metadata": {},
   "source": [
    "# Curve Liquidity"
   ]
  },
  {
   "cell_type": "code",
   "execution_count": null,
   "metadata": {},
   "outputs": [],
   "source": [
    "if run['curve_liquidity']:   \n",
    "    from app.curve.liquidity.fetch import fetch as curve_liquidity_fetch\n",
    "    from app.curve.liquidity.process_flipside import process_and_save as curve_liquidity_process_and_save\n",
    "else:\n",
    "    print('skip')"
   ]
  },
  {
   "cell_type": "code",
   "execution_count": null,
   "metadata": {},
   "outputs": [],
   "source": [
    "df_curve_liquidity_raw = None\n",
    "if run['curve_liquidity']:   \n",
    "    if should_fetch:\n",
    "        df_curve_liquidity_raw = curve_liquidity_fetch(load_initial)\n"
   ]
  },
  {
   "cell_type": "code",
   "execution_count": null,
   "metadata": {},
   "outputs": [],
   "source": [
    "df_curve_liquidity_list = None\n",
    "if run['curve_liquidity']:   \n",
    "    df_curve_liquidity_list = curve_liquidity_process_and_save()\n",
    "# df_gauge_rounds_list"
   ]
  },
  {
   "cell_type": "code",
   "execution_count": null,
   "metadata": {},
   "outputs": [],
   "source": [
    "# df_curve_liquidity_list['df_curve_liquidity']"
   ]
  },
  {
   "cell_type": "code",
   "execution_count": null,
   "metadata": {},
   "outputs": [],
   "source": [
    "if run['curve_liquidity']:   \n",
    "    from app.curve.liquidity.models import df_curve_liquidity, df_curve_liquidity_aggregates"
   ]
  },
  {
   "cell_type": "markdown",
   "metadata": {},
   "source": [
    "# Convex Locker"
   ]
  },
  {
   "cell_type": "code",
   "execution_count": null,
   "metadata": {},
   "outputs": [],
   "source": [
    "if run['convex_locker']:   \n",
    "    from app.convex.locker.fetch import fetch as convex_locker_fetch\n",
    "    from app.convex.locker.process_flipside import process_and_save as convex_locker_process_and_save\n",
    "else:\n",
    "    print('skip')"
   ]
  },
  {
   "cell_type": "code",
   "execution_count": null,
   "metadata": {},
   "outputs": [],
   "source": [
    "df_convex_locker_raw = None\n",
    "if run['convex_locker']:   \n",
    "    if should_fetch:\n",
    "        df_convex_locker_raw = convex_locker_fetch(load_initial)"
   ]
  },
  {
   "cell_type": "code",
   "execution_count": null,
   "metadata": {},
   "outputs": [],
   "source": [
    "df_convex_locker_list = None\n",
    "if run['convex_locker']:   \n",
    "    df_convex_locker_list = convex_locker_process_and_save()\n",
    "# df_gauge_rounds_list"
   ]
  },
  {
   "cell_type": "code",
   "execution_count": null,
   "metadata": {},
   "outputs": [],
   "source": [
    "df_convex_locker_raw"
   ]
  },
  {
   "cell_type": "markdown",
   "metadata": {},
   "source": [
    "# Convex Delegations"
   ]
  },
  {
   "cell_type": "code",
   "execution_count": null,
   "metadata": {},
   "outputs": [],
   "source": [
    "if run['convex_delegations']:   \n",
    "    from app.convex.delegations.fetch import fetch as convex_delegations_fetch\n",
    "    # from app.curve.liquidity.process_flipside import process_and_save as curve_liquidity_process_and_save\n",
    "else:\n",
    "    print('skip')"
   ]
  },
  {
   "cell_type": "code",
   "execution_count": null,
   "metadata": {},
   "outputs": [],
   "source": [
    "df_convex_delegations_raw = None\n",
    "if run['convex_delegations']:   \n",
    "    if should_fetch:\n",
    "        df_convex_delegations_raw = convex_delegations_fetch(load_initial)"
   ]
  },
  {
   "cell_type": "markdown",
   "metadata": {},
   "source": [
    "# StakeDAO Delegations"
   ]
  },
  {
   "cell_type": "code",
   "execution_count": null,
   "metadata": {},
   "outputs": [],
   "source": [
    "if run['stakedao_delegations']:   \n",
    "    from app.stakedao.delegations.fetch import fetch as stakedao_delegations_fetch\n",
    "    # from app.curve.liquidity.process_flipside import process_and_save as curve_liquidity_process_and_save\n",
    "else:\n",
    "    print('skip')"
   ]
  },
  {
   "cell_type": "code",
   "execution_count": null,
   "metadata": {},
   "outputs": [],
   "source": [
    "df_stakedao_delegations_raw = None\n",
    "if run['stakedao_delegations']:   \n",
    "    if should_fetch:\n",
    "        df_stakedao_delegations_raw = stakedao_delegations_fetch(load_initial)"
   ]
  },
  {
   "cell_type": "markdown",
   "metadata": {},
   "source": [
    "# StakeDAO Staked sdCRV "
   ]
  },
  {
   "cell_type": "code",
   "execution_count": null,
   "metadata": {},
   "outputs": [],
   "source": [
    "if run['stakedao_staked_sdcrv']:   \n",
    "    from app.stakedao.staked_sdcrv.fetch import fetch as stakedao_staked_sdcrv_fetch\n",
    "    from app.stakedao.staked_sdcrv.process_flipside import process_and_save as stakedao_sdcrv_process_and_save\n",
    "else:\n",
    "    print('skip')"
   ]
  },
  {
   "cell_type": "code",
   "execution_count": null,
   "metadata": {},
   "outputs": [],
   "source": [
    "df_stakedao_delegations_raw = None\n",
    "if run['stakedao_staked_sdcrv']:   \n",
    "    if should_fetch:\n",
    "        df_stakedao_delegations_raw = stakedao_staked_sdcrv_fetch(load_initial)"
   ]
  },
  {
   "cell_type": "code",
   "execution_count": null,
   "metadata": {},
   "outputs": [],
   "source": [
    "df_stakedao_sdcrv_list = None\n",
    "if run['stakedao_staked_sdcrv']:   \n",
    "    df_stakedao_sdcrv_list = stakedao_sdcrv_process_and_save()"
   ]
  },
  {
   "cell_type": "markdown",
   "metadata": {},
   "source": [
    "# StakeDAO Locker (veSDT)"
   ]
  },
  {
   "cell_type": "code",
   "execution_count": null,
   "metadata": {},
   "outputs": [],
   "source": [
    "if run['stakedao_locker']:   \n",
    "    from app.stakedao.locker.fetch import fetch as stakedao_locker_fetch\n",
    "    from app.stakedao.locker.process_flipside import process_and_save as stakedao_locker_process_and_save\n",
    "else:\n",
    "    print('skip')"
   ]
  },
  {
   "cell_type": "code",
   "execution_count": null,
   "metadata": {},
   "outputs": [],
   "source": [
    "df_stakedao_locker = None\n",
    "if run['stakedao_locker']:   \n",
    "    if should_fetch:\n",
    "        df_stakedao_locker = stakedao_locker_fetch(load_initial)"
   ]
  },
  {
   "cell_type": "code",
   "execution_count": null,
   "metadata": {},
   "outputs": [],
   "source": [
    "df_stakedao_vesdt_list = None\n",
    "if run['stakedao_locker']:   \n",
    "    df_stakedao_vesdt_list = stakedao_locker_process_and_save()"
   ]
  },
  {
   "cell_type": "markdown",
   "metadata": {},
   "source": [
    "# Warden veSDT Boost Delegation"
   ]
  },
  {
   "cell_type": "code",
   "execution_count": null,
   "metadata": {},
   "outputs": [],
   "source": [
    "if run['warden_vesdt_boost_delegation']:   \n",
    "    from app.warden.vesdt_boost_delegation.fetch import fetch as wardent_vesdt_boost_fetch\n",
    "    # from app.warden.vesdt_boost_delegation.process_flipside import process_and_save as stakedao_locker_process_and_save\n",
    "else:\n",
    "    print('skip')\n"
   ]
  },
  {
   "cell_type": "code",
   "execution_count": null,
   "metadata": {},
   "outputs": [],
   "source": [
    "df_wardent_vesdt_boost = None\n",
    "if run['warden_vesdt_boost_delegation']:   \n",
    "    if should_fetch:\n",
    "        df_wardent_vesdt_boost = wardent_vesdt_boost_fetch(load_initial)"
   ]
  },
  {
   "cell_type": "code",
   "execution_count": null,
   "metadata": {},
   "outputs": [],
   "source": [
    "# df_stakedao_vesdt_list = None\n",
    "# if run['stakedao_locker']:   \n",
    "#     df_stakedao_vesdt_list = stakedao_locker_process_and_save()"
   ]
  }
 ],
 "metadata": {
  "kernelspec": {
   "display_name": "cadcad-edu",
   "language": "python",
   "name": "python3"
  },
  "language_info": {
   "codemirror_mode": {
    "name": "ipython",
    "version": 3
   },
   "file_extension": ".py",
   "mimetype": "text/x-python",
   "name": "python",
   "nbconvert_exporter": "python",
   "pygments_lexer": "ipython3",
   "version": "3.8.13"
  }
 },
 "nbformat": 4,
 "nbformat_minor": 2
}
