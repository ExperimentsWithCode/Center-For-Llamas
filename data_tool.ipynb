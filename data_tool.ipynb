{
 "cells": [
  {
   "cell_type": "code",
   "execution_count": null,
   "metadata": {},
   "outputs": [],
   "source": [
    "from app.data.local_storage import (\n",
    "    read_json,\n",
    "    read_csv,\n",
    "    csv_to_df\n",
    ")\n",
    "from app.data.local_storage import get_cwd\n",
    "import pandas as pd"
   ]
  },
  {
   "cell_type": "code",
   "execution_count": null,
   "metadata": {},
   "outputs": [],
   "source": [
    "run = {\n",
    "    'gauge_to_map': False,\n",
    "    'curve_locker': False,\n",
    "    'curve_gauge_votes': False,\n",
    "    'curve_gauge_rounds': False,\n",
    "    'curve_liquidity': False,\n",
    "\n",
    "    'convex_locker': False,\n",
    "    'convex_delegations': False,\n",
    "\n",
    "    'stakedao_delegations': False,\n",
    "    'stakedao_staked_sdcrv': False,\n",
    "    'stakedao_locker': False,\n",
    "\n",
    "}\n",
    "load_initial = False\n",
    "should_fetch = True"
   ]
  },
  {
   "cell_type": "markdown",
   "metadata": {},
   "source": [
    "```markdown\n",
    "* [X] Gauge to LP map\n",
    "\n",
    "* [X] Curve Locks\n",
    "* [X] Curve Votes\n",
    "* [X] Curve Gauge Rounds\n",
    "\n",
    "* [X] Curve Liquidity\n",
    "\n",
    "* [] Convex Snapshot\n",
    "* [-] Convex Delegations\n",
    "* [-] Convex Locker\n",
    "\n",
    "\n",
    "* [] StakeDAO Snapshot\n",
    "* [-] StakeDAO Delegations\n",
    "* [-] StakeDAO sdCRV Staker\n",
    "* [-] StakeDAO Locker\n",
    "\n",
    "* [] Votium Bounties (v2)\n",
    "\n",
    "```"
   ]
  },
  {
   "cell_type": "markdown",
   "metadata": {},
   "source": [
    "# Gauge To LP Map"
   ]
  },
  {
   "cell_type": "code",
   "execution_count": null,
   "metadata": {},
   "outputs": [],
   "source": [
    "if run['gauge_to_map']:   \n",
    "    from app.curve.gauges.fetch import fetch as curve_gauges_fetch\n",
    "    from app.curve.gauges.process_flipside import process_and_save as curve_gauges_process_and_save\n",
    "    from app.curve.gauges.process_flipside import process_and_get as curve_gauges_process_and_get\n",
    "else:\n",
    "    print('skip')"
   ]
  },
  {
   "cell_type": "markdown",
   "metadata": {},
   "source": [
    "For whatever reason when load initial set to false, it doesn't join votes and non votes, likely because it doesn't join new records with old records. \n",
    "\n",
    "For the time being, just hardcoding to always query all instead of relying on existing data. Will work on joining later."
   ]
  },
  {
   "cell_type": "code",
   "execution_count": null,
   "metadata": {},
   "outputs": [],
   "source": [
    "if run['gauge_to_map']:   \n",
    "    if should_fetch:\n",
    "        df = curve_gauges_fetch(True)"
   ]
  },
  {
   "cell_type": "code",
   "execution_count": null,
   "metadata": {},
   "outputs": [],
   "source": [
    "if run['gauge_to_map']:   \n",
    "    df_gauges_p = curve_gauges_process_and_save()"
   ]
  },
  {
   "cell_type": "code",
   "execution_count": null,
   "metadata": {},
   "outputs": [],
   "source": [
    "if run['gauge_to_map']:   \n",
    "    from app.curve.gauges.models import gauge_registry, df_curve_gauge_registry"
   ]
  },
  {
   "cell_type": "markdown",
   "metadata": {},
   "source": [
    "# Curve Locker"
   ]
  },
  {
   "cell_type": "code",
   "execution_count": null,
   "metadata": {},
   "outputs": [],
   "source": [
    "if run['curve_locker']:   \n",
    "    from app.curve.locker.fetch import fetch as curve_locker_fetch\n",
    "    from app.curve.locker.process_flipside import process_and_save as curve_locker_process_and_save\n",
    "    # from app.data.reference import (\n",
    "    #     filename_curve_locker_supply,\n",
    "    #     filename_curve_locker_withdraw, \n",
    "    #     filename_curve_locker_deposit,\n",
    "    #     filename_curve_locker_history,\n",
    "    #     filename_curve_locker_current_locks, \n",
    "    #     filename_curve_locker_known_locks \n",
    "    # )\n",
    "    # filename_list = [\n",
    "    #     filename_curve_locker_supply,\n",
    "    #     filename_curve_locker_withdraw, \n",
    "    #     filename_curve_locker_deposit,\n",
    "    #     filename_curve_locker_history,\n",
    "    #     filename_curve_locker_current_locks, \n",
    "    #     filename_curve_locker_known_locks   \n",
    "    # ]\n",
    "\n",
    "else:\n",
    "    print('skip')"
   ]
  },
  {
   "cell_type": "code",
   "execution_count": 8,
   "metadata": {},
   "outputs": [
    {
     "name": "stdout",
     "output_type": "stream",
     "text": [
      "Index(['block_number', 'block_timestamp', 'tx_hash', 'event_index',\n",
      "       'contract_address', 'contract_name', 'event_name',\n",
      "       'origin_function_signature', 'origin_from_address', 'origin_to_address',\n",
      "       'topics', 'data', 'event_removed', 'tx_status', 'week_number',\n",
      "       'week_day', '__row_index', 'decoded_log.locktime',\n",
      "       'decoded_log.provider', 'decoded_log.ts', 'decoded_log.type',\n",
      "       'decoded_log.value', 'full_decoded_log.address',\n",
      "       'full_decoded_log.data', 'full_decoded_log.decoded',\n",
      "       'full_decoded_log.name', 'decoded_log.prevSupply', 'decoded_log.supply',\n",
      "       'decoded_log.admin'],\n",
      "      dtype='object')\n",
      "2023-11-01 23:35:23.000\n",
      "based\n",
      "___\n",
      "curve_locker\n",
      "querying page: 1\n",
      "This query took $12 seconds to run and returned 98 records from the database.\n",
      "/home/meir/Dev/curve_governance_flask/app/data/raw_data/curve_locker.csv\n"
     ]
    },
    {
     "data": {
      "text/html": [
       "<div>\n",
       "<style scoped>\n",
       "    .dataframe tbody tr th:only-of-type {\n",
       "        vertical-align: middle;\n",
       "    }\n",
       "\n",
       "    .dataframe tbody tr th {\n",
       "        vertical-align: top;\n",
       "    }\n",
       "\n",
       "    .dataframe thead th {\n",
       "        text-align: right;\n",
       "    }\n",
       "</style>\n",
       "<table border=\"1\" class=\"dataframe\">\n",
       "  <thead>\n",
       "    <tr style=\"text-align: right;\">\n",
       "      <th></th>\n",
       "      <th>block_number</th>\n",
       "      <th>block_timestamp</th>\n",
       "      <th>tx_hash</th>\n",
       "      <th>event_index</th>\n",
       "      <th>contract_address</th>\n",
       "      <th>contract_name</th>\n",
       "      <th>event_name</th>\n",
       "      <th>origin_function_signature</th>\n",
       "      <th>origin_from_address</th>\n",
       "      <th>origin_to_address</th>\n",
       "      <th>...</th>\n",
       "      <th>decoded_log.ts</th>\n",
       "      <th>decoded_log.type</th>\n",
       "      <th>decoded_log.value</th>\n",
       "      <th>full_decoded_log.address</th>\n",
       "      <th>full_decoded_log.data</th>\n",
       "      <th>full_decoded_log.decoded</th>\n",
       "      <th>full_decoded_log.name</th>\n",
       "      <th>decoded_log.prevSupply</th>\n",
       "      <th>decoded_log.supply</th>\n",
       "      <th>decoded_log.admin</th>\n",
       "    </tr>\n",
       "  </thead>\n",
       "  <tbody>\n",
       "    <tr>\n",
       "      <th>0</th>\n",
       "      <td>11125145</td>\n",
       "      <td>2020-10-25T10:49:27.000Z</td>\n",
       "      <td>0xb824f1527495039d39966b7497904848fa28c31708f8...</td>\n",
       "      <td>139</td>\n",
       "      <td>0x5f3b5dfeb7b28cdbd7faba78963ee202a494e2a2</td>\n",
       "      <td>Vote-escrowed CRV</td>\n",
       "      <td>Deposit</td>\n",
       "      <td>0xeff7a612</td>\n",
       "      <td>0x8766ec723d5f4d27a33c3f28d52d47c45441ffb9</td>\n",
       "      <td>0x5f3b5dfeb7b28cdbd7faba78963ee202a494e2a2</td>\n",
       "      <td>...</td>\n",
       "      <td>1603622967.0</td>\n",
       "      <td>3.0</td>\n",
       "      <td>0</td>\n",
       "      <td>0x5f3b5DfEb7B28CDbD7FAba78963EE202a494e2A2</td>\n",
       "      <td>[{'decoded': True, 'name': 'provider', 'type':...</td>\n",
       "      <td>True</td>\n",
       "      <td>Deposit</td>\n",
       "      <td></td>\n",
       "      <td></td>\n",
       "      <td></td>\n",
       "    </tr>\n",
       "    <tr>\n",
       "      <th>1</th>\n",
       "      <td>11125362</td>\n",
       "      <td>2020-10-25T11:36:16.000Z</td>\n",
       "      <td>0x69f8b6312dfab09656028293c437feb099a959f236cf...</td>\n",
       "      <td>181</td>\n",
       "      <td>0x5f3b5dfeb7b28cdbd7faba78963ee202a494e2a2</td>\n",
       "      <td>Vote-escrowed CRV</td>\n",
       "      <td>Deposit</td>\n",
       "      <td>0x4957677c</td>\n",
       "      <td>0x1b72bac3772050fdcaf468cce7e20deb3cb02d89</td>\n",
       "      <td>0x5f3b5dfeb7b28cdbd7faba78963ee202a494e2a2</td>\n",
       "      <td>...</td>\n",
       "      <td>1603625776.0</td>\n",
       "      <td>2.0</td>\n",
       "      <td>7443915179187517640858</td>\n",
       "      <td>0x5f3b5DfEb7B28CDbD7FAba78963EE202a494e2A2</td>\n",
       "      <td>[{'decoded': True, 'name': 'provider', 'type':...</td>\n",
       "      <td>True</td>\n",
       "      <td>Deposit</td>\n",
       "      <td></td>\n",
       "      <td></td>\n",
       "      <td></td>\n",
       "    </tr>\n",
       "    <tr>\n",
       "      <th>2</th>\n",
       "      <td>11126831</td>\n",
       "      <td>2020-10-25T17:07:37.000Z</td>\n",
       "      <td>0xfb5b26136a6732f00f23b5f71fc45bf9953ce3e4f69d...</td>\n",
       "      <td>70</td>\n",
       "      <td>0x5f3b5dfeb7b28cdbd7faba78963ee202a494e2a2</td>\n",
       "      <td>Vote-escrowed CRV</td>\n",
       "      <td>Supply</td>\n",
       "      <td>0x4957677c</td>\n",
       "      <td>0xc72aed14386158960d0e93fecb83642e68482e4b</td>\n",
       "      <td>0x5f3b5dfeb7b28cdbd7faba78963ee202a494e2a2</td>\n",
       "      <td>...</td>\n",
       "      <td></td>\n",
       "      <td></td>\n",
       "      <td></td>\n",
       "      <td>0x5f3b5DfEb7B28CDbD7FAba78963EE202a494e2A2</td>\n",
       "      <td>[{'decoded': True, 'name': 'prevSupply', 'type...</td>\n",
       "      <td>True</td>\n",
       "      <td>Supply</td>\n",
       "      <td>28676754746064322873761695</td>\n",
       "      <td>28681228104961153357404703</td>\n",
       "      <td></td>\n",
       "    </tr>\n",
       "    <tr>\n",
       "      <th>3</th>\n",
       "      <td>11124567</td>\n",
       "      <td>2020-10-25T08:40:59.000Z</td>\n",
       "      <td>0xee2025ab94296225a12a48958d8f43863a9312cb8c17...</td>\n",
       "      <td>256</td>\n",
       "      <td>0x5f3b5dfeb7b28cdbd7faba78963ee202a494e2a2</td>\n",
       "      <td>Vote-escrowed CRV</td>\n",
       "      <td>Supply</td>\n",
       "      <td>0x4957677c</td>\n",
       "      <td>0xc72aed14386158960d0e93fecb83642e68482e4b</td>\n",
       "      <td>0x5f3b5dfeb7b28cdbd7faba78963ee202a494e2a2</td>\n",
       "      <td>...</td>\n",
       "      <td></td>\n",
       "      <td></td>\n",
       "      <td></td>\n",
       "      <td>0x5f3b5DfEb7B28CDbD7FAba78963EE202a494e2A2</td>\n",
       "      <td>[{'decoded': True, 'name': 'prevSupply', 'type...</td>\n",
       "      <td>True</td>\n",
       "      <td>Supply</td>\n",
       "      <td>27310333903303904242113782</td>\n",
       "      <td>27318863523760763127437404</td>\n",
       "      <td></td>\n",
       "    </tr>\n",
       "    <tr>\n",
       "      <th>4</th>\n",
       "      <td>11128090</td>\n",
       "      <td>2020-10-25T21:47:10.000Z</td>\n",
       "      <td>0x0785ac1c486c7c59c305c9af9ad105320c370bad0797...</td>\n",
       "      <td>187</td>\n",
       "      <td>0x5f3b5dfeb7b28cdbd7faba78963ee202a494e2a2</td>\n",
       "      <td>Vote-escrowed CRV</td>\n",
       "      <td>Deposit</td>\n",
       "      <td>0x65fc3873</td>\n",
       "      <td>0xdb571f44286522f7a0d8c387d0ff5ce509f96347</td>\n",
       "      <td>0x5f3b5dfeb7b28cdbd7faba78963ee202a494e2a2</td>\n",
       "      <td>...</td>\n",
       "      <td>1603662430.0</td>\n",
       "      <td>1.0</td>\n",
       "      <td>88000000000000000000</td>\n",
       "      <td>0x5f3b5DfEb7B28CDbD7FAba78963EE202a494e2A2</td>\n",
       "      <td>[{'decoded': True, 'name': 'provider', 'type':...</td>\n",
       "      <td>True</td>\n",
       "      <td>Deposit</td>\n",
       "      <td></td>\n",
       "      <td></td>\n",
       "      <td></td>\n",
       "    </tr>\n",
       "    <tr>\n",
       "      <th>...</th>\n",
       "      <td>...</td>\n",
       "      <td>...</td>\n",
       "      <td>...</td>\n",
       "      <td>...</td>\n",
       "      <td>...</td>\n",
       "      <td>...</td>\n",
       "      <td>...</td>\n",
       "      <td>...</td>\n",
       "      <td>...</td>\n",
       "      <td>...</td>\n",
       "      <td>...</td>\n",
       "      <td>...</td>\n",
       "      <td>...</td>\n",
       "      <td>...</td>\n",
       "      <td>...</td>\n",
       "      <td>...</td>\n",
       "      <td>...</td>\n",
       "      <td>...</td>\n",
       "      <td>...</td>\n",
       "      <td>...</td>\n",
       "      <td>...</td>\n",
       "    </tr>\n",
       "    <tr>\n",
       "      <th>101031</th>\n",
       "      <td>18484944</td>\n",
       "      <td>2023-11-02T14:19:47.000Z</td>\n",
       "      <td>0x0184a4c8ffbe03475ec368eb09f107f0b3389f18c797...</td>\n",
       "      <td>157</td>\n",
       "      <td>0x5f3b5dfeb7b28cdbd7faba78963ee202a494e2a2</td>\n",
       "      <td>Vote-escrowed CRV</td>\n",
       "      <td>Deposit</td>\n",
       "      <td>0x80ed71e4</td>\n",
       "      <td>0xe9cac90b8b77ac182a697bdcf761267ec5682552</td>\n",
       "      <td>0x8014595f2ab54cd7c604b00e9fb932176fdc86ae</td>\n",
       "      <td>...</td>\n",
       "      <td>1698934787.0</td>\n",
       "      <td>3.0</td>\n",
       "      <td>0</td>\n",
       "      <td>0x5f3b5DfEb7B28CDbD7FAba78963EE202a494e2A2</td>\n",
       "      <td>[{'decoded': True, 'name': 'provider', 'type':...</td>\n",
       "      <td>True</td>\n",
       "      <td>Deposit</td>\n",
       "      <td>NaN</td>\n",
       "      <td>NaN</td>\n",
       "      <td>NaN</td>\n",
       "    </tr>\n",
       "    <tr>\n",
       "      <th>101032</th>\n",
       "      <td>18486375</td>\n",
       "      <td>2023-11-02T19:08:23.000Z</td>\n",
       "      <td>0xd54cf69aa7564c5edceb89b87d84c8f561659ecae35a...</td>\n",
       "      <td>335</td>\n",
       "      <td>0x5f3b5dfeb7b28cdbd7faba78963ee202a494e2a2</td>\n",
       "      <td>Vote-escrowed CRV</td>\n",
       "      <td>Deposit</td>\n",
       "      <td>0x6a761202</td>\n",
       "      <td>0x4e4bb679d78a6cc5dd9555ebeebc6409602f4201</td>\n",
       "      <td>0x44e133b1f4a1c521c9e360e9f2ecea6518564ded</td>\n",
       "      <td>...</td>\n",
       "      <td>1698952103.0</td>\n",
       "      <td>2.0</td>\n",
       "      <td>1274371295275057666951</td>\n",
       "      <td>0x5f3b5DfEb7B28CDbD7FAba78963EE202a494e2A2</td>\n",
       "      <td>[{'decoded': True, 'name': 'provider', 'type':...</td>\n",
       "      <td>True</td>\n",
       "      <td>Deposit</td>\n",
       "      <td>NaN</td>\n",
       "      <td>NaN</td>\n",
       "      <td>NaN</td>\n",
       "    </tr>\n",
       "    <tr>\n",
       "      <th>101033</th>\n",
       "      <td>18486375</td>\n",
       "      <td>2023-11-02T19:08:23.000Z</td>\n",
       "      <td>0xd54cf69aa7564c5edceb89b87d84c8f561659ecae35a...</td>\n",
       "      <td>336</td>\n",
       "      <td>0x5f3b5dfeb7b28cdbd7faba78963ee202a494e2a2</td>\n",
       "      <td>Vote-escrowed CRV</td>\n",
       "      <td>Supply</td>\n",
       "      <td>0x6a761202</td>\n",
       "      <td>0x4e4bb679d78a6cc5dd9555ebeebc6409602f4201</td>\n",
       "      <td>0x44e133b1f4a1c521c9e360e9f2ecea6518564ded</td>\n",
       "      <td>...</td>\n",
       "      <td>NaN</td>\n",
       "      <td>NaN</td>\n",
       "      <td>NaN</td>\n",
       "      <td>0x5f3b5DfEb7B28CDbD7FAba78963EE202a494e2A2</td>\n",
       "      <td>[{'decoded': True, 'name': 'prevSupply', 'type...</td>\n",
       "      <td>True</td>\n",
       "      <td>Supply</td>\n",
       "      <td>775925422450627032658744517</td>\n",
       "      <td>775926696821922307716411468</td>\n",
       "      <td>NaN</td>\n",
       "    </tr>\n",
       "    <tr>\n",
       "      <th>101034</th>\n",
       "      <td>18496837</td>\n",
       "      <td>2023-11-04T06:17:23.000Z</td>\n",
       "      <td>0x1116840e0f18a24891053054df6bca88dc087c149332...</td>\n",
       "      <td>238</td>\n",
       "      <td>0x5f3b5dfeb7b28cdbd7faba78963ee202a494e2a2</td>\n",
       "      <td>Vote-escrowed CRV</td>\n",
       "      <td>Supply</td>\n",
       "      <td>0x3ccfd60b</td>\n",
       "      <td>0xab89e9dd7c60dcc6b4fbcafd27fcef278f1bbf10</td>\n",
       "      <td>0x5f3b5dfeb7b28cdbd7faba78963ee202a494e2a2</td>\n",
       "      <td>...</td>\n",
       "      <td>NaN</td>\n",
       "      <td>NaN</td>\n",
       "      <td>NaN</td>\n",
       "      <td>0x5f3b5DfEb7B28CDbD7FAba78963EE202a494e2A2</td>\n",
       "      <td>[{'decoded': True, 'name': 'prevSupply', 'type...</td>\n",
       "      <td>True</td>\n",
       "      <td>Supply</td>\n",
       "      <td>776086761053758941249528785</td>\n",
       "      <td>776086709036315834231885193</td>\n",
       "      <td>NaN</td>\n",
       "    </tr>\n",
       "    <tr>\n",
       "      <th>101035</th>\n",
       "      <td>18496837</td>\n",
       "      <td>2023-11-04T06:17:23.000Z</td>\n",
       "      <td>0x1116840e0f18a24891053054df6bca88dc087c149332...</td>\n",
       "      <td>237</td>\n",
       "      <td>0x5f3b5dfeb7b28cdbd7faba78963ee202a494e2a2</td>\n",
       "      <td>Vote-escrowed CRV</td>\n",
       "      <td>Withdraw</td>\n",
       "      <td>0x3ccfd60b</td>\n",
       "      <td>0xab89e9dd7c60dcc6b4fbcafd27fcef278f1bbf10</td>\n",
       "      <td>0x5f3b5dfeb7b28cdbd7faba78963ee202a494e2a2</td>\n",
       "      <td>...</td>\n",
       "      <td>1699078643.0</td>\n",
       "      <td>NaN</td>\n",
       "      <td>52017443107017643592</td>\n",
       "      <td>0x5f3b5DfEb7B28CDbD7FAba78963EE202a494e2A2</td>\n",
       "      <td>[{'decoded': True, 'name': 'provider', 'type':...</td>\n",
       "      <td>True</td>\n",
       "      <td>Withdraw</td>\n",
       "      <td>NaN</td>\n",
       "      <td>NaN</td>\n",
       "      <td>NaN</td>\n",
       "    </tr>\n",
       "  </tbody>\n",
       "</table>\n",
       "<p>101036 rows × 29 columns</p>\n",
       "</div>"
      ],
      "text/plain": [
       "       block_number           block_timestamp  \\\n",
       "0          11125145  2020-10-25T10:49:27.000Z   \n",
       "1          11125362  2020-10-25T11:36:16.000Z   \n",
       "2          11126831  2020-10-25T17:07:37.000Z   \n",
       "3          11124567  2020-10-25T08:40:59.000Z   \n",
       "4          11128090  2020-10-25T21:47:10.000Z   \n",
       "...             ...                       ...   \n",
       "101031     18484944  2023-11-02T14:19:47.000Z   \n",
       "101032     18486375  2023-11-02T19:08:23.000Z   \n",
       "101033     18486375  2023-11-02T19:08:23.000Z   \n",
       "101034     18496837  2023-11-04T06:17:23.000Z   \n",
       "101035     18496837  2023-11-04T06:17:23.000Z   \n",
       "\n",
       "                                                  tx_hash event_index  \\\n",
       "0       0xb824f1527495039d39966b7497904848fa28c31708f8...         139   \n",
       "1       0x69f8b6312dfab09656028293c437feb099a959f236cf...         181   \n",
       "2       0xfb5b26136a6732f00f23b5f71fc45bf9953ce3e4f69d...          70   \n",
       "3       0xee2025ab94296225a12a48958d8f43863a9312cb8c17...         256   \n",
       "4       0x0785ac1c486c7c59c305c9af9ad105320c370bad0797...         187   \n",
       "...                                                   ...         ...   \n",
       "101031  0x0184a4c8ffbe03475ec368eb09f107f0b3389f18c797...         157   \n",
       "101032  0xd54cf69aa7564c5edceb89b87d84c8f561659ecae35a...         335   \n",
       "101033  0xd54cf69aa7564c5edceb89b87d84c8f561659ecae35a...         336   \n",
       "101034  0x1116840e0f18a24891053054df6bca88dc087c149332...         238   \n",
       "101035  0x1116840e0f18a24891053054df6bca88dc087c149332...         237   \n",
       "\n",
       "                                  contract_address      contract_name  \\\n",
       "0       0x5f3b5dfeb7b28cdbd7faba78963ee202a494e2a2  Vote-escrowed CRV   \n",
       "1       0x5f3b5dfeb7b28cdbd7faba78963ee202a494e2a2  Vote-escrowed CRV   \n",
       "2       0x5f3b5dfeb7b28cdbd7faba78963ee202a494e2a2  Vote-escrowed CRV   \n",
       "3       0x5f3b5dfeb7b28cdbd7faba78963ee202a494e2a2  Vote-escrowed CRV   \n",
       "4       0x5f3b5dfeb7b28cdbd7faba78963ee202a494e2a2  Vote-escrowed CRV   \n",
       "...                                            ...                ...   \n",
       "101031  0x5f3b5dfeb7b28cdbd7faba78963ee202a494e2a2  Vote-escrowed CRV   \n",
       "101032  0x5f3b5dfeb7b28cdbd7faba78963ee202a494e2a2  Vote-escrowed CRV   \n",
       "101033  0x5f3b5dfeb7b28cdbd7faba78963ee202a494e2a2  Vote-escrowed CRV   \n",
       "101034  0x5f3b5dfeb7b28cdbd7faba78963ee202a494e2a2  Vote-escrowed CRV   \n",
       "101035  0x5f3b5dfeb7b28cdbd7faba78963ee202a494e2a2  Vote-escrowed CRV   \n",
       "\n",
       "       event_name origin_function_signature  \\\n",
       "0         Deposit                0xeff7a612   \n",
       "1         Deposit                0x4957677c   \n",
       "2          Supply                0x4957677c   \n",
       "3          Supply                0x4957677c   \n",
       "4         Deposit                0x65fc3873   \n",
       "...           ...                       ...   \n",
       "101031    Deposit                0x80ed71e4   \n",
       "101032    Deposit                0x6a761202   \n",
       "101033     Supply                0x6a761202   \n",
       "101034     Supply                0x3ccfd60b   \n",
       "101035   Withdraw                0x3ccfd60b   \n",
       "\n",
       "                               origin_from_address  \\\n",
       "0       0x8766ec723d5f4d27a33c3f28d52d47c45441ffb9   \n",
       "1       0x1b72bac3772050fdcaf468cce7e20deb3cb02d89   \n",
       "2       0xc72aed14386158960d0e93fecb83642e68482e4b   \n",
       "3       0xc72aed14386158960d0e93fecb83642e68482e4b   \n",
       "4       0xdb571f44286522f7a0d8c387d0ff5ce509f96347   \n",
       "...                                            ...   \n",
       "101031  0xe9cac90b8b77ac182a697bdcf761267ec5682552   \n",
       "101032  0x4e4bb679d78a6cc5dd9555ebeebc6409602f4201   \n",
       "101033  0x4e4bb679d78a6cc5dd9555ebeebc6409602f4201   \n",
       "101034  0xab89e9dd7c60dcc6b4fbcafd27fcef278f1bbf10   \n",
       "101035  0xab89e9dd7c60dcc6b4fbcafd27fcef278f1bbf10   \n",
       "\n",
       "                                 origin_to_address  ... decoded_log.ts  \\\n",
       "0       0x5f3b5dfeb7b28cdbd7faba78963ee202a494e2a2  ...   1603622967.0   \n",
       "1       0x5f3b5dfeb7b28cdbd7faba78963ee202a494e2a2  ...   1603625776.0   \n",
       "2       0x5f3b5dfeb7b28cdbd7faba78963ee202a494e2a2  ...                  \n",
       "3       0x5f3b5dfeb7b28cdbd7faba78963ee202a494e2a2  ...                  \n",
       "4       0x5f3b5dfeb7b28cdbd7faba78963ee202a494e2a2  ...   1603662430.0   \n",
       "...                                            ...  ...            ...   \n",
       "101031  0x8014595f2ab54cd7c604b00e9fb932176fdc86ae  ...   1698934787.0   \n",
       "101032  0x44e133b1f4a1c521c9e360e9f2ecea6518564ded  ...   1698952103.0   \n",
       "101033  0x44e133b1f4a1c521c9e360e9f2ecea6518564ded  ...            NaN   \n",
       "101034  0x5f3b5dfeb7b28cdbd7faba78963ee202a494e2a2  ...            NaN   \n",
       "101035  0x5f3b5dfeb7b28cdbd7faba78963ee202a494e2a2  ...   1699078643.0   \n",
       "\n",
       "       decoded_log.type       decoded_log.value  \\\n",
       "0                   3.0                       0   \n",
       "1                   2.0  7443915179187517640858   \n",
       "2                                                 \n",
       "3                                                 \n",
       "4                   1.0    88000000000000000000   \n",
       "...                 ...                     ...   \n",
       "101031              3.0                       0   \n",
       "101032              2.0  1274371295275057666951   \n",
       "101033              NaN                     NaN   \n",
       "101034              NaN                     NaN   \n",
       "101035              NaN    52017443107017643592   \n",
       "\n",
       "                          full_decoded_log.address  \\\n",
       "0       0x5f3b5DfEb7B28CDbD7FAba78963EE202a494e2A2   \n",
       "1       0x5f3b5DfEb7B28CDbD7FAba78963EE202a494e2A2   \n",
       "2       0x5f3b5DfEb7B28CDbD7FAba78963EE202a494e2A2   \n",
       "3       0x5f3b5DfEb7B28CDbD7FAba78963EE202a494e2A2   \n",
       "4       0x5f3b5DfEb7B28CDbD7FAba78963EE202a494e2A2   \n",
       "...                                            ...   \n",
       "101031  0x5f3b5DfEb7B28CDbD7FAba78963EE202a494e2A2   \n",
       "101032  0x5f3b5DfEb7B28CDbD7FAba78963EE202a494e2A2   \n",
       "101033  0x5f3b5DfEb7B28CDbD7FAba78963EE202a494e2A2   \n",
       "101034  0x5f3b5DfEb7B28CDbD7FAba78963EE202a494e2A2   \n",
       "101035  0x5f3b5DfEb7B28CDbD7FAba78963EE202a494e2A2   \n",
       "\n",
       "                                    full_decoded_log.data  \\\n",
       "0       [{'decoded': True, 'name': 'provider', 'type':...   \n",
       "1       [{'decoded': True, 'name': 'provider', 'type':...   \n",
       "2       [{'decoded': True, 'name': 'prevSupply', 'type...   \n",
       "3       [{'decoded': True, 'name': 'prevSupply', 'type...   \n",
       "4       [{'decoded': True, 'name': 'provider', 'type':...   \n",
       "...                                                   ...   \n",
       "101031  [{'decoded': True, 'name': 'provider', 'type':...   \n",
       "101032  [{'decoded': True, 'name': 'provider', 'type':...   \n",
       "101033  [{'decoded': True, 'name': 'prevSupply', 'type...   \n",
       "101034  [{'decoded': True, 'name': 'prevSupply', 'type...   \n",
       "101035  [{'decoded': True, 'name': 'provider', 'type':...   \n",
       "\n",
       "       full_decoded_log.decoded full_decoded_log.name  \\\n",
       "0                          True               Deposit   \n",
       "1                          True               Deposit   \n",
       "2                          True                Supply   \n",
       "3                          True                Supply   \n",
       "4                          True               Deposit   \n",
       "...                         ...                   ...   \n",
       "101031                     True               Deposit   \n",
       "101032                     True               Deposit   \n",
       "101033                     True                Supply   \n",
       "101034                     True                Supply   \n",
       "101035                     True              Withdraw   \n",
       "\n",
       "             decoded_log.prevSupply           decoded_log.supply  \\\n",
       "0                                                                  \n",
       "1                                                                  \n",
       "2        28676754746064322873761695   28681228104961153357404703   \n",
       "3        27310333903303904242113782   27318863523760763127437404   \n",
       "4                                                                  \n",
       "...                             ...                          ...   \n",
       "101031                          NaN                          NaN   \n",
       "101032                          NaN                          NaN   \n",
       "101033  775925422450627032658744517  775926696821922307716411468   \n",
       "101034  776086761053758941249528785  776086709036315834231885193   \n",
       "101035                          NaN                          NaN   \n",
       "\n",
       "       decoded_log.admin  \n",
       "0                         \n",
       "1                         \n",
       "2                         \n",
       "3                         \n",
       "4                         \n",
       "...                  ...  \n",
       "101031               NaN  \n",
       "101032               NaN  \n",
       "101033               NaN  \n",
       "101034               NaN  \n",
       "101035               NaN  \n",
       "\n",
       "[101036 rows x 29 columns]"
      ]
     },
     "execution_count": 8,
     "metadata": {},
     "output_type": "execute_result"
    }
   ],
   "source": [
    "df_locker_raw = None\n",
    "if run['curve_locker']:   \n",
    "    if should_fetch:\n",
    "        df_locker_raw = curve_locker_fetch(load_initial)\n",
    "df_locker_raw"
   ]
  },
  {
   "cell_type": "code",
   "execution_count": 9,
   "metadata": {},
   "outputs": [
    {
     "name": "stdout",
     "output_type": "stream",
     "text": [
      "Processing... { curve.locker.models }\n",
      "/home/meir/Dev/curve_governance_flask/app/data/processed/curve_locker_supply.csv\n",
      "/home/meir/Dev/curve_governance_flask/app/data/processed/curve_locker_withdraw.csv\n",
      "/home/meir/Dev/curve_governance_flask/app/data/processed/curve_locker_deposit.csv\n",
      "/home/meir/Dev/curve_governance_flask/app/data/processed/curve_locker_history.csv\n",
      "/home/meir/Dev/curve_governance_flask/app/data/processed/curve_locker_current_locks.csv\n",
      "/home/meir/Dev/curve_governance_flask/app/data/processed/curve_locker_known_locks.csv\n",
      "could not register in app.config\n",
      "\tCurve Locker\n"
     ]
    }
   ],
   "source": [
    "df_locker_list_p = None\n",
    "if run['curve_locker']:   \n",
    "    df_locker_list_p = curve_locker_process_and_save()\n",
    "# df_locker_list_p"
   ]
  },
  {
   "cell_type": "code",
   "execution_count": 10,
   "metadata": {},
   "outputs": [
    {
     "name": "stdout",
     "output_type": "stream",
     "text": [
      "Loading... { curve.locker.models }\n",
      "could not register in app.config\n",
      "\tGauges\n"
     ]
    },
    {
     "data": {
      "text/html": [
       "<div>\n",
       "<style scoped>\n",
       "    .dataframe tbody tr th:only-of-type {\n",
       "        vertical-align: middle;\n",
       "    }\n",
       "\n",
       "    .dataframe tbody tr th {\n",
       "        vertical-align: top;\n",
       "    }\n",
       "\n",
       "    .dataframe thead th {\n",
       "        text-align: right;\n",
       "    }\n",
       "</style>\n",
       "<table border=\"1\" class=\"dataframe\">\n",
       "  <thead>\n",
       "    <tr style=\"text-align: right;\">\n",
       "      <th></th>\n",
       "      <th>address</th>\n",
       "      <th>known_as</th>\n",
       "      <th>provider</th>\n",
       "      <th>balance</th>\n",
       "      <th>balance_adj</th>\n",
       "      <th>final_lock_time</th>\n",
       "      <th>timestamp</th>\n",
       "      <th>period</th>\n",
       "      <th>period_end_date</th>\n",
       "      <th>balance_adj_formatted</th>\n",
       "    </tr>\n",
       "  </thead>\n",
       "  <tbody>\n",
       "    <tr>\n",
       "      <th>0</th>\n",
       "      <td>0xcf4d525f31bafdecfa27794f62e0c4dc3a14016f</td>\n",
       "      <td>_</td>\n",
       "      <td>0xcf4d525f31bafdecfa27794f62e0c4dc3a14016f</td>\n",
       "      <td>66500000000000000000</td>\n",
       "      <td>6.650000e+01</td>\n",
       "      <td>2020-08-26 20:00:00</td>\n",
       "      <td>2020-08-14 01:44:14</td>\n",
       "      <td>2020.33</td>\n",
       "      <td>2020-08-13</td>\n",
       "      <td>66.50</td>\n",
       "    </tr>\n",
       "    <tr>\n",
       "      <th>1</th>\n",
       "      <td>0x99eb33756a2eaa32f5964a747722c4b59e6af351</td>\n",
       "      <td>_</td>\n",
       "      <td>0x99eb33756a2eaa32f5964a747722c4b59e6af351</td>\n",
       "      <td>500000000000000000000</td>\n",
       "      <td>5.000000e+02</td>\n",
       "      <td>2021-08-18 20:00:00</td>\n",
       "      <td>2020-08-14 01:48:52</td>\n",
       "      <td>2020.33</td>\n",
       "      <td>2020-08-13</td>\n",
       "      <td>500.00</td>\n",
       "    </tr>\n",
       "    <tr>\n",
       "      <th>2</th>\n",
       "      <td>0xd683b78e988ba4bdb9fa0e2012c4c36b7cc96aad</td>\n",
       "      <td>_</td>\n",
       "      <td>0xd683b78e988ba4bdb9fa0e2012c4c36b7cc96aad</td>\n",
       "      <td>10000000000000000000</td>\n",
       "      <td>1.000000e+01</td>\n",
       "      <td>2020-08-26 20:00:00</td>\n",
       "      <td>2020-08-14 02:09:47</td>\n",
       "      <td>2020.33</td>\n",
       "      <td>2020-08-13</td>\n",
       "      <td>10.00</td>\n",
       "    </tr>\n",
       "    <tr>\n",
       "      <th>3</th>\n",
       "      <td>0x27003ba96fbf876018ca6117acf338f0212c811f</td>\n",
       "      <td>_</td>\n",
       "      <td>0x27003ba96fbf876018ca6117acf338f0212c811f</td>\n",
       "      <td>181961082371774264134</td>\n",
       "      <td>1.819611e+02</td>\n",
       "      <td>2021-08-18 20:00:00</td>\n",
       "      <td>2020-08-14 02:15:20</td>\n",
       "      <td>2020.33</td>\n",
       "      <td>2020-08-13</td>\n",
       "      <td>181.96</td>\n",
       "    </tr>\n",
       "    <tr>\n",
       "      <th>4</th>\n",
       "      <td>0x7bfee91193d9df2ac0bfe90191d40f23c773c060</td>\n",
       "      <td>_</td>\n",
       "      <td>0x7bfee91193d9df2ac0bfe90191d40f23c773c060</td>\n",
       "      <td>11010000000000000000</td>\n",
       "      <td>1.101000e+01</td>\n",
       "      <td>2020-09-16 20:00:00</td>\n",
       "      <td>2020-08-14 02:18:29</td>\n",
       "      <td>2020.33</td>\n",
       "      <td>2020-08-13</td>\n",
       "      <td>11.01</td>\n",
       "    </tr>\n",
       "    <tr>\n",
       "      <th>...</th>\n",
       "      <td>...</td>\n",
       "      <td>...</td>\n",
       "      <td>...</td>\n",
       "      <td>...</td>\n",
       "      <td>...</td>\n",
       "      <td>...</td>\n",
       "      <td>...</td>\n",
       "      <td>...</td>\n",
       "      <td>...</td>\n",
       "      <td>...</td>\n",
       "    </tr>\n",
       "    <tr>\n",
       "      <th>50512</th>\n",
       "      <td>0x847fa1a5337c7f24d7066e467f2e2a0f969ca79f</td>\n",
       "      <td>Frax</td>\n",
       "      <td>0x847fa1a5337c7f24d7066e467f2e2a0f969ca79f</td>\n",
       "      <td>1933725997469545400159005</td>\n",
       "      <td>1.933726e+06</td>\n",
       "      <td>2027-06-09 20:00:00</td>\n",
       "      <td>2023-11-05 18:13:35</td>\n",
       "      <td>2023.45</td>\n",
       "      <td>2023-11-09</td>\n",
       "      <td>1,933,726.00</td>\n",
       "    </tr>\n",
       "    <tr>\n",
       "      <th>50513</th>\n",
       "      <td>0x989aeb4d175e16225e39e87d0d97a3360524ad80</td>\n",
       "      <td>Convex (cvxCRV)</td>\n",
       "      <td>0x989aeb4d175e16225e39e87d0d97a3360524ad80</td>\n",
       "      <td>316555175179121803180657610</td>\n",
       "      <td>3.165552e+08</td>\n",
       "      <td>2027-10-27 20:00:00</td>\n",
       "      <td>2023-11-05 19:52:59</td>\n",
       "      <td>2023.45</td>\n",
       "      <td>2023-11-09</td>\n",
       "      <td>316,555,175.18</td>\n",
       "    </tr>\n",
       "    <tr>\n",
       "      <th>50514</th>\n",
       "      <td>0x52f541764e6e90eebc5c21ff570de0e2d63766b6</td>\n",
       "      <td>StakeDAO (sdCRV)</td>\n",
       "      <td>0x52f541764e6e90eebc5c21ff570de0e2d63766b6</td>\n",
       "      <td>60408474878975764328418163</td>\n",
       "      <td>6.040847e+07</td>\n",
       "      <td>2027-10-20 20:00:00</td>\n",
       "      <td>2023-11-05 22:51:59</td>\n",
       "      <td>2023.45</td>\n",
       "      <td>2023-11-09</td>\n",
       "      <td>60,408,474.88</td>\n",
       "    </tr>\n",
       "    <tr>\n",
       "      <th>50515</th>\n",
       "      <td>0x989aeb4d175e16225e39e87d0d97a3360524ad80</td>\n",
       "      <td>Convex (cvxCRV)</td>\n",
       "      <td>0x989aeb4d175e16225e39e87d0d97a3360524ad80</td>\n",
       "      <td>316585416727005488781078844</td>\n",
       "      <td>3.165854e+08</td>\n",
       "      <td>2027-10-27 20:00:00</td>\n",
       "      <td>2023-11-06 00:35:11</td>\n",
       "      <td>2023.45</td>\n",
       "      <td>2023-11-09</td>\n",
       "      <td>316,585,416.73</td>\n",
       "    </tr>\n",
       "    <tr>\n",
       "      <th>50516</th>\n",
       "      <td>0xcfa9e6e1b8dfc818f6d31b424a53d77342480fee</td>\n",
       "      <td>_</td>\n",
       "      <td>0xcfa9e6e1b8dfc818f6d31b424a53d77342480fee</td>\n",
       "      <td>0</td>\n",
       "      <td>0.000000e+00</td>\n",
       "      <td>2023-08-30 20:00:00</td>\n",
       "      <td>2023-11-06 04:28:47</td>\n",
       "      <td>2023.45</td>\n",
       "      <td>2023-11-09</td>\n",
       "      <td>0.00</td>\n",
       "    </tr>\n",
       "  </tbody>\n",
       "</table>\n",
       "<p>50517 rows × 10 columns</p>\n",
       "</div>"
      ],
      "text/plain": [
       "                                          address          known_as  \\\n",
       "0      0xcf4d525f31bafdecfa27794f62e0c4dc3a14016f                 _   \n",
       "1      0x99eb33756a2eaa32f5964a747722c4b59e6af351                 _   \n",
       "2      0xd683b78e988ba4bdb9fa0e2012c4c36b7cc96aad                 _   \n",
       "3      0x27003ba96fbf876018ca6117acf338f0212c811f                 _   \n",
       "4      0x7bfee91193d9df2ac0bfe90191d40f23c773c060                 _   \n",
       "...                                           ...               ...   \n",
       "50512  0x847fa1a5337c7f24d7066e467f2e2a0f969ca79f              Frax   \n",
       "50513  0x989aeb4d175e16225e39e87d0d97a3360524ad80   Convex (cvxCRV)   \n",
       "50514  0x52f541764e6e90eebc5c21ff570de0e2d63766b6  StakeDAO (sdCRV)   \n",
       "50515  0x989aeb4d175e16225e39e87d0d97a3360524ad80   Convex (cvxCRV)   \n",
       "50516  0xcfa9e6e1b8dfc818f6d31b424a53d77342480fee                 _   \n",
       "\n",
       "                                         provider  \\\n",
       "0      0xcf4d525f31bafdecfa27794f62e0c4dc3a14016f   \n",
       "1      0x99eb33756a2eaa32f5964a747722c4b59e6af351   \n",
       "2      0xd683b78e988ba4bdb9fa0e2012c4c36b7cc96aad   \n",
       "3      0x27003ba96fbf876018ca6117acf338f0212c811f   \n",
       "4      0x7bfee91193d9df2ac0bfe90191d40f23c773c060   \n",
       "...                                           ...   \n",
       "50512  0x847fa1a5337c7f24d7066e467f2e2a0f969ca79f   \n",
       "50513  0x989aeb4d175e16225e39e87d0d97a3360524ad80   \n",
       "50514  0x52f541764e6e90eebc5c21ff570de0e2d63766b6   \n",
       "50515  0x989aeb4d175e16225e39e87d0d97a3360524ad80   \n",
       "50516  0xcfa9e6e1b8dfc818f6d31b424a53d77342480fee   \n",
       "\n",
       "                           balance   balance_adj     final_lock_time  \\\n",
       "0             66500000000000000000  6.650000e+01 2020-08-26 20:00:00   \n",
       "1            500000000000000000000  5.000000e+02 2021-08-18 20:00:00   \n",
       "2             10000000000000000000  1.000000e+01 2020-08-26 20:00:00   \n",
       "3            181961082371774264134  1.819611e+02 2021-08-18 20:00:00   \n",
       "4             11010000000000000000  1.101000e+01 2020-09-16 20:00:00   \n",
       "...                            ...           ...                 ...   \n",
       "50512    1933725997469545400159005  1.933726e+06 2027-06-09 20:00:00   \n",
       "50513  316555175179121803180657610  3.165552e+08 2027-10-27 20:00:00   \n",
       "50514   60408474878975764328418163  6.040847e+07 2027-10-20 20:00:00   \n",
       "50515  316585416727005488781078844  3.165854e+08 2027-10-27 20:00:00   \n",
       "50516                            0  0.000000e+00 2023-08-30 20:00:00   \n",
       "\n",
       "                timestamp   period period_end_date balance_adj_formatted  \n",
       "0     2020-08-14 01:44:14  2020.33      2020-08-13                 66.50  \n",
       "1     2020-08-14 01:48:52  2020.33      2020-08-13                500.00  \n",
       "2     2020-08-14 02:09:47  2020.33      2020-08-13                 10.00  \n",
       "3     2020-08-14 02:15:20  2020.33      2020-08-13                181.96  \n",
       "4     2020-08-14 02:18:29  2020.33      2020-08-13                 11.01  \n",
       "...                   ...      ...             ...                   ...  \n",
       "50512 2023-11-05 18:13:35  2023.45      2023-11-09          1,933,726.00  \n",
       "50513 2023-11-05 19:52:59  2023.45      2023-11-09        316,555,175.18  \n",
       "50514 2023-11-05 22:51:59  2023.45      2023-11-09         60,408,474.88  \n",
       "50515 2023-11-06 00:35:11  2023.45      2023-11-09        316,585,416.73  \n",
       "50516 2023-11-06 04:28:47  2023.45      2023-11-09                  0.00  \n",
       "\n",
       "[50517 rows x 10 columns]"
      ]
     },
     "execution_count": 10,
     "metadata": {},
     "output_type": "execute_result"
    }
   ],
   "source": [
    "df_curve_locker_history = None\n",
    "if run['curve_locker']:   \n",
    "    from app.curve.locker.models import df_curve_locker_history, df_curve_locker_current_locks\n",
    "df_curve_locker_history"
   ]
  },
  {
   "cell_type": "markdown",
   "metadata": {},
   "source": [
    "# Curve Gauge Votes"
   ]
  },
  {
   "cell_type": "code",
   "execution_count": 11,
   "metadata": {},
   "outputs": [
    {
     "name": "stdout",
     "output_type": "stream",
     "text": [
      "skip\n"
     ]
    }
   ],
   "source": [
    "if run['curve_gauge_votes']:   \n",
    "    from app.curve.gauge_votes.fetch import fetch as curve_gauge_votes_fetch\n",
    "    from app.curve.gauge_votes.process_flipside import process_and_save as curve_gauge_votes_process_and_save\n",
    "else:\n",
    "    print('skip')"
   ]
  },
  {
   "cell_type": "code",
   "execution_count": 12,
   "metadata": {},
   "outputs": [],
   "source": [
    "df_gauge_votes_raw = None\n",
    "if run['curve_gauge_votes']:   \n",
    "    if should_fetch:\n",
    "        df_gauge_votes_raw = curve_gauge_votes_fetch(load_initial)\n",
    "# df_gauge_votes_raw"
   ]
  },
  {
   "cell_type": "code",
   "execution_count": 13,
   "metadata": {},
   "outputs": [],
   "source": [
    "df_gauge_votes_list = None\n",
    "if run['curve_gauge_votes']:   \n",
    "    df_gauge_votes_list = curve_gauge_votes_process_and_save()\n",
    "# df_gauge_votes_list"
   ]
  },
  {
   "cell_type": "code",
   "execution_count": 14,
   "metadata": {},
   "outputs": [],
   "source": [
    "if run['curve_gauge_votes']:   \n",
    "    from app.curve.gauge_votes.models import df_gauge_votes_formatted, df_all_votes, df_current_gauge_votes"
   ]
  },
  {
   "cell_type": "code",
   "execution_count": 15,
   "metadata": {},
   "outputs": [],
   "source": [
    "# df_gauge_votes_formatted[df_gauge_votes_formatted['known_as'] == 'Convex (cvxCRV)']"
   ]
  },
  {
   "cell_type": "markdown",
   "metadata": {},
   "source": [
    "# Curve Gauge Rounds"
   ]
  },
  {
   "cell_type": "code",
   "execution_count": 16,
   "metadata": {},
   "outputs": [
    {
     "name": "stdout",
     "output_type": "stream",
     "text": [
      "skip\n"
     ]
    }
   ],
   "source": [
    "if run['curve_gauge_rounds']:   \n",
    "    from app.curve.gauge_rounds.process_flipside import process_and_save as curve_gauge_rounds_process_and_save\n",
    "else:\n",
    "    print('skip')"
   ]
  },
  {
   "cell_type": "markdown",
   "metadata": {},
   "source": [
    "no fetch as relies only on other fetched tables"
   ]
  },
  {
   "cell_type": "code",
   "execution_count": 17,
   "metadata": {},
   "outputs": [],
   "source": [
    "df_gauge_rounds_list = None\n",
    "if run['curve_gauge_rounds']:   \n",
    "    df_gauge_rounds_list = curve_gauge_rounds_process_and_save()\n",
    "# df_gauge_rounds_list"
   ]
  },
  {
   "cell_type": "code",
   "execution_count": 18,
   "metadata": {},
   "outputs": [],
   "source": [
    "# df_gauge_rounds_list['df_gauge_rounds_all_by_user'].keys()"
   ]
  },
  {
   "cell_type": "code",
   "execution_count": 19,
   "metadata": {},
   "outputs": [],
   "source": [
    "# df_gauge_rounds_list['df_gauge_rounds_all_by_user'][['vote_power_raw', 'vote_percent', 'vote_power', 'vote_utilization']]"
   ]
  },
  {
   "cell_type": "code",
   "execution_count": 20,
   "metadata": {},
   "outputs": [],
   "source": [
    "if run['curve_gauge_rounds']:   \n",
    "    from app.curve.gauge_rounds.models import df_all_by_user, df_all_by_gauge"
   ]
  },
  {
   "cell_type": "code",
   "execution_count": 21,
   "metadata": {},
   "outputs": [],
   "source": [
    "# df_all_by_gauge"
   ]
  },
  {
   "cell_type": "markdown",
   "metadata": {},
   "source": [
    "# Curve Liquidity"
   ]
  },
  {
   "cell_type": "code",
   "execution_count": 22,
   "metadata": {},
   "outputs": [
    {
     "name": "stdout",
     "output_type": "stream",
     "text": [
      "skip\n"
     ]
    }
   ],
   "source": [
    "if run['curve_liquidity']:   \n",
    "    from app.curve.liquidity.fetch import fetch as curve_liquidity_fetch\n",
    "    from app.curve.liquidity.process_flipside import process_and_save as curve_liquidity_process_and_save\n",
    "else:\n",
    "    print('skip')"
   ]
  },
  {
   "cell_type": "code",
   "execution_count": 23,
   "metadata": {},
   "outputs": [],
   "source": [
    "df_curve_liquidity_raw = None\n",
    "if run['curve_liquidity']:   \n",
    "    if should_fetch:\n",
    "        df_curve_liquidity_raw = curve_liquidity_fetch(load_initial)\n"
   ]
  },
  {
   "cell_type": "code",
   "execution_count": 24,
   "metadata": {},
   "outputs": [],
   "source": [
    "df_gauge_rounds_list = None\n",
    "if run['curve_liquidity']:   \n",
    "    df_curve_liquidity_list = curve_liquidity_process_and_save()\n",
    "# df_gauge_rounds_list"
   ]
  },
  {
   "cell_type": "code",
   "execution_count": 25,
   "metadata": {},
   "outputs": [],
   "source": [
    "# df_curve_liquidity_list['df_curve_liquidity']"
   ]
  },
  {
   "cell_type": "code",
   "execution_count": 26,
   "metadata": {},
   "outputs": [],
   "source": [
    "if run['curve_liquidity']:   \n",
    "    from app.curve.liquidity.models import df_curve_liquidity, df_curve_liquidity_aggregates"
   ]
  },
  {
   "cell_type": "markdown",
   "metadata": {},
   "source": [
    "# Convex Locker"
   ]
  },
  {
   "cell_type": "code",
   "execution_count": 27,
   "metadata": {},
   "outputs": [
    {
     "name": "stdout",
     "output_type": "stream",
     "text": [
      "skip\n"
     ]
    }
   ],
   "source": [
    "if run['convex_locker']:   \n",
    "    from app.convex.locker.fetch import fetch as convex_locker_fetch\n",
    "    # from app.curve.liquidity.process_flipside import process_and_save as curve_liquidity_process_and_save\n",
    "else:\n",
    "    print('skip')"
   ]
  },
  {
   "cell_type": "code",
   "execution_count": 28,
   "metadata": {},
   "outputs": [],
   "source": [
    "df_convex_locker_raw = None\n",
    "if run['convex_locker']:   \n",
    "    if should_fetch:\n",
    "        df_convex_locker_raw = convex_locker_fetch(load_initial)"
   ]
  },
  {
   "cell_type": "code",
   "execution_count": 29,
   "metadata": {},
   "outputs": [],
   "source": [
    "df_convex_locker_raw"
   ]
  },
  {
   "cell_type": "markdown",
   "metadata": {},
   "source": [
    "# Convex Delegations"
   ]
  },
  {
   "cell_type": "code",
   "execution_count": 30,
   "metadata": {},
   "outputs": [
    {
     "name": "stdout",
     "output_type": "stream",
     "text": [
      "skip\n"
     ]
    }
   ],
   "source": [
    "if run['convex_delegations']:   \n",
    "    from app.convex.delegations.fetch import fetch as convex_delegations_fetch\n",
    "    # from app.curve.liquidity.process_flipside import process_and_save as curve_liquidity_process_and_save\n",
    "else:\n",
    "    print('skip')"
   ]
  },
  {
   "cell_type": "code",
   "execution_count": 31,
   "metadata": {},
   "outputs": [],
   "source": [
    "df_convex_delegations_raw = None\n",
    "if run['convex_delegations']:   \n",
    "    if should_fetch:\n",
    "        df_convex_delegations_raw = convex_delegations_fetch(load_initial)"
   ]
  },
  {
   "cell_type": "markdown",
   "metadata": {},
   "source": [
    "# StakeDAO Delegations"
   ]
  },
  {
   "cell_type": "code",
   "execution_count": 32,
   "metadata": {},
   "outputs": [
    {
     "name": "stdout",
     "output_type": "stream",
     "text": [
      "skip\n"
     ]
    }
   ],
   "source": [
    "if run['stakedao_delegations']:   \n",
    "    from app.stakedao.delegations.fetch import fetch as stakedao_delegations_fetch\n",
    "    # from app.curve.liquidity.process_flipside import process_and_save as curve_liquidity_process_and_save\n",
    "else:\n",
    "    print('skip')"
   ]
  },
  {
   "cell_type": "code",
   "execution_count": 33,
   "metadata": {},
   "outputs": [],
   "source": [
    "df_stakedao_delegations_raw = None\n",
    "if run['stakedao_delegations']:   \n",
    "    if should_fetch:\n",
    "        df_stakedao_delegations_raw = stakedao_delegations_fetch(load_initial)"
   ]
  },
  {
   "cell_type": "markdown",
   "metadata": {},
   "source": [
    "# StakeDAO Staked sdCRV "
   ]
  },
  {
   "cell_type": "code",
   "execution_count": 34,
   "metadata": {},
   "outputs": [
    {
     "name": "stdout",
     "output_type": "stream",
     "text": [
      "skip\n"
     ]
    }
   ],
   "source": [
    "if run['stakedao_staked_sdcrv']:   \n",
    "    from app.stakedao.staked_sdcrv.fetch import fetch as stakedao_staked_sdcrv_fetch\n",
    "    # from app.curve.liquidity.process_flipside import process_and_save as curve_liquidity_process_and_save\n",
    "else:\n",
    "    print('skip')"
   ]
  },
  {
   "cell_type": "code",
   "execution_count": 35,
   "metadata": {},
   "outputs": [],
   "source": [
    "df_stakedao_delegations_raw = None\n",
    "if run['stakedao_staked_sdcrv']:   \n",
    "    if should_fetch:\n",
    "        df_stakedao_delegations_raw = stakedao_staked_sdcrv_fetch(load_initial)"
   ]
  },
  {
   "cell_type": "markdown",
   "metadata": {},
   "source": [
    "# StakeDAO Locker (veSDT)"
   ]
  },
  {
   "cell_type": "code",
   "execution_count": 36,
   "metadata": {},
   "outputs": [
    {
     "name": "stdout",
     "output_type": "stream",
     "text": [
      "skip\n"
     ]
    }
   ],
   "source": [
    "if run['stakedao_locker']:   \n",
    "    from app.stakedao.locker.fetch import fetch as stakedao_locker_fetch\n",
    "    # from app.curve.liquidity.process_flipside import process_and_save as curve_liquidity_process_and_save\n",
    "else:\n",
    "    print('skip')"
   ]
  },
  {
   "cell_type": "code",
   "execution_count": 37,
   "metadata": {},
   "outputs": [],
   "source": [
    "df_stakedao_locker = None\n",
    "if run['stakedao_locker']:   \n",
    "    if should_fetch:\n",
    "        df_stakedao_locker = stakedao_locker_fetch(load_initial)"
   ]
  },
  {
   "cell_type": "code",
   "execution_count": 38,
   "metadata": {},
   "outputs": [],
   "source": [
    "df_stakedao_locker"
   ]
  }
 ],
 "metadata": {
  "kernelspec": {
   "display_name": "cadcad-edu",
   "language": "python",
   "name": "python3"
  },
  "language_info": {
   "codemirror_mode": {
    "name": "ipython",
    "version": 3
   },
   "file_extension": ".py",
   "mimetype": "text/x-python",
   "name": "python",
   "nbconvert_exporter": "python",
   "pygments_lexer": "ipython3",
   "version": "3.8.13"
  }
 },
 "nbformat": 4,
 "nbformat_minor": 2
}
