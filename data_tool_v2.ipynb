{
 "cells": [
  {
   "cell_type": "code",
   "execution_count": null,
   "metadata": {},
   "outputs": [],
   "source": [
    "from app.data.data_manager import Manager, manager_config"
   ]
  },
  {
   "cell_type": "code",
   "execution_count": null,
   "metadata": {},
   "outputs": [],
   "source": [
    "load_initial = False\n",
    "should_fetch = False\n",
    "\n",
    "default_bool = True\n",
    "manager_config = {\n",
    "    # Curve\n",
    "    'gauge_to_map': default_bool,\n",
    "    'curve_locker': default_bool,\n",
    "    'curve_gauge_votes': default_bool,\n",
    "    'curve_gauge_rounds': default_bool,\n",
    "\n",
    "    'curve_liquidity': default_bool, ## New Source Now\n",
    "\n",
    "    # Convex\n",
    "    'convex_locker': default_bool,\n",
    "    'convex_delegations': default_bool,\n",
    "    'convex_snapshot_curve': default_bool,\n",
    "    \n",
    "    # StakeDAO\n",
    "    'stakedao_delegations': default_bool,\n",
    "    'stakedao_staked_sdcrv': default_bool,\n",
    "    'stakedao_locker': default_bool,\n",
    "    'stakedao_snapshot_curve': default_bool,\n",
    "\n",
    "\n",
    "    #Votium\n",
    "    'votium_bounties_v1': False,\n",
    "    'votium_bounties_v2': default_bool,\n",
    "    # Warden\n",
    "    'warden_vesdt_boost_delegation': False,\n",
    "}"
   ]
  },
  {
   "cell_type": "code",
   "execution_count": null,
   "metadata": {},
   "outputs": [],
   "source": [
    "# Liquidity Focused\n",
    "load_cutoff = False\n",
    "cutoff_value = None\n",
    "human_mangement = True  # When in unbound loop of multiple paid queries check in w/ User \n"
   ]
  },
  {
   "cell_type": "code",
   "execution_count": null,
   "metadata": {},
   "outputs": [],
   "source": [
    "manager = Manager(\n",
    "    manager_config, \n",
    "    should_fetch, \n",
    "    load_initial,\n",
    "    # Liquidity Specific\n",
    "    load_cutoff,\n",
    "    cutoff_value,\n",
    "    human_mangement\n",
    "    )"
   ]
  },
  {
   "cell_type": "code",
   "execution_count": null,
   "metadata": {},
   "outputs": [],
   "source": [
    "manager.manage()"
   ]
  }
 ],
 "metadata": {
  "kernelspec": {
   "display_name": "flask",
   "language": "python",
   "name": "python3"
  },
  "language_info": {
   "codemirror_mode": {
    "name": "ipython",
    "version": 3
   },
   "file_extension": ".py",
   "mimetype": "text/x-python",
   "name": "python",
   "nbconvert_exporter": "python",
   "pygments_lexer": "ipython3",
   "version": "3.9.12"
  }
 },
 "nbformat": 4,
 "nbformat_minor": 2
}
