{
 "cells": [
  {
   "cell_type": "code",
   "execution_count": 2,
   "metadata": {},
   "outputs": [],
   "source": [
    "from app.data.reference import filename_convex_delegations , filename_convex_locker, known_large_cvx_holders_addresses\n",
    "from datetime import datetime as dt\n",
    "\n",
    "from app.data.local_storage import (\n",
    "    pd,\n",
    "    read_json,\n",
    "    read_csv,\n",
    "    write_dataframe_csv,\n",
    "    write_dfs_to_xlsx,\n",
    "    csv_to_df,\n",
    "    write_dataframe_csv\n",
    "    )\n",
    "from app.utilities.utility import (\n",
    "    get_period_direct, \n",
    "    get_period_end_date, \n",
    "    get_date_obj, \n",
    "    get_dt_from_timestamp,\n",
    "    shift_time_days,\n",
    "    df_remove_nan\n",
    ")"
   ]
  },
  {
   "cell_type": "code",
   "execution_count": 3,
   "metadata": {},
   "outputs": [],
   "source": [
    "import plotly\n",
    "import plotly.express as px\n",
    "\n",
    "import plotly.graph_objects as go\n",
    "from plotly.subplots import make_subplots\n"
   ]
  },
  {
   "cell_type": "code",
   "execution_count": 4,
   "metadata": {},
   "outputs": [
    {
     "name": "stdout",
     "output_type": "stream",
     "text": [
      "Loading... { curve.gauges.models }\n",
      "Processing... { curve.gauges.models }\n",
      "could not register in app.config\n",
      "\tGauges\n",
      "Loading... { snapshot.alt_models }\n",
      "Loading... { convex.snapshot.models }\n",
      "could not register in app.config\n",
      "\tSnapshot\n"
     ]
    }
   ],
   "source": [
    "from app.convex.snapshot.models import df_convex_snapshot_vote_choice"
   ]
  },
  {
   "cell_type": "code",
   "execution_count": 5,
   "metadata": {},
   "outputs": [],
   "source": [
    "def get_df(filename):\n",
    "    df = csv_to_df(filename, 'raw_data')\n",
    "\n",
    "    # df_gauge_pool_map = df_gauge_pool_map.sort_values(\"BLOCK_TIMESTAMP\", axis = 0, ascending = True)\n",
    "    return df"
   ]
  },
  {
   "cell_type": "code",
   "execution_count": 6,
   "metadata": {},
   "outputs": [],
   "source": [
    "df_delegations = get_df(filename_convex_delegations)"
   ]
  },
  {
   "cell_type": "code",
   "execution_count": 7,
   "metadata": {},
   "outputs": [],
   "source": [
    "df_locker = get_df(filename_convex_locker)"
   ]
  },
  {
   "cell_type": "code",
   "execution_count": 8,
   "metadata": {},
   "outputs": [],
   "source": [
    "# df['period'] = get_period_direct(df['block_timestamp'])\n",
    "\n",
    "# df['period'] = df.apply(lambda row : get_period_direct(row['block_timestamp']), axis = 1)"
   ]
  },
  {
   "cell_type": "code",
   "execution_count": 9,
   "metadata": {},
   "outputs": [
    {
     "data": {
      "text/html": [
       "<div>\n",
       "<style scoped>\n",
       "    .dataframe tbody tr th:only-of-type {\n",
       "        vertical-align: middle;\n",
       "    }\n",
       "\n",
       "    .dataframe tbody tr th {\n",
       "        vertical-align: top;\n",
       "    }\n",
       "\n",
       "    .dataframe thead th {\n",
       "        text-align: right;\n",
       "    }\n",
       "</style>\n",
       "<table border=\"1\" class=\"dataframe\">\n",
       "  <thead>\n",
       "    <tr style=\"text-align: right;\">\n",
       "      <th></th>\n",
       "      <th>block_timestamp</th>\n",
       "      <th>event_name</th>\n",
       "      <th>delegate</th>\n",
       "      <th>delegator</th>\n",
       "      <th>id</th>\n",
       "      <th>origin_from_address</th>\n",
       "      <th>tx_hash</th>\n",
       "      <th>__row_index</th>\n",
       "    </tr>\n",
       "  </thead>\n",
       "  <tbody>\n",
       "    <tr>\n",
       "      <th>0</th>\n",
       "      <td>2023-10-27T13:33:23.000Z</td>\n",
       "      <td>SetDelegate</td>\n",
       "      <td>0xde1e6a7ed0ad3f61d531a8a78e83ccddbd6e0c49</td>\n",
       "      <td>0x4432e64624f4c64633466655de3d5132ad407343</td>\n",
       "      <td>0x6376782e657468000000000000000000000000000000...</td>\n",
       "      <td>0x4432e64624f4c64633466655de3d5132ad407343</td>\n",
       "      <td>0x448e2a2567cdefe83e72e7d5bc5bc2fe1da9cf01a316...</td>\n",
       "      <td>0</td>\n",
       "    </tr>\n",
       "    <tr>\n",
       "      <th>1</th>\n",
       "      <td>2023-10-27T11:01:23.000Z</td>\n",
       "      <td>SetDelegate</td>\n",
       "      <td>0xde1e6a7ed0ad3f61d531a8a78e83ccddbd6e0c49</td>\n",
       "      <td>0xca1146c1d1b26ca782f7388096462189fb09113f</td>\n",
       "      <td>0x6376782e657468000000000000000000000000000000...</td>\n",
       "      <td>0xca1146c1d1b26ca782f7388096462189fb09113f</td>\n",
       "      <td>0x25c6b1b420e6ce892a6d5db12c59a9d37c4bf07eb9c2...</td>\n",
       "      <td>1</td>\n",
       "    </tr>\n",
       "    <tr>\n",
       "      <th>2</th>\n",
       "      <td>2023-10-27T09:32:47.000Z</td>\n",
       "      <td>SetDelegate</td>\n",
       "      <td>0x56f610e0c5f2f64a6b599cc5481d35e70d2e63e7</td>\n",
       "      <td>0xfedcaa011c9fc474d8cb063cef1b8d1772b40f28</td>\n",
       "      <td>0x6376782e657468000000000000000000000000000000...</td>\n",
       "      <td>0xfedcaa011c9fc474d8cb063cef1b8d1772b40f28</td>\n",
       "      <td>0x7e10494c25c953370963fea6e0345830f7a22e66de79...</td>\n",
       "      <td>2</td>\n",
       "    </tr>\n",
       "    <tr>\n",
       "      <th>3</th>\n",
       "      <td>2023-10-26T22:46:11.000Z</td>\n",
       "      <td>SetDelegate</td>\n",
       "      <td>0x68378fcb3a27d5613afcfddb590d35a6e751972c</td>\n",
       "      <td>0x5275817b74021e97c980e95ede6bbac0d0d6f3a2</td>\n",
       "      <td>0x6376782e657468000000000000000000000000000000...</td>\n",
       "      <td>0x5275817b74021e97c980e95ede6bbac0d0d6f3a2</td>\n",
       "      <td>0x9e758790bd92f31b63647d6c9294710d12c6e7d2da74...</td>\n",
       "      <td>3</td>\n",
       "    </tr>\n",
       "    <tr>\n",
       "      <th>4</th>\n",
       "      <td>2023-10-26T16:16:47.000Z</td>\n",
       "      <td>SetDelegate</td>\n",
       "      <td>0x947b7742c403f20e5faccdac5e092c943e7d0277</td>\n",
       "      <td>0x886969be23b1a38008021c418aae5df8b0efeab9</td>\n",
       "      <td>0x6376782e657468000000000000000000000000000000...</td>\n",
       "      <td>0x886969be23b1a38008021c418aae5df8b0efeab9</td>\n",
       "      <td>0xcf1505bc9533c3b5aee380f190779219992f6e73be01...</td>\n",
       "      <td>4</td>\n",
       "    </tr>\n",
       "  </tbody>\n",
       "</table>\n",
       "</div>"
      ],
      "text/plain": [
       "            block_timestamp   event_name  \\\n",
       "0  2023-10-27T13:33:23.000Z  SetDelegate   \n",
       "1  2023-10-27T11:01:23.000Z  SetDelegate   \n",
       "2  2023-10-27T09:32:47.000Z  SetDelegate   \n",
       "3  2023-10-26T22:46:11.000Z  SetDelegate   \n",
       "4  2023-10-26T16:16:47.000Z  SetDelegate   \n",
       "\n",
       "                                     delegate  \\\n",
       "0  0xde1e6a7ed0ad3f61d531a8a78e83ccddbd6e0c49   \n",
       "1  0xde1e6a7ed0ad3f61d531a8a78e83ccddbd6e0c49   \n",
       "2  0x56f610e0c5f2f64a6b599cc5481d35e70d2e63e7   \n",
       "3  0x68378fcb3a27d5613afcfddb590d35a6e751972c   \n",
       "4  0x947b7742c403f20e5faccdac5e092c943e7d0277   \n",
       "\n",
       "                                    delegator  \\\n",
       "0  0x4432e64624f4c64633466655de3d5132ad407343   \n",
       "1  0xca1146c1d1b26ca782f7388096462189fb09113f   \n",
       "2  0xfedcaa011c9fc474d8cb063cef1b8d1772b40f28   \n",
       "3  0x5275817b74021e97c980e95ede6bbac0d0d6f3a2   \n",
       "4  0x886969be23b1a38008021c418aae5df8b0efeab9   \n",
       "\n",
       "                                                  id  \\\n",
       "0  0x6376782e657468000000000000000000000000000000...   \n",
       "1  0x6376782e657468000000000000000000000000000000...   \n",
       "2  0x6376782e657468000000000000000000000000000000...   \n",
       "3  0x6376782e657468000000000000000000000000000000...   \n",
       "4  0x6376782e657468000000000000000000000000000000...   \n",
       "\n",
       "                          origin_from_address  \\\n",
       "0  0x4432e64624f4c64633466655de3d5132ad407343   \n",
       "1  0xca1146c1d1b26ca782f7388096462189fb09113f   \n",
       "2  0xfedcaa011c9fc474d8cb063cef1b8d1772b40f28   \n",
       "3  0x5275817b74021e97c980e95ede6bbac0d0d6f3a2   \n",
       "4  0x886969be23b1a38008021c418aae5df8b0efeab9   \n",
       "\n",
       "                                             tx_hash __row_index  \n",
       "0  0x448e2a2567cdefe83e72e7d5bc5bc2fe1da9cf01a316...           0  \n",
       "1  0x25c6b1b420e6ce892a6d5db12c59a9d37c4bf07eb9c2...           1  \n",
       "2  0x7e10494c25c953370963fea6e0345830f7a22e66de79...           2  \n",
       "3  0x9e758790bd92f31b63647d6c9294710d12c6e7d2da74...           3  \n",
       "4  0xcf1505bc9533c3b5aee380f190779219992f6e73be01...           4  "
      ]
     },
     "execution_count": 9,
     "metadata": {},
     "output_type": "execute_result"
    }
   ],
   "source": [
    "df_delegations.head(5)"
   ]
  },
  {
   "cell_type": "code",
   "execution_count": 10,
   "metadata": {},
   "outputs": [
    {
     "data": {
      "text/html": [
       "<div>\n",
       "<style scoped>\n",
       "    .dataframe tbody tr th:only-of-type {\n",
       "        vertical-align: middle;\n",
       "    }\n",
       "\n",
       "    .dataframe tbody tr th {\n",
       "        vertical-align: top;\n",
       "    }\n",
       "\n",
       "    .dataframe thead th {\n",
       "        text-align: right;\n",
       "    }\n",
       "</style>\n",
       "<table border=\"1\" class=\"dataframe\">\n",
       "  <thead>\n",
       "    <tr style=\"text-align: right;\">\n",
       "      <th></th>\n",
       "      <th>block_timestamp</th>\n",
       "      <th>event_name</th>\n",
       "      <th>user</th>\n",
       "      <th>_epoch</th>\n",
       "      <th>locked_amount</th>\n",
       "      <th>boosted_amount</th>\n",
       "      <th>paid_amount</th>\n",
       "      <th>withdrawn_amount</th>\n",
       "      <th>relocked</th>\n",
       "      <th>tx_hash</th>\n",
       "      <th>__row_index</th>\n",
       "    </tr>\n",
       "  </thead>\n",
       "  <tbody>\n",
       "    <tr>\n",
       "      <th>0</th>\n",
       "      <td>2023-09-28T06:53:59.000Z</td>\n",
       "      <td>Staked</td>\n",
       "      <td>0xd334533980c201c1b93e39bbe6bd1e04be5c0f5d</td>\n",
       "      <td>1696464000</td>\n",
       "      <td>1876.080585521</td>\n",
       "      <td>1876.080585521</td>\n",
       "      <td>1876.080585521</td>\n",
       "      <td>0</td>\n",
       "      <td>False</td>\n",
       "      <td>0xa08fb5686be2eee0bca1bc09cefa1faea3062114639e...</td>\n",
       "      <td>0</td>\n",
       "    </tr>\n",
       "    <tr>\n",
       "      <th>1</th>\n",
       "      <td>2023-09-28T06:45:59.000Z</td>\n",
       "      <td>Staked</td>\n",
       "      <td>0xd683ca4ee6327cf09cb51adc8236aafea9493cd1</td>\n",
       "      <td>1696464000</td>\n",
       "      <td>2189.366909445</td>\n",
       "      <td>2189.366909445</td>\n",
       "      <td>2189.366909445</td>\n",
       "      <td>0</td>\n",
       "      <td>False</td>\n",
       "      <td>0x21edc20ec7f21019e6158cc3f4518ca43740b509d64c...</td>\n",
       "      <td>1</td>\n",
       "    </tr>\n",
       "    <tr>\n",
       "      <th>2</th>\n",
       "      <td>2023-09-28T06:29:35.000Z</td>\n",
       "      <td>Staked</td>\n",
       "      <td>0x0961f86626e297450073048a2c2ad9657fe56fbe</td>\n",
       "      <td>1695859200</td>\n",
       "      <td>2964.318996663</td>\n",
       "      <td>2964.318996663</td>\n",
       "      <td>2964.318996663</td>\n",
       "      <td>0</td>\n",
       "      <td>False</td>\n",
       "      <td>0xee34ae33271c454ecb9e22c35d6faf794014c757a71a...</td>\n",
       "      <td>2</td>\n",
       "    </tr>\n",
       "    <tr>\n",
       "      <th>3</th>\n",
       "      <td>2023-09-28T06:25:35.000Z</td>\n",
       "      <td>Staked</td>\n",
       "      <td>0x7d354d291a7e750672bc9002c2323a112f9de719</td>\n",
       "      <td>1695859200</td>\n",
       "      <td>1030.0</td>\n",
       "      <td>1030.0</td>\n",
       "      <td>1030.0</td>\n",
       "      <td>0</td>\n",
       "      <td>False</td>\n",
       "      <td>0xe8902e2cf639efbc27c5d1e86db2bb7ca6a6021d0dd5...</td>\n",
       "      <td>3</td>\n",
       "    </tr>\n",
       "    <tr>\n",
       "      <th>4</th>\n",
       "      <td>2023-09-28T06:01:11.000Z</td>\n",
       "      <td>Staked</td>\n",
       "      <td>0x7423fab4f4835ebdaa204c1e439792c7a75cb3f9</td>\n",
       "      <td>1695859200</td>\n",
       "      <td>231.406267742</td>\n",
       "      <td>231.406267742</td>\n",
       "      <td>231.406267742</td>\n",
       "      <td>0</td>\n",
       "      <td>False</td>\n",
       "      <td>0xd50a241bdfa973b13a66cf90cbd847645b6638a93cbf...</td>\n",
       "      <td>4</td>\n",
       "    </tr>\n",
       "  </tbody>\n",
       "</table>\n",
       "</div>"
      ],
      "text/plain": [
       "            block_timestamp event_name  \\\n",
       "0  2023-09-28T06:53:59.000Z     Staked   \n",
       "1  2023-09-28T06:45:59.000Z     Staked   \n",
       "2  2023-09-28T06:29:35.000Z     Staked   \n",
       "3  2023-09-28T06:25:35.000Z     Staked   \n",
       "4  2023-09-28T06:01:11.000Z     Staked   \n",
       "\n",
       "                                         user      _epoch   locked_amount  \\\n",
       "0  0xd334533980c201c1b93e39bbe6bd1e04be5c0f5d  1696464000  1876.080585521   \n",
       "1  0xd683ca4ee6327cf09cb51adc8236aafea9493cd1  1696464000  2189.366909445   \n",
       "2  0x0961f86626e297450073048a2c2ad9657fe56fbe  1695859200  2964.318996663   \n",
       "3  0x7d354d291a7e750672bc9002c2323a112f9de719  1695859200          1030.0   \n",
       "4  0x7423fab4f4835ebdaa204c1e439792c7a75cb3f9  1695859200   231.406267742   \n",
       "\n",
       "   boosted_amount     paid_amount withdrawn_amount relocked  \\\n",
       "0  1876.080585521  1876.080585521                0    False   \n",
       "1  2189.366909445  2189.366909445                0    False   \n",
       "2  2964.318996663  2964.318996663                0    False   \n",
       "3          1030.0          1030.0                0    False   \n",
       "4   231.406267742   231.406267742                0    False   \n",
       "\n",
       "                                             tx_hash __row_index  \n",
       "0  0xa08fb5686be2eee0bca1bc09cefa1faea3062114639e...           0  \n",
       "1  0x21edc20ec7f21019e6158cc3f4518ca43740b509d64c...           1  \n",
       "2  0xee34ae33271c454ecb9e22c35d6faf794014c757a71a...           2  \n",
       "3  0xe8902e2cf639efbc27c5d1e86db2bb7ca6a6021d0dd5...           3  \n",
       "4  0xd50a241bdfa973b13a66cf90cbd847645b6638a93cbf...           4  "
      ]
     },
     "execution_count": 10,
     "metadata": {},
     "output_type": "execute_result"
    }
   ],
   "source": [
    "df_locker.head(5)"
   ]
  },
  {
   "cell_type": "code",
   "execution_count": 11,
   "metadata": {},
   "outputs": [],
   "source": [
    "for i, row in df_locker.iterrows():\n",
    "    if row['locked_amount'] != row['boosted_amount']:\n",
    "        print( f\"locked: {row['locked_amount']} \\nboosted: {row['boosted_amount']}\")\n",
    "    if row['locked_amount'] != row['paid_amount']:\n",
    "        print( f\"locked: {row['locked_amount']} \\paid:\\t {row['paid_amount']}\")"
   ]
  },
  {
   "cell_type": "code",
   "execution_count": 12,
   "metadata": {},
   "outputs": [
    {
     "data": {
      "text/html": [
       "<div>\n",
       "<style scoped>\n",
       "    .dataframe tbody tr th:only-of-type {\n",
       "        vertical-align: middle;\n",
       "    }\n",
       "\n",
       "    .dataframe tbody tr th {\n",
       "        vertical-align: top;\n",
       "    }\n",
       "\n",
       "    .dataframe thead th {\n",
       "        text-align: right;\n",
       "    }\n",
       "</style>\n",
       "<table border=\"1\" class=\"dataframe\">\n",
       "  <thead>\n",
       "    <tr style=\"text-align: right;\">\n",
       "      <th></th>\n",
       "      <th>proposal_title</th>\n",
       "      <th>voter</th>\n",
       "      <th>known_as</th>\n",
       "      <th>choice</th>\n",
       "      <th>choice_index</th>\n",
       "      <th>voting_weight</th>\n",
       "      <th>total_weight</th>\n",
       "      <th>choice_percent</th>\n",
       "      <th>available_power</th>\n",
       "      <th>choice_power</th>\n",
       "      <th>timestamp</th>\n",
       "      <th>proposal_start</th>\n",
       "      <th>proposal_end</th>\n",
       "      <th>period_end_date</th>\n",
       "      <th>period</th>\n",
       "      <th>valid</th>\n",
       "      <th>vote_id</th>\n",
       "      <th>gauge_addr</th>\n",
       "      <th></th>\n",
       "    </tr>\n",
       "  </thead>\n",
       "  <tbody>\n",
       "    <tr>\n",
       "      <th>0</th>\n",
       "      <td>Gauge Weight for Week of 22nd Dec 2022</td>\n",
       "      <td>0x79e76c14b3bb6236dfc06d2d7ff219c8b070169c</td>\n",
       "      <td>Reserve Delegate 1</td>\n",
       "      <td>RSR+FRAXBP (0x6a62…)</td>\n",
       "      <td>110</td>\n",
       "      <td>100.0</td>\n",
       "      <td>100.0</td>\n",
       "      <td>1.0</td>\n",
       "      <td>968449.0</td>\n",
       "      <td>968449.0</td>\n",
       "      <td>2022-12-22 00:02:56.000</td>\n",
       "      <td>2022-12-22 00:00:25.000</td>\n",
       "      <td>2022-12-27 00:00:25.000</td>\n",
       "      <td>2022-12-29</td>\n",
       "      <td>2022.52</td>\n",
       "      <td>True</td>\n",
       "      <td>0</td>\n",
       "      <td>0xcf79921d99b99fee3dcf1a4657fcda95195b46d1</td>\n",
       "      <td>NaN</td>\n",
       "    </tr>\n",
       "    <tr>\n",
       "      <th>711</th>\n",
       "      <td>Gauge Weight for Week of 22nd Dec 2022</td>\n",
       "      <td>0xc8e33e8b915f953ada2fbcd64fc28ea725125602</td>\n",
       "      <td>_</td>\n",
       "      <td>BUSD+FRAXBP (0x8fdb…)</td>\n",
       "      <td>92</td>\n",
       "      <td>1.0</td>\n",
       "      <td>1.0</td>\n",
       "      <td>1.0</td>\n",
       "      <td>6253.0</td>\n",
       "      <td>6253.0</td>\n",
       "      <td>2022-12-26 13:40:28.000</td>\n",
       "      <td>2022-12-22 00:00:25.000</td>\n",
       "      <td>2022-12-27 00:00:25.000</td>\n",
       "      <td>2022-12-29</td>\n",
       "      <td>2022.52</td>\n",
       "      <td>True</td>\n",
       "      <td>485</td>\n",
       "      <td>0xaeac6dcd12cc0be74c8f99efe4bb5205a1f9a608</td>\n",
       "      <td>NaN</td>\n",
       "    </tr>\n",
       "    <tr>\n",
       "      <th>712</th>\n",
       "      <td>Gauge Weight for Week of 22nd Dec 2022</td>\n",
       "      <td>0x41b9f4c5810a2c13629e240e81bfccaf1a864348</td>\n",
       "      <td>_</td>\n",
       "      <td>CRV+cvxCRV (0x9D04…)</td>\n",
       "      <td>33</td>\n",
       "      <td>1.0</td>\n",
       "      <td>1.0</td>\n",
       "      <td>1.0</td>\n",
       "      <td>669.0</td>\n",
       "      <td>669.0</td>\n",
       "      <td>2022-12-26 13:44:14.000</td>\n",
       "      <td>2022-12-22 00:00:25.000</td>\n",
       "      <td>2022-12-27 00:00:25.000</td>\n",
       "      <td>2022-12-29</td>\n",
       "      <td>2022.52</td>\n",
       "      <td>True</td>\n",
       "      <td>486</td>\n",
       "      <td>0x903da6213a5a12b61c821598154efad98c3b20e4</td>\n",
       "      <td>NaN</td>\n",
       "    </tr>\n",
       "    <tr>\n",
       "      <th>713</th>\n",
       "      <td>Gauge Weight for Week of 22nd Dec 2022</td>\n",
       "      <td>0x9c570be42ad43c251a1997fe9e231d742358c386</td>\n",
       "      <td>_</td>\n",
       "      <td>FRAX+3Crv (0xd632…)</td>\n",
       "      <td>25</td>\n",
       "      <td>1.0</td>\n",
       "      <td>1.0</td>\n",
       "      <td>1.0</td>\n",
       "      <td>6419.0</td>\n",
       "      <td>6419.0</td>\n",
       "      <td>2022-12-26 13:48:12.000</td>\n",
       "      <td>2022-12-22 00:00:25.000</td>\n",
       "      <td>2022-12-27 00:00:25.000</td>\n",
       "      <td>2022-12-29</td>\n",
       "      <td>2022.52</td>\n",
       "      <td>True</td>\n",
       "      <td>487</td>\n",
       "      <td>0x72e158d38dbd50a483501c24f792bdaaa3e7d55c</td>\n",
       "      <td>NaN</td>\n",
       "    </tr>\n",
       "    <tr>\n",
       "      <th>714</th>\n",
       "      <td>Gauge Weight for Week of 22nd Dec 2022</td>\n",
       "      <td>0x5c7fce16aef068cc7d35cb8d9a880dd36809bf72</td>\n",
       "      <td>_</td>\n",
       "      <td>FRAX+3Crv (0xd632…)</td>\n",
       "      <td>25</td>\n",
       "      <td>1.0</td>\n",
       "      <td>1.0</td>\n",
       "      <td>1.0</td>\n",
       "      <td>817.0</td>\n",
       "      <td>817.0</td>\n",
       "      <td>2022-12-26 13:49:11.000</td>\n",
       "      <td>2022-12-22 00:00:25.000</td>\n",
       "      <td>2022-12-27 00:00:25.000</td>\n",
       "      <td>2022-12-29</td>\n",
       "      <td>2022.52</td>\n",
       "      <td>True</td>\n",
       "      <td>488</td>\n",
       "      <td>0x72e158d38dbd50a483501c24f792bdaaa3e7d55c</td>\n",
       "      <td>NaN</td>\n",
       "    </tr>\n",
       "  </tbody>\n",
       "</table>\n",
       "</div>"
      ],
      "text/plain": [
       "                             proposal_title  \\\n",
       "0    Gauge Weight for Week of 22nd Dec 2022   \n",
       "711  Gauge Weight for Week of 22nd Dec 2022   \n",
       "712  Gauge Weight for Week of 22nd Dec 2022   \n",
       "713  Gauge Weight for Week of 22nd Dec 2022   \n",
       "714  Gauge Weight for Week of 22nd Dec 2022   \n",
       "\n",
       "                                          voter            known_as  \\\n",
       "0    0x79e76c14b3bb6236dfc06d2d7ff219c8b070169c  Reserve Delegate 1   \n",
       "711  0xc8e33e8b915f953ada2fbcd64fc28ea725125602                   _   \n",
       "712  0x41b9f4c5810a2c13629e240e81bfccaf1a864348                   _   \n",
       "713  0x9c570be42ad43c251a1997fe9e231d742358c386                   _   \n",
       "714  0x5c7fce16aef068cc7d35cb8d9a880dd36809bf72                   _   \n",
       "\n",
       "                    choice  choice_index  voting_weight  total_weight  \\\n",
       "0     RSR+FRAXBP (0x6a62…)           110          100.0         100.0   \n",
       "711  BUSD+FRAXBP (0x8fdb…)            92            1.0           1.0   \n",
       "712   CRV+cvxCRV (0x9D04…)            33            1.0           1.0   \n",
       "713    FRAX+3Crv (0xd632…)            25            1.0           1.0   \n",
       "714    FRAX+3Crv (0xd632…)            25            1.0           1.0   \n",
       "\n",
       "     choice_percent  available_power  choice_power                timestamp  \\\n",
       "0               1.0         968449.0      968449.0  2022-12-22 00:02:56.000   \n",
       "711             1.0           6253.0        6253.0  2022-12-26 13:40:28.000   \n",
       "712             1.0            669.0         669.0  2022-12-26 13:44:14.000   \n",
       "713             1.0           6419.0        6419.0  2022-12-26 13:48:12.000   \n",
       "714             1.0            817.0         817.0  2022-12-26 13:49:11.000   \n",
       "\n",
       "              proposal_start             proposal_end period_end_date  \\\n",
       "0    2022-12-22 00:00:25.000  2022-12-27 00:00:25.000      2022-12-29   \n",
       "711  2022-12-22 00:00:25.000  2022-12-27 00:00:25.000      2022-12-29   \n",
       "712  2022-12-22 00:00:25.000  2022-12-27 00:00:25.000      2022-12-29   \n",
       "713  2022-12-22 00:00:25.000  2022-12-27 00:00:25.000      2022-12-29   \n",
       "714  2022-12-22 00:00:25.000  2022-12-27 00:00:25.000      2022-12-29   \n",
       "\n",
       "      period  valid vote_id                                  gauge_addr       \n",
       "0    2022.52   True       0  0xcf79921d99b99fee3dcf1a4657fcda95195b46d1  NaN  \n",
       "711  2022.52   True     485  0xaeac6dcd12cc0be74c8f99efe4bb5205a1f9a608  NaN  \n",
       "712  2022.52   True     486  0x903da6213a5a12b61c821598154efad98c3b20e4  NaN  \n",
       "713  2022.52   True     487  0x72e158d38dbd50a483501c24f792bdaaa3e7d55c  NaN  \n",
       "714  2022.52   True     488  0x72e158d38dbd50a483501c24f792bdaaa3e7d55c  NaN  "
      ]
     },
     "execution_count": 12,
     "metadata": {},
     "output_type": "execute_result"
    }
   ],
   "source": [
    "df_convex_snapshot_vote_choice.head(5)"
   ]
  },
  {
   "cell_type": "code",
   "execution_count": 13,
   "metadata": {},
   "outputs": [],
   "source": [
    "# def get_date_obj(time):\n",
    "#     if type(time) == str:\n",
    "#         if 'T' in time:\n",
    "#             try:\n",
    "#                 split = time.split(\"T\")\n",
    "#                 time = split[0]+\" \"+split[1][:-1]\n",
    "#                 # row['block_timestamp'] = dt.strptime(row['block_timestamp'], '%Y-%m-%d %H:%M:%S.%f'),\n",
    "#             except:\n",
    "#                 pass\n",
    "#         try:\n",
    "#             time = dt.strptime(time,'%Y-%m-%d %H:%M:%S.%f')\n",
    "#         except:\n",
    "#             time = dt.strptime(time,'%Y-%m-%d %H:%M:%S')      \n",
    "#     return time"
   ]
  },
  {
   "cell_type": "markdown",
   "metadata": {},
   "source": [
    "# Process Convex Locker"
   ]
  },
  {
   "cell_type": "code",
   "execution_count": 14,
   "metadata": {},
   "outputs": [],
   "source": [
    "class ProcessConvexLocker():\n",
    "    def __init__(self, df_locker):\n",
    "        self.df_locker = df_locker\n",
    "        # self.df_locker_aggregate = []\n",
    "        \n",
    "        self.df_user_epoch = []\n",
    "        self.df_aggregate_user_epoch = []\n",
    "        self.df_aggregate_system = []\n",
    "        self.df_aggregate_epoch = []\n",
    "        self.df_aggregate_epoch_current = []\n",
    "        self.process()\n",
    "        self.process_user_epoch()\n",
    "        self.process_aggregate_user_epoch()\n",
    "        self.process_aggregate_system()\n",
    "        self.process_aggregate_epoch()\n",
    "\n",
    "    def process(self):\n",
    "        self.df_locker['locked_amount'] = self.df_locker['locked_amount'].astype(float)\n",
    "        self.df_locker['epoch_start'] = self.df_locker['_epoch'].apply(get_dt_from_timestamp)\n",
    "        self.df_locker['epoch_end'] = self.df_locker['epoch_start'].apply(lambda x: shift_time_days(x,16*7))\n",
    "        self.df_locker['known_as'] = self.df_locker['user'].apply(lambda x: self.known_as(x))\n",
    "        self.df_locker['display_name'] = self.df_locker.apply(lambda x: self.display_name(x['user'], x['known_as']), axis=1)\n",
    "    \n",
    "    def known_as(self, user):\n",
    "        if user in known_large_cvx_holders_addresses:\n",
    "            return known_large_cvx_holders_addresses[user]\n",
    "        else:\n",
    "            return \"_\"\n",
    "\n",
    "\n",
    "    def display_name(self, user, known_as ):\n",
    "        # print(user)\n",
    "        # print(known_as)\n",
    "        if known_as:\n",
    "            return f\"{known_as} ({user[:6]})\"\n",
    "        else:\n",
    "            return f\"({user[:6]})\"\n",
    "\n",
    "    # Calculate total balance for individual locks at each epoch per user\n",
    "    def process_user_epoch(self, df=[]):\n",
    "        if len(df) == 0:\n",
    "            df = self.df_locker\n",
    "        furthest_epoch = df.epoch_end.max()\n",
    "        this_epoch = df.epoch_start.min()\n",
    "        local_list = []\n",
    "        while this_epoch <= furthest_epoch:\n",
    "            df_local = df[df['epoch_start']<= this_epoch ]\n",
    "            df_local = df_local[df_local['epoch_end']> this_epoch ]\n",
    "            df_local = df_local.groupby([\n",
    "                    'epoch_start', 'epoch_end', 'user', 'known_as', 'display_name',\n",
    "                ])['locked_amount'].agg(['sum', 'count']).reset_index()\n",
    "            df_local = df_local.rename(columns={\n",
    "                        \"sum\": 'current_locked',\n",
    "                        \"count\": 'lock_count'\n",
    "                        })\n",
    "            df_local['this_epoch'] = this_epoch\n",
    "            local_list.append(df_local)\n",
    "            this_epoch = shift_time_days(this_epoch, 7)\n",
    "        self.df_user_epoch = pd.concat(local_list)\n",
    "        return\n",
    "    \n",
    "    # Calculate total balance of locks at each epoch per user\n",
    "    def process_aggregate_user_epoch(self):\n",
    "        self.df_aggregate_user_epoch = self.df_user_epoch.groupby([\n",
    "                'this_epoch', 'user', 'known_as', 'display_name'\n",
    "            ]).agg(\n",
    "            current_locked=pd.NamedAgg(column='current_locked', aggfunc=sum),\n",
    "            lock_count=pd.NamedAgg(column='lock_count', aggfunc=sum)\n",
    "        ).reset_index()\n",
    "        return\n",
    "    \n",
    "    # Calculate total locked per epoch (sum all locks within an epoch)\n",
    "    # And create filter for only currently locked epochs\n",
    "    def process_aggregate_epoch(self):\n",
    "        self.df_aggregate_epoch = self.df_locker.groupby([\n",
    "                'epoch_start',\n",
    "                'epoch_end',\n",
    "            ]).agg(\n",
    "            locked_amount=pd.NamedAgg(column='locked_amount', aggfunc=sum),\n",
    "            lock_count=pd.NamedAgg(column='tx_hash', aggfunc=lambda x: len(x.unique())\n",
    "        )).reset_index()\n",
    "        now_epoch = self.df_aggregate_epoch[self.df_aggregate_epoch['epoch_start'] <= dt.now()].epoch_start.max()\n",
    "        temp = self.df_aggregate_epoch \n",
    "        self.df_aggregate_epoch_current = self.df_aggregate_epoch[self.df_aggregate_epoch['epoch_end'] >= now_epoch]\n",
    "        return\n",
    "    \n",
    "    \n",
    "    # Calculate total locked each epoch (sum all currently active epochs) \n",
    "    def process_aggregate_system(self):\n",
    "        self.df_aggregate_system = self.df_aggregate_user_epoch.groupby([\n",
    "                'this_epoch',\n",
    "            ]).agg(\n",
    "            total_locked=pd.NamedAgg(column='current_locked', aggfunc=sum),\n",
    "            lock_count=pd.NamedAgg(column='lock_count', aggfunc=sum)\n",
    "        ).reset_index()\n",
    "        return"
   ]
  },
  {
   "cell_type": "code",
   "execution_count": 15,
   "metadata": {},
   "outputs": [],
   "source": [
    "pcl = ProcessConvexLocker(df_locker)\n",
    "pcl_base = pcl.df_locker\n",
    "pcl_user = pcl.df_user_epoch\n",
    "pcl_agg_user = pcl.df_aggregate_user_epoch\n",
    "pcl_agg_system = pcl.df_aggregate_system\n",
    "pcl_agg_epoch = pcl.df_aggregate_epoch\n",
    "pcl_agg_current = pcl.df_aggregate_epoch_current"
   ]
  },
  {
   "cell_type": "code",
   "execution_count": 16,
   "metadata": {},
   "outputs": [
    {
     "data": {
      "text/plain": [
       "array(['_ (0x0000)', '_ (0x0001)', '_ (0x0022)', ..., '_ (0xb7b5)',\n",
       "       '_ (0xcc5d)', '_ (0xdc40)'], dtype=object)"
      ]
     },
     "execution_count": 16,
     "metadata": {},
     "output_type": "execute_result"
    }
   ],
   "source": [
    "pcl_agg_user.display_name.unique()"
   ]
  },
  {
   "cell_type": "code",
   "execution_count": 17,
   "metadata": {},
   "outputs": [
    {
     "data": {
      "text/html": [
       "<div>\n",
       "<style scoped>\n",
       "    .dataframe tbody tr th:only-of-type {\n",
       "        vertical-align: middle;\n",
       "    }\n",
       "\n",
       "    .dataframe tbody tr th {\n",
       "        vertical-align: top;\n",
       "    }\n",
       "\n",
       "    .dataframe thead th {\n",
       "        text-align: right;\n",
       "    }\n",
       "</style>\n",
       "<table border=\"1\" class=\"dataframe\">\n",
       "  <thead>\n",
       "    <tr style=\"text-align: right;\">\n",
       "      <th></th>\n",
       "      <th>epoch_start</th>\n",
       "      <th>epoch_end</th>\n",
       "      <th>user</th>\n",
       "      <th>known_as</th>\n",
       "      <th>display_name</th>\n",
       "      <th>current_locked</th>\n",
       "      <th>lock_count</th>\n",
       "      <th>this_epoch</th>\n",
       "    </tr>\n",
       "  </thead>\n",
       "  <tbody>\n",
       "    <tr>\n",
       "      <th>0</th>\n",
       "      <td>2022-03-09 19:00:00</td>\n",
       "      <td>2022-06-29 19:00:00</td>\n",
       "      <td>0x000000e28faa823d5b53ff6c2922c28335840375</td>\n",
       "      <td>_</td>\n",
       "      <td>_ (0x0000)</td>\n",
       "      <td>324.918501</td>\n",
       "      <td>1</td>\n",
       "      <td>2022-03-09 19:00:00</td>\n",
       "    </tr>\n",
       "    <tr>\n",
       "      <th>1</th>\n",
       "      <td>2022-03-09 19:00:00</td>\n",
       "      <td>2022-06-29 19:00:00</td>\n",
       "      <td>0x0001f85d5eecc0a176e6197690baa3e62bde35c5</td>\n",
       "      <td>_</td>\n",
       "      <td>_ (0x0001)</td>\n",
       "      <td>305.915552</td>\n",
       "      <td>1</td>\n",
       "      <td>2022-03-09 19:00:00</td>\n",
       "    </tr>\n",
       "    <tr>\n",
       "      <th>2</th>\n",
       "      <td>2022-03-09 19:00:00</td>\n",
       "      <td>2022-06-29 19:00:00</td>\n",
       "      <td>0x0022e00560d1fd651e71df08d98edc028e3baf1a</td>\n",
       "      <td>_</td>\n",
       "      <td>_ (0x0022)</td>\n",
       "      <td>314.741854</td>\n",
       "      <td>1</td>\n",
       "      <td>2022-03-09 19:00:00</td>\n",
       "    </tr>\n",
       "    <tr>\n",
       "      <th>3</th>\n",
       "      <td>2022-03-09 19:00:00</td>\n",
       "      <td>2022-06-29 19:00:00</td>\n",
       "      <td>0x00329e92ed6fd0a0ef76da9c476d51faeb6b26a0</td>\n",
       "      <td>_</td>\n",
       "      <td>_ (0x0032)</td>\n",
       "      <td>4171.922151</td>\n",
       "      <td>1</td>\n",
       "      <td>2022-03-09 19:00:00</td>\n",
       "    </tr>\n",
       "    <tr>\n",
       "      <th>4</th>\n",
       "      <td>2022-03-09 19:00:00</td>\n",
       "      <td>2022-06-29 19:00:00</td>\n",
       "      <td>0x0034daf2e65f6ef82bc6f893dbbfd7c232a0e59c</td>\n",
       "      <td>_</td>\n",
       "      <td>_ (0x0034)</td>\n",
       "      <td>2659.555116</td>\n",
       "      <td>1</td>\n",
       "      <td>2022-03-09 19:00:00</td>\n",
       "    </tr>\n",
       "    <tr>\n",
       "      <th>...</th>\n",
       "      <td>...</td>\n",
       "      <td>...</td>\n",
       "      <td>...</td>\n",
       "      <td>...</td>\n",
       "      <td>...</td>\n",
       "      <td>...</td>\n",
       "      <td>...</td>\n",
       "      <td>...</td>\n",
       "    </tr>\n",
       "    <tr>\n",
       "      <th>103</th>\n",
       "      <td>2023-11-01 20:00:00</td>\n",
       "      <td>2024-02-21 20:00:00</td>\n",
       "      <td>0xf7ad9373968678708f8cb4f1fb398bc453ca95f1</td>\n",
       "      <td>_</td>\n",
       "      <td>_ (0xf7ad)</td>\n",
       "      <td>64.679999</td>\n",
       "      <td>1</td>\n",
       "      <td>2024-02-21 19:00:00</td>\n",
       "    </tr>\n",
       "    <tr>\n",
       "      <th>104</th>\n",
       "      <td>2023-11-01 20:00:00</td>\n",
       "      <td>2024-02-21 20:00:00</td>\n",
       "      <td>0xf978778ce55cee6e88f123138a442c099c90cd60</td>\n",
       "      <td>_</td>\n",
       "      <td>_ (0xf978)</td>\n",
       "      <td>3662.739976</td>\n",
       "      <td>3</td>\n",
       "      <td>2024-02-21 19:00:00</td>\n",
       "    </tr>\n",
       "    <tr>\n",
       "      <th>105</th>\n",
       "      <td>2023-11-01 20:00:00</td>\n",
       "      <td>2024-02-21 20:00:00</td>\n",
       "      <td>0xfb9e5f5874565a6ef8fcf1debc4975501331a8ca</td>\n",
       "      <td>_</td>\n",
       "      <td>_ (0xfb9e)</td>\n",
       "      <td>692.569837</td>\n",
       "      <td>1</td>\n",
       "      <td>2024-02-21 19:00:00</td>\n",
       "    </tr>\n",
       "    <tr>\n",
       "      <th>106</th>\n",
       "      <td>2023-11-01 20:00:00</td>\n",
       "      <td>2024-02-21 20:00:00</td>\n",
       "      <td>0xfcc02be09628a0a5e69d349e3a6f98d9aa18e707</td>\n",
       "      <td>_</td>\n",
       "      <td>_ (0xfcc0)</td>\n",
       "      <td>83445.658719</td>\n",
       "      <td>1</td>\n",
       "      <td>2024-02-21 19:00:00</td>\n",
       "    </tr>\n",
       "    <tr>\n",
       "      <th>107</th>\n",
       "      <td>2023-11-01 20:00:00</td>\n",
       "      <td>2024-02-21 20:00:00</td>\n",
       "      <td>0xff3bd22870c5c4d097619d75d7e2be056581b013</td>\n",
       "      <td>_</td>\n",
       "      <td>_ (0xff3b)</td>\n",
       "      <td>262.763668</td>\n",
       "      <td>1</td>\n",
       "      <td>2024-02-21 19:00:00</td>\n",
       "    </tr>\n",
       "  </tbody>\n",
       "</table>\n",
       "<p>614656 rows × 8 columns</p>\n",
       "</div>"
      ],
      "text/plain": [
       "            epoch_start           epoch_end  \\\n",
       "0   2022-03-09 19:00:00 2022-06-29 19:00:00   \n",
       "1   2022-03-09 19:00:00 2022-06-29 19:00:00   \n",
       "2   2022-03-09 19:00:00 2022-06-29 19:00:00   \n",
       "3   2022-03-09 19:00:00 2022-06-29 19:00:00   \n",
       "4   2022-03-09 19:00:00 2022-06-29 19:00:00   \n",
       "..                  ...                 ...   \n",
       "103 2023-11-01 20:00:00 2024-02-21 20:00:00   \n",
       "104 2023-11-01 20:00:00 2024-02-21 20:00:00   \n",
       "105 2023-11-01 20:00:00 2024-02-21 20:00:00   \n",
       "106 2023-11-01 20:00:00 2024-02-21 20:00:00   \n",
       "107 2023-11-01 20:00:00 2024-02-21 20:00:00   \n",
       "\n",
       "                                           user known_as display_name  \\\n",
       "0    0x000000e28faa823d5b53ff6c2922c28335840375        _   _ (0x0000)   \n",
       "1    0x0001f85d5eecc0a176e6197690baa3e62bde35c5        _   _ (0x0001)   \n",
       "2    0x0022e00560d1fd651e71df08d98edc028e3baf1a        _   _ (0x0022)   \n",
       "3    0x00329e92ed6fd0a0ef76da9c476d51faeb6b26a0        _   _ (0x0032)   \n",
       "4    0x0034daf2e65f6ef82bc6f893dbbfd7c232a0e59c        _   _ (0x0034)   \n",
       "..                                          ...      ...          ...   \n",
       "103  0xf7ad9373968678708f8cb4f1fb398bc453ca95f1        _   _ (0xf7ad)   \n",
       "104  0xf978778ce55cee6e88f123138a442c099c90cd60        _   _ (0xf978)   \n",
       "105  0xfb9e5f5874565a6ef8fcf1debc4975501331a8ca        _   _ (0xfb9e)   \n",
       "106  0xfcc02be09628a0a5e69d349e3a6f98d9aa18e707        _   _ (0xfcc0)   \n",
       "107  0xff3bd22870c5c4d097619d75d7e2be056581b013        _   _ (0xff3b)   \n",
       "\n",
       "     current_locked  lock_count          this_epoch  \n",
       "0        324.918501           1 2022-03-09 19:00:00  \n",
       "1        305.915552           1 2022-03-09 19:00:00  \n",
       "2        314.741854           1 2022-03-09 19:00:00  \n",
       "3       4171.922151           1 2022-03-09 19:00:00  \n",
       "4       2659.555116           1 2022-03-09 19:00:00  \n",
       "..              ...         ...                 ...  \n",
       "103       64.679999           1 2024-02-21 19:00:00  \n",
       "104     3662.739976           3 2024-02-21 19:00:00  \n",
       "105      692.569837           1 2024-02-21 19:00:00  \n",
       "106    83445.658719           1 2024-02-21 19:00:00  \n",
       "107      262.763668           1 2024-02-21 19:00:00  \n",
       "\n",
       "[614656 rows x 8 columns]"
      ]
     },
     "execution_count": 17,
     "metadata": {},
     "output_type": "execute_result"
    }
   ],
   "source": [
    "pcl_user\n"
   ]
  },
  {
   "cell_type": "code",
   "execution_count": 18,
   "metadata": {},
   "outputs": [
    {
     "data": {
      "application/vnd.plotly.v1+json": {
       "config": {
        "plotlyServerURL": "https://plot.ly"
       },
       "data": [
        {
         "name": "Locked",
         "type": "bar",
         "x": [
          "2023-07-12T20:00:00",
          "2023-07-19T20:00:00",
          "2023-07-26T20:00:00",
          "2023-08-02T20:00:00",
          "2023-08-09T20:00:00",
          "2023-08-16T20:00:00",
          "2023-08-23T20:00:00",
          "2023-08-30T20:00:00",
          "2023-09-06T20:00:00",
          "2023-09-13T20:00:00",
          "2023-09-20T20:00:00",
          "2023-09-27T20:00:00",
          "2023-10-04T20:00:00",
          "2023-10-11T20:00:00",
          "2023-10-18T20:00:00",
          "2023-10-25T20:00:00",
          "2023-11-01T20:00:00"
         ],
         "xaxis": "x",
         "y": [
          1732618.9160070082,
          3023806.6352807092,
          2855289.9680089527,
          2454695.852679216,
          1590237.6131216623,
          2273510.7262717164,
          1341957.8281946583,
          1633076.1052619163,
          2522789.840088511,
          2165424.5471235705,
          6169809.0632449025,
          6932292.238056662,
          4000529.835701629,
          5102460.051469658,
          3667293.6578077273,
          3500519.489650455,
          1123161.027177486
         ],
         "yaxis": "y"
        },
        {
         "name": "Withdrawn",
         "type": "bar",
         "x": [
          "2023-11-01T20:00:00",
          "2023-11-08T20:00:00",
          "2023-11-15T20:00:00",
          "2023-11-22T20:00:00",
          "2023-11-29T20:00:00",
          "2023-12-06T20:00:00",
          "2023-12-13T20:00:00",
          "2023-12-20T20:00:00",
          "2023-12-27T20:00:00",
          "2024-01-03T20:00:00",
          "2024-01-10T20:00:00",
          "2024-01-17T20:00:00",
          "2024-01-24T20:00:00",
          "2024-01-31T20:00:00",
          "2024-02-07T20:00:00",
          "2024-02-14T20:00:00",
          "2024-02-21T20:00:00"
         ],
         "y": [
          1732618.9160070082,
          3023806.6352807092,
          2855289.9680089527,
          2454695.852679216,
          1590237.6131216623,
          2273510.7262717164,
          1341957.8281946583,
          1633076.1052619163,
          2522789.840088511,
          2165424.5471235705,
          6169809.0632449025,
          6932292.238056662,
          4000529.835701629,
          5102460.051469658,
          3667293.6578077273,
          3500519.489650455,
          1123161.027177486
         ]
        }
       ],
       "layout": {
        "autotypenumbers": "convert types",
        "font": {
         "color": "RebeccaPurple",
         "family": "Courier New, monospace",
         "size": 18
        },
        "shapes": [
         {
          "line": {
           "color": "black",
           "dash": "dash",
           "width": 2
          },
          "type": "line",
          "x0": "2023-11-03T04:33:02.266224",
          "x1": "2023-11-03T04:33:02.266224",
          "xref": "x",
          "y0": 0,
          "y1": 1,
          "yref": "y domain"
         }
        ],
        "template": {
         "data": {
          "bar": [
           {
            "error_x": {
             "color": "#2a3f5f"
            },
            "error_y": {
             "color": "#2a3f5f"
            },
            "marker": {
             "line": {
              "color": "#E5ECF6",
              "width": 0.5
             }
            },
            "type": "bar"
           }
          ],
          "barpolar": [
           {
            "marker": {
             "line": {
              "color": "#E5ECF6",
              "width": 0.5
             }
            },
            "type": "barpolar"
           }
          ],
          "carpet": [
           {
            "aaxis": {
             "endlinecolor": "#2a3f5f",
             "gridcolor": "white",
             "linecolor": "white",
             "minorgridcolor": "white",
             "startlinecolor": "#2a3f5f"
            },
            "baxis": {
             "endlinecolor": "#2a3f5f",
             "gridcolor": "white",
             "linecolor": "white",
             "minorgridcolor": "white",
             "startlinecolor": "#2a3f5f"
            },
            "type": "carpet"
           }
          ],
          "choropleth": [
           {
            "colorbar": {
             "outlinewidth": 0,
             "ticks": ""
            },
            "type": "choropleth"
           }
          ],
          "contour": [
           {
            "colorbar": {
             "outlinewidth": 0,
             "ticks": ""
            },
            "colorscale": [
             [
              0,
              "#0d0887"
             ],
             [
              0.1111111111111111,
              "#46039f"
             ],
             [
              0.2222222222222222,
              "#7201a8"
             ],
             [
              0.3333333333333333,
              "#9c179e"
             ],
             [
              0.4444444444444444,
              "#bd3786"
             ],
             [
              0.5555555555555556,
              "#d8576b"
             ],
             [
              0.6666666666666666,
              "#ed7953"
             ],
             [
              0.7777777777777778,
              "#fb9f3a"
             ],
             [
              0.8888888888888888,
              "#fdca26"
             ],
             [
              1,
              "#f0f921"
             ]
            ],
            "type": "contour"
           }
          ],
          "contourcarpet": [
           {
            "colorbar": {
             "outlinewidth": 0,
             "ticks": ""
            },
            "type": "contourcarpet"
           }
          ],
          "heatmap": [
           {
            "colorbar": {
             "outlinewidth": 0,
             "ticks": ""
            },
            "colorscale": [
             [
              0,
              "#0d0887"
             ],
             [
              0.1111111111111111,
              "#46039f"
             ],
             [
              0.2222222222222222,
              "#7201a8"
             ],
             [
              0.3333333333333333,
              "#9c179e"
             ],
             [
              0.4444444444444444,
              "#bd3786"
             ],
             [
              0.5555555555555556,
              "#d8576b"
             ],
             [
              0.6666666666666666,
              "#ed7953"
             ],
             [
              0.7777777777777778,
              "#fb9f3a"
             ],
             [
              0.8888888888888888,
              "#fdca26"
             ],
             [
              1,
              "#f0f921"
             ]
            ],
            "type": "heatmap"
           }
          ],
          "heatmapgl": [
           {
            "colorbar": {
             "outlinewidth": 0,
             "ticks": ""
            },
            "colorscale": [
             [
              0,
              "#0d0887"
             ],
             [
              0.1111111111111111,
              "#46039f"
             ],
             [
              0.2222222222222222,
              "#7201a8"
             ],
             [
              0.3333333333333333,
              "#9c179e"
             ],
             [
              0.4444444444444444,
              "#bd3786"
             ],
             [
              0.5555555555555556,
              "#d8576b"
             ],
             [
              0.6666666666666666,
              "#ed7953"
             ],
             [
              0.7777777777777778,
              "#fb9f3a"
             ],
             [
              0.8888888888888888,
              "#fdca26"
             ],
             [
              1,
              "#f0f921"
             ]
            ],
            "type": "heatmapgl"
           }
          ],
          "histogram": [
           {
            "marker": {
             "colorbar": {
              "outlinewidth": 0,
              "ticks": ""
             }
            },
            "type": "histogram"
           }
          ],
          "histogram2d": [
           {
            "colorbar": {
             "outlinewidth": 0,
             "ticks": ""
            },
            "colorscale": [
             [
              0,
              "#0d0887"
             ],
             [
              0.1111111111111111,
              "#46039f"
             ],
             [
              0.2222222222222222,
              "#7201a8"
             ],
             [
              0.3333333333333333,
              "#9c179e"
             ],
             [
              0.4444444444444444,
              "#bd3786"
             ],
             [
              0.5555555555555556,
              "#d8576b"
             ],
             [
              0.6666666666666666,
              "#ed7953"
             ],
             [
              0.7777777777777778,
              "#fb9f3a"
             ],
             [
              0.8888888888888888,
              "#fdca26"
             ],
             [
              1,
              "#f0f921"
             ]
            ],
            "type": "histogram2d"
           }
          ],
          "histogram2dcontour": [
           {
            "colorbar": {
             "outlinewidth": 0,
             "ticks": ""
            },
            "colorscale": [
             [
              0,
              "#0d0887"
             ],
             [
              0.1111111111111111,
              "#46039f"
             ],
             [
              0.2222222222222222,
              "#7201a8"
             ],
             [
              0.3333333333333333,
              "#9c179e"
             ],
             [
              0.4444444444444444,
              "#bd3786"
             ],
             [
              0.5555555555555556,
              "#d8576b"
             ],
             [
              0.6666666666666666,
              "#ed7953"
             ],
             [
              0.7777777777777778,
              "#fb9f3a"
             ],
             [
              0.8888888888888888,
              "#fdca26"
             ],
             [
              1,
              "#f0f921"
             ]
            ],
            "type": "histogram2dcontour"
           }
          ],
          "mesh3d": [
           {
            "colorbar": {
             "outlinewidth": 0,
             "ticks": ""
            },
            "type": "mesh3d"
           }
          ],
          "parcoords": [
           {
            "line": {
             "colorbar": {
              "outlinewidth": 0,
              "ticks": ""
             }
            },
            "type": "parcoords"
           }
          ],
          "pie": [
           {
            "automargin": true,
            "type": "pie"
           }
          ],
          "scatter": [
           {
            "marker": {
             "colorbar": {
              "outlinewidth": 0,
              "ticks": ""
             }
            },
            "type": "scatter"
           }
          ],
          "scatter3d": [
           {
            "line": {
             "colorbar": {
              "outlinewidth": 0,
              "ticks": ""
             }
            },
            "marker": {
             "colorbar": {
              "outlinewidth": 0,
              "ticks": ""
             }
            },
            "type": "scatter3d"
           }
          ],
          "scattercarpet": [
           {
            "marker": {
             "colorbar": {
              "outlinewidth": 0,
              "ticks": ""
             }
            },
            "type": "scattercarpet"
           }
          ],
          "scattergeo": [
           {
            "marker": {
             "colorbar": {
              "outlinewidth": 0,
              "ticks": ""
             }
            },
            "type": "scattergeo"
           }
          ],
          "scattergl": [
           {
            "marker": {
             "colorbar": {
              "outlinewidth": 0,
              "ticks": ""
             }
            },
            "type": "scattergl"
           }
          ],
          "scattermapbox": [
           {
            "marker": {
             "colorbar": {
              "outlinewidth": 0,
              "ticks": ""
             }
            },
            "type": "scattermapbox"
           }
          ],
          "scatterpolar": [
           {
            "marker": {
             "colorbar": {
              "outlinewidth": 0,
              "ticks": ""
             }
            },
            "type": "scatterpolar"
           }
          ],
          "scatterpolargl": [
           {
            "marker": {
             "colorbar": {
              "outlinewidth": 0,
              "ticks": ""
             }
            },
            "type": "scatterpolargl"
           }
          ],
          "scatterternary": [
           {
            "marker": {
             "colorbar": {
              "outlinewidth": 0,
              "ticks": ""
             }
            },
            "type": "scatterternary"
           }
          ],
          "surface": [
           {
            "colorbar": {
             "outlinewidth": 0,
             "ticks": ""
            },
            "colorscale": [
             [
              0,
              "#0d0887"
             ],
             [
              0.1111111111111111,
              "#46039f"
             ],
             [
              0.2222222222222222,
              "#7201a8"
             ],
             [
              0.3333333333333333,
              "#9c179e"
             ],
             [
              0.4444444444444444,
              "#bd3786"
             ],
             [
              0.5555555555555556,
              "#d8576b"
             ],
             [
              0.6666666666666666,
              "#ed7953"
             ],
             [
              0.7777777777777778,
              "#fb9f3a"
             ],
             [
              0.8888888888888888,
              "#fdca26"
             ],
             [
              1,
              "#f0f921"
             ]
            ],
            "type": "surface"
           }
          ],
          "table": [
           {
            "cells": {
             "fill": {
              "color": "#EBF0F8"
             },
             "line": {
              "color": "white"
             }
            },
            "header": {
             "fill": {
              "color": "#C8D4E3"
             },
             "line": {
              "color": "white"
             }
            },
            "type": "table"
           }
          ]
         },
         "layout": {
          "annotationdefaults": {
           "arrowcolor": "#2a3f5f",
           "arrowhead": 0,
           "arrowwidth": 1
          },
          "autotypenumbers": "strict",
          "coloraxis": {
           "colorbar": {
            "outlinewidth": 0,
            "ticks": ""
           }
          },
          "colorscale": {
           "diverging": [
            [
             0,
             "#8e0152"
            ],
            [
             0.1,
             "#c51b7d"
            ],
            [
             0.2,
             "#de77ae"
            ],
            [
             0.3,
             "#f1b6da"
            ],
            [
             0.4,
             "#fde0ef"
            ],
            [
             0.5,
             "#f7f7f7"
            ],
            [
             0.6,
             "#e6f5d0"
            ],
            [
             0.7,
             "#b8e186"
            ],
            [
             0.8,
             "#7fbc41"
            ],
            [
             0.9,
             "#4d9221"
            ],
            [
             1,
             "#276419"
            ]
           ],
           "sequential": [
            [
             0,
             "#0d0887"
            ],
            [
             0.1111111111111111,
             "#46039f"
            ],
            [
             0.2222222222222222,
             "#7201a8"
            ],
            [
             0.3333333333333333,
             "#9c179e"
            ],
            [
             0.4444444444444444,
             "#bd3786"
            ],
            [
             0.5555555555555556,
             "#d8576b"
            ],
            [
             0.6666666666666666,
             "#ed7953"
            ],
            [
             0.7777777777777778,
             "#fb9f3a"
            ],
            [
             0.8888888888888888,
             "#fdca26"
            ],
            [
             1,
             "#f0f921"
            ]
           ],
           "sequentialminus": [
            [
             0,
             "#0d0887"
            ],
            [
             0.1111111111111111,
             "#46039f"
            ],
            [
             0.2222222222222222,
             "#7201a8"
            ],
            [
             0.3333333333333333,
             "#9c179e"
            ],
            [
             0.4444444444444444,
             "#bd3786"
            ],
            [
             0.5555555555555556,
             "#d8576b"
            ],
            [
             0.6666666666666666,
             "#ed7953"
            ],
            [
             0.7777777777777778,
             "#fb9f3a"
            ],
            [
             0.8888888888888888,
             "#fdca26"
            ],
            [
             1,
             "#f0f921"
            ]
           ]
          },
          "colorway": [
           "#636efa",
           "#EF553B",
           "#00cc96",
           "#ab63fa",
           "#FFA15A",
           "#19d3f3",
           "#FF6692",
           "#B6E880",
           "#FF97FF",
           "#FECB52"
          ],
          "font": {
           "color": "#2a3f5f"
          },
          "geo": {
           "bgcolor": "white",
           "lakecolor": "white",
           "landcolor": "#E5ECF6",
           "showlakes": true,
           "showland": true,
           "subunitcolor": "white"
          },
          "hoverlabel": {
           "align": "left"
          },
          "hovermode": "closest",
          "mapbox": {
           "style": "light"
          },
          "paper_bgcolor": "white",
          "plot_bgcolor": "#E5ECF6",
          "polar": {
           "angularaxis": {
            "gridcolor": "white",
            "linecolor": "white",
            "ticks": ""
           },
           "bgcolor": "#E5ECF6",
           "radialaxis": {
            "gridcolor": "white",
            "linecolor": "white",
            "ticks": ""
           }
          },
          "scene": {
           "xaxis": {
            "backgroundcolor": "#E5ECF6",
            "gridcolor": "white",
            "gridwidth": 2,
            "linecolor": "white",
            "showbackground": true,
            "ticks": "",
            "zerolinecolor": "white"
           },
           "yaxis": {
            "backgroundcolor": "#E5ECF6",
            "gridcolor": "white",
            "gridwidth": 2,
            "linecolor": "white",
            "showbackground": true,
            "ticks": "",
            "zerolinecolor": "white"
           },
           "zaxis": {
            "backgroundcolor": "#E5ECF6",
            "gridcolor": "white",
            "gridwidth": 2,
            "linecolor": "white",
            "showbackground": true,
            "ticks": "",
            "zerolinecolor": "white"
           }
          },
          "shapedefaults": {
           "line": {
            "color": "#2a3f5f"
           }
          },
          "ternary": {
           "aaxis": {
            "gridcolor": "white",
            "linecolor": "white",
            "ticks": ""
           },
           "baxis": {
            "gridcolor": "white",
            "linecolor": "white",
            "ticks": ""
           },
           "bgcolor": "#E5ECF6",
           "caxis": {
            "gridcolor": "white",
            "linecolor": "white",
            "ticks": ""
           }
          },
          "title": {
           "x": 0.05
          },
          "xaxis": {
           "automargin": true,
           "gridcolor": "white",
           "linecolor": "white",
           "ticks": "",
           "title": {
            "standoff": 15
           },
           "zerolinecolor": "white",
           "zerolinewidth": 2
          },
          "yaxis": {
           "automargin": true,
           "gridcolor": "white",
           "linecolor": "white",
           "ticks": "",
           "title": {
            "standoff": 15
           },
           "zerolinecolor": "white",
           "zerolinewidth": 2
          }
         }
        },
        "title": {
         "text": "Convex Locker Current Locks"
        },
        "xaxis": {
         "anchor": "y",
         "domain": [
          0,
          1
         ]
        },
        "yaxis": {
         "anchor": "x",
         "domain": [
          0,
          1
         ]
        }
       }
      }
     },
     "metadata": {},
     "output_type": "display_data"
    }
   ],
   "source": [
    "fig = make_subplots()\n",
    "fig.update_layout(\n",
    "    title=f\"Convex Locker Current Locks\",\n",
    "    #     xaxis_title=\"X Axis Title\",\n",
    "    #     yaxis_title=\"Y Axis Title\",\n",
    "    #     legend_title=\"Legend Title\",\n",
    "    font=dict(\n",
    "        family=\"Courier New, monospace\",\n",
    "        size=18,\n",
    "        color=\"RebeccaPurple\"\n",
    "    ),\n",
    "    # height= 1000,\n",
    ")\n",
    "fig = fig.add_trace(\n",
    "    go.Bar(\n",
    "        x=pcl_agg_current.epoch_start,\n",
    "        y=pcl_agg_current.locked_amount,\n",
    "        name=\"Locked\",\n",
    "        # color=\"pool_name\"\n",
    "    ),\n",
    "    secondary_y=False\n",
    ")\n",
    "fig = fig.add_trace(\n",
    "    go.Bar(\n",
    "        x = pcl_agg_current.epoch_end,\n",
    "        y = pcl_agg_current.locked_amount, \n",
    "        name = \"Withdrawn\",\n",
    "        # line_shape='hvh',\n",
    "        # line_width=3,\n",
    "    ),\n",
    "    # secondary_y=True\n",
    ")\n",
    "fig.add_vline(x=dt.now(), line_width=2, line_dash=\"dash\", line_color=\"black\")\n",
    "\n",
    "fig.update_layout(autotypenumbers='convert types')\n",
    "# fig.update_yaxes(rangemode=\"tozero\")\n",
    "fig.show()\n",
    "\n",
    "# fig = px.bar(df_convex_processed_locks_2,\n",
    "#     x=\"epoch_end\",\n",
    "#     y=\"locked_amount\",\n",
    "#     color=\"token_symbol\",\n",
    "#     title=\"Liquidity By Asset\")\n",
    "# graphJSON3 = json.dumps(\n",
    "#     fig,\n",
    "#     cls=plotly.utils.PlotlyJSONEncoder\n",
    "#     )\n"
   ]
  },
  {
   "cell_type": "code",
   "execution_count": 19,
   "metadata": {},
   "outputs": [
    {
     "data": {
      "application/vnd.plotly.v1+json": {
       "config": {
        "plotlyServerURL": "https://plot.ly"
       },
       "data": [
        {
         "name": "Locked",
         "type": "bar",
         "x": [
          "2022-03-09T19:00:00",
          "2022-03-16T20:00:00",
          "2022-03-23T20:00:00",
          "2022-03-30T20:00:00",
          "2022-04-06T20:00:00",
          "2022-04-13T20:00:00",
          "2022-04-20T20:00:00",
          "2022-04-27T20:00:00",
          "2022-05-04T20:00:00",
          "2022-05-11T20:00:00",
          "2022-05-18T20:00:00",
          "2022-05-25T20:00:00",
          "2022-06-01T20:00:00",
          "2022-06-08T20:00:00",
          "2022-06-15T20:00:00",
          "2022-06-22T20:00:00",
          "2022-06-29T20:00:00",
          "2022-07-06T20:00:00",
          "2022-07-13T20:00:00",
          "2022-07-20T20:00:00",
          "2022-07-27T20:00:00",
          "2022-08-03T20:00:00",
          "2022-08-10T20:00:00",
          "2022-08-17T20:00:00",
          "2022-08-24T20:00:00",
          "2022-08-31T20:00:00",
          "2022-09-07T20:00:00",
          "2022-09-14T20:00:00",
          "2022-09-21T20:00:00",
          "2022-09-28T20:00:00",
          "2022-10-05T20:00:00",
          "2022-10-12T20:00:00",
          "2022-10-19T20:00:00",
          "2022-10-26T20:00:00",
          "2022-11-02T20:00:00",
          "2022-11-09T19:00:00",
          "2022-11-16T19:00:00",
          "2022-11-23T19:00:00",
          "2022-11-30T19:00:00",
          "2022-12-07T19:00:00",
          "2022-12-14T19:00:00",
          "2022-12-21T19:00:00",
          "2022-12-28T19:00:00",
          "2023-01-04T19:00:00",
          "2023-01-11T19:00:00",
          "2023-01-18T19:00:00",
          "2023-01-25T19:00:00",
          "2023-02-01T19:00:00",
          "2023-02-08T19:00:00",
          "2023-02-15T19:00:00",
          "2023-02-22T19:00:00",
          "2023-03-01T19:00:00",
          "2023-03-08T19:00:00",
          "2023-03-15T20:00:00",
          "2023-03-22T20:00:00",
          "2023-03-29T20:00:00",
          "2023-04-05T20:00:00",
          "2023-04-12T20:00:00",
          "2023-04-19T20:00:00",
          "2023-04-26T20:00:00",
          "2023-05-03T20:00:00",
          "2023-05-10T20:00:00",
          "2023-05-17T20:00:00",
          "2023-05-24T20:00:00",
          "2023-05-31T20:00:00",
          "2023-06-07T20:00:00",
          "2023-06-14T20:00:00",
          "2023-06-21T20:00:00",
          "2023-06-28T20:00:00",
          "2023-07-05T20:00:00",
          "2023-07-12T20:00:00",
          "2023-07-19T20:00:00",
          "2023-07-26T20:00:00",
          "2023-08-02T20:00:00",
          "2023-08-09T20:00:00",
          "2023-08-16T20:00:00",
          "2023-08-23T20:00:00",
          "2023-08-30T20:00:00",
          "2023-09-06T20:00:00",
          "2023-09-13T20:00:00",
          "2023-09-20T20:00:00",
          "2023-09-27T20:00:00",
          "2023-10-04T20:00:00",
          "2023-10-11T20:00:00",
          "2023-10-18T20:00:00",
          "2023-10-25T20:00:00",
          "2023-11-01T20:00:00"
         ],
         "xaxis": "x",
         "y": [
          27480352.283296645,
          8723225.06860201,
          1390015.8462264,
          3225906.500187241,
          754473.0582768819,
          3462326.471651098,
          635685.2486499785,
          1516335.650191196,
          315693.6694321409,
          1032499.9034782505,
          553067.8622700771,
          295331.487031376,
          1193445.8616692438,
          280482.6711918668,
          807759.559870148,
          757993.6488559011,
          15932431.559432337,
          13227722.419766136,
          3200107.2587294313,
          4206836.562132661,
          1251036.5043773577,
          2027071.8590648125,
          1980687.8102851964,
          1816006.502661611,
          1482671.1850698274,
          1026686.9082421018,
          1169989.2380156785,
          1190133.368313305,
          899889.6122176327,
          1701779.8016207435,
          2050506.7709095168,
          748871.2858370605,
          10495294.346047299,
          8460052.09358487,
          6471688.81949663,
          4091845.990805865,
          2741727.491664839,
          2233755.949479967,
          1518470.2892643341,
          1712287.4094060694,
          3035454.504414782,
          1281500.7348941057,
          1262789.6008011403,
          1352710.0345148698,
          1108628.1697418056,
          2749240.9272243814,
          3580809.419498431,
          2045122.5384000018,
          8144370.9061649265,
          8713933.351509174,
          5561802.9327704385,
          4538474.721893254,
          2534772.3164397017,
          4357642.551557679,
          1699770.0716261803,
          2056094.351191741,
          2003633.1011745196,
          1991118.9053520453,
          1795059.7224678523,
          1769011.123714195,
          903732.427139717,
          1555394.1133586688,
          3309024.5692759072,
          3145798.451548866,
          6106247.388407693,
          8508474.79704831,
          6882887.954521716,
          4536611.935683707,
          3852078.1354252384,
          3914394.7179337055,
          1732618.9160070082,
          3023806.6352807092,
          2855289.9680089527,
          2454695.852679216,
          1590237.6131216623,
          2273510.7262717164,
          1341957.8281946583,
          1633076.1052619163,
          2522789.840088511,
          2165424.5471235705,
          6169809.0632449025,
          6932292.238056662,
          4000529.835701629,
          5102460.051469658,
          3667293.6578077273,
          3500519.489650455,
          1123161.027177486
         ],
         "yaxis": "y"
        }
       ],
       "layout": {
        "font": {
         "color": "RebeccaPurple",
         "family": "Courier New, monospace",
         "size": 18
        },
        "shapes": [
         {
          "line": {
           "color": "black",
           "dash": "dash",
           "width": 2
          },
          "type": "line",
          "x0": "2023-11-03T04:33:02.363040",
          "x1": "2023-11-03T04:33:02.363040",
          "xref": "x",
          "y0": 0,
          "y1": 1,
          "yref": "y domain"
         }
        ],
        "template": {
         "data": {
          "bar": [
           {
            "error_x": {
             "color": "#2a3f5f"
            },
            "error_y": {
             "color": "#2a3f5f"
            },
            "marker": {
             "line": {
              "color": "#E5ECF6",
              "width": 0.5
             }
            },
            "type": "bar"
           }
          ],
          "barpolar": [
           {
            "marker": {
             "line": {
              "color": "#E5ECF6",
              "width": 0.5
             }
            },
            "type": "barpolar"
           }
          ],
          "carpet": [
           {
            "aaxis": {
             "endlinecolor": "#2a3f5f",
             "gridcolor": "white",
             "linecolor": "white",
             "minorgridcolor": "white",
             "startlinecolor": "#2a3f5f"
            },
            "baxis": {
             "endlinecolor": "#2a3f5f",
             "gridcolor": "white",
             "linecolor": "white",
             "minorgridcolor": "white",
             "startlinecolor": "#2a3f5f"
            },
            "type": "carpet"
           }
          ],
          "choropleth": [
           {
            "colorbar": {
             "outlinewidth": 0,
             "ticks": ""
            },
            "type": "choropleth"
           }
          ],
          "contour": [
           {
            "colorbar": {
             "outlinewidth": 0,
             "ticks": ""
            },
            "colorscale": [
             [
              0,
              "#0d0887"
             ],
             [
              0.1111111111111111,
              "#46039f"
             ],
             [
              0.2222222222222222,
              "#7201a8"
             ],
             [
              0.3333333333333333,
              "#9c179e"
             ],
             [
              0.4444444444444444,
              "#bd3786"
             ],
             [
              0.5555555555555556,
              "#d8576b"
             ],
             [
              0.6666666666666666,
              "#ed7953"
             ],
             [
              0.7777777777777778,
              "#fb9f3a"
             ],
             [
              0.8888888888888888,
              "#fdca26"
             ],
             [
              1,
              "#f0f921"
             ]
            ],
            "type": "contour"
           }
          ],
          "contourcarpet": [
           {
            "colorbar": {
             "outlinewidth": 0,
             "ticks": ""
            },
            "type": "contourcarpet"
           }
          ],
          "heatmap": [
           {
            "colorbar": {
             "outlinewidth": 0,
             "ticks": ""
            },
            "colorscale": [
             [
              0,
              "#0d0887"
             ],
             [
              0.1111111111111111,
              "#46039f"
             ],
             [
              0.2222222222222222,
              "#7201a8"
             ],
             [
              0.3333333333333333,
              "#9c179e"
             ],
             [
              0.4444444444444444,
              "#bd3786"
             ],
             [
              0.5555555555555556,
              "#d8576b"
             ],
             [
              0.6666666666666666,
              "#ed7953"
             ],
             [
              0.7777777777777778,
              "#fb9f3a"
             ],
             [
              0.8888888888888888,
              "#fdca26"
             ],
             [
              1,
              "#f0f921"
             ]
            ],
            "type": "heatmap"
           }
          ],
          "heatmapgl": [
           {
            "colorbar": {
             "outlinewidth": 0,
             "ticks": ""
            },
            "colorscale": [
             [
              0,
              "#0d0887"
             ],
             [
              0.1111111111111111,
              "#46039f"
             ],
             [
              0.2222222222222222,
              "#7201a8"
             ],
             [
              0.3333333333333333,
              "#9c179e"
             ],
             [
              0.4444444444444444,
              "#bd3786"
             ],
             [
              0.5555555555555556,
              "#d8576b"
             ],
             [
              0.6666666666666666,
              "#ed7953"
             ],
             [
              0.7777777777777778,
              "#fb9f3a"
             ],
             [
              0.8888888888888888,
              "#fdca26"
             ],
             [
              1,
              "#f0f921"
             ]
            ],
            "type": "heatmapgl"
           }
          ],
          "histogram": [
           {
            "marker": {
             "colorbar": {
              "outlinewidth": 0,
              "ticks": ""
             }
            },
            "type": "histogram"
           }
          ],
          "histogram2d": [
           {
            "colorbar": {
             "outlinewidth": 0,
             "ticks": ""
            },
            "colorscale": [
             [
              0,
              "#0d0887"
             ],
             [
              0.1111111111111111,
              "#46039f"
             ],
             [
              0.2222222222222222,
              "#7201a8"
             ],
             [
              0.3333333333333333,
              "#9c179e"
             ],
             [
              0.4444444444444444,
              "#bd3786"
             ],
             [
              0.5555555555555556,
              "#d8576b"
             ],
             [
              0.6666666666666666,
              "#ed7953"
             ],
             [
              0.7777777777777778,
              "#fb9f3a"
             ],
             [
              0.8888888888888888,
              "#fdca26"
             ],
             [
              1,
              "#f0f921"
             ]
            ],
            "type": "histogram2d"
           }
          ],
          "histogram2dcontour": [
           {
            "colorbar": {
             "outlinewidth": 0,
             "ticks": ""
            },
            "colorscale": [
             [
              0,
              "#0d0887"
             ],
             [
              0.1111111111111111,
              "#46039f"
             ],
             [
              0.2222222222222222,
              "#7201a8"
             ],
             [
              0.3333333333333333,
              "#9c179e"
             ],
             [
              0.4444444444444444,
              "#bd3786"
             ],
             [
              0.5555555555555556,
              "#d8576b"
             ],
             [
              0.6666666666666666,
              "#ed7953"
             ],
             [
              0.7777777777777778,
              "#fb9f3a"
             ],
             [
              0.8888888888888888,
              "#fdca26"
             ],
             [
              1,
              "#f0f921"
             ]
            ],
            "type": "histogram2dcontour"
           }
          ],
          "mesh3d": [
           {
            "colorbar": {
             "outlinewidth": 0,
             "ticks": ""
            },
            "type": "mesh3d"
           }
          ],
          "parcoords": [
           {
            "line": {
             "colorbar": {
              "outlinewidth": 0,
              "ticks": ""
             }
            },
            "type": "parcoords"
           }
          ],
          "pie": [
           {
            "automargin": true,
            "type": "pie"
           }
          ],
          "scatter": [
           {
            "marker": {
             "colorbar": {
              "outlinewidth": 0,
              "ticks": ""
             }
            },
            "type": "scatter"
           }
          ],
          "scatter3d": [
           {
            "line": {
             "colorbar": {
              "outlinewidth": 0,
              "ticks": ""
             }
            },
            "marker": {
             "colorbar": {
              "outlinewidth": 0,
              "ticks": ""
             }
            },
            "type": "scatter3d"
           }
          ],
          "scattercarpet": [
           {
            "marker": {
             "colorbar": {
              "outlinewidth": 0,
              "ticks": ""
             }
            },
            "type": "scattercarpet"
           }
          ],
          "scattergeo": [
           {
            "marker": {
             "colorbar": {
              "outlinewidth": 0,
              "ticks": ""
             }
            },
            "type": "scattergeo"
           }
          ],
          "scattergl": [
           {
            "marker": {
             "colorbar": {
              "outlinewidth": 0,
              "ticks": ""
             }
            },
            "type": "scattergl"
           }
          ],
          "scattermapbox": [
           {
            "marker": {
             "colorbar": {
              "outlinewidth": 0,
              "ticks": ""
             }
            },
            "type": "scattermapbox"
           }
          ],
          "scatterpolar": [
           {
            "marker": {
             "colorbar": {
              "outlinewidth": 0,
              "ticks": ""
             }
            },
            "type": "scatterpolar"
           }
          ],
          "scatterpolargl": [
           {
            "marker": {
             "colorbar": {
              "outlinewidth": 0,
              "ticks": ""
             }
            },
            "type": "scatterpolargl"
           }
          ],
          "scatterternary": [
           {
            "marker": {
             "colorbar": {
              "outlinewidth": 0,
              "ticks": ""
             }
            },
            "type": "scatterternary"
           }
          ],
          "surface": [
           {
            "colorbar": {
             "outlinewidth": 0,
             "ticks": ""
            },
            "colorscale": [
             [
              0,
              "#0d0887"
             ],
             [
              0.1111111111111111,
              "#46039f"
             ],
             [
              0.2222222222222222,
              "#7201a8"
             ],
             [
              0.3333333333333333,
              "#9c179e"
             ],
             [
              0.4444444444444444,
              "#bd3786"
             ],
             [
              0.5555555555555556,
              "#d8576b"
             ],
             [
              0.6666666666666666,
              "#ed7953"
             ],
             [
              0.7777777777777778,
              "#fb9f3a"
             ],
             [
              0.8888888888888888,
              "#fdca26"
             ],
             [
              1,
              "#f0f921"
             ]
            ],
            "type": "surface"
           }
          ],
          "table": [
           {
            "cells": {
             "fill": {
              "color": "#EBF0F8"
             },
             "line": {
              "color": "white"
             }
            },
            "header": {
             "fill": {
              "color": "#C8D4E3"
             },
             "line": {
              "color": "white"
             }
            },
            "type": "table"
           }
          ]
         },
         "layout": {
          "annotationdefaults": {
           "arrowcolor": "#2a3f5f",
           "arrowhead": 0,
           "arrowwidth": 1
          },
          "autotypenumbers": "strict",
          "coloraxis": {
           "colorbar": {
            "outlinewidth": 0,
            "ticks": ""
           }
          },
          "colorscale": {
           "diverging": [
            [
             0,
             "#8e0152"
            ],
            [
             0.1,
             "#c51b7d"
            ],
            [
             0.2,
             "#de77ae"
            ],
            [
             0.3,
             "#f1b6da"
            ],
            [
             0.4,
             "#fde0ef"
            ],
            [
             0.5,
             "#f7f7f7"
            ],
            [
             0.6,
             "#e6f5d0"
            ],
            [
             0.7,
             "#b8e186"
            ],
            [
             0.8,
             "#7fbc41"
            ],
            [
             0.9,
             "#4d9221"
            ],
            [
             1,
             "#276419"
            ]
           ],
           "sequential": [
            [
             0,
             "#0d0887"
            ],
            [
             0.1111111111111111,
             "#46039f"
            ],
            [
             0.2222222222222222,
             "#7201a8"
            ],
            [
             0.3333333333333333,
             "#9c179e"
            ],
            [
             0.4444444444444444,
             "#bd3786"
            ],
            [
             0.5555555555555556,
             "#d8576b"
            ],
            [
             0.6666666666666666,
             "#ed7953"
            ],
            [
             0.7777777777777778,
             "#fb9f3a"
            ],
            [
             0.8888888888888888,
             "#fdca26"
            ],
            [
             1,
             "#f0f921"
            ]
           ],
           "sequentialminus": [
            [
             0,
             "#0d0887"
            ],
            [
             0.1111111111111111,
             "#46039f"
            ],
            [
             0.2222222222222222,
             "#7201a8"
            ],
            [
             0.3333333333333333,
             "#9c179e"
            ],
            [
             0.4444444444444444,
             "#bd3786"
            ],
            [
             0.5555555555555556,
             "#d8576b"
            ],
            [
             0.6666666666666666,
             "#ed7953"
            ],
            [
             0.7777777777777778,
             "#fb9f3a"
            ],
            [
             0.8888888888888888,
             "#fdca26"
            ],
            [
             1,
             "#f0f921"
            ]
           ]
          },
          "colorway": [
           "#636efa",
           "#EF553B",
           "#00cc96",
           "#ab63fa",
           "#FFA15A",
           "#19d3f3",
           "#FF6692",
           "#B6E880",
           "#FF97FF",
           "#FECB52"
          ],
          "font": {
           "color": "#2a3f5f"
          },
          "geo": {
           "bgcolor": "white",
           "lakecolor": "white",
           "landcolor": "#E5ECF6",
           "showlakes": true,
           "showland": true,
           "subunitcolor": "white"
          },
          "hoverlabel": {
           "align": "left"
          },
          "hovermode": "closest",
          "mapbox": {
           "style": "light"
          },
          "paper_bgcolor": "white",
          "plot_bgcolor": "#E5ECF6",
          "polar": {
           "angularaxis": {
            "gridcolor": "white",
            "linecolor": "white",
            "ticks": ""
           },
           "bgcolor": "#E5ECF6",
           "radialaxis": {
            "gridcolor": "white",
            "linecolor": "white",
            "ticks": ""
           }
          },
          "scene": {
           "xaxis": {
            "backgroundcolor": "#E5ECF6",
            "gridcolor": "white",
            "gridwidth": 2,
            "linecolor": "white",
            "showbackground": true,
            "ticks": "",
            "zerolinecolor": "white"
           },
           "yaxis": {
            "backgroundcolor": "#E5ECF6",
            "gridcolor": "white",
            "gridwidth": 2,
            "linecolor": "white",
            "showbackground": true,
            "ticks": "",
            "zerolinecolor": "white"
           },
           "zaxis": {
            "backgroundcolor": "#E5ECF6",
            "gridcolor": "white",
            "gridwidth": 2,
            "linecolor": "white",
            "showbackground": true,
            "ticks": "",
            "zerolinecolor": "white"
           }
          },
          "shapedefaults": {
           "line": {
            "color": "#2a3f5f"
           }
          },
          "ternary": {
           "aaxis": {
            "gridcolor": "white",
            "linecolor": "white",
            "ticks": ""
           },
           "baxis": {
            "gridcolor": "white",
            "linecolor": "white",
            "ticks": ""
           },
           "bgcolor": "#E5ECF6",
           "caxis": {
            "gridcolor": "white",
            "linecolor": "white",
            "ticks": ""
           }
          },
          "title": {
           "x": 0.05
          },
          "xaxis": {
           "automargin": true,
           "gridcolor": "white",
           "linecolor": "white",
           "ticks": "",
           "title": {
            "standoff": 15
           },
           "zerolinecolor": "white",
           "zerolinewidth": 2
          },
          "yaxis": {
           "automargin": true,
           "gridcolor": "white",
           "linecolor": "white",
           "ticks": "",
           "title": {
            "standoff": 15
           },
           "zerolinecolor": "white",
           "zerolinewidth": 2
          }
         }
        },
        "title": {
         "text": "Convex Locker Historic Locks"
        },
        "xaxis": {
         "anchor": "y",
         "domain": [
          0,
          1
         ]
        },
        "yaxis": {
         "anchor": "x",
         "domain": [
          0,
          1
         ]
        }
       }
      }
     },
     "metadata": {},
     "output_type": "display_data"
    }
   ],
   "source": [
    "fig = make_subplots()\n",
    "fig.update_layout(\n",
    "    title=f\"Convex Locker Historic Locks\",\n",
    "    #     xaxis_title=\"X Axis Title\",\n",
    "    #     yaxis_title=\"Y Axis Title\",\n",
    "    #     legend_title=\"Legend Title\",\n",
    "    font=dict(\n",
    "        family=\"Courier New, monospace\",\n",
    "        size=18,\n",
    "        color=\"RebeccaPurple\"\n",
    "    ),\n",
    "    # height= 1000,\n",
    ")\n",
    "fig = fig.add_trace(\n",
    "    go.Bar(\n",
    "        x=pcl_agg_epoch.epoch_start,\n",
    "        y=pcl_agg_epoch.locked_amount,\n",
    "        name=\"Locked\",\n",
    "        # color=\"pool_name\"\n",
    "    ),\n",
    "    secondary_y=False\n",
    ")\n",
    "fig.add_vline(x=dt.now(), line_width=2, line_dash=\"dash\", line_color=\"black\")\n",
    "\n",
    "fig.show()"
   ]
  },
  {
   "cell_type": "code",
   "execution_count": null,
   "metadata": {},
   "outputs": [],
   "source": []
  },
  {
   "cell_type": "code",
   "execution_count": 20,
   "metadata": {},
   "outputs": [
    {
     "data": {
      "application/vnd.plotly.v1+json": {
       "config": {
        "plotlyServerURL": "https://plot.ly"
       },
       "data": [
        {
         "name": "Total Locked",
         "type": "bar",
         "x": [
          "2022-03-09T19:00:00",
          "2022-03-16T19:00:00",
          "2022-03-23T19:00:00",
          "2022-03-30T19:00:00",
          "2022-04-06T19:00:00",
          "2022-04-13T19:00:00",
          "2022-04-20T19:00:00",
          "2022-04-27T19:00:00",
          "2022-05-04T19:00:00",
          "2022-05-11T19:00:00",
          "2022-05-18T19:00:00",
          "2022-05-25T19:00:00",
          "2022-06-01T19:00:00",
          "2022-06-08T19:00:00",
          "2022-06-15T19:00:00",
          "2022-06-22T19:00:00",
          "2022-06-29T19:00:00",
          "2022-07-06T19:00:00",
          "2022-07-13T19:00:00",
          "2022-07-20T19:00:00",
          "2022-07-27T19:00:00",
          "2022-08-03T19:00:00",
          "2022-08-10T19:00:00",
          "2022-08-17T19:00:00",
          "2022-08-24T19:00:00",
          "2022-08-31T19:00:00",
          "2022-09-07T19:00:00",
          "2022-09-14T19:00:00",
          "2022-09-21T19:00:00",
          "2022-09-28T19:00:00",
          "2022-10-05T19:00:00",
          "2022-10-12T19:00:00",
          "2022-10-19T19:00:00",
          "2022-10-26T19:00:00",
          "2022-11-02T19:00:00",
          "2022-11-09T19:00:00",
          "2022-11-16T19:00:00",
          "2022-11-23T19:00:00",
          "2022-11-30T19:00:00",
          "2022-12-07T19:00:00",
          "2022-12-14T19:00:00",
          "2022-12-21T19:00:00",
          "2022-12-28T19:00:00",
          "2023-01-04T19:00:00",
          "2023-01-11T19:00:00",
          "2023-01-18T19:00:00",
          "2023-01-25T19:00:00",
          "2023-02-01T19:00:00",
          "2023-02-08T19:00:00",
          "2023-02-15T19:00:00",
          "2023-02-22T19:00:00",
          "2023-03-01T19:00:00",
          "2023-03-08T19:00:00",
          "2023-03-15T19:00:00",
          "2023-03-22T19:00:00",
          "2023-03-29T19:00:00",
          "2023-04-05T19:00:00",
          "2023-04-12T19:00:00",
          "2023-04-19T19:00:00",
          "2023-04-26T19:00:00",
          "2023-05-03T19:00:00",
          "2023-05-10T19:00:00",
          "2023-05-17T19:00:00",
          "2023-05-24T19:00:00",
          "2023-05-31T19:00:00",
          "2023-06-07T19:00:00",
          "2023-06-14T19:00:00",
          "2023-06-21T19:00:00",
          "2023-06-28T19:00:00",
          "2023-07-05T19:00:00",
          "2023-07-12T19:00:00",
          "2023-07-19T19:00:00",
          "2023-07-26T19:00:00",
          "2023-08-02T19:00:00",
          "2023-08-09T19:00:00",
          "2023-08-16T19:00:00",
          "2023-08-23T19:00:00",
          "2023-08-30T19:00:00",
          "2023-09-06T19:00:00",
          "2023-09-13T19:00:00",
          "2023-09-20T19:00:00",
          "2023-09-27T19:00:00",
          "2023-10-04T19:00:00",
          "2023-10-11T19:00:00",
          "2023-10-18T19:00:00",
          "2023-10-25T19:00:00",
          "2023-11-01T19:00:00",
          "2023-11-08T19:00:00",
          "2023-11-15T19:00:00",
          "2023-11-22T19:00:00",
          "2023-11-29T19:00:00",
          "2023-12-06T19:00:00",
          "2023-12-13T19:00:00",
          "2023-12-20T19:00:00",
          "2023-12-27T19:00:00",
          "2024-01-03T19:00:00",
          "2024-01-10T19:00:00",
          "2024-01-17T19:00:00",
          "2024-01-24T19:00:00",
          "2024-01-31T19:00:00",
          "2024-02-07T19:00:00",
          "2024-02-14T19:00:00",
          "2024-02-21T19:00:00"
         ],
         "xaxis": "x",
         "y": [
          27480352.283296645,
          27480352.283296645,
          36203577.351898655,
          37593593.19812506,
          40819499.6983123,
          41573972.75658918,
          45036299.228240274,
          45671984.47689026,
          47188320.127081454,
          47504013.796513595,
          48536513.699991845,
          49089581.56226192,
          49384913.049293295,
          50578358.910962544,
          50858841.58215441,
          51666601.142024554,
          24944242.507583812,
          40876674.06701615,
          45381171.41818027,
          47191262.830683306,
          48172192.89262872,
          48668756.338729195,
          47233501.72614291,
          48578504.28777813,
          48878175.140248545,
          50045152.65588623,
          50039339.66065008,
          50656261.036395684,
          51551062.91767762,
          51257506.668226,
          52678803.798654884,
          53921551.00969425,
          53912428.64667541,
          48475291.43329037,
          43707621.10710911,
          51071048.65868217,
          49605939.588214345,
          50588659.033316955,
          50080057.463516474,
          49811657.06263735,
          51031105.06439052,
          50829934.6142148,
          51066037.306773834,
          51248758.10327303,
          51167252.90470153,
          53016604.21970828,
          54895633.83758596,
          54890249.605076455,
          62285749.225404315,
          60504388.230866194,
          57606139.07005176,
          51581078.98164252,
          51374123.80641738,
          49140367.856937416,
          51979540.11923076,
          51967022.78145087,
          50987662.62822783,
          51709794.994508244,
          52438124.299059145,
          52880473.98701213,
          53540856.94098452,
          51695348.44089986,
          49669933.1347601,
          50933835.165635996,
          45935262.71101994,
          43327576.74791846,
          46274248.612196326,
          48618661.84482479,
          50620501.4640688,
          54472579.59949403,
          54029331.765870064,
          54062180.61025089,
          55029892.89433986,
          55881549.76117429,
          56345126.708501466,
          56140304.59915527,
          56644804.201712795,
          57083029.602767736,
          57160711.59467098,
          56374476.86548359,
          55394102.96105829,
          55457664.6358955,
          53881482.07690385,
          50999123.95808376,
          51564972.07386971,
          51380187.5962522,
          50966312.367968954,
          50356854.47913943,
          47333047.84385872,
          44477757.87584977,
          42023062.02317055,
          40432824.410048895,
          38159313.683777176,
          36817355.85558251,
          35184279.7503206,
          32661489.91023209,
          30496065.36310852,
          24326256.299863618,
          17393964.061806954,
          13393434.226105325,
          8290974.174635668,
          4623680.516827941,
          1123161.027177486
         ],
         "yaxis": "y"
        },
        {
         "line": {
          "shape": "hvh",
          "width": 3
         },
         "name": "Locked Count",
         "type": "scatter",
         "x": [
          "2022-03-09T19:00:00",
          "2022-03-16T19:00:00",
          "2022-03-23T19:00:00",
          "2022-03-30T19:00:00",
          "2022-04-06T19:00:00",
          "2022-04-13T19:00:00",
          "2022-04-20T19:00:00",
          "2022-04-27T19:00:00",
          "2022-05-04T19:00:00",
          "2022-05-11T19:00:00",
          "2022-05-18T19:00:00",
          "2022-05-25T19:00:00",
          "2022-06-01T19:00:00",
          "2022-06-08T19:00:00",
          "2022-06-15T19:00:00",
          "2022-06-22T19:00:00",
          "2022-06-29T19:00:00",
          "2022-07-06T19:00:00",
          "2022-07-13T19:00:00",
          "2022-07-20T19:00:00",
          "2022-07-27T19:00:00",
          "2022-08-03T19:00:00",
          "2022-08-10T19:00:00",
          "2022-08-17T19:00:00",
          "2022-08-24T19:00:00",
          "2022-08-31T19:00:00",
          "2022-09-07T19:00:00",
          "2022-09-14T19:00:00",
          "2022-09-21T19:00:00",
          "2022-09-28T19:00:00",
          "2022-10-05T19:00:00",
          "2022-10-12T19:00:00",
          "2022-10-19T19:00:00",
          "2022-10-26T19:00:00",
          "2022-11-02T19:00:00",
          "2022-11-09T19:00:00",
          "2022-11-16T19:00:00",
          "2022-11-23T19:00:00",
          "2022-11-30T19:00:00",
          "2022-12-07T19:00:00",
          "2022-12-14T19:00:00",
          "2022-12-21T19:00:00",
          "2022-12-28T19:00:00",
          "2023-01-04T19:00:00",
          "2023-01-11T19:00:00",
          "2023-01-18T19:00:00",
          "2023-01-25T19:00:00",
          "2023-02-01T19:00:00",
          "2023-02-08T19:00:00",
          "2023-02-15T19:00:00",
          "2023-02-22T19:00:00",
          "2023-03-01T19:00:00",
          "2023-03-08T19:00:00",
          "2023-03-15T19:00:00",
          "2023-03-22T19:00:00",
          "2023-03-29T19:00:00",
          "2023-04-05T19:00:00",
          "2023-04-12T19:00:00",
          "2023-04-19T19:00:00",
          "2023-04-26T19:00:00",
          "2023-05-03T19:00:00",
          "2023-05-10T19:00:00",
          "2023-05-17T19:00:00",
          "2023-05-24T19:00:00",
          "2023-05-31T19:00:00",
          "2023-06-07T19:00:00",
          "2023-06-14T19:00:00",
          "2023-06-21T19:00:00",
          "2023-06-28T19:00:00",
          "2023-07-05T19:00:00",
          "2023-07-12T19:00:00",
          "2023-07-19T19:00:00",
          "2023-07-26T19:00:00",
          "2023-08-02T19:00:00",
          "2023-08-09T19:00:00",
          "2023-08-16T19:00:00",
          "2023-08-23T19:00:00",
          "2023-08-30T19:00:00",
          "2023-09-06T19:00:00",
          "2023-09-13T19:00:00",
          "2023-09-20T19:00:00",
          "2023-09-27T19:00:00",
          "2023-10-04T19:00:00",
          "2023-10-11T19:00:00",
          "2023-10-18T19:00:00",
          "2023-10-25T19:00:00",
          "2023-11-01T19:00:00",
          "2023-11-08T19:00:00",
          "2023-11-15T19:00:00",
          "2023-11-22T19:00:00",
          "2023-11-29T19:00:00",
          "2023-12-06T19:00:00",
          "2023-12-13T19:00:00",
          "2023-12-20T19:00:00",
          "2023-12-27T19:00:00",
          "2024-01-03T19:00:00",
          "2024-01-10T19:00:00",
          "2024-01-17T19:00:00",
          "2024-01-24T19:00:00",
          "2024-01-31T19:00:00",
          "2024-02-07T19:00:00",
          "2024-02-14T19:00:00",
          "2024-02-21T19:00:00"
         ],
         "xaxis": "x",
         "y": [
          2942,
          2942,
          4025,
          4732,
          5519,
          6086,
          6786,
          7289,
          7954,
          8292,
          8919,
          9404,
          9838,
          10110,
          10327,
          10584,
          7987,
          9096,
          9545,
          9635,
          9600,
          9731,
          9786,
          9910,
          9870,
          10039,
          9935,
          9973,
          10046,
          10267,
          10512,
          10719,
          10716,
          10290,
          9788,
          10384,
          10196,
          10089,
          9788,
          9641,
          9398,
          9338,
          9190,
          9088,
          9005,
          9060,
          9117,
          9144,
          9316,
          9335,
          8837,
          7990,
          7857,
          7266,
          7352,
          7319,
          7297,
          7182,
          7146,
          6965,
          6822,
          6483,
          6226,
          6041,
          5897,
          5600,
          5628,
          5576,
          5613,
          6008,
          5926,
          5848,
          5836,
          5810,
          5821,
          5838,
          5832,
          5852,
          5860,
          5775,
          5706,
          5612,
          5405,
          5201,
          5034,
          4891,
          4727,
          4488,
          4140,
          3834,
          3484,
          3227,
          2952,
          2723,
          2453,
          2232,
          1931,
          1620,
          1267,
          977,
          676,
          424,
          130
         ],
         "yaxis": "y2"
        }
       ],
       "layout": {
        "autotypenumbers": "convert types",
        "font": {
         "color": "RebeccaPurple",
         "family": "Courier New, monospace",
         "size": 18
        },
        "shapes": [
         {
          "line": {
           "color": "black",
           "dash": "dash",
           "width": 3
          },
          "type": "line",
          "x0": "2023-11-03T04:33:02.406612",
          "x1": "2023-11-03T04:33:02.406612",
          "xref": "x",
          "y0": 0,
          "y1": 1,
          "yref": "y domain"
         }
        ],
        "template": {
         "data": {
          "bar": [
           {
            "error_x": {
             "color": "#2a3f5f"
            },
            "error_y": {
             "color": "#2a3f5f"
            },
            "marker": {
             "line": {
              "color": "#E5ECF6",
              "width": 0.5
             }
            },
            "type": "bar"
           }
          ],
          "barpolar": [
           {
            "marker": {
             "line": {
              "color": "#E5ECF6",
              "width": 0.5
             }
            },
            "type": "barpolar"
           }
          ],
          "carpet": [
           {
            "aaxis": {
             "endlinecolor": "#2a3f5f",
             "gridcolor": "white",
             "linecolor": "white",
             "minorgridcolor": "white",
             "startlinecolor": "#2a3f5f"
            },
            "baxis": {
             "endlinecolor": "#2a3f5f",
             "gridcolor": "white",
             "linecolor": "white",
             "minorgridcolor": "white",
             "startlinecolor": "#2a3f5f"
            },
            "type": "carpet"
           }
          ],
          "choropleth": [
           {
            "colorbar": {
             "outlinewidth": 0,
             "ticks": ""
            },
            "type": "choropleth"
           }
          ],
          "contour": [
           {
            "colorbar": {
             "outlinewidth": 0,
             "ticks": ""
            },
            "colorscale": [
             [
              0,
              "#0d0887"
             ],
             [
              0.1111111111111111,
              "#46039f"
             ],
             [
              0.2222222222222222,
              "#7201a8"
             ],
             [
              0.3333333333333333,
              "#9c179e"
             ],
             [
              0.4444444444444444,
              "#bd3786"
             ],
             [
              0.5555555555555556,
              "#d8576b"
             ],
             [
              0.6666666666666666,
              "#ed7953"
             ],
             [
              0.7777777777777778,
              "#fb9f3a"
             ],
             [
              0.8888888888888888,
              "#fdca26"
             ],
             [
              1,
              "#f0f921"
             ]
            ],
            "type": "contour"
           }
          ],
          "contourcarpet": [
           {
            "colorbar": {
             "outlinewidth": 0,
             "ticks": ""
            },
            "type": "contourcarpet"
           }
          ],
          "heatmap": [
           {
            "colorbar": {
             "outlinewidth": 0,
             "ticks": ""
            },
            "colorscale": [
             [
              0,
              "#0d0887"
             ],
             [
              0.1111111111111111,
              "#46039f"
             ],
             [
              0.2222222222222222,
              "#7201a8"
             ],
             [
              0.3333333333333333,
              "#9c179e"
             ],
             [
              0.4444444444444444,
              "#bd3786"
             ],
             [
              0.5555555555555556,
              "#d8576b"
             ],
             [
              0.6666666666666666,
              "#ed7953"
             ],
             [
              0.7777777777777778,
              "#fb9f3a"
             ],
             [
              0.8888888888888888,
              "#fdca26"
             ],
             [
              1,
              "#f0f921"
             ]
            ],
            "type": "heatmap"
           }
          ],
          "heatmapgl": [
           {
            "colorbar": {
             "outlinewidth": 0,
             "ticks": ""
            },
            "colorscale": [
             [
              0,
              "#0d0887"
             ],
             [
              0.1111111111111111,
              "#46039f"
             ],
             [
              0.2222222222222222,
              "#7201a8"
             ],
             [
              0.3333333333333333,
              "#9c179e"
             ],
             [
              0.4444444444444444,
              "#bd3786"
             ],
             [
              0.5555555555555556,
              "#d8576b"
             ],
             [
              0.6666666666666666,
              "#ed7953"
             ],
             [
              0.7777777777777778,
              "#fb9f3a"
             ],
             [
              0.8888888888888888,
              "#fdca26"
             ],
             [
              1,
              "#f0f921"
             ]
            ],
            "type": "heatmapgl"
           }
          ],
          "histogram": [
           {
            "marker": {
             "colorbar": {
              "outlinewidth": 0,
              "ticks": ""
             }
            },
            "type": "histogram"
           }
          ],
          "histogram2d": [
           {
            "colorbar": {
             "outlinewidth": 0,
             "ticks": ""
            },
            "colorscale": [
             [
              0,
              "#0d0887"
             ],
             [
              0.1111111111111111,
              "#46039f"
             ],
             [
              0.2222222222222222,
              "#7201a8"
             ],
             [
              0.3333333333333333,
              "#9c179e"
             ],
             [
              0.4444444444444444,
              "#bd3786"
             ],
             [
              0.5555555555555556,
              "#d8576b"
             ],
             [
              0.6666666666666666,
              "#ed7953"
             ],
             [
              0.7777777777777778,
              "#fb9f3a"
             ],
             [
              0.8888888888888888,
              "#fdca26"
             ],
             [
              1,
              "#f0f921"
             ]
            ],
            "type": "histogram2d"
           }
          ],
          "histogram2dcontour": [
           {
            "colorbar": {
             "outlinewidth": 0,
             "ticks": ""
            },
            "colorscale": [
             [
              0,
              "#0d0887"
             ],
             [
              0.1111111111111111,
              "#46039f"
             ],
             [
              0.2222222222222222,
              "#7201a8"
             ],
             [
              0.3333333333333333,
              "#9c179e"
             ],
             [
              0.4444444444444444,
              "#bd3786"
             ],
             [
              0.5555555555555556,
              "#d8576b"
             ],
             [
              0.6666666666666666,
              "#ed7953"
             ],
             [
              0.7777777777777778,
              "#fb9f3a"
             ],
             [
              0.8888888888888888,
              "#fdca26"
             ],
             [
              1,
              "#f0f921"
             ]
            ],
            "type": "histogram2dcontour"
           }
          ],
          "mesh3d": [
           {
            "colorbar": {
             "outlinewidth": 0,
             "ticks": ""
            },
            "type": "mesh3d"
           }
          ],
          "parcoords": [
           {
            "line": {
             "colorbar": {
              "outlinewidth": 0,
              "ticks": ""
             }
            },
            "type": "parcoords"
           }
          ],
          "pie": [
           {
            "automargin": true,
            "type": "pie"
           }
          ],
          "scatter": [
           {
            "marker": {
             "colorbar": {
              "outlinewidth": 0,
              "ticks": ""
             }
            },
            "type": "scatter"
           }
          ],
          "scatter3d": [
           {
            "line": {
             "colorbar": {
              "outlinewidth": 0,
              "ticks": ""
             }
            },
            "marker": {
             "colorbar": {
              "outlinewidth": 0,
              "ticks": ""
             }
            },
            "type": "scatter3d"
           }
          ],
          "scattercarpet": [
           {
            "marker": {
             "colorbar": {
              "outlinewidth": 0,
              "ticks": ""
             }
            },
            "type": "scattercarpet"
           }
          ],
          "scattergeo": [
           {
            "marker": {
             "colorbar": {
              "outlinewidth": 0,
              "ticks": ""
             }
            },
            "type": "scattergeo"
           }
          ],
          "scattergl": [
           {
            "marker": {
             "colorbar": {
              "outlinewidth": 0,
              "ticks": ""
             }
            },
            "type": "scattergl"
           }
          ],
          "scattermapbox": [
           {
            "marker": {
             "colorbar": {
              "outlinewidth": 0,
              "ticks": ""
             }
            },
            "type": "scattermapbox"
           }
          ],
          "scatterpolar": [
           {
            "marker": {
             "colorbar": {
              "outlinewidth": 0,
              "ticks": ""
             }
            },
            "type": "scatterpolar"
           }
          ],
          "scatterpolargl": [
           {
            "marker": {
             "colorbar": {
              "outlinewidth": 0,
              "ticks": ""
             }
            },
            "type": "scatterpolargl"
           }
          ],
          "scatterternary": [
           {
            "marker": {
             "colorbar": {
              "outlinewidth": 0,
              "ticks": ""
             }
            },
            "type": "scatterternary"
           }
          ],
          "surface": [
           {
            "colorbar": {
             "outlinewidth": 0,
             "ticks": ""
            },
            "colorscale": [
             [
              0,
              "#0d0887"
             ],
             [
              0.1111111111111111,
              "#46039f"
             ],
             [
              0.2222222222222222,
              "#7201a8"
             ],
             [
              0.3333333333333333,
              "#9c179e"
             ],
             [
              0.4444444444444444,
              "#bd3786"
             ],
             [
              0.5555555555555556,
              "#d8576b"
             ],
             [
              0.6666666666666666,
              "#ed7953"
             ],
             [
              0.7777777777777778,
              "#fb9f3a"
             ],
             [
              0.8888888888888888,
              "#fdca26"
             ],
             [
              1,
              "#f0f921"
             ]
            ],
            "type": "surface"
           }
          ],
          "table": [
           {
            "cells": {
             "fill": {
              "color": "#EBF0F8"
             },
             "line": {
              "color": "white"
             }
            },
            "header": {
             "fill": {
              "color": "#C8D4E3"
             },
             "line": {
              "color": "white"
             }
            },
            "type": "table"
           }
          ]
         },
         "layout": {
          "annotationdefaults": {
           "arrowcolor": "#2a3f5f",
           "arrowhead": 0,
           "arrowwidth": 1
          },
          "autotypenumbers": "strict",
          "coloraxis": {
           "colorbar": {
            "outlinewidth": 0,
            "ticks": ""
           }
          },
          "colorscale": {
           "diverging": [
            [
             0,
             "#8e0152"
            ],
            [
             0.1,
             "#c51b7d"
            ],
            [
             0.2,
             "#de77ae"
            ],
            [
             0.3,
             "#f1b6da"
            ],
            [
             0.4,
             "#fde0ef"
            ],
            [
             0.5,
             "#f7f7f7"
            ],
            [
             0.6,
             "#e6f5d0"
            ],
            [
             0.7,
             "#b8e186"
            ],
            [
             0.8,
             "#7fbc41"
            ],
            [
             0.9,
             "#4d9221"
            ],
            [
             1,
             "#276419"
            ]
           ],
           "sequential": [
            [
             0,
             "#0d0887"
            ],
            [
             0.1111111111111111,
             "#46039f"
            ],
            [
             0.2222222222222222,
             "#7201a8"
            ],
            [
             0.3333333333333333,
             "#9c179e"
            ],
            [
             0.4444444444444444,
             "#bd3786"
            ],
            [
             0.5555555555555556,
             "#d8576b"
            ],
            [
             0.6666666666666666,
             "#ed7953"
            ],
            [
             0.7777777777777778,
             "#fb9f3a"
            ],
            [
             0.8888888888888888,
             "#fdca26"
            ],
            [
             1,
             "#f0f921"
            ]
           ],
           "sequentialminus": [
            [
             0,
             "#0d0887"
            ],
            [
             0.1111111111111111,
             "#46039f"
            ],
            [
             0.2222222222222222,
             "#7201a8"
            ],
            [
             0.3333333333333333,
             "#9c179e"
            ],
            [
             0.4444444444444444,
             "#bd3786"
            ],
            [
             0.5555555555555556,
             "#d8576b"
            ],
            [
             0.6666666666666666,
             "#ed7953"
            ],
            [
             0.7777777777777778,
             "#fb9f3a"
            ],
            [
             0.8888888888888888,
             "#fdca26"
            ],
            [
             1,
             "#f0f921"
            ]
           ]
          },
          "colorway": [
           "#636efa",
           "#EF553B",
           "#00cc96",
           "#ab63fa",
           "#FFA15A",
           "#19d3f3",
           "#FF6692",
           "#B6E880",
           "#FF97FF",
           "#FECB52"
          ],
          "font": {
           "color": "#2a3f5f"
          },
          "geo": {
           "bgcolor": "white",
           "lakecolor": "white",
           "landcolor": "#E5ECF6",
           "showlakes": true,
           "showland": true,
           "subunitcolor": "white"
          },
          "hoverlabel": {
           "align": "left"
          },
          "hovermode": "closest",
          "mapbox": {
           "style": "light"
          },
          "paper_bgcolor": "white",
          "plot_bgcolor": "#E5ECF6",
          "polar": {
           "angularaxis": {
            "gridcolor": "white",
            "linecolor": "white",
            "ticks": ""
           },
           "bgcolor": "#E5ECF6",
           "radialaxis": {
            "gridcolor": "white",
            "linecolor": "white",
            "ticks": ""
           }
          },
          "scene": {
           "xaxis": {
            "backgroundcolor": "#E5ECF6",
            "gridcolor": "white",
            "gridwidth": 2,
            "linecolor": "white",
            "showbackground": true,
            "ticks": "",
            "zerolinecolor": "white"
           },
           "yaxis": {
            "backgroundcolor": "#E5ECF6",
            "gridcolor": "white",
            "gridwidth": 2,
            "linecolor": "white",
            "showbackground": true,
            "ticks": "",
            "zerolinecolor": "white"
           },
           "zaxis": {
            "backgroundcolor": "#E5ECF6",
            "gridcolor": "white",
            "gridwidth": 2,
            "linecolor": "white",
            "showbackground": true,
            "ticks": "",
            "zerolinecolor": "white"
           }
          },
          "shapedefaults": {
           "line": {
            "color": "#2a3f5f"
           }
          },
          "ternary": {
           "aaxis": {
            "gridcolor": "white",
            "linecolor": "white",
            "ticks": ""
           },
           "baxis": {
            "gridcolor": "white",
            "linecolor": "white",
            "ticks": ""
           },
           "bgcolor": "#E5ECF6",
           "caxis": {
            "gridcolor": "white",
            "linecolor": "white",
            "ticks": ""
           }
          },
          "title": {
           "x": 0.05
          },
          "xaxis": {
           "automargin": true,
           "gridcolor": "white",
           "linecolor": "white",
           "ticks": "",
           "title": {
            "standoff": 15
           },
           "zerolinecolor": "white",
           "zerolinewidth": 2
          },
          "yaxis": {
           "automargin": true,
           "gridcolor": "white",
           "linecolor": "white",
           "ticks": "",
           "title": {
            "standoff": 15
           },
           "zerolinecolor": "white",
           "zerolinewidth": 2
          }
         }
        },
        "title": {
         "text": "Convex Locker Historic Locks Per Epoch"
        },
        "xaxis": {
         "anchor": "y",
         "domain": [
          0,
          0.94
         ],
         "title": {
          "text": "Epoch Date"
         }
        },
        "yaxis": {
         "anchor": "x",
         "domain": [
          0,
          1
         ],
         "rangemode": "tozero",
         "title": {
          "text": "vlCVX"
         }
        },
        "yaxis2": {
         "anchor": "x",
         "overlaying": "y",
         "rangemode": "tozero",
         "side": "right",
         "title": {
          "text": "Locked Positions"
         }
        }
       }
      }
     },
     "metadata": {},
     "output_type": "display_data"
    }
   ],
   "source": [
    "fig = make_subplots(specs=[[{\"secondary_y\": True}]])\n",
    "fig.update_layout(\n",
    "    title=f\"Convex Locker Historic Locks Per Epoch\",\n",
    "        xaxis_title=\"Epoch Date\",\n",
    "        yaxis_title=\"vlCVX\",\n",
    "        yaxis2_title=\"Locked Positions\",\n",
    "    #     legend_title=\"Legend Title\",\n",
    "    font=dict(\n",
    "        family=\"Courier New, monospace\",\n",
    "        size=18,\n",
    "        color=\"RebeccaPurple\"\n",
    "    ),\n",
    "    # height= 1000,\n",
    ")\n",
    "fig = fig.add_trace(\n",
    "    go.Bar(\n",
    "        x=pcl_agg_system.this_epoch,\n",
    "        y=pcl_agg_system.total_locked,\n",
    "        name=\"Total Locked\",\n",
    "        # color=\"pool_name\"\n",
    "    ),\n",
    "    secondary_y=False\n",
    ")\n",
    "fig = fig.add_trace(\n",
    "    go.Scatter(\n",
    "        x = pcl_agg_system.this_epoch,\n",
    "        y = pcl_agg_system.lock_count, \n",
    "        name = \"Locked Count\",\n",
    "        line_shape='hvh',\n",
    "        line_width=3,\n",
    "    ),\n",
    "    secondary_y=True\n",
    ")\n",
    "fig.add_vline(x=dt.now(), line_width=3, line_dash=\"dash\", line_color=\"black\", )\n",
    "\n",
    "fig.update_layout(autotypenumbers='convert types')\n",
    "fig.update_yaxes(rangemode=\"tozero\")\n",
    "fig.show()"
   ]
  },
  {
   "cell_type": "code",
   "execution_count": 21,
   "metadata": {},
   "outputs": [
    {
     "data": {
      "text/plain": [
       "7522"
      ]
     },
     "execution_count": 21,
     "metadata": {},
     "output_type": "execute_result"
    }
   ],
   "source": [
    "len(df_locker.user.unique())"
   ]
  },
  {
   "cell_type": "code",
   "execution_count": 22,
   "metadata": {},
   "outputs": [
    {
     "data": {
      "text/html": [
       "<div>\n",
       "<style scoped>\n",
       "    .dataframe tbody tr th:only-of-type {\n",
       "        vertical-align: middle;\n",
       "    }\n",
       "\n",
       "    .dataframe tbody tr th {\n",
       "        vertical-align: top;\n",
       "    }\n",
       "\n",
       "    .dataframe thead th {\n",
       "        text-align: right;\n",
       "    }\n",
       "</style>\n",
       "<table border=\"1\" class=\"dataframe\">\n",
       "  <thead>\n",
       "    <tr style=\"text-align: right;\">\n",
       "      <th></th>\n",
       "      <th>block_timestamp</th>\n",
       "      <th>event_name</th>\n",
       "      <th>delegate</th>\n",
       "      <th>delegator</th>\n",
       "      <th>id</th>\n",
       "      <th>origin_from_address</th>\n",
       "      <th>tx_hash</th>\n",
       "      <th>__row_index</th>\n",
       "    </tr>\n",
       "  </thead>\n",
       "  <tbody>\n",
       "    <tr>\n",
       "      <th>0</th>\n",
       "      <td>2023-10-27T13:33:23.000Z</td>\n",
       "      <td>SetDelegate</td>\n",
       "      <td>0xde1e6a7ed0ad3f61d531a8a78e83ccddbd6e0c49</td>\n",
       "      <td>0x4432e64624f4c64633466655de3d5132ad407343</td>\n",
       "      <td>0x6376782e657468000000000000000000000000000000...</td>\n",
       "      <td>0x4432e64624f4c64633466655de3d5132ad407343</td>\n",
       "      <td>0x448e2a2567cdefe83e72e7d5bc5bc2fe1da9cf01a316...</td>\n",
       "      <td>0</td>\n",
       "    </tr>\n",
       "    <tr>\n",
       "      <th>1</th>\n",
       "      <td>2023-10-27T11:01:23.000Z</td>\n",
       "      <td>SetDelegate</td>\n",
       "      <td>0xde1e6a7ed0ad3f61d531a8a78e83ccddbd6e0c49</td>\n",
       "      <td>0xca1146c1d1b26ca782f7388096462189fb09113f</td>\n",
       "      <td>0x6376782e657468000000000000000000000000000000...</td>\n",
       "      <td>0xca1146c1d1b26ca782f7388096462189fb09113f</td>\n",
       "      <td>0x25c6b1b420e6ce892a6d5db12c59a9d37c4bf07eb9c2...</td>\n",
       "      <td>1</td>\n",
       "    </tr>\n",
       "    <tr>\n",
       "      <th>2</th>\n",
       "      <td>2023-10-27T09:32:47.000Z</td>\n",
       "      <td>SetDelegate</td>\n",
       "      <td>0x56f610e0c5f2f64a6b599cc5481d35e70d2e63e7</td>\n",
       "      <td>0xfedcaa011c9fc474d8cb063cef1b8d1772b40f28</td>\n",
       "      <td>0x6376782e657468000000000000000000000000000000...</td>\n",
       "      <td>0xfedcaa011c9fc474d8cb063cef1b8d1772b40f28</td>\n",
       "      <td>0x7e10494c25c953370963fea6e0345830f7a22e66de79...</td>\n",
       "      <td>2</td>\n",
       "    </tr>\n",
       "    <tr>\n",
       "      <th>3</th>\n",
       "      <td>2023-10-26T22:46:11.000Z</td>\n",
       "      <td>SetDelegate</td>\n",
       "      <td>0x68378fcb3a27d5613afcfddb590d35a6e751972c</td>\n",
       "      <td>0x5275817b74021e97c980e95ede6bbac0d0d6f3a2</td>\n",
       "      <td>0x6376782e657468000000000000000000000000000000...</td>\n",
       "      <td>0x5275817b74021e97c980e95ede6bbac0d0d6f3a2</td>\n",
       "      <td>0x9e758790bd92f31b63647d6c9294710d12c6e7d2da74...</td>\n",
       "      <td>3</td>\n",
       "    </tr>\n",
       "    <tr>\n",
       "      <th>4</th>\n",
       "      <td>2023-10-26T16:16:47.000Z</td>\n",
       "      <td>SetDelegate</td>\n",
       "      <td>0x947b7742c403f20e5faccdac5e092c943e7d0277</td>\n",
       "      <td>0x886969be23b1a38008021c418aae5df8b0efeab9</td>\n",
       "      <td>0x6376782e657468000000000000000000000000000000...</td>\n",
       "      <td>0x886969be23b1a38008021c418aae5df8b0efeab9</td>\n",
       "      <td>0xcf1505bc9533c3b5aee380f190779219992f6e73be01...</td>\n",
       "      <td>4</td>\n",
       "    </tr>\n",
       "    <tr>\n",
       "      <th>...</th>\n",
       "      <td>...</td>\n",
       "      <td>...</td>\n",
       "      <td>...</td>\n",
       "      <td>...</td>\n",
       "      <td>...</td>\n",
       "      <td>...</td>\n",
       "      <td>...</td>\n",
       "      <td>...</td>\n",
       "    </tr>\n",
       "    <tr>\n",
       "      <th>11189</th>\n",
       "      <td>2021-08-28T06:28:23.000Z</td>\n",
       "      <td>SetDelegate</td>\n",
       "      <td>0xde1e6a7ed0ad3f61d531a8a78e83ccddbd6e0c49</td>\n",
       "      <td>0x37b1884205cc47c2bf5cf5a0248946c4c0c85724</td>\n",
       "      <td>0x6376782e657468000000000000000000000000000000...</td>\n",
       "      <td>0x37b1884205cc47c2bf5cf5a0248946c4c0c85724</td>\n",
       "      <td>0x7c7e7f213c074646d470136eae78b22fad7c31b6f477...</td>\n",
       "      <td>11189</td>\n",
       "    </tr>\n",
       "    <tr>\n",
       "      <th>11190</th>\n",
       "      <td>2021-08-27T07:30:09.000Z</td>\n",
       "      <td>SetDelegate</td>\n",
       "      <td>0xde1e6a7ed0ad3f61d531a8a78e83ccddbd6e0c49</td>\n",
       "      <td>0x897258c8557e6205f7747b9cae593db334d8f5bf</td>\n",
       "      <td>0x6376782e657468000000000000000000000000000000...</td>\n",
       "      <td>0x897258c8557e6205f7747b9cae593db334d8f5bf</td>\n",
       "      <td>0xb4d55d7a5a8f9f465934a925752148a489478e7bfe63...</td>\n",
       "      <td>11190</td>\n",
       "    </tr>\n",
       "    <tr>\n",
       "      <th>11191</th>\n",
       "      <td>2021-08-20T02:17:39.000Z</td>\n",
       "      <td>SetDelegate</td>\n",
       "      <td>0xde1e6a7ed0ad3f61d531a8a78e83ccddbd6e0c49</td>\n",
       "      <td>0x3cebfe73cc946b9c7db360a07c14cc3ad135da48</td>\n",
       "      <td>0x6376782e657468000000000000000000000000000000...</td>\n",
       "      <td>0x3cebfe73cc946b9c7db360a07c14cc3ad135da48</td>\n",
       "      <td>0x7d339e5a9ca2c5e268752d1ea819b3157e99b70ab79f...</td>\n",
       "      <td>11191</td>\n",
       "    </tr>\n",
       "    <tr>\n",
       "      <th>11192</th>\n",
       "      <td>2021-08-18T12:54:42.000Z</td>\n",
       "      <td>SetDelegate</td>\n",
       "      <td>0x78592ff362f83f765d5a9ed1b9d6880ea87c215a</td>\n",
       "      <td>0x3f86c3a4d4857a6f92999f214e2ed3ae7bb852c1</td>\n",
       "      <td>0x6376782e657468000000000000000000000000000000...</td>\n",
       "      <td>0x3f86c3a4d4857a6f92999f214e2ed3ae7bb852c1</td>\n",
       "      <td>0x2049716e9eb7a1bb61b89efb483e0fa01dd790f87d28...</td>\n",
       "      <td>11192</td>\n",
       "    </tr>\n",
       "    <tr>\n",
       "      <th>11193</th>\n",
       "      <td>2021-07-26T00:06:21.000Z</td>\n",
       "      <td>SetDelegate</td>\n",
       "      <td>0x724061efdfef4a421e8be05133ad24922d07b5bf</td>\n",
       "      <td>0x6daa190c87b24ee12cfbf26ef406cb7b2d95089b</td>\n",
       "      <td>0x6376782e657468000000000000000000000000000000...</td>\n",
       "      <td>0x6daa190c87b24ee12cfbf26ef406cb7b2d95089b</td>\n",
       "      <td>0x64cacda834ab126a7ef780fffc33dcf2ba35b8ac2ab4...</td>\n",
       "      <td>11193</td>\n",
       "    </tr>\n",
       "  </tbody>\n",
       "</table>\n",
       "<p>11194 rows × 8 columns</p>\n",
       "</div>"
      ],
      "text/plain": [
       "                block_timestamp   event_name  \\\n",
       "0      2023-10-27T13:33:23.000Z  SetDelegate   \n",
       "1      2023-10-27T11:01:23.000Z  SetDelegate   \n",
       "2      2023-10-27T09:32:47.000Z  SetDelegate   \n",
       "3      2023-10-26T22:46:11.000Z  SetDelegate   \n",
       "4      2023-10-26T16:16:47.000Z  SetDelegate   \n",
       "...                         ...          ...   \n",
       "11189  2021-08-28T06:28:23.000Z  SetDelegate   \n",
       "11190  2021-08-27T07:30:09.000Z  SetDelegate   \n",
       "11191  2021-08-20T02:17:39.000Z  SetDelegate   \n",
       "11192  2021-08-18T12:54:42.000Z  SetDelegate   \n",
       "11193  2021-07-26T00:06:21.000Z  SetDelegate   \n",
       "\n",
       "                                         delegate  \\\n",
       "0      0xde1e6a7ed0ad3f61d531a8a78e83ccddbd6e0c49   \n",
       "1      0xde1e6a7ed0ad3f61d531a8a78e83ccddbd6e0c49   \n",
       "2      0x56f610e0c5f2f64a6b599cc5481d35e70d2e63e7   \n",
       "3      0x68378fcb3a27d5613afcfddb590d35a6e751972c   \n",
       "4      0x947b7742c403f20e5faccdac5e092c943e7d0277   \n",
       "...                                           ...   \n",
       "11189  0xde1e6a7ed0ad3f61d531a8a78e83ccddbd6e0c49   \n",
       "11190  0xde1e6a7ed0ad3f61d531a8a78e83ccddbd6e0c49   \n",
       "11191  0xde1e6a7ed0ad3f61d531a8a78e83ccddbd6e0c49   \n",
       "11192  0x78592ff362f83f765d5a9ed1b9d6880ea87c215a   \n",
       "11193  0x724061efdfef4a421e8be05133ad24922d07b5bf   \n",
       "\n",
       "                                        delegator  \\\n",
       "0      0x4432e64624f4c64633466655de3d5132ad407343   \n",
       "1      0xca1146c1d1b26ca782f7388096462189fb09113f   \n",
       "2      0xfedcaa011c9fc474d8cb063cef1b8d1772b40f28   \n",
       "3      0x5275817b74021e97c980e95ede6bbac0d0d6f3a2   \n",
       "4      0x886969be23b1a38008021c418aae5df8b0efeab9   \n",
       "...                                           ...   \n",
       "11189  0x37b1884205cc47c2bf5cf5a0248946c4c0c85724   \n",
       "11190  0x897258c8557e6205f7747b9cae593db334d8f5bf   \n",
       "11191  0x3cebfe73cc946b9c7db360a07c14cc3ad135da48   \n",
       "11192  0x3f86c3a4d4857a6f92999f214e2ed3ae7bb852c1   \n",
       "11193  0x6daa190c87b24ee12cfbf26ef406cb7b2d95089b   \n",
       "\n",
       "                                                      id  \\\n",
       "0      0x6376782e657468000000000000000000000000000000...   \n",
       "1      0x6376782e657468000000000000000000000000000000...   \n",
       "2      0x6376782e657468000000000000000000000000000000...   \n",
       "3      0x6376782e657468000000000000000000000000000000...   \n",
       "4      0x6376782e657468000000000000000000000000000000...   \n",
       "...                                                  ...   \n",
       "11189  0x6376782e657468000000000000000000000000000000...   \n",
       "11190  0x6376782e657468000000000000000000000000000000...   \n",
       "11191  0x6376782e657468000000000000000000000000000000...   \n",
       "11192  0x6376782e657468000000000000000000000000000000...   \n",
       "11193  0x6376782e657468000000000000000000000000000000...   \n",
       "\n",
       "                              origin_from_address  \\\n",
       "0      0x4432e64624f4c64633466655de3d5132ad407343   \n",
       "1      0xca1146c1d1b26ca782f7388096462189fb09113f   \n",
       "2      0xfedcaa011c9fc474d8cb063cef1b8d1772b40f28   \n",
       "3      0x5275817b74021e97c980e95ede6bbac0d0d6f3a2   \n",
       "4      0x886969be23b1a38008021c418aae5df8b0efeab9   \n",
       "...                                           ...   \n",
       "11189  0x37b1884205cc47c2bf5cf5a0248946c4c0c85724   \n",
       "11190  0x897258c8557e6205f7747b9cae593db334d8f5bf   \n",
       "11191  0x3cebfe73cc946b9c7db360a07c14cc3ad135da48   \n",
       "11192  0x3f86c3a4d4857a6f92999f214e2ed3ae7bb852c1   \n",
       "11193  0x6daa190c87b24ee12cfbf26ef406cb7b2d95089b   \n",
       "\n",
       "                                                 tx_hash __row_index  \n",
       "0      0x448e2a2567cdefe83e72e7d5bc5bc2fe1da9cf01a316...           0  \n",
       "1      0x25c6b1b420e6ce892a6d5db12c59a9d37c4bf07eb9c2...           1  \n",
       "2      0x7e10494c25c953370963fea6e0345830f7a22e66de79...           2  \n",
       "3      0x9e758790bd92f31b63647d6c9294710d12c6e7d2da74...           3  \n",
       "4      0xcf1505bc9533c3b5aee380f190779219992f6e73be01...           4  \n",
       "...                                                  ...         ...  \n",
       "11189  0x7c7e7f213c074646d470136eae78b22fad7c31b6f477...       11189  \n",
       "11190  0xb4d55d7a5a8f9f465934a925752148a489478e7bfe63...       11190  \n",
       "11191  0x7d339e5a9ca2c5e268752d1ea819b3157e99b70ab79f...       11191  \n",
       "11192  0x2049716e9eb7a1bb61b89efb483e0fa01dd790f87d28...       11192  \n",
       "11193  0x64cacda834ab126a7ef780fffc33dcf2ba35b8ac2ab4...       11193  \n",
       "\n",
       "[11194 rows x 8 columns]"
      ]
     },
     "execution_count": 22,
     "metadata": {},
     "output_type": "execute_result"
    }
   ],
   "source": [
    "df_delegations"
   ]
  },
  {
   "cell_type": "code",
   "execution_count": 23,
   "metadata": {},
   "outputs": [],
   "source": [
    "# fig = px.pie(df, values='pop', names='country', title='Population of European continent')\n",
    "# fig.show()"
   ]
  },
  {
   "cell_type": "code",
   "execution_count": 24,
   "metadata": {},
   "outputs": [
    {
     "data": {
      "text/plain": [
       "'2022-12-22 00:00:25.000'"
      ]
     },
     "execution_count": 24,
     "metadata": {},
     "output_type": "execute_result"
    }
   ],
   "source": [
    "df_snapshot_votes = df_convex_snapshot_vote_choice\n",
    "proposal_starts = df_snapshot_votes.proposal_start.unique()\n",
    "current_date = proposal_starts[0]\n",
    "current_date"
   ]
  },
  {
   "cell_type": "code",
   "execution_count": 25,
   "metadata": {},
   "outputs": [],
   "source": [
    "df_local = df_delegations[df_delegations['block_timestamp'] < current_date ]\n",
    "df_local = df_local.sort_values(['block_timestamp']).groupby(['delegator']).tail(1)\n",
    "df_local['checkpoint'] = current_date\n"
   ]
  },
  {
   "cell_type": "code",
   "execution_count": 26,
   "metadata": {},
   "outputs": [
    {
     "data": {
      "text/html": [
       "<div>\n",
       "<style scoped>\n",
       "    .dataframe tbody tr th:only-of-type {\n",
       "        vertical-align: middle;\n",
       "    }\n",
       "\n",
       "    .dataframe tbody tr th {\n",
       "        vertical-align: top;\n",
       "    }\n",
       "\n",
       "    .dataframe thead th {\n",
       "        text-align: right;\n",
       "    }\n",
       "</style>\n",
       "<table border=\"1\" class=\"dataframe\">\n",
       "  <thead>\n",
       "    <tr style=\"text-align: right;\">\n",
       "      <th></th>\n",
       "      <th>block_timestamp</th>\n",
       "      <th>event_name</th>\n",
       "      <th>delegate</th>\n",
       "      <th>delegator</th>\n",
       "      <th>id</th>\n",
       "      <th>origin_from_address</th>\n",
       "      <th>tx_hash</th>\n",
       "      <th>__row_index</th>\n",
       "      <th>checkpoint</th>\n",
       "    </tr>\n",
       "  </thead>\n",
       "  <tbody>\n",
       "    <tr>\n",
       "      <th>11193</th>\n",
       "      <td>2021-07-26T00:06:21.000Z</td>\n",
       "      <td>SetDelegate</td>\n",
       "      <td>0x724061efdfef4a421e8be05133ad24922d07b5bf</td>\n",
       "      <td>0x6daa190c87b24ee12cfbf26ef406cb7b2d95089b</td>\n",
       "      <td>0x6376782e657468000000000000000000000000000000...</td>\n",
       "      <td>0x6daa190c87b24ee12cfbf26ef406cb7b2d95089b</td>\n",
       "      <td>0x64cacda834ab126a7ef780fffc33dcf2ba35b8ac2ab4...</td>\n",
       "      <td>11193</td>\n",
       "      <td>2022-12-22 00:00:25.000</td>\n",
       "    </tr>\n",
       "    <tr>\n",
       "      <th>11192</th>\n",
       "      <td>2021-08-18T12:54:42.000Z</td>\n",
       "      <td>SetDelegate</td>\n",
       "      <td>0x78592ff362f83f765d5a9ed1b9d6880ea87c215a</td>\n",
       "      <td>0x3f86c3a4d4857a6f92999f214e2ed3ae7bb852c1</td>\n",
       "      <td>0x6376782e657468000000000000000000000000000000...</td>\n",
       "      <td>0x3f86c3a4d4857a6f92999f214e2ed3ae7bb852c1</td>\n",
       "      <td>0x2049716e9eb7a1bb61b89efb483e0fa01dd790f87d28...</td>\n",
       "      <td>11192</td>\n",
       "      <td>2022-12-22 00:00:25.000</td>\n",
       "    </tr>\n",
       "    <tr>\n",
       "      <th>11191</th>\n",
       "      <td>2021-08-20T02:17:39.000Z</td>\n",
       "      <td>SetDelegate</td>\n",
       "      <td>0xde1e6a7ed0ad3f61d531a8a78e83ccddbd6e0c49</td>\n",
       "      <td>0x3cebfe73cc946b9c7db360a07c14cc3ad135da48</td>\n",
       "      <td>0x6376782e657468000000000000000000000000000000...</td>\n",
       "      <td>0x3cebfe73cc946b9c7db360a07c14cc3ad135da48</td>\n",
       "      <td>0x7d339e5a9ca2c5e268752d1ea819b3157e99b70ab79f...</td>\n",
       "      <td>11191</td>\n",
       "      <td>2022-12-22 00:00:25.000</td>\n",
       "    </tr>\n",
       "    <tr>\n",
       "      <th>11190</th>\n",
       "      <td>2021-08-27T07:30:09.000Z</td>\n",
       "      <td>SetDelegate</td>\n",
       "      <td>0xde1e6a7ed0ad3f61d531a8a78e83ccddbd6e0c49</td>\n",
       "      <td>0x897258c8557e6205f7747b9cae593db334d8f5bf</td>\n",
       "      <td>0x6376782e657468000000000000000000000000000000...</td>\n",
       "      <td>0x897258c8557e6205f7747b9cae593db334d8f5bf</td>\n",
       "      <td>0xb4d55d7a5a8f9f465934a925752148a489478e7bfe63...</td>\n",
       "      <td>11190</td>\n",
       "      <td>2022-12-22 00:00:25.000</td>\n",
       "    </tr>\n",
       "    <tr>\n",
       "      <th>11189</th>\n",
       "      <td>2021-08-28T06:28:23.000Z</td>\n",
       "      <td>SetDelegate</td>\n",
       "      <td>0xde1e6a7ed0ad3f61d531a8a78e83ccddbd6e0c49</td>\n",
       "      <td>0x37b1884205cc47c2bf5cf5a0248946c4c0c85724</td>\n",
       "      <td>0x6376782e657468000000000000000000000000000000...</td>\n",
       "      <td>0x37b1884205cc47c2bf5cf5a0248946c4c0c85724</td>\n",
       "      <td>0x7c7e7f213c074646d470136eae78b22fad7c31b6f477...</td>\n",
       "      <td>11189</td>\n",
       "      <td>2022-12-22 00:00:25.000</td>\n",
       "    </tr>\n",
       "    <tr>\n",
       "      <th>...</th>\n",
       "      <td>...</td>\n",
       "      <td>...</td>\n",
       "      <td>...</td>\n",
       "      <td>...</td>\n",
       "      <td>...</td>\n",
       "      <td>...</td>\n",
       "      <td>...</td>\n",
       "      <td>...</td>\n",
       "      <td>...</td>\n",
       "    </tr>\n",
       "    <tr>\n",
       "      <th>1198</th>\n",
       "      <td>2022-12-20T10:43:59.000Z</td>\n",
       "      <td>SetDelegate</td>\n",
       "      <td>0xde1e6a7ed0ad3f61d531a8a78e83ccddbd6e0c49</td>\n",
       "      <td>0xe47fd677ba6d3738cec98aa18bb6fa015b6f7bda</td>\n",
       "      <td>0x6376782e657468000000000000000000000000000000...</td>\n",
       "      <td>0xe47fd677ba6d3738cec98aa18bb6fa015b6f7bda</td>\n",
       "      <td>0xda26e9f7fb314144f19960a81cb2c0f2883afc5eb73b...</td>\n",
       "      <td>1198</td>\n",
       "      <td>2022-12-22 00:00:25.000</td>\n",
       "    </tr>\n",
       "    <tr>\n",
       "      <th>1197</th>\n",
       "      <td>2022-12-20T21:02:35.000Z</td>\n",
       "      <td>SetDelegate</td>\n",
       "      <td>0x947b7742c403f20e5faccdac5e092c943e7d0277</td>\n",
       "      <td>0xec53ab6f6a2c5112c2a361d1f2b01f170824a5ce</td>\n",
       "      <td>0x6376782e657468000000000000000000000000000000...</td>\n",
       "      <td>0xec53ab6f6a2c5112c2a361d1f2b01f170824a5ce</td>\n",
       "      <td>0xab53d96b1fa885f014c513992b93a12954b2a3f4ec23...</td>\n",
       "      <td>1197</td>\n",
       "      <td>2022-12-22 00:00:25.000</td>\n",
       "    </tr>\n",
       "    <tr>\n",
       "      <th>1196</th>\n",
       "      <td>2022-12-20T21:41:23.000Z</td>\n",
       "      <td>SetDelegate</td>\n",
       "      <td>0xde1e6a7ed0ad3f61d531a8a78e83ccddbd6e0c49</td>\n",
       "      <td>0x41374b389772d5aed41240a57f5ffb087c6bfa93</td>\n",
       "      <td>0x6376782e657468000000000000000000000000000000...</td>\n",
       "      <td>0x41374b389772d5aed41240a57f5ffb087c6bfa93</td>\n",
       "      <td>0x550a824d8c12f2010d9015f84bbb293caeede622e143...</td>\n",
       "      <td>1196</td>\n",
       "      <td>2022-12-22 00:00:25.000</td>\n",
       "    </tr>\n",
       "    <tr>\n",
       "      <th>1195</th>\n",
       "      <td>2022-12-21T15:39:35.000Z</td>\n",
       "      <td>SetDelegate</td>\n",
       "      <td>0x947b7742c403f20e5faccdac5e092c943e7d0277</td>\n",
       "      <td>0x0dcb0fc0891d54ba982bddd7b67c5ca323c563f2</td>\n",
       "      <td>0x6376782e657468000000000000000000000000000000...</td>\n",
       "      <td>0x0dcb0fc0891d54ba982bddd7b67c5ca323c563f2</td>\n",
       "      <td>0xd2643f9c4e233aab7cfa3a5d681a9b00765bf4bfd567...</td>\n",
       "      <td>1195</td>\n",
       "      <td>2022-12-22 00:00:25.000</td>\n",
       "    </tr>\n",
       "    <tr>\n",
       "      <th>1194</th>\n",
       "      <td>2022-12-21T16:59:23.000Z</td>\n",
       "      <td>SetDelegate</td>\n",
       "      <td>0x947b7742c403f20e5faccdac5e092c943e7d0277</td>\n",
       "      <td>0xbd5622c171b879920d79d5bd7346c547fc7d4ada</td>\n",
       "      <td>0x6376782e657468000000000000000000000000000000...</td>\n",
       "      <td>0xbd5622c171b879920d79d5bd7346c547fc7d4ada</td>\n",
       "      <td>0xbcfff3742166e0988abb165e0b0ab666dea429390bed...</td>\n",
       "      <td>1194</td>\n",
       "      <td>2022-12-22 00:00:25.000</td>\n",
       "    </tr>\n",
       "  </tbody>\n",
       "</table>\n",
       "<p>8062 rows × 9 columns</p>\n",
       "</div>"
      ],
      "text/plain": [
       "                block_timestamp   event_name  \\\n",
       "11193  2021-07-26T00:06:21.000Z  SetDelegate   \n",
       "11192  2021-08-18T12:54:42.000Z  SetDelegate   \n",
       "11191  2021-08-20T02:17:39.000Z  SetDelegate   \n",
       "11190  2021-08-27T07:30:09.000Z  SetDelegate   \n",
       "11189  2021-08-28T06:28:23.000Z  SetDelegate   \n",
       "...                         ...          ...   \n",
       "1198   2022-12-20T10:43:59.000Z  SetDelegate   \n",
       "1197   2022-12-20T21:02:35.000Z  SetDelegate   \n",
       "1196   2022-12-20T21:41:23.000Z  SetDelegate   \n",
       "1195   2022-12-21T15:39:35.000Z  SetDelegate   \n",
       "1194   2022-12-21T16:59:23.000Z  SetDelegate   \n",
       "\n",
       "                                         delegate  \\\n",
       "11193  0x724061efdfef4a421e8be05133ad24922d07b5bf   \n",
       "11192  0x78592ff362f83f765d5a9ed1b9d6880ea87c215a   \n",
       "11191  0xde1e6a7ed0ad3f61d531a8a78e83ccddbd6e0c49   \n",
       "11190  0xde1e6a7ed0ad3f61d531a8a78e83ccddbd6e0c49   \n",
       "11189  0xde1e6a7ed0ad3f61d531a8a78e83ccddbd6e0c49   \n",
       "...                                           ...   \n",
       "1198   0xde1e6a7ed0ad3f61d531a8a78e83ccddbd6e0c49   \n",
       "1197   0x947b7742c403f20e5faccdac5e092c943e7d0277   \n",
       "1196   0xde1e6a7ed0ad3f61d531a8a78e83ccddbd6e0c49   \n",
       "1195   0x947b7742c403f20e5faccdac5e092c943e7d0277   \n",
       "1194   0x947b7742c403f20e5faccdac5e092c943e7d0277   \n",
       "\n",
       "                                        delegator  \\\n",
       "11193  0x6daa190c87b24ee12cfbf26ef406cb7b2d95089b   \n",
       "11192  0x3f86c3a4d4857a6f92999f214e2ed3ae7bb852c1   \n",
       "11191  0x3cebfe73cc946b9c7db360a07c14cc3ad135da48   \n",
       "11190  0x897258c8557e6205f7747b9cae593db334d8f5bf   \n",
       "11189  0x37b1884205cc47c2bf5cf5a0248946c4c0c85724   \n",
       "...                                           ...   \n",
       "1198   0xe47fd677ba6d3738cec98aa18bb6fa015b6f7bda   \n",
       "1197   0xec53ab6f6a2c5112c2a361d1f2b01f170824a5ce   \n",
       "1196   0x41374b389772d5aed41240a57f5ffb087c6bfa93   \n",
       "1195   0x0dcb0fc0891d54ba982bddd7b67c5ca323c563f2   \n",
       "1194   0xbd5622c171b879920d79d5bd7346c547fc7d4ada   \n",
       "\n",
       "                                                      id  \\\n",
       "11193  0x6376782e657468000000000000000000000000000000...   \n",
       "11192  0x6376782e657468000000000000000000000000000000...   \n",
       "11191  0x6376782e657468000000000000000000000000000000...   \n",
       "11190  0x6376782e657468000000000000000000000000000000...   \n",
       "11189  0x6376782e657468000000000000000000000000000000...   \n",
       "...                                                  ...   \n",
       "1198   0x6376782e657468000000000000000000000000000000...   \n",
       "1197   0x6376782e657468000000000000000000000000000000...   \n",
       "1196   0x6376782e657468000000000000000000000000000000...   \n",
       "1195   0x6376782e657468000000000000000000000000000000...   \n",
       "1194   0x6376782e657468000000000000000000000000000000...   \n",
       "\n",
       "                              origin_from_address  \\\n",
       "11193  0x6daa190c87b24ee12cfbf26ef406cb7b2d95089b   \n",
       "11192  0x3f86c3a4d4857a6f92999f214e2ed3ae7bb852c1   \n",
       "11191  0x3cebfe73cc946b9c7db360a07c14cc3ad135da48   \n",
       "11190  0x897258c8557e6205f7747b9cae593db334d8f5bf   \n",
       "11189  0x37b1884205cc47c2bf5cf5a0248946c4c0c85724   \n",
       "...                                           ...   \n",
       "1198   0xe47fd677ba6d3738cec98aa18bb6fa015b6f7bda   \n",
       "1197   0xec53ab6f6a2c5112c2a361d1f2b01f170824a5ce   \n",
       "1196   0x41374b389772d5aed41240a57f5ffb087c6bfa93   \n",
       "1195   0x0dcb0fc0891d54ba982bddd7b67c5ca323c563f2   \n",
       "1194   0xbd5622c171b879920d79d5bd7346c547fc7d4ada   \n",
       "\n",
       "                                                 tx_hash __row_index  \\\n",
       "11193  0x64cacda834ab126a7ef780fffc33dcf2ba35b8ac2ab4...       11193   \n",
       "11192  0x2049716e9eb7a1bb61b89efb483e0fa01dd790f87d28...       11192   \n",
       "11191  0x7d339e5a9ca2c5e268752d1ea819b3157e99b70ab79f...       11191   \n",
       "11190  0xb4d55d7a5a8f9f465934a925752148a489478e7bfe63...       11190   \n",
       "11189  0x7c7e7f213c074646d470136eae78b22fad7c31b6f477...       11189   \n",
       "...                                                  ...         ...   \n",
       "1198   0xda26e9f7fb314144f19960a81cb2c0f2883afc5eb73b...        1198   \n",
       "1197   0xab53d96b1fa885f014c513992b93a12954b2a3f4ec23...        1197   \n",
       "1196   0x550a824d8c12f2010d9015f84bbb293caeede622e143...        1196   \n",
       "1195   0xd2643f9c4e233aab7cfa3a5d681a9b00765bf4bfd567...        1195   \n",
       "1194   0xbcfff3742166e0988abb165e0b0ab666dea429390bed...        1194   \n",
       "\n",
       "                    checkpoint  \n",
       "11193  2022-12-22 00:00:25.000  \n",
       "11192  2022-12-22 00:00:25.000  \n",
       "11191  2022-12-22 00:00:25.000  \n",
       "11190  2022-12-22 00:00:25.000  \n",
       "11189  2022-12-22 00:00:25.000  \n",
       "...                        ...  \n",
       "1198   2022-12-22 00:00:25.000  \n",
       "1197   2022-12-22 00:00:25.000  \n",
       "1196   2022-12-22 00:00:25.000  \n",
       "1195   2022-12-22 00:00:25.000  \n",
       "1194   2022-12-22 00:00:25.000  \n",
       "\n",
       "[8062 rows x 9 columns]"
      ]
     },
     "execution_count": 26,
     "metadata": {},
     "output_type": "execute_result"
    }
   ],
   "source": [
    "df_local"
   ]
  },
  {
   "cell_type": "code",
   "execution_count": 27,
   "metadata": {},
   "outputs": [
    {
     "data": {
      "text/html": [
       "<div>\n",
       "<style scoped>\n",
       "    .dataframe tbody tr th:only-of-type {\n",
       "        vertical-align: middle;\n",
       "    }\n",
       "\n",
       "    .dataframe tbody tr th {\n",
       "        vertical-align: top;\n",
       "    }\n",
       "\n",
       "    .dataframe thead th {\n",
       "        text-align: right;\n",
       "    }\n",
       "</style>\n",
       "<table border=\"1\" class=\"dataframe\">\n",
       "  <thead>\n",
       "    <tr style=\"text-align: right;\">\n",
       "      <th></th>\n",
       "      <th>this_epoch</th>\n",
       "      <th>user</th>\n",
       "      <th>known_as</th>\n",
       "      <th>display_name</th>\n",
       "      <th>current_locked</th>\n",
       "      <th>lock_count</th>\n",
       "    </tr>\n",
       "  </thead>\n",
       "  <tbody>\n",
       "    <tr>\n",
       "      <th>173495</th>\n",
       "      <td>2022-12-21 19:00:00</td>\n",
       "      <td>0x0001f85d5eecc0a176e6197690baa3e62bde35c5</td>\n",
       "      <td>_</td>\n",
       "      <td>_ (0x0001)</td>\n",
       "      <td>302.856397</td>\n",
       "      <td>1</td>\n",
       "    </tr>\n",
       "    <tr>\n",
       "      <th>173496</th>\n",
       "      <td>2022-12-21 19:00:00</td>\n",
       "      <td>0x0017dfe08bcc0dc9a323ca5d4831e371534e9320</td>\n",
       "      <td>_</td>\n",
       "      <td>_ (0x0017)</td>\n",
       "      <td>3503.824879</td>\n",
       "      <td>1</td>\n",
       "    </tr>\n",
       "    <tr>\n",
       "      <th>173497</th>\n",
       "      <td>2022-12-21 19:00:00</td>\n",
       "      <td>0x0022e00560d1fd651e71df08d98edc028e3baf1a</td>\n",
       "      <td>_</td>\n",
       "      <td>_ (0x0022)</td>\n",
       "      <td>314.741854</td>\n",
       "      <td>1</td>\n",
       "    </tr>\n",
       "    <tr>\n",
       "      <th>173498</th>\n",
       "      <td>2022-12-21 19:00:00</td>\n",
       "      <td>0x0034daf2e65f6ef82bc6f893dbbfd7c232a0e59c</td>\n",
       "      <td>_</td>\n",
       "      <td>_ (0x0034)</td>\n",
       "      <td>4116.078932</td>\n",
       "      <td>9</td>\n",
       "    </tr>\n",
       "    <tr>\n",
       "      <th>173499</th>\n",
       "      <td>2022-12-21 19:00:00</td>\n",
       "      <td>0x003cd8f2dccf85848086958af7710c15461cff1f</td>\n",
       "      <td>_</td>\n",
       "      <td>_ (0x003c)</td>\n",
       "      <td>11.719130</td>\n",
       "      <td>2</td>\n",
       "    </tr>\n",
       "    <tr>\n",
       "      <th>...</th>\n",
       "      <td>...</td>\n",
       "      <td>...</td>\n",
       "      <td>...</td>\n",
       "      <td>...</td>\n",
       "      <td>...</td>\n",
       "      <td>...</td>\n",
       "    </tr>\n",
       "    <tr>\n",
       "      <th>177005</th>\n",
       "      <td>2022-12-21 19:00:00</td>\n",
       "      <td>0xff9a717fcf03318485579c4b553820edf73adf0a</td>\n",
       "      <td>_</td>\n",
       "      <td>_ (0xff9a)</td>\n",
       "      <td>44766.527170</td>\n",
       "      <td>9</td>\n",
       "    </tr>\n",
       "    <tr>\n",
       "      <th>177006</th>\n",
       "      <td>2022-12-21 19:00:00</td>\n",
       "      <td>0xff9b90914e248339ab0a50bf4798ef8b012eac79</td>\n",
       "      <td>_</td>\n",
       "      <td>_ (0xff9b)</td>\n",
       "      <td>4482.053422</td>\n",
       "      <td>2</td>\n",
       "    </tr>\n",
       "    <tr>\n",
       "      <th>177007</th>\n",
       "      <td>2022-12-21 19:00:00</td>\n",
       "      <td>0xffd3da76203642d4ee112893f33749a0df7ea7fd</td>\n",
       "      <td>_</td>\n",
       "      <td>_ (0xffd3)</td>\n",
       "      <td>1469.265502</td>\n",
       "      <td>2</td>\n",
       "    </tr>\n",
       "    <tr>\n",
       "      <th>177008</th>\n",
       "      <td>2022-12-21 19:00:00</td>\n",
       "      <td>0xffe4e3986d18333402564ea64f3a83fcc1907b52</td>\n",
       "      <td>_</td>\n",
       "      <td>_ (0xffe4)</td>\n",
       "      <td>15.809179</td>\n",
       "      <td>2</td>\n",
       "    </tr>\n",
       "    <tr>\n",
       "      <th>177009</th>\n",
       "      <td>2022-12-21 19:00:00</td>\n",
       "      <td>0xfff30cddd7013124f06a34a330053a1737afb514</td>\n",
       "      <td>_</td>\n",
       "      <td>_ (0xfff3)</td>\n",
       "      <td>364.127136</td>\n",
       "      <td>1</td>\n",
       "    </tr>\n",
       "  </tbody>\n",
       "</table>\n",
       "<p>3515 rows × 6 columns</p>\n",
       "</div>"
      ],
      "text/plain": [
       "                this_epoch                                        user  \\\n",
       "173495 2022-12-21 19:00:00  0x0001f85d5eecc0a176e6197690baa3e62bde35c5   \n",
       "173496 2022-12-21 19:00:00  0x0017dfe08bcc0dc9a323ca5d4831e371534e9320   \n",
       "173497 2022-12-21 19:00:00  0x0022e00560d1fd651e71df08d98edc028e3baf1a   \n",
       "173498 2022-12-21 19:00:00  0x0034daf2e65f6ef82bc6f893dbbfd7c232a0e59c   \n",
       "173499 2022-12-21 19:00:00  0x003cd8f2dccf85848086958af7710c15461cff1f   \n",
       "...                    ...                                         ...   \n",
       "177005 2022-12-21 19:00:00  0xff9a717fcf03318485579c4b553820edf73adf0a   \n",
       "177006 2022-12-21 19:00:00  0xff9b90914e248339ab0a50bf4798ef8b012eac79   \n",
       "177007 2022-12-21 19:00:00  0xffd3da76203642d4ee112893f33749a0df7ea7fd   \n",
       "177008 2022-12-21 19:00:00  0xffe4e3986d18333402564ea64f3a83fcc1907b52   \n",
       "177009 2022-12-21 19:00:00  0xfff30cddd7013124f06a34a330053a1737afb514   \n",
       "\n",
       "       known_as display_name  current_locked  lock_count  \n",
       "173495        _   _ (0x0001)      302.856397           1  \n",
       "173496        _   _ (0x0017)     3503.824879           1  \n",
       "173497        _   _ (0x0022)      314.741854           1  \n",
       "173498        _   _ (0x0034)     4116.078932           9  \n",
       "173499        _   _ (0x003c)       11.719130           2  \n",
       "...         ...          ...             ...         ...  \n",
       "177005        _   _ (0xff9a)    44766.527170           9  \n",
       "177006        _   _ (0xff9b)     4482.053422           2  \n",
       "177007        _   _ (0xffd3)     1469.265502           2  \n",
       "177008        _   _ (0xffe4)       15.809179           2  \n",
       "177009        _   _ (0xfff3)      364.127136           1  \n",
       "\n",
       "[3515 rows x 6 columns]"
      ]
     },
     "execution_count": 27,
     "metadata": {},
     "output_type": "execute_result"
    }
   ],
   "source": [
    "df_lock_local = pcl_agg_user[pcl_agg_user['this_epoch'] < current_date ]\n",
    "target_epoch = df_lock_local.this_epoch.max()\n",
    "df_lock_local = df_lock_local[df_lock_local['this_epoch'] == target_epoch ]\n",
    "df_lock_local\n"
   ]
  },
  {
   "cell_type": "code",
   "execution_count": 28,
   "metadata": {},
   "outputs": [
    {
     "data": {
      "text/plain": [
       "Timestamp('2022-12-21 19:00:00')"
      ]
     },
     "execution_count": 28,
     "metadata": {},
     "output_type": "execute_result"
    }
   ],
   "source": [
    "target_epoch"
   ]
  },
  {
   "cell_type": "code",
   "execution_count": 29,
   "metadata": {},
   "outputs": [
    {
     "data": {
      "text/html": [
       "<div>\n",
       "<style scoped>\n",
       "    .dataframe tbody tr th:only-of-type {\n",
       "        vertical-align: middle;\n",
       "    }\n",
       "\n",
       "    .dataframe tbody tr th {\n",
       "        vertical-align: top;\n",
       "    }\n",
       "\n",
       "    .dataframe thead th {\n",
       "        text-align: right;\n",
       "    }\n",
       "</style>\n",
       "<table border=\"1\" class=\"dataframe\">\n",
       "  <thead>\n",
       "    <tr style=\"text-align: right;\">\n",
       "      <th></th>\n",
       "      <th>this_epoch</th>\n",
       "      <th>user</th>\n",
       "      <th>known_as</th>\n",
       "      <th>display_name</th>\n",
       "      <th>current_locked</th>\n",
       "      <th>lock_count</th>\n",
       "    </tr>\n",
       "  </thead>\n",
       "  <tbody>\n",
       "    <tr>\n",
       "      <th>174378</th>\n",
       "      <td>2022-12-21 19:00:00</td>\n",
       "      <td>0x41374b389772d5aed41240a57f5ffb087c6bfa93</td>\n",
       "      <td>_</td>\n",
       "      <td>_ (0x4137)</td>\n",
       "      <td>691.329902</td>\n",
       "      <td>4</td>\n",
       "    </tr>\n",
       "  </tbody>\n",
       "</table>\n",
       "</div>"
      ],
      "text/plain": [
       "                this_epoch                                        user  \\\n",
       "174378 2022-12-21 19:00:00  0x41374b389772d5aed41240a57f5ffb087c6bfa93   \n",
       "\n",
       "       known_as display_name  current_locked  lock_count  \n",
       "174378        _   _ (0x4137)      691.329902           4  "
      ]
     },
     "execution_count": 29,
     "metadata": {},
     "output_type": "execute_result"
    }
   ],
   "source": [
    "df_lock_local[df_lock_local['user']== '0x41374b389772d5aed41240a57f5ffb087c6bfa93']\n",
    "# pcl_agg_user[pcl_agg_user['user']== '0x41374b389772d5aed41240a57f5ffb087c6bfa93']"
   ]
  },
  {
   "cell_type": "code",
   "execution_count": 30,
   "metadata": {},
   "outputs": [
    {
     "data": {
      "text/html": [
       "<div>\n",
       "<style scoped>\n",
       "    .dataframe tbody tr th:only-of-type {\n",
       "        vertical-align: middle;\n",
       "    }\n",
       "\n",
       "    .dataframe tbody tr th {\n",
       "        vertical-align: top;\n",
       "    }\n",
       "\n",
       "    .dataframe thead th {\n",
       "        text-align: right;\n",
       "    }\n",
       "</style>\n",
       "<table border=\"1\" class=\"dataframe\">\n",
       "  <thead>\n",
       "    <tr style=\"text-align: right;\">\n",
       "      <th></th>\n",
       "      <th>block_timestamp</th>\n",
       "      <th>event_name</th>\n",
       "      <th>delegate</th>\n",
       "      <th>delegator</th>\n",
       "      <th>id</th>\n",
       "      <th>origin_from_address</th>\n",
       "      <th>tx_hash</th>\n",
       "      <th>__row_index</th>\n",
       "      <th>checkpoint</th>\n",
       "    </tr>\n",
       "  </thead>\n",
       "  <tbody>\n",
       "    <tr>\n",
       "      <th>1196</th>\n",
       "      <td>2022-12-20T21:41:23.000Z</td>\n",
       "      <td>SetDelegate</td>\n",
       "      <td>0xde1e6a7ed0ad3f61d531a8a78e83ccddbd6e0c49</td>\n",
       "      <td>0x41374b389772d5aed41240a57f5ffb087c6bfa93</td>\n",
       "      <td>0x6376782e657468000000000000000000000000000000...</td>\n",
       "      <td>0x41374b389772d5aed41240a57f5ffb087c6bfa93</td>\n",
       "      <td>0x550a824d8c12f2010d9015f84bbb293caeede622e143...</td>\n",
       "      <td>1196</td>\n",
       "      <td>2022-12-22 00:00:25.000</td>\n",
       "    </tr>\n",
       "  </tbody>\n",
       "</table>\n",
       "</div>"
      ],
      "text/plain": [
       "               block_timestamp   event_name  \\\n",
       "1196  2022-12-20T21:41:23.000Z  SetDelegate   \n",
       "\n",
       "                                        delegate  \\\n",
       "1196  0xde1e6a7ed0ad3f61d531a8a78e83ccddbd6e0c49   \n",
       "\n",
       "                                       delegator  \\\n",
       "1196  0x41374b389772d5aed41240a57f5ffb087c6bfa93   \n",
       "\n",
       "                                                     id  \\\n",
       "1196  0x6376782e657468000000000000000000000000000000...   \n",
       "\n",
       "                             origin_from_address  \\\n",
       "1196  0x41374b389772d5aed41240a57f5ffb087c6bfa93   \n",
       "\n",
       "                                                tx_hash __row_index  \\\n",
       "1196  0x550a824d8c12f2010d9015f84bbb293caeede622e143...        1196   \n",
       "\n",
       "                   checkpoint  \n",
       "1196  2022-12-22 00:00:25.000  "
      ]
     },
     "execution_count": 30,
     "metadata": {},
     "output_type": "execute_result"
    }
   ],
   "source": [
    "df_local[df_local['delegator'] == '0x41374b389772d5aed41240a57f5ffb087c6bfa93']"
   ]
  },
  {
   "cell_type": "code",
   "execution_count": 31,
   "metadata": {},
   "outputs": [
    {
     "data": {
      "text/html": [
       "<div>\n",
       "<style scoped>\n",
       "    .dataframe tbody tr th:only-of-type {\n",
       "        vertical-align: middle;\n",
       "    }\n",
       "\n",
       "    .dataframe tbody tr th {\n",
       "        vertical-align: top;\n",
       "    }\n",
       "\n",
       "    .dataframe thead th {\n",
       "        text-align: right;\n",
       "    }\n",
       "</style>\n",
       "<table border=\"1\" class=\"dataframe\">\n",
       "  <thead>\n",
       "    <tr style=\"text-align: right;\">\n",
       "      <th></th>\n",
       "      <th>this_epoch</th>\n",
       "      <th>user</th>\n",
       "      <th>known_as</th>\n",
       "      <th>display_name</th>\n",
       "      <th>current_locked</th>\n",
       "      <th>lock_count</th>\n",
       "    </tr>\n",
       "  </thead>\n",
       "  <tbody>\n",
       "  </tbody>\n",
       "</table>\n",
       "</div>"
      ],
      "text/plain": [
       "Empty DataFrame\n",
       "Columns: [this_epoch, user, known_as, display_name, current_locked, lock_count]\n",
       "Index: []"
      ]
     },
     "execution_count": 31,
     "metadata": {},
     "output_type": "execute_result"
    }
   ],
   "source": [
    "pcl.df_aggregate_user_epoch[pcl.df_aggregate_user_epoch['known_as']== 'Reserve 1']"
   ]
  },
  {
   "cell_type": "code",
   "execution_count": 32,
   "metadata": {},
   "outputs": [],
   "source": [
    "# df_convex_processed_locks[df_convex_processed_locks['relocked'] == True]"
   ]
  },
  {
   "cell_type": "code",
   "execution_count": 33,
   "metadata": {},
   "outputs": [],
   "source": [
    "class ProcessConvexDelegations():\n",
    "    def __init__(self, df_delegations, df_snapshot_votes, convex_locker ):\n",
    "        # Existing\n",
    "        self.df_delegations = df_delegations\n",
    "        self.df_snapshot_votes = df_snapshot_votes\n",
    "        self.convex_locker = convex_locker\n",
    "        # New\n",
    "        self.delegator_per_proposal = []\n",
    "        self.delegator_locks_per_proposal = []\n",
    "        self.aggregate_delegates = []\n",
    "        self.locks_with_delegate_context = [] # df_aggregate_user_epoch + delegate identifier per epoch\n",
    "        # self.vote_power = []\n",
    "        self.process()\n",
    "        self.process_aggregate_system()\n",
    "\n",
    "\n",
    "        # self.df_votes = df_snapshot_votes\n",
    "        # self.delegtors = {}\n",
    "        # self.delegates = {}\n",
    "\n",
    "    \n",
    "    def process(self):\n",
    "        proposal_starts = self.df_snapshot_votes.proposal_start.unique()\n",
    "        delegator_list = []\n",
    "        delegator_lock_list = []\n",
    "        lock_delegate_list = []\n",
    "        pcl_agg_user = self.convex_locker.df_aggregate_user_epoch\n",
    "        for current_date in proposal_starts:\n",
    "            # delegation\n",
    "            local_delegators = df_delegations[df_delegations['block_timestamp'] < current_date ]\n",
    "            local_delegators = local_delegators.sort_values(['block_timestamp']).groupby(['delegator']).tail(1)\n",
    "            local_delegators['checkpoint'] = current_date\n",
    "            \n",
    "            local_delegators_with_locks = local_delegators.copy()\n",
    "\n",
    "            # locks\n",
    "            df_lock_local = pcl_agg_user[pcl_agg_user['this_epoch'] < current_date ]\n",
    "            target_epoch = df_lock_local.this_epoch.max()\n",
    "            df_lock_local = df_lock_local[df_lock_local['this_epoch'] == target_epoch ]\n",
    "\n",
    "            # Join Delegators and Locks\n",
    "            local_delegators_with_locks = local_delegators_with_locks[['delegate', 'delegator', 'checkpoint']].set_index('delegator').join(df_lock_local.set_index('user')).reset_index()\n",
    "            \n",
    "            delegator_list.append(local_delegators)\n",
    "            delegator_lock_list.append(local_delegators_with_locks)\n",
    "\n",
    "            # Join Locks and Delegates (to reference delegation on locks per epoch per user)\n",
    "            # df_local_3\n",
    "            local_locks_with_delegators = df_lock_local.set_index('user').join(local_delegators[['delegate', 'delegator']].set_index('delegator')).reset_index()\n",
    "            # delegator_lock_list.append(df_local_3)        \n",
    "            lock_delegate_list.append(local_locks_with_delegators)\n",
    "        self.delegator_per_proposal = pd.concat(delegator_list)\n",
    "        temp = pd.concat(delegator_lock_list)\n",
    "        self.delegator_locks_per_proposal = temp[temp['current_locked'] > 0]\n",
    "        self.locks_with_delegate_context = pd.concat(lock_delegate_list)\n",
    "        return\n",
    "\n",
    "    def process_aggregate_system(self):\n",
    "        self.aggregate_delegates = self.delegator_locks_per_proposal.groupby([\n",
    "                'checkpoint', 'delegate', 'this_epoch'\n",
    "            ]).agg(\n",
    "            total_delegated=pd.NamedAgg(column='current_locked', aggfunc=sum),\n",
    "            delegated_lock_count=pd.NamedAgg(column='lock_count', aggfunc=sum),\n",
    "            token_symbol=pd.NamedAgg(column='delegator', aggfunc=list),\n",
    "            delegators_count=pd.NamedAgg(column='delegator', aggfunc=lambda x: len(x.unique()))\n",
    "        ).reset_index()\n",
    "        return\n",
    "    \n",
    "   \n",
    "        # pcb.convex_locker.df_aggregate_user_epoch\n",
    "\n",
    "    # def process_votes():\n",
    "        \n",
    "# class Delegator():\n",
    "#     def __init__(self):\n",
    "#         pass\n",
    "\n",
    "# class Delegate():\n",
    "#     def __init__(self):\n",
    "#         pass\n",
    "\n",
    "\n",
    "    # def get_date_obj(self, time, target=5):\n",
    "    #     if type(time) == str:\n",
    "    #         if 'T' in time:\n",
    "    #             try:\n",
    "    #                 split = time.split(\"T\")\n",
    "    #                 time = split[0]+\" \"+split[1][:-1]\n",
    "    #                 # row['block_timestamp'] = dt.strptime(row['block_timestamp'], '%Y-%m-%d %H:%M:%S.%f'),\n",
    "    #             except:\n",
    "    #                 pass\n",
    "    #         try:\n",
    "    #             time = dt.strptime(time,'%Y-%m-%d %H:%M:%S.%f')\n",
    "    #         except:\n",
    "    #             time = dt.strptime(time,'%Y-%m-%d %H:%M:%S')      \n",
    "    #     return time\n"
   ]
  },
  {
   "cell_type": "code",
   "execution_count": 34,
   "metadata": {},
   "outputs": [],
   "source": [
    "pcb = ProcessConvexDelegations(df_delegations, df_convex_snapshot_vote_choice, pcl)"
   ]
  },
  {
   "cell_type": "code",
   "execution_count": 35,
   "metadata": {},
   "outputs": [
    {
     "data": {
      "text/html": [
       "<div>\n",
       "<style scoped>\n",
       "    .dataframe tbody tr th:only-of-type {\n",
       "        vertical-align: middle;\n",
       "    }\n",
       "\n",
       "    .dataframe tbody tr th {\n",
       "        vertical-align: top;\n",
       "    }\n",
       "\n",
       "    .dataframe thead th {\n",
       "        text-align: right;\n",
       "    }\n",
       "</style>\n",
       "<table border=\"1\" class=\"dataframe\">\n",
       "  <thead>\n",
       "    <tr style=\"text-align: right;\">\n",
       "      <th></th>\n",
       "      <th>user</th>\n",
       "      <th>this_epoch</th>\n",
       "      <th>known_as</th>\n",
       "      <th>display_name</th>\n",
       "      <th>current_locked</th>\n",
       "      <th>lock_count</th>\n",
       "      <th>delegate</th>\n",
       "    </tr>\n",
       "  </thead>\n",
       "  <tbody>\n",
       "    <tr>\n",
       "      <th>0</th>\n",
       "      <td>0x0001f85d5eecc0a176e6197690baa3e62bde35c5</td>\n",
       "      <td>2022-12-21 19:00:00</td>\n",
       "      <td>_</td>\n",
       "      <td>_ (0x0001)</td>\n",
       "      <td>302.856397</td>\n",
       "      <td>1</td>\n",
       "      <td>0xde1e6a7ed0ad3f61d531a8a78e83ccddbd6e0c49</td>\n",
       "    </tr>\n",
       "    <tr>\n",
       "      <th>1</th>\n",
       "      <td>0x0017dfe08bcc0dc9a323ca5d4831e371534e9320</td>\n",
       "      <td>2022-12-21 19:00:00</td>\n",
       "      <td>_</td>\n",
       "      <td>_ (0x0017)</td>\n",
       "      <td>3503.824879</td>\n",
       "      <td>1</td>\n",
       "      <td>NaN</td>\n",
       "    </tr>\n",
       "    <tr>\n",
       "      <th>2</th>\n",
       "      <td>0x0022e00560d1fd651e71df08d98edc028e3baf1a</td>\n",
       "      <td>2022-12-21 19:00:00</td>\n",
       "      <td>_</td>\n",
       "      <td>_ (0x0022)</td>\n",
       "      <td>314.741854</td>\n",
       "      <td>1</td>\n",
       "      <td>0xde1e6a7ed0ad3f61d531a8a78e83ccddbd6e0c49</td>\n",
       "    </tr>\n",
       "  </tbody>\n",
       "</table>\n",
       "</div>"
      ],
      "text/plain": [
       "                                         user          this_epoch known_as  \\\n",
       "0  0x0001f85d5eecc0a176e6197690baa3e62bde35c5 2022-12-21 19:00:00        _   \n",
       "1  0x0017dfe08bcc0dc9a323ca5d4831e371534e9320 2022-12-21 19:00:00        _   \n",
       "2  0x0022e00560d1fd651e71df08d98edc028e3baf1a 2022-12-21 19:00:00        _   \n",
       "\n",
       "  display_name  current_locked  lock_count  \\\n",
       "0   _ (0x0001)      302.856397           1   \n",
       "1   _ (0x0017)     3503.824879           1   \n",
       "2   _ (0x0022)      314.741854           1   \n",
       "\n",
       "                                     delegate  \n",
       "0  0xde1e6a7ed0ad3f61d531a8a78e83ccddbd6e0c49  \n",
       "1                                         NaN  \n",
       "2  0xde1e6a7ed0ad3f61d531a8a78e83ccddbd6e0c49  "
      ]
     },
     "execution_count": 35,
     "metadata": {},
     "output_type": "execute_result"
    }
   ],
   "source": [
    "pcb.locks_with_delegate_context.head(3)\n"
   ]
  },
  {
   "cell_type": "code",
   "execution_count": 36,
   "metadata": {},
   "outputs": [
    {
     "data": {
      "text/html": [
       "<div>\n",
       "<style scoped>\n",
       "    .dataframe tbody tr th:only-of-type {\n",
       "        vertical-align: middle;\n",
       "    }\n",
       "\n",
       "    .dataframe tbody tr th {\n",
       "        vertical-align: top;\n",
       "    }\n",
       "\n",
       "    .dataframe thead th {\n",
       "        text-align: right;\n",
       "    }\n",
       "</style>\n",
       "<table border=\"1\" class=\"dataframe\">\n",
       "  <thead>\n",
       "    <tr style=\"text-align: right;\">\n",
       "      <th></th>\n",
       "      <th>user</th>\n",
       "      <th>this_epoch</th>\n",
       "      <th>known_as</th>\n",
       "      <th>display_name</th>\n",
       "      <th>current_locked</th>\n",
       "      <th>lock_count</th>\n",
       "      <th>delegate</th>\n",
       "    </tr>\n",
       "  </thead>\n",
       "  <tbody>\n",
       "    <tr>\n",
       "      <th>0</th>\n",
       "      <td>0x0001f85d5eecc0a176e6197690baa3e62bde35c5</td>\n",
       "      <td>2022-12-21 19:00:00</td>\n",
       "      <td>_</td>\n",
       "      <td>_ (0x0001)</td>\n",
       "      <td>302.856397</td>\n",
       "      <td>1</td>\n",
       "      <td>0xde1e6a7ed0ad3f61d531a8a78e83ccddbd6e0c49</td>\n",
       "    </tr>\n",
       "    <tr>\n",
       "      <th>1</th>\n",
       "      <td>0x0017dfe08bcc0dc9a323ca5d4831e371534e9320</td>\n",
       "      <td>2022-12-21 19:00:00</td>\n",
       "      <td>_</td>\n",
       "      <td>_ (0x0017)</td>\n",
       "      <td>3503.824879</td>\n",
       "      <td>1</td>\n",
       "      <td>NaN</td>\n",
       "    </tr>\n",
       "    <tr>\n",
       "      <th>2</th>\n",
       "      <td>0x0022e00560d1fd651e71df08d98edc028e3baf1a</td>\n",
       "      <td>2022-12-21 19:00:00</td>\n",
       "      <td>_</td>\n",
       "      <td>_ (0x0022)</td>\n",
       "      <td>314.741854</td>\n",
       "      <td>1</td>\n",
       "      <td>0xde1e6a7ed0ad3f61d531a8a78e83ccddbd6e0c49</td>\n",
       "    </tr>\n",
       "    <tr>\n",
       "      <th>3</th>\n",
       "      <td>0x0034daf2e65f6ef82bc6f893dbbfd7c232a0e59c</td>\n",
       "      <td>2022-12-21 19:00:00</td>\n",
       "      <td>_</td>\n",
       "      <td>_ (0x0034)</td>\n",
       "      <td>4116.078932</td>\n",
       "      <td>9</td>\n",
       "      <td>0xde1e6a7ed0ad3f61d531a8a78e83ccddbd6e0c49</td>\n",
       "    </tr>\n",
       "    <tr>\n",
       "      <th>4</th>\n",
       "      <td>0x003cd8f2dccf85848086958af7710c15461cff1f</td>\n",
       "      <td>2022-12-21 19:00:00</td>\n",
       "      <td>_</td>\n",
       "      <td>_ (0x003c)</td>\n",
       "      <td>11.719130</td>\n",
       "      <td>2</td>\n",
       "      <td>0xde1e6a7ed0ad3f61d531a8a78e83ccddbd6e0c49</td>\n",
       "    </tr>\n",
       "    <tr>\n",
       "      <th>...</th>\n",
       "      <td>...</td>\n",
       "      <td>...</td>\n",
       "      <td>...</td>\n",
       "      <td>...</td>\n",
       "      <td>...</td>\n",
       "      <td>...</td>\n",
       "      <td>...</td>\n",
       "    </tr>\n",
       "    <tr>\n",
       "      <th>2141</th>\n",
       "      <td>0xff597632d59c49e918fe26cda385f37a0db8a713</td>\n",
       "      <td>2023-10-25 19:00:00</td>\n",
       "      <td>_</td>\n",
       "      <td>_ (0xff59)</td>\n",
       "      <td>3063.467325</td>\n",
       "      <td>1</td>\n",
       "      <td>0xde1e6a7ed0ad3f61d531a8a78e83ccddbd6e0c49</td>\n",
       "    </tr>\n",
       "    <tr>\n",
       "      <th>2142</th>\n",
       "      <td>0xff9a717fcf03318485579c4b553820edf73adf0a</td>\n",
       "      <td>2023-10-25 19:00:00</td>\n",
       "      <td>_</td>\n",
       "      <td>_ (0xff9a)</td>\n",
       "      <td>73930.082958</td>\n",
       "      <td>1</td>\n",
       "      <td>0xde1e6a7ed0ad3f61d531a8a78e83ccddbd6e0c49</td>\n",
       "    </tr>\n",
       "    <tr>\n",
       "      <th>2143</th>\n",
       "      <td>0xffb509135d9f3b3dd5621c291d0f7c9a08d3e2b4</td>\n",
       "      <td>2023-10-25 19:00:00</td>\n",
       "      <td>_</td>\n",
       "      <td>_ (0xffb5)</td>\n",
       "      <td>1780.226165</td>\n",
       "      <td>2</td>\n",
       "      <td>0xde1e6a7ed0ad3f61d531a8a78e83ccddbd6e0c49</td>\n",
       "    </tr>\n",
       "    <tr>\n",
       "      <th>2144</th>\n",
       "      <td>0xffd3da76203642d4ee112893f33749a0df7ea7fd</td>\n",
       "      <td>2023-10-25 19:00:00</td>\n",
       "      <td>_</td>\n",
       "      <td>_ (0xffd3)</td>\n",
       "      <td>1479.486442</td>\n",
       "      <td>2</td>\n",
       "      <td>0xde1e6a7ed0ad3f61d531a8a78e83ccddbd6e0c49</td>\n",
       "    </tr>\n",
       "    <tr>\n",
       "      <th>2145</th>\n",
       "      <td>0xffe4e3986d18333402564ea64f3a83fcc1907b52</td>\n",
       "      <td>2023-10-25 19:00:00</td>\n",
       "      <td>_</td>\n",
       "      <td>_ (0xffe4)</td>\n",
       "      <td>35.501936</td>\n",
       "      <td>2</td>\n",
       "      <td>0xde1e6a7ed0ad3f61d531a8a78e83ccddbd6e0c49</td>\n",
       "    </tr>\n",
       "  </tbody>\n",
       "</table>\n",
       "<p>64698 rows × 7 columns</p>\n",
       "</div>"
      ],
      "text/plain": [
       "                                            user          this_epoch known_as  \\\n",
       "0     0x0001f85d5eecc0a176e6197690baa3e62bde35c5 2022-12-21 19:00:00        _   \n",
       "1     0x0017dfe08bcc0dc9a323ca5d4831e371534e9320 2022-12-21 19:00:00        _   \n",
       "2     0x0022e00560d1fd651e71df08d98edc028e3baf1a 2022-12-21 19:00:00        _   \n",
       "3     0x0034daf2e65f6ef82bc6f893dbbfd7c232a0e59c 2022-12-21 19:00:00        _   \n",
       "4     0x003cd8f2dccf85848086958af7710c15461cff1f 2022-12-21 19:00:00        _   \n",
       "...                                          ...                 ...      ...   \n",
       "2141  0xff597632d59c49e918fe26cda385f37a0db8a713 2023-10-25 19:00:00        _   \n",
       "2142  0xff9a717fcf03318485579c4b553820edf73adf0a 2023-10-25 19:00:00        _   \n",
       "2143  0xffb509135d9f3b3dd5621c291d0f7c9a08d3e2b4 2023-10-25 19:00:00        _   \n",
       "2144  0xffd3da76203642d4ee112893f33749a0df7ea7fd 2023-10-25 19:00:00        _   \n",
       "2145  0xffe4e3986d18333402564ea64f3a83fcc1907b52 2023-10-25 19:00:00        _   \n",
       "\n",
       "     display_name  current_locked  lock_count  \\\n",
       "0      _ (0x0001)      302.856397           1   \n",
       "1      _ (0x0017)     3503.824879           1   \n",
       "2      _ (0x0022)      314.741854           1   \n",
       "3      _ (0x0034)     4116.078932           9   \n",
       "4      _ (0x003c)       11.719130           2   \n",
       "...           ...             ...         ...   \n",
       "2141   _ (0xff59)     3063.467325           1   \n",
       "2142   _ (0xff9a)    73930.082958           1   \n",
       "2143   _ (0xffb5)     1780.226165           2   \n",
       "2144   _ (0xffd3)     1479.486442           2   \n",
       "2145   _ (0xffe4)       35.501936           2   \n",
       "\n",
       "                                        delegate  \n",
       "0     0xde1e6a7ed0ad3f61d531a8a78e83ccddbd6e0c49  \n",
       "1                                            NaN  \n",
       "2     0xde1e6a7ed0ad3f61d531a8a78e83ccddbd6e0c49  \n",
       "3     0xde1e6a7ed0ad3f61d531a8a78e83ccddbd6e0c49  \n",
       "4     0xde1e6a7ed0ad3f61d531a8a78e83ccddbd6e0c49  \n",
       "...                                          ...  \n",
       "2141  0xde1e6a7ed0ad3f61d531a8a78e83ccddbd6e0c49  \n",
       "2142  0xde1e6a7ed0ad3f61d531a8a78e83ccddbd6e0c49  \n",
       "2143  0xde1e6a7ed0ad3f61d531a8a78e83ccddbd6e0c49  \n",
       "2144  0xde1e6a7ed0ad3f61d531a8a78e83ccddbd6e0c49  \n",
       "2145  0xde1e6a7ed0ad3f61d531a8a78e83ccddbd6e0c49  \n",
       "\n",
       "[64698 rows x 7 columns]"
      ]
     },
     "execution_count": 36,
     "metadata": {},
     "output_type": "execute_result"
    }
   ],
   "source": [
    "pcb.locks_with_delegate_context\n"
   ]
  },
  {
   "cell_type": "code",
   "execution_count": null,
   "metadata": {},
   "outputs": [],
   "source": []
  },
  {
   "cell_type": "code",
   "execution_count": null,
   "metadata": {},
   "outputs": [],
   "source": []
  },
  {
   "cell_type": "code",
   "execution_count": null,
   "metadata": {},
   "outputs": [],
   "source": [
    "df_local_lock_2"
   ]
  },
  {
   "cell_type": "code",
   "execution_count": null,
   "metadata": {},
   "outputs": [],
   "source": [
    "pcb.convex_locker.df_aggregate_user_epoch"
   ]
  },
  {
   "cell_type": "code",
   "execution_count": null,
   "metadata": {},
   "outputs": [],
   "source": [
    "pcb.aggregate_delegates"
   ]
  },
  {
   "cell_type": "code",
   "execution_count": null,
   "metadata": {},
   "outputs": [],
   "source": [
    "fig = px.line(pcb.aggregate_delegates, x=\"checkpoint\", y=\"total_delegated\", color='delegate')\n",
    "fig.update_layout(\n",
    "    title=f\"Delegated Balance Per Delegate\",\n",
    "#     xaxis_title=\"X Axis Title\",\n",
    "#     yaxis_title=\"Y Axis Title\",\n",
    "#     legend_title=\"Legend Title\",\n",
    "    font=dict(\n",
    "        family=\"Courier New, monospace\",\n",
    "        size=18,\n",
    "        color=\"RebeccaPurple\"\n",
    "    ),\n",
    "    # height= 1000,\n",
    ")\n",
    "fig.show()"
   ]
  },
  {
   "cell_type": "code",
   "execution_count": null,
   "metadata": {},
   "outputs": [],
   "source": [
    "fig = px.line(pcb.aggregate_delegates, x=\"checkpoint\", y=\"delegators_count\", color='delegate')\n",
    "fig.update_layout(\n",
    "    title=f\"Delegator Count Per Delegate\",\n",
    "#     xaxis_title=\"X Axis Title\",\n",
    "#     yaxis_title=\"Y Axis Title\",\n",
    "#     legend_title=\"Legend Title\",\n",
    "    font=dict(\n",
    "        family=\"Courier New, monospace\",\n",
    "        size=18,\n",
    "        color=\"RebeccaPurple\"\n",
    "    ),\n",
    "    # height= 1000,\n",
    ")\n",
    "fig.show()"
   ]
  },
  {
   "cell_type": "code",
   "execution_count": null,
   "metadata": {},
   "outputs": [],
   "source": [
    "# 0xde1e6a7ed0ad3f61d531a8a78e83ccddbd6e0c49 # Votium\n",
    "\n",
    "# fig = px.line(pcb.delegator_locks_per_proposal, x=\"checkpoint\", y=\"current_locked\", color='delegate')\n",
    "# fig.update_layout(\n",
    "#     title=f\"Delegated vlCVX Per Delegator\",\n",
    "# #     xaxis_title=\"X Axis Title\",\n",
    "# #     yaxis_title=\"Y Axis Title\",\n",
    "# #     legend_title=\"Legend Title\",\n",
    "#     font=dict(\n",
    "#         family=\"Courier New, monospace\",\n",
    "#         size=18,\n",
    "#         color=\"RebeccaPurple\"\n",
    "#     ),\n",
    "#     # height= 1000,\n",
    "# )\n",
    "# fig.show()"
   ]
  },
  {
   "cell_type": "code",
   "execution_count": null,
   "metadata": {},
   "outputs": [],
   "source": [
    "pcb.delegator_locks_per_proposal[pcb.delegator_locks_per_proposal['known_as'] == 'Reserve 1']"
   ]
  },
  {
   "cell_type": "code",
   "execution_count": null,
   "metadata": {},
   "outputs": [],
   "source": []
  },
  {
   "cell_type": "code",
   "execution_count": null,
   "metadata": {},
   "outputs": [],
   "source": [
    "# fig = make_subplots(specs=[[{\"secondary_y\": True}]])\n",
    "# fig.update_layout(\n",
    "#     title=f\"Convex Locker Historic Locks Per Epoch\",\n",
    "#         xaxis_title=\"Epoch Date\",\n",
    "#         yaxis_title=\"vlCVX\",\n",
    "#         yaxis2_title=\"Locked Positions\",\n",
    "#     #     legend_title=\"Legend Title\",\n",
    "#     font=dict(\n",
    "#         family=\"Courier New, monospace\",\n",
    "#         size=18,\n",
    "#         color=\"RebeccaPurple\"\n",
    "#     ),\n",
    "#     # height= 1000,\n",
    "# )\n",
    "# fig = fig.add_trace(\n",
    "#     go.Bar(\n",
    "#         x=pcb.aggregate_delegates.checkpoint,\n",
    "#         y=pcb.aggregate_delegates.total_locked,\n",
    "#         name=\"Total Locked\",\n",
    "#         # color=\"pool_name\"\n",
    "#     ),\n",
    "#     secondary_y=False\n",
    "# )\n",
    "# fig = fig.add_trace(\n",
    "#     go.Scatter(\n",
    "#         x = pcl_agg_system.this_epoch,\n",
    "#         y = pcl_agg_system.lock_count, \n",
    "#         name = \"Locked Count\",\n",
    "#         line_shape='hvh',\n",
    "#         line_width=3,\n",
    "#     ),\n",
    "#     secondary_y=True\n",
    "# )\n",
    "# fig.add_vline(x=dt.now(), line_width=3, line_dash=\"dash\", line_color=\"black\", )\n",
    "\n",
    "# fig.update_layout(autotypenumbers='convert types')\n",
    "# fig.update_yaxes(rangemode=\"tozero\")\n",
    "# fig.show()"
   ]
  }
 ],
 "metadata": {
  "kernelspec": {
   "display_name": "cadcad-edu",
   "language": "python",
   "name": "python3"
  },
  "language_info": {
   "codemirror_mode": {
    "name": "ipython",
    "version": 3
   },
   "file_extension": ".py",
   "mimetype": "text/x-python",
   "name": "python",
   "nbconvert_exporter": "python",
   "pygments_lexer": "ipython3",
   "version": "3.8.13"
  }
 },
 "nbformat": 4,
 "nbformat_minor": 2
}
