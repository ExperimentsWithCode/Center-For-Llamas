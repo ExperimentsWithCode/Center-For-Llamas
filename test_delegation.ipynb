{
 "cells": [
  {
   "cell_type": "code",
   "execution_count": 1,
   "metadata": {},
   "outputs": [],
   "source": [
    "from app.data.reference import filename_convex_delegations , filename_convex_locker, known_large_cvx_holders_addresses\n",
    "from datetime import datetime as dt\n",
    "\n",
    "from app.data.local_storage import (\n",
    "    pd,\n",
    "    read_json,\n",
    "    read_csv,\n",
    "    write_dataframe_csv,\n",
    "    write_dfs_to_xlsx,\n",
    "    csv_to_df,\n",
    "    write_dataframe_csv\n",
    "    )\n",
    "from app.utilities.utility import (\n",
    "    get_period_direct, \n",
    "    get_period_end_date, \n",
    "    get_date_obj, \n",
    "    get_dt_from_timestamp,\n",
    "    shift_time_days,\n",
    "    df_remove_nan\n",
    ")"
   ]
  },
  {
   "cell_type": "code",
   "execution_count": 2,
   "metadata": {},
   "outputs": [],
   "source": [
    "import plotly\n",
    "import plotly.express as px\n",
    "\n",
    "import plotly.graph_objects as go\n",
    "from plotly.subplots import make_subplots\n"
   ]
  },
  {
   "cell_type": "code",
   "execution_count": 3,
   "metadata": {},
   "outputs": [
    {
     "name": "stdout",
     "output_type": "stream",
     "text": [
      "Loading... { curve.gauges.models }\n",
      "Processing... { curve.gauges.models }\n",
      "could not register in app.config\n",
      "\tGauges\n",
      "Loading... { snapshot.alt_models }\n",
      "Loading... { convex.snapshot.models }\n",
      "could not register in app.config\n",
      "\tSnapshot\n"
     ]
    }
   ],
   "source": [
    "from app.convex.snapshot.models import df_convex_snapshot_vote_choice"
   ]
  },
  {
   "cell_type": "code",
   "execution_count": 4,
   "metadata": {},
   "outputs": [],
   "source": [
    "def get_df(filename):\n",
    "    df = csv_to_df(filename, 'raw_data')\n",
    "\n",
    "    # df_gauge_pool_map = df_gauge_pool_map.sort_values(\"BLOCK_TIMESTAMP\", axis = 0, ascending = True)\n",
    "    return df"
   ]
  },
  {
   "cell_type": "code",
   "execution_count": 5,
   "metadata": {},
   "outputs": [],
   "source": [
    "df_delegations = get_df(filename_convex_delegations)"
   ]
  },
  {
   "cell_type": "code",
   "execution_count": 6,
   "metadata": {},
   "outputs": [],
   "source": [
    "df_locker = get_df(filename_convex_locker)"
   ]
  },
  {
   "cell_type": "code",
   "execution_count": 7,
   "metadata": {},
   "outputs": [],
   "source": [
    "# df['period'] = get_period_direct(df['block_timestamp'])\n",
    "\n",
    "# df['period'] = df.apply(lambda row : get_period_direct(row['block_timestamp']), axis = 1)"
   ]
  },
  {
   "cell_type": "code",
   "execution_count": 8,
   "metadata": {},
   "outputs": [
    {
     "data": {
      "text/html": [
       "<div>\n",
       "<style scoped>\n",
       "    .dataframe tbody tr th:only-of-type {\n",
       "        vertical-align: middle;\n",
       "    }\n",
       "\n",
       "    .dataframe tbody tr th {\n",
       "        vertical-align: top;\n",
       "    }\n",
       "\n",
       "    .dataframe thead th {\n",
       "        text-align: right;\n",
       "    }\n",
       "</style>\n",
       "<table border=\"1\" class=\"dataframe\">\n",
       "  <thead>\n",
       "    <tr style=\"text-align: right;\">\n",
       "      <th></th>\n",
       "      <th>block_timestamp</th>\n",
       "      <th>event_name</th>\n",
       "      <th>delegate</th>\n",
       "      <th>delegator</th>\n",
       "      <th>id</th>\n",
       "      <th>origin_from_address</th>\n",
       "      <th>tx_hash</th>\n",
       "      <th>__row_index</th>\n",
       "    </tr>\n",
       "  </thead>\n",
       "  <tbody>\n",
       "    <tr>\n",
       "      <th>0</th>\n",
       "      <td>2023-10-27T11:01:23.000Z</td>\n",
       "      <td>SetDelegate</td>\n",
       "      <td>0xde1e6a7ed0ad3f61d531a8a78e83ccddbd6e0c49</td>\n",
       "      <td>0xca1146c1d1b26ca782f7388096462189fb09113f</td>\n",
       "      <td>0x6376782e657468000000000000000000000000000000...</td>\n",
       "      <td>0xca1146c1d1b26ca782f7388096462189fb09113f</td>\n",
       "      <td>0x25c6b1b420e6ce892a6d5db12c59a9d37c4bf07eb9c2...</td>\n",
       "      <td>1</td>\n",
       "    </tr>\n",
       "    <tr>\n",
       "      <th>1</th>\n",
       "      <td>2023-10-27T09:32:47.000Z</td>\n",
       "      <td>SetDelegate</td>\n",
       "      <td>0x56f610e0c5f2f64a6b599cc5481d35e70d2e63e7</td>\n",
       "      <td>0xfedcaa011c9fc474d8cb063cef1b8d1772b40f28</td>\n",
       "      <td>0x6376782e657468000000000000000000000000000000...</td>\n",
       "      <td>0xfedcaa011c9fc474d8cb063cef1b8d1772b40f28</td>\n",
       "      <td>0x7e10494c25c953370963fea6e0345830f7a22e66de79...</td>\n",
       "      <td>2</td>\n",
       "    </tr>\n",
       "    <tr>\n",
       "      <th>2</th>\n",
       "      <td>2023-10-26T22:46:11.000Z</td>\n",
       "      <td>SetDelegate</td>\n",
       "      <td>0x68378fcb3a27d5613afcfddb590d35a6e751972c</td>\n",
       "      <td>0x5275817b74021e97c980e95ede6bbac0d0d6f3a2</td>\n",
       "      <td>0x6376782e657468000000000000000000000000000000...</td>\n",
       "      <td>0x5275817b74021e97c980e95ede6bbac0d0d6f3a2</td>\n",
       "      <td>0x9e758790bd92f31b63647d6c9294710d12c6e7d2da74...</td>\n",
       "      <td>3</td>\n",
       "    </tr>\n",
       "    <tr>\n",
       "      <th>3</th>\n",
       "      <td>2023-10-26T16:16:47.000Z</td>\n",
       "      <td>SetDelegate</td>\n",
       "      <td>0x947b7742c403f20e5faccdac5e092c943e7d0277</td>\n",
       "      <td>0x886969be23b1a38008021c418aae5df8b0efeab9</td>\n",
       "      <td>0x6376782e657468000000000000000000000000000000...</td>\n",
       "      <td>0x886969be23b1a38008021c418aae5df8b0efeab9</td>\n",
       "      <td>0xcf1505bc9533c3b5aee380f190779219992f6e73be01...</td>\n",
       "      <td>4</td>\n",
       "    </tr>\n",
       "    <tr>\n",
       "      <th>4</th>\n",
       "      <td>2023-10-26T15:53:23.000Z</td>\n",
       "      <td>SetDelegate</td>\n",
       "      <td>0x56f610e0c5f2f64a6b599cc5481d35e70d2e63e7</td>\n",
       "      <td>0x1d83a82ec33a7687966f6ec6a56625bad59e2275</td>\n",
       "      <td>0x6376782e657468000000000000000000000000000000...</td>\n",
       "      <td>0x1d83a82ec33a7687966f6ec6a56625bad59e2275</td>\n",
       "      <td>0xc6082c58eed61971e4718f83f1825704a02adb1cc794...</td>\n",
       "      <td>5</td>\n",
       "    </tr>\n",
       "  </tbody>\n",
       "</table>\n",
       "</div>"
      ],
      "text/plain": [
       "            block_timestamp   event_name  \\\n",
       "0  2023-10-27T11:01:23.000Z  SetDelegate   \n",
       "1  2023-10-27T09:32:47.000Z  SetDelegate   \n",
       "2  2023-10-26T22:46:11.000Z  SetDelegate   \n",
       "3  2023-10-26T16:16:47.000Z  SetDelegate   \n",
       "4  2023-10-26T15:53:23.000Z  SetDelegate   \n",
       "\n",
       "                                     delegate  \\\n",
       "0  0xde1e6a7ed0ad3f61d531a8a78e83ccddbd6e0c49   \n",
       "1  0x56f610e0c5f2f64a6b599cc5481d35e70d2e63e7   \n",
       "2  0x68378fcb3a27d5613afcfddb590d35a6e751972c   \n",
       "3  0x947b7742c403f20e5faccdac5e092c943e7d0277   \n",
       "4  0x56f610e0c5f2f64a6b599cc5481d35e70d2e63e7   \n",
       "\n",
       "                                    delegator  \\\n",
       "0  0xca1146c1d1b26ca782f7388096462189fb09113f   \n",
       "1  0xfedcaa011c9fc474d8cb063cef1b8d1772b40f28   \n",
       "2  0x5275817b74021e97c980e95ede6bbac0d0d6f3a2   \n",
       "3  0x886969be23b1a38008021c418aae5df8b0efeab9   \n",
       "4  0x1d83a82ec33a7687966f6ec6a56625bad59e2275   \n",
       "\n",
       "                                                  id  \\\n",
       "0  0x6376782e657468000000000000000000000000000000...   \n",
       "1  0x6376782e657468000000000000000000000000000000...   \n",
       "2  0x6376782e657468000000000000000000000000000000...   \n",
       "3  0x6376782e657468000000000000000000000000000000...   \n",
       "4  0x6376782e657468000000000000000000000000000000...   \n",
       "\n",
       "                          origin_from_address  \\\n",
       "0  0xca1146c1d1b26ca782f7388096462189fb09113f   \n",
       "1  0xfedcaa011c9fc474d8cb063cef1b8d1772b40f28   \n",
       "2  0x5275817b74021e97c980e95ede6bbac0d0d6f3a2   \n",
       "3  0x886969be23b1a38008021c418aae5df8b0efeab9   \n",
       "4  0x1d83a82ec33a7687966f6ec6a56625bad59e2275   \n",
       "\n",
       "                                             tx_hash __row_index  \n",
       "0  0x25c6b1b420e6ce892a6d5db12c59a9d37c4bf07eb9c2...           1  \n",
       "1  0x7e10494c25c953370963fea6e0345830f7a22e66de79...           2  \n",
       "2  0x9e758790bd92f31b63647d6c9294710d12c6e7d2da74...           3  \n",
       "3  0xcf1505bc9533c3b5aee380f190779219992f6e73be01...           4  \n",
       "4  0xc6082c58eed61971e4718f83f1825704a02adb1cc794...           5  "
      ]
     },
     "execution_count": 8,
     "metadata": {},
     "output_type": "execute_result"
    }
   ],
   "source": [
    "df_delegations.head(5)"
   ]
  },
  {
   "cell_type": "code",
   "execution_count": 9,
   "metadata": {},
   "outputs": [
    {
     "data": {
      "text/html": [
       "<div>\n",
       "<style scoped>\n",
       "    .dataframe tbody tr th:only-of-type {\n",
       "        vertical-align: middle;\n",
       "    }\n",
       "\n",
       "    .dataframe tbody tr th {\n",
       "        vertical-align: top;\n",
       "    }\n",
       "\n",
       "    .dataframe thead th {\n",
       "        text-align: right;\n",
       "    }\n",
       "</style>\n",
       "<table border=\"1\" class=\"dataframe\">\n",
       "  <thead>\n",
       "    <tr style=\"text-align: right;\">\n",
       "      <th></th>\n",
       "      <th>block_timestamp</th>\n",
       "      <th>event_name</th>\n",
       "      <th>user</th>\n",
       "      <th>_epoch</th>\n",
       "      <th>locked_amount</th>\n",
       "      <th>boosted_amount</th>\n",
       "      <th>paid_amount</th>\n",
       "      <th>withdrawn_amount</th>\n",
       "      <th>relocked</th>\n",
       "      <th>tx_hash</th>\n",
       "      <th>__row_index</th>\n",
       "    </tr>\n",
       "  </thead>\n",
       "  <tbody>\n",
       "    <tr>\n",
       "      <th>0</th>\n",
       "      <td>2023-09-28T06:53:59.000Z</td>\n",
       "      <td>Staked</td>\n",
       "      <td>0xd334533980c201c1b93e39bbe6bd1e04be5c0f5d</td>\n",
       "      <td>1696464000</td>\n",
       "      <td>1876.080585521</td>\n",
       "      <td>1876.080585521</td>\n",
       "      <td>1876.080585521</td>\n",
       "      <td>0</td>\n",
       "      <td>False</td>\n",
       "      <td>0xa08fb5686be2eee0bca1bc09cefa1faea3062114639e...</td>\n",
       "      <td>0</td>\n",
       "    </tr>\n",
       "    <tr>\n",
       "      <th>1</th>\n",
       "      <td>2023-09-28T06:45:59.000Z</td>\n",
       "      <td>Staked</td>\n",
       "      <td>0xd683ca4ee6327cf09cb51adc8236aafea9493cd1</td>\n",
       "      <td>1696464000</td>\n",
       "      <td>2189.366909445</td>\n",
       "      <td>2189.366909445</td>\n",
       "      <td>2189.366909445</td>\n",
       "      <td>0</td>\n",
       "      <td>False</td>\n",
       "      <td>0x21edc20ec7f21019e6158cc3f4518ca43740b509d64c...</td>\n",
       "      <td>1</td>\n",
       "    </tr>\n",
       "    <tr>\n",
       "      <th>2</th>\n",
       "      <td>2023-09-28T06:29:35.000Z</td>\n",
       "      <td>Staked</td>\n",
       "      <td>0x0961f86626e297450073048a2c2ad9657fe56fbe</td>\n",
       "      <td>1695859200</td>\n",
       "      <td>2964.318996663</td>\n",
       "      <td>2964.318996663</td>\n",
       "      <td>2964.318996663</td>\n",
       "      <td>0</td>\n",
       "      <td>False</td>\n",
       "      <td>0xee34ae33271c454ecb9e22c35d6faf794014c757a71a...</td>\n",
       "      <td>2</td>\n",
       "    </tr>\n",
       "    <tr>\n",
       "      <th>3</th>\n",
       "      <td>2023-09-28T06:25:35.000Z</td>\n",
       "      <td>Staked</td>\n",
       "      <td>0x7d354d291a7e750672bc9002c2323a112f9de719</td>\n",
       "      <td>1695859200</td>\n",
       "      <td>1030.0</td>\n",
       "      <td>1030.0</td>\n",
       "      <td>1030.0</td>\n",
       "      <td>0</td>\n",
       "      <td>False</td>\n",
       "      <td>0xe8902e2cf639efbc27c5d1e86db2bb7ca6a6021d0dd5...</td>\n",
       "      <td>3</td>\n",
       "    </tr>\n",
       "    <tr>\n",
       "      <th>4</th>\n",
       "      <td>2023-09-28T06:01:11.000Z</td>\n",
       "      <td>Staked</td>\n",
       "      <td>0x7423fab4f4835ebdaa204c1e439792c7a75cb3f9</td>\n",
       "      <td>1695859200</td>\n",
       "      <td>231.406267742</td>\n",
       "      <td>231.406267742</td>\n",
       "      <td>231.406267742</td>\n",
       "      <td>0</td>\n",
       "      <td>False</td>\n",
       "      <td>0xd50a241bdfa973b13a66cf90cbd847645b6638a93cbf...</td>\n",
       "      <td>4</td>\n",
       "    </tr>\n",
       "  </tbody>\n",
       "</table>\n",
       "</div>"
      ],
      "text/plain": [
       "            block_timestamp event_name  \\\n",
       "0  2023-09-28T06:53:59.000Z     Staked   \n",
       "1  2023-09-28T06:45:59.000Z     Staked   \n",
       "2  2023-09-28T06:29:35.000Z     Staked   \n",
       "3  2023-09-28T06:25:35.000Z     Staked   \n",
       "4  2023-09-28T06:01:11.000Z     Staked   \n",
       "\n",
       "                                         user      _epoch   locked_amount  \\\n",
       "0  0xd334533980c201c1b93e39bbe6bd1e04be5c0f5d  1696464000  1876.080585521   \n",
       "1  0xd683ca4ee6327cf09cb51adc8236aafea9493cd1  1696464000  2189.366909445   \n",
       "2  0x0961f86626e297450073048a2c2ad9657fe56fbe  1695859200  2964.318996663   \n",
       "3  0x7d354d291a7e750672bc9002c2323a112f9de719  1695859200          1030.0   \n",
       "4  0x7423fab4f4835ebdaa204c1e439792c7a75cb3f9  1695859200   231.406267742   \n",
       "\n",
       "   boosted_amount     paid_amount withdrawn_amount relocked  \\\n",
       "0  1876.080585521  1876.080585521                0    False   \n",
       "1  2189.366909445  2189.366909445                0    False   \n",
       "2  2964.318996663  2964.318996663                0    False   \n",
       "3          1030.0          1030.0                0    False   \n",
       "4   231.406267742   231.406267742                0    False   \n",
       "\n",
       "                                             tx_hash __row_index  \n",
       "0  0xa08fb5686be2eee0bca1bc09cefa1faea3062114639e...           0  \n",
       "1  0x21edc20ec7f21019e6158cc3f4518ca43740b509d64c...           1  \n",
       "2  0xee34ae33271c454ecb9e22c35d6faf794014c757a71a...           2  \n",
       "3  0xe8902e2cf639efbc27c5d1e86db2bb7ca6a6021d0dd5...           3  \n",
       "4  0xd50a241bdfa973b13a66cf90cbd847645b6638a93cbf...           4  "
      ]
     },
     "execution_count": 9,
     "metadata": {},
     "output_type": "execute_result"
    }
   ],
   "source": [
    "df_locker.head(5)"
   ]
  },
  {
   "cell_type": "code",
   "execution_count": 10,
   "metadata": {},
   "outputs": [],
   "source": [
    "for i, row in df_locker.iterrows():\n",
    "    if row['locked_amount'] != row['boosted_amount']:\n",
    "        print( f\"locked: {row['locked_amount']} \\nboosted: {row['boosted_amount']}\")\n",
    "    if row['locked_amount'] != row['paid_amount']:\n",
    "        print( f\"locked: {row['locked_amount']} \\paid:\\t {row['paid_amount']}\")"
   ]
  },
  {
   "cell_type": "code",
   "execution_count": 11,
   "metadata": {},
   "outputs": [
    {
     "data": {
      "text/html": [
       "<div>\n",
       "<style scoped>\n",
       "    .dataframe tbody tr th:only-of-type {\n",
       "        vertical-align: middle;\n",
       "    }\n",
       "\n",
       "    .dataframe tbody tr th {\n",
       "        vertical-align: top;\n",
       "    }\n",
       "\n",
       "    .dataframe thead th {\n",
       "        text-align: right;\n",
       "    }\n",
       "</style>\n",
       "<table border=\"1\" class=\"dataframe\">\n",
       "  <thead>\n",
       "    <tr style=\"text-align: right;\">\n",
       "      <th></th>\n",
       "      <th>proposal_title</th>\n",
       "      <th>voter</th>\n",
       "      <th>known_as</th>\n",
       "      <th>choice</th>\n",
       "      <th>choice_index</th>\n",
       "      <th>voting_weight</th>\n",
       "      <th>total_weight</th>\n",
       "      <th>choice_percent</th>\n",
       "      <th>available_power</th>\n",
       "      <th>choice_power</th>\n",
       "      <th>timestamp</th>\n",
       "      <th>proposal_start</th>\n",
       "      <th>proposal_end</th>\n",
       "      <th>period_end_date</th>\n",
       "      <th>period</th>\n",
       "      <th>valid</th>\n",
       "      <th>vote_id</th>\n",
       "      <th>gauge_addr</th>\n",
       "      <th></th>\n",
       "    </tr>\n",
       "  </thead>\n",
       "  <tbody>\n",
       "    <tr>\n",
       "      <th>0</th>\n",
       "      <td>Gauge Weight for Week of 22nd Dec 2022</td>\n",
       "      <td>0x79e76c14b3bb6236dfc06d2d7ff219c8b070169c</td>\n",
       "      <td>Reserve Delegate 1</td>\n",
       "      <td>RSR+FRAXBP (0x6a62…)</td>\n",
       "      <td>110</td>\n",
       "      <td>100.0</td>\n",
       "      <td>100.0</td>\n",
       "      <td>1.0</td>\n",
       "      <td>968449.0</td>\n",
       "      <td>968449.0</td>\n",
       "      <td>2022-12-22 00:02:56.000</td>\n",
       "      <td>2022-12-22 00:00:25.000</td>\n",
       "      <td>2022-12-27 00:00:25.000</td>\n",
       "      <td>2022-12-29</td>\n",
       "      <td>2022.52</td>\n",
       "      <td>True</td>\n",
       "      <td>0</td>\n",
       "      <td>0xcf79921d99b99fee3dcf1a4657fcda95195b46d1</td>\n",
       "      <td>NaN</td>\n",
       "    </tr>\n",
       "    <tr>\n",
       "      <th>711</th>\n",
       "      <td>Gauge Weight for Week of 22nd Dec 2022</td>\n",
       "      <td>0xc8e33e8b915f953ada2fbcd64fc28ea725125602</td>\n",
       "      <td>_</td>\n",
       "      <td>BUSD+FRAXBP (0x8fdb…)</td>\n",
       "      <td>92</td>\n",
       "      <td>1.0</td>\n",
       "      <td>1.0</td>\n",
       "      <td>1.0</td>\n",
       "      <td>6253.0</td>\n",
       "      <td>6253.0</td>\n",
       "      <td>2022-12-26 13:40:28.000</td>\n",
       "      <td>2022-12-22 00:00:25.000</td>\n",
       "      <td>2022-12-27 00:00:25.000</td>\n",
       "      <td>2022-12-29</td>\n",
       "      <td>2022.52</td>\n",
       "      <td>True</td>\n",
       "      <td>485</td>\n",
       "      <td>0xaeac6dcd12cc0be74c8f99efe4bb5205a1f9a608</td>\n",
       "      <td>NaN</td>\n",
       "    </tr>\n",
       "    <tr>\n",
       "      <th>712</th>\n",
       "      <td>Gauge Weight for Week of 22nd Dec 2022</td>\n",
       "      <td>0x41b9f4c5810a2c13629e240e81bfccaf1a864348</td>\n",
       "      <td>_</td>\n",
       "      <td>CRV+cvxCRV (0x9D04…)</td>\n",
       "      <td>33</td>\n",
       "      <td>1.0</td>\n",
       "      <td>1.0</td>\n",
       "      <td>1.0</td>\n",
       "      <td>669.0</td>\n",
       "      <td>669.0</td>\n",
       "      <td>2022-12-26 13:44:14.000</td>\n",
       "      <td>2022-12-22 00:00:25.000</td>\n",
       "      <td>2022-12-27 00:00:25.000</td>\n",
       "      <td>2022-12-29</td>\n",
       "      <td>2022.52</td>\n",
       "      <td>True</td>\n",
       "      <td>486</td>\n",
       "      <td>0x903da6213a5a12b61c821598154efad98c3b20e4</td>\n",
       "      <td>NaN</td>\n",
       "    </tr>\n",
       "    <tr>\n",
       "      <th>713</th>\n",
       "      <td>Gauge Weight for Week of 22nd Dec 2022</td>\n",
       "      <td>0x9c570be42ad43c251a1997fe9e231d742358c386</td>\n",
       "      <td>_</td>\n",
       "      <td>FRAX+3Crv (0xd632…)</td>\n",
       "      <td>25</td>\n",
       "      <td>1.0</td>\n",
       "      <td>1.0</td>\n",
       "      <td>1.0</td>\n",
       "      <td>6419.0</td>\n",
       "      <td>6419.0</td>\n",
       "      <td>2022-12-26 13:48:12.000</td>\n",
       "      <td>2022-12-22 00:00:25.000</td>\n",
       "      <td>2022-12-27 00:00:25.000</td>\n",
       "      <td>2022-12-29</td>\n",
       "      <td>2022.52</td>\n",
       "      <td>True</td>\n",
       "      <td>487</td>\n",
       "      <td>0x72e158d38dbd50a483501c24f792bdaaa3e7d55c</td>\n",
       "      <td>NaN</td>\n",
       "    </tr>\n",
       "    <tr>\n",
       "      <th>714</th>\n",
       "      <td>Gauge Weight for Week of 22nd Dec 2022</td>\n",
       "      <td>0x5c7fce16aef068cc7d35cb8d9a880dd36809bf72</td>\n",
       "      <td>_</td>\n",
       "      <td>FRAX+3Crv (0xd632…)</td>\n",
       "      <td>25</td>\n",
       "      <td>1.0</td>\n",
       "      <td>1.0</td>\n",
       "      <td>1.0</td>\n",
       "      <td>817.0</td>\n",
       "      <td>817.0</td>\n",
       "      <td>2022-12-26 13:49:11.000</td>\n",
       "      <td>2022-12-22 00:00:25.000</td>\n",
       "      <td>2022-12-27 00:00:25.000</td>\n",
       "      <td>2022-12-29</td>\n",
       "      <td>2022.52</td>\n",
       "      <td>True</td>\n",
       "      <td>488</td>\n",
       "      <td>0x72e158d38dbd50a483501c24f792bdaaa3e7d55c</td>\n",
       "      <td>NaN</td>\n",
       "    </tr>\n",
       "  </tbody>\n",
       "</table>\n",
       "</div>"
      ],
      "text/plain": [
       "                             proposal_title  \\\n",
       "0    Gauge Weight for Week of 22nd Dec 2022   \n",
       "711  Gauge Weight for Week of 22nd Dec 2022   \n",
       "712  Gauge Weight for Week of 22nd Dec 2022   \n",
       "713  Gauge Weight for Week of 22nd Dec 2022   \n",
       "714  Gauge Weight for Week of 22nd Dec 2022   \n",
       "\n",
       "                                          voter            known_as  \\\n",
       "0    0x79e76c14b3bb6236dfc06d2d7ff219c8b070169c  Reserve Delegate 1   \n",
       "711  0xc8e33e8b915f953ada2fbcd64fc28ea725125602                   _   \n",
       "712  0x41b9f4c5810a2c13629e240e81bfccaf1a864348                   _   \n",
       "713  0x9c570be42ad43c251a1997fe9e231d742358c386                   _   \n",
       "714  0x5c7fce16aef068cc7d35cb8d9a880dd36809bf72                   _   \n",
       "\n",
       "                    choice  choice_index  voting_weight  total_weight  \\\n",
       "0     RSR+FRAXBP (0x6a62…)           110          100.0         100.0   \n",
       "711  BUSD+FRAXBP (0x8fdb…)            92            1.0           1.0   \n",
       "712   CRV+cvxCRV (0x9D04…)            33            1.0           1.0   \n",
       "713    FRAX+3Crv (0xd632…)            25            1.0           1.0   \n",
       "714    FRAX+3Crv (0xd632…)            25            1.0           1.0   \n",
       "\n",
       "     choice_percent  available_power  choice_power                timestamp  \\\n",
       "0               1.0         968449.0      968449.0  2022-12-22 00:02:56.000   \n",
       "711             1.0           6253.0        6253.0  2022-12-26 13:40:28.000   \n",
       "712             1.0            669.0         669.0  2022-12-26 13:44:14.000   \n",
       "713             1.0           6419.0        6419.0  2022-12-26 13:48:12.000   \n",
       "714             1.0            817.0         817.0  2022-12-26 13:49:11.000   \n",
       "\n",
       "              proposal_start             proposal_end period_end_date  \\\n",
       "0    2022-12-22 00:00:25.000  2022-12-27 00:00:25.000      2022-12-29   \n",
       "711  2022-12-22 00:00:25.000  2022-12-27 00:00:25.000      2022-12-29   \n",
       "712  2022-12-22 00:00:25.000  2022-12-27 00:00:25.000      2022-12-29   \n",
       "713  2022-12-22 00:00:25.000  2022-12-27 00:00:25.000      2022-12-29   \n",
       "714  2022-12-22 00:00:25.000  2022-12-27 00:00:25.000      2022-12-29   \n",
       "\n",
       "      period  valid vote_id                                  gauge_addr       \n",
       "0    2022.52   True       0  0xcf79921d99b99fee3dcf1a4657fcda95195b46d1  NaN  \n",
       "711  2022.52   True     485  0xaeac6dcd12cc0be74c8f99efe4bb5205a1f9a608  NaN  \n",
       "712  2022.52   True     486  0x903da6213a5a12b61c821598154efad98c3b20e4  NaN  \n",
       "713  2022.52   True     487  0x72e158d38dbd50a483501c24f792bdaaa3e7d55c  NaN  \n",
       "714  2022.52   True     488  0x72e158d38dbd50a483501c24f792bdaaa3e7d55c  NaN  "
      ]
     },
     "execution_count": 11,
     "metadata": {},
     "output_type": "execute_result"
    }
   ],
   "source": [
    "df_convex_snapshot_vote_choice.head(5)"
   ]
  },
  {
   "cell_type": "code",
   "execution_count": 12,
   "metadata": {},
   "outputs": [],
   "source": [
    "# def get_date_obj(time):\n",
    "#     if type(time) == str:\n",
    "#         if 'T' in time:\n",
    "#             try:\n",
    "#                 split = time.split(\"T\")\n",
    "#                 time = split[0]+\" \"+split[1][:-1]\n",
    "#                 # row['block_timestamp'] = dt.strptime(row['block_timestamp'], '%Y-%m-%d %H:%M:%S.%f'),\n",
    "#             except:\n",
    "#                 pass\n",
    "#         try:\n",
    "#             time = dt.strptime(time,'%Y-%m-%d %H:%M:%S.%f')\n",
    "#         except:\n",
    "#             time = dt.strptime(time,'%Y-%m-%d %H:%M:%S')      \n",
    "#     return time"
   ]
  },
  {
   "cell_type": "markdown",
   "metadata": {},
   "source": [
    "# Process Convex Locker"
   ]
  },
  {
   "cell_type": "code",
   "execution_count": 13,
   "metadata": {},
   "outputs": [],
   "source": [
    "class ProcessConvexLocker():\n",
    "    def __init__(self, df_locker):\n",
    "        self.df_locker = df_locker\n",
    "        # self.df_locker_aggregate = []\n",
    "        \n",
    "        self.df_user_epoch = [] # All locks\n",
    "        self.df_aggregate_user_epoch = []   # Sum of locks per lock per epoch per user\n",
    "        self.df_aggregate_system = [] # Aggregate sum of locks per epoch\n",
    "        self.df_aggregate_epoch = [] # Aggregate sum of locks per user per epoch\n",
    "        self.df_aggregate_epoch_current = [] # only current aggregate epoch\n",
    "        self.process()\n",
    "        self.process_user_epoch()\n",
    "        self.process_aggregate_user_epoch()\n",
    "        self.process_aggregate_system()\n",
    "        self.process_aggregate_epoch()\n",
    "\n",
    "    def process(self):\n",
    "        self.df_locker['locked_amount'] = self.df_locker['locked_amount'].astype(float)\n",
    "        self.df_locker['epoch_start'] = self.df_locker['_epoch'].apply(get_dt_from_timestamp)\n",
    "        self.df_locker['epoch_end'] = self.df_locker['epoch_start'].apply(lambda x: shift_time_days(x,16*7))\n",
    "        self.df_locker['known_as'] = self.df_locker['user'].apply(lambda x: self.known_as(x))\n",
    "        self.df_locker['display_name'] = self.df_locker.apply(lambda x: self.display_name(x['user'], x['known_as']), axis=1)\n",
    "    \n",
    "    def known_as(self, user):\n",
    "        if user in known_large_cvx_holders_addresses:\n",
    "            return known_large_cvx_holders_addresses[user]\n",
    "        else:\n",
    "            return \"_\"\n",
    "\n",
    "\n",
    "    def display_name(self, user, known_as ):\n",
    "        # print(user)\n",
    "        # print(known_as)\n",
    "        if known_as:\n",
    "            return f\"{known_as} ({user[:6]})\"\n",
    "        else:\n",
    "            return f\"({user[:6]})\"\n",
    "\n",
    "    # Calculate total balance for individual locks at each epoch per user\n",
    "    def process_user_epoch(self, df=[]):\n",
    "        if len(df) == 0:\n",
    "            df = self.df_locker\n",
    "        furthest_epoch = df.epoch_end.max()\n",
    "        this_epoch = df.epoch_start.min()\n",
    "        local_list = []\n",
    "        while this_epoch <= furthest_epoch:\n",
    "            # this_epoch_lag = shift_time_days(this_epoch, -1)\n",
    "            this_epoch_buff = shift_time_days(this_epoch, 1)\n",
    "            df_local = df[df['epoch_start'] <= this_epoch_buff ]\n",
    "            df_local = df_local[df_local['epoch_end'] > this_epoch_buff ]\n",
    "            df_local = df_local.groupby([\n",
    "                    'epoch_start', 'epoch_end', 'user', 'known_as', 'display_name',\n",
    "                ])['locked_amount'].agg(['sum', 'count']).reset_index()\n",
    "            df_local = df_local.rename(columns={\n",
    "                        \"sum\": 'current_locked',\n",
    "                        \"count\": 'lock_count'\n",
    "                        })\n",
    "            df_local['this_epoch'] = this_epoch\n",
    "            local_list.append(df_local)\n",
    "            this_epoch = shift_time_days(this_epoch, 7)\n",
    "        self.df_user_epoch = pd.concat(local_list)\n",
    "        return\n",
    "    \n",
    "    # Calculate total balance of locks at each epoch per user\n",
    "    def process_aggregate_user_epoch(self):\n",
    "        self.df_aggregate_user_epoch = self.df_user_epoch.groupby([\n",
    "                'this_epoch', 'user', 'known_as', 'display_name'\n",
    "            ]).agg(\n",
    "            current_locked=pd.NamedAgg(column='current_locked', aggfunc=sum),\n",
    "            lock_count=pd.NamedAgg(column='lock_count', aggfunc=sum)\n",
    "        ).reset_index()\n",
    "        return\n",
    "    \n",
    "    # Calculate total locked per epoch (sum all locks within an epoch)\n",
    "    # And create filter for only currently locked epochs\n",
    "    def process_aggregate_epoch(self):\n",
    "        self.df_aggregate_epoch = self.df_locker.groupby([\n",
    "                'epoch_start',\n",
    "                'epoch_end',\n",
    "            ]).agg(\n",
    "            locked_amount=pd.NamedAgg(column='locked_amount', aggfunc=sum),\n",
    "            lock_count=pd.NamedAgg(column='tx_hash', aggfunc=sum)\n",
    "\n",
    "        ).reset_index()\n",
    "        now_epoch = self.df_aggregate_epoch[self.df_aggregate_epoch['epoch_start'] <= dt.now()].epoch_start.max()\n",
    "        self.df_aggregate_epoch_current = self.df_aggregate_epoch[self.df_aggregate_epoch['epoch_end'] >= now_epoch]\n",
    "        return\n",
    "    \n",
    "    \n",
    "    # Calculate total locked each epoch (sum all currently active epochs) \n",
    "    def process_aggregate_system(self):\n",
    "        self.df_aggregate_system = self.df_aggregate_user_epoch.groupby([\n",
    "                'this_epoch',\n",
    "            ]).agg(\n",
    "            total_locked=pd.NamedAgg(column='current_locked', aggfunc=sum),\n",
    "            lock_count=pd.NamedAgg(column='lock_count', aggfunc=sum),\n",
    "            user_count=pd.NamedAgg(column='user', aggfunc=lambda x: len(x.unique()))\n",
    "        ).reset_index()\n",
    "        return"
   ]
  },
  {
   "cell_type": "code",
   "execution_count": 14,
   "metadata": {},
   "outputs": [],
   "source": [
    "pcl = ProcessConvexLocker(df_locker)\n",
    "pcl_base = pcl.df_locker\n",
    "pcl_user = pcl.df_user_epoch\n",
    "pcl_agg_user = pcl.df_aggregate_user_epoch\n",
    "pcl_agg_system = pcl.df_aggregate_system\n",
    "pcl_agg_epoch = pcl.df_aggregate_epoch\n",
    "pcl_agg_current = pcl.df_aggregate_epoch_current"
   ]
  },
  {
   "cell_type": "code",
   "execution_count": 15,
   "metadata": {},
   "outputs": [
    {
     "data": {
      "text/html": [
       "<div>\n",
       "<style scoped>\n",
       "    .dataframe tbody tr th:only-of-type {\n",
       "        vertical-align: middle;\n",
       "    }\n",
       "\n",
       "    .dataframe tbody tr th {\n",
       "        vertical-align: top;\n",
       "    }\n",
       "\n",
       "    .dataframe thead th {\n",
       "        text-align: right;\n",
       "    }\n",
       "</style>\n",
       "<table border=\"1\" class=\"dataframe\">\n",
       "  <thead>\n",
       "    <tr style=\"text-align: right;\">\n",
       "      <th></th>\n",
       "      <th>this_epoch</th>\n",
       "      <th>total_locked</th>\n",
       "      <th>lock_count</th>\n",
       "      <th>user_count</th>\n",
       "    </tr>\n",
       "  </thead>\n",
       "  <tbody>\n",
       "    <tr>\n",
       "      <th>0</th>\n",
       "      <td>2022-03-09 19:00:00</td>\n",
       "      <td>2.748035e+07</td>\n",
       "      <td>2942</td>\n",
       "      <td>2594</td>\n",
       "    </tr>\n",
       "    <tr>\n",
       "      <th>1</th>\n",
       "      <td>2022-03-16 19:00:00</td>\n",
       "      <td>3.620358e+07</td>\n",
       "      <td>4025</td>\n",
       "      <td>3258</td>\n",
       "    </tr>\n",
       "    <tr>\n",
       "      <th>2</th>\n",
       "      <td>2022-03-23 19:00:00</td>\n",
       "      <td>3.759359e+07</td>\n",
       "      <td>4732</td>\n",
       "      <td>3608</td>\n",
       "    </tr>\n",
       "    <tr>\n",
       "      <th>3</th>\n",
       "      <td>2022-03-30 19:00:00</td>\n",
       "      <td>4.081950e+07</td>\n",
       "      <td>5519</td>\n",
       "      <td>3929</td>\n",
       "    </tr>\n",
       "    <tr>\n",
       "      <th>4</th>\n",
       "      <td>2022-04-06 19:00:00</td>\n",
       "      <td>4.157397e+07</td>\n",
       "      <td>6086</td>\n",
       "      <td>4190</td>\n",
       "    </tr>\n",
       "    <tr>\n",
       "      <th>...</th>\n",
       "      <td>...</td>\n",
       "      <td>...</td>\n",
       "      <td>...</td>\n",
       "      <td>...</td>\n",
       "    </tr>\n",
       "    <tr>\n",
       "      <th>102</th>\n",
       "      <td>2024-02-21 19:00:00</td>\n",
       "      <td>1.452385e+07</td>\n",
       "      <td>1068</td>\n",
       "      <td>725</td>\n",
       "    </tr>\n",
       "    <tr>\n",
       "      <th>103</th>\n",
       "      <td>2024-02-28 19:00:00</td>\n",
       "      <td>1.179468e+07</td>\n",
       "      <td>749</td>\n",
       "      <td>525</td>\n",
       "    </tr>\n",
       "    <tr>\n",
       "      <th>104</th>\n",
       "      <td>2024-03-06 19:00:00</td>\n",
       "      <td>8.107834e+06</td>\n",
       "      <td>474</td>\n",
       "      <td>349</td>\n",
       "    </tr>\n",
       "    <tr>\n",
       "      <th>105</th>\n",
       "      <td>2024-03-13 19:00:00</td>\n",
       "      <td>4.709990e+06</td>\n",
       "      <td>215</td>\n",
       "      <td>160</td>\n",
       "    </tr>\n",
       "    <tr>\n",
       "      <th>106</th>\n",
       "      <td>2024-03-20 19:00:00</td>\n",
       "      <td>6.875045e+05</td>\n",
       "      <td>55</td>\n",
       "      <td>46</td>\n",
       "    </tr>\n",
       "  </tbody>\n",
       "</table>\n",
       "<p>107 rows × 4 columns</p>\n",
       "</div>"
      ],
      "text/plain": [
       "             this_epoch  total_locked  lock_count  user_count\n",
       "0   2022-03-09 19:00:00  2.748035e+07        2942        2594\n",
       "1   2022-03-16 19:00:00  3.620358e+07        4025        3258\n",
       "2   2022-03-23 19:00:00  3.759359e+07        4732        3608\n",
       "3   2022-03-30 19:00:00  4.081950e+07        5519        3929\n",
       "4   2022-04-06 19:00:00  4.157397e+07        6086        4190\n",
       "..                  ...           ...         ...         ...\n",
       "102 2024-02-21 19:00:00  1.452385e+07        1068         725\n",
       "103 2024-02-28 19:00:00  1.179468e+07         749         525\n",
       "104 2024-03-06 19:00:00  8.107834e+06         474         349\n",
       "105 2024-03-13 19:00:00  4.709990e+06         215         160\n",
       "106 2024-03-20 19:00:00  6.875045e+05          55          46\n",
       "\n",
       "[107 rows x 4 columns]"
      ]
     },
     "execution_count": 15,
     "metadata": {},
     "output_type": "execute_result"
    }
   ],
   "source": [
    "pcl_agg_system"
   ]
  },
  {
   "cell_type": "code",
   "execution_count": 16,
   "metadata": {},
   "outputs": [
    {
     "data": {
      "text/plain": [
       "632.224"
      ]
     },
     "execution_count": 16,
     "metadata": {},
     "output_type": "execute_result"
    }
   ],
   "source": [
    "len(pcl_user) / 1000"
   ]
  },
  {
   "cell_type": "code",
   "execution_count": 17,
   "metadata": {},
   "outputs": [
    {
     "data": {
      "text/html": [
       "<div>\n",
       "<style scoped>\n",
       "    .dataframe tbody tr th:only-of-type {\n",
       "        vertical-align: middle;\n",
       "    }\n",
       "\n",
       "    .dataframe tbody tr th {\n",
       "        vertical-align: top;\n",
       "    }\n",
       "\n",
       "    .dataframe thead th {\n",
       "        text-align: right;\n",
       "    }\n",
       "</style>\n",
       "<table border=\"1\" class=\"dataframe\">\n",
       "  <thead>\n",
       "    <tr style=\"text-align: right;\">\n",
       "      <th></th>\n",
       "      <th>this_epoch</th>\n",
       "      <th>user</th>\n",
       "      <th>known_as</th>\n",
       "      <th>display_name</th>\n",
       "      <th>current_locked</th>\n",
       "      <th>lock_count</th>\n",
       "    </tr>\n",
       "  </thead>\n",
       "  <tbody>\n",
       "    <tr>\n",
       "      <th>316046</th>\n",
       "      <td>2023-12-20 19:00:00</td>\n",
       "      <td>0x0001f85d5eecc0a176e6197690baa3e62bde35c5</td>\n",
       "      <td>_</td>\n",
       "      <td>_ (0x0001)</td>\n",
       "      <td>305.424250</td>\n",
       "      <td>1</td>\n",
       "    </tr>\n",
       "    <tr>\n",
       "      <th>316047</th>\n",
       "      <td>2023-12-20 19:00:00</td>\n",
       "      <td>0x0034daf2e65f6ef82bc6f893dbbfd7c232a0e59c</td>\n",
       "      <td>_</td>\n",
       "      <td>_ (0x0034)</td>\n",
       "      <td>4184.997762</td>\n",
       "      <td>4</td>\n",
       "    </tr>\n",
       "    <tr>\n",
       "      <th>316048</th>\n",
       "      <td>2023-12-20 19:00:00</td>\n",
       "      <td>0x0050dac04ca9a20361ea0ba447d9e92ee78de445</td>\n",
       "      <td>_</td>\n",
       "      <td>_ (0x0050)</td>\n",
       "      <td>1950.108040</td>\n",
       "      <td>1</td>\n",
       "    </tr>\n",
       "    <tr>\n",
       "      <th>316049</th>\n",
       "      <td>2023-12-20 19:00:00</td>\n",
       "      <td>0x0065ec16a5eb2a291dc6f7076e1255a418c52ffd</td>\n",
       "      <td>_</td>\n",
       "      <td>_ (0x0065)</td>\n",
       "      <td>111.307479</td>\n",
       "      <td>1</td>\n",
       "    </tr>\n",
       "    <tr>\n",
       "      <th>316050</th>\n",
       "      <td>2023-12-20 19:00:00</td>\n",
       "      <td>0x0079f92ba09c15b21a62ba97caaf2e3aa4531643</td>\n",
       "      <td>_</td>\n",
       "      <td>_ (0x0079)</td>\n",
       "      <td>2534.135395</td>\n",
       "      <td>1</td>\n",
       "    </tr>\n",
       "    <tr>\n",
       "      <th>...</th>\n",
       "      <td>...</td>\n",
       "      <td>...</td>\n",
       "      <td>...</td>\n",
       "      <td>...</td>\n",
       "      <td>...</td>\n",
       "      <td>...</td>\n",
       "    </tr>\n",
       "    <tr>\n",
       "      <th>317861</th>\n",
       "      <td>2023-12-20 19:00:00</td>\n",
       "      <td>0xff0b6ffc4507812f5380062d91a79e464508bde1</td>\n",
       "      <td>_</td>\n",
       "      <td>_ (0xff0b)</td>\n",
       "      <td>5775.694726</td>\n",
       "      <td>1</td>\n",
       "    </tr>\n",
       "    <tr>\n",
       "      <th>317862</th>\n",
       "      <td>2023-12-20 19:00:00</td>\n",
       "      <td>0xff3bd22870c5c4d097619d75d7e2be056581b013</td>\n",
       "      <td>_</td>\n",
       "      <td>_ (0xff3b)</td>\n",
       "      <td>26709.751271</td>\n",
       "      <td>16</td>\n",
       "    </tr>\n",
       "    <tr>\n",
       "      <th>317863</th>\n",
       "      <td>2023-12-20 19:00:00</td>\n",
       "      <td>0xff597632d59c49e918fe26cda385f37a0db8a713</td>\n",
       "      <td>_</td>\n",
       "      <td>_ (0xff59)</td>\n",
       "      <td>3063.467325</td>\n",
       "      <td>1</td>\n",
       "    </tr>\n",
       "    <tr>\n",
       "      <th>317864</th>\n",
       "      <td>2023-12-20 19:00:00</td>\n",
       "      <td>0xffd3da76203642d4ee112893f33749a0df7ea7fd</td>\n",
       "      <td>_</td>\n",
       "      <td>_ (0xffd3)</td>\n",
       "      <td>1432.250066</td>\n",
       "      <td>1</td>\n",
       "    </tr>\n",
       "    <tr>\n",
       "      <th>317865</th>\n",
       "      <td>2023-12-20 19:00:00</td>\n",
       "      <td>0xffe4e3986d18333402564ea64f3a83fcc1907b52</td>\n",
       "      <td>_</td>\n",
       "      <td>_ (0xffe4)</td>\n",
       "      <td>26.461834</td>\n",
       "      <td>1</td>\n",
       "    </tr>\n",
       "  </tbody>\n",
       "</table>\n",
       "<p>1820 rows × 6 columns</p>\n",
       "</div>"
      ],
      "text/plain": [
       "                this_epoch                                        user  \\\n",
       "316046 2023-12-20 19:00:00  0x0001f85d5eecc0a176e6197690baa3e62bde35c5   \n",
       "316047 2023-12-20 19:00:00  0x0034daf2e65f6ef82bc6f893dbbfd7c232a0e59c   \n",
       "316048 2023-12-20 19:00:00  0x0050dac04ca9a20361ea0ba447d9e92ee78de445   \n",
       "316049 2023-12-20 19:00:00  0x0065ec16a5eb2a291dc6f7076e1255a418c52ffd   \n",
       "316050 2023-12-20 19:00:00  0x0079f92ba09c15b21a62ba97caaf2e3aa4531643   \n",
       "...                    ...                                         ...   \n",
       "317861 2023-12-20 19:00:00  0xff0b6ffc4507812f5380062d91a79e464508bde1   \n",
       "317862 2023-12-20 19:00:00  0xff3bd22870c5c4d097619d75d7e2be056581b013   \n",
       "317863 2023-12-20 19:00:00  0xff597632d59c49e918fe26cda385f37a0db8a713   \n",
       "317864 2023-12-20 19:00:00  0xffd3da76203642d4ee112893f33749a0df7ea7fd   \n",
       "317865 2023-12-20 19:00:00  0xffe4e3986d18333402564ea64f3a83fcc1907b52   \n",
       "\n",
       "       known_as display_name  current_locked  lock_count  \n",
       "316046        _   _ (0x0001)      305.424250           1  \n",
       "316047        _   _ (0x0034)     4184.997762           4  \n",
       "316048        _   _ (0x0050)     1950.108040           1  \n",
       "316049        _   _ (0x0065)      111.307479           1  \n",
       "316050        _   _ (0x0079)     2534.135395           1  \n",
       "...         ...          ...             ...         ...  \n",
       "317861        _   _ (0xff0b)     5775.694726           1  \n",
       "317862        _   _ (0xff3b)    26709.751271          16  \n",
       "317863        _   _ (0xff59)     3063.467325           1  \n",
       "317864        _   _ (0xffd3)     1432.250066           1  \n",
       "317865        _   _ (0xffe4)       26.461834           1  \n",
       "\n",
       "[1820 rows x 6 columns]"
      ]
     },
     "execution_count": 17,
     "metadata": {},
     "output_type": "execute_result"
    }
   ],
   "source": [
    "pcl_agg_user\n",
    "df_locker_agg_user_epoch_current = pcl_agg_user[pcl_agg_user['this_epoch'] >= dt.now()]\n",
    "df_locker_agg_user_epoch_current = df_locker_agg_user_epoch_current[\n",
    "    df_locker_agg_user_epoch_current['this_epoch'] == df_locker_agg_user_epoch_current.this_epoch.min()\n",
    "    ]\n",
    "df_locker_agg_user_epoch_current"
   ]
  },
  {
   "cell_type": "code",
   "execution_count": 18,
   "metadata": {},
   "outputs": [
    {
     "data": {
      "text/html": [
       "<div>\n",
       "<style scoped>\n",
       "    .dataframe tbody tr th:only-of-type {\n",
       "        vertical-align: middle;\n",
       "    }\n",
       "\n",
       "    .dataframe tbody tr th {\n",
       "        vertical-align: top;\n",
       "    }\n",
       "\n",
       "    .dataframe thead th {\n",
       "        text-align: right;\n",
       "    }\n",
       "</style>\n",
       "<table border=\"1\" class=\"dataframe\">\n",
       "  <thead>\n",
       "    <tr style=\"text-align: right;\">\n",
       "      <th></th>\n",
       "      <th>this_epoch</th>\n",
       "      <th>user</th>\n",
       "      <th>known_as</th>\n",
       "      <th>display_name</th>\n",
       "      <th>current_locked</th>\n",
       "      <th>lock_count</th>\n",
       "    </tr>\n",
       "  </thead>\n",
       "  <tbody>\n",
       "    <tr>\n",
       "      <th>71909</th>\n",
       "      <td>2022-06-22 19:00:00</td>\n",
       "      <td>0xc6625129c9df3314a4dd604845488f4ba62f9db8</td>\n",
       "      <td>Reserve</td>\n",
       "      <td>Reserve (0xc662)</td>\n",
       "      <td>5.000000</td>\n",
       "      <td>1</td>\n",
       "    </tr>\n",
       "    <tr>\n",
       "      <th>76668</th>\n",
       "      <td>2022-06-29 19:00:00</td>\n",
       "      <td>0xc6625129c9df3314a4dd604845488f4ba62f9db8</td>\n",
       "      <td>Reserve</td>\n",
       "      <td>Reserve (0xc662)</td>\n",
       "      <td>150005.000000</td>\n",
       "      <td>2</td>\n",
       "    </tr>\n",
       "    <tr>\n",
       "      <th>81186</th>\n",
       "      <td>2022-07-06 19:00:00</td>\n",
       "      <td>0xc6625129c9df3314a4dd604845488f4ba62f9db8</td>\n",
       "      <td>Reserve</td>\n",
       "      <td>Reserve (0xc662)</td>\n",
       "      <td>250005.000000</td>\n",
       "      <td>3</td>\n",
       "    </tr>\n",
       "    <tr>\n",
       "      <th>85676</th>\n",
       "      <td>2022-07-13 19:00:00</td>\n",
       "      <td>0xc6625129c9df3314a4dd604845488f4ba62f9db8</td>\n",
       "      <td>Reserve</td>\n",
       "      <td>Reserve (0xc662)</td>\n",
       "      <td>253468.519532</td>\n",
       "      <td>4</td>\n",
       "    </tr>\n",
       "    <tr>\n",
       "      <th>90088</th>\n",
       "      <td>2022-07-20 19:00:00</td>\n",
       "      <td>0xc6625129c9df3314a4dd604845488f4ba62f9db8</td>\n",
       "      <td>Reserve</td>\n",
       "      <td>Reserve (0xc662)</td>\n",
       "      <td>353468.519532</td>\n",
       "      <td>5</td>\n",
       "    </tr>\n",
       "    <tr>\n",
       "      <th>...</th>\n",
       "      <td>...</td>\n",
       "      <td>...</td>\n",
       "      <td>...</td>\n",
       "      <td>...</td>\n",
       "      <td>...</td>\n",
       "      <td>...</td>\n",
       "    </tr>\n",
       "    <tr>\n",
       "      <th>328458</th>\n",
       "      <td>2024-02-14 19:00:00</td>\n",
       "      <td>0xc6625129c9df3314a4dd604845488f4ba62f9db8</td>\n",
       "      <td>Reserve</td>\n",
       "      <td>Reserve (0xc662)</td>\n",
       "      <td>200098.528143</td>\n",
       "      <td>3</td>\n",
       "    </tr>\n",
       "    <tr>\n",
       "      <th>329225</th>\n",
       "      <td>2024-02-21 19:00:00</td>\n",
       "      <td>0xc6625129c9df3314a4dd604845488f4ba62f9db8</td>\n",
       "      <td>Reserve</td>\n",
       "      <td>Reserve (0xc662)</td>\n",
       "      <td>200098.528143</td>\n",
       "      <td>3</td>\n",
       "    </tr>\n",
       "    <tr>\n",
       "      <th>329790</th>\n",
       "      <td>2024-02-28 19:00:00</td>\n",
       "      <td>0xc6625129c9df3314a4dd604845488f4ba62f9db8</td>\n",
       "      <td>Reserve</td>\n",
       "      <td>Reserve (0xc662)</td>\n",
       "      <td>200098.528143</td>\n",
       "      <td>3</td>\n",
       "    </tr>\n",
       "    <tr>\n",
       "      <th>330176</th>\n",
       "      <td>2024-03-06 19:00:00</td>\n",
       "      <td>0xc6625129c9df3314a4dd604845488f4ba62f9db8</td>\n",
       "      <td>Reserve</td>\n",
       "      <td>Reserve (0xc662)</td>\n",
       "      <td>199025.668881</td>\n",
       "      <td>2</td>\n",
       "    </tr>\n",
       "    <tr>\n",
       "      <th>330380</th>\n",
       "      <td>2024-03-13 19:00:00</td>\n",
       "      <td>0xc6625129c9df3314a4dd604845488f4ba62f9db8</td>\n",
       "      <td>Reserve</td>\n",
       "      <td>Reserve (0xc662)</td>\n",
       "      <td>5307.204721</td>\n",
       "      <td>1</td>\n",
       "    </tr>\n",
       "  </tbody>\n",
       "</table>\n",
       "<p>91 rows × 6 columns</p>\n",
       "</div>"
      ],
      "text/plain": [
       "                this_epoch                                        user  \\\n",
       "71909  2022-06-22 19:00:00  0xc6625129c9df3314a4dd604845488f4ba62f9db8   \n",
       "76668  2022-06-29 19:00:00  0xc6625129c9df3314a4dd604845488f4ba62f9db8   \n",
       "81186  2022-07-06 19:00:00  0xc6625129c9df3314a4dd604845488f4ba62f9db8   \n",
       "85676  2022-07-13 19:00:00  0xc6625129c9df3314a4dd604845488f4ba62f9db8   \n",
       "90088  2022-07-20 19:00:00  0xc6625129c9df3314a4dd604845488f4ba62f9db8   \n",
       "...                    ...                                         ...   \n",
       "328458 2024-02-14 19:00:00  0xc6625129c9df3314a4dd604845488f4ba62f9db8   \n",
       "329225 2024-02-21 19:00:00  0xc6625129c9df3314a4dd604845488f4ba62f9db8   \n",
       "329790 2024-02-28 19:00:00  0xc6625129c9df3314a4dd604845488f4ba62f9db8   \n",
       "330176 2024-03-06 19:00:00  0xc6625129c9df3314a4dd604845488f4ba62f9db8   \n",
       "330380 2024-03-13 19:00:00  0xc6625129c9df3314a4dd604845488f4ba62f9db8   \n",
       "\n",
       "       known_as      display_name  current_locked  lock_count  \n",
       "71909   Reserve  Reserve (0xc662)        5.000000           1  \n",
       "76668   Reserve  Reserve (0xc662)   150005.000000           2  \n",
       "81186   Reserve  Reserve (0xc662)   250005.000000           3  \n",
       "85676   Reserve  Reserve (0xc662)   253468.519532           4  \n",
       "90088   Reserve  Reserve (0xc662)   353468.519532           5  \n",
       "...         ...               ...             ...         ...  \n",
       "328458  Reserve  Reserve (0xc662)   200098.528143           3  \n",
       "329225  Reserve  Reserve (0xc662)   200098.528143           3  \n",
       "329790  Reserve  Reserve (0xc662)   200098.528143           3  \n",
       "330176  Reserve  Reserve (0xc662)   199025.668881           2  \n",
       "330380  Reserve  Reserve (0xc662)     5307.204721           1  \n",
       "\n",
       "[91 rows x 6 columns]"
      ]
     },
     "execution_count": 18,
     "metadata": {},
     "output_type": "execute_result"
    }
   ],
   "source": [
    "pcl_agg_user[pcl_agg_user['known_as'] == 'Reserve']\n"
   ]
  },
  {
   "cell_type": "code",
   "execution_count": 19,
   "metadata": {},
   "outputs": [],
   "source": [
    "from app.data.reference import known_large_cvx_holders_addresses\n"
   ]
  },
  {
   "cell_type": "code",
   "execution_count": 20,
   "metadata": {},
   "outputs": [
    {
     "data": {
      "text/plain": [
       "'Reserve Delegate 3'"
      ]
     },
     "execution_count": 20,
     "metadata": {},
     "output_type": "execute_result"
    }
   ],
   "source": [
    "known_large_cvx_holders_addresses['0x578a4af5cbc3009487a89be88bc560157200795b']"
   ]
  },
  {
   "cell_type": "code",
   "execution_count": 21,
   "metadata": {},
   "outputs": [
    {
     "data": {
      "text/plain": [
       "True"
      ]
     },
     "execution_count": 21,
     "metadata": {},
     "output_type": "execute_result"
    }
   ],
   "source": [
    "a = '0x578a4af5cbc3009487a89be88bc560157200795b'\n",
    "b = '0x578a4af5cbc3009487a89be88bc560157200795b'.lower()\n",
    "a == b"
   ]
  },
  {
   "cell_type": "code",
   "execution_count": 22,
   "metadata": {},
   "outputs": [
    {
     "data": {
      "text/plain": [
       "75    2023-12-06\n",
       "76    2023-12-13\n",
       "77    2023-12-20\n",
       "78    2023-12-27\n",
       "79    2024-01-03\n",
       "80    2024-01-10\n",
       "81    2024-01-17\n",
       "82    2024-01-24\n",
       "83    2024-01-31\n",
       "84    2024-02-07\n",
       "85    2024-02-14\n",
       "86    2024-02-21\n",
       "87    2024-02-28\n",
       "88    2024-03-06\n",
       "89    2024-03-13\n",
       "90    2024-03-20\n",
       "91    2024-03-27\n",
       "Name: epoch_end, dtype: object"
      ]
     },
     "execution_count": 22,
     "metadata": {},
     "output_type": "execute_result"
    }
   ],
   "source": [
    "pcl_agg_current.epoch_end.dt.date"
   ]
  },
  {
   "cell_type": "code",
   "execution_count": 23,
   "metadata": {},
   "outputs": [
    {
     "data": {
      "application/vnd.plotly.v1+json": {
       "config": {
        "plotlyServerURL": "https://plot.ly"
       },
       "data": [
        {
         "name": "Locked",
         "type": "bar",
         "x": [
          "2023-08-16",
          "2023-08-23",
          "2023-08-30",
          "2023-09-06",
          "2023-09-13",
          "2023-09-20",
          "2023-09-27",
          "2023-10-04",
          "2023-10-11",
          "2023-10-18",
          "2023-10-25",
          "2023-11-01",
          "2023-11-08",
          "2023-11-15",
          "2023-11-22",
          "2023-11-29",
          "2023-12-06"
         ],
         "xaxis": "x",
         "y": [
          2273510.7262717164,
          1341957.8281946583,
          1633076.1052619163,
          2522789.840088511,
          2165424.5471235705,
          6169809.0632449025,
          6932292.238056662,
          4000529.835701629,
          5102460.051469658,
          3667293.6578077273,
          3500519.489650455,
          2190145.559493453,
          2729175.1728511383,
          3686842.8625430944,
          3397844.4791641617,
          4022485.4130220274,
          687504.4710566199
         ],
         "yaxis": "y"
        },
        {
         "name": "Lock Expires",
         "type": "bar",
         "x": [
          "2023-12-06",
          "2023-12-13",
          "2023-12-20",
          "2023-12-27",
          "2024-01-03",
          "2024-01-10",
          "2024-01-17",
          "2024-01-24",
          "2024-01-31",
          "2024-02-07",
          "2024-02-14",
          "2024-02-21",
          "2024-02-28",
          "2024-03-06",
          "2024-03-13",
          "2024-03-20",
          "2024-03-27"
         ],
         "y": [
          2273510.7262717164,
          1341957.8281946583,
          1633076.1052619163,
          2522789.840088511,
          2165424.5471235705,
          6169809.0632449025,
          6932292.238056662,
          4000529.835701629,
          5102460.051469658,
          3667293.6578077273,
          3500519.489650455,
          2190145.559493453,
          2729175.1728511383,
          3686842.8625430944,
          3397844.4791641617,
          4022485.4130220274,
          687504.4710566199
         ]
        }
       ],
       "layout": {
        "autotypenumbers": "convert types",
        "font": {
         "color": "RebeccaPurple",
         "family": "Courier New, monospace",
         "size": 18
        },
        "shapes": [
         {
          "line": {
           "color": "black",
           "dash": "dash",
           "width": 2
          },
          "type": "line",
          "x0": "2023-12-18T16:34:33.877802",
          "x1": "2023-12-18T16:34:33.877802",
          "xref": "x",
          "y0": 0,
          "y1": 1,
          "yref": "y domain"
         }
        ],
        "template": {
         "data": {
          "bar": [
           {
            "error_x": {
             "color": "#2a3f5f"
            },
            "error_y": {
             "color": "#2a3f5f"
            },
            "marker": {
             "line": {
              "color": "#E5ECF6",
              "width": 0.5
             }
            },
            "type": "bar"
           }
          ],
          "barpolar": [
           {
            "marker": {
             "line": {
              "color": "#E5ECF6",
              "width": 0.5
             }
            },
            "type": "barpolar"
           }
          ],
          "carpet": [
           {
            "aaxis": {
             "endlinecolor": "#2a3f5f",
             "gridcolor": "white",
             "linecolor": "white",
             "minorgridcolor": "white",
             "startlinecolor": "#2a3f5f"
            },
            "baxis": {
             "endlinecolor": "#2a3f5f",
             "gridcolor": "white",
             "linecolor": "white",
             "minorgridcolor": "white",
             "startlinecolor": "#2a3f5f"
            },
            "type": "carpet"
           }
          ],
          "choropleth": [
           {
            "colorbar": {
             "outlinewidth": 0,
             "ticks": ""
            },
            "type": "choropleth"
           }
          ],
          "contour": [
           {
            "colorbar": {
             "outlinewidth": 0,
             "ticks": ""
            },
            "colorscale": [
             [
              0,
              "#0d0887"
             ],
             [
              0.1111111111111111,
              "#46039f"
             ],
             [
              0.2222222222222222,
              "#7201a8"
             ],
             [
              0.3333333333333333,
              "#9c179e"
             ],
             [
              0.4444444444444444,
              "#bd3786"
             ],
             [
              0.5555555555555556,
              "#d8576b"
             ],
             [
              0.6666666666666666,
              "#ed7953"
             ],
             [
              0.7777777777777778,
              "#fb9f3a"
             ],
             [
              0.8888888888888888,
              "#fdca26"
             ],
             [
              1,
              "#f0f921"
             ]
            ],
            "type": "contour"
           }
          ],
          "contourcarpet": [
           {
            "colorbar": {
             "outlinewidth": 0,
             "ticks": ""
            },
            "type": "contourcarpet"
           }
          ],
          "heatmap": [
           {
            "colorbar": {
             "outlinewidth": 0,
             "ticks": ""
            },
            "colorscale": [
             [
              0,
              "#0d0887"
             ],
             [
              0.1111111111111111,
              "#46039f"
             ],
             [
              0.2222222222222222,
              "#7201a8"
             ],
             [
              0.3333333333333333,
              "#9c179e"
             ],
             [
              0.4444444444444444,
              "#bd3786"
             ],
             [
              0.5555555555555556,
              "#d8576b"
             ],
             [
              0.6666666666666666,
              "#ed7953"
             ],
             [
              0.7777777777777778,
              "#fb9f3a"
             ],
             [
              0.8888888888888888,
              "#fdca26"
             ],
             [
              1,
              "#f0f921"
             ]
            ],
            "type": "heatmap"
           }
          ],
          "heatmapgl": [
           {
            "colorbar": {
             "outlinewidth": 0,
             "ticks": ""
            },
            "colorscale": [
             [
              0,
              "#0d0887"
             ],
             [
              0.1111111111111111,
              "#46039f"
             ],
             [
              0.2222222222222222,
              "#7201a8"
             ],
             [
              0.3333333333333333,
              "#9c179e"
             ],
             [
              0.4444444444444444,
              "#bd3786"
             ],
             [
              0.5555555555555556,
              "#d8576b"
             ],
             [
              0.6666666666666666,
              "#ed7953"
             ],
             [
              0.7777777777777778,
              "#fb9f3a"
             ],
             [
              0.8888888888888888,
              "#fdca26"
             ],
             [
              1,
              "#f0f921"
             ]
            ],
            "type": "heatmapgl"
           }
          ],
          "histogram": [
           {
            "marker": {
             "colorbar": {
              "outlinewidth": 0,
              "ticks": ""
             }
            },
            "type": "histogram"
           }
          ],
          "histogram2d": [
           {
            "colorbar": {
             "outlinewidth": 0,
             "ticks": ""
            },
            "colorscale": [
             [
              0,
              "#0d0887"
             ],
             [
              0.1111111111111111,
              "#46039f"
             ],
             [
              0.2222222222222222,
              "#7201a8"
             ],
             [
              0.3333333333333333,
              "#9c179e"
             ],
             [
              0.4444444444444444,
              "#bd3786"
             ],
             [
              0.5555555555555556,
              "#d8576b"
             ],
             [
              0.6666666666666666,
              "#ed7953"
             ],
             [
              0.7777777777777778,
              "#fb9f3a"
             ],
             [
              0.8888888888888888,
              "#fdca26"
             ],
             [
              1,
              "#f0f921"
             ]
            ],
            "type": "histogram2d"
           }
          ],
          "histogram2dcontour": [
           {
            "colorbar": {
             "outlinewidth": 0,
             "ticks": ""
            },
            "colorscale": [
             [
              0,
              "#0d0887"
             ],
             [
              0.1111111111111111,
              "#46039f"
             ],
             [
              0.2222222222222222,
              "#7201a8"
             ],
             [
              0.3333333333333333,
              "#9c179e"
             ],
             [
              0.4444444444444444,
              "#bd3786"
             ],
             [
              0.5555555555555556,
              "#d8576b"
             ],
             [
              0.6666666666666666,
              "#ed7953"
             ],
             [
              0.7777777777777778,
              "#fb9f3a"
             ],
             [
              0.8888888888888888,
              "#fdca26"
             ],
             [
              1,
              "#f0f921"
             ]
            ],
            "type": "histogram2dcontour"
           }
          ],
          "mesh3d": [
           {
            "colorbar": {
             "outlinewidth": 0,
             "ticks": ""
            },
            "type": "mesh3d"
           }
          ],
          "parcoords": [
           {
            "line": {
             "colorbar": {
              "outlinewidth": 0,
              "ticks": ""
             }
            },
            "type": "parcoords"
           }
          ],
          "pie": [
           {
            "automargin": true,
            "type": "pie"
           }
          ],
          "scatter": [
           {
            "marker": {
             "colorbar": {
              "outlinewidth": 0,
              "ticks": ""
             }
            },
            "type": "scatter"
           }
          ],
          "scatter3d": [
           {
            "line": {
             "colorbar": {
              "outlinewidth": 0,
              "ticks": ""
             }
            },
            "marker": {
             "colorbar": {
              "outlinewidth": 0,
              "ticks": ""
             }
            },
            "type": "scatter3d"
           }
          ],
          "scattercarpet": [
           {
            "marker": {
             "colorbar": {
              "outlinewidth": 0,
              "ticks": ""
             }
            },
            "type": "scattercarpet"
           }
          ],
          "scattergeo": [
           {
            "marker": {
             "colorbar": {
              "outlinewidth": 0,
              "ticks": ""
             }
            },
            "type": "scattergeo"
           }
          ],
          "scattergl": [
           {
            "marker": {
             "colorbar": {
              "outlinewidth": 0,
              "ticks": ""
             }
            },
            "type": "scattergl"
           }
          ],
          "scattermapbox": [
           {
            "marker": {
             "colorbar": {
              "outlinewidth": 0,
              "ticks": ""
             }
            },
            "type": "scattermapbox"
           }
          ],
          "scatterpolar": [
           {
            "marker": {
             "colorbar": {
              "outlinewidth": 0,
              "ticks": ""
             }
            },
            "type": "scatterpolar"
           }
          ],
          "scatterpolargl": [
           {
            "marker": {
             "colorbar": {
              "outlinewidth": 0,
              "ticks": ""
             }
            },
            "type": "scatterpolargl"
           }
          ],
          "scatterternary": [
           {
            "marker": {
             "colorbar": {
              "outlinewidth": 0,
              "ticks": ""
             }
            },
            "type": "scatterternary"
           }
          ],
          "surface": [
           {
            "colorbar": {
             "outlinewidth": 0,
             "ticks": ""
            },
            "colorscale": [
             [
              0,
              "#0d0887"
             ],
             [
              0.1111111111111111,
              "#46039f"
             ],
             [
              0.2222222222222222,
              "#7201a8"
             ],
             [
              0.3333333333333333,
              "#9c179e"
             ],
             [
              0.4444444444444444,
              "#bd3786"
             ],
             [
              0.5555555555555556,
              "#d8576b"
             ],
             [
              0.6666666666666666,
              "#ed7953"
             ],
             [
              0.7777777777777778,
              "#fb9f3a"
             ],
             [
              0.8888888888888888,
              "#fdca26"
             ],
             [
              1,
              "#f0f921"
             ]
            ],
            "type": "surface"
           }
          ],
          "table": [
           {
            "cells": {
             "fill": {
              "color": "#EBF0F8"
             },
             "line": {
              "color": "white"
             }
            },
            "header": {
             "fill": {
              "color": "#C8D4E3"
             },
             "line": {
              "color": "white"
             }
            },
            "type": "table"
           }
          ]
         },
         "layout": {
          "annotationdefaults": {
           "arrowcolor": "#2a3f5f",
           "arrowhead": 0,
           "arrowwidth": 1
          },
          "autotypenumbers": "strict",
          "coloraxis": {
           "colorbar": {
            "outlinewidth": 0,
            "ticks": ""
           }
          },
          "colorscale": {
           "diverging": [
            [
             0,
             "#8e0152"
            ],
            [
             0.1,
             "#c51b7d"
            ],
            [
             0.2,
             "#de77ae"
            ],
            [
             0.3,
             "#f1b6da"
            ],
            [
             0.4,
             "#fde0ef"
            ],
            [
             0.5,
             "#f7f7f7"
            ],
            [
             0.6,
             "#e6f5d0"
            ],
            [
             0.7,
             "#b8e186"
            ],
            [
             0.8,
             "#7fbc41"
            ],
            [
             0.9,
             "#4d9221"
            ],
            [
             1,
             "#276419"
            ]
           ],
           "sequential": [
            [
             0,
             "#0d0887"
            ],
            [
             0.1111111111111111,
             "#46039f"
            ],
            [
             0.2222222222222222,
             "#7201a8"
            ],
            [
             0.3333333333333333,
             "#9c179e"
            ],
            [
             0.4444444444444444,
             "#bd3786"
            ],
            [
             0.5555555555555556,
             "#d8576b"
            ],
            [
             0.6666666666666666,
             "#ed7953"
            ],
            [
             0.7777777777777778,
             "#fb9f3a"
            ],
            [
             0.8888888888888888,
             "#fdca26"
            ],
            [
             1,
             "#f0f921"
            ]
           ],
           "sequentialminus": [
            [
             0,
             "#0d0887"
            ],
            [
             0.1111111111111111,
             "#46039f"
            ],
            [
             0.2222222222222222,
             "#7201a8"
            ],
            [
             0.3333333333333333,
             "#9c179e"
            ],
            [
             0.4444444444444444,
             "#bd3786"
            ],
            [
             0.5555555555555556,
             "#d8576b"
            ],
            [
             0.6666666666666666,
             "#ed7953"
            ],
            [
             0.7777777777777778,
             "#fb9f3a"
            ],
            [
             0.8888888888888888,
             "#fdca26"
            ],
            [
             1,
             "#f0f921"
            ]
           ]
          },
          "colorway": [
           "#636efa",
           "#EF553B",
           "#00cc96",
           "#ab63fa",
           "#FFA15A",
           "#19d3f3",
           "#FF6692",
           "#B6E880",
           "#FF97FF",
           "#FECB52"
          ],
          "font": {
           "color": "#2a3f5f"
          },
          "geo": {
           "bgcolor": "white",
           "lakecolor": "white",
           "landcolor": "#E5ECF6",
           "showlakes": true,
           "showland": true,
           "subunitcolor": "white"
          },
          "hoverlabel": {
           "align": "left"
          },
          "hovermode": "closest",
          "mapbox": {
           "style": "light"
          },
          "paper_bgcolor": "white",
          "plot_bgcolor": "#E5ECF6",
          "polar": {
           "angularaxis": {
            "gridcolor": "white",
            "linecolor": "white",
            "ticks": ""
           },
           "bgcolor": "#E5ECF6",
           "radialaxis": {
            "gridcolor": "white",
            "linecolor": "white",
            "ticks": ""
           }
          },
          "scene": {
           "xaxis": {
            "backgroundcolor": "#E5ECF6",
            "gridcolor": "white",
            "gridwidth": 2,
            "linecolor": "white",
            "showbackground": true,
            "ticks": "",
            "zerolinecolor": "white"
           },
           "yaxis": {
            "backgroundcolor": "#E5ECF6",
            "gridcolor": "white",
            "gridwidth": 2,
            "linecolor": "white",
            "showbackground": true,
            "ticks": "",
            "zerolinecolor": "white"
           },
           "zaxis": {
            "backgroundcolor": "#E5ECF6",
            "gridcolor": "white",
            "gridwidth": 2,
            "linecolor": "white",
            "showbackground": true,
            "ticks": "",
            "zerolinecolor": "white"
           }
          },
          "shapedefaults": {
           "line": {
            "color": "#2a3f5f"
           }
          },
          "ternary": {
           "aaxis": {
            "gridcolor": "white",
            "linecolor": "white",
            "ticks": ""
           },
           "baxis": {
            "gridcolor": "white",
            "linecolor": "white",
            "ticks": ""
           },
           "bgcolor": "#E5ECF6",
           "caxis": {
            "gridcolor": "white",
            "linecolor": "white",
            "ticks": ""
           }
          },
          "title": {
           "x": 0.05
          },
          "xaxis": {
           "automargin": true,
           "gridcolor": "white",
           "linecolor": "white",
           "ticks": "",
           "title": {
            "standoff": 15
           },
           "zerolinecolor": "white",
           "zerolinewidth": 2
          },
          "yaxis": {
           "automargin": true,
           "gridcolor": "white",
           "linecolor": "white",
           "ticks": "",
           "title": {
            "standoff": 15
           },
           "zerolinecolor": "white",
           "zerolinewidth": 2
          }
         }
        },
        "title": {
         "text": "Convex: vlCVX Current Locks"
        },
        "xaxis": {
         "anchor": "y",
         "domain": [
          0,
          1
         ]
        },
        "yaxis": {
         "anchor": "x",
         "domain": [
          0,
          1
         ]
        }
       }
      }
     },
     "metadata": {},
     "output_type": "display_data"
    }
   ],
   "source": [
    "fig = make_subplots()\n",
    "fig.update_layout(\n",
    "    title=f\"Convex: vlCVX Current Locks\",\n",
    "    #     xaxis_title=\"X Axis Title\",\n",
    "    #     yaxis_title=\"Y Axis Title\",\n",
    "    #     legend_title=\"Legend Title\",\n",
    "    font=dict(\n",
    "        family=\"Courier New, monospace\",\n",
    "        size=18,\n",
    "        color=\"RebeccaPurple\"\n",
    "    ),\n",
    "    # height= 1000,\n",
    ")\n",
    "fig = fig.add_trace(\n",
    "    go.Bar(\n",
    "        x=pcl_agg_current.epoch_start.dt.date,\n",
    "        y=pcl_agg_current.locked_amount,\n",
    "        name=\"Locked\",\n",
    "        # color=\"pool_name\"\n",
    "    ),\n",
    "    secondary_y=False\n",
    ")\n",
    "fig = fig.add_trace(\n",
    "    go.Bar(\n",
    "        x = pcl_agg_current.epoch_end.dt.date,\n",
    "        y = pcl_agg_current.locked_amount, \n",
    "        name = \"Lock Expires\",\n",
    "        # line_shape='hvh',\n",
    "        # line_width=3,\n",
    "    ),\n",
    "    # secondary_y=True\n",
    ")\n",
    "fig.add_vline(x=dt.now(), line_width=2, line_dash=\"dash\", line_color=\"black\" )\n",
    "\n",
    "fig.update_layout(autotypenumbers='convert types')\n",
    "# fig.update_yaxes(rangemode=\"tozero\")\n",
    "fig.show()\n",
    "\n",
    "# fig = px.bar(df_convex_processed_locks_2,\n",
    "#     x=\"epoch_end\",\n",
    "#     y=\"locked_amount\",\n",
    "#     color=\"token_symbol\",\n",
    "#     title=\"Liquidity By Asset\")\n",
    "# graphJSON3 = json.dumps(\n",
    "#     fig,\n",
    "#     cls=plotly.utils.PlotlyJSONEncoder\n",
    "#     )\n"
   ]
  },
  {
   "cell_type": "code",
   "execution_count": null,
   "metadata": {},
   "outputs": [],
   "source": []
  },
  {
   "cell_type": "code",
   "execution_count": 24,
   "metadata": {},
   "outputs": [
    {
     "data": {
      "application/vnd.plotly.v1+json": {
       "config": {
        "plotlyServerURL": "https://plot.ly"
       },
       "data": [
        {
         "name": "Locked",
         "type": "bar",
         "x": [
          "2023-09-27",
          "2023-09-20",
          "2023-09-20",
          "2023-10-11",
          "2023-10-04",
          "2023-10-25",
          "2023-11-22",
          "2023-11-15",
          "2023-11-29"
         ],
         "xaxis": "x",
         "y": [
          393000,
          150005,
          1010.309459618,
          100000,
          33084.181872737,
          98641.658731599,
          193718.464159432,
          1072.859261992,
          5307.204721217
         ],
         "yaxis": "y"
        },
        {
         "name": "Lock Expires",
         "type": "bar",
         "x": [
          "2024-01-17",
          "2024-01-10",
          "2024-01-10",
          "2024-01-31",
          "2024-01-24",
          "2024-02-14",
          "2024-03-13",
          "2024-03-06",
          "2024-03-20"
         ],
         "y": [
          393000,
          150005,
          1010.309459618,
          100000,
          33084.181872737,
          98641.658731599,
          193718.464159432,
          1072.859261992,
          5307.204721217
         ]
        }
       ],
       "layout": {
        "autotypenumbers": "convert types",
        "font": {
         "color": "RebeccaPurple",
         "family": "Courier New, monospace",
         "size": 18
        },
        "shapes": [
         {
          "line": {
           "color": "black",
           "dash": "dash",
           "width": 2
          },
          "type": "line",
          "x0": "2023-12-18T16:34:33.985879",
          "x1": "2023-12-18T16:34:33.985879",
          "xref": "x",
          "y0": 0,
          "y1": 1,
          "yref": "y domain"
         }
        ],
        "template": {
         "data": {
          "bar": [
           {
            "error_x": {
             "color": "#2a3f5f"
            },
            "error_y": {
             "color": "#2a3f5f"
            },
            "marker": {
             "line": {
              "color": "#E5ECF6",
              "width": 0.5
             }
            },
            "type": "bar"
           }
          ],
          "barpolar": [
           {
            "marker": {
             "line": {
              "color": "#E5ECF6",
              "width": 0.5
             }
            },
            "type": "barpolar"
           }
          ],
          "carpet": [
           {
            "aaxis": {
             "endlinecolor": "#2a3f5f",
             "gridcolor": "white",
             "linecolor": "white",
             "minorgridcolor": "white",
             "startlinecolor": "#2a3f5f"
            },
            "baxis": {
             "endlinecolor": "#2a3f5f",
             "gridcolor": "white",
             "linecolor": "white",
             "minorgridcolor": "white",
             "startlinecolor": "#2a3f5f"
            },
            "type": "carpet"
           }
          ],
          "choropleth": [
           {
            "colorbar": {
             "outlinewidth": 0,
             "ticks": ""
            },
            "type": "choropleth"
           }
          ],
          "contour": [
           {
            "colorbar": {
             "outlinewidth": 0,
             "ticks": ""
            },
            "colorscale": [
             [
              0,
              "#0d0887"
             ],
             [
              0.1111111111111111,
              "#46039f"
             ],
             [
              0.2222222222222222,
              "#7201a8"
             ],
             [
              0.3333333333333333,
              "#9c179e"
             ],
             [
              0.4444444444444444,
              "#bd3786"
             ],
             [
              0.5555555555555556,
              "#d8576b"
             ],
             [
              0.6666666666666666,
              "#ed7953"
             ],
             [
              0.7777777777777778,
              "#fb9f3a"
             ],
             [
              0.8888888888888888,
              "#fdca26"
             ],
             [
              1,
              "#f0f921"
             ]
            ],
            "type": "contour"
           }
          ],
          "contourcarpet": [
           {
            "colorbar": {
             "outlinewidth": 0,
             "ticks": ""
            },
            "type": "contourcarpet"
           }
          ],
          "heatmap": [
           {
            "colorbar": {
             "outlinewidth": 0,
             "ticks": ""
            },
            "colorscale": [
             [
              0,
              "#0d0887"
             ],
             [
              0.1111111111111111,
              "#46039f"
             ],
             [
              0.2222222222222222,
              "#7201a8"
             ],
             [
              0.3333333333333333,
              "#9c179e"
             ],
             [
              0.4444444444444444,
              "#bd3786"
             ],
             [
              0.5555555555555556,
              "#d8576b"
             ],
             [
              0.6666666666666666,
              "#ed7953"
             ],
             [
              0.7777777777777778,
              "#fb9f3a"
             ],
             [
              0.8888888888888888,
              "#fdca26"
             ],
             [
              1,
              "#f0f921"
             ]
            ],
            "type": "heatmap"
           }
          ],
          "heatmapgl": [
           {
            "colorbar": {
             "outlinewidth": 0,
             "ticks": ""
            },
            "colorscale": [
             [
              0,
              "#0d0887"
             ],
             [
              0.1111111111111111,
              "#46039f"
             ],
             [
              0.2222222222222222,
              "#7201a8"
             ],
             [
              0.3333333333333333,
              "#9c179e"
             ],
             [
              0.4444444444444444,
              "#bd3786"
             ],
             [
              0.5555555555555556,
              "#d8576b"
             ],
             [
              0.6666666666666666,
              "#ed7953"
             ],
             [
              0.7777777777777778,
              "#fb9f3a"
             ],
             [
              0.8888888888888888,
              "#fdca26"
             ],
             [
              1,
              "#f0f921"
             ]
            ],
            "type": "heatmapgl"
           }
          ],
          "histogram": [
           {
            "marker": {
             "colorbar": {
              "outlinewidth": 0,
              "ticks": ""
             }
            },
            "type": "histogram"
           }
          ],
          "histogram2d": [
           {
            "colorbar": {
             "outlinewidth": 0,
             "ticks": ""
            },
            "colorscale": [
             [
              0,
              "#0d0887"
             ],
             [
              0.1111111111111111,
              "#46039f"
             ],
             [
              0.2222222222222222,
              "#7201a8"
             ],
             [
              0.3333333333333333,
              "#9c179e"
             ],
             [
              0.4444444444444444,
              "#bd3786"
             ],
             [
              0.5555555555555556,
              "#d8576b"
             ],
             [
              0.6666666666666666,
              "#ed7953"
             ],
             [
              0.7777777777777778,
              "#fb9f3a"
             ],
             [
              0.8888888888888888,
              "#fdca26"
             ],
             [
              1,
              "#f0f921"
             ]
            ],
            "type": "histogram2d"
           }
          ],
          "histogram2dcontour": [
           {
            "colorbar": {
             "outlinewidth": 0,
             "ticks": ""
            },
            "colorscale": [
             [
              0,
              "#0d0887"
             ],
             [
              0.1111111111111111,
              "#46039f"
             ],
             [
              0.2222222222222222,
              "#7201a8"
             ],
             [
              0.3333333333333333,
              "#9c179e"
             ],
             [
              0.4444444444444444,
              "#bd3786"
             ],
             [
              0.5555555555555556,
              "#d8576b"
             ],
             [
              0.6666666666666666,
              "#ed7953"
             ],
             [
              0.7777777777777778,
              "#fb9f3a"
             ],
             [
              0.8888888888888888,
              "#fdca26"
             ],
             [
              1,
              "#f0f921"
             ]
            ],
            "type": "histogram2dcontour"
           }
          ],
          "mesh3d": [
           {
            "colorbar": {
             "outlinewidth": 0,
             "ticks": ""
            },
            "type": "mesh3d"
           }
          ],
          "parcoords": [
           {
            "line": {
             "colorbar": {
              "outlinewidth": 0,
              "ticks": ""
             }
            },
            "type": "parcoords"
           }
          ],
          "pie": [
           {
            "automargin": true,
            "type": "pie"
           }
          ],
          "scatter": [
           {
            "marker": {
             "colorbar": {
              "outlinewidth": 0,
              "ticks": ""
             }
            },
            "type": "scatter"
           }
          ],
          "scatter3d": [
           {
            "line": {
             "colorbar": {
              "outlinewidth": 0,
              "ticks": ""
             }
            },
            "marker": {
             "colorbar": {
              "outlinewidth": 0,
              "ticks": ""
             }
            },
            "type": "scatter3d"
           }
          ],
          "scattercarpet": [
           {
            "marker": {
             "colorbar": {
              "outlinewidth": 0,
              "ticks": ""
             }
            },
            "type": "scattercarpet"
           }
          ],
          "scattergeo": [
           {
            "marker": {
             "colorbar": {
              "outlinewidth": 0,
              "ticks": ""
             }
            },
            "type": "scattergeo"
           }
          ],
          "scattergl": [
           {
            "marker": {
             "colorbar": {
              "outlinewidth": 0,
              "ticks": ""
             }
            },
            "type": "scattergl"
           }
          ],
          "scattermapbox": [
           {
            "marker": {
             "colorbar": {
              "outlinewidth": 0,
              "ticks": ""
             }
            },
            "type": "scattermapbox"
           }
          ],
          "scatterpolar": [
           {
            "marker": {
             "colorbar": {
              "outlinewidth": 0,
              "ticks": ""
             }
            },
            "type": "scatterpolar"
           }
          ],
          "scatterpolargl": [
           {
            "marker": {
             "colorbar": {
              "outlinewidth": 0,
              "ticks": ""
             }
            },
            "type": "scatterpolargl"
           }
          ],
          "scatterternary": [
           {
            "marker": {
             "colorbar": {
              "outlinewidth": 0,
              "ticks": ""
             }
            },
            "type": "scatterternary"
           }
          ],
          "surface": [
           {
            "colorbar": {
             "outlinewidth": 0,
             "ticks": ""
            },
            "colorscale": [
             [
              0,
              "#0d0887"
             ],
             [
              0.1111111111111111,
              "#46039f"
             ],
             [
              0.2222222222222222,
              "#7201a8"
             ],
             [
              0.3333333333333333,
              "#9c179e"
             ],
             [
              0.4444444444444444,
              "#bd3786"
             ],
             [
              0.5555555555555556,
              "#d8576b"
             ],
             [
              0.6666666666666666,
              "#ed7953"
             ],
             [
              0.7777777777777778,
              "#fb9f3a"
             ],
             [
              0.8888888888888888,
              "#fdca26"
             ],
             [
              1,
              "#f0f921"
             ]
            ],
            "type": "surface"
           }
          ],
          "table": [
           {
            "cells": {
             "fill": {
              "color": "#EBF0F8"
             },
             "line": {
              "color": "white"
             }
            },
            "header": {
             "fill": {
              "color": "#C8D4E3"
             },
             "line": {
              "color": "white"
             }
            },
            "type": "table"
           }
          ]
         },
         "layout": {
          "annotationdefaults": {
           "arrowcolor": "#2a3f5f",
           "arrowhead": 0,
           "arrowwidth": 1
          },
          "autotypenumbers": "strict",
          "coloraxis": {
           "colorbar": {
            "outlinewidth": 0,
            "ticks": ""
           }
          },
          "colorscale": {
           "diverging": [
            [
             0,
             "#8e0152"
            ],
            [
             0.1,
             "#c51b7d"
            ],
            [
             0.2,
             "#de77ae"
            ],
            [
             0.3,
             "#f1b6da"
            ],
            [
             0.4,
             "#fde0ef"
            ],
            [
             0.5,
             "#f7f7f7"
            ],
            [
             0.6,
             "#e6f5d0"
            ],
            [
             0.7,
             "#b8e186"
            ],
            [
             0.8,
             "#7fbc41"
            ],
            [
             0.9,
             "#4d9221"
            ],
            [
             1,
             "#276419"
            ]
           ],
           "sequential": [
            [
             0,
             "#0d0887"
            ],
            [
             0.1111111111111111,
             "#46039f"
            ],
            [
             0.2222222222222222,
             "#7201a8"
            ],
            [
             0.3333333333333333,
             "#9c179e"
            ],
            [
             0.4444444444444444,
             "#bd3786"
            ],
            [
             0.5555555555555556,
             "#d8576b"
            ],
            [
             0.6666666666666666,
             "#ed7953"
            ],
            [
             0.7777777777777778,
             "#fb9f3a"
            ],
            [
             0.8888888888888888,
             "#fdca26"
            ],
            [
             1,
             "#f0f921"
            ]
           ],
           "sequentialminus": [
            [
             0,
             "#0d0887"
            ],
            [
             0.1111111111111111,
             "#46039f"
            ],
            [
             0.2222222222222222,
             "#7201a8"
            ],
            [
             0.3333333333333333,
             "#9c179e"
            ],
            [
             0.4444444444444444,
             "#bd3786"
            ],
            [
             0.5555555555555556,
             "#d8576b"
            ],
            [
             0.6666666666666666,
             "#ed7953"
            ],
            [
             0.7777777777777778,
             "#fb9f3a"
            ],
            [
             0.8888888888888888,
             "#fdca26"
            ],
            [
             1,
             "#f0f921"
            ]
           ]
          },
          "colorway": [
           "#636efa",
           "#EF553B",
           "#00cc96",
           "#ab63fa",
           "#FFA15A",
           "#19d3f3",
           "#FF6692",
           "#B6E880",
           "#FF97FF",
           "#FECB52"
          ],
          "font": {
           "color": "#2a3f5f"
          },
          "geo": {
           "bgcolor": "white",
           "lakecolor": "white",
           "landcolor": "#E5ECF6",
           "showlakes": true,
           "showland": true,
           "subunitcolor": "white"
          },
          "hoverlabel": {
           "align": "left"
          },
          "hovermode": "closest",
          "mapbox": {
           "style": "light"
          },
          "paper_bgcolor": "white",
          "plot_bgcolor": "#E5ECF6",
          "polar": {
           "angularaxis": {
            "gridcolor": "white",
            "linecolor": "white",
            "ticks": ""
           },
           "bgcolor": "#E5ECF6",
           "radialaxis": {
            "gridcolor": "white",
            "linecolor": "white",
            "ticks": ""
           }
          },
          "scene": {
           "xaxis": {
            "backgroundcolor": "#E5ECF6",
            "gridcolor": "white",
            "gridwidth": 2,
            "linecolor": "white",
            "showbackground": true,
            "ticks": "",
            "zerolinecolor": "white"
           },
           "yaxis": {
            "backgroundcolor": "#E5ECF6",
            "gridcolor": "white",
            "gridwidth": 2,
            "linecolor": "white",
            "showbackground": true,
            "ticks": "",
            "zerolinecolor": "white"
           },
           "zaxis": {
            "backgroundcolor": "#E5ECF6",
            "gridcolor": "white",
            "gridwidth": 2,
            "linecolor": "white",
            "showbackground": true,
            "ticks": "",
            "zerolinecolor": "white"
           }
          },
          "shapedefaults": {
           "line": {
            "color": "#2a3f5f"
           }
          },
          "ternary": {
           "aaxis": {
            "gridcolor": "white",
            "linecolor": "white",
            "ticks": ""
           },
           "baxis": {
            "gridcolor": "white",
            "linecolor": "white",
            "ticks": ""
           },
           "bgcolor": "#E5ECF6",
           "caxis": {
            "gridcolor": "white",
            "linecolor": "white",
            "ticks": ""
           }
          },
          "title": {
           "x": 0.05
          },
          "xaxis": {
           "automargin": true,
           "gridcolor": "white",
           "linecolor": "white",
           "ticks": "",
           "title": {
            "standoff": 15
           },
           "zerolinecolor": "white",
           "zerolinewidth": 2
          },
          "yaxis": {
           "automargin": true,
           "gridcolor": "white",
           "linecolor": "white",
           "ticks": "",
           "title": {
            "standoff": 15
           },
           "zerolinecolor": "white",
           "zerolinewidth": 2
          }
         }
        },
        "title": {
         "text": "Convex: vlCVX Current Locks"
        },
        "xaxis": {
         "anchor": "y",
         "domain": [
          0,
          1
         ]
        },
        "yaxis": {
         "anchor": "x",
         "domain": [
          0,
          1
         ]
        }
       }
      }
     },
     "metadata": {},
     "output_type": "display_data"
    }
   ],
   "source": [
    "user = '0xc6625129c9df3314a4dd604845488f4ba62f9db8'\n",
    "\n",
    "local_df_locker_user_epoch = pcl_agg_user[pcl_agg_user['user'] == user]\n",
    "local_df_locker = pcl_base[pcl_base['user'] == user]\n",
    "local_df_locker_current = local_df_locker[local_df_locker['epoch_end'] >= dt.now()]\n",
    "\n",
    "\n",
    "fig = make_subplots()\n",
    "fig.update_layout(\n",
    "    title=f\"Convex: vlCVX Current Locks\",\n",
    "    #     xaxis_title=\"X Axis Title\",\n",
    "    #     yaxis_title=\"Y Axis Title\",\n",
    "    #     legend_title=\"Legend Title\",\n",
    "    font=dict(\n",
    "        family=\"Courier New, monospace\",\n",
    "        size=18,\n",
    "        color=\"RebeccaPurple\"\n",
    "    ),\n",
    "    # height= 1000,\n",
    ")\n",
    "fig = fig.add_trace(\n",
    "    go.Bar(\n",
    "        x=local_df_locker_current.epoch_start.dt.date,\n",
    "        y=local_df_locker_current.locked_amount,\n",
    "        name=\"Locked\",\n",
    "        # color=\"pool_name\"\n",
    "    ),\n",
    "    secondary_y=False\n",
    ")\n",
    "fig = fig.add_trace(\n",
    "    go.Bar(\n",
    "        x = local_df_locker_current.epoch_end.dt.date,\n",
    "        y = local_df_locker_current.locked_amount, \n",
    "        name = \"Lock Expires\",\n",
    "        # line_shape='hvh',\n",
    "        # line_width=3,\n",
    "    ),\n",
    "    # secondary_y=True\n",
    ")\n",
    "fig.add_vline(x=dt.now(), line_width=2, line_dash=\"dash\", line_color=\"black\" )\n",
    "\n",
    "fig.update_layout(autotypenumbers='convert types')"
   ]
  },
  {
   "cell_type": "code",
   "execution_count": 25,
   "metadata": {},
   "outputs": [
    {
     "data": {
      "text/html": [
       "<div>\n",
       "<style scoped>\n",
       "    .dataframe tbody tr th:only-of-type {\n",
       "        vertical-align: middle;\n",
       "    }\n",
       "\n",
       "    .dataframe tbody tr th {\n",
       "        vertical-align: top;\n",
       "    }\n",
       "\n",
       "    .dataframe thead th {\n",
       "        text-align: right;\n",
       "    }\n",
       "</style>\n",
       "<table border=\"1\" class=\"dataframe\">\n",
       "  <thead>\n",
       "    <tr style=\"text-align: right;\">\n",
       "      <th></th>\n",
       "      <th>block_timestamp</th>\n",
       "      <th>event_name</th>\n",
       "      <th>user</th>\n",
       "      <th>_epoch</th>\n",
       "      <th>locked_amount</th>\n",
       "      <th>boosted_amount</th>\n",
       "      <th>paid_amount</th>\n",
       "      <th>withdrawn_amount</th>\n",
       "      <th>relocked</th>\n",
       "      <th>tx_hash</th>\n",
       "      <th>__row_index</th>\n",
       "      <th>epoch_start</th>\n",
       "      <th>epoch_end</th>\n",
       "      <th>known_as</th>\n",
       "      <th>display_name</th>\n",
       "    </tr>\n",
       "  </thead>\n",
       "  <tbody>\n",
       "    <tr>\n",
       "      <th>0</th>\n",
       "      <td>2023-09-28T06:53:59.000Z</td>\n",
       "      <td>Staked</td>\n",
       "      <td>0xd334533980c201c1b93e39bbe6bd1e04be5c0f5d</td>\n",
       "      <td>1696464000</td>\n",
       "      <td>1876.080586</td>\n",
       "      <td>1876.080585521</td>\n",
       "      <td>1876.080585521</td>\n",
       "      <td>0</td>\n",
       "      <td>False</td>\n",
       "      <td>0xa08fb5686be2eee0bca1bc09cefa1faea3062114639e...</td>\n",
       "      <td>0</td>\n",
       "      <td>2023-10-04 20:00:00</td>\n",
       "      <td>2024-01-24 20:00:00</td>\n",
       "      <td>_</td>\n",
       "      <td>_ (0xd334)</td>\n",
       "    </tr>\n",
       "    <tr>\n",
       "      <th>1</th>\n",
       "      <td>2023-09-28T06:45:59.000Z</td>\n",
       "      <td>Staked</td>\n",
       "      <td>0xd683ca4ee6327cf09cb51adc8236aafea9493cd1</td>\n",
       "      <td>1696464000</td>\n",
       "      <td>2189.366909</td>\n",
       "      <td>2189.366909445</td>\n",
       "      <td>2189.366909445</td>\n",
       "      <td>0</td>\n",
       "      <td>False</td>\n",
       "      <td>0x21edc20ec7f21019e6158cc3f4518ca43740b509d64c...</td>\n",
       "      <td>1</td>\n",
       "      <td>2023-10-04 20:00:00</td>\n",
       "      <td>2024-01-24 20:00:00</td>\n",
       "      <td>_</td>\n",
       "      <td>_ (0xd683)</td>\n",
       "    </tr>\n",
       "    <tr>\n",
       "      <th>2</th>\n",
       "      <td>2023-09-28T06:29:35.000Z</td>\n",
       "      <td>Staked</td>\n",
       "      <td>0x0961f86626e297450073048a2c2ad9657fe56fbe</td>\n",
       "      <td>1695859200</td>\n",
       "      <td>2964.318997</td>\n",
       "      <td>2964.318996663</td>\n",
       "      <td>2964.318996663</td>\n",
       "      <td>0</td>\n",
       "      <td>False</td>\n",
       "      <td>0xee34ae33271c454ecb9e22c35d6faf794014c757a71a...</td>\n",
       "      <td>2</td>\n",
       "      <td>2023-09-27 20:00:00</td>\n",
       "      <td>2024-01-17 20:00:00</td>\n",
       "      <td>_</td>\n",
       "      <td>_ (0x0961)</td>\n",
       "    </tr>\n",
       "    <tr>\n",
       "      <th>3</th>\n",
       "      <td>2023-09-28T06:25:35.000Z</td>\n",
       "      <td>Staked</td>\n",
       "      <td>0x7d354d291a7e750672bc9002c2323a112f9de719</td>\n",
       "      <td>1695859200</td>\n",
       "      <td>1030.000000</td>\n",
       "      <td>1030.0</td>\n",
       "      <td>1030.0</td>\n",
       "      <td>0</td>\n",
       "      <td>False</td>\n",
       "      <td>0xe8902e2cf639efbc27c5d1e86db2bb7ca6a6021d0dd5...</td>\n",
       "      <td>3</td>\n",
       "      <td>2023-09-27 20:00:00</td>\n",
       "      <td>2024-01-17 20:00:00</td>\n",
       "      <td>_</td>\n",
       "      <td>_ (0x7d35)</td>\n",
       "    </tr>\n",
       "    <tr>\n",
       "      <th>4</th>\n",
       "      <td>2023-09-28T06:01:11.000Z</td>\n",
       "      <td>Staked</td>\n",
       "      <td>0x7423fab4f4835ebdaa204c1e439792c7a75cb3f9</td>\n",
       "      <td>1695859200</td>\n",
       "      <td>231.406268</td>\n",
       "      <td>231.406267742</td>\n",
       "      <td>231.406267742</td>\n",
       "      <td>0</td>\n",
       "      <td>False</td>\n",
       "      <td>0xd50a241bdfa973b13a66cf90cbd847645b6638a93cbf...</td>\n",
       "      <td>4</td>\n",
       "      <td>2023-09-27 20:00:00</td>\n",
       "      <td>2024-01-17 20:00:00</td>\n",
       "      <td>_</td>\n",
       "      <td>_ (0x7423)</td>\n",
       "    </tr>\n",
       "    <tr>\n",
       "      <th>...</th>\n",
       "      <td>...</td>\n",
       "      <td>...</td>\n",
       "      <td>...</td>\n",
       "      <td>...</td>\n",
       "      <td>...</td>\n",
       "      <td>...</td>\n",
       "      <td>...</td>\n",
       "      <td>...</td>\n",
       "      <td>...</td>\n",
       "      <td>...</td>\n",
       "      <td>...</td>\n",
       "      <td>...</td>\n",
       "      <td>...</td>\n",
       "      <td>...</td>\n",
       "      <td>...</td>\n",
       "    </tr>\n",
       "    <tr>\n",
       "      <th>45729</th>\n",
       "      <td>2023-12-02T14:21:47.000Z</td>\n",
       "      <td>Staked</td>\n",
       "      <td>0x4b5a952b13b92a4ed6e46697dee206fe9cb00576</td>\n",
       "      <td>1701907200</td>\n",
       "      <td>4308.788349</td>\n",
       "      <td>4308.7883491</td>\n",
       "      <td>4308.7883491</td>\n",
       "      <td>0</td>\n",
       "      <td>False</td>\n",
       "      <td>0x883d060a675b3f5b68b6af26425eca2ab6b2ec5d72b3...</td>\n",
       "      <td>42</td>\n",
       "      <td>2023-12-06 19:00:00</td>\n",
       "      <td>2024-03-27 19:00:00</td>\n",
       "      <td>_</td>\n",
       "      <td>_ (0x4b5a)</td>\n",
       "    </tr>\n",
       "    <tr>\n",
       "      <th>45730</th>\n",
       "      <td>2023-12-02T01:47:23.000Z</td>\n",
       "      <td>Staked</td>\n",
       "      <td>0xea536f226ec8b6b34dc4e3ba80a0756b61039bf8</td>\n",
       "      <td>1701302400</td>\n",
       "      <td>9593.463182</td>\n",
       "      <td>9593.463182011</td>\n",
       "      <td>9593.463182011</td>\n",
       "      <td>0</td>\n",
       "      <td>False</td>\n",
       "      <td>0xc2c0af4b7e1cc83446507866209cadf8615c63024ba5...</td>\n",
       "      <td>43</td>\n",
       "      <td>2023-11-29 19:00:00</td>\n",
       "      <td>2024-03-20 19:00:00</td>\n",
       "      <td>_</td>\n",
       "      <td>_ (0xea53)</td>\n",
       "    </tr>\n",
       "    <tr>\n",
       "      <th>45731</th>\n",
       "      <td>2023-12-02T10:46:35.000Z</td>\n",
       "      <td>Staked</td>\n",
       "      <td>0x4292aa3e417d62b7472505e0543e10878302223c</td>\n",
       "      <td>1701907200</td>\n",
       "      <td>476.766098</td>\n",
       "      <td>476.766098134</td>\n",
       "      <td>476.766098134</td>\n",
       "      <td>0</td>\n",
       "      <td>False</td>\n",
       "      <td>0x9e7eb1f0657e3700e8b1fd30990cada288425a0911ac...</td>\n",
       "      <td>44</td>\n",
       "      <td>2023-12-06 19:00:00</td>\n",
       "      <td>2024-03-27 19:00:00</td>\n",
       "      <td>_</td>\n",
       "      <td>_ (0x4292)</td>\n",
       "    </tr>\n",
       "    <tr>\n",
       "      <th>45732</th>\n",
       "      <td>2023-12-02T00:13:47.000Z</td>\n",
       "      <td>Staked</td>\n",
       "      <td>0x649f69ccd077da03dfb11f4b1daab4b625f5e9a3</td>\n",
       "      <td>1701302400</td>\n",
       "      <td>916.121705</td>\n",
       "      <td>916.121704934</td>\n",
       "      <td>916.121704934</td>\n",
       "      <td>0</td>\n",
       "      <td>False</td>\n",
       "      <td>0xf567dc6ad4fa2a65902c63e15517b3abef6f34a31f1a...</td>\n",
       "      <td>45</td>\n",
       "      <td>2023-11-29 19:00:00</td>\n",
       "      <td>2024-03-20 19:00:00</td>\n",
       "      <td>_</td>\n",
       "      <td>_ (0x649f)</td>\n",
       "    </tr>\n",
       "    <tr>\n",
       "      <th>45733</th>\n",
       "      <td>2023-12-01T13:21:35.000Z</td>\n",
       "      <td>Staked</td>\n",
       "      <td>0xeb63ee9c8be4c1d14c6d352fad5ca8f933be7af8</td>\n",
       "      <td>1701302400</td>\n",
       "      <td>24062.426257</td>\n",
       "      <td>24062.426256757</td>\n",
       "      <td>24062.426256757</td>\n",
       "      <td>0</td>\n",
       "      <td>False</td>\n",
       "      <td>0x4161a6471f0463116a12809eb859d6e430c105f77e3d...</td>\n",
       "      <td>46</td>\n",
       "      <td>2023-11-29 19:00:00</td>\n",
       "      <td>2024-03-20 19:00:00</td>\n",
       "      <td>_</td>\n",
       "      <td>_ (0xeb63)</td>\n",
       "    </tr>\n",
       "  </tbody>\n",
       "</table>\n",
       "<p>45734 rows × 15 columns</p>\n",
       "</div>"
      ],
      "text/plain": [
       "                block_timestamp event_name  \\\n",
       "0      2023-09-28T06:53:59.000Z     Staked   \n",
       "1      2023-09-28T06:45:59.000Z     Staked   \n",
       "2      2023-09-28T06:29:35.000Z     Staked   \n",
       "3      2023-09-28T06:25:35.000Z     Staked   \n",
       "4      2023-09-28T06:01:11.000Z     Staked   \n",
       "...                         ...        ...   \n",
       "45729  2023-12-02T14:21:47.000Z     Staked   \n",
       "45730  2023-12-02T01:47:23.000Z     Staked   \n",
       "45731  2023-12-02T10:46:35.000Z     Staked   \n",
       "45732  2023-12-02T00:13:47.000Z     Staked   \n",
       "45733  2023-12-01T13:21:35.000Z     Staked   \n",
       "\n",
       "                                             user      _epoch  locked_amount  \\\n",
       "0      0xd334533980c201c1b93e39bbe6bd1e04be5c0f5d  1696464000    1876.080586   \n",
       "1      0xd683ca4ee6327cf09cb51adc8236aafea9493cd1  1696464000    2189.366909   \n",
       "2      0x0961f86626e297450073048a2c2ad9657fe56fbe  1695859200    2964.318997   \n",
       "3      0x7d354d291a7e750672bc9002c2323a112f9de719  1695859200    1030.000000   \n",
       "4      0x7423fab4f4835ebdaa204c1e439792c7a75cb3f9  1695859200     231.406268   \n",
       "...                                           ...         ...            ...   \n",
       "45729  0x4b5a952b13b92a4ed6e46697dee206fe9cb00576  1701907200    4308.788349   \n",
       "45730  0xea536f226ec8b6b34dc4e3ba80a0756b61039bf8  1701302400    9593.463182   \n",
       "45731  0x4292aa3e417d62b7472505e0543e10878302223c  1701907200     476.766098   \n",
       "45732  0x649f69ccd077da03dfb11f4b1daab4b625f5e9a3  1701302400     916.121705   \n",
       "45733  0xeb63ee9c8be4c1d14c6d352fad5ca8f933be7af8  1701302400   24062.426257   \n",
       "\n",
       "        boosted_amount      paid_amount withdrawn_amount relocked  \\\n",
       "0       1876.080585521   1876.080585521                0    False   \n",
       "1       2189.366909445   2189.366909445                0    False   \n",
       "2       2964.318996663   2964.318996663                0    False   \n",
       "3               1030.0           1030.0                0    False   \n",
       "4        231.406267742    231.406267742                0    False   \n",
       "...                ...              ...              ...      ...   \n",
       "45729     4308.7883491     4308.7883491                0    False   \n",
       "45730   9593.463182011   9593.463182011                0    False   \n",
       "45731    476.766098134    476.766098134                0    False   \n",
       "45732    916.121704934    916.121704934                0    False   \n",
       "45733  24062.426256757  24062.426256757                0    False   \n",
       "\n",
       "                                                 tx_hash __row_index  \\\n",
       "0      0xa08fb5686be2eee0bca1bc09cefa1faea3062114639e...           0   \n",
       "1      0x21edc20ec7f21019e6158cc3f4518ca43740b509d64c...           1   \n",
       "2      0xee34ae33271c454ecb9e22c35d6faf794014c757a71a...           2   \n",
       "3      0xe8902e2cf639efbc27c5d1e86db2bb7ca6a6021d0dd5...           3   \n",
       "4      0xd50a241bdfa973b13a66cf90cbd847645b6638a93cbf...           4   \n",
       "...                                                  ...         ...   \n",
       "45729  0x883d060a675b3f5b68b6af26425eca2ab6b2ec5d72b3...          42   \n",
       "45730  0xc2c0af4b7e1cc83446507866209cadf8615c63024ba5...          43   \n",
       "45731  0x9e7eb1f0657e3700e8b1fd30990cada288425a0911ac...          44   \n",
       "45732  0xf567dc6ad4fa2a65902c63e15517b3abef6f34a31f1a...          45   \n",
       "45733  0x4161a6471f0463116a12809eb859d6e430c105f77e3d...          46   \n",
       "\n",
       "              epoch_start           epoch_end known_as display_name  \n",
       "0     2023-10-04 20:00:00 2024-01-24 20:00:00        _   _ (0xd334)  \n",
       "1     2023-10-04 20:00:00 2024-01-24 20:00:00        _   _ (0xd683)  \n",
       "2     2023-09-27 20:00:00 2024-01-17 20:00:00        _   _ (0x0961)  \n",
       "3     2023-09-27 20:00:00 2024-01-17 20:00:00        _   _ (0x7d35)  \n",
       "4     2023-09-27 20:00:00 2024-01-17 20:00:00        _   _ (0x7423)  \n",
       "...                   ...                 ...      ...          ...  \n",
       "45729 2023-12-06 19:00:00 2024-03-27 19:00:00        _   _ (0x4b5a)  \n",
       "45730 2023-11-29 19:00:00 2024-03-20 19:00:00        _   _ (0xea53)  \n",
       "45731 2023-12-06 19:00:00 2024-03-27 19:00:00        _   _ (0x4292)  \n",
       "45732 2023-11-29 19:00:00 2024-03-20 19:00:00        _   _ (0x649f)  \n",
       "45733 2023-11-29 19:00:00 2024-03-20 19:00:00        _   _ (0xeb63)  \n",
       "\n",
       "[45734 rows x 15 columns]"
      ]
     },
     "execution_count": 25,
     "metadata": {},
     "output_type": "execute_result"
    }
   ],
   "source": [
    "pcl_base"
   ]
  },
  {
   "cell_type": "code",
   "execution_count": 26,
   "metadata": {},
   "outputs": [
    {
     "data": {
      "application/vnd.plotly.v1+json": {
       "config": {
        "plotlyServerURL": "https://plot.ly"
       },
       "data": [
        {
         "name": "Locked",
         "type": "bar",
         "x": [
          "2022-03-09",
          "2022-03-16",
          "2022-03-23",
          "2022-03-30",
          "2022-04-06",
          "2022-04-13",
          "2022-04-20",
          "2022-04-27",
          "2022-05-04",
          "2022-05-11",
          "2022-05-18",
          "2022-05-25",
          "2022-06-01",
          "2022-06-08",
          "2022-06-15",
          "2022-06-22",
          "2022-06-29",
          "2022-07-06",
          "2022-07-13",
          "2022-07-20",
          "2022-07-27",
          "2022-08-03",
          "2022-08-10",
          "2022-08-17",
          "2022-08-24",
          "2022-08-31",
          "2022-09-07",
          "2022-09-14",
          "2022-09-21",
          "2022-09-28",
          "2022-10-05",
          "2022-10-12",
          "2022-10-19",
          "2022-10-26",
          "2022-11-02",
          "2022-11-09",
          "2022-11-16",
          "2022-11-23",
          "2022-11-30",
          "2022-12-07",
          "2022-12-14",
          "2022-12-21",
          "2022-12-28",
          "2023-01-04",
          "2023-01-11",
          "2023-01-18",
          "2023-01-25",
          "2023-02-01",
          "2023-02-08",
          "2023-02-15",
          "2023-02-22",
          "2023-03-01",
          "2023-03-08",
          "2023-03-15",
          "2023-03-22",
          "2023-03-29",
          "2023-04-05",
          "2023-04-12",
          "2023-04-19",
          "2023-04-26",
          "2023-05-03",
          "2023-05-10",
          "2023-05-17",
          "2023-05-24",
          "2023-05-31",
          "2023-06-07",
          "2023-06-14",
          "2023-06-21",
          "2023-06-28",
          "2023-07-05",
          "2023-07-12",
          "2023-07-19",
          "2023-07-26",
          "2023-08-02",
          "2023-08-09",
          "2023-08-16",
          "2023-08-23",
          "2023-08-30",
          "2023-09-06",
          "2023-09-13",
          "2023-09-20",
          "2023-09-27",
          "2023-10-04",
          "2023-10-11",
          "2023-10-18",
          "2023-10-25",
          "2023-11-01",
          "2023-11-08",
          "2023-11-15",
          "2023-11-22",
          "2023-11-29",
          "2023-12-06"
         ],
         "xaxis": "x",
         "y": [
          27480352.283296645,
          8723225.06860201,
          1390015.8462264,
          3225906.500187241,
          754473.0582768819,
          3462326.471651098,
          635685.2486499785,
          1516335.650191196,
          315693.6694321409,
          1032499.9034782505,
          553067.8622700771,
          295331.487031376,
          1193445.8616692438,
          280482.6711918668,
          807759.559870148,
          757993.6488559011,
          15932431.559432337,
          13227722.419766136,
          3200107.2587294313,
          4206836.562132661,
          1251036.5043773577,
          2027071.8590648125,
          1980687.8102851964,
          1816006.502661611,
          1482671.1850698274,
          1026686.9082421018,
          1169989.2380156785,
          1190133.368313305,
          899889.6122176327,
          1701779.8016207435,
          2050506.7709095168,
          748871.2858370605,
          10495294.346047299,
          8460052.09358487,
          6471688.81949663,
          4091845.990805865,
          2741727.491664839,
          2233755.949479967,
          1518470.2892643341,
          1712287.4094060694,
          3035454.504414782,
          1281500.7348941057,
          1262789.6008011403,
          1352710.0345148698,
          1108628.1697418056,
          2749240.9272243814,
          3580809.419498431,
          2045122.5384000018,
          8144370.9061649265,
          8713933.351509174,
          5561802.9327704385,
          4538474.721893254,
          2534772.3164397017,
          4357642.551557679,
          1699770.0716261803,
          2056094.351191741,
          2003633.1011745196,
          1991118.9053520453,
          1795059.7224678523,
          1769011.123714195,
          903732.427139717,
          1555394.1133586688,
          3309024.5692759072,
          3145798.451548866,
          6106247.388407693,
          8508474.79704831,
          6882887.954521716,
          4536611.935683707,
          3852078.1354252384,
          3914394.7179337055,
          1732618.9160070082,
          3023806.6352807092,
          2855289.9680089527,
          2454695.852679216,
          1590237.6131216623,
          2273510.7262717164,
          1341957.8281946583,
          1633076.1052619163,
          2522789.840088511,
          2165424.5471235705,
          6169809.0632449025,
          6932292.238056662,
          4000529.835701629,
          5102460.051469658,
          3667293.6578077273,
          3500519.489650455,
          2190145.559493453,
          2729175.1728511383,
          3686842.8625430944,
          3397844.4791641617,
          4022485.4130220274,
          687504.4710566199
         ],
         "yaxis": "y"
        },
        {
         "name": "Lock Expires",
         "type": "bar",
         "x": [
          "2022-06-29",
          "2022-07-06",
          "2022-07-13",
          "2022-07-20",
          "2022-07-27",
          "2022-08-03",
          "2022-08-10",
          "2022-08-17",
          "2022-08-24",
          "2022-08-31",
          "2022-09-07",
          "2022-09-14",
          "2022-09-21",
          "2022-09-28",
          "2022-10-05",
          "2022-10-12",
          "2022-10-19",
          "2022-10-26",
          "2022-11-02",
          "2022-11-09",
          "2022-11-16",
          "2022-11-23",
          "2022-11-30",
          "2022-12-07",
          "2022-12-14",
          "2022-12-21",
          "2022-12-28",
          "2023-01-04",
          "2023-01-11",
          "2023-01-18",
          "2023-01-25",
          "2023-02-01",
          "2023-02-08",
          "2023-02-15",
          "2023-02-22",
          "2023-03-01",
          "2023-03-08",
          "2023-03-15",
          "2023-03-22",
          "2023-03-29",
          "2023-04-05",
          "2023-04-12",
          "2023-04-19",
          "2023-04-26",
          "2023-05-03",
          "2023-05-10",
          "2023-05-17",
          "2023-05-24",
          "2023-05-31",
          "2023-06-07",
          "2023-06-14",
          "2023-06-21",
          "2023-06-28",
          "2023-07-05",
          "2023-07-12",
          "2023-07-19",
          "2023-07-26",
          "2023-08-02",
          "2023-08-09",
          "2023-08-16",
          "2023-08-23",
          "2023-08-30",
          "2023-09-06",
          "2023-09-13",
          "2023-09-20",
          "2023-09-27",
          "2023-10-04",
          "2023-10-11",
          "2023-10-18",
          "2023-10-25",
          "2023-11-01",
          "2023-11-08",
          "2023-11-15",
          "2023-11-22",
          "2023-11-29",
          "2023-12-06",
          "2023-12-13",
          "2023-12-20",
          "2023-12-27",
          "2024-01-03",
          "2024-01-10",
          "2024-01-17",
          "2024-01-24",
          "2024-01-31",
          "2024-02-07",
          "2024-02-14",
          "2024-02-21",
          "2024-02-28",
          "2024-03-06",
          "2024-03-13",
          "2024-03-20",
          "2024-03-27"
         ],
         "xaxis": "x",
         "y": [
          27480352.283296645,
          8723225.06860201,
          1390015.8462264,
          3225906.500187241,
          754473.0582768819,
          3462326.471651098,
          635685.2486499785,
          1516335.650191196,
          315693.6694321409,
          1032499.9034782505,
          553067.8622700771,
          295331.487031376,
          1193445.8616692438,
          280482.6711918668,
          807759.559870148,
          757993.6488559011,
          15932431.559432337,
          13227722.419766136,
          3200107.2587294313,
          4206836.562132661,
          1251036.5043773577,
          2027071.8590648125,
          1980687.8102851964,
          1816006.502661611,
          1482671.1850698274,
          1026686.9082421018,
          1169989.2380156785,
          1190133.368313305,
          899889.6122176327,
          1701779.8016207435,
          2050506.7709095168,
          748871.2858370605,
          10495294.346047299,
          8460052.09358487,
          6471688.81949663,
          4091845.990805865,
          2741727.491664839,
          2233755.949479967,
          1518470.2892643341,
          1712287.4094060694,
          3035454.504414782,
          1281500.7348941057,
          1262789.6008011403,
          1352710.0345148698,
          1108628.1697418056,
          2749240.9272243814,
          3580809.419498431,
          2045122.5384000018,
          8144370.9061649265,
          8713933.351509174,
          5561802.9327704385,
          4538474.721893254,
          2534772.3164397017,
          4357642.551557679,
          1699770.0716261803,
          2056094.351191741,
          2003633.1011745196,
          1991118.9053520453,
          1795059.7224678523,
          1769011.123714195,
          903732.427139717,
          1555394.1133586688,
          3309024.5692759072,
          3145798.451548866,
          6106247.388407693,
          8508474.79704831,
          6882887.954521716,
          4536611.935683707,
          3852078.1354252384,
          3914394.7179337055,
          1732618.9160070082,
          3023806.6352807092,
          2855289.9680089527,
          2454695.852679216,
          1590237.6131216623,
          2273510.7262717164,
          1341957.8281946583,
          1633076.1052619163,
          2522789.840088511,
          2165424.5471235705,
          6169809.0632449025,
          6932292.238056662,
          4000529.835701629,
          5102460.051469658,
          3667293.6578077273,
          3500519.489650455,
          2190145.559493453,
          2729175.1728511383,
          3686842.8625430944,
          3397844.4791641617,
          4022485.4130220274,
          687504.4710566199
         ],
         "yaxis": "y"
        }
       ],
       "layout": {
        "font": {
         "color": "RebeccaPurple",
         "family": "Courier New, monospace",
         "size": 18
        },
        "shapes": [
         {
          "line": {
           "color": "black",
           "dash": "dash",
           "width": 2
          },
          "type": "line",
          "x0": "2023-12-18T16:34:34.034724",
          "x1": "2023-12-18T16:34:34.034724",
          "xref": "x",
          "y0": 0,
          "y1": 1,
          "yref": "y domain"
         }
        ],
        "template": {
         "data": {
          "bar": [
           {
            "error_x": {
             "color": "#2a3f5f"
            },
            "error_y": {
             "color": "#2a3f5f"
            },
            "marker": {
             "line": {
              "color": "#E5ECF6",
              "width": 0.5
             }
            },
            "type": "bar"
           }
          ],
          "barpolar": [
           {
            "marker": {
             "line": {
              "color": "#E5ECF6",
              "width": 0.5
             }
            },
            "type": "barpolar"
           }
          ],
          "carpet": [
           {
            "aaxis": {
             "endlinecolor": "#2a3f5f",
             "gridcolor": "white",
             "linecolor": "white",
             "minorgridcolor": "white",
             "startlinecolor": "#2a3f5f"
            },
            "baxis": {
             "endlinecolor": "#2a3f5f",
             "gridcolor": "white",
             "linecolor": "white",
             "minorgridcolor": "white",
             "startlinecolor": "#2a3f5f"
            },
            "type": "carpet"
           }
          ],
          "choropleth": [
           {
            "colorbar": {
             "outlinewidth": 0,
             "ticks": ""
            },
            "type": "choropleth"
           }
          ],
          "contour": [
           {
            "colorbar": {
             "outlinewidth": 0,
             "ticks": ""
            },
            "colorscale": [
             [
              0,
              "#0d0887"
             ],
             [
              0.1111111111111111,
              "#46039f"
             ],
             [
              0.2222222222222222,
              "#7201a8"
             ],
             [
              0.3333333333333333,
              "#9c179e"
             ],
             [
              0.4444444444444444,
              "#bd3786"
             ],
             [
              0.5555555555555556,
              "#d8576b"
             ],
             [
              0.6666666666666666,
              "#ed7953"
             ],
             [
              0.7777777777777778,
              "#fb9f3a"
             ],
             [
              0.8888888888888888,
              "#fdca26"
             ],
             [
              1,
              "#f0f921"
             ]
            ],
            "type": "contour"
           }
          ],
          "contourcarpet": [
           {
            "colorbar": {
             "outlinewidth": 0,
             "ticks": ""
            },
            "type": "contourcarpet"
           }
          ],
          "heatmap": [
           {
            "colorbar": {
             "outlinewidth": 0,
             "ticks": ""
            },
            "colorscale": [
             [
              0,
              "#0d0887"
             ],
             [
              0.1111111111111111,
              "#46039f"
             ],
             [
              0.2222222222222222,
              "#7201a8"
             ],
             [
              0.3333333333333333,
              "#9c179e"
             ],
             [
              0.4444444444444444,
              "#bd3786"
             ],
             [
              0.5555555555555556,
              "#d8576b"
             ],
             [
              0.6666666666666666,
              "#ed7953"
             ],
             [
              0.7777777777777778,
              "#fb9f3a"
             ],
             [
              0.8888888888888888,
              "#fdca26"
             ],
             [
              1,
              "#f0f921"
             ]
            ],
            "type": "heatmap"
           }
          ],
          "heatmapgl": [
           {
            "colorbar": {
             "outlinewidth": 0,
             "ticks": ""
            },
            "colorscale": [
             [
              0,
              "#0d0887"
             ],
             [
              0.1111111111111111,
              "#46039f"
             ],
             [
              0.2222222222222222,
              "#7201a8"
             ],
             [
              0.3333333333333333,
              "#9c179e"
             ],
             [
              0.4444444444444444,
              "#bd3786"
             ],
             [
              0.5555555555555556,
              "#d8576b"
             ],
             [
              0.6666666666666666,
              "#ed7953"
             ],
             [
              0.7777777777777778,
              "#fb9f3a"
             ],
             [
              0.8888888888888888,
              "#fdca26"
             ],
             [
              1,
              "#f0f921"
             ]
            ],
            "type": "heatmapgl"
           }
          ],
          "histogram": [
           {
            "marker": {
             "colorbar": {
              "outlinewidth": 0,
              "ticks": ""
             }
            },
            "type": "histogram"
           }
          ],
          "histogram2d": [
           {
            "colorbar": {
             "outlinewidth": 0,
             "ticks": ""
            },
            "colorscale": [
             [
              0,
              "#0d0887"
             ],
             [
              0.1111111111111111,
              "#46039f"
             ],
             [
              0.2222222222222222,
              "#7201a8"
             ],
             [
              0.3333333333333333,
              "#9c179e"
             ],
             [
              0.4444444444444444,
              "#bd3786"
             ],
             [
              0.5555555555555556,
              "#d8576b"
             ],
             [
              0.6666666666666666,
              "#ed7953"
             ],
             [
              0.7777777777777778,
              "#fb9f3a"
             ],
             [
              0.8888888888888888,
              "#fdca26"
             ],
             [
              1,
              "#f0f921"
             ]
            ],
            "type": "histogram2d"
           }
          ],
          "histogram2dcontour": [
           {
            "colorbar": {
             "outlinewidth": 0,
             "ticks": ""
            },
            "colorscale": [
             [
              0,
              "#0d0887"
             ],
             [
              0.1111111111111111,
              "#46039f"
             ],
             [
              0.2222222222222222,
              "#7201a8"
             ],
             [
              0.3333333333333333,
              "#9c179e"
             ],
             [
              0.4444444444444444,
              "#bd3786"
             ],
             [
              0.5555555555555556,
              "#d8576b"
             ],
             [
              0.6666666666666666,
              "#ed7953"
             ],
             [
              0.7777777777777778,
              "#fb9f3a"
             ],
             [
              0.8888888888888888,
              "#fdca26"
             ],
             [
              1,
              "#f0f921"
             ]
            ],
            "type": "histogram2dcontour"
           }
          ],
          "mesh3d": [
           {
            "colorbar": {
             "outlinewidth": 0,
             "ticks": ""
            },
            "type": "mesh3d"
           }
          ],
          "parcoords": [
           {
            "line": {
             "colorbar": {
              "outlinewidth": 0,
              "ticks": ""
             }
            },
            "type": "parcoords"
           }
          ],
          "pie": [
           {
            "automargin": true,
            "type": "pie"
           }
          ],
          "scatter": [
           {
            "marker": {
             "colorbar": {
              "outlinewidth": 0,
              "ticks": ""
             }
            },
            "type": "scatter"
           }
          ],
          "scatter3d": [
           {
            "line": {
             "colorbar": {
              "outlinewidth": 0,
              "ticks": ""
             }
            },
            "marker": {
             "colorbar": {
              "outlinewidth": 0,
              "ticks": ""
             }
            },
            "type": "scatter3d"
           }
          ],
          "scattercarpet": [
           {
            "marker": {
             "colorbar": {
              "outlinewidth": 0,
              "ticks": ""
             }
            },
            "type": "scattercarpet"
           }
          ],
          "scattergeo": [
           {
            "marker": {
             "colorbar": {
              "outlinewidth": 0,
              "ticks": ""
             }
            },
            "type": "scattergeo"
           }
          ],
          "scattergl": [
           {
            "marker": {
             "colorbar": {
              "outlinewidth": 0,
              "ticks": ""
             }
            },
            "type": "scattergl"
           }
          ],
          "scattermapbox": [
           {
            "marker": {
             "colorbar": {
              "outlinewidth": 0,
              "ticks": ""
             }
            },
            "type": "scattermapbox"
           }
          ],
          "scatterpolar": [
           {
            "marker": {
             "colorbar": {
              "outlinewidth": 0,
              "ticks": ""
             }
            },
            "type": "scatterpolar"
           }
          ],
          "scatterpolargl": [
           {
            "marker": {
             "colorbar": {
              "outlinewidth": 0,
              "ticks": ""
             }
            },
            "type": "scatterpolargl"
           }
          ],
          "scatterternary": [
           {
            "marker": {
             "colorbar": {
              "outlinewidth": 0,
              "ticks": ""
             }
            },
            "type": "scatterternary"
           }
          ],
          "surface": [
           {
            "colorbar": {
             "outlinewidth": 0,
             "ticks": ""
            },
            "colorscale": [
             [
              0,
              "#0d0887"
             ],
             [
              0.1111111111111111,
              "#46039f"
             ],
             [
              0.2222222222222222,
              "#7201a8"
             ],
             [
              0.3333333333333333,
              "#9c179e"
             ],
             [
              0.4444444444444444,
              "#bd3786"
             ],
             [
              0.5555555555555556,
              "#d8576b"
             ],
             [
              0.6666666666666666,
              "#ed7953"
             ],
             [
              0.7777777777777778,
              "#fb9f3a"
             ],
             [
              0.8888888888888888,
              "#fdca26"
             ],
             [
              1,
              "#f0f921"
             ]
            ],
            "type": "surface"
           }
          ],
          "table": [
           {
            "cells": {
             "fill": {
              "color": "#EBF0F8"
             },
             "line": {
              "color": "white"
             }
            },
            "header": {
             "fill": {
              "color": "#C8D4E3"
             },
             "line": {
              "color": "white"
             }
            },
            "type": "table"
           }
          ]
         },
         "layout": {
          "annotationdefaults": {
           "arrowcolor": "#2a3f5f",
           "arrowhead": 0,
           "arrowwidth": 1
          },
          "autotypenumbers": "strict",
          "coloraxis": {
           "colorbar": {
            "outlinewidth": 0,
            "ticks": ""
           }
          },
          "colorscale": {
           "diverging": [
            [
             0,
             "#8e0152"
            ],
            [
             0.1,
             "#c51b7d"
            ],
            [
             0.2,
             "#de77ae"
            ],
            [
             0.3,
             "#f1b6da"
            ],
            [
             0.4,
             "#fde0ef"
            ],
            [
             0.5,
             "#f7f7f7"
            ],
            [
             0.6,
             "#e6f5d0"
            ],
            [
             0.7,
             "#b8e186"
            ],
            [
             0.8,
             "#7fbc41"
            ],
            [
             0.9,
             "#4d9221"
            ],
            [
             1,
             "#276419"
            ]
           ],
           "sequential": [
            [
             0,
             "#0d0887"
            ],
            [
             0.1111111111111111,
             "#46039f"
            ],
            [
             0.2222222222222222,
             "#7201a8"
            ],
            [
             0.3333333333333333,
             "#9c179e"
            ],
            [
             0.4444444444444444,
             "#bd3786"
            ],
            [
             0.5555555555555556,
             "#d8576b"
            ],
            [
             0.6666666666666666,
             "#ed7953"
            ],
            [
             0.7777777777777778,
             "#fb9f3a"
            ],
            [
             0.8888888888888888,
             "#fdca26"
            ],
            [
             1,
             "#f0f921"
            ]
           ],
           "sequentialminus": [
            [
             0,
             "#0d0887"
            ],
            [
             0.1111111111111111,
             "#46039f"
            ],
            [
             0.2222222222222222,
             "#7201a8"
            ],
            [
             0.3333333333333333,
             "#9c179e"
            ],
            [
             0.4444444444444444,
             "#bd3786"
            ],
            [
             0.5555555555555556,
             "#d8576b"
            ],
            [
             0.6666666666666666,
             "#ed7953"
            ],
            [
             0.7777777777777778,
             "#fb9f3a"
            ],
            [
             0.8888888888888888,
             "#fdca26"
            ],
            [
             1,
             "#f0f921"
            ]
           ]
          },
          "colorway": [
           "#636efa",
           "#EF553B",
           "#00cc96",
           "#ab63fa",
           "#FFA15A",
           "#19d3f3",
           "#FF6692",
           "#B6E880",
           "#FF97FF",
           "#FECB52"
          ],
          "font": {
           "color": "#2a3f5f"
          },
          "geo": {
           "bgcolor": "white",
           "lakecolor": "white",
           "landcolor": "#E5ECF6",
           "showlakes": true,
           "showland": true,
           "subunitcolor": "white"
          },
          "hoverlabel": {
           "align": "left"
          },
          "hovermode": "closest",
          "mapbox": {
           "style": "light"
          },
          "paper_bgcolor": "white",
          "plot_bgcolor": "#E5ECF6",
          "polar": {
           "angularaxis": {
            "gridcolor": "white",
            "linecolor": "white",
            "ticks": ""
           },
           "bgcolor": "#E5ECF6",
           "radialaxis": {
            "gridcolor": "white",
            "linecolor": "white",
            "ticks": ""
           }
          },
          "scene": {
           "xaxis": {
            "backgroundcolor": "#E5ECF6",
            "gridcolor": "white",
            "gridwidth": 2,
            "linecolor": "white",
            "showbackground": true,
            "ticks": "",
            "zerolinecolor": "white"
           },
           "yaxis": {
            "backgroundcolor": "#E5ECF6",
            "gridcolor": "white",
            "gridwidth": 2,
            "linecolor": "white",
            "showbackground": true,
            "ticks": "",
            "zerolinecolor": "white"
           },
           "zaxis": {
            "backgroundcolor": "#E5ECF6",
            "gridcolor": "white",
            "gridwidth": 2,
            "linecolor": "white",
            "showbackground": true,
            "ticks": "",
            "zerolinecolor": "white"
           }
          },
          "shapedefaults": {
           "line": {
            "color": "#2a3f5f"
           }
          },
          "ternary": {
           "aaxis": {
            "gridcolor": "white",
            "linecolor": "white",
            "ticks": ""
           },
           "baxis": {
            "gridcolor": "white",
            "linecolor": "white",
            "ticks": ""
           },
           "bgcolor": "#E5ECF6",
           "caxis": {
            "gridcolor": "white",
            "linecolor": "white",
            "ticks": ""
           }
          },
          "title": {
           "x": 0.05
          },
          "xaxis": {
           "automargin": true,
           "gridcolor": "white",
           "linecolor": "white",
           "ticks": "",
           "title": {
            "standoff": 15
           },
           "zerolinecolor": "white",
           "zerolinewidth": 2
          },
          "yaxis": {
           "automargin": true,
           "gridcolor": "white",
           "linecolor": "white",
           "ticks": "",
           "title": {
            "standoff": 15
           },
           "zerolinecolor": "white",
           "zerolinewidth": 2
          }
         }
        },
        "title": {
         "text": "Convex: vlCVX Historic Locks"
        },
        "xaxis": {
         "anchor": "y",
         "domain": [
          0,
          1
         ]
        },
        "yaxis": {
         "anchor": "x",
         "domain": [
          0,
          1
         ]
        }
       }
      }
     },
     "metadata": {},
     "output_type": "display_data"
    }
   ],
   "source": [
    "fig = make_subplots()\n",
    "fig.update_layout(\n",
    "    title=f\"Convex: vlCVX Historic Locks\",\n",
    "    #     xaxis_title=\"X Axis Title\",\n",
    "    #     yaxis_title=\"Y Axis Title\",\n",
    "    #     legend_title=\"Legend Title\",\n",
    "    font=dict(\n",
    "        family=\"Courier New, monospace\",\n",
    "        size=18,\n",
    "        color=\"RebeccaPurple\"\n",
    "    ),\n",
    "    # height= 1000,\n",
    ")\n",
    "fig = fig.add_trace(\n",
    "    go.Bar(\n",
    "        x=pcl_agg_epoch.epoch_start.dt.date,\n",
    "        y=pcl_agg_epoch.locked_amount,\n",
    "        name=\"Locked\",\n",
    "        # color=\"pool_name\"\n",
    "    ),\n",
    "    secondary_y=False\n",
    ")\n",
    "fig = fig.add_trace(\n",
    "    go.Bar(\n",
    "        x=pcl_agg_epoch.epoch_end.dt.date,\n",
    "        y=pcl_agg_epoch.locked_amount,\n",
    "        name=\"Lock Expires\",\n",
    "        # color=\"pool_name\"\n",
    "    ),\n",
    "    secondary_y=False\n",
    ")\n",
    "fig.add_vline(x=dt.now(), line_width=2, line_dash=\"dash\", line_color=\"black\")\n",
    "\n",
    "fig.show()"
   ]
  },
  {
   "cell_type": "code",
   "execution_count": 27,
   "metadata": {},
   "outputs": [],
   "source": [
    "pcl_user\n",
    "\n",
    "local_pcl_agg_user = pcl_agg_user.groupby([\n",
    "        'this_epoch',\n",
    "        'known_as',\n",
    "    ]).agg(\n",
    "    current_locked=pd.NamedAgg(column='current_locked', aggfunc=sum)\n",
    "    ).reset_index()\n",
    "local_pcl_agg_user = local_pcl_agg_user.sort_values(['this_epoch', 'current_locked'], axis = 0, ascending = False)"
   ]
  },
  {
   "cell_type": "code",
   "execution_count": 28,
   "metadata": {},
   "outputs": [
    {
     "data": {
      "text/html": [
       "<div>\n",
       "<style scoped>\n",
       "    .dataframe tbody tr th:only-of-type {\n",
       "        vertical-align: middle;\n",
       "    }\n",
       "\n",
       "    .dataframe tbody tr th {\n",
       "        vertical-align: top;\n",
       "    }\n",
       "\n",
       "    .dataframe thead th {\n",
       "        text-align: right;\n",
       "    }\n",
       "</style>\n",
       "<table border=\"1\" class=\"dataframe\">\n",
       "  <thead>\n",
       "    <tr style=\"text-align: right;\">\n",
       "      <th></th>\n",
       "      <th>block_timestamp</th>\n",
       "      <th>event_name</th>\n",
       "      <th>user</th>\n",
       "      <th>_epoch</th>\n",
       "      <th>locked_amount</th>\n",
       "      <th>boosted_amount</th>\n",
       "      <th>paid_amount</th>\n",
       "      <th>withdrawn_amount</th>\n",
       "      <th>relocked</th>\n",
       "      <th>tx_hash</th>\n",
       "      <th>__row_index</th>\n",
       "      <th>epoch_start</th>\n",
       "      <th>epoch_end</th>\n",
       "      <th>known_as</th>\n",
       "      <th>display_name</th>\n",
       "    </tr>\n",
       "  </thead>\n",
       "  <tbody>\n",
       "    <tr>\n",
       "      <th>5147</th>\n",
       "      <td>2022-10-21T00:34:35.000Z</td>\n",
       "      <td>Staked</td>\n",
       "      <td>0xaac0aa431c237c2c0b5f041c8e59b3f1a43ac78f</td>\n",
       "      <td>1666224000</td>\n",
       "      <td>3.210495e+06</td>\n",
       "      <td>3210495.31298533</td>\n",
       "      <td>3210495.31298533</td>\n",
       "      <td>0</td>\n",
       "      <td>False</td>\n",
       "      <td>0xe7a6e54ab230e1f85a467687a0e8a718eb5a833af86e...</td>\n",
       "      <td>5147</td>\n",
       "      <td>2022-10-19 20:00:00</td>\n",
       "      <td>2023-02-08 20:00:00</td>\n",
       "      <td>c2tp.eth</td>\n",
       "      <td>c2tp.eth (0xaac0)</td>\n",
       "    </tr>\n",
       "  </tbody>\n",
       "</table>\n",
       "</div>"
      ],
      "text/plain": [
       "               block_timestamp event_name  \\\n",
       "5147  2022-10-21T00:34:35.000Z     Staked   \n",
       "\n",
       "                                            user      _epoch  locked_amount  \\\n",
       "5147  0xaac0aa431c237c2c0b5f041c8e59b3f1a43ac78f  1666224000   3.210495e+06   \n",
       "\n",
       "        boosted_amount       paid_amount withdrawn_amount relocked  \\\n",
       "5147  3210495.31298533  3210495.31298533                0    False   \n",
       "\n",
       "                                                tx_hash __row_index  \\\n",
       "5147  0xe7a6e54ab230e1f85a467687a0e8a718eb5a833af86e...        5147   \n",
       "\n",
       "             epoch_start           epoch_end  known_as       display_name  \n",
       "5147 2022-10-19 20:00:00 2023-02-08 20:00:00  c2tp.eth  c2tp.eth (0xaac0)  "
      ]
     },
     "execution_count": 28,
     "metadata": {},
     "output_type": "execute_result"
    }
   ],
   "source": [
    "temp = pcl_base[pcl_base['user']=='0xaac0aa431c237c2c0b5f041c8e59b3f1a43ac78f']\n",
    "\n",
    "temp[temp['epoch_end'] == '2023-02-08 20:00:00']"
   ]
  },
  {
   "cell_type": "code",
   "execution_count": 29,
   "metadata": {},
   "outputs": [
    {
     "data": {
      "application/vnd.plotly.v1+json": {
       "config": {
        "plotlyServerURL": "https://plot.ly"
       },
       "data": [
        {
         "hovertemplate": "known_as=_<br>x=%{x}<br>current_locked=%{y}<extra></extra>",
         "legendgroup": "_",
         "line": {
          "color": "#636efa",
          "dash": "solid"
         },
         "mode": "lines",
         "name": "_",
         "showlegend": true,
         "type": "scattergl",
         "x": [
          "2024-03-20",
          "2024-03-13",
          "2024-03-06",
          "2024-02-28",
          "2024-02-21",
          "2024-02-14",
          "2024-02-07",
          "2024-01-31",
          "2024-01-24",
          "2024-01-17",
          "2024-01-10",
          "2024-01-03",
          "2023-12-27",
          "2023-12-20",
          "2023-12-13",
          "2023-12-06",
          "2023-11-29",
          "2023-11-22",
          "2023-11-15",
          "2023-11-08",
          "2023-11-01",
          "2023-10-25",
          "2023-10-18",
          "2023-10-11",
          "2023-10-04",
          "2023-09-27",
          "2023-09-20",
          "2023-09-13",
          "2023-09-06",
          "2023-08-30",
          "2023-08-23",
          "2023-08-16",
          "2023-08-09",
          "2023-08-02",
          "2023-07-26",
          "2023-07-19",
          "2023-07-12",
          "2023-07-05",
          "2023-06-28",
          "2023-06-21",
          "2023-06-14",
          "2023-06-07",
          "2023-05-31",
          "2023-05-24",
          "2023-05-17",
          "2023-05-10",
          "2023-05-03",
          "2023-04-26",
          "2023-04-19",
          "2023-04-12",
          "2023-04-05",
          "2023-03-29",
          "2023-03-22",
          "2023-03-15",
          "2023-03-08",
          "2023-03-01",
          "2023-02-22",
          "2023-02-15",
          "2023-02-08",
          "2023-02-01",
          "2023-01-25",
          "2023-01-18",
          "2023-01-11",
          "2023-01-04",
          "2022-12-28",
          "2022-12-21",
          "2022-12-14",
          "2022-12-07",
          "2022-11-30",
          "2022-11-23",
          "2022-11-16",
          "2022-11-09",
          "2022-11-02",
          "2022-10-26",
          "2022-10-19",
          "2022-10-12",
          "2022-10-05",
          "2022-09-28",
          "2022-09-21",
          "2022-09-14",
          "2022-09-07",
          "2022-08-31",
          "2022-08-24",
          "2022-08-17",
          "2022-08-10",
          "2022-08-03",
          "2022-07-27",
          "2022-07-20",
          "2022-07-13",
          "2022-07-06",
          "2022-06-29",
          "2022-06-22",
          "2022-06-15",
          "2022-06-08",
          "2022-06-01",
          "2022-05-25",
          "2022-05-18",
          "2022-05-11",
          "2022-05-04",
          "2022-04-27",
          "2022-04-20",
          "2022-04-13",
          "2022-04-06",
          "2022-03-30",
          "2022-03-23",
          "2022-03-16",
          "2022-03-09"
         ],
         "xaxis": "x",
         "y": [
          313792.81772738486,
          1710282.389877912,
          4504285.936348218,
          6863561.33601633,
          9058028.495043289,
          10870989.985182121,
          12572593.863083659,
          15031039.754536333,
          18740885.098075666,
          20050998.211912937,
          23515265.607199427,
          25155644.584790245,
          26467345.033137888,
          28227499.708145693,
          29386994.088252187,
          30347899.263128795,
          31490128.795607306,
          31153731.199033104,
          30120470.58066901,
          30186143.470386103,
          29921576.826055285,
          29405344.70272442,
          30202066.90672241,
          30203448.529276986,
          29726674.598260093,
          32224115.513142128,
          33113810.877627622,
          32922395.897573434,
          33487976.57821349,
          33734917.70564028,
          33393738.934599236,
          33003546.291497853,
          32791751.458328843,
          32497911.998045072,
          31530608.0284772,
          30563485.48052586,
          30502134.273241486,
          30684069.7103171,
          30083748.991763543,
          29117228.995407533,
          28262626.327396665,
          27161006.62053765,
          27041744.158262648,
          29264685.58675536,
          28185890.00885365,
          28564796.508850772,
          28893351.551892016,
          29124811.980498783,
          28742562.46787881,
          28965775.51002958,
          28917305.32253634,
          29139737.40270455,
          28826091.5610091,
          28724280.409442525,
          28333701.858513974,
          28101258.96493902,
          28348338.201316368,
          28156994.566405386,
          29351254.407932065,
          30755381.18575273,
          30485699.399504844,
          29429927.303445097,
          28964338.128692944,
          28697288.637409963,
          28720381.702383984,
          28380660.75443539,
          28433888.780378263,
          27784229.246824786,
          27494047.342176232,
          27112705.53926162,
          27130186.248848107,
          26754080.490903925,
          25598866.826756556,
          25144404.83438667,
          28274197.622174956,
          32798490.499524504,
          32867298.54987814,
          32250290.29992174,
          31726978.46132242,
          31309275.614943765,
          30665025.006204505,
          30425358.51335388,
          30327895.214100115,
          29519680.471001133,
          29440503.63198492,
          29045904.726815816,
          29879100.59780012,
          29653770.491972066,
          30566721.028647296,
          29660994.84955589,
          25226096.967882834,
          37040508.41132365,
          36442896.596131906,
          35729674.63971634,
          35571705.00096112,
          35454284.378240764,
          35213463.91758908,
          34803385.800944984,
          34102652.30321078,
          33880268.75826116,
          32694724.036209606,
          32093811.091976322,
          29735707.698988102,
          29076278.938684057,
          26692994.08526728,
          25538591.56977926,
          21414736.52464037
         ],
         "yaxis": "y"
        },
        {
         "hovertemplate": "known_as=Pirex<br>x=%{x}<br>current_locked=%{y}<extra></extra>",
         "legendgroup": "Pirex",
         "line": {
          "color": "#EF553B",
          "dash": "solid"
         },
         "mode": "lines",
         "name": "Pirex",
         "showlegend": true,
         "type": "scattergl",
         "x": [
          "2024-03-20",
          "2024-03-13",
          "2024-03-06",
          "2024-02-28",
          "2024-02-21",
          "2024-02-14",
          "2024-02-07",
          "2024-01-31",
          "2024-01-24",
          "2024-01-17",
          "2024-01-10",
          "2024-01-03",
          "2023-12-27",
          "2023-12-20",
          "2023-12-13",
          "2023-12-06",
          "2023-11-29",
          "2023-11-22",
          "2023-11-15",
          "2023-11-08",
          "2023-11-01",
          "2023-10-25",
          "2023-10-18",
          "2023-10-11",
          "2023-10-04",
          "2023-09-27",
          "2023-09-20",
          "2023-09-13",
          "2023-09-06",
          "2023-08-30",
          "2023-08-23",
          "2023-08-16",
          "2023-08-09",
          "2023-08-02",
          "2023-07-26",
          "2023-07-19",
          "2023-07-12",
          "2023-07-05",
          "2023-06-28",
          "2023-06-21",
          "2023-06-14",
          "2023-06-07",
          "2023-05-31",
          "2023-05-24",
          "2023-05-17",
          "2023-05-10",
          "2023-05-03",
          "2023-04-26",
          "2023-04-19",
          "2023-04-12",
          "2023-04-05",
          "2023-03-29",
          "2023-03-22",
          "2023-03-15",
          "2023-03-08",
          "2023-03-01",
          "2023-02-22",
          "2023-02-15",
          "2023-02-08",
          "2023-02-01",
          "2023-01-25",
          "2023-01-18",
          "2023-01-11",
          "2023-01-04",
          "2022-12-28",
          "2022-12-21",
          "2022-12-14",
          "2022-12-07",
          "2022-11-30",
          "2022-11-23",
          "2022-11-16",
          "2022-11-09",
          "2022-11-02",
          "2022-10-26",
          "2022-10-19",
          "2022-10-12",
          "2022-10-05",
          "2022-09-28",
          "2022-09-21",
          "2022-09-14",
          "2022-09-07",
          "2022-08-31",
          "2022-08-24",
          "2022-08-17",
          "2022-08-10",
          "2022-08-03",
          "2022-07-27",
          "2022-07-20",
          "2022-07-13",
          "2022-07-06",
          "2022-06-29",
          "2022-06-22",
          "2022-06-15",
          "2022-06-08",
          "2022-06-01"
         ],
         "xaxis": "x",
         "y": [
          293139.491838111,
          352652.49742166203,
          412371.71883139305,
          554121.704497999,
          749304.068971004,
          828085.5164598429,
          828085.5164598429,
          1249027.191767687,
          1677117.247979612,
          1767676.311391352,
          1811886.996957199,
          2357019.750429887,
          2506841.91978853,
          2855038.437568515,
          3075703.620804295,
          3309378.432204492,
          3052840.911724839,
          3286467.3979793987,
          3265544.7115636347,
          3179696.661684896,
          3005896.29156586,
          3112992.656381817,
          3272261.68404643,
          3002765.869270587,
          2977033.39067883,
          3314564.383479015,
          3341772.753438909,
          2840850.685532068,
          3207413.049159076,
          3009038.700737733,
          2991232.674848465,
          2870591.526547307,
          2853242.282801871,
          2615950.804147937,
          2890688.665084854,
          2852233.133390954,
          2858561.447185711,
          2687598.497606627,
          2651702.634378271,
          2585661.347083539,
          2458761.945324711,
          2381865.093691019,
          2734006.39252199,
          2754824.869084648,
          2382260.8449522452,
          2747593.2980185263,
          2641871.991563819,
          2709058.839701226,
          2773549.502378357,
          2738598.145916892,
          2465076.672267248,
          2761164.978809891,
          2733454.670661165,
          2727799.776731233,
          2604426.612294976,
          2639760.615893965,
          2428419.474145626,
          2349312.983229064,
          2015783.223139692,
          2025066.233227625,
          1903314.0040423549,
          1456398.460266048,
          1795730.891827738,
          1655279.485789472,
          1737800.002711853,
          1800646.6362792929,
          1773139.279111727,
          1499946.593012003,
          1531423.955171147,
          1573615.719385588,
          1624477.303936825,
          1544837.620035462,
          1542968.930121367,
          1315439.2372714519,
          1400530.367291325,
          1334159.510831146,
          1415719.768783295,
          1347480.690134679,
          950419.608192479,
          1260701.831358107,
          1094437.924145573,
          1010694.6338554211,
          998189.0687417471,
          957847.044204861,
          926369.682045717,
          874917.949035496,
          824056.364484259,
          782957.471549364,
          720709.1273504581,
          676152.106538702,
          501030.38225148903,
          493089.0664952301,
          389460.52887510305,
          389460.52887510305,
          350051.32836380805
         ],
         "yaxis": "y"
        },
        {
         "hovertemplate": "known_as=Clever<br>x=%{x}<br>current_locked=%{y}<extra></extra>",
         "legendgroup": "Clever",
         "line": {
          "color": "#00cc96",
          "dash": "solid"
         },
         "mode": "lines",
         "name": "Clever",
         "showlegend": true,
         "type": "scattergl",
         "x": [
          "2024-03-20",
          "2024-03-13",
          "2024-03-06",
          "2024-02-28",
          "2024-02-21",
          "2024-02-14",
          "2024-02-07",
          "2024-01-31",
          "2024-01-24",
          "2024-01-17",
          "2024-01-10",
          "2024-01-03",
          "2023-12-27",
          "2023-12-20",
          "2023-12-13",
          "2023-12-06",
          "2023-11-29",
          "2023-11-22",
          "2023-11-15",
          "2023-11-08",
          "2023-11-01",
          "2023-10-25",
          "2023-10-18",
          "2023-10-11",
          "2023-10-04",
          "2023-09-27",
          "2023-09-20",
          "2023-09-13",
          "2023-09-06",
          "2023-08-30",
          "2023-08-23",
          "2023-08-16",
          "2023-08-09",
          "2023-08-02",
          "2023-07-26",
          "2023-07-19",
          "2023-07-12",
          "2023-07-05",
          "2023-06-28",
          "2023-06-21",
          "2023-06-14",
          "2023-06-07",
          "2023-05-31",
          "2023-05-24",
          "2023-05-17",
          "2023-05-10",
          "2023-05-03",
          "2023-04-26",
          "2023-04-19",
          "2023-04-12",
          "2023-04-05",
          "2023-03-29",
          "2023-03-22",
          "2023-03-15",
          "2023-03-08",
          "2023-03-01",
          "2023-02-22",
          "2023-02-15",
          "2023-02-08",
          "2023-02-01",
          "2023-01-25",
          "2023-01-18",
          "2023-01-11",
          "2023-01-04",
          "2022-12-28",
          "2022-12-21",
          "2022-12-14",
          "2022-12-07",
          "2022-11-30",
          "2022-11-23",
          "2022-11-16",
          "2022-11-09",
          "2022-11-02",
          "2022-10-26",
          "2022-10-19",
          "2022-10-12",
          "2022-10-05",
          "2022-09-28",
          "2022-09-21",
          "2022-09-14",
          "2022-09-07",
          "2022-08-31",
          "2022-08-24",
          "2022-08-17",
          "2022-08-10",
          "2022-08-03",
          "2022-07-27",
          "2022-07-20",
          "2022-07-13",
          "2022-07-06",
          "2022-06-29",
          "2022-06-22",
          "2022-06-15",
          "2022-06-08",
          "2022-06-01",
          "2022-05-25",
          "2022-05-18",
          "2022-05-11",
          "2022-05-04",
          "2022-04-27"
         ],
         "xaxis": "x",
         "y": [
          76837.10985231101,
          128648.56603266201,
          160234.229507932,
          225682.401149826,
          390048.631814169,
          574697.410192596,
          1303860.273995934,
          1575430.88425118,
          1816924.8971342011,
          2041869.867094669,
          2360130.610085403,
          2435714.479729875,
          2468065.927140745,
          2544733.189978196,
          2599739.869629086,
          2656911.5376746138,
          2668285.4181511467,
          2687385.058185198,
          2681024.4316070327,
          2644512.972621813,
          2535256.809507034,
          2497758.4837634168,
          1963230.27136689,
          2423747.276711557,
          2356027.735916819,
          2382859.519068941,
          2296625.7913550828,
          2531324.471624813,
          2574704.082615538,
          2596103.671985478,
          2619687.437061182,
          2614359.666167279,
          2567021.906565261,
          2583330.200352239,
          2604316.727626298,
          2602500.194445653,
          2564671.663673566,
          2442905.775463961,
          2394121.874127734,
          1846202.189110166,
          2398795.816126675,
          2333710.206712246,
          2310469.450682594,
          2184174.9187785666,
          2438120.472476204,
          2383442.134745347,
          2404004.454782532,
          2374373.651691658,
          2366621.992916913,
          2311906.521683899,
          2341458.253242791,
          2319165.2188298968,
          2309494.460260064,
          2296330.426932787,
          2168265.401929695,
          2020513.187747884,
          1428278.6047437491,
          1881826.280041354,
          1823901.2821662216,
          1677234.1130257738,
          1364361.0396757608,
          1392570.0615610485,
          1304409.5044247399,
          1298610.2229933199,
          1278992.6648893238,
          1264689.6850405168,
          1200304.9097470348,
          1256106.1700141807,
          1254282.3224109858,
          1249154.4564995482,
          1238943.938535921,
          1212955.5331949291,
          1088241.2924849251,
          569572.026015114,
          922605.1165835034,
          891491.8169967553,
          877849.5597937542,
          814082.5801518796,
          803652.2837533713,
          793376.2641895183,
          780801.6377338392,
          768562.2438146783,
          767766.7245256964,
          716754.4526678883,
          755273.4167809472,
          748180.7515944568,
          740605.5444905919,
          730178.2334310499,
          720758.9580403969,
          599189.4055144419,
          95295.0535739609,
          89087.5042909819,
          85926.2227447639,
          78095.6660248169,
          77533.75479585491,
          71395.9617303769,
          70466.5743379709,
          64505.0293375729,
          53922.028189980905,
          44305.894717508
         ],
         "yaxis": "y"
        },
        {
         "hovertemplate": "known_as=Llamas<br>x=%{x}<br>current_locked=%{y}<extra></extra>",
         "legendgroup": "Llamas",
         "line": {
          "color": "#ab63fa",
          "dash": "solid"
         },
         "mode": "lines",
         "name": "Llamas",
         "showlegend": true,
         "type": "scattergl",
         "x": [
          "2024-03-20",
          "2024-03-13",
          "2024-03-06",
          "2024-02-28",
          "2024-02-21",
          "2024-02-14",
          "2024-02-07",
          "2024-01-31",
          "2024-01-24",
          "2024-01-17",
          "2024-01-10",
          "2024-01-03",
          "2023-12-27",
          "2023-12-20",
          "2023-12-13",
          "2023-12-06",
          "2023-11-29",
          "2023-11-22",
          "2023-11-15",
          "2023-11-08",
          "2023-11-01",
          "2023-10-25",
          "2023-10-18",
          "2023-10-11",
          "2023-10-04",
          "2023-09-27",
          "2023-09-20",
          "2023-09-13",
          "2023-09-06",
          "2023-08-30",
          "2023-08-23",
          "2023-08-16",
          "2023-08-09",
          "2023-08-02",
          "2023-07-26",
          "2023-07-19",
          "2023-07-12",
          "2023-07-05",
          "2023-06-28",
          "2023-06-21",
          "2023-06-14",
          "2023-06-07",
          "2023-05-31",
          "2023-05-24",
          "2023-05-17",
          "2023-05-10",
          "2023-05-03",
          "2023-04-26",
          "2023-04-19",
          "2023-04-12"
         ],
         "xaxis": "x",
         "y": [
          2636.092675871,
          17636.092675871,
          35023.013130111,
          35023.013130111,
          70185.624029368,
          70185.624029368,
          70185.624029368,
          70185.624029368,
          117047.713162557,
          117047.713162557,
          117047.713162557,
          117047.713162557,
          150142.273207998,
          150142.273207998,
          150142.273207998,
          150142.273207998,
          147506.180532127,
          147506.180532127,
          147506.180532127,
          147506.180532127,
          112343.56963287,
          112343.56963287,
          112343.56963287,
          112343.56963287,
          84480.493743893,
          112343.56963287,
          112343.56963287,
          112343.56963287,
          100865.644674344,
          100865.644674344,
          112343.56963287,
          112343.56963287,
          129768.13501816301,
          114768.13501816301,
          112381.214563923,
          112381.214563923,
          112381.214563923,
          112381.214563923,
          112381.214563923,
          112381.214563923,
          93382.201319711,
          65519.125430734,
          65519.125430734,
          65519.125430734,
          43902.490343819,
          43902.490343819,
          32424.565385293,
          32424.565385293,
          15000,
          15000
         ],
         "yaxis": "y"
        },
        {
         "hovertemplate": "known_as=Frax<br>x=%{x}<br>current_locked=%{y}<extra></extra>",
         "legendgroup": "Frax",
         "line": {
          "color": "#FFA15A",
          "dash": "solid"
         },
         "mode": "lines",
         "name": "Frax",
         "showlegend": true,
         "type": "scattergl",
         "x": [
          "2024-03-20",
          "2024-03-13",
          "2024-03-06",
          "2024-02-28",
          "2024-02-21",
          "2024-02-14",
          "2024-02-07",
          "2024-01-31",
          "2024-01-24",
          "2024-01-17",
          "2024-01-10",
          "2024-01-03",
          "2023-12-27",
          "2023-12-20",
          "2023-12-13",
          "2023-12-06",
          "2023-11-29",
          "2023-11-22",
          "2023-11-15",
          "2023-11-08",
          "2023-11-01",
          "2023-10-25",
          "2023-10-18",
          "2023-10-11",
          "2023-10-04",
          "2023-09-27",
          "2023-09-20",
          "2023-09-13",
          "2023-09-06",
          "2023-08-30",
          "2023-08-23",
          "2023-08-16",
          "2023-08-09",
          "2023-08-02",
          "2023-07-26",
          "2023-07-19",
          "2023-07-12",
          "2023-07-05",
          "2023-06-28",
          "2023-06-21",
          "2023-06-14",
          "2023-06-07",
          "2023-05-31",
          "2023-05-24",
          "2023-05-17",
          "2023-05-10",
          "2023-05-03",
          "2023-04-26",
          "2023-04-19",
          "2023-04-12",
          "2023-04-05",
          "2023-03-29",
          "2023-03-22",
          "2023-03-15",
          "2023-03-08",
          "2023-03-01",
          "2023-02-22",
          "2023-02-15",
          "2023-02-08",
          "2023-02-01",
          "2023-01-25",
          "2023-01-18",
          "2023-01-11",
          "2023-01-04",
          "2022-12-28",
          "2022-12-21",
          "2022-12-14",
          "2022-12-07",
          "2022-11-30",
          "2022-11-23",
          "2022-11-16",
          "2022-11-09",
          "2022-11-02",
          "2022-10-26",
          "2022-10-19",
          "2022-10-12",
          "2022-10-05",
          "2022-09-28",
          "2022-09-21",
          "2022-09-14",
          "2022-09-07",
          "2022-08-31",
          "2022-08-24",
          "2022-08-17",
          "2022-08-10",
          "2022-08-03",
          "2022-07-27",
          "2022-07-20",
          "2022-07-13",
          "2022-07-06",
          "2022-06-29",
          "2022-06-22",
          "2022-06-15",
          "2022-06-08",
          "2022-06-01",
          "2022-05-25",
          "2022-05-18",
          "2022-05-11",
          "2022-05-04",
          "2022-04-27",
          "2022-04-20",
          "2022-04-13",
          "2022-04-06",
          "2022-03-30",
          "2022-03-23",
          "2022-03-16",
          "2022-03-09"
         ],
         "xaxis": "x",
         "y": [
          886.494282096,
          102600.052423158,
          183619.21502516503,
          383428.57544146304,
          452488.67765213805,
          523341.444273143,
          691588.034507468,
          909810.581258508,
          966439.385179628,
          3142893.8416572004,
          3292899.6636407315,
          3295304.5656127576,
          3386242.5140456236,
          3426648.6130503574,
          3554385.9156630384,
          3637635.6174314115,
          3709357.7470600503,
          3708397.691289506,
          3707388.121326569,
          3706592.920440323,
          3705667.660864013,
          3704159.8341873256,
          3701875.071880631,
          3699829.0749258413,
          3697210.3069282565,
          3691398.461754611,
          3679225.9617546108,
          3688993.5597825847,
          3685078.4515720317,
          3682213.6512253517,
          3679026.7864907314,
          3675730.9007843686,
          3672371.7896122797,
          3672371.7896122797,
          3669743.5106737046,
          3666457.1706916937,
          3663068.122595852,
          3659386.4507869827,
          3655949.0376125537,
          3653251.1276008803,
          3649278.886668003,
          3646426.170945406,
          3643065.1718562264,
          3639788.1718562264,
          3635902.171856226,
          3633517.1718562264,
          3630009.1718562264,
          3626216.8618562263,
          3620871.8618562273,
          3616004.8618562273,
          3610536.8618562273,
          3605321.8618562273,
          3600087.201856227,
          3593696.201856227,
          3589069.201856226,
          3582170.2018562257,
          3574372.561856226,
          3566148.561856226,
          3454807.1650027703,
          3550244.0618562265,
          3541825.061856225,
          3532483.061856225,
          3522983.0618562256,
          3512632.4001782252,
          3496835.0902886363,
          3483835.090288636,
          3469325.039014434,
          3449918.350111086,
          3433684.173274125,
          3408094.769336966,
          3387027.2782255593,
          3290250.9656449743,
          3344787.123234901,
          1312609.331981041,
          3321656.197194008,
          3293718.44621599,
          3261162.840970361,
          3235348.542312307,
          3176457.383181795,
          3143489.315724179,
          3128350.180332737,
          3103108.4878879692,
          3069752.6282318453,
          2954293.459230909,
          2968487.964934112,
          2961964.613611019,
          2900978.747006171,
          2845241.632348139,
          2788399.607334973,
          2746367.499915679,
          2686716.238222409,
          2612196.7740631457,
          2570034.539086463,
          2570034.539086463,
          2517383.260338914,
          2484540.48341252,
          2451572.4159549037,
          2393927.606029154,
          2369880.2032589847,
          2314233.241615228,
          2256761.778210463,
          2229602.265335267,
          2153758.208298321,
          2099691.9957523607,
          2059757.708184942,
          1974401.711276766,
          1875.1817161749998
         ],
         "yaxis": "y"
        },
        {
         "hovertemplate": "known_as=Bent<br>x=%{x}<br>current_locked=%{y}<extra></extra>",
         "legendgroup": "Bent",
         "line": {
          "color": "#19d3f3",
          "dash": "solid"
         },
         "mode": "lines",
         "name": "Bent",
         "showlegend": true,
         "type": "scattergl",
         "x": [
          "2024-03-20",
          "2024-03-13",
          "2024-03-06",
          "2024-02-28",
          "2024-02-21",
          "2024-02-14",
          "2024-02-07",
          "2024-01-31",
          "2024-01-24",
          "2024-01-17",
          "2024-01-10",
          "2024-01-03",
          "2023-12-27",
          "2023-12-20",
          "2023-12-13",
          "2023-12-06",
          "2023-11-29",
          "2023-11-22",
          "2023-11-15",
          "2023-11-08",
          "2023-11-01",
          "2023-10-25",
          "2023-10-18",
          "2023-10-11",
          "2023-10-04",
          "2023-09-27",
          "2023-09-20",
          "2023-09-13",
          "2023-09-06",
          "2023-08-30",
          "2023-08-23",
          "2023-08-16",
          "2023-08-09",
          "2023-08-02",
          "2023-07-26",
          "2023-07-19",
          "2023-07-12",
          "2023-07-05",
          "2023-06-28",
          "2023-06-21",
          "2023-06-14",
          "2023-06-07",
          "2023-05-31",
          "2023-05-24",
          "2023-05-17",
          "2023-05-10",
          "2023-05-03",
          "2023-04-26",
          "2023-04-19",
          "2023-04-12",
          "2023-04-05",
          "2023-03-29",
          "2023-03-22",
          "2023-03-15",
          "2023-03-08",
          "2023-03-01",
          "2023-02-22",
          "2023-02-15",
          "2023-02-08",
          "2023-02-01",
          "2023-01-25",
          "2023-01-18",
          "2023-01-11",
          "2023-01-04",
          "2022-12-28",
          "2022-12-21",
          "2022-12-14",
          "2022-12-07",
          "2022-11-30",
          "2022-11-23",
          "2022-11-16",
          "2022-11-09",
          "2022-11-02",
          "2022-10-26",
          "2022-10-19",
          "2022-10-12",
          "2022-10-05",
          "2022-09-28",
          "2022-09-21",
          "2022-09-14",
          "2022-09-07",
          "2022-08-31",
          "2022-08-24",
          "2022-08-17",
          "2022-08-10",
          "2022-08-03",
          "2022-07-27",
          "2022-07-20",
          "2022-07-13",
          "2022-07-06",
          "2022-06-29",
          "2022-06-22",
          "2022-06-15",
          "2022-06-08",
          "2022-06-01",
          "2022-05-25",
          "2022-05-18",
          "2022-05-11",
          "2022-05-04",
          "2022-04-27",
          "2022-04-20",
          "2022-04-13",
          "2022-04-06",
          "2022-03-30",
          "2022-03-23",
          "2022-03-16",
          "2022-03-09"
         ],
         "xaxis": "x",
         "y": [
          212.464680846,
          28536.131023676,
          39220.649190131,
          68161.86408409,
          68161.86408409,
          68161.86408409,
          73515.583977649,
          102114.097891094,
          102114.097891094,
          121088.95744424,
          125899.68744424,
          643838.450887442,
          653547.000887442,
          696956.987048598,
          696956.987048598,
          696956.987048598,
          701533.442367752,
          701533.442367752,
          701533.442367752,
          701533.442367752,
          701533.442367752,
          701533.442367752,
          701533.442367752,
          695961.103816656,
          701533.4423677521,
          701533.442367752,
          701533.4423677521,
          696606.520367752,
          691824.892367752,
          665377.1934405001,
          669552.914199132,
          687179.066367752,
          687035.972367752,
          682435.972367752,
          676351.454201297,
          658517.608948434,
          662921.280948434,
          671551.454201298,
          670997.734307739,
          656575.830749885,
          665425.395756642,
          659948.808329769,
          660614.665756643,
          660614.6657566429,
          655687.743756643,
          645535.384751157,
          651512.022998011,
          644095.769065283,
          646866.1969980099,
          645366.1969980099,
          642266.1969980099,
          640403.550059402,
          637862.524998009,
          635019.524998009,
          633062.524998009,
          633062.524998009,
          628948.314998009,
          627290.255498009,
          623471.727571135,
          622793.727571135,
          623471.727571135,
          617922.910962372,
          610463.682922212,
          610429.859855728,
          604844.105923001,
          604844.105923002,
          603344.105923002,
          595731.314381504,
          601481.458984395,
          595694.285731531,
          598638.458984395,
          592115.217471064,
          588330.765426542,
          588330.765426542,
          586672.7059265419,
          586672.7059265419,
          585994.7059265419,
          584733.594306887,
          584733.594306887,
          574557.519137479,
          582903.094306887,
          560679.427964056,
          560679.427964056,
          581202.998959371,
          573590.207417873,
          581202.998959371,
          575415.825706507,
          574818.315765017,
          568892.584193176,
          568892.584193176,
          568892.584193176,
          561972.598011589,
          561972.598011589,
          561972.598011589,
          559279.467046263,
          559279.467046263,
          549103.391876855,
          549103.391876855,
          549103.391876855,
          526947.88972055,
          526947.88972055,
          519335.098179052,
          519335.098179052,
          517851.577829378,
          517254.067887888,
          505413.855261615,
          505413.855261615
         ],
         "yaxis": "y"
        },
        {
         "hovertemplate": "known_as=some chad<br>x=%{x}<br>current_locked=%{y}<extra></extra>",
         "legendgroup": "some chad",
         "line": {
          "color": "#FF6692",
          "dash": "solid"
         },
         "mode": "lines",
         "name": "some chad",
         "showlegend": true,
         "type": "scattergl",
         "x": [
          "2024-03-13",
          "2024-03-06",
          "2024-02-28",
          "2024-02-21",
          "2024-02-14",
          "2024-02-07",
          "2024-01-31",
          "2024-01-24",
          "2024-01-17",
          "2024-01-10",
          "2024-01-03",
          "2023-12-27",
          "2023-12-20",
          "2023-12-13",
          "2023-12-06",
          "2023-11-29",
          "2023-10-04",
          "2023-09-27",
          "2023-09-20",
          "2023-09-13",
          "2023-09-06",
          "2023-08-30",
          "2023-08-23",
          "2023-08-16",
          "2023-08-09",
          "2023-08-02",
          "2023-07-26",
          "2023-07-19",
          "2023-07-12",
          "2023-07-05",
          "2023-06-28",
          "2023-06-21",
          "2023-06-14",
          "2023-06-07",
          "2023-05-31",
          "2023-05-24",
          "2023-05-17",
          "2023-05-10",
          "2023-05-03",
          "2023-04-26",
          "2023-04-19",
          "2023-04-12",
          "2023-04-05",
          "2023-03-29",
          "2023-03-22",
          "2023-03-15",
          "2023-03-08",
          "2023-03-01",
          "2023-02-22",
          "2023-02-15",
          "2023-02-08",
          "2023-02-01",
          "2023-01-25",
          "2023-01-18",
          "2023-01-11",
          "2023-01-04",
          "2022-12-28",
          "2022-12-21",
          "2022-12-14",
          "2022-12-07",
          "2022-11-30",
          "2022-11-23",
          "2022-11-16",
          "2022-11-09",
          "2022-11-02",
          "2022-10-26",
          "2022-10-19",
          "2022-10-12",
          "2022-10-05",
          "2022-09-28",
          "2022-09-21",
          "2022-09-14",
          "2022-09-07",
          "2022-08-31",
          "2022-08-24",
          "2022-08-17",
          "2022-08-10",
          "2022-08-03",
          "2022-07-27",
          "2022-07-20",
          "2022-07-13",
          "2022-07-06"
         ],
         "xaxis": "x",
         "y": [
          2364326.94990249,
          2364326.94990249,
          2364326.94990249,
          2364326.94990249,
          2364326.94990249,
          2364326.94990249,
          2364326.94990249,
          2364326.94990249,
          2364326.94990249,
          2364326.94990249,
          2364326.94990249,
          2364326.94990249,
          2364326.94990249,
          2364326.94990249,
          2364326.94990249,
          2364326.94990249,
          29287.339952902,
          29287.339952902,
          1051816.74403911,
          1077951.7993490049,
          1102977.709685589,
          1683773.758396517,
          1707322.21915849,
          1707322.21915849,
          1727509.25955912,
          2299781.66227349,
          2299781.66227349,
          2324474.160988539,
          2385939.164648129,
          2407175.012993694,
          2429403.1736822883,
          2429403.1736822883,
          2426043.60327684,
          2443191.491276854,
          2415364.1997132422,
          2415364.1997132422,
          2390338.289376658,
          2359831.953112152,
          2366789.828614685,
          2366789.828614685,
          2346602.788214055,
          1815998.723166721,
          1815998.723166721,
          2321910.289499006,
          2298275.285839416,
          2300674.441153441,
          2278446.280464847,
          2278446.280464847,
          2252518.510917393,
          2252518.510917393,
          2252518.510917393,
          2226383.455607498,
          2226383.455607498,
          2201547.351371991,
          2171041.015107485,
          2171041.015107485,
          2171041.015107485,
          2129372.677440449,
          2129372.677440449,
          1598768.612393115,
          1560938.612393115,
          1537303.608733525,
          1537303.608733525,
          1560938.612393115,
          1560938.612393115,
          1543790.724393101,
          1498998.028870505,
          1498998.028870505,
          1498998.028870505,
          973544.42065959,
          973544.42065959,
          973544.42065959,
          973544.42065959,
          973544.42065959,
          973544.42065959,
          973544.42065959,
          973544.42065959,
          973544.42065959,
          973544.42065959,
          949909.417,
          949909.417,
          949909.417
         ],
         "yaxis": "y"
        },
        {
         "hovertemplate": "known_as=Reserve<br>x=%{x}<br>current_locked=%{y}<extra></extra>",
         "legendgroup": "Reserve",
         "line": {
          "color": "#B6E880",
          "dash": "solid"
         },
         "mode": "lines",
         "name": "Reserve",
         "showlegend": true,
         "type": "scattergl",
         "x": [
          "2024-03-13",
          "2024-03-06",
          "2024-02-28",
          "2024-02-21",
          "2024-02-14",
          "2024-02-07",
          "2024-01-31",
          "2024-01-24",
          "2024-01-17",
          "2024-01-10",
          "2024-01-03",
          "2023-12-27",
          "2023-12-20",
          "2023-12-13",
          "2023-12-06",
          "2023-11-29",
          "2023-11-22",
          "2023-11-15",
          "2023-11-08",
          "2023-11-01",
          "2023-10-25",
          "2023-10-18",
          "2023-10-11",
          "2023-10-04",
          "2023-09-27",
          "2023-09-20",
          "2023-09-13",
          "2023-09-06",
          "2023-08-30",
          "2023-08-23",
          "2023-08-16",
          "2023-08-09",
          "2023-08-02",
          "2023-07-26",
          "2023-07-19",
          "2023-07-12",
          "2023-07-05",
          "2023-06-28",
          "2023-06-21",
          "2023-06-14",
          "2023-06-07",
          "2023-05-31",
          "2023-05-24",
          "2023-05-17",
          "2023-05-10",
          "2023-05-03",
          "2023-04-26",
          "2023-04-19",
          "2023-04-12",
          "2023-04-05",
          "2023-03-29",
          "2023-03-22",
          "2023-03-15",
          "2023-03-08",
          "2023-03-01",
          "2023-02-22",
          "2023-02-15",
          "2023-02-08",
          "2023-02-01",
          "2023-01-25",
          "2023-01-18",
          "2023-01-11",
          "2023-01-04",
          "2022-12-28",
          "2022-12-21",
          "2022-12-14",
          "2022-12-07",
          "2022-11-30",
          "2022-11-23",
          "2022-11-16",
          "2022-11-09",
          "2022-11-02",
          "2022-10-26",
          "2022-10-19",
          "2022-10-12",
          "2022-10-05",
          "2022-09-28",
          "2022-09-21",
          "2022-09-14",
          "2022-09-07",
          "2022-08-31",
          "2022-08-24",
          "2022-08-17",
          "2022-08-10",
          "2022-08-03",
          "2022-07-27",
          "2022-07-20",
          "2022-07-13",
          "2022-07-06",
          "2022-06-29",
          "2022-06-22"
         ],
         "xaxis": "x",
         "y": [
          5307.204721217,
          199025.66888064903,
          200098.528142641,
          200098.528142641,
          200098.528142641,
          298740.18687424,
          298740.18687424,
          398740.18687424,
          431824.368746977,
          824824.3687469771,
          975839.678206595,
          975839.678206595,
          975839.678206595,
          975839.678206595,
          975839.678206595,
          975839.678206595,
          975839.678206595,
          975839.678206595,
          975839.678206595,
          975839.678206595,
          975839.678206595,
          975839.678206595,
          975839.678206595,
          975839.678206595,
          975839.678206595,
          975839.678206595,
          974829.3687469771,
          974829.3687469771,
          974829.3687469771,
          974829.3687469771,
          974829.3687469771,
          974829.3687469771,
          974829.3687469771,
          974829.3687469771,
          973756.509484985,
          973756.509484985,
          973756.509484985,
          973756.509484985,
          973756.509484985,
          973756.509484985,
          973756.509484985,
          973756.509484985,
          973756.509484985,
          973756.509484985,
          973756.509484985,
          973756.509484985,
          973756.509484985,
          973756.509484985,
          968449.304763768,
          869628.300073432,
          968449.3047637669,
          968449.3047637669,
          968449.3047637669,
          968449.3047637669,
          968449.3047637669,
          968449.3047637669,
          968449.3047637669,
          968449.3047637669,
          968449.3047637669,
          968449.3047637669,
          968449.3047637669,
          968449.3047637669,
          968449.3047637669,
          968449.3047637669,
          968449.3047637669,
          968449.3047637669,
          968449.3047637669,
          968449.3047637669,
          968449.3047637669,
          968449.3047637669,
          968449.3047637669,
          968449.3047637669,
          938828.642423261,
          645828.642423261,
          645823.642423261,
          645828.642423261,
          645828.642423261,
          645828.642423261,
          645828.642423261,
          645828.642423261,
          645828.642423261,
          550931.182954165,
          452110.17826383,
          452110.17826383,
          452110.17826383,
          353468.51953223103,
          353468.51953223103,
          253468.519532231,
          250005,
          150005,
          5
         ],
         "yaxis": "y"
        },
        {
         "hovertemplate": "known_as=c2tp.eth<br>x=%{x}<br>current_locked=%{y}<extra></extra>",
         "legendgroup": "c2tp.eth",
         "line": {
          "color": "#FF97FF",
          "dash": "solid"
         },
         "mode": "lines",
         "name": "c2tp.eth",
         "showlegend": true,
         "type": "scattergl",
         "x": [
          "2024-03-06",
          "2024-02-28",
          "2024-02-21",
          "2024-02-14",
          "2024-02-07",
          "2024-01-31",
          "2024-01-24",
          "2024-01-17",
          "2024-01-10",
          "2024-01-03",
          "2023-12-27",
          "2023-12-20",
          "2023-12-13",
          "2023-12-06",
          "2023-11-29",
          "2023-11-22",
          "2023-11-15",
          "2023-11-08",
          "2023-11-01",
          "2023-10-25",
          "2023-10-18",
          "2023-10-11",
          "2023-10-04",
          "2023-09-27",
          "2023-09-20",
          "2023-09-13",
          "2023-09-06",
          "2023-08-30",
          "2023-08-23",
          "2023-08-16",
          "2023-08-09",
          "2023-08-02",
          "2023-07-26",
          "2023-07-19",
          "2023-07-12",
          "2023-07-05",
          "2023-06-28",
          "2023-06-21",
          "2023-06-14",
          "2023-06-07",
          "2023-05-31",
          "2023-05-24",
          "2023-05-17",
          "2023-05-10",
          "2023-05-03",
          "2023-04-26",
          "2023-04-19",
          "2023-04-12",
          "2023-04-05",
          "2023-03-29",
          "2023-03-22",
          "2023-03-15",
          "2023-03-08",
          "2023-03-01",
          "2023-02-22",
          "2023-02-15",
          "2023-02-08",
          "2023-02-01",
          "2023-01-25",
          "2023-01-18",
          "2023-01-11",
          "2023-01-04",
          "2022-12-28",
          "2022-12-21",
          "2022-12-14",
          "2022-12-07",
          "2022-11-30",
          "2022-11-23",
          "2022-11-16",
          "2022-11-09",
          "2022-11-02",
          "2022-10-26",
          "2022-10-19",
          "2022-10-12",
          "2022-10-05",
          "2022-09-28",
          "2022-09-21",
          "2022-09-14",
          "2022-09-07",
          "2022-08-31",
          "2022-08-24",
          "2022-08-17",
          "2022-08-10",
          "2022-08-03",
          "2022-07-27",
          "2022-07-20",
          "2022-07-13",
          "2022-07-06",
          "2022-06-29",
          "2022-06-22",
          "2022-06-15",
          "2022-06-08",
          "2022-06-01",
          "2022-05-25",
          "2022-05-18",
          "2022-05-11",
          "2022-05-04",
          "2022-04-27",
          "2022-04-20",
          "2022-04-13",
          "2022-04-06",
          "2022-03-30",
          "2022-03-23",
          "2022-03-16",
          "2022-03-09"
         ],
         "xaxis": "x",
         "y": [
          171461.586143071,
          171461.586143071,
          171461.586143071,
          171461.586143071,
          680922.3697195901,
          680922.3697195901,
          680922.3697195901,
          680922.3697195901,
          680922.3697195901,
          3891417.68270492,
          3891417.68270492,
          4140782.35880044,
          4162133.671244099,
          4162133.671244099,
          4162133.671244099,
          4162133.671244099,
          4162133.671244099,
          4162133.671244099,
          4162133.671244099,
          4162133.671244099,
          4147445.910016735,
          4147445.910016735,
          4147445.910016735,
          4147445.910016735,
          4147445.910016735,
          4147445.910016735,
          4147445.910016735,
          4147445.910016735,
          4126094.597573076,
          4126094.597573076,
          4126094.597573076,
          4126094.597573076,
          3954633.011430005,
          4126094.597573076,
          4126094.597573076,
          4126094.597573076,
          3802665.530520524,
          4112592.697910305,
          4112592.697910305,
          4112592.697910305,
          4112592.697910305,
          4112592.697910305,
          4112592.697910305,
          3863228.021814785,
          4096455.127127258,
          4096455.127127258,
          4096455.127127258,
          4096455.127127258,
          4096455.127127258,
          4096455.1271272576,
          4096455.1271272576,
          4096455.1271272576,
          4096455.127127258,
          3786527.959737477,
          4073367.4968695426,
          4073367.4968695426,
          4076808.411238711,
          4076808.411238711,
          4076808.411238711,
          4088681.9136591246,
          3855454.8083466515,
          4070400.9143196316,
          4070400.9143196316,
          4070400.9143196316,
          4070400.9143196316,
          3898939.328176561,
          4070400.914319632,
          4070400.914319632,
          4047462.927577984,
          4062790.780723639,
          4062790.7807236393,
          4062790.7807236393,
          4059349.866354471,
          4059349.866354471,
          4059349.866354471,
          4047476.363934057,
          4047476.363934057,
          4047476.363934057,
          4047476.363934057,
          4047476.363934057,
          4047476.363934057,
          4047476.363934057,
          4047476.363934057,
          4047476.363934057,
          4047476.363934057,
          4032148.5107884016,
          4032148.5107884016,
          4032148.5107884016,
          4032148.5107884016,
          4032148.510788402,
          4032148.510788402,
          4032148.510788402,
          4032148.510788402,
          3817202.404815422,
          3817202.404815422,
          3817202.404815422,
          3817202.404815422,
          3817202.404815422,
          3645740.818672351,
          3645740.818672351,
          3497334.8501173956,
          3497334.8501173956,
          3210495.31298533,
          3210495.31298533,
          3210495.31298533
         ],
         "yaxis": "y"
        },
        {
         "hovertemplate": "known_as=Keeper (KP3RETH)<br>x=%{x}<br>current_locked=%{y}<extra></extra>",
         "legendgroup": "Keeper (KP3RETH)",
         "line": {
          "color": "#FECB52",
          "dash": "solid"
         },
         "mode": "lines",
         "name": "Keeper (KP3RETH)",
         "showlegend": true,
         "type": "scattergl",
         "x": [
          "2024-03-06",
          "2024-02-28",
          "2024-02-21",
          "2024-02-14",
          "2024-02-07",
          "2024-01-31",
          "2024-01-24",
          "2024-01-17",
          "2024-01-10",
          "2024-01-03",
          "2023-12-27",
          "2023-12-20",
          "2023-12-13",
          "2023-12-06",
          "2023-11-29",
          "2023-11-22",
          "2023-11-15",
          "2023-11-08",
          "2023-11-01",
          "2023-10-25",
          "2023-10-18",
          "2023-10-11",
          "2023-10-04",
          "2023-09-27",
          "2023-09-20",
          "2023-09-13",
          "2023-09-06",
          "2023-08-30",
          "2023-08-23",
          "2023-08-16",
          "2023-08-09",
          "2023-08-02",
          "2023-07-26",
          "2023-07-19",
          "2023-07-12",
          "2023-07-05",
          "2023-06-28",
          "2023-06-21",
          "2023-06-14",
          "2023-06-07",
          "2023-05-31",
          "2023-05-24",
          "2023-05-17",
          "2023-05-10",
          "2023-05-03",
          "2023-04-26",
          "2023-04-19",
          "2023-04-12",
          "2023-04-05",
          "2023-03-29",
          "2023-03-22",
          "2023-03-15",
          "2023-03-08",
          "2023-03-01",
          "2023-02-22",
          "2023-02-15",
          "2023-02-08",
          "2023-02-01",
          "2023-01-25",
          "2023-01-18",
          "2023-01-11",
          "2023-01-04",
          "2022-12-28",
          "2022-12-21",
          "2022-12-14",
          "2022-12-07",
          "2022-11-30",
          "2022-11-23",
          "2022-11-16",
          "2022-11-09",
          "2022-11-02",
          "2022-10-26",
          "2022-10-19",
          "2022-10-12",
          "2022-10-05",
          "2022-09-28",
          "2022-09-21",
          "2022-09-14",
          "2022-09-07",
          "2022-08-31",
          "2022-08-24",
          "2022-08-17",
          "2022-08-10",
          "2022-08-03",
          "2022-07-27",
          "2022-07-20",
          "2022-07-13",
          "2022-07-06",
          "2022-06-29",
          "2022-06-22",
          "2022-06-15",
          "2022-06-08",
          "2022-06-01",
          "2022-05-25",
          "2022-05-18",
          "2022-05-11",
          "2022-05-04",
          "2022-04-27",
          "2022-04-20",
          "2022-04-13",
          "2022-04-06",
          "2022-03-30",
          "2022-03-23",
          "2022-03-16"
         ],
         "xaxis": "x",
         "y": [
          22593.139504911,
          886015.0522246821,
          886015.0522246821,
          886015.0522246821,
          886015.0522246821,
          886015.0522246821,
          886015.0522246821,
          886015.0522246821,
          886015.0522246821,
          886015.0522246821,
          886015.0522246821,
          886015.0522246821,
          886015.0522246821,
          886015.0522246821,
          886015.0522246821,
          886015.0522246821,
          863421.912719771,
          25694.207270643,
          863421.912719771,
          863421.912719771,
          863421.912719771,
          863421.912719771,
          863421.912719771,
          863421.912719771,
          863421.912719771,
          863421.912719771,
          863421.912719771,
          863421.912719771,
          863421.912719771,
          866506.034100075,
          882125.1031289761,
          882125.1031289761,
          882125.1031289761,
          856430.8958583331,
          18703.190409205,
          26260.603097018,
          856430.895850792,
          856430.895850792,
          856430.895850792,
          856430.895850792,
          856430.8958583329,
          862293.6620946008,
          862293.6620946008,
          874620.9448844899,
          874620.9448844899,
          871536.8235041859,
          855917.754475285,
          864189.6451685439,
          864189.6451685439,
          871536.8235041859,
          871536.8235041859,
          863979.4108163728,
          37225.70883020987,
          863979.410816373,
          863979.410816373,
          863979.410816373,
          863979.410808832,
          858116.644572564,
          858116.644572564,
          851652.128018943,
          851652.128018943,
          851652.128018943,
          851652.128018943,
          843380.237325684,
          843380.237325684,
          836033.0589900421,
          836033.0589900421,
          836033.0589900421,
          832616.468222431,
          33875.007016034004,
          832616.46822243,
          832616.46822243,
          832616.46822243,
          832616.46822243,
          832616.46822243,
          826753.701986162,
          826753.701986162,
          826753.701986162,
          826753.701986162,
          826753.701986162,
          826753.701986162,
          826753.701986162,
          826753.701986162,
          826753.701986162,
          826753.701986162,
          798741.461206396,
          432247.885344707,
          531343.339669897,
          798741.461206396,
          798741.461206396,
          798741.461206396,
          798741.461206396,
          798741.461206396,
          798741.461206396,
          798741.461206396,
          798741.461206396,
          798741.461206396,
          798741.461206396,
          798741.461206396,
          798741.461206396,
          798741.461206396,
          798741.461206396,
          366493.575861689,
          267398.121536499
         ],
         "yaxis": "y"
        },
        {
         "hovertemplate": "known_as=Tokemac<br>x=%{x}<br>current_locked=%{y}<extra></extra>",
         "legendgroup": "Tokemac",
         "line": {
          "color": "#636efa",
          "dash": "solid"
         },
         "mode": "lines",
         "name": "Tokemac",
         "showlegend": true,
         "type": "scattergl",
         "x": [
          "2024-03-06",
          "2024-02-28",
          "2024-02-21",
          "2024-02-14",
          "2024-02-07",
          "2024-01-31",
          "2024-01-24",
          "2024-01-17",
          "2024-01-10",
          "2024-01-03",
          "2023-12-27",
          "2023-12-20",
          "2023-12-13",
          "2023-12-06",
          "2023-11-29",
          "2023-11-22",
          "2023-11-15",
          "2023-11-08",
          "2023-11-01",
          "2023-10-25",
          "2023-10-18",
          "2023-10-11",
          "2023-10-04",
          "2023-09-27",
          "2023-09-20",
          "2023-09-13",
          "2023-09-06",
          "2023-08-30",
          "2023-08-23",
          "2023-08-16",
          "2023-08-09",
          "2023-08-02",
          "2023-07-26",
          "2023-07-19",
          "2023-07-12",
          "2023-07-05",
          "2023-06-28",
          "2023-06-21",
          "2023-06-14",
          "2023-06-07",
          "2023-05-31",
          "2023-05-24",
          "2023-05-17",
          "2023-05-10",
          "2023-05-03",
          "2023-04-26",
          "2023-04-19",
          "2023-04-12",
          "2023-04-05",
          "2023-03-29",
          "2023-03-22",
          "2023-03-15",
          "2023-03-08",
          "2023-03-01",
          "2023-02-22",
          "2023-02-15",
          "2023-02-08",
          "2023-02-01",
          "2023-01-25",
          "2023-01-18",
          "2023-01-11",
          "2023-01-04",
          "2022-12-28",
          "2022-12-21",
          "2022-12-14",
          "2022-12-07",
          "2022-11-30",
          "2022-11-23",
          "2022-11-16",
          "2022-11-09",
          "2022-11-02",
          "2022-10-26",
          "2022-10-19",
          "2022-10-12",
          "2022-10-05",
          "2022-09-28",
          "2022-09-21",
          "2022-09-14",
          "2022-09-07",
          "2022-08-31",
          "2022-08-24",
          "2022-08-17",
          "2022-08-10",
          "2022-08-03",
          "2022-07-27",
          "2022-07-20",
          "2022-07-13",
          "2022-07-06",
          "2022-06-29",
          "2022-06-22",
          "2022-06-15",
          "2022-06-08",
          "2022-06-01",
          "2022-05-25",
          "2022-05-18",
          "2022-05-11",
          "2022-05-04",
          "2022-04-27",
          "2022-04-20",
          "2022-04-13",
          "2022-04-06",
          "2022-03-30"
         ],
         "xaxis": "x",
         "y": [
          15672.256778739,
          42384.551327659,
          42384.551327659,
          59669.820169171,
          59669.820169171,
          146052.613467169,
          146052.613467169,
          190619.09123620798,
          190619.09123620798,
          204386.108565023,
          204386.108565023,
          208976.731766882,
          208976.731766882,
          215933.20387083298,
          226370.700231101,
          243081.37628936197,
          243081.37628936197,
          243081.376289362,
          243081.376289362,
          243081.37628936197,
          243081.37628936197,
          243081.37628936197,
          243081.37628936197,
          243081.37628936197,
          243081.37628936197,
          243081.376289362,
          243081.376289362,
          243081.376289362,
          243081.376289362,
          243081.376289362,
          243081.37628936197,
          243081.37628936197,
          243081.37628936197,
          243081.376289362,
          243081.376289362,
          243081.37628936197,
          243081.37628936197,
          243081.37628936197,
          243081.37628936197,
          243081.37628936197,
          243081.37628936197,
          243081.376289362,
          243081.376289362,
          243081.376289362,
          243081.376289362,
          243081.376289362,
          243081.37628936197,
          243081.37628936197,
          243081.37628936197,
          218913.47090564,
          243081.376289362,
          243081.37628936197,
          243081.37628936197,
          243081.37628936197,
          243081.37628936197,
          228970.114792341,
          243081.37628936197,
          236352.23624217798,
          243081.376289362,
          243081.376289362,
          243081.376289362,
          243081.37628936098,
          243081.37628936098,
          243081.376289361,
          243081.376289361,
          243081.37628936098,
          243081.376289362,
          225796.10744785,
          243081.376289362,
          176238.416503208,
          240070.384332234,
          212626.160017343,
          201946.09517583202,
          201298.930669242,
          200594.939629988,
          199702.204976506,
          199702.204976506,
          198207.99108656798,
          198207.99108656798,
          195390.995996174,
          193510.936219638,
          190966.54705444002,
          188580.75168842,
          188580.75168842,
          183384.739462754,
          183384.739462754,
          180911.93083461298,
          177900.93887748598,
          174469.742221976,
          168079.029446935,
          162053.880439005,
          158355.991890628,
          158355.991890628,
          152893.733676616,
          142456.237316348,
          128562.556348481,
          114770.359346278,
          114770.359346278,
          92988.249328575,
          92988.249328575,
          80898.992712729,
          61359.159200885
         ],
         "yaxis": "y"
        },
        {
         "hovertemplate": "known_as=Origin<br>x=%{x}<br>current_locked=%{y}<extra></extra>",
         "legendgroup": "Origin",
         "line": {
          "color": "#EF553B",
          "dash": "solid"
         },
         "mode": "lines",
         "name": "Origin",
         "showlegend": true,
         "type": "scattergl",
         "x": [
          "2024-02-28",
          "2024-02-21",
          "2024-02-14",
          "2024-02-07",
          "2024-01-31",
          "2024-01-24",
          "2024-01-17",
          "2024-01-10",
          "2024-01-03",
          "2023-12-27",
          "2023-12-20",
          "2023-12-13",
          "2023-12-06",
          "2023-11-29",
          "2023-11-22",
          "2023-11-15",
          "2023-11-08",
          "2023-11-01",
          "2023-10-25",
          "2023-10-18",
          "2023-10-11",
          "2023-10-04",
          "2023-09-27",
          "2023-09-20",
          "2023-09-13",
          "2023-09-06",
          "2023-08-30",
          "2023-08-23",
          "2023-08-16",
          "2023-08-09",
          "2023-08-02",
          "2023-07-26",
          "2023-07-19",
          "2023-07-12",
          "2023-07-05",
          "2023-06-28",
          "2023-06-21",
          "2023-06-14",
          "2023-06-07",
          "2023-05-31",
          "2023-05-24",
          "2023-05-17",
          "2023-05-10",
          "2023-05-03",
          "2023-04-26",
          "2023-04-19",
          "2023-04-12",
          "2023-04-05",
          "2023-03-29",
          "2023-03-22",
          "2023-03-15",
          "2023-03-08",
          "2023-03-01",
          "2023-02-22",
          "2023-02-15",
          "2023-02-08",
          "2023-02-01",
          "2023-01-25",
          "2023-01-18",
          "2023-01-11",
          "2023-01-04",
          "2022-12-28",
          "2022-12-21",
          "2022-12-14",
          "2022-12-07",
          "2022-11-30",
          "2022-11-23",
          "2022-11-16",
          "2022-11-09",
          "2022-11-02",
          "2022-10-26",
          "2022-10-19",
          "2022-10-12",
          "2022-10-05",
          "2022-09-28",
          "2022-09-21",
          "2022-09-14",
          "2022-09-07",
          "2022-08-31",
          "2022-08-24",
          "2022-08-17",
          "2022-08-10",
          "2022-08-03",
          "2022-07-27",
          "2022-07-20",
          "2022-06-29",
          "2022-06-22",
          "2022-06-15",
          "2022-06-08",
          "2022-06-01",
          "2022-05-25",
          "2022-05-18",
          "2022-05-11",
          "2022-05-04",
          "2022-04-27",
          "2022-04-20",
          "2022-04-13",
          "2022-04-06",
          "2022-03-30",
          "2022-03-23",
          "2022-03-16"
         ],
         "xaxis": "x",
         "y": [
          411.663725542,
          28302.421975057,
          44533.497448667,
          296818.956980349,
          296818.956980349,
          296818.956980349,
          296818.956980349,
          296818.956980349,
          296818.956980349,
          296818.956980349,
          296818.956980349,
          344140.38427021,
          344140.38427021,
          442096.693654668,
          442096.693654668,
          442096.693654668,
          441685.029929126,
          439164.920611115,
          439164.920611115,
          439164.920611115,
          439164.920611115,
          439164.920611115,
          439164.920611115,
          439164.920611115,
          439164.920611115,
          439164.920611115,
          439164.920611115,
          391843.493321254,
          439164.920611115,
          341208.611226657,
          382518.12175194797,
          400859.79653413896,
          439164.920611116,
          413794.271679612,
          397563.19620600203,
          397563.19620600296,
          397563.19620600296,
          397563.19620600296,
          397563.19620600296,
          397563.19620600296,
          397563.19620600296,
          413059.784500492,
          413059.784500492,
          413059.784500492,
          365738.35721063096,
          365738.35721063096,
          324428.84668534,
          306087.171903149,
          267782.04782617197,
          267782.04782617197,
          267782.04782617197,
          233207.22538171598,
          233207.22538171598,
          233207.22538171598,
          233207.22538171598,
          233207.22538171598,
          233207.22538171598,
          222943.89920256898,
          222943.89920256898,
          222943.89920256898,
          222943.89920256898,
          222943.89920256898,
          222943.89920256898,
          222943.89920256898,
          222943.89920256898,
          222943.89920256898,
          222943.89920256898,
          5233.262115342,
          5233.262115342,
          222943.89920256898,
          222943.89920256898,
          222943.89920256898,
          222943.89920256898,
          217710.637087227,
          217710.637087227,
          217710.637087227,
          217710.637087227,
          217710.637087227,
          217710.637087227,
          217710.637087227,
          217710.637087227,
          217710.637087227,
          217710.637087227,
          217710.637087227,
          217710.637087227,
          217710.637087227,
          217710.637087227,
          217710.637087227,
          217710.637087227,
          217710.637087227,
          217710.637087227,
          217710.637087227,
          217710.637087227,
          217710.637087227,
          217710.637087227,
          217710.637087227,
          217710.637087227,
          217710.637087227,
          217710.637087227,
          217710.637087227,
          217710.637087227
         ],
         "yaxis": "y"
        },
        {
         "hovertemplate": "known_as=JPEGd<br>x=%{x}<br>current_locked=%{y}<extra></extra>",
         "legendgroup": "JPEGd",
         "line": {
          "color": "#00cc96",
          "dash": "solid"
         },
         "mode": "lines",
         "name": "JPEGd",
         "showlegend": true,
         "type": "scattergl",
         "x": [
          "2024-02-21",
          "2024-02-14",
          "2024-02-07",
          "2024-01-31",
          "2024-01-24",
          "2024-01-17",
          "2024-01-10",
          "2024-01-03",
          "2023-12-27",
          "2023-12-20",
          "2023-12-13",
          "2023-12-06",
          "2023-11-29",
          "2023-11-22",
          "2023-11-15",
          "2023-11-08",
          "2023-11-01",
          "2023-10-25",
          "2023-10-18",
          "2023-10-11",
          "2023-10-04",
          "2023-09-27",
          "2023-09-20",
          "2023-09-13",
          "2023-09-06",
          "2023-08-30",
          "2023-08-23",
          "2023-08-16",
          "2023-08-09",
          "2023-08-02",
          "2023-07-26",
          "2023-07-19",
          "2023-07-12",
          "2023-07-05",
          "2023-06-28",
          "2023-06-21",
          "2023-06-14",
          "2023-06-07",
          "2023-05-31",
          "2023-05-24",
          "2023-05-17",
          "2023-05-10",
          "2023-05-03",
          "2023-04-26",
          "2023-04-19",
          "2023-04-12",
          "2023-04-05",
          "2023-03-29",
          "2023-03-22",
          "2023-03-15",
          "2023-03-08",
          "2023-03-01",
          "2023-02-22",
          "2023-02-15",
          "2023-02-08",
          "2023-02-01",
          "2023-01-25",
          "2023-01-18",
          "2023-01-11",
          "2023-01-04",
          "2022-12-28",
          "2022-12-21",
          "2022-12-14",
          "2022-12-07",
          "2022-11-30",
          "2022-11-23",
          "2022-11-16",
          "2022-11-09",
          "2022-11-02",
          "2022-10-26",
          "2022-10-19",
          "2022-10-12",
          "2022-10-05",
          "2022-09-28",
          "2022-09-21",
          "2022-09-14",
          "2022-09-07",
          "2022-08-31",
          "2022-08-24",
          "2022-08-17",
          "2022-08-10",
          "2022-08-03",
          "2022-07-27",
          "2022-07-20",
          "2022-07-13",
          "2022-07-06",
          "2022-06-29",
          "2022-06-22",
          "2022-06-15",
          "2022-06-08",
          "2022-06-01",
          "2022-05-25",
          "2022-05-18",
          "2022-05-11"
         ],
         "xaxis": "x",
         "y": [
          43045.947327384,
          43045.947327384,
          78810.48330527899,
          159730.065398788,
          286207.185253076,
          388039.898072728,
          474780.507097035,
          487872.66444496904,
          1025682.087973076,
          1025682.087973076,
          1027181.9078956271,
          1027181.9078956271,
          1512922.5759189029,
          1512922.5759189029,
          1512922.5759189029,
          1576990.870592541,
          1576990.870592541,
          1576990.870592541,
          1576990.870592541,
          1576990.870592541,
          1576990.8705925401,
          1575494.0678629552,
          1572341.330758427,
          1562401.910515021,
          1562401.910515021,
          1562401.910515021,
          1560902.09059247,
          1562401.910515021,
          1347626.650616042,
          1444412.559519947,
          1562401.910515021,
          1498333.6158413829,
          1455287.6685139989,
          1498333.6158413829,
          1462569.079863488,
          1417414.033747874,
          1326599.581730968,
          1267161.2189252581,
          1207172.647590224,
          1264008.48182073,
          1264008.48182073,
          1264008.48182073,
          1264008.48182073,
          1262508.661898179,
          1262508.661898179,
          1165722.752994274,
          1165722.752994274,
          1165722.752994274,
          1165722.752994274,
          1122676.80566689,
          1122676.80566689,
          1086912.269688995,
          1051249.6018516142,
          1010352.0545672571,
          986752.753982512,
          939573.4312884889,
          484773.165946641,
          484773.165946641,
          939573.431288489,
          939573.431288489,
          668608.023164192,
          939573.431288489,
          821584.080293415,
          821584.080293415,
          939573.431288489,
          939573.431288489,
          939573.431288489,
          939573.431288489,
          939573.431288489,
          939573.431288489,
          939573.431288489,
          926764.1826474781,
          843755.0244612191,
          926764.1826474781,
          471963.91730563,
          926764.1826474781,
          926764.1826474781,
          655798.774523181,
          926764.182647478,
          926764.182647478,
          808774.831652404,
          808774.831652404,
          808774.831652404,
          808774.831652404,
          808774.831652404,
          808774.831652404,
          808774.831652404,
          808774.831652404,
          808774.831652404,
          725765.6734661451,
          725765.6734661451,
          270965.408124297,
          270965.408124297,
          270965.408124297
         ],
         "yaxis": "y"
        },
        {
         "hovertemplate": "known_as=Silo<br>x=%{x}<br>current_locked=%{y}<extra></extra>",
         "legendgroup": "Silo",
         "line": {
          "color": "#ab63fa",
          "dash": "solid"
         },
         "mode": "lines",
         "name": "Silo",
         "showlegend": true,
         "type": "scattergl",
         "x": [
          "2024-02-14",
          "2024-02-07",
          "2024-01-31",
          "2024-01-24",
          "2024-01-17",
          "2024-01-10",
          "2024-01-03",
          "2023-12-27",
          "2023-12-20",
          "2023-12-13",
          "2023-12-06",
          "2023-11-29",
          "2023-11-22",
          "2023-11-15",
          "2023-11-08",
          "2023-11-01",
          "2023-10-25",
          "2023-10-18",
          "2023-10-11",
          "2023-10-04",
          "2023-09-27",
          "2023-09-20",
          "2023-09-13",
          "2023-09-06",
          "2023-08-30",
          "2023-08-23",
          "2023-08-16",
          "2023-08-09",
          "2023-08-02",
          "2023-07-26",
          "2023-07-19",
          "2023-07-12",
          "2023-07-05",
          "2023-06-28",
          "2023-06-21",
          "2023-06-14",
          "2023-06-07",
          "2023-05-31",
          "2023-05-24",
          "2023-05-17",
          "2023-05-10",
          "2023-05-03",
          "2023-04-26",
          "2023-04-19",
          "2023-04-12",
          "2023-04-05",
          "2023-03-29",
          "2023-03-22",
          "2023-03-15",
          "2023-03-08",
          "2023-03-01",
          "2023-02-22",
          "2023-02-15",
          "2023-02-08",
          "2023-02-01",
          "2023-01-25",
          "2023-01-18",
          "2023-01-11",
          "2023-01-04",
          "2022-12-28",
          "2022-12-21",
          "2022-12-14",
          "2022-12-07",
          "2022-11-30",
          "2022-11-23",
          "2022-11-16",
          "2022-11-09",
          "2022-11-02",
          "2022-10-26",
          "2022-10-19",
          "2022-10-12",
          "2022-10-05",
          "2022-09-28",
          "2022-09-21",
          "2022-09-14",
          "2022-09-07",
          "2022-08-31",
          "2022-08-24",
          "2022-08-17",
          "2022-08-10",
          "2022-08-03",
          "2022-07-27",
          "2022-07-20",
          "2022-07-13",
          "2022-07-06",
          "2022-06-29",
          "2022-06-22",
          "2022-06-15",
          "2022-06-08",
          "2022-06-01",
          "2022-05-25",
          "2022-05-18",
          "2022-05-11",
          "2022-05-04",
          "2022-04-27",
          "2022-04-20",
          "2022-04-13",
          "2022-04-06",
          "2022-03-30",
          "2022-03-23",
          "2022-03-16"
         ],
         "xaxis": "x",
         "y": [
          9384.732551229,
          9384.732551229,
          109596.77728719999,
          259596.7772872,
          259596.7772872,
          259596.7772872,
          259596.7772872,
          259596.7772872,
          259596.7772872,
          259596.7772872,
          259596.7772872,
          259596.7772872,
          259596.7772872,
          259596.7772872,
          259596.7772872,
          259596.7772872,
          250212.044735971,
          259596.7772872,
          259596.77728719998,
          259596.7772872,
          259596.7772872,
          259596.7772872,
          259596.7772872,
          259596.7772872,
          259596.7772872,
          259596.7772872,
          259596.7772872,
          259596.7772872,
          259596.7772872,
          259596.7772872,
          259596.7772872,
          259596.7772872,
          259596.7772872,
          259596.7772872,
          259596.77728719998,
          259596.7772872,
          259596.7772872,
          259596.7772872,
          259596.7772872,
          259596.7772872,
          259596.7772872,
          259596.7772872,
          259596.7772872,
          259596.7772872,
          259596.7772872,
          259596.7772872,
          259596.7772872,
          259596.7772872,
          259596.7772872,
          259596.7772872,
          259596.77728719998,
          259596.7772872,
          259596.7772872,
          259596.7772872,
          259596.7772872,
          259596.7772872,
          259596.7772872,
          259596.7772872,
          259596.7772872,
          259596.7772872,
          259596.7772872,
          259596.7772872,
          259596.7772872,
          259596.7772872,
          259596.7772872,
          259596.7772872,
          259596.77728719998,
          259596.7772872,
          259596.7772872,
          259596.7772872,
          259596.7772872,
          259596.7772872,
          259596.7772872,
          259596.7772872,
          259596.7772872,
          259596.7772872,
          259596.7772872,
          259596.7772872,
          259596.7772872,
          259596.7772872,
          259596.7772872,
          250212.044735971,
          153881.565890172,
          9384.732551228,
          9384.732551228,
          259596.777287199,
          259596.777287199,
          259596.777287199,
          259596.777287199,
          259596.777287199,
          259596.777287199,
          259596.777287199,
          259596.777287199,
          259596.777287199,
          259596.777287199,
          259596.777287199,
          259596.777287199,
          259596.777287199,
          255715.211397027,
          250212.044735971,
          250212.044735971
         ],
         "yaxis": "y"
        },
        {
         "hovertemplate": "known_as=Alchemix<br>x=%{x}<br>current_locked=%{y}<extra></extra>",
         "legendgroup": "Alchemix",
         "line": {
          "color": "#FFA15A",
          "dash": "solid"
         },
         "mode": "lines",
         "name": "Alchemix",
         "showlegend": true,
         "type": "scattergl",
         "x": [
          "2024-01-31",
          "2024-01-24",
          "2024-01-17",
          "2024-01-10",
          "2024-01-03",
          "2023-12-27",
          "2023-12-20",
          "2023-12-13",
          "2023-12-06",
          "2023-11-29",
          "2023-11-22",
          "2023-11-15",
          "2023-11-08",
          "2023-11-01",
          "2023-10-25",
          "2023-10-18",
          "2023-10-11",
          "2023-10-04",
          "2023-09-27",
          "2023-09-20",
          "2023-09-13",
          "2023-09-06",
          "2023-08-30",
          "2023-08-23",
          "2023-08-16",
          "2023-08-09",
          "2023-08-02",
          "2023-07-26",
          "2023-07-19",
          "2023-07-12",
          "2023-07-05",
          "2023-06-28",
          "2023-06-21",
          "2023-06-14",
          "2023-06-07",
          "2023-05-31",
          "2023-05-24",
          "2023-05-17",
          "2023-05-10",
          "2023-05-03",
          "2023-04-26",
          "2023-04-19",
          "2023-04-12",
          "2023-04-05",
          "2023-03-29",
          "2023-03-22",
          "2023-03-15",
          "2023-03-08",
          "2023-03-01",
          "2023-02-22",
          "2023-02-15",
          "2023-02-08",
          "2023-02-01",
          "2023-01-25",
          "2023-01-18",
          "2023-01-11",
          "2023-01-04",
          "2022-12-28",
          "2022-12-21",
          "2022-12-14",
          "2022-12-07",
          "2022-11-30",
          "2022-11-23",
          "2022-11-16",
          "2022-11-09",
          "2022-11-02",
          "2022-10-26",
          "2022-10-19",
          "2022-10-12",
          "2022-10-05",
          "2022-09-28",
          "2022-09-21",
          "2022-09-14",
          "2022-09-07",
          "2022-08-31",
          "2022-08-24",
          "2022-08-17",
          "2022-08-10",
          "2022-08-03",
          "2022-07-27",
          "2022-07-20",
          "2022-07-13",
          "2022-07-06",
          "2022-06-29",
          "2022-06-22",
          "2022-06-15",
          "2022-06-08",
          "2022-06-01",
          "2022-05-25",
          "2022-05-18",
          "2022-05-11",
          "2022-05-04",
          "2022-04-27",
          "2022-04-20",
          "2022-04-13",
          "2022-04-06",
          "2022-03-30",
          "2022-03-23",
          "2022-03-16"
         ],
         "xaxis": "x",
         "y": [
          2000,
          245062.625926783,
          245062.625926783,
          284106.996177824,
          284106.996177824,
          284106.996177824,
          284106.996177824,
          284106.996177824,
          284106.996177824,
          305250.392877606,
          305250.392877606,
          345501.69119367294,
          345501.69119367294,
          388636.605532325,
          388636.605532325,
          388636.605532325,
          388636.605532325,
          388636.605532325,
          388636.605532325,
          351092.23528128397,
          357758.838691613,
          357758.838691613,
          388636.605532324,
          388636.605532324,
          388636.605532324,
          388636.605532324,
          388636.605532324,
          388636.605532324,
          388636.605532324,
          345501.691193672,
          345501.691193672,
          372496.504609484,
          386636.605532324,
          382636.605532324,
          383636.605532324,
          385136.605532324,
          381136.605532324,
          385136.605532324,
          363842.877871561,
          374442.877871561,
          385136.605532324,
          385136.605532324,
          385136.605532324,
          344885.307216257,
          371184.368697108,
          385136.605532324,
          385136.605532324,
          383686.60553232394,
          383686.60553232394,
          148623.97960554098,
          382686.605532324,
          382686.605532324,
          380020.00212199497,
          380020.00212199497,
          376020.00212199497,
          369420.00212199497,
          369420.00212199497,
          352776.605422213,
          365155.00212199497,
          369420.00212199497,
          354061.492121995,
          344145.255286779,
          354061.492121995,
          349861.49212199496,
          349861.49212199496,
          345861.49212199496,
          110798.866195212,
          342861.49212199496,
          342861.49212199496,
          338861.49212199496,
          333277.452942047,
          334861.492121995,
          334861.492121995,
          330361.492121995,
          317983.09542221297,
          326096.49212199595,
          315155.940641145,
          322060.492121996,
          312144.25528678,
          300715.67870618496,
          284575.577783345,
          300715.67870618496,
          300715.67870618496,
          300715.678706185,
          300715.678706185,
          300715.678706185,
          300715.678706185,
          295131.63952623704,
          284437.911865474,
          284437.911865474,
          284437.911865474,
          272059.51516569103,
          272059.51516569103,
          261118.96368484,
          261118.96368484,
          251202.72684962302,
          251202.72684962302,
          235062.62592678302,
          235062.62592678302
         ],
         "yaxis": "y"
        },
        {
         "hovertemplate": "known_as=Redacted?<br>x=%{x}<br>current_locked=%{y}<extra></extra>",
         "legendgroup": "Redacted?",
         "line": {
          "color": "#19d3f3",
          "dash": "solid"
         },
         "mode": "lines",
         "name": "Redacted?",
         "showlegend": true,
         "type": "scattergl",
         "x": [
          "2024-01-10",
          "2024-01-03",
          "2023-12-27",
          "2023-12-20",
          "2023-12-13",
          "2023-12-06",
          "2023-11-29",
          "2023-11-22",
          "2023-11-15",
          "2023-11-08",
          "2023-11-01",
          "2023-10-25",
          "2023-10-18",
          "2023-10-11",
          "2023-10-04",
          "2023-09-27",
          "2023-09-20",
          "2023-09-13",
          "2023-09-06",
          "2023-08-30",
          "2023-08-23",
          "2023-08-16",
          "2023-08-09",
          "2023-08-02",
          "2023-07-26",
          "2023-07-19",
          "2023-07-12",
          "2023-07-05",
          "2023-06-28",
          "2023-06-21",
          "2023-06-14",
          "2023-06-07",
          "2023-05-31",
          "2023-05-24",
          "2023-05-17",
          "2023-05-10",
          "2023-05-03",
          "2023-04-26",
          "2023-04-19",
          "2023-04-12",
          "2023-04-05",
          "2023-03-29",
          "2023-03-22",
          "2023-03-15",
          "2023-03-08",
          "2023-03-01",
          "2023-02-22",
          "2023-02-15",
          "2023-02-08",
          "2023-02-01",
          "2023-01-25",
          "2023-01-18",
          "2023-01-11",
          "2023-01-04",
          "2022-12-28",
          "2022-12-21",
          "2022-12-14",
          "2022-12-07",
          "2022-11-30",
          "2022-11-23",
          "2022-11-16",
          "2022-11-09",
          "2022-11-02",
          "2022-10-26",
          "2022-10-19",
          "2022-10-12",
          "2022-10-05",
          "2022-09-28",
          "2022-09-21",
          "2022-09-14",
          "2022-09-07",
          "2022-08-31",
          "2022-08-24",
          "2022-08-17",
          "2022-08-10",
          "2022-08-03",
          "2022-07-27",
          "2022-07-20",
          "2022-07-13",
          "2022-07-06",
          "2022-06-29",
          "2022-06-22",
          "2022-06-15",
          "2022-06-08",
          "2022-06-01",
          "2022-05-25",
          "2022-05-18",
          "2022-05-11",
          "2022-05-04",
          "2022-04-27",
          "2022-04-20",
          "2022-04-13",
          "2022-04-06",
          "2022-03-30",
          "2022-03-23",
          "2022-03-16",
          "2022-03-09"
         ],
         "xaxis": "x",
         "y": [
          1149046.08024014,
          1149046.08024014,
          1149046.08024014,
          1149046.08024014,
          1149046.08024014,
          1149046.08024014,
          1149046.08024014,
          1149046.08024014,
          1149046.08024014,
          1149046.08024014,
          1149046.08024014,
          1149046.08024014,
          1149046.08024014,
          1149046.08024014,
          1149046.08024014,
          1149046.08024014,
          1149046.08024014,
          1149046.08024014,
          1149046.08024014,
          1149046.08024014,
          1149046.08024014,
          1149046.08024014,
          1149046.08024014,
          1149046.08024014,
          1149046.08024014,
          1149046.08024014,
          1149046.08024014,
          1149046.08024014,
          1149046.08024014,
          1149046.08024014,
          1149046.08024014,
          1149046.08024014,
          1149046.08024014,
          1149046.08024014,
          1149046.08024014,
          1149046.08024014,
          1149046.08024014,
          1149046.08024014,
          1149046.08024014,
          1149046.08024014,
          1149046.08024014,
          1149046.08024014,
          1149046.08024014,
          1149046.08024014,
          1149046.08024014,
          1149046.08024014,
          1149046.08024014,
          1149046.08024014,
          1149046.08024014,
          1149046.08024014,
          1149046.08024014,
          1149046.08024014,
          1149046.08024014,
          1149046.08024014,
          1149046.08024014,
          1149046.08024014,
          1149046.08024014,
          1149046.08024014,
          1149046.08024014,
          1149046.08024014,
          1149046.08024014,
          1149046.08024014,
          1149046.08024014,
          1149046.08024014,
          84120.474261565,
          1149046.0802401449,
          1149046.0802401449,
          1149046.0802401449,
          1149046.0802401449,
          1149046.0802401449,
          1149046.0802401449,
          1149046.0802401449,
          1149046.0802401449,
          1149046.0802401449,
          1149046.0802401449,
          1149046.0802401449,
          1149046.0802401449,
          1149046.0802401449,
          1149046.0802401449,
          1149046.0802401449,
          1064925.60597858,
          1064925.60597858,
          1064925.60597858,
          1064925.60597858,
          1064925.60597858,
          1064925.60597858,
          1064925.60597858,
          1064925.60597858,
          1064925.60597858,
          1064925.60597858,
          1064925.60597858,
          1064925.60597858,
          1064925.60597858,
          1064925.60597858,
          1064925.60597858,
          1064925.60597858,
          1064925.60597858
         ],
         "yaxis": "y"
        },
        {
         "hovertemplate": "known_as=Mochi Inu<br>x=%{x}<br>current_locked=%{y}<extra></extra>",
         "legendgroup": "Mochi Inu",
         "line": {
          "color": "#FF6692",
          "dash": "solid"
         },
         "mode": "lines",
         "name": "Mochi Inu",
         "showlegend": true,
         "type": "scattergl",
         "x": [
          "2024-01-10",
          "2024-01-03",
          "2023-12-27",
          "2023-12-20",
          "2023-12-13",
          "2023-12-06",
          "2023-11-29",
          "2023-11-22",
          "2023-11-15",
          "2023-11-08",
          "2023-11-01",
          "2023-10-25",
          "2023-10-18",
          "2023-10-11",
          "2023-10-04",
          "2023-09-27",
          "2023-09-20",
          "2023-09-13",
          "2023-09-06",
          "2023-08-30",
          "2023-08-23",
          "2023-08-16",
          "2023-08-09",
          "2023-08-02",
          "2023-07-26",
          "2023-07-19",
          "2023-07-12",
          "2023-07-05",
          "2023-06-28",
          "2023-06-21",
          "2023-06-14",
          "2023-06-07",
          "2023-05-31",
          "2023-05-24",
          "2023-05-17",
          "2023-05-10",
          "2023-05-03",
          "2023-04-26",
          "2023-04-19",
          "2023-04-12",
          "2023-04-05",
          "2023-03-29",
          "2023-03-22",
          "2023-03-15",
          "2023-03-08",
          "2023-03-01",
          "2023-02-22",
          "2023-02-15",
          "2023-02-01",
          "2023-01-25",
          "2023-01-18",
          "2023-01-11",
          "2023-01-04",
          "2022-12-28",
          "2022-12-21",
          "2022-12-14",
          "2022-12-07",
          "2022-11-30",
          "2022-11-23",
          "2022-11-16",
          "2022-11-09",
          "2022-11-02",
          "2022-10-26",
          "2022-10-19",
          "2022-10-12",
          "2022-10-05",
          "2022-09-28",
          "2022-09-21",
          "2022-09-14",
          "2022-09-07",
          "2022-08-31",
          "2022-08-24",
          "2022-08-17",
          "2022-08-10",
          "2022-08-03",
          "2022-07-27",
          "2022-07-20",
          "2022-07-13",
          "2022-07-06",
          "2022-06-29",
          "2022-06-22",
          "2022-06-15",
          "2022-06-08",
          "2022-06-01",
          "2022-05-25",
          "2022-05-18",
          "2022-05-11",
          "2022-05-04",
          "2022-04-27",
          "2022-04-20",
          "2022-04-13",
          "2022-04-06",
          "2022-03-30",
          "2022-03-23",
          "2022-03-16",
          "2022-03-09"
         ],
         "xaxis": "x",
         "y": [
          1050285.17076654,
          1050285.17076654,
          1050285.17076654,
          1050285.17076654,
          1050285.17076654,
          1050285.17076654,
          1050285.17076654,
          1050285.17076654,
          1050285.17076654,
          1050285.17076654,
          1050285.17076654,
          1050285.17076654,
          1050285.17076654,
          1050285.17076654,
          1050285.17076654,
          1050285.17076654,
          1050285.17076654,
          1050285.17076654,
          1050285.17076654,
          1050285.17076654,
          1050285.17076654,
          1050285.17076654,
          1050285.17076654,
          1050285.17076654,
          1050285.17076654,
          1050285.17076654,
          1050285.17076654,
          1050285.17076654,
          1050285.17076654,
          1050285.17076654,
          1050285.17076654,
          1050285.17076654,
          1050285.17076654,
          1050285.17076654,
          1050285.17076654,
          1050285.17076654,
          1050285.17076654,
          1050285.17076654,
          1050285.17076654,
          1050285.17076654,
          1050285.17076654,
          1050285.17076654,
          1050285.17076654,
          1050285.17076654,
          1050285.17076654,
          1050285.17076654,
          1050285.17076654,
          1050285.17076654,
          1050285.17076654,
          1050285.17076654,
          1050285.17076654,
          1050285.17076654,
          1050285.17076654,
          1050285.17076654,
          1050285.17076654,
          1050285.17076654,
          1050285.17076654,
          1050285.17076654,
          1050285.17076654,
          1050285.17076654,
          1050285.17076654,
          1050285.17076654,
          1050285.17076654,
          1050285.17076654,
          1050285.17076654,
          1050285.17076654,
          1050285.17076654,
          1050285.17076654,
          1050285.17076654,
          1050285.17076654,
          1050285.17076654,
          1050285.17076654,
          1050285.17076654,
          1050285.17076654,
          1050285.17076654,
          1050285.17076654,
          1050285.17076654,
          1050285.17076654,
          1050285.17076654,
          1050285.17076654,
          1050285.17076654,
          1050285.17076654,
          1050285.17076654,
          1050285.17076654,
          1050285.17076654,
          1050285.17076654,
          1050285.17076654,
          1050285.17076654,
          1050285.17076654,
          1050285.17076654,
          1050285.17076654,
          1050285.17076654,
          1050285.17076654,
          1050285.17076654,
          1050285.17076654,
          1050285.17076654
         ],
         "yaxis": "y"
        },
        {
         "hovertemplate": "known_as=CRV Founder<br>x=%{x}<br>current_locked=%{y}<extra></extra>",
         "legendgroup": "CRV Founder",
         "line": {
          "color": "#B6E880",
          "dash": "solid"
         },
         "mode": "lines",
         "name": "CRV Founder",
         "showlegend": true,
         "type": "scattergl",
         "x": [
          "2024-01-10",
          "2024-01-03",
          "2023-12-27",
          "2023-12-20",
          "2023-12-13",
          "2023-12-06",
          "2023-11-29",
          "2023-11-22",
          "2023-11-15",
          "2023-11-08",
          "2023-11-01",
          "2023-10-25",
          "2023-10-18",
          "2023-10-11",
          "2023-10-04",
          "2023-09-27",
          "2023-09-13",
          "2023-09-06",
          "2023-08-30",
          "2023-08-23",
          "2023-08-16",
          "2023-08-09",
          "2023-08-02",
          "2023-07-26",
          "2023-07-19",
          "2023-07-12",
          "2023-07-05",
          "2023-06-28",
          "2023-06-21",
          "2023-06-14",
          "2023-06-07",
          "2023-05-31",
          "2023-05-24",
          "2023-05-17",
          "2023-05-10",
          "2023-05-03",
          "2023-04-26",
          "2023-04-19",
          "2023-04-12",
          "2023-04-05",
          "2023-03-29",
          "2023-03-22",
          "2023-03-15",
          "2023-03-08",
          "2023-03-01",
          "2023-02-22",
          "2023-02-15",
          "2023-02-08",
          "2023-02-01",
          "2023-01-25",
          "2023-01-18",
          "2023-01-11",
          "2023-01-04",
          "2022-12-28",
          "2022-12-21",
          "2022-12-14",
          "2022-12-07",
          "2022-11-30",
          "2022-11-23",
          "2022-11-16",
          "2022-11-09",
          "2022-11-02",
          "2022-10-26",
          "2022-10-19",
          "2022-10-12",
          "2022-10-05",
          "2022-09-28",
          "2022-09-21",
          "2022-09-14",
          "2022-09-07",
          "2022-08-31",
          "2022-08-24",
          "2022-08-17",
          "2022-08-10",
          "2022-08-03",
          "2022-07-27",
          "2022-07-20",
          "2022-07-13",
          "2022-07-06",
          "2022-06-29",
          "2022-06-22",
          "2022-06-15",
          "2022-06-08",
          "2022-06-01",
          "2022-05-25",
          "2022-05-18",
          "2022-05-11",
          "2022-05-04",
          "2022-04-27",
          "2022-04-20",
          "2022-04-13",
          "2022-04-06",
          "2022-03-30",
          "2022-03-23",
          "2022-03-16",
          "2022-03-09"
         ],
         "xaxis": "x",
         "y": [
          232620.631948035,
          232620.631948035,
          232620.631948035,
          232620.631948035,
          232620.631948035,
          232620.631948035,
          232620.631948035,
          232620.631948035,
          232620.631948035,
          232620.631948035,
          232620.631948035,
          232620.631948035,
          232620.631948035,
          232620.631948035,
          232620.631948035,
          232620.631948035,
          232620.631948035,
          232620.631948035,
          232620.631948035,
          232620.631948035,
          232620.631948035,
          232620.631948035,
          232620.631948035,
          232620.631948035,
          232620.631948035,
          232620.631948035,
          232620.631948035,
          232620.631948035,
          232620.631948035,
          232620.631948035,
          232620.631948035,
          232620.631948035,
          232620.631948035,
          232620.631948035,
          232620.631948035,
          232620.631948035,
          232620.631948035,
          232620.631948035,
          232620.631948035,
          232620.631948035,
          232620.631948035,
          232620.631948035,
          232620.631948035,
          232620.631948035,
          232620.631948035,
          232620.631948035,
          232620.631948035,
          232620.631948035,
          232620.631948035,
          232620.631948035,
          232620.631948035,
          232620.631948035,
          232620.631948035,
          232620.631948035,
          232620.631948035,
          232620.631948035,
          232620.631948035,
          232620.631948035,
          232620.631948035,
          232620.631948035,
          232620.631948035,
          232620.631948035,
          232620.631948035,
          232620.631948035,
          232620.631948035,
          232620.631948035,
          232620.631948035,
          232620.631948035,
          232620.631948035,
          232620.631948035,
          232620.631948035,
          232620.631948035,
          232620.631948035,
          232620.631948035,
          232620.631948035,
          232620.631948035,
          232620.631948035,
          232620.631948035,
          232620.631948035,
          232620.631948035,
          232620.631948035,
          232620.631948035,
          232620.631948035,
          232620.631948035,
          232620.631948035,
          232620.631948035,
          232620.631948035,
          232620.631948035,
          232620.631948035,
          232620.631948035,
          232620.631948035,
          232620.631948035,
          232620.631948035,
          232620.631948035,
          232620.631948035,
          232620.631948035
         ],
         "yaxis": "y"
        },
        {
         "hovertemplate": "known_as=Celo<br>x=%{x}<br>current_locked=%{y}<extra></extra>",
         "legendgroup": "Celo",
         "line": {
          "color": "#FF97FF",
          "dash": "solid"
         },
         "mode": "lines",
         "name": "Celo",
         "showlegend": true,
         "type": "scattergl",
         "x": [
          "2023-11-15",
          "2023-11-08",
          "2023-11-01",
          "2023-10-25",
          "2023-10-18",
          "2023-10-11",
          "2023-10-04",
          "2023-09-27",
          "2023-09-20",
          "2023-09-13",
          "2023-09-06",
          "2023-08-30",
          "2023-08-23",
          "2023-08-16",
          "2023-08-09",
          "2023-08-02",
          "2023-07-26",
          "2023-07-19",
          "2023-07-12",
          "2023-07-05",
          "2023-06-28",
          "2023-06-21",
          "2023-06-14",
          "2023-06-07",
          "2023-05-31",
          "2023-05-24",
          "2023-05-17",
          "2023-05-10",
          "2023-05-03",
          "2023-04-26",
          "2023-04-19",
          "2023-04-12",
          "2023-04-05",
          "2023-03-29",
          "2023-03-22",
          "2023-03-15",
          "2023-03-08",
          "2023-03-01",
          "2023-02-22",
          "2023-02-15",
          "2023-02-08",
          "2023-02-01",
          "2023-01-25",
          "2023-01-18",
          "2023-01-11",
          "2023-01-04",
          "2022-12-28",
          "2022-12-21",
          "2022-11-30",
          "2022-11-23",
          "2022-11-16",
          "2022-11-09",
          "2022-11-02",
          "2022-10-26",
          "2022-10-19",
          "2022-10-12",
          "2022-10-05",
          "2022-09-28",
          "2022-09-21",
          "2022-09-14",
          "2022-09-07",
          "2022-08-31",
          "2022-08-24",
          "2022-08-17"
         ],
         "xaxis": "x",
         "y": [
          100746.71602486,
          100746.71602486,
          100746.71602486,
          100746.71602486,
          100746.71602486,
          100746.71602486,
          100746.71602486,
          100746.71602486,
          100746.71602486,
          100746.71602486,
          100746.71602486,
          100746.71602486,
          100746.71602486,
          100746.71602486,
          100746.71602486,
          100746.71602486,
          100746.71602486,
          100746.71602486,
          100746.71602486,
          100746.71602486,
          100746.71602486,
          100746.71602486,
          100746.71602486,
          100746.71602486,
          100746.71602486,
          100746.71602486,
          100746.71602486,
          100746.71602486,
          100746.71602486,
          100746.71602486,
          100746.71602486,
          100746.71602486,
          100746.71602486,
          100746.71602486,
          100746.71602486,
          100746.71602486,
          100746.71602486,
          100746.71602486,
          100746.71602486,
          100746.71602486,
          100746.71602486,
          100746.71602486,
          100746.71602486,
          100746.71602486,
          100746.71602486,
          100746.71602486,
          100746.71602486,
          100746.71602486,
          100746.71602486,
          100746.71602486,
          100746.71602486,
          100746.71602486,
          100746.71602486,
          100746.71602486,
          100746.71602486,
          100746.71602486,
          100746.71602486,
          100746.71602486,
          100746.71602486,
          100746.71602486,
          100746.71602486,
          100746.71602486,
          100746.71602486,
          100746.71602486
         ],
         "yaxis": "y"
        },
        {
         "hovertemplate": "known_as=Paladin<br>x=%{x}<br>current_locked=%{y}<extra></extra>",
         "legendgroup": "Paladin",
         "line": {
          "color": "#FECB52",
          "dash": "solid"
         },
         "mode": "lines",
         "name": "Paladin",
         "showlegend": true,
         "type": "scattergl",
         "x": [
          "2023-09-20",
          "2023-09-13",
          "2023-09-06",
          "2023-08-30",
          "2023-08-23",
          "2023-08-16",
          "2023-08-09",
          "2023-08-02",
          "2023-07-26",
          "2023-07-19",
          "2023-07-12",
          "2023-07-05",
          "2023-06-28",
          "2023-06-21",
          "2023-06-14",
          "2023-06-07",
          "2023-05-31",
          "2023-05-17",
          "2023-05-10",
          "2023-05-03",
          "2023-04-26",
          "2023-04-19",
          "2023-04-12",
          "2023-04-05",
          "2023-03-29",
          "2023-03-22",
          "2023-03-15",
          "2023-03-08",
          "2023-03-01",
          "2023-02-22",
          "2023-02-15",
          "2023-02-08",
          "2023-02-01",
          "2023-01-25",
          "2023-01-18",
          "2023-01-11",
          "2023-01-04",
          "2022-12-28",
          "2022-12-21"
         ],
         "xaxis": "x",
         "y": [
          8473.387477512,
          12996.161949143,
          12996.161949143,
          12996.161949143,
          12996.161949143,
          12996.161949143,
          12996.161949143,
          12996.161949143,
          12996.161949143,
          12996.161949143,
          12996.161949143,
          12996.161949143,
          12996.161949143,
          12996.161949143,
          12996.161949143,
          12996.161949143,
          4522.774471631,
          622.348198611,
          622.348198611,
          4522.774471631,
          4522.774471631,
          4522.774471631,
          4522.774471631,
          8348.132524263001,
          8348.132524263001,
          8348.132524263001,
          8348.132524263001,
          8348.132524263001,
          8348.132524263001,
          8348.132524263001,
          8348.132524263001,
          8348.132524263001,
          8348.132524263001,
          7725.784325652,
          7725.784325652,
          3825.358052632,
          3825.358052632,
          3825.358052632,
          3825.358052632
         ],
         "yaxis": "y"
        },
        {
         "hovertemplate": "known_as=Badger<br>x=%{x}<br>current_locked=%{y}<extra></extra>",
         "legendgroup": "Badger",
         "line": {
          "color": "#636efa",
          "dash": "solid"
         },
         "mode": "lines",
         "name": "Badger",
         "showlegend": true,
         "type": "scattergl",
         "x": [
          "2023-09-13",
          "2023-09-06",
          "2023-08-30",
          "2023-08-23",
          "2023-08-16",
          "2023-08-09",
          "2023-08-02",
          "2023-07-26",
          "2023-07-19",
          "2023-07-12",
          "2023-07-05",
          "2023-06-28",
          "2023-06-21",
          "2023-06-14",
          "2023-06-07",
          "2023-05-31",
          "2023-05-24",
          "2023-05-17",
          "2023-05-10",
          "2023-05-03",
          "2023-04-26",
          "2023-04-19",
          "2023-04-12",
          "2023-04-05",
          "2023-03-29",
          "2023-03-22",
          "2023-03-15",
          "2023-03-08",
          "2023-03-01",
          "2023-02-22",
          "2023-02-15",
          "2023-02-08",
          "2023-02-01",
          "2023-01-25",
          "2023-01-18",
          "2023-01-11",
          "2023-01-04",
          "2022-12-28",
          "2022-12-21",
          "2022-12-14",
          "2022-12-07",
          "2022-11-30",
          "2022-11-23",
          "2022-11-16",
          "2022-11-09",
          "2022-11-02",
          "2022-10-26",
          "2022-10-19",
          "2022-10-12",
          "2022-10-05",
          "2022-09-28",
          "2022-09-21",
          "2022-09-14",
          "2022-09-07",
          "2022-08-31",
          "2022-08-24",
          "2022-08-17",
          "2022-08-10",
          "2022-08-03",
          "2022-07-27",
          "2022-07-20",
          "2022-07-13",
          "2022-07-06",
          "2022-06-29",
          "2022-06-22",
          "2022-06-15",
          "2022-06-08",
          "2022-06-01",
          "2022-05-25",
          "2022-05-18",
          "2022-05-11",
          "2022-05-04",
          "2022-04-27",
          "2022-04-20",
          "2022-04-13",
          "2022-04-06",
          "2022-03-30",
          "2022-03-23",
          "2022-03-16"
         ],
         "xaxis": "x",
         "y": [
          130240.681389253,
          130240.681389253,
          264147.725923557,
          556024.083786478,
          567724.609973005,
          602709.94357265,
          631586.8759260031,
          885819.787880803,
          919053.8713783061,
          930992.6000339601,
          948380.522035059,
          1560420.308017426,
          1560420.308017426,
          2103487.248572847,
          2103487.248572847,
          2196792.114538318,
          2066551.4331490651,
          2198626.099267073,
          2082225.15039344,
          1873004.352912391,
          1861303.826725864,
          1826318.4931262191,
          1832603.9555077062,
          1592582.3343697202,
          1559348.2508722171,
          1547409.522216563,
          1544178.023379677,
          932138.2373973101,
          1011174.259217033,
          1135372.5482260091,
          1692989.1278367331,
          1794127.817432234,
          1821335.6761868491,
          1689261.010068841,
          1671754.9144081702,
          1589099.354026298,
          1589099.354026298,
          1645423.3687746972,
          1618378.936350818,
          1615941.51784831,
          1681999.977860304,
          1716181.27839705,
          1715309.105829055,
          1715309.105829055,
          1636273.0840093321,
          1909533.449111912,
          2180066.031870382,
          2551718.587549478,
          2539022.42021624,
          2544422.050729444,
          2544422.050729444,
          2544422.050729444,
          2544422.050729444,
          2488098.035981045,
          2545469.783402044,
          2533695.911087738,
          2473528.978285735,
          2459922.062703764,
          2446637.812107546,
          2446637.812107546,
          2462710.9777827337,
          1522185.383115757,
          733357.887625304,
          1823721.8410012862,
          1809210.1495799092,
          1803810.5190667051,
          1803810.5190667051,
          1803810.5190667051,
          1803810.5190667051,
          1803810.5190667051,
          1738320.8093347452,
          1738320.8093347452,
          1732429.282124754,
          1711854.897169979,
          1711854.897169979,
          1711854.897169979,
          1695781.731494791,
          1695781.731494791,
          1656460.06461605
         ],
         "yaxis": "y"
        },
        {
         "hovertemplate": "known_as=Olympus<br>x=%{x}<br>current_locked=%{y}<extra></extra>",
         "legendgroup": "Olympus",
         "line": {
          "color": "#EF553B",
          "dash": "solid"
         },
         "mode": "lines",
         "name": "Olympus",
         "showlegend": true,
         "type": "scattergl",
         "x": [
          "2023-06-21",
          "2023-06-14",
          "2023-06-07",
          "2023-05-31",
          "2023-05-24",
          "2023-05-17",
          "2023-05-10",
          "2023-05-03",
          "2023-04-26",
          "2023-04-19",
          "2023-04-12",
          "2023-04-05",
          "2023-03-29",
          "2023-03-22",
          "2023-03-15",
          "2023-03-08",
          "2023-03-01",
          "2023-02-22",
          "2023-02-15",
          "2023-02-08",
          "2023-02-01",
          "2023-01-25",
          "2023-01-18",
          "2022-11-23",
          "2022-11-16",
          "2022-11-09",
          "2022-11-02",
          "2022-10-26",
          "2022-10-19",
          "2022-10-12",
          "2022-10-05",
          "2022-09-28",
          "2022-09-21",
          "2022-09-14",
          "2022-09-07",
          "2022-08-31",
          "2022-08-24",
          "2022-08-17",
          "2022-08-10",
          "2022-08-03",
          "2022-07-27",
          "2022-07-20",
          "2022-07-13",
          "2022-07-06",
          "2022-06-29",
          "2022-06-22",
          "2022-06-15",
          "2022-06-08",
          "2022-06-01",
          "2022-05-25",
          "2022-05-18",
          "2022-05-11",
          "2022-05-04",
          "2022-04-27",
          "2022-04-20",
          "2022-04-13"
         ],
         "xaxis": "x",
         "y": [
          1382.741055295,
          1382.741055295,
          1382.741055295,
          1382.741055295,
          1382.741055295,
          1382.741055295,
          1382.741055295,
          915378.175401978,
          915378.175401978,
          915378.175401978,
          915378.175401978,
          915378.175401978,
          915378.175401978,
          915378.175401978,
          915378.175401978,
          915378.175401978,
          913995.434346683,
          913995.434346683,
          913995.434346683,
          913995.434346683,
          913995.434346683,
          913995.434346683,
          913995.434346683,
          869748.211056373,
          869748.211056373,
          869748.211056373,
          869748.211056373,
          869748.211056373,
          879168.277741361,
          879168.277741361,
          879168.277741361,
          879168.277741361,
          898522.3360762399,
          898522.3360762399,
          898522.3360762399,
          898522.3360762399,
          898522.3360762399,
          898522.3360762399,
          898522.3360762399,
          28774.125019867002,
          886741.684639783,
          886741.684639783,
          886741.684639783,
          886741.684639783,
          877321.617954795,
          877321.617954795,
          877321.617954795,
          877321.617954795,
          857967.559619916,
          857967.559619916,
          857967.559619916,
          857967.559619916,
          857967.559619916,
          857967.559619916,
          857967.559619916,
          857967.559619916
         ],
         "yaxis": "y"
        },
        {
         "hovertemplate": "known_as=Inverse DAO<br>x=%{x}<br>current_locked=%{y}<extra></extra>",
         "legendgroup": "Inverse DAO",
         "line": {
          "color": "#00cc96",
          "dash": "solid"
         },
         "mode": "lines",
         "name": "Inverse DAO",
         "showlegend": true,
         "type": "scattergl",
         "x": [
          "2023-03-22",
          "2023-03-15",
          "2023-03-08",
          "2023-03-01",
          "2023-02-22",
          "2023-02-15",
          "2023-02-08",
          "2023-02-01",
          "2023-01-25",
          "2023-01-18",
          "2023-01-11",
          "2023-01-04",
          "2022-12-28",
          "2022-12-21",
          "2022-12-14",
          "2022-12-07",
          "2022-11-30",
          "2022-11-23",
          "2022-11-16",
          "2022-11-09",
          "2022-11-02",
          "2022-10-26",
          "2022-10-19",
          "2022-10-12",
          "2022-10-05",
          "2022-09-28",
          "2022-09-21",
          "2022-09-14",
          "2022-09-07",
          "2022-08-31",
          "2022-08-24",
          "2022-08-17",
          "2022-08-10",
          "2022-08-03",
          "2022-07-27",
          "2022-07-20",
          "2022-07-13",
          "2022-07-06"
         ],
         "xaxis": "x",
         "y": [
          12449.241786034001,
          12449.241786034001,
          34209.851177801,
          34209.851177801,
          41604.695636115,
          41604.695636115,
          55271.884827102,
          55773.66726441,
          62601.969275072,
          62601.969275072,
          62601.969275072,
          62601.969275072,
          66697.133179096,
          66697.133179096,
          83036.370473578,
          83036.370473578,
          80038.844594666,
          80038.844594666,
          64326.241618933,
          64326.241618933,
          60817.270946565,
          60817.270946565,
          56885.815459297,
          56384.033021989,
          49555.731011327,
          49555.731011327,
          49555.731011327,
          49555.731011327,
          45460.567107302995,
          45460.567107302995,
          29121.329812821,
          29121.329812821,
          19669.613905699,
          19669.613905699,
          13621.607489664999,
          13621.607489664999,
          9735.733703719,
          9735.733703719
         ],
         "yaxis": "y"
        },
        {
         "hovertemplate": "known_as=BAO Finance<br>x=%{x}<br>current_locked=%{y}<extra></extra>",
         "legendgroup": "BAO Finance",
         "line": {
          "color": "#ab63fa",
          "dash": "solid"
         },
         "mode": "lines",
         "name": "BAO Finance",
         "showlegend": true,
         "type": "scattergl",
         "x": [
          "2022-12-21",
          "2022-12-14",
          "2022-12-07",
          "2022-11-30",
          "2022-11-23",
          "2022-11-16",
          "2022-11-09",
          "2022-11-02",
          "2022-10-26",
          "2022-10-19",
          "2022-10-12",
          "2022-10-05",
          "2022-09-28",
          "2022-09-21",
          "2022-09-14",
          "2022-09-07",
          "2022-08-31",
          "2022-08-10",
          "2022-08-03",
          "2022-07-27",
          "2022-07-20",
          "2022-07-13",
          "2022-07-06",
          "2022-06-29",
          "2022-06-22",
          "2022-06-15",
          "2022-06-08",
          "2022-06-01",
          "2022-05-25",
          "2022-05-18",
          "2022-05-11",
          "2022-05-04",
          "2022-04-27"
         ],
         "xaxis": "x",
         "y": [
          5017.787404590999,
          9272.724825557,
          9272.724825557,
          9272.724825557,
          9272.724825557,
          9272.724825557,
          9272.724825557,
          9272.724825557,
          9272.724825557,
          9272.724825557,
          9272.724825557,
          9272.724825557,
          9272.724825557,
          9272.724825557,
          9272.724825557,
          9272.724825557,
          4254.937420966,
          4254.937420966,
          4254.937420966,
          4254.937420966,
          4254.937420966,
          4254.937420966,
          4254.937420966,
          4254.937420966,
          4254.937420966,
          4254.937420966,
          4254.937420966,
          4254.937420966,
          4254.937420966,
          4254.937420966,
          4254.937420966,
          4254.937420966,
          4254.937420966
         ],
         "yaxis": "y"
        },
        {
         "hovertemplate": "known_as=Stargate<br>x=%{x}<br>current_locked=%{y}<extra></extra>",
         "legendgroup": "Stargate",
         "line": {
          "color": "#FFA15A",
          "dash": "solid"
         },
         "mode": "lines",
         "name": "Stargate",
         "showlegend": true,
         "type": "scattergl",
         "x": [
          "2022-11-30",
          "2022-11-23",
          "2022-11-16",
          "2022-11-09",
          "2022-11-02",
          "2022-10-26",
          "2022-10-19",
          "2022-10-12",
          "2022-10-05",
          "2022-09-28",
          "2022-09-21",
          "2022-09-14",
          "2022-09-07",
          "2022-08-31",
          "2022-08-24",
          "2022-08-17",
          "2022-08-10",
          "2022-08-03",
          "2022-07-27",
          "2022-07-20",
          "2022-07-13",
          "2022-07-06",
          "2022-06-29",
          "2022-06-22",
          "2022-06-15",
          "2022-06-08",
          "2022-06-01"
         ],
         "xaxis": "x",
         "y": [
          1096.324596593,
          1096.324596593,
          1096.324596593,
          1096.324596593,
          1096.324596593,
          1096.324596593,
          1096.324596593,
          1096.324596593,
          1096.324596593,
          1096.324596593,
          3355.738065277,
          4446.721468881,
          4446.721468881,
          4446.721468881,
          4446.721468881,
          4446.721468881,
          3350.396872288,
          3350.396872288,
          3350.396872288,
          3350.396872288,
          3350.396872288,
          3350.396872288,
          3350.396872288,
          3350.396872288,
          3350.396872288,
          3350.396872288,
          1090.983403604
         ],
         "yaxis": "y"
        }
       ],
       "layout": {
        "font": {
         "color": "RebeccaPurple",
         "family": "Courier New, monospace",
         "size": 18
        },
        "legend": {
         "title": {
          "text": "known_as"
         },
         "tracegroupgap": 0
        },
        "margin": {
         "t": 60
        },
        "shapes": [
         {
          "line": {
           "color": "black",
           "dash": "dash",
           "width": 2
          },
          "type": "line",
          "x0": "2023-12-18T16:34:34.340134",
          "x1": "2023-12-18T16:34:34.340134",
          "xref": "x",
          "y0": 0,
          "y1": 1,
          "yref": "y domain"
         }
        ],
        "template": {
         "data": {
          "bar": [
           {
            "error_x": {
             "color": "#2a3f5f"
            },
            "error_y": {
             "color": "#2a3f5f"
            },
            "marker": {
             "line": {
              "color": "#E5ECF6",
              "width": 0.5
             }
            },
            "type": "bar"
           }
          ],
          "barpolar": [
           {
            "marker": {
             "line": {
              "color": "#E5ECF6",
              "width": 0.5
             }
            },
            "type": "barpolar"
           }
          ],
          "carpet": [
           {
            "aaxis": {
             "endlinecolor": "#2a3f5f",
             "gridcolor": "white",
             "linecolor": "white",
             "minorgridcolor": "white",
             "startlinecolor": "#2a3f5f"
            },
            "baxis": {
             "endlinecolor": "#2a3f5f",
             "gridcolor": "white",
             "linecolor": "white",
             "minorgridcolor": "white",
             "startlinecolor": "#2a3f5f"
            },
            "type": "carpet"
           }
          ],
          "choropleth": [
           {
            "colorbar": {
             "outlinewidth": 0,
             "ticks": ""
            },
            "type": "choropleth"
           }
          ],
          "contour": [
           {
            "colorbar": {
             "outlinewidth": 0,
             "ticks": ""
            },
            "colorscale": [
             [
              0,
              "#0d0887"
             ],
             [
              0.1111111111111111,
              "#46039f"
             ],
             [
              0.2222222222222222,
              "#7201a8"
             ],
             [
              0.3333333333333333,
              "#9c179e"
             ],
             [
              0.4444444444444444,
              "#bd3786"
             ],
             [
              0.5555555555555556,
              "#d8576b"
             ],
             [
              0.6666666666666666,
              "#ed7953"
             ],
             [
              0.7777777777777778,
              "#fb9f3a"
             ],
             [
              0.8888888888888888,
              "#fdca26"
             ],
             [
              1,
              "#f0f921"
             ]
            ],
            "type": "contour"
           }
          ],
          "contourcarpet": [
           {
            "colorbar": {
             "outlinewidth": 0,
             "ticks": ""
            },
            "type": "contourcarpet"
           }
          ],
          "heatmap": [
           {
            "colorbar": {
             "outlinewidth": 0,
             "ticks": ""
            },
            "colorscale": [
             [
              0,
              "#0d0887"
             ],
             [
              0.1111111111111111,
              "#46039f"
             ],
             [
              0.2222222222222222,
              "#7201a8"
             ],
             [
              0.3333333333333333,
              "#9c179e"
             ],
             [
              0.4444444444444444,
              "#bd3786"
             ],
             [
              0.5555555555555556,
              "#d8576b"
             ],
             [
              0.6666666666666666,
              "#ed7953"
             ],
             [
              0.7777777777777778,
              "#fb9f3a"
             ],
             [
              0.8888888888888888,
              "#fdca26"
             ],
             [
              1,
              "#f0f921"
             ]
            ],
            "type": "heatmap"
           }
          ],
          "heatmapgl": [
           {
            "colorbar": {
             "outlinewidth": 0,
             "ticks": ""
            },
            "colorscale": [
             [
              0,
              "#0d0887"
             ],
             [
              0.1111111111111111,
              "#46039f"
             ],
             [
              0.2222222222222222,
              "#7201a8"
             ],
             [
              0.3333333333333333,
              "#9c179e"
             ],
             [
              0.4444444444444444,
              "#bd3786"
             ],
             [
              0.5555555555555556,
              "#d8576b"
             ],
             [
              0.6666666666666666,
              "#ed7953"
             ],
             [
              0.7777777777777778,
              "#fb9f3a"
             ],
             [
              0.8888888888888888,
              "#fdca26"
             ],
             [
              1,
              "#f0f921"
             ]
            ],
            "type": "heatmapgl"
           }
          ],
          "histogram": [
           {
            "marker": {
             "colorbar": {
              "outlinewidth": 0,
              "ticks": ""
             }
            },
            "type": "histogram"
           }
          ],
          "histogram2d": [
           {
            "colorbar": {
             "outlinewidth": 0,
             "ticks": ""
            },
            "colorscale": [
             [
              0,
              "#0d0887"
             ],
             [
              0.1111111111111111,
              "#46039f"
             ],
             [
              0.2222222222222222,
              "#7201a8"
             ],
             [
              0.3333333333333333,
              "#9c179e"
             ],
             [
              0.4444444444444444,
              "#bd3786"
             ],
             [
              0.5555555555555556,
              "#d8576b"
             ],
             [
              0.6666666666666666,
              "#ed7953"
             ],
             [
              0.7777777777777778,
              "#fb9f3a"
             ],
             [
              0.8888888888888888,
              "#fdca26"
             ],
             [
              1,
              "#f0f921"
             ]
            ],
            "type": "histogram2d"
           }
          ],
          "histogram2dcontour": [
           {
            "colorbar": {
             "outlinewidth": 0,
             "ticks": ""
            },
            "colorscale": [
             [
              0,
              "#0d0887"
             ],
             [
              0.1111111111111111,
              "#46039f"
             ],
             [
              0.2222222222222222,
              "#7201a8"
             ],
             [
              0.3333333333333333,
              "#9c179e"
             ],
             [
              0.4444444444444444,
              "#bd3786"
             ],
             [
              0.5555555555555556,
              "#d8576b"
             ],
             [
              0.6666666666666666,
              "#ed7953"
             ],
             [
              0.7777777777777778,
              "#fb9f3a"
             ],
             [
              0.8888888888888888,
              "#fdca26"
             ],
             [
              1,
              "#f0f921"
             ]
            ],
            "type": "histogram2dcontour"
           }
          ],
          "mesh3d": [
           {
            "colorbar": {
             "outlinewidth": 0,
             "ticks": ""
            },
            "type": "mesh3d"
           }
          ],
          "parcoords": [
           {
            "line": {
             "colorbar": {
              "outlinewidth": 0,
              "ticks": ""
             }
            },
            "type": "parcoords"
           }
          ],
          "pie": [
           {
            "automargin": true,
            "type": "pie"
           }
          ],
          "scatter": [
           {
            "marker": {
             "colorbar": {
              "outlinewidth": 0,
              "ticks": ""
             }
            },
            "type": "scatter"
           }
          ],
          "scatter3d": [
           {
            "line": {
             "colorbar": {
              "outlinewidth": 0,
              "ticks": ""
             }
            },
            "marker": {
             "colorbar": {
              "outlinewidth": 0,
              "ticks": ""
             }
            },
            "type": "scatter3d"
           }
          ],
          "scattercarpet": [
           {
            "marker": {
             "colorbar": {
              "outlinewidth": 0,
              "ticks": ""
             }
            },
            "type": "scattercarpet"
           }
          ],
          "scattergeo": [
           {
            "marker": {
             "colorbar": {
              "outlinewidth": 0,
              "ticks": ""
             }
            },
            "type": "scattergeo"
           }
          ],
          "scattergl": [
           {
            "marker": {
             "colorbar": {
              "outlinewidth": 0,
              "ticks": ""
             }
            },
            "type": "scattergl"
           }
          ],
          "scattermapbox": [
           {
            "marker": {
             "colorbar": {
              "outlinewidth": 0,
              "ticks": ""
             }
            },
            "type": "scattermapbox"
           }
          ],
          "scatterpolar": [
           {
            "marker": {
             "colorbar": {
              "outlinewidth": 0,
              "ticks": ""
             }
            },
            "type": "scatterpolar"
           }
          ],
          "scatterpolargl": [
           {
            "marker": {
             "colorbar": {
              "outlinewidth": 0,
              "ticks": ""
             }
            },
            "type": "scatterpolargl"
           }
          ],
          "scatterternary": [
           {
            "marker": {
             "colorbar": {
              "outlinewidth": 0,
              "ticks": ""
             }
            },
            "type": "scatterternary"
           }
          ],
          "surface": [
           {
            "colorbar": {
             "outlinewidth": 0,
             "ticks": ""
            },
            "colorscale": [
             [
              0,
              "#0d0887"
             ],
             [
              0.1111111111111111,
              "#46039f"
             ],
             [
              0.2222222222222222,
              "#7201a8"
             ],
             [
              0.3333333333333333,
              "#9c179e"
             ],
             [
              0.4444444444444444,
              "#bd3786"
             ],
             [
              0.5555555555555556,
              "#d8576b"
             ],
             [
              0.6666666666666666,
              "#ed7953"
             ],
             [
              0.7777777777777778,
              "#fb9f3a"
             ],
             [
              0.8888888888888888,
              "#fdca26"
             ],
             [
              1,
              "#f0f921"
             ]
            ],
            "type": "surface"
           }
          ],
          "table": [
           {
            "cells": {
             "fill": {
              "color": "#EBF0F8"
             },
             "line": {
              "color": "white"
             }
            },
            "header": {
             "fill": {
              "color": "#C8D4E3"
             },
             "line": {
              "color": "white"
             }
            },
            "type": "table"
           }
          ]
         },
         "layout": {
          "annotationdefaults": {
           "arrowcolor": "#2a3f5f",
           "arrowhead": 0,
           "arrowwidth": 1
          },
          "autotypenumbers": "strict",
          "coloraxis": {
           "colorbar": {
            "outlinewidth": 0,
            "ticks": ""
           }
          },
          "colorscale": {
           "diverging": [
            [
             0,
             "#8e0152"
            ],
            [
             0.1,
             "#c51b7d"
            ],
            [
             0.2,
             "#de77ae"
            ],
            [
             0.3,
             "#f1b6da"
            ],
            [
             0.4,
             "#fde0ef"
            ],
            [
             0.5,
             "#f7f7f7"
            ],
            [
             0.6,
             "#e6f5d0"
            ],
            [
             0.7,
             "#b8e186"
            ],
            [
             0.8,
             "#7fbc41"
            ],
            [
             0.9,
             "#4d9221"
            ],
            [
             1,
             "#276419"
            ]
           ],
           "sequential": [
            [
             0,
             "#0d0887"
            ],
            [
             0.1111111111111111,
             "#46039f"
            ],
            [
             0.2222222222222222,
             "#7201a8"
            ],
            [
             0.3333333333333333,
             "#9c179e"
            ],
            [
             0.4444444444444444,
             "#bd3786"
            ],
            [
             0.5555555555555556,
             "#d8576b"
            ],
            [
             0.6666666666666666,
             "#ed7953"
            ],
            [
             0.7777777777777778,
             "#fb9f3a"
            ],
            [
             0.8888888888888888,
             "#fdca26"
            ],
            [
             1,
             "#f0f921"
            ]
           ],
           "sequentialminus": [
            [
             0,
             "#0d0887"
            ],
            [
             0.1111111111111111,
             "#46039f"
            ],
            [
             0.2222222222222222,
             "#7201a8"
            ],
            [
             0.3333333333333333,
             "#9c179e"
            ],
            [
             0.4444444444444444,
             "#bd3786"
            ],
            [
             0.5555555555555556,
             "#d8576b"
            ],
            [
             0.6666666666666666,
             "#ed7953"
            ],
            [
             0.7777777777777778,
             "#fb9f3a"
            ],
            [
             0.8888888888888888,
             "#fdca26"
            ],
            [
             1,
             "#f0f921"
            ]
           ]
          },
          "colorway": [
           "#636efa",
           "#EF553B",
           "#00cc96",
           "#ab63fa",
           "#FFA15A",
           "#19d3f3",
           "#FF6692",
           "#B6E880",
           "#FF97FF",
           "#FECB52"
          ],
          "font": {
           "color": "#2a3f5f"
          },
          "geo": {
           "bgcolor": "white",
           "lakecolor": "white",
           "landcolor": "#E5ECF6",
           "showlakes": true,
           "showland": true,
           "subunitcolor": "white"
          },
          "hoverlabel": {
           "align": "left"
          },
          "hovermode": "closest",
          "mapbox": {
           "style": "light"
          },
          "paper_bgcolor": "white",
          "plot_bgcolor": "#E5ECF6",
          "polar": {
           "angularaxis": {
            "gridcolor": "white",
            "linecolor": "white",
            "ticks": ""
           },
           "bgcolor": "#E5ECF6",
           "radialaxis": {
            "gridcolor": "white",
            "linecolor": "white",
            "ticks": ""
           }
          },
          "scene": {
           "xaxis": {
            "backgroundcolor": "#E5ECF6",
            "gridcolor": "white",
            "gridwidth": 2,
            "linecolor": "white",
            "showbackground": true,
            "ticks": "",
            "zerolinecolor": "white"
           },
           "yaxis": {
            "backgroundcolor": "#E5ECF6",
            "gridcolor": "white",
            "gridwidth": 2,
            "linecolor": "white",
            "showbackground": true,
            "ticks": "",
            "zerolinecolor": "white"
           },
           "zaxis": {
            "backgroundcolor": "#E5ECF6",
            "gridcolor": "white",
            "gridwidth": 2,
            "linecolor": "white",
            "showbackground": true,
            "ticks": "",
            "zerolinecolor": "white"
           }
          },
          "shapedefaults": {
           "line": {
            "color": "#2a3f5f"
           }
          },
          "ternary": {
           "aaxis": {
            "gridcolor": "white",
            "linecolor": "white",
            "ticks": ""
           },
           "baxis": {
            "gridcolor": "white",
            "linecolor": "white",
            "ticks": ""
           },
           "bgcolor": "#E5ECF6",
           "caxis": {
            "gridcolor": "white",
            "linecolor": "white",
            "ticks": ""
           }
          },
          "title": {
           "x": 0.05
          },
          "xaxis": {
           "automargin": true,
           "gridcolor": "white",
           "linecolor": "white",
           "ticks": "",
           "title": {
            "standoff": 15
           },
           "zerolinecolor": "white",
           "zerolinewidth": 2
          },
          "yaxis": {
           "automargin": true,
           "gridcolor": "white",
           "linecolor": "white",
           "ticks": "",
           "title": {
            "standoff": 15
           },
           "zerolinecolor": "white",
           "zerolinewidth": 2
          }
         }
        },
        "title": {
         "text": "Convex vlCVX Balances"
        },
        "xaxis": {
         "anchor": "y",
         "domain": [
          0,
          1
         ],
         "title": {
          "text": "This Epoch"
         }
        },
        "yaxis": {
         "anchor": "x",
         "domain": [
          0,
          1
         ],
         "title": {
          "text": "vlCVX Balance"
         }
        }
       }
      }
     },
     "metadata": {},
     "output_type": "display_data"
    }
   ],
   "source": [
    "\n",
    "fig = px.line(local_pcl_agg_user,\n",
    "                x=local_pcl_agg_user['this_epoch'].dt.date,\n",
    "                y=local_pcl_agg_user['current_locked'],\n",
    "                color='known_as',\n",
    "                # line_shape='linear',\n",
    "                # facet_row=facet_row,\n",
    "                # facet_col_wrap=facet_col_wrap\n",
    "                )\n",
    "fig.add_vline(x=dt.now(), line_width=2, line_dash=\"dash\", line_color=\"black\")\n",
    "fig.update_layout(\n",
    "    title=f\"Convex vlCVX Balances\",\n",
    "        xaxis_title=\"This Epoch\",\n",
    "        yaxis_title=\"vlCVX Balance\",\n",
    "    #     legend_title=\"Legend Title\",\n",
    "    font=dict(        family=\"Courier New, monospace\",\n",
    "        size=18,\n",
    "        color=\"RebeccaPurple\"\n",
    "    ),\n",
    "    # height= 1000,\n",
    ")\n",
    "fig.show()"
   ]
  },
  {
   "cell_type": "code",
   "execution_count": 30,
   "metadata": {},
   "outputs": [
    {
     "name": "stderr",
     "output_type": "stream",
     "text": [
      "<ipython-input-30-626395b83061>:9: SettingWithCopyWarning:\n",
      "\n",
      "\n",
      "A value is trying to be set on a copy of a slice from a DataFrame.\n",
      "Try using .loc[row_indexer,col_indexer] = value instead\n",
      "\n",
      "See the caveats in the documentation: https://pandas.pydata.org/pandas-docs/stable/user_guide/indexing.html#returning-a-view-versus-a-copy\n",
      "\n"
     ]
    }
   ],
   "source": [
    "pcl_agg_epoch\n",
    "df_temp_start = pcl_agg_epoch[['epoch_start', 'locked_amount']]\n",
    "df_temp_end = pcl_agg_epoch[['epoch_end', 'locked_amount']]\n",
    "\n",
    "df_temp_end = df_temp_end.rename(columns={\n",
    "    \"locked_amount\": 'unlocked_amount',\n",
    "    })\n",
    "\n",
    "df_temp_start['epoch_start'] = df_temp_start.epoch_start.dt.date\n",
    "df_temp_end['epoch_end'] = df_temp_end.epoch_end.dt.date"
   ]
  },
  {
   "cell_type": "code",
   "execution_count": 31,
   "metadata": {},
   "outputs": [],
   "source": [
    "df_combo = pd.merge(df_temp_start, df_temp_end, how='left', left_on = 'epoch_start', right_on = 'epoch_end')\n"
   ]
  },
  {
   "cell_type": "code",
   "execution_count": 32,
   "metadata": {},
   "outputs": [
    {
     "data": {
      "text/html": [
       "<div>\n",
       "<style scoped>\n",
       "    .dataframe tbody tr th:only-of-type {\n",
       "        vertical-align: middle;\n",
       "    }\n",
       "\n",
       "    .dataframe tbody tr th {\n",
       "        vertical-align: top;\n",
       "    }\n",
       "\n",
       "    .dataframe thead th {\n",
       "        text-align: right;\n",
       "    }\n",
       "</style>\n",
       "<table border=\"1\" class=\"dataframe\">\n",
       "  <thead>\n",
       "    <tr style=\"text-align: right;\">\n",
       "      <th></th>\n",
       "      <th>epoch_start</th>\n",
       "      <th>locked_amount</th>\n",
       "      <th>epoch_end</th>\n",
       "      <th>unlocked_amount</th>\n",
       "    </tr>\n",
       "  </thead>\n",
       "  <tbody>\n",
       "    <tr>\n",
       "      <th>42</th>\n",
       "      <td>2022-12-28</td>\n",
       "      <td>1.262790e+06</td>\n",
       "      <td>2022-12-28</td>\n",
       "      <td>1.169989e+06</td>\n",
       "    </tr>\n",
       "    <tr>\n",
       "      <th>43</th>\n",
       "      <td>2023-01-04</td>\n",
       "      <td>1.352710e+06</td>\n",
       "      <td>2023-01-04</td>\n",
       "      <td>1.190133e+06</td>\n",
       "    </tr>\n",
       "    <tr>\n",
       "      <th>44</th>\n",
       "      <td>2023-01-11</td>\n",
       "      <td>1.108628e+06</td>\n",
       "      <td>2023-01-11</td>\n",
       "      <td>8.998896e+05</td>\n",
       "    </tr>\n",
       "    <tr>\n",
       "      <th>45</th>\n",
       "      <td>2023-01-18</td>\n",
       "      <td>2.749241e+06</td>\n",
       "      <td>2023-01-18</td>\n",
       "      <td>1.701780e+06</td>\n",
       "    </tr>\n",
       "    <tr>\n",
       "      <th>46</th>\n",
       "      <td>2023-01-25</td>\n",
       "      <td>3.580809e+06</td>\n",
       "      <td>2023-01-25</td>\n",
       "      <td>2.050507e+06</td>\n",
       "    </tr>\n",
       "    <tr>\n",
       "      <th>47</th>\n",
       "      <td>2023-02-01</td>\n",
       "      <td>2.045123e+06</td>\n",
       "      <td>2023-02-01</td>\n",
       "      <td>7.488713e+05</td>\n",
       "    </tr>\n",
       "    <tr>\n",
       "      <th>48</th>\n",
       "      <td>2023-02-08</td>\n",
       "      <td>8.144371e+06</td>\n",
       "      <td>2023-02-08</td>\n",
       "      <td>1.049529e+07</td>\n",
       "    </tr>\n",
       "    <tr>\n",
       "      <th>49</th>\n",
       "      <td>2023-02-15</td>\n",
       "      <td>8.713933e+06</td>\n",
       "      <td>2023-02-15</td>\n",
       "      <td>8.460052e+06</td>\n",
       "    </tr>\n",
       "    <tr>\n",
       "      <th>50</th>\n",
       "      <td>2023-02-22</td>\n",
       "      <td>5.561803e+06</td>\n",
       "      <td>2023-02-22</td>\n",
       "      <td>6.471689e+06</td>\n",
       "    </tr>\n",
       "    <tr>\n",
       "      <th>51</th>\n",
       "      <td>2023-03-01</td>\n",
       "      <td>4.538475e+06</td>\n",
       "      <td>2023-03-01</td>\n",
       "      <td>4.091846e+06</td>\n",
       "    </tr>\n",
       "    <tr>\n",
       "      <th>52</th>\n",
       "      <td>2023-03-08</td>\n",
       "      <td>2.534772e+06</td>\n",
       "      <td>2023-03-08</td>\n",
       "      <td>2.741727e+06</td>\n",
       "    </tr>\n",
       "    <tr>\n",
       "      <th>53</th>\n",
       "      <td>2023-03-15</td>\n",
       "      <td>4.357643e+06</td>\n",
       "      <td>2023-03-15</td>\n",
       "      <td>2.233756e+06</td>\n",
       "    </tr>\n",
       "    <tr>\n",
       "      <th>54</th>\n",
       "      <td>2023-03-22</td>\n",
       "      <td>1.699770e+06</td>\n",
       "      <td>2023-03-22</td>\n",
       "      <td>1.518470e+06</td>\n",
       "    </tr>\n",
       "    <tr>\n",
       "      <th>55</th>\n",
       "      <td>2023-03-29</td>\n",
       "      <td>2.056094e+06</td>\n",
       "      <td>2023-03-29</td>\n",
       "      <td>1.712287e+06</td>\n",
       "    </tr>\n",
       "    <tr>\n",
       "      <th>56</th>\n",
       "      <td>2023-04-05</td>\n",
       "      <td>2.003633e+06</td>\n",
       "      <td>2023-04-05</td>\n",
       "      <td>3.035455e+06</td>\n",
       "    </tr>\n",
       "    <tr>\n",
       "      <th>57</th>\n",
       "      <td>2023-04-12</td>\n",
       "      <td>1.991119e+06</td>\n",
       "      <td>2023-04-12</td>\n",
       "      <td>1.281501e+06</td>\n",
       "    </tr>\n",
       "    <tr>\n",
       "      <th>58</th>\n",
       "      <td>2023-04-19</td>\n",
       "      <td>1.795060e+06</td>\n",
       "      <td>2023-04-19</td>\n",
       "      <td>1.262790e+06</td>\n",
       "    </tr>\n",
       "    <tr>\n",
       "      <th>59</th>\n",
       "      <td>2023-04-26</td>\n",
       "      <td>1.769011e+06</td>\n",
       "      <td>2023-04-26</td>\n",
       "      <td>1.352710e+06</td>\n",
       "    </tr>\n",
       "    <tr>\n",
       "      <th>60</th>\n",
       "      <td>2023-05-03</td>\n",
       "      <td>9.037324e+05</td>\n",
       "      <td>2023-05-03</td>\n",
       "      <td>1.108628e+06</td>\n",
       "    </tr>\n",
       "    <tr>\n",
       "      <th>61</th>\n",
       "      <td>2023-05-10</td>\n",
       "      <td>1.555394e+06</td>\n",
       "      <td>2023-05-10</td>\n",
       "      <td>2.749241e+06</td>\n",
       "    </tr>\n",
       "    <tr>\n",
       "      <th>62</th>\n",
       "      <td>2023-05-17</td>\n",
       "      <td>3.309025e+06</td>\n",
       "      <td>2023-05-17</td>\n",
       "      <td>3.580809e+06</td>\n",
       "    </tr>\n",
       "    <tr>\n",
       "      <th>63</th>\n",
       "      <td>2023-05-24</td>\n",
       "      <td>3.145798e+06</td>\n",
       "      <td>2023-05-24</td>\n",
       "      <td>2.045123e+06</td>\n",
       "    </tr>\n",
       "    <tr>\n",
       "      <th>64</th>\n",
       "      <td>2023-05-31</td>\n",
       "      <td>6.106247e+06</td>\n",
       "      <td>2023-05-31</td>\n",
       "      <td>8.144371e+06</td>\n",
       "    </tr>\n",
       "    <tr>\n",
       "      <th>65</th>\n",
       "      <td>2023-06-07</td>\n",
       "      <td>8.508475e+06</td>\n",
       "      <td>2023-06-07</td>\n",
       "      <td>8.713933e+06</td>\n",
       "    </tr>\n",
       "    <tr>\n",
       "      <th>66</th>\n",
       "      <td>2023-06-14</td>\n",
       "      <td>6.882888e+06</td>\n",
       "      <td>2023-06-14</td>\n",
       "      <td>5.561803e+06</td>\n",
       "    </tr>\n",
       "    <tr>\n",
       "      <th>67</th>\n",
       "      <td>2023-06-21</td>\n",
       "      <td>4.536612e+06</td>\n",
       "      <td>2023-06-21</td>\n",
       "      <td>4.538475e+06</td>\n",
       "    </tr>\n",
       "    <tr>\n",
       "      <th>68</th>\n",
       "      <td>2023-06-28</td>\n",
       "      <td>3.852078e+06</td>\n",
       "      <td>2023-06-28</td>\n",
       "      <td>2.534772e+06</td>\n",
       "    </tr>\n",
       "    <tr>\n",
       "      <th>69</th>\n",
       "      <td>2023-07-05</td>\n",
       "      <td>3.914395e+06</td>\n",
       "      <td>2023-07-05</td>\n",
       "      <td>4.357643e+06</td>\n",
       "    </tr>\n",
       "    <tr>\n",
       "      <th>70</th>\n",
       "      <td>2023-07-12</td>\n",
       "      <td>1.732619e+06</td>\n",
       "      <td>2023-07-12</td>\n",
       "      <td>1.699770e+06</td>\n",
       "    </tr>\n",
       "    <tr>\n",
       "      <th>71</th>\n",
       "      <td>2023-07-19</td>\n",
       "      <td>3.023807e+06</td>\n",
       "      <td>2023-07-19</td>\n",
       "      <td>2.056094e+06</td>\n",
       "    </tr>\n",
       "    <tr>\n",
       "      <th>72</th>\n",
       "      <td>2023-07-26</td>\n",
       "      <td>2.855290e+06</td>\n",
       "      <td>2023-07-26</td>\n",
       "      <td>2.003633e+06</td>\n",
       "    </tr>\n",
       "    <tr>\n",
       "      <th>73</th>\n",
       "      <td>2023-08-02</td>\n",
       "      <td>2.454696e+06</td>\n",
       "      <td>2023-08-02</td>\n",
       "      <td>1.991119e+06</td>\n",
       "    </tr>\n",
       "    <tr>\n",
       "      <th>74</th>\n",
       "      <td>2023-08-09</td>\n",
       "      <td>1.590238e+06</td>\n",
       "      <td>2023-08-09</td>\n",
       "      <td>1.795060e+06</td>\n",
       "    </tr>\n",
       "    <tr>\n",
       "      <th>75</th>\n",
       "      <td>2023-08-16</td>\n",
       "      <td>2.273511e+06</td>\n",
       "      <td>2023-08-16</td>\n",
       "      <td>1.769011e+06</td>\n",
       "    </tr>\n",
       "    <tr>\n",
       "      <th>76</th>\n",
       "      <td>2023-08-23</td>\n",
       "      <td>1.341958e+06</td>\n",
       "      <td>2023-08-23</td>\n",
       "      <td>9.037324e+05</td>\n",
       "    </tr>\n",
       "    <tr>\n",
       "      <th>77</th>\n",
       "      <td>2023-08-30</td>\n",
       "      <td>1.633076e+06</td>\n",
       "      <td>2023-08-30</td>\n",
       "      <td>1.555394e+06</td>\n",
       "    </tr>\n",
       "    <tr>\n",
       "      <th>78</th>\n",
       "      <td>2023-09-06</td>\n",
       "      <td>2.522790e+06</td>\n",
       "      <td>2023-09-06</td>\n",
       "      <td>3.309025e+06</td>\n",
       "    </tr>\n",
       "    <tr>\n",
       "      <th>79</th>\n",
       "      <td>2023-09-13</td>\n",
       "      <td>2.165425e+06</td>\n",
       "      <td>2023-09-13</td>\n",
       "      <td>3.145798e+06</td>\n",
       "    </tr>\n",
       "    <tr>\n",
       "      <th>80</th>\n",
       "      <td>2023-09-20</td>\n",
       "      <td>6.169809e+06</td>\n",
       "      <td>2023-09-20</td>\n",
       "      <td>6.106247e+06</td>\n",
       "    </tr>\n",
       "    <tr>\n",
       "      <th>81</th>\n",
       "      <td>2023-09-27</td>\n",
       "      <td>6.932292e+06</td>\n",
       "      <td>2023-09-27</td>\n",
       "      <td>8.508475e+06</td>\n",
       "    </tr>\n",
       "    <tr>\n",
       "      <th>82</th>\n",
       "      <td>2023-10-04</td>\n",
       "      <td>4.000530e+06</td>\n",
       "      <td>2023-10-04</td>\n",
       "      <td>6.882888e+06</td>\n",
       "    </tr>\n",
       "    <tr>\n",
       "      <th>83</th>\n",
       "      <td>2023-10-11</td>\n",
       "      <td>5.102460e+06</td>\n",
       "      <td>2023-10-11</td>\n",
       "      <td>4.536612e+06</td>\n",
       "    </tr>\n",
       "    <tr>\n",
       "      <th>84</th>\n",
       "      <td>2023-10-18</td>\n",
       "      <td>3.667294e+06</td>\n",
       "      <td>2023-10-18</td>\n",
       "      <td>3.852078e+06</td>\n",
       "    </tr>\n",
       "    <tr>\n",
       "      <th>85</th>\n",
       "      <td>2023-10-25</td>\n",
       "      <td>3.500519e+06</td>\n",
       "      <td>2023-10-25</td>\n",
       "      <td>3.914395e+06</td>\n",
       "    </tr>\n",
       "    <tr>\n",
       "      <th>86</th>\n",
       "      <td>2023-11-01</td>\n",
       "      <td>2.190146e+06</td>\n",
       "      <td>2023-11-01</td>\n",
       "      <td>1.732619e+06</td>\n",
       "    </tr>\n",
       "    <tr>\n",
       "      <th>87</th>\n",
       "      <td>2023-11-08</td>\n",
       "      <td>2.729175e+06</td>\n",
       "      <td>2023-11-08</td>\n",
       "      <td>3.023807e+06</td>\n",
       "    </tr>\n",
       "    <tr>\n",
       "      <th>88</th>\n",
       "      <td>2023-11-15</td>\n",
       "      <td>3.686843e+06</td>\n",
       "      <td>2023-11-15</td>\n",
       "      <td>2.855290e+06</td>\n",
       "    </tr>\n",
       "    <tr>\n",
       "      <th>89</th>\n",
       "      <td>2023-11-22</td>\n",
       "      <td>3.397844e+06</td>\n",
       "      <td>2023-11-22</td>\n",
       "      <td>2.454696e+06</td>\n",
       "    </tr>\n",
       "    <tr>\n",
       "      <th>90</th>\n",
       "      <td>2023-11-29</td>\n",
       "      <td>4.022485e+06</td>\n",
       "      <td>2023-11-29</td>\n",
       "      <td>1.590238e+06</td>\n",
       "    </tr>\n",
       "    <tr>\n",
       "      <th>91</th>\n",
       "      <td>2023-12-06</td>\n",
       "      <td>6.875045e+05</td>\n",
       "      <td>2023-12-06</td>\n",
       "      <td>2.273511e+06</td>\n",
       "    </tr>\n",
       "  </tbody>\n",
       "</table>\n",
       "</div>"
      ],
      "text/plain": [
       "   epoch_start  locked_amount   epoch_end  unlocked_amount\n",
       "42  2022-12-28   1.262790e+06  2022-12-28     1.169989e+06\n",
       "43  2023-01-04   1.352710e+06  2023-01-04     1.190133e+06\n",
       "44  2023-01-11   1.108628e+06  2023-01-11     8.998896e+05\n",
       "45  2023-01-18   2.749241e+06  2023-01-18     1.701780e+06\n",
       "46  2023-01-25   3.580809e+06  2023-01-25     2.050507e+06\n",
       "47  2023-02-01   2.045123e+06  2023-02-01     7.488713e+05\n",
       "48  2023-02-08   8.144371e+06  2023-02-08     1.049529e+07\n",
       "49  2023-02-15   8.713933e+06  2023-02-15     8.460052e+06\n",
       "50  2023-02-22   5.561803e+06  2023-02-22     6.471689e+06\n",
       "51  2023-03-01   4.538475e+06  2023-03-01     4.091846e+06\n",
       "52  2023-03-08   2.534772e+06  2023-03-08     2.741727e+06\n",
       "53  2023-03-15   4.357643e+06  2023-03-15     2.233756e+06\n",
       "54  2023-03-22   1.699770e+06  2023-03-22     1.518470e+06\n",
       "55  2023-03-29   2.056094e+06  2023-03-29     1.712287e+06\n",
       "56  2023-04-05   2.003633e+06  2023-04-05     3.035455e+06\n",
       "57  2023-04-12   1.991119e+06  2023-04-12     1.281501e+06\n",
       "58  2023-04-19   1.795060e+06  2023-04-19     1.262790e+06\n",
       "59  2023-04-26   1.769011e+06  2023-04-26     1.352710e+06\n",
       "60  2023-05-03   9.037324e+05  2023-05-03     1.108628e+06\n",
       "61  2023-05-10   1.555394e+06  2023-05-10     2.749241e+06\n",
       "62  2023-05-17   3.309025e+06  2023-05-17     3.580809e+06\n",
       "63  2023-05-24   3.145798e+06  2023-05-24     2.045123e+06\n",
       "64  2023-05-31   6.106247e+06  2023-05-31     8.144371e+06\n",
       "65  2023-06-07   8.508475e+06  2023-06-07     8.713933e+06\n",
       "66  2023-06-14   6.882888e+06  2023-06-14     5.561803e+06\n",
       "67  2023-06-21   4.536612e+06  2023-06-21     4.538475e+06\n",
       "68  2023-06-28   3.852078e+06  2023-06-28     2.534772e+06\n",
       "69  2023-07-05   3.914395e+06  2023-07-05     4.357643e+06\n",
       "70  2023-07-12   1.732619e+06  2023-07-12     1.699770e+06\n",
       "71  2023-07-19   3.023807e+06  2023-07-19     2.056094e+06\n",
       "72  2023-07-26   2.855290e+06  2023-07-26     2.003633e+06\n",
       "73  2023-08-02   2.454696e+06  2023-08-02     1.991119e+06\n",
       "74  2023-08-09   1.590238e+06  2023-08-09     1.795060e+06\n",
       "75  2023-08-16   2.273511e+06  2023-08-16     1.769011e+06\n",
       "76  2023-08-23   1.341958e+06  2023-08-23     9.037324e+05\n",
       "77  2023-08-30   1.633076e+06  2023-08-30     1.555394e+06\n",
       "78  2023-09-06   2.522790e+06  2023-09-06     3.309025e+06\n",
       "79  2023-09-13   2.165425e+06  2023-09-13     3.145798e+06\n",
       "80  2023-09-20   6.169809e+06  2023-09-20     6.106247e+06\n",
       "81  2023-09-27   6.932292e+06  2023-09-27     8.508475e+06\n",
       "82  2023-10-04   4.000530e+06  2023-10-04     6.882888e+06\n",
       "83  2023-10-11   5.102460e+06  2023-10-11     4.536612e+06\n",
       "84  2023-10-18   3.667294e+06  2023-10-18     3.852078e+06\n",
       "85  2023-10-25   3.500519e+06  2023-10-25     3.914395e+06\n",
       "86  2023-11-01   2.190146e+06  2023-11-01     1.732619e+06\n",
       "87  2023-11-08   2.729175e+06  2023-11-08     3.023807e+06\n",
       "88  2023-11-15   3.686843e+06  2023-11-15     2.855290e+06\n",
       "89  2023-11-22   3.397844e+06  2023-11-22     2.454696e+06\n",
       "90  2023-11-29   4.022485e+06  2023-11-29     1.590238e+06\n",
       "91  2023-12-06   6.875045e+05  2023-12-06     2.273511e+06"
      ]
     },
     "execution_count": 32,
     "metadata": {},
     "output_type": "execute_result"
    }
   ],
   "source": [
    "df_combo.tail(50)"
   ]
  },
  {
   "cell_type": "code",
   "execution_count": 33,
   "metadata": {},
   "outputs": [],
   "source": [
    "df_combo['unlocked_vs_locked'] = df_combo['unlocked_amount'] / df_combo['locked_amount'] - 1"
   ]
  },
  {
   "cell_type": "code",
   "execution_count": 34,
   "metadata": {},
   "outputs": [
    {
     "data": {
      "text/html": [
       "<div>\n",
       "<style scoped>\n",
       "    .dataframe tbody tr th:only-of-type {\n",
       "        vertical-align: middle;\n",
       "    }\n",
       "\n",
       "    .dataframe tbody tr th {\n",
       "        vertical-align: top;\n",
       "    }\n",
       "\n",
       "    .dataframe thead th {\n",
       "        text-align: right;\n",
       "    }\n",
       "</style>\n",
       "<table border=\"1\" class=\"dataframe\">\n",
       "  <thead>\n",
       "    <tr style=\"text-align: right;\">\n",
       "      <th></th>\n",
       "      <th>epoch_start</th>\n",
       "      <th>locked_amount</th>\n",
       "      <th>epoch_end</th>\n",
       "      <th>unlocked_amount</th>\n",
       "      <th>unlocked_vs_locked</th>\n",
       "    </tr>\n",
       "  </thead>\n",
       "  <tbody>\n",
       "    <tr>\n",
       "      <th>0</th>\n",
       "      <td>2022-03-09</td>\n",
       "      <td>2.748035e+07</td>\n",
       "      <td>NaN</td>\n",
       "      <td>NaN</td>\n",
       "      <td>NaN</td>\n",
       "    </tr>\n",
       "    <tr>\n",
       "      <th>1</th>\n",
       "      <td>2022-03-16</td>\n",
       "      <td>8.723225e+06</td>\n",
       "      <td>NaN</td>\n",
       "      <td>NaN</td>\n",
       "      <td>NaN</td>\n",
       "    </tr>\n",
       "    <tr>\n",
       "      <th>2</th>\n",
       "      <td>2022-03-23</td>\n",
       "      <td>1.390016e+06</td>\n",
       "      <td>NaN</td>\n",
       "      <td>NaN</td>\n",
       "      <td>NaN</td>\n",
       "    </tr>\n",
       "    <tr>\n",
       "      <th>3</th>\n",
       "      <td>2022-03-30</td>\n",
       "      <td>3.225907e+06</td>\n",
       "      <td>NaN</td>\n",
       "      <td>NaN</td>\n",
       "      <td>NaN</td>\n",
       "    </tr>\n",
       "    <tr>\n",
       "      <th>4</th>\n",
       "      <td>2022-04-06</td>\n",
       "      <td>7.544731e+05</td>\n",
       "      <td>NaN</td>\n",
       "      <td>NaN</td>\n",
       "      <td>NaN</td>\n",
       "    </tr>\n",
       "    <tr>\n",
       "      <th>...</th>\n",
       "      <td>...</td>\n",
       "      <td>...</td>\n",
       "      <td>...</td>\n",
       "      <td>...</td>\n",
       "      <td>...</td>\n",
       "    </tr>\n",
       "    <tr>\n",
       "      <th>87</th>\n",
       "      <td>2023-11-08</td>\n",
       "      <td>2.729175e+06</td>\n",
       "      <td>2023-11-08</td>\n",
       "      <td>3.023807e+06</td>\n",
       "      <td>0.107956</td>\n",
       "    </tr>\n",
       "    <tr>\n",
       "      <th>88</th>\n",
       "      <td>2023-11-15</td>\n",
       "      <td>3.686843e+06</td>\n",
       "      <td>2023-11-15</td>\n",
       "      <td>2.855290e+06</td>\n",
       "      <td>-0.225546</td>\n",
       "    </tr>\n",
       "    <tr>\n",
       "      <th>89</th>\n",
       "      <td>2023-11-22</td>\n",
       "      <td>3.397844e+06</td>\n",
       "      <td>2023-11-22</td>\n",
       "      <td>2.454696e+06</td>\n",
       "      <td>-0.277573</td>\n",
       "    </tr>\n",
       "    <tr>\n",
       "      <th>90</th>\n",
       "      <td>2023-11-29</td>\n",
       "      <td>4.022485e+06</td>\n",
       "      <td>2023-11-29</td>\n",
       "      <td>1.590238e+06</td>\n",
       "      <td>-0.604663</td>\n",
       "    </tr>\n",
       "    <tr>\n",
       "      <th>91</th>\n",
       "      <td>2023-12-06</td>\n",
       "      <td>6.875045e+05</td>\n",
       "      <td>2023-12-06</td>\n",
       "      <td>2.273511e+06</td>\n",
       "      <td>2.306903</td>\n",
       "    </tr>\n",
       "  </tbody>\n",
       "</table>\n",
       "<p>92 rows × 5 columns</p>\n",
       "</div>"
      ],
      "text/plain": [
       "   epoch_start  locked_amount   epoch_end  unlocked_amount  unlocked_vs_locked\n",
       "0   2022-03-09   2.748035e+07         NaN              NaN                 NaN\n",
       "1   2022-03-16   8.723225e+06         NaN              NaN                 NaN\n",
       "2   2022-03-23   1.390016e+06         NaN              NaN                 NaN\n",
       "3   2022-03-30   3.225907e+06         NaN              NaN                 NaN\n",
       "4   2022-04-06   7.544731e+05         NaN              NaN                 NaN\n",
       "..         ...            ...         ...              ...                 ...\n",
       "87  2023-11-08   2.729175e+06  2023-11-08     3.023807e+06            0.107956\n",
       "88  2023-11-15   3.686843e+06  2023-11-15     2.855290e+06           -0.225546\n",
       "89  2023-11-22   3.397844e+06  2023-11-22     2.454696e+06           -0.277573\n",
       "90  2023-11-29   4.022485e+06  2023-11-29     1.590238e+06           -0.604663\n",
       "91  2023-12-06   6.875045e+05  2023-12-06     2.273511e+06            2.306903\n",
       "\n",
       "[92 rows x 5 columns]"
      ]
     },
     "execution_count": 34,
     "metadata": {},
     "output_type": "execute_result"
    }
   ],
   "source": [
    "df_combo"
   ]
  },
  {
   "cell_type": "code",
   "execution_count": 35,
   "metadata": {},
   "outputs": [
    {
     "data": {
      "application/vnd.plotly.v1+json": {
       "config": {
        "plotlyServerURL": "https://plot.ly"
       },
       "data": [
        {
         "name": "Locked",
         "type": "bar",
         "x": [
          "2022-03-09",
          "2022-03-16",
          "2022-03-23",
          "2022-03-30",
          "2022-04-06",
          "2022-04-13",
          "2022-04-20",
          "2022-04-27",
          "2022-05-04",
          "2022-05-11",
          "2022-05-18",
          "2022-05-25",
          "2022-06-01",
          "2022-06-08",
          "2022-06-15",
          "2022-06-22",
          "2022-06-29",
          "2022-07-06",
          "2022-07-13",
          "2022-07-20",
          "2022-07-27",
          "2022-08-03",
          "2022-08-10",
          "2022-08-17",
          "2022-08-24",
          "2022-08-31",
          "2022-09-07",
          "2022-09-14",
          "2022-09-21",
          "2022-09-28",
          "2022-10-05",
          "2022-10-12",
          "2022-10-19",
          "2022-10-26",
          "2022-11-02",
          "2022-11-09",
          "2022-11-16",
          "2022-11-23",
          "2022-11-30",
          "2022-12-07",
          "2022-12-14",
          "2022-12-21",
          "2022-12-28",
          "2023-01-04",
          "2023-01-11",
          "2023-01-18",
          "2023-01-25",
          "2023-02-01",
          "2023-02-08",
          "2023-02-15",
          "2023-02-22",
          "2023-03-01",
          "2023-03-08",
          "2023-03-15",
          "2023-03-22",
          "2023-03-29",
          "2023-04-05",
          "2023-04-12",
          "2023-04-19",
          "2023-04-26",
          "2023-05-03",
          "2023-05-10",
          "2023-05-17",
          "2023-05-24",
          "2023-05-31",
          "2023-06-07",
          "2023-06-14",
          "2023-06-21",
          "2023-06-28",
          "2023-07-05",
          "2023-07-12",
          "2023-07-19",
          "2023-07-26",
          "2023-08-02",
          "2023-08-09",
          "2023-08-16",
          "2023-08-23",
          "2023-08-30",
          "2023-09-06",
          "2023-09-13",
          "2023-09-20",
          "2023-09-27",
          "2023-10-04",
          "2023-10-11",
          "2023-10-18",
          "2023-10-25",
          "2023-11-01",
          "2023-11-08",
          "2023-11-15",
          "2023-11-22",
          "2023-11-29",
          "2023-12-06"
         ],
         "xaxis": "x",
         "y": [
          null,
          null,
          null,
          null,
          null,
          null,
          null,
          null,
          null,
          null,
          null,
          null,
          null,
          null,
          null,
          null,
          0.7248059206021,
          -0.3405346142154504,
          -0.5656346072667917,
          -0.23317522500758536,
          -0.3969216280764053,
          0.7080432823177956,
          -0.6790583324898399,
          -0.16501639836157278,
          -0.7870777603212994,
          0.005661896717960246,
          -0.5272880772748905,
          -0.751850091011288,
          0.32621362161097633,
          -0.8351827475418734,
          -0.6060683284104151,
          0.012181483242001967,
          0.5180547618879077,
          0.5635509419376408,
          -0.5055220749970581,
          0.028102370320186365,
          -0.5437050151115858,
          -0.09252760600963228,
          0.30439681585393186,
          0.06057341348525003,
          -0.5115488692341057,
          -0.19884017208391225,
          -0.07348838058738161,
          -0.12018589502063581,
          -0.18828545333895597,
          -0.3810001208810567,
          -0.4273622159995507,
          -0.6338257137281668,
          0.2886562347133317,
          -0.029135092923373462,
          0.1635954919159568,
          -0.09840943454700457,
          0.08164645553483996,
          -0.487393487866165,
          -0.10666135696129508,
          -0.1672136016454674,
          0.5149752230762277,
          -0.3563916592577747,
          -0.2965194500241729,
          -0.23532983123659756,
          0.22672168935065962,
          0.767552611657863,
          0.08213443101814044,
          -0.3498876136222062,
          0.33377676797479183,
          0.0241475187224085,
          -0.19193760387794634,
          0.0004106117596029968,
          -0.3419727670815059,
          0.11323534430323123,
          -0.018959070616942908,
          -0.3200311398215887,
          -0.2982733369908168,
          -0.18885311058850418,
          0.1287996885849787,
          -0.22190333070688428,
          -0.3265567604642895,
          -0.04756789451082488,
          0.31165288391989554,
          0.45273981295149235,
          -0.010302048926580598,
          0.22736816407403815,
          0.7204940938315905,
          -0.11089711826807347,
          0.05038715054195397,
          0.11823251648988209,
          -0.2089023907581118,
          0.10795622991168163,
          -0.22554606353918671,
          -0.2775726294326901,
          -0.6046629260671593,
          2.30690318679321
         ],
         "yaxis": "y"
        }
       ],
       "layout": {
        "font": {
         "color": "RebeccaPurple",
         "family": "Courier New, monospace",
         "size": 18
        },
        "shapes": [
         {
          "line": {
           "color": "black",
           "dash": "dash",
           "width": 2
          },
          "type": "line",
          "x0": "2023-12-18T16:34:34.484251",
          "x1": "2023-12-18T16:34:34.484251",
          "xref": "x",
          "y0": 0,
          "y1": 1,
          "yref": "y domain"
         }
        ],
        "template": {
         "data": {
          "bar": [
           {
            "error_x": {
             "color": "#2a3f5f"
            },
            "error_y": {
             "color": "#2a3f5f"
            },
            "marker": {
             "line": {
              "color": "#E5ECF6",
              "width": 0.5
             }
            },
            "type": "bar"
           }
          ],
          "barpolar": [
           {
            "marker": {
             "line": {
              "color": "#E5ECF6",
              "width": 0.5
             }
            },
            "type": "barpolar"
           }
          ],
          "carpet": [
           {
            "aaxis": {
             "endlinecolor": "#2a3f5f",
             "gridcolor": "white",
             "linecolor": "white",
             "minorgridcolor": "white",
             "startlinecolor": "#2a3f5f"
            },
            "baxis": {
             "endlinecolor": "#2a3f5f",
             "gridcolor": "white",
             "linecolor": "white",
             "minorgridcolor": "white",
             "startlinecolor": "#2a3f5f"
            },
            "type": "carpet"
           }
          ],
          "choropleth": [
           {
            "colorbar": {
             "outlinewidth": 0,
             "ticks": ""
            },
            "type": "choropleth"
           }
          ],
          "contour": [
           {
            "colorbar": {
             "outlinewidth": 0,
             "ticks": ""
            },
            "colorscale": [
             [
              0,
              "#0d0887"
             ],
             [
              0.1111111111111111,
              "#46039f"
             ],
             [
              0.2222222222222222,
              "#7201a8"
             ],
             [
              0.3333333333333333,
              "#9c179e"
             ],
             [
              0.4444444444444444,
              "#bd3786"
             ],
             [
              0.5555555555555556,
              "#d8576b"
             ],
             [
              0.6666666666666666,
              "#ed7953"
             ],
             [
              0.7777777777777778,
              "#fb9f3a"
             ],
             [
              0.8888888888888888,
              "#fdca26"
             ],
             [
              1,
              "#f0f921"
             ]
            ],
            "type": "contour"
           }
          ],
          "contourcarpet": [
           {
            "colorbar": {
             "outlinewidth": 0,
             "ticks": ""
            },
            "type": "contourcarpet"
           }
          ],
          "heatmap": [
           {
            "colorbar": {
             "outlinewidth": 0,
             "ticks": ""
            },
            "colorscale": [
             [
              0,
              "#0d0887"
             ],
             [
              0.1111111111111111,
              "#46039f"
             ],
             [
              0.2222222222222222,
              "#7201a8"
             ],
             [
              0.3333333333333333,
              "#9c179e"
             ],
             [
              0.4444444444444444,
              "#bd3786"
             ],
             [
              0.5555555555555556,
              "#d8576b"
             ],
             [
              0.6666666666666666,
              "#ed7953"
             ],
             [
              0.7777777777777778,
              "#fb9f3a"
             ],
             [
              0.8888888888888888,
              "#fdca26"
             ],
             [
              1,
              "#f0f921"
             ]
            ],
            "type": "heatmap"
           }
          ],
          "heatmapgl": [
           {
            "colorbar": {
             "outlinewidth": 0,
             "ticks": ""
            },
            "colorscale": [
             [
              0,
              "#0d0887"
             ],
             [
              0.1111111111111111,
              "#46039f"
             ],
             [
              0.2222222222222222,
              "#7201a8"
             ],
             [
              0.3333333333333333,
              "#9c179e"
             ],
             [
              0.4444444444444444,
              "#bd3786"
             ],
             [
              0.5555555555555556,
              "#d8576b"
             ],
             [
              0.6666666666666666,
              "#ed7953"
             ],
             [
              0.7777777777777778,
              "#fb9f3a"
             ],
             [
              0.8888888888888888,
              "#fdca26"
             ],
             [
              1,
              "#f0f921"
             ]
            ],
            "type": "heatmapgl"
           }
          ],
          "histogram": [
           {
            "marker": {
             "colorbar": {
              "outlinewidth": 0,
              "ticks": ""
             }
            },
            "type": "histogram"
           }
          ],
          "histogram2d": [
           {
            "colorbar": {
             "outlinewidth": 0,
             "ticks": ""
            },
            "colorscale": [
             [
              0,
              "#0d0887"
             ],
             [
              0.1111111111111111,
              "#46039f"
             ],
             [
              0.2222222222222222,
              "#7201a8"
             ],
             [
              0.3333333333333333,
              "#9c179e"
             ],
             [
              0.4444444444444444,
              "#bd3786"
             ],
             [
              0.5555555555555556,
              "#d8576b"
             ],
             [
              0.6666666666666666,
              "#ed7953"
             ],
             [
              0.7777777777777778,
              "#fb9f3a"
             ],
             [
              0.8888888888888888,
              "#fdca26"
             ],
             [
              1,
              "#f0f921"
             ]
            ],
            "type": "histogram2d"
           }
          ],
          "histogram2dcontour": [
           {
            "colorbar": {
             "outlinewidth": 0,
             "ticks": ""
            },
            "colorscale": [
             [
              0,
              "#0d0887"
             ],
             [
              0.1111111111111111,
              "#46039f"
             ],
             [
              0.2222222222222222,
              "#7201a8"
             ],
             [
              0.3333333333333333,
              "#9c179e"
             ],
             [
              0.4444444444444444,
              "#bd3786"
             ],
             [
              0.5555555555555556,
              "#d8576b"
             ],
             [
              0.6666666666666666,
              "#ed7953"
             ],
             [
              0.7777777777777778,
              "#fb9f3a"
             ],
             [
              0.8888888888888888,
              "#fdca26"
             ],
             [
              1,
              "#f0f921"
             ]
            ],
            "type": "histogram2dcontour"
           }
          ],
          "mesh3d": [
           {
            "colorbar": {
             "outlinewidth": 0,
             "ticks": ""
            },
            "type": "mesh3d"
           }
          ],
          "parcoords": [
           {
            "line": {
             "colorbar": {
              "outlinewidth": 0,
              "ticks": ""
             }
            },
            "type": "parcoords"
           }
          ],
          "pie": [
           {
            "automargin": true,
            "type": "pie"
           }
          ],
          "scatter": [
           {
            "marker": {
             "colorbar": {
              "outlinewidth": 0,
              "ticks": ""
             }
            },
            "type": "scatter"
           }
          ],
          "scatter3d": [
           {
            "line": {
             "colorbar": {
              "outlinewidth": 0,
              "ticks": ""
             }
            },
            "marker": {
             "colorbar": {
              "outlinewidth": 0,
              "ticks": ""
             }
            },
            "type": "scatter3d"
           }
          ],
          "scattercarpet": [
           {
            "marker": {
             "colorbar": {
              "outlinewidth": 0,
              "ticks": ""
             }
            },
            "type": "scattercarpet"
           }
          ],
          "scattergeo": [
           {
            "marker": {
             "colorbar": {
              "outlinewidth": 0,
              "ticks": ""
             }
            },
            "type": "scattergeo"
           }
          ],
          "scattergl": [
           {
            "marker": {
             "colorbar": {
              "outlinewidth": 0,
              "ticks": ""
             }
            },
            "type": "scattergl"
           }
          ],
          "scattermapbox": [
           {
            "marker": {
             "colorbar": {
              "outlinewidth": 0,
              "ticks": ""
             }
            },
            "type": "scattermapbox"
           }
          ],
          "scatterpolar": [
           {
            "marker": {
             "colorbar": {
              "outlinewidth": 0,
              "ticks": ""
             }
            },
            "type": "scatterpolar"
           }
          ],
          "scatterpolargl": [
           {
            "marker": {
             "colorbar": {
              "outlinewidth": 0,
              "ticks": ""
             }
            },
            "type": "scatterpolargl"
           }
          ],
          "scatterternary": [
           {
            "marker": {
             "colorbar": {
              "outlinewidth": 0,
              "ticks": ""
             }
            },
            "type": "scatterternary"
           }
          ],
          "surface": [
           {
            "colorbar": {
             "outlinewidth": 0,
             "ticks": ""
            },
            "colorscale": [
             [
              0,
              "#0d0887"
             ],
             [
              0.1111111111111111,
              "#46039f"
             ],
             [
              0.2222222222222222,
              "#7201a8"
             ],
             [
              0.3333333333333333,
              "#9c179e"
             ],
             [
              0.4444444444444444,
              "#bd3786"
             ],
             [
              0.5555555555555556,
              "#d8576b"
             ],
             [
              0.6666666666666666,
              "#ed7953"
             ],
             [
              0.7777777777777778,
              "#fb9f3a"
             ],
             [
              0.8888888888888888,
              "#fdca26"
             ],
             [
              1,
              "#f0f921"
             ]
            ],
            "type": "surface"
           }
          ],
          "table": [
           {
            "cells": {
             "fill": {
              "color": "#EBF0F8"
             },
             "line": {
              "color": "white"
             }
            },
            "header": {
             "fill": {
              "color": "#C8D4E3"
             },
             "line": {
              "color": "white"
             }
            },
            "type": "table"
           }
          ]
         },
         "layout": {
          "annotationdefaults": {
           "arrowcolor": "#2a3f5f",
           "arrowhead": 0,
           "arrowwidth": 1
          },
          "autotypenumbers": "strict",
          "coloraxis": {
           "colorbar": {
            "outlinewidth": 0,
            "ticks": ""
           }
          },
          "colorscale": {
           "diverging": [
            [
             0,
             "#8e0152"
            ],
            [
             0.1,
             "#c51b7d"
            ],
            [
             0.2,
             "#de77ae"
            ],
            [
             0.3,
             "#f1b6da"
            ],
            [
             0.4,
             "#fde0ef"
            ],
            [
             0.5,
             "#f7f7f7"
            ],
            [
             0.6,
             "#e6f5d0"
            ],
            [
             0.7,
             "#b8e186"
            ],
            [
             0.8,
             "#7fbc41"
            ],
            [
             0.9,
             "#4d9221"
            ],
            [
             1,
             "#276419"
            ]
           ],
           "sequential": [
            [
             0,
             "#0d0887"
            ],
            [
             0.1111111111111111,
             "#46039f"
            ],
            [
             0.2222222222222222,
             "#7201a8"
            ],
            [
             0.3333333333333333,
             "#9c179e"
            ],
            [
             0.4444444444444444,
             "#bd3786"
            ],
            [
             0.5555555555555556,
             "#d8576b"
            ],
            [
             0.6666666666666666,
             "#ed7953"
            ],
            [
             0.7777777777777778,
             "#fb9f3a"
            ],
            [
             0.8888888888888888,
             "#fdca26"
            ],
            [
             1,
             "#f0f921"
            ]
           ],
           "sequentialminus": [
            [
             0,
             "#0d0887"
            ],
            [
             0.1111111111111111,
             "#46039f"
            ],
            [
             0.2222222222222222,
             "#7201a8"
            ],
            [
             0.3333333333333333,
             "#9c179e"
            ],
            [
             0.4444444444444444,
             "#bd3786"
            ],
            [
             0.5555555555555556,
             "#d8576b"
            ],
            [
             0.6666666666666666,
             "#ed7953"
            ],
            [
             0.7777777777777778,
             "#fb9f3a"
            ],
            [
             0.8888888888888888,
             "#fdca26"
            ],
            [
             1,
             "#f0f921"
            ]
           ]
          },
          "colorway": [
           "#636efa",
           "#EF553B",
           "#00cc96",
           "#ab63fa",
           "#FFA15A",
           "#19d3f3",
           "#FF6692",
           "#B6E880",
           "#FF97FF",
           "#FECB52"
          ],
          "font": {
           "color": "#2a3f5f"
          },
          "geo": {
           "bgcolor": "white",
           "lakecolor": "white",
           "landcolor": "#E5ECF6",
           "showlakes": true,
           "showland": true,
           "subunitcolor": "white"
          },
          "hoverlabel": {
           "align": "left"
          },
          "hovermode": "closest",
          "mapbox": {
           "style": "light"
          },
          "paper_bgcolor": "white",
          "plot_bgcolor": "#E5ECF6",
          "polar": {
           "angularaxis": {
            "gridcolor": "white",
            "linecolor": "white",
            "ticks": ""
           },
           "bgcolor": "#E5ECF6",
           "radialaxis": {
            "gridcolor": "white",
            "linecolor": "white",
            "ticks": ""
           }
          },
          "scene": {
           "xaxis": {
            "backgroundcolor": "#E5ECF6",
            "gridcolor": "white",
            "gridwidth": 2,
            "linecolor": "white",
            "showbackground": true,
            "ticks": "",
            "zerolinecolor": "white"
           },
           "yaxis": {
            "backgroundcolor": "#E5ECF6",
            "gridcolor": "white",
            "gridwidth": 2,
            "linecolor": "white",
            "showbackground": true,
            "ticks": "",
            "zerolinecolor": "white"
           },
           "zaxis": {
            "backgroundcolor": "#E5ECF6",
            "gridcolor": "white",
            "gridwidth": 2,
            "linecolor": "white",
            "showbackground": true,
            "ticks": "",
            "zerolinecolor": "white"
           }
          },
          "shapedefaults": {
           "line": {
            "color": "#2a3f5f"
           }
          },
          "ternary": {
           "aaxis": {
            "gridcolor": "white",
            "linecolor": "white",
            "ticks": ""
           },
           "baxis": {
            "gridcolor": "white",
            "linecolor": "white",
            "ticks": ""
           },
           "bgcolor": "#E5ECF6",
           "caxis": {
            "gridcolor": "white",
            "linecolor": "white",
            "ticks": ""
           }
          },
          "title": {
           "x": 0.05
          },
          "xaxis": {
           "automargin": true,
           "gridcolor": "white",
           "linecolor": "white",
           "ticks": "",
           "title": {
            "standoff": 15
           },
           "zerolinecolor": "white",
           "zerolinewidth": 2
          },
          "yaxis": {
           "automargin": true,
           "gridcolor": "white",
           "linecolor": "white",
           "ticks": "",
           "title": {
            "standoff": 15
           },
           "zerolinecolor": "white",
           "zerolinewidth": 2
          }
         }
        },
        "title": {
         "text": "Convex: vlCVX compare unlocked / locked"
        },
        "xaxis": {
         "anchor": "y",
         "domain": [
          0,
          1
         ]
        },
        "yaxis": {
         "anchor": "x",
         "domain": [
          0,
          1
         ]
        }
       }
      }
     },
     "metadata": {},
     "output_type": "display_data"
    }
   ],
   "source": [
    "fig = make_subplots()\n",
    "fig.update_layout(\n",
    "    title=f\"Convex: vlCVX compare unlocked / locked\",\n",
    "    #     xaxis_title=\"X Axis Title\",\n",
    "    #     yaxis_title=\"Y Axis Title\",\n",
    "    #     legend_title=\"Legend Title\",\n",
    "    font=dict(\n",
    "        family=\"Courier New, monospace\",\n",
    "        size=18,\n",
    "        color=\"RebeccaPurple\"\n",
    "    ),\n",
    "    # height= 1000,\n",
    ")\n",
    "fig = fig.add_trace(\n",
    "    go.Bar(\n",
    "        x=df_combo.epoch_start,\n",
    "        y=df_combo.unlocked_vs_locked,\n",
    "        name=\"Locked\",\n",
    "        # color=\"pool_name\"\n",
    "    ),\n",
    "    secondary_y=False\n",
    ")\n",
    "\n",
    "fig.add_vline(x=dt.now(), line_width=2, line_dash=\"dash\", line_color=\"black\")\n",
    "\n",
    "fig.show()"
   ]
  },
  {
   "cell_type": "code",
   "execution_count": 36,
   "metadata": {},
   "outputs": [
    {
     "name": "stdout",
     "output_type": "stream",
     "text": [
      "/home/meir/Dev/curve_governance_flask/app/data/source/convex_locker_comparison.csv\n"
     ]
    },
    {
     "data": {
      "text/plain": [
       "True"
      ]
     },
     "execution_count": 36,
     "metadata": {},
     "output_type": "execute_result"
    }
   ],
   "source": [
    "write_dataframe_csv('convex_locker_comparison', df_combo, 'source')"
   ]
  },
  {
   "cell_type": "code",
   "execution_count": 37,
   "metadata": {},
   "outputs": [
    {
     "data": {
      "text/html": [
       "<div>\n",
       "<style scoped>\n",
       "    .dataframe tbody tr th:only-of-type {\n",
       "        vertical-align: middle;\n",
       "    }\n",
       "\n",
       "    .dataframe tbody tr th {\n",
       "        vertical-align: top;\n",
       "    }\n",
       "\n",
       "    .dataframe thead th {\n",
       "        text-align: right;\n",
       "    }\n",
       "</style>\n",
       "<table border=\"1\" class=\"dataframe\">\n",
       "  <thead>\n",
       "    <tr style=\"text-align: right;\">\n",
       "      <th></th>\n",
       "      <th>this_epoch</th>\n",
       "      <th>total_locked</th>\n",
       "      <th>lock_count</th>\n",
       "      <th>user_count</th>\n",
       "    </tr>\n",
       "  </thead>\n",
       "  <tbody>\n",
       "    <tr>\n",
       "      <th>0</th>\n",
       "      <td>2022-03-09 19:00:00</td>\n",
       "      <td>2.748035e+07</td>\n",
       "      <td>2942</td>\n",
       "      <td>2594</td>\n",
       "    </tr>\n",
       "    <tr>\n",
       "      <th>1</th>\n",
       "      <td>2022-03-16 19:00:00</td>\n",
       "      <td>3.620358e+07</td>\n",
       "      <td>4025</td>\n",
       "      <td>3258</td>\n",
       "    </tr>\n",
       "    <tr>\n",
       "      <th>2</th>\n",
       "      <td>2022-03-23 19:00:00</td>\n",
       "      <td>3.759359e+07</td>\n",
       "      <td>4732</td>\n",
       "      <td>3608</td>\n",
       "    </tr>\n",
       "    <tr>\n",
       "      <th>3</th>\n",
       "      <td>2022-03-30 19:00:00</td>\n",
       "      <td>4.081950e+07</td>\n",
       "      <td>5519</td>\n",
       "      <td>3929</td>\n",
       "    </tr>\n",
       "    <tr>\n",
       "      <th>4</th>\n",
       "      <td>2022-04-06 19:00:00</td>\n",
       "      <td>4.157397e+07</td>\n",
       "      <td>6086</td>\n",
       "      <td>4190</td>\n",
       "    </tr>\n",
       "    <tr>\n",
       "      <th>...</th>\n",
       "      <td>...</td>\n",
       "      <td>...</td>\n",
       "      <td>...</td>\n",
       "      <td>...</td>\n",
       "    </tr>\n",
       "    <tr>\n",
       "      <th>102</th>\n",
       "      <td>2024-02-21 19:00:00</td>\n",
       "      <td>1.452385e+07</td>\n",
       "      <td>1068</td>\n",
       "      <td>725</td>\n",
       "    </tr>\n",
       "    <tr>\n",
       "      <th>103</th>\n",
       "      <td>2024-02-28 19:00:00</td>\n",
       "      <td>1.179468e+07</td>\n",
       "      <td>749</td>\n",
       "      <td>525</td>\n",
       "    </tr>\n",
       "    <tr>\n",
       "      <th>104</th>\n",
       "      <td>2024-03-06 19:00:00</td>\n",
       "      <td>8.107834e+06</td>\n",
       "      <td>474</td>\n",
       "      <td>349</td>\n",
       "    </tr>\n",
       "    <tr>\n",
       "      <th>105</th>\n",
       "      <td>2024-03-13 19:00:00</td>\n",
       "      <td>4.709990e+06</td>\n",
       "      <td>215</td>\n",
       "      <td>160</td>\n",
       "    </tr>\n",
       "    <tr>\n",
       "      <th>106</th>\n",
       "      <td>2024-03-20 19:00:00</td>\n",
       "      <td>6.875045e+05</td>\n",
       "      <td>55</td>\n",
       "      <td>46</td>\n",
       "    </tr>\n",
       "  </tbody>\n",
       "</table>\n",
       "<p>107 rows × 4 columns</p>\n",
       "</div>"
      ],
      "text/plain": [
       "             this_epoch  total_locked  lock_count  user_count\n",
       "0   2022-03-09 19:00:00  2.748035e+07        2942        2594\n",
       "1   2022-03-16 19:00:00  3.620358e+07        4025        3258\n",
       "2   2022-03-23 19:00:00  3.759359e+07        4732        3608\n",
       "3   2022-03-30 19:00:00  4.081950e+07        5519        3929\n",
       "4   2022-04-06 19:00:00  4.157397e+07        6086        4190\n",
       "..                  ...           ...         ...         ...\n",
       "102 2024-02-21 19:00:00  1.452385e+07        1068         725\n",
       "103 2024-02-28 19:00:00  1.179468e+07         749         525\n",
       "104 2024-03-06 19:00:00  8.107834e+06         474         349\n",
       "105 2024-03-13 19:00:00  4.709990e+06         215         160\n",
       "106 2024-03-20 19:00:00  6.875045e+05          55          46\n",
       "\n",
       "[107 rows x 4 columns]"
      ]
     },
     "execution_count": 37,
     "metadata": {},
     "output_type": "execute_result"
    }
   ],
   "source": [
    "pcl_agg_system"
   ]
  },
  {
   "cell_type": "code",
   "execution_count": 38,
   "metadata": {},
   "outputs": [
    {
     "data": {
      "application/vnd.plotly.v1+json": {
       "config": {
        "plotlyServerURL": "https://plot.ly"
       },
       "data": [
        {
         "name": "Total Locked",
         "type": "bar",
         "x": [
          "2022-03-09T19:00:00",
          "2022-03-16T19:00:00",
          "2022-03-23T19:00:00",
          "2022-03-30T19:00:00",
          "2022-04-06T19:00:00",
          "2022-04-13T19:00:00",
          "2022-04-20T19:00:00",
          "2022-04-27T19:00:00",
          "2022-05-04T19:00:00",
          "2022-05-11T19:00:00",
          "2022-05-18T19:00:00",
          "2022-05-25T19:00:00",
          "2022-06-01T19:00:00",
          "2022-06-08T19:00:00",
          "2022-06-15T19:00:00",
          "2022-06-22T19:00:00",
          "2022-06-29T19:00:00",
          "2022-07-06T19:00:00",
          "2022-07-13T19:00:00",
          "2022-07-20T19:00:00",
          "2022-07-27T19:00:00",
          "2022-08-03T19:00:00",
          "2022-08-10T19:00:00",
          "2022-08-17T19:00:00",
          "2022-08-24T19:00:00",
          "2022-08-31T19:00:00",
          "2022-09-07T19:00:00",
          "2022-09-14T19:00:00",
          "2022-09-21T19:00:00",
          "2022-09-28T19:00:00",
          "2022-10-05T19:00:00",
          "2022-10-12T19:00:00",
          "2022-10-19T19:00:00",
          "2022-10-26T19:00:00",
          "2022-11-02T19:00:00",
          "2022-11-09T19:00:00",
          "2022-11-16T19:00:00",
          "2022-11-23T19:00:00",
          "2022-11-30T19:00:00",
          "2022-12-07T19:00:00",
          "2022-12-14T19:00:00",
          "2022-12-21T19:00:00",
          "2022-12-28T19:00:00",
          "2023-01-04T19:00:00",
          "2023-01-11T19:00:00",
          "2023-01-18T19:00:00",
          "2023-01-25T19:00:00",
          "2023-02-01T19:00:00",
          "2023-02-08T19:00:00",
          "2023-02-15T19:00:00",
          "2023-02-22T19:00:00",
          "2023-03-01T19:00:00",
          "2023-03-08T19:00:00",
          "2023-03-15T19:00:00",
          "2023-03-22T19:00:00",
          "2023-03-29T19:00:00",
          "2023-04-05T19:00:00",
          "2023-04-12T19:00:00",
          "2023-04-19T19:00:00",
          "2023-04-26T19:00:00",
          "2023-05-03T19:00:00",
          "2023-05-10T19:00:00",
          "2023-05-17T19:00:00",
          "2023-05-24T19:00:00",
          "2023-05-31T19:00:00",
          "2023-06-07T19:00:00",
          "2023-06-14T19:00:00",
          "2023-06-21T19:00:00",
          "2023-06-28T19:00:00",
          "2023-07-05T19:00:00",
          "2023-07-12T19:00:00",
          "2023-07-19T19:00:00",
          "2023-07-26T19:00:00",
          "2023-08-02T19:00:00",
          "2023-08-09T19:00:00",
          "2023-08-16T19:00:00",
          "2023-08-23T19:00:00",
          "2023-08-30T19:00:00",
          "2023-09-06T19:00:00",
          "2023-09-13T19:00:00",
          "2023-09-20T19:00:00",
          "2023-09-27T19:00:00",
          "2023-10-04T19:00:00",
          "2023-10-11T19:00:00",
          "2023-10-18T19:00:00",
          "2023-10-25T19:00:00",
          "2023-11-01T19:00:00",
          "2023-11-08T19:00:00",
          "2023-11-15T19:00:00",
          "2023-11-22T19:00:00",
          "2023-11-29T19:00:00",
          "2023-12-06T19:00:00",
          "2023-12-13T19:00:00",
          "2023-12-20T19:00:00",
          "2023-12-27T19:00:00",
          "2024-01-03T19:00:00",
          "2024-01-10T19:00:00",
          "2024-01-17T19:00:00",
          "2024-01-24T19:00:00",
          "2024-01-31T19:00:00",
          "2024-02-07T19:00:00",
          "2024-02-14T19:00:00",
          "2024-02-21T19:00:00",
          "2024-02-28T19:00:00",
          "2024-03-06T19:00:00",
          "2024-03-13T19:00:00",
          "2024-03-20T19:00:00"
         ],
         "xaxis": "x",
         "y": [
          27480352.283296645,
          36203577.351898655,
          37593593.19812506,
          40819499.6983123,
          41573972.75658918,
          45036299.228240274,
          45671984.47689026,
          47188320.127081454,
          47504013.796513595,
          48536513.699991845,
          49089581.56226192,
          49384913.049293295,
          50578358.910962544,
          50858841.58215441,
          51666601.142024554,
          52424594.79088046,
          40876674.06701615,
          45381171.41818027,
          47191262.830683306,
          48172192.89262872,
          48668756.338729195,
          47233501.72614291,
          48578504.28777813,
          48878175.140248545,
          50045152.65588623,
          50039339.66065008,
          50656261.036395684,
          51551062.91767762,
          51257506.668226,
          52678803.798654884,
          53921551.00969425,
          53912428.64667541,
          48475291.43329037,
          43707621.10710911,
          46979202.6678763,
          46864212.09654951,
          48354903.08383699,
          48561587.174252145,
          48099369.65323128,
          47995650.559975736,
          49548433.879320696,
          49803247.705972694,
          49896048.06875816,
          50058624.73495972,
          50267363.292483896,
          51314824.418087535,
          52845127.066676445,
          54141378.31923939,
          51790454.87935702,
          52044336.13728132,
          51134450.25055513,
          51581078.98164252,
          51374123.80641738,
          53498010.40849509,
          53679310.19085694,
          54023117.13264261,
          52991295.72940235,
          53700913.89986029,
          54233184.021527,
          54649485.11072633,
          54444589.36812424,
          53250742.554258525,
          52978957.704036,
          54079633.61718486,
          52041510.09942763,
          51836051.544966765,
          53157136.56671804,
          53155273.780508496,
          54472579.59949403,
          54029331.765870064,
          54062180.61025089,
          55029892.89433986,
          55881549.76117429,
          56345126.708501466,
          56140304.59915527,
          56644804.201712795,
          57083029.602767736,
          57160711.59467098,
          56374476.86548359,
          55394102.96105829,
          55457664.6358955,
          53881482.07690385,
          50999123.95808376,
          51564972.07386971,
          51380187.5962522,
          50966312.367968954,
          51423839.011455394,
          51129207.549025826,
          51960760.44355997,
          52903909.07004491,
          55336156.86994528,
          53750150.61473019,
          52408192.786535524,
          50775116.68127361,
          48252326.8411851,
          46086902.29406153,
          39917093.230816625,
          32984800.992759965,
          28984271.157058336,
          23881811.10558868,
          20214517.44778095,
          16713997.958130496,
          14523852.398637041,
          11794677.225785904,
          8107834.36324281,
          4709989.884078648,
          687504.4710566199
         ],
         "yaxis": "y"
        },
        {
         "line": {
          "shape": "hvh",
          "width": 3
         },
         "name": "Lock Count",
         "type": "scatter",
         "x": [
          "2022-03-09T19:00:00",
          "2022-03-16T19:00:00",
          "2022-03-23T19:00:00",
          "2022-03-30T19:00:00",
          "2022-04-06T19:00:00",
          "2022-04-13T19:00:00",
          "2022-04-20T19:00:00",
          "2022-04-27T19:00:00",
          "2022-05-04T19:00:00",
          "2022-05-11T19:00:00",
          "2022-05-18T19:00:00",
          "2022-05-25T19:00:00",
          "2022-06-01T19:00:00",
          "2022-06-08T19:00:00",
          "2022-06-15T19:00:00",
          "2022-06-22T19:00:00",
          "2022-06-29T19:00:00",
          "2022-07-06T19:00:00",
          "2022-07-13T19:00:00",
          "2022-07-20T19:00:00",
          "2022-07-27T19:00:00",
          "2022-08-03T19:00:00",
          "2022-08-10T19:00:00",
          "2022-08-17T19:00:00",
          "2022-08-24T19:00:00",
          "2022-08-31T19:00:00",
          "2022-09-07T19:00:00",
          "2022-09-14T19:00:00",
          "2022-09-21T19:00:00",
          "2022-09-28T19:00:00",
          "2022-10-05T19:00:00",
          "2022-10-12T19:00:00",
          "2022-10-19T19:00:00",
          "2022-10-26T19:00:00",
          "2022-11-02T19:00:00",
          "2022-11-09T19:00:00",
          "2022-11-16T19:00:00",
          "2022-11-23T19:00:00",
          "2022-11-30T19:00:00",
          "2022-12-07T19:00:00",
          "2022-12-14T19:00:00",
          "2022-12-21T19:00:00",
          "2022-12-28T19:00:00",
          "2023-01-04T19:00:00",
          "2023-01-11T19:00:00",
          "2023-01-18T19:00:00",
          "2023-01-25T19:00:00",
          "2023-02-01T19:00:00",
          "2023-02-08T19:00:00",
          "2023-02-15T19:00:00",
          "2023-02-22T19:00:00",
          "2023-03-01T19:00:00",
          "2023-03-08T19:00:00",
          "2023-03-15T19:00:00",
          "2023-03-22T19:00:00",
          "2023-03-29T19:00:00",
          "2023-04-05T19:00:00",
          "2023-04-12T19:00:00",
          "2023-04-19T19:00:00",
          "2023-04-26T19:00:00",
          "2023-05-03T19:00:00",
          "2023-05-10T19:00:00",
          "2023-05-17T19:00:00",
          "2023-05-24T19:00:00",
          "2023-05-31T19:00:00",
          "2023-06-07T19:00:00",
          "2023-06-14T19:00:00",
          "2023-06-21T19:00:00",
          "2023-06-28T19:00:00",
          "2023-07-05T19:00:00",
          "2023-07-12T19:00:00",
          "2023-07-19T19:00:00",
          "2023-07-26T19:00:00",
          "2023-08-02T19:00:00",
          "2023-08-09T19:00:00",
          "2023-08-16T19:00:00",
          "2023-08-23T19:00:00",
          "2023-08-30T19:00:00",
          "2023-09-06T19:00:00",
          "2023-09-13T19:00:00",
          "2023-09-20T19:00:00",
          "2023-09-27T19:00:00",
          "2023-10-04T19:00:00",
          "2023-10-11T19:00:00",
          "2023-10-18T19:00:00",
          "2023-10-25T19:00:00",
          "2023-11-01T19:00:00",
          "2023-11-08T19:00:00",
          "2023-11-15T19:00:00",
          "2023-11-22T19:00:00",
          "2023-11-29T19:00:00",
          "2023-12-06T19:00:00",
          "2023-12-13T19:00:00",
          "2023-12-20T19:00:00",
          "2023-12-27T19:00:00",
          "2024-01-03T19:00:00",
          "2024-01-10T19:00:00",
          "2024-01-17T19:00:00",
          "2024-01-24T19:00:00",
          "2024-01-31T19:00:00",
          "2024-02-07T19:00:00",
          "2024-02-14T19:00:00",
          "2024-02-21T19:00:00",
          "2024-02-28T19:00:00",
          "2024-03-06T19:00:00",
          "2024-03-13T19:00:00",
          "2024-03-20T19:00:00"
         ],
         "xaxis": "x",
         "y": [
          2942,
          4025,
          4732,
          5519,
          6086,
          6786,
          7289,
          7954,
          8292,
          8919,
          9404,
          9838,
          10110,
          10327,
          10584,
          10929,
          9096,
          9545,
          9635,
          9600,
          9731,
          9786,
          9910,
          9870,
          10039,
          9935,
          9973,
          10046,
          10267,
          10512,
          10719,
          10716,
          10290,
          9788,
          9756,
          9632,
          9498,
          9334,
          9161,
          9016,
          8891,
          8815,
          8667,
          8581,
          8512,
          8598,
          8653,
          8802,
          8633,
          8305,
          8072,
          7990,
          7857,
          7806,
          7799,
          7679,
          7629,
          7521,
          7386,
          7246,
          7031,
          6745,
          6532,
          6411,
          6302,
          6160,
          6122,
          6044,
          6008,
          5926,
          5848,
          5836,
          5810,
          5821,
          5838,
          5832,
          5852,
          5860,
          5775,
          5706,
          5612,
          5405,
          5201,
          5034,
          4891,
          4727,
          4659,
          4630,
          4599,
          4508,
          4411,
          4191,
          3962,
          3692,
          3471,
          3170,
          2859,
          2506,
          2216,
          1915,
          1663,
          1369,
          1068,
          749,
          474,
          215,
          55
         ],
         "yaxis": "y2"
        },
        {
         "line": {
          "shape": "hvh",
          "width": 3
         },
         "name": "User Count",
         "type": "scatter",
         "x": [
          "2022-03-09T19:00:00",
          "2022-03-16T19:00:00",
          "2022-03-23T19:00:00",
          "2022-03-30T19:00:00",
          "2022-04-06T19:00:00",
          "2022-04-13T19:00:00",
          "2022-04-20T19:00:00",
          "2022-04-27T19:00:00",
          "2022-05-04T19:00:00",
          "2022-05-11T19:00:00",
          "2022-05-18T19:00:00",
          "2022-05-25T19:00:00",
          "2022-06-01T19:00:00",
          "2022-06-08T19:00:00",
          "2022-06-15T19:00:00",
          "2022-06-22T19:00:00",
          "2022-06-29T19:00:00",
          "2022-07-06T19:00:00",
          "2022-07-13T19:00:00",
          "2022-07-20T19:00:00",
          "2022-07-27T19:00:00",
          "2022-08-03T19:00:00",
          "2022-08-10T19:00:00",
          "2022-08-17T19:00:00",
          "2022-08-24T19:00:00",
          "2022-08-31T19:00:00",
          "2022-09-07T19:00:00",
          "2022-09-14T19:00:00",
          "2022-09-21T19:00:00",
          "2022-09-28T19:00:00",
          "2022-10-05T19:00:00",
          "2022-10-12T19:00:00",
          "2022-10-19T19:00:00",
          "2022-10-26T19:00:00",
          "2022-11-02T19:00:00",
          "2022-11-09T19:00:00",
          "2022-11-16T19:00:00",
          "2022-11-23T19:00:00",
          "2022-11-30T19:00:00",
          "2022-12-07T19:00:00",
          "2022-12-14T19:00:00",
          "2022-12-21T19:00:00",
          "2022-12-28T19:00:00",
          "2023-01-04T19:00:00",
          "2023-01-11T19:00:00",
          "2023-01-18T19:00:00",
          "2023-01-25T19:00:00",
          "2023-02-01T19:00:00",
          "2023-02-08T19:00:00",
          "2023-02-15T19:00:00",
          "2023-02-22T19:00:00",
          "2023-03-01T19:00:00",
          "2023-03-08T19:00:00",
          "2023-03-15T19:00:00",
          "2023-03-22T19:00:00",
          "2023-03-29T19:00:00",
          "2023-04-05T19:00:00",
          "2023-04-12T19:00:00",
          "2023-04-19T19:00:00",
          "2023-04-26T19:00:00",
          "2023-05-03T19:00:00",
          "2023-05-10T19:00:00",
          "2023-05-17T19:00:00",
          "2023-05-24T19:00:00",
          "2023-05-31T19:00:00",
          "2023-06-07T19:00:00",
          "2023-06-14T19:00:00",
          "2023-06-21T19:00:00",
          "2023-06-28T19:00:00",
          "2023-07-05T19:00:00",
          "2023-07-12T19:00:00",
          "2023-07-19T19:00:00",
          "2023-07-26T19:00:00",
          "2023-08-02T19:00:00",
          "2023-08-09T19:00:00",
          "2023-08-16T19:00:00",
          "2023-08-23T19:00:00",
          "2023-08-30T19:00:00",
          "2023-09-06T19:00:00",
          "2023-09-13T19:00:00",
          "2023-09-20T19:00:00",
          "2023-09-27T19:00:00",
          "2023-10-04T19:00:00",
          "2023-10-11T19:00:00",
          "2023-10-18T19:00:00",
          "2023-10-25T19:00:00",
          "2023-11-01T19:00:00",
          "2023-11-08T19:00:00",
          "2023-11-15T19:00:00",
          "2023-11-22T19:00:00",
          "2023-11-29T19:00:00",
          "2023-12-06T19:00:00",
          "2023-12-13T19:00:00",
          "2023-12-20T19:00:00",
          "2023-12-27T19:00:00",
          "2024-01-03T19:00:00",
          "2024-01-10T19:00:00",
          "2024-01-17T19:00:00",
          "2024-01-24T19:00:00",
          "2024-01-31T19:00:00",
          "2024-02-07T19:00:00",
          "2024-02-14T19:00:00",
          "2024-02-21T19:00:00",
          "2024-02-28T19:00:00",
          "2024-03-06T19:00:00",
          "2024-03-13T19:00:00",
          "2024-03-20T19:00:00"
         ],
         "xaxis": "x",
         "y": [
          2594,
          3258,
          3608,
          3929,
          4190,
          4435,
          4629,
          4781,
          4865,
          5011,
          5121,
          5220,
          5280,
          5330,
          5398,
          5493,
          4536,
          4534,
          4482,
          4393,
          4336,
          4301,
          4296,
          4262,
          4264,
          4207,
          4194,
          4181,
          4193,
          4250,
          4290,
          4256,
          4067,
          3834,
          3766,
          3740,
          3660,
          3608,
          3516,
          3457,
          3436,
          3427,
          3388,
          3363,
          3337,
          3347,
          3368,
          3405,
          3349,
          3304,
          3231,
          3176,
          3149,
          3139,
          3133,
          3101,
          3092,
          3063,
          3037,
          3006,
          2942,
          2869,
          2784,
          2749,
          2711,
          2647,
          2622,
          2589,
          2577,
          2554,
          2527,
          2520,
          2505,
          2493,
          2479,
          2494,
          2493,
          2493,
          2465,
          2443,
          2413,
          2337,
          2247,
          2198,
          2146,
          2103,
          2073,
          2055,
          2041,
          2031,
          2007,
          1940,
          1883,
          1820,
          1763,
          1672,
          1555,
          1417,
          1299,
          1156,
          1042,
          885,
          725,
          525,
          349,
          160,
          46
         ],
         "yaxis": "y2"
        }
       ],
       "layout": {
        "autotypenumbers": "convert types",
        "font": {
         "color": "RebeccaPurple",
         "family": "Courier New, monospace",
         "size": 18
        },
        "shapes": [
         {
          "line": {
           "color": "black",
           "dash": "dash",
           "width": 3
          },
          "type": "line",
          "x0": "2023-12-18T16:34:34.563537",
          "x1": "2023-12-18T16:34:34.563537",
          "xref": "x",
          "y0": 0,
          "y1": 1,
          "yref": "y domain"
         }
        ],
        "template": {
         "data": {
          "bar": [
           {
            "error_x": {
             "color": "#2a3f5f"
            },
            "error_y": {
             "color": "#2a3f5f"
            },
            "marker": {
             "line": {
              "color": "#E5ECF6",
              "width": 0.5
             }
            },
            "type": "bar"
           }
          ],
          "barpolar": [
           {
            "marker": {
             "line": {
              "color": "#E5ECF6",
              "width": 0.5
             }
            },
            "type": "barpolar"
           }
          ],
          "carpet": [
           {
            "aaxis": {
             "endlinecolor": "#2a3f5f",
             "gridcolor": "white",
             "linecolor": "white",
             "minorgridcolor": "white",
             "startlinecolor": "#2a3f5f"
            },
            "baxis": {
             "endlinecolor": "#2a3f5f",
             "gridcolor": "white",
             "linecolor": "white",
             "minorgridcolor": "white",
             "startlinecolor": "#2a3f5f"
            },
            "type": "carpet"
           }
          ],
          "choropleth": [
           {
            "colorbar": {
             "outlinewidth": 0,
             "ticks": ""
            },
            "type": "choropleth"
           }
          ],
          "contour": [
           {
            "colorbar": {
             "outlinewidth": 0,
             "ticks": ""
            },
            "colorscale": [
             [
              0,
              "#0d0887"
             ],
             [
              0.1111111111111111,
              "#46039f"
             ],
             [
              0.2222222222222222,
              "#7201a8"
             ],
             [
              0.3333333333333333,
              "#9c179e"
             ],
             [
              0.4444444444444444,
              "#bd3786"
             ],
             [
              0.5555555555555556,
              "#d8576b"
             ],
             [
              0.6666666666666666,
              "#ed7953"
             ],
             [
              0.7777777777777778,
              "#fb9f3a"
             ],
             [
              0.8888888888888888,
              "#fdca26"
             ],
             [
              1,
              "#f0f921"
             ]
            ],
            "type": "contour"
           }
          ],
          "contourcarpet": [
           {
            "colorbar": {
             "outlinewidth": 0,
             "ticks": ""
            },
            "type": "contourcarpet"
           }
          ],
          "heatmap": [
           {
            "colorbar": {
             "outlinewidth": 0,
             "ticks": ""
            },
            "colorscale": [
             [
              0,
              "#0d0887"
             ],
             [
              0.1111111111111111,
              "#46039f"
             ],
             [
              0.2222222222222222,
              "#7201a8"
             ],
             [
              0.3333333333333333,
              "#9c179e"
             ],
             [
              0.4444444444444444,
              "#bd3786"
             ],
             [
              0.5555555555555556,
              "#d8576b"
             ],
             [
              0.6666666666666666,
              "#ed7953"
             ],
             [
              0.7777777777777778,
              "#fb9f3a"
             ],
             [
              0.8888888888888888,
              "#fdca26"
             ],
             [
              1,
              "#f0f921"
             ]
            ],
            "type": "heatmap"
           }
          ],
          "heatmapgl": [
           {
            "colorbar": {
             "outlinewidth": 0,
             "ticks": ""
            },
            "colorscale": [
             [
              0,
              "#0d0887"
             ],
             [
              0.1111111111111111,
              "#46039f"
             ],
             [
              0.2222222222222222,
              "#7201a8"
             ],
             [
              0.3333333333333333,
              "#9c179e"
             ],
             [
              0.4444444444444444,
              "#bd3786"
             ],
             [
              0.5555555555555556,
              "#d8576b"
             ],
             [
              0.6666666666666666,
              "#ed7953"
             ],
             [
              0.7777777777777778,
              "#fb9f3a"
             ],
             [
              0.8888888888888888,
              "#fdca26"
             ],
             [
              1,
              "#f0f921"
             ]
            ],
            "type": "heatmapgl"
           }
          ],
          "histogram": [
           {
            "marker": {
             "colorbar": {
              "outlinewidth": 0,
              "ticks": ""
             }
            },
            "type": "histogram"
           }
          ],
          "histogram2d": [
           {
            "colorbar": {
             "outlinewidth": 0,
             "ticks": ""
            },
            "colorscale": [
             [
              0,
              "#0d0887"
             ],
             [
              0.1111111111111111,
              "#46039f"
             ],
             [
              0.2222222222222222,
              "#7201a8"
             ],
             [
              0.3333333333333333,
              "#9c179e"
             ],
             [
              0.4444444444444444,
              "#bd3786"
             ],
             [
              0.5555555555555556,
              "#d8576b"
             ],
             [
              0.6666666666666666,
              "#ed7953"
             ],
             [
              0.7777777777777778,
              "#fb9f3a"
             ],
             [
              0.8888888888888888,
              "#fdca26"
             ],
             [
              1,
              "#f0f921"
             ]
            ],
            "type": "histogram2d"
           }
          ],
          "histogram2dcontour": [
           {
            "colorbar": {
             "outlinewidth": 0,
             "ticks": ""
            },
            "colorscale": [
             [
              0,
              "#0d0887"
             ],
             [
              0.1111111111111111,
              "#46039f"
             ],
             [
              0.2222222222222222,
              "#7201a8"
             ],
             [
              0.3333333333333333,
              "#9c179e"
             ],
             [
              0.4444444444444444,
              "#bd3786"
             ],
             [
              0.5555555555555556,
              "#d8576b"
             ],
             [
              0.6666666666666666,
              "#ed7953"
             ],
             [
              0.7777777777777778,
              "#fb9f3a"
             ],
             [
              0.8888888888888888,
              "#fdca26"
             ],
             [
              1,
              "#f0f921"
             ]
            ],
            "type": "histogram2dcontour"
           }
          ],
          "mesh3d": [
           {
            "colorbar": {
             "outlinewidth": 0,
             "ticks": ""
            },
            "type": "mesh3d"
           }
          ],
          "parcoords": [
           {
            "line": {
             "colorbar": {
              "outlinewidth": 0,
              "ticks": ""
             }
            },
            "type": "parcoords"
           }
          ],
          "pie": [
           {
            "automargin": true,
            "type": "pie"
           }
          ],
          "scatter": [
           {
            "marker": {
             "colorbar": {
              "outlinewidth": 0,
              "ticks": ""
             }
            },
            "type": "scatter"
           }
          ],
          "scatter3d": [
           {
            "line": {
             "colorbar": {
              "outlinewidth": 0,
              "ticks": ""
             }
            },
            "marker": {
             "colorbar": {
              "outlinewidth": 0,
              "ticks": ""
             }
            },
            "type": "scatter3d"
           }
          ],
          "scattercarpet": [
           {
            "marker": {
             "colorbar": {
              "outlinewidth": 0,
              "ticks": ""
             }
            },
            "type": "scattercarpet"
           }
          ],
          "scattergeo": [
           {
            "marker": {
             "colorbar": {
              "outlinewidth": 0,
              "ticks": ""
             }
            },
            "type": "scattergeo"
           }
          ],
          "scattergl": [
           {
            "marker": {
             "colorbar": {
              "outlinewidth": 0,
              "ticks": ""
             }
            },
            "type": "scattergl"
           }
          ],
          "scattermapbox": [
           {
            "marker": {
             "colorbar": {
              "outlinewidth": 0,
              "ticks": ""
             }
            },
            "type": "scattermapbox"
           }
          ],
          "scatterpolar": [
           {
            "marker": {
             "colorbar": {
              "outlinewidth": 0,
              "ticks": ""
             }
            },
            "type": "scatterpolar"
           }
          ],
          "scatterpolargl": [
           {
            "marker": {
             "colorbar": {
              "outlinewidth": 0,
              "ticks": ""
             }
            },
            "type": "scatterpolargl"
           }
          ],
          "scatterternary": [
           {
            "marker": {
             "colorbar": {
              "outlinewidth": 0,
              "ticks": ""
             }
            },
            "type": "scatterternary"
           }
          ],
          "surface": [
           {
            "colorbar": {
             "outlinewidth": 0,
             "ticks": ""
            },
            "colorscale": [
             [
              0,
              "#0d0887"
             ],
             [
              0.1111111111111111,
              "#46039f"
             ],
             [
              0.2222222222222222,
              "#7201a8"
             ],
             [
              0.3333333333333333,
              "#9c179e"
             ],
             [
              0.4444444444444444,
              "#bd3786"
             ],
             [
              0.5555555555555556,
              "#d8576b"
             ],
             [
              0.6666666666666666,
              "#ed7953"
             ],
             [
              0.7777777777777778,
              "#fb9f3a"
             ],
             [
              0.8888888888888888,
              "#fdca26"
             ],
             [
              1,
              "#f0f921"
             ]
            ],
            "type": "surface"
           }
          ],
          "table": [
           {
            "cells": {
             "fill": {
              "color": "#EBF0F8"
             },
             "line": {
              "color": "white"
             }
            },
            "header": {
             "fill": {
              "color": "#C8D4E3"
             },
             "line": {
              "color": "white"
             }
            },
            "type": "table"
           }
          ]
         },
         "layout": {
          "annotationdefaults": {
           "arrowcolor": "#2a3f5f",
           "arrowhead": 0,
           "arrowwidth": 1
          },
          "autotypenumbers": "strict",
          "coloraxis": {
           "colorbar": {
            "outlinewidth": 0,
            "ticks": ""
           }
          },
          "colorscale": {
           "diverging": [
            [
             0,
             "#8e0152"
            ],
            [
             0.1,
             "#c51b7d"
            ],
            [
             0.2,
             "#de77ae"
            ],
            [
             0.3,
             "#f1b6da"
            ],
            [
             0.4,
             "#fde0ef"
            ],
            [
             0.5,
             "#f7f7f7"
            ],
            [
             0.6,
             "#e6f5d0"
            ],
            [
             0.7,
             "#b8e186"
            ],
            [
             0.8,
             "#7fbc41"
            ],
            [
             0.9,
             "#4d9221"
            ],
            [
             1,
             "#276419"
            ]
           ],
           "sequential": [
            [
             0,
             "#0d0887"
            ],
            [
             0.1111111111111111,
             "#46039f"
            ],
            [
             0.2222222222222222,
             "#7201a8"
            ],
            [
             0.3333333333333333,
             "#9c179e"
            ],
            [
             0.4444444444444444,
             "#bd3786"
            ],
            [
             0.5555555555555556,
             "#d8576b"
            ],
            [
             0.6666666666666666,
             "#ed7953"
            ],
            [
             0.7777777777777778,
             "#fb9f3a"
            ],
            [
             0.8888888888888888,
             "#fdca26"
            ],
            [
             1,
             "#f0f921"
            ]
           ],
           "sequentialminus": [
            [
             0,
             "#0d0887"
            ],
            [
             0.1111111111111111,
             "#46039f"
            ],
            [
             0.2222222222222222,
             "#7201a8"
            ],
            [
             0.3333333333333333,
             "#9c179e"
            ],
            [
             0.4444444444444444,
             "#bd3786"
            ],
            [
             0.5555555555555556,
             "#d8576b"
            ],
            [
             0.6666666666666666,
             "#ed7953"
            ],
            [
             0.7777777777777778,
             "#fb9f3a"
            ],
            [
             0.8888888888888888,
             "#fdca26"
            ],
            [
             1,
             "#f0f921"
            ]
           ]
          },
          "colorway": [
           "#636efa",
           "#EF553B",
           "#00cc96",
           "#ab63fa",
           "#FFA15A",
           "#19d3f3",
           "#FF6692",
           "#B6E880",
           "#FF97FF",
           "#FECB52"
          ],
          "font": {
           "color": "#2a3f5f"
          },
          "geo": {
           "bgcolor": "white",
           "lakecolor": "white",
           "landcolor": "#E5ECF6",
           "showlakes": true,
           "showland": true,
           "subunitcolor": "white"
          },
          "hoverlabel": {
           "align": "left"
          },
          "hovermode": "closest",
          "mapbox": {
           "style": "light"
          },
          "paper_bgcolor": "white",
          "plot_bgcolor": "#E5ECF6",
          "polar": {
           "angularaxis": {
            "gridcolor": "white",
            "linecolor": "white",
            "ticks": ""
           },
           "bgcolor": "#E5ECF6",
           "radialaxis": {
            "gridcolor": "white",
            "linecolor": "white",
            "ticks": ""
           }
          },
          "scene": {
           "xaxis": {
            "backgroundcolor": "#E5ECF6",
            "gridcolor": "white",
            "gridwidth": 2,
            "linecolor": "white",
            "showbackground": true,
            "ticks": "",
            "zerolinecolor": "white"
           },
           "yaxis": {
            "backgroundcolor": "#E5ECF6",
            "gridcolor": "white",
            "gridwidth": 2,
            "linecolor": "white",
            "showbackground": true,
            "ticks": "",
            "zerolinecolor": "white"
           },
           "zaxis": {
            "backgroundcolor": "#E5ECF6",
            "gridcolor": "white",
            "gridwidth": 2,
            "linecolor": "white",
            "showbackground": true,
            "ticks": "",
            "zerolinecolor": "white"
           }
          },
          "shapedefaults": {
           "line": {
            "color": "#2a3f5f"
           }
          },
          "ternary": {
           "aaxis": {
            "gridcolor": "white",
            "linecolor": "white",
            "ticks": ""
           },
           "baxis": {
            "gridcolor": "white",
            "linecolor": "white",
            "ticks": ""
           },
           "bgcolor": "#E5ECF6",
           "caxis": {
            "gridcolor": "white",
            "linecolor": "white",
            "ticks": ""
           }
          },
          "title": {
           "x": 0.05
          },
          "xaxis": {
           "automargin": true,
           "gridcolor": "white",
           "linecolor": "white",
           "ticks": "",
           "title": {
            "standoff": 15
           },
           "zerolinecolor": "white",
           "zerolinewidth": 2
          },
          "yaxis": {
           "automargin": true,
           "gridcolor": "white",
           "linecolor": "white",
           "ticks": "",
           "title": {
            "standoff": 15
           },
           "zerolinecolor": "white",
           "zerolinewidth": 2
          }
         }
        },
        "title": {
         "text": "Convex Locker Historic Locks Per Epoch"
        },
        "xaxis": {
         "anchor": "y",
         "domain": [
          0,
          0.94
         ],
         "title": {
          "text": "Epoch Date"
         }
        },
        "yaxis": {
         "anchor": "x",
         "domain": [
          0,
          1
         ],
         "rangemode": "tozero",
         "title": {
          "text": "vlCVX"
         }
        },
        "yaxis2": {
         "anchor": "x",
         "overlaying": "y",
         "rangemode": "tozero",
         "side": "right",
         "title": {
          "text": "Locked Positions"
         }
        }
       }
      }
     },
     "metadata": {},
     "output_type": "display_data"
    }
   ],
   "source": [
    "fig = make_subplots(specs=[[{\"secondary_y\": True}]])\n",
    "fig.update_layout(\n",
    "    title=f\"Convex Locker Historic Locks Per Epoch\",\n",
    "        xaxis_title=\"Epoch Date\",\n",
    "        yaxis_title=\"vlCVX\",\n",
    "        yaxis2_title=\"Locked Positions\",\n",
    "    #     legend_title=\"Legend Title\",\n",
    "    font=dict(\n",
    "        family=\"Courier New, monospace\",\n",
    "        size=18,\n",
    "        color=\"RebeccaPurple\"\n",
    "    ),\n",
    "    # height= 1000,\n",
    ")\n",
    "fig = fig.add_trace(\n",
    "    go.Bar(\n",
    "        x=pcl_agg_system.this_epoch,\n",
    "        y=pcl_agg_system.total_locked,\n",
    "        name=\"Total Locked\",\n",
    "        # color=\"pool_name\"\n",
    "    ),\n",
    "    secondary_y=False\n",
    ")\n",
    "fig = fig.add_trace(\n",
    "    go.Scatter(\n",
    "        x = pcl_agg_system.this_epoch,\n",
    "        y = pcl_agg_system.lock_count, \n",
    "        name = \"Lock Count\",\n",
    "        line_shape='hvh',\n",
    "        line_width=3,\n",
    "    ),\n",
    "    secondary_y=True\n",
    ")\n",
    "\n",
    "fig = fig.add_trace(\n",
    "    go.Scatter(\n",
    "        x = pcl_agg_system.this_epoch,\n",
    "        y = pcl_agg_system.user_count, \n",
    "        name = \"User Count\",\n",
    "        line_shape='hvh',\n",
    "        line_width=3,\n",
    "    ),\n",
    "    secondary_y=True\n",
    ")\n",
    "fig.add_vline(x=dt.now(), line_width=3, line_dash=\"dash\", line_color=\"black\", )\n",
    "\n",
    "fig.update_layout(autotypenumbers='convert types')\n",
    "fig.update_yaxes(rangemode=\"tozero\")\n",
    "fig.show()"
   ]
  },
  {
   "cell_type": "code",
   "execution_count": 39,
   "metadata": {},
   "outputs": [
    {
     "data": {
      "text/plain": [
       "7567"
      ]
     },
     "execution_count": 39,
     "metadata": {},
     "output_type": "execute_result"
    }
   ],
   "source": [
    "len(df_locker.user.unique())"
   ]
  },
  {
   "cell_type": "code",
   "execution_count": 40,
   "metadata": {},
   "outputs": [
    {
     "data": {
      "text/html": [
       "<div>\n",
       "<style scoped>\n",
       "    .dataframe tbody tr th:only-of-type {\n",
       "        vertical-align: middle;\n",
       "    }\n",
       "\n",
       "    .dataframe tbody tr th {\n",
       "        vertical-align: top;\n",
       "    }\n",
       "\n",
       "    .dataframe thead th {\n",
       "        text-align: right;\n",
       "    }\n",
       "</style>\n",
       "<table border=\"1\" class=\"dataframe\">\n",
       "  <thead>\n",
       "    <tr style=\"text-align: right;\">\n",
       "      <th></th>\n",
       "      <th>block_timestamp</th>\n",
       "      <th>event_name</th>\n",
       "      <th>delegate</th>\n",
       "      <th>delegator</th>\n",
       "      <th>id</th>\n",
       "      <th>origin_from_address</th>\n",
       "      <th>tx_hash</th>\n",
       "      <th>__row_index</th>\n",
       "    </tr>\n",
       "  </thead>\n",
       "  <tbody>\n",
       "    <tr>\n",
       "      <th>0</th>\n",
       "      <td>2023-10-27T11:01:23.000Z</td>\n",
       "      <td>SetDelegate</td>\n",
       "      <td>0xde1e6a7ed0ad3f61d531a8a78e83ccddbd6e0c49</td>\n",
       "      <td>0xca1146c1d1b26ca782f7388096462189fb09113f</td>\n",
       "      <td>0x6376782e657468000000000000000000000000000000...</td>\n",
       "      <td>0xca1146c1d1b26ca782f7388096462189fb09113f</td>\n",
       "      <td>0x25c6b1b420e6ce892a6d5db12c59a9d37c4bf07eb9c2...</td>\n",
       "      <td>1</td>\n",
       "    </tr>\n",
       "    <tr>\n",
       "      <th>1</th>\n",
       "      <td>2023-10-27T09:32:47.000Z</td>\n",
       "      <td>SetDelegate</td>\n",
       "      <td>0x56f610e0c5f2f64a6b599cc5481d35e70d2e63e7</td>\n",
       "      <td>0xfedcaa011c9fc474d8cb063cef1b8d1772b40f28</td>\n",
       "      <td>0x6376782e657468000000000000000000000000000000...</td>\n",
       "      <td>0xfedcaa011c9fc474d8cb063cef1b8d1772b40f28</td>\n",
       "      <td>0x7e10494c25c953370963fea6e0345830f7a22e66de79...</td>\n",
       "      <td>2</td>\n",
       "    </tr>\n",
       "    <tr>\n",
       "      <th>2</th>\n",
       "      <td>2023-10-26T22:46:11.000Z</td>\n",
       "      <td>SetDelegate</td>\n",
       "      <td>0x68378fcb3a27d5613afcfddb590d35a6e751972c</td>\n",
       "      <td>0x5275817b74021e97c980e95ede6bbac0d0d6f3a2</td>\n",
       "      <td>0x6376782e657468000000000000000000000000000000...</td>\n",
       "      <td>0x5275817b74021e97c980e95ede6bbac0d0d6f3a2</td>\n",
       "      <td>0x9e758790bd92f31b63647d6c9294710d12c6e7d2da74...</td>\n",
       "      <td>3</td>\n",
       "    </tr>\n",
       "    <tr>\n",
       "      <th>3</th>\n",
       "      <td>2023-10-26T16:16:47.000Z</td>\n",
       "      <td>SetDelegate</td>\n",
       "      <td>0x947b7742c403f20e5faccdac5e092c943e7d0277</td>\n",
       "      <td>0x886969be23b1a38008021c418aae5df8b0efeab9</td>\n",
       "      <td>0x6376782e657468000000000000000000000000000000...</td>\n",
       "      <td>0x886969be23b1a38008021c418aae5df8b0efeab9</td>\n",
       "      <td>0xcf1505bc9533c3b5aee380f190779219992f6e73be01...</td>\n",
       "      <td>4</td>\n",
       "    </tr>\n",
       "    <tr>\n",
       "      <th>4</th>\n",
       "      <td>2023-10-26T15:53:23.000Z</td>\n",
       "      <td>SetDelegate</td>\n",
       "      <td>0x56f610e0c5f2f64a6b599cc5481d35e70d2e63e7</td>\n",
       "      <td>0x1d83a82ec33a7687966f6ec6a56625bad59e2275</td>\n",
       "      <td>0x6376782e657468000000000000000000000000000000...</td>\n",
       "      <td>0x1d83a82ec33a7687966f6ec6a56625bad59e2275</td>\n",
       "      <td>0xc6082c58eed61971e4718f83f1825704a02adb1cc794...</td>\n",
       "      <td>5</td>\n",
       "    </tr>\n",
       "    <tr>\n",
       "      <th>...</th>\n",
       "      <td>...</td>\n",
       "      <td>...</td>\n",
       "      <td>...</td>\n",
       "      <td>...</td>\n",
       "      <td>...</td>\n",
       "      <td>...</td>\n",
       "      <td>...</td>\n",
       "      <td>...</td>\n",
       "    </tr>\n",
       "    <tr>\n",
       "      <th>11333</th>\n",
       "      <td>2023-10-30T06:26:47.000Z</td>\n",
       "      <td>SetDelegate</td>\n",
       "      <td>0x947b7742c403f20e5faccdac5e092c943e7d0277</td>\n",
       "      <td>0x7b0507e0b2feb81b3fd618ac13e85c3f1980738a</td>\n",
       "      <td>0x6376782e657468000000000000000000000000000000...</td>\n",
       "      <td>0x7b0507e0b2feb81b3fd618ac13e85c3f1980738a</td>\n",
       "      <td>0x063f17b53cd4943ef3a5440c6f71d930c442a04f2d2f...</td>\n",
       "      <td>140</td>\n",
       "    </tr>\n",
       "    <tr>\n",
       "      <th>11334</th>\n",
       "      <td>2023-10-30T02:34:59.000Z</td>\n",
       "      <td>SetDelegate</td>\n",
       "      <td>0x947b7742c403f20e5faccdac5e092c943e7d0277</td>\n",
       "      <td>0xf663fa62890f73fc808c7eb1aea04263c9738510</td>\n",
       "      <td>0x6376782e657468000000000000000000000000000000...</td>\n",
       "      <td>0xf663fa62890f73fc808c7eb1aea04263c9738510</td>\n",
       "      <td>0x3cd70f15936ab87c8b7caa7c1bea5908a72d6b5f5566...</td>\n",
       "      <td>141</td>\n",
       "    </tr>\n",
       "    <tr>\n",
       "      <th>11335</th>\n",
       "      <td>2023-10-29T13:37:11.000Z</td>\n",
       "      <td>SetDelegate</td>\n",
       "      <td>0x947b7742c403f20e5faccdac5e092c943e7d0277</td>\n",
       "      <td>0x82f5604d78ea962a018049732f81bf74851a77ad</td>\n",
       "      <td>0x6376782e657468000000000000000000000000000000...</td>\n",
       "      <td>0x82f5604d78ea962a018049732f81bf74851a77ad</td>\n",
       "      <td>0x918913944fda4cb0f1ea7bd47b8f94b01280b5b165bf...</td>\n",
       "      <td>142</td>\n",
       "    </tr>\n",
       "    <tr>\n",
       "      <th>11336</th>\n",
       "      <td>2023-10-27T22:58:23.000Z</td>\n",
       "      <td>SetDelegate</td>\n",
       "      <td>0xde1e6a7ed0ad3f61d531a8a78e83ccddbd6e0c49</td>\n",
       "      <td>0x41b846cacfa3549ad0bd9b3b91461a59afa77207</td>\n",
       "      <td>0x6376782e657468000000000000000000000000000000...</td>\n",
       "      <td>0x41b846cacfa3549ad0bd9b3b91461a59afa77207</td>\n",
       "      <td>0x0c46aef6ec67ee36d74f08cf3f289726255fa4818e75...</td>\n",
       "      <td>143</td>\n",
       "    </tr>\n",
       "    <tr>\n",
       "      <th>11337</th>\n",
       "      <td>2023-10-27T13:33:23.000Z</td>\n",
       "      <td>SetDelegate</td>\n",
       "      <td>0xde1e6a7ed0ad3f61d531a8a78e83ccddbd6e0c49</td>\n",
       "      <td>0x4432e64624f4c64633466655de3d5132ad407343</td>\n",
       "      <td>0x6376782e657468000000000000000000000000000000...</td>\n",
       "      <td>0x4432e64624f4c64633466655de3d5132ad407343</td>\n",
       "      <td>0x448e2a2567cdefe83e72e7d5bc5bc2fe1da9cf01a316...</td>\n",
       "      <td>144</td>\n",
       "    </tr>\n",
       "  </tbody>\n",
       "</table>\n",
       "<p>11338 rows × 8 columns</p>\n",
       "</div>"
      ],
      "text/plain": [
       "                block_timestamp   event_name  \\\n",
       "0      2023-10-27T11:01:23.000Z  SetDelegate   \n",
       "1      2023-10-27T09:32:47.000Z  SetDelegate   \n",
       "2      2023-10-26T22:46:11.000Z  SetDelegate   \n",
       "3      2023-10-26T16:16:47.000Z  SetDelegate   \n",
       "4      2023-10-26T15:53:23.000Z  SetDelegate   \n",
       "...                         ...          ...   \n",
       "11333  2023-10-30T06:26:47.000Z  SetDelegate   \n",
       "11334  2023-10-30T02:34:59.000Z  SetDelegate   \n",
       "11335  2023-10-29T13:37:11.000Z  SetDelegate   \n",
       "11336  2023-10-27T22:58:23.000Z  SetDelegate   \n",
       "11337  2023-10-27T13:33:23.000Z  SetDelegate   \n",
       "\n",
       "                                         delegate  \\\n",
       "0      0xde1e6a7ed0ad3f61d531a8a78e83ccddbd6e0c49   \n",
       "1      0x56f610e0c5f2f64a6b599cc5481d35e70d2e63e7   \n",
       "2      0x68378fcb3a27d5613afcfddb590d35a6e751972c   \n",
       "3      0x947b7742c403f20e5faccdac5e092c943e7d0277   \n",
       "4      0x56f610e0c5f2f64a6b599cc5481d35e70d2e63e7   \n",
       "...                                           ...   \n",
       "11333  0x947b7742c403f20e5faccdac5e092c943e7d0277   \n",
       "11334  0x947b7742c403f20e5faccdac5e092c943e7d0277   \n",
       "11335  0x947b7742c403f20e5faccdac5e092c943e7d0277   \n",
       "11336  0xde1e6a7ed0ad3f61d531a8a78e83ccddbd6e0c49   \n",
       "11337  0xde1e6a7ed0ad3f61d531a8a78e83ccddbd6e0c49   \n",
       "\n",
       "                                        delegator  \\\n",
       "0      0xca1146c1d1b26ca782f7388096462189fb09113f   \n",
       "1      0xfedcaa011c9fc474d8cb063cef1b8d1772b40f28   \n",
       "2      0x5275817b74021e97c980e95ede6bbac0d0d6f3a2   \n",
       "3      0x886969be23b1a38008021c418aae5df8b0efeab9   \n",
       "4      0x1d83a82ec33a7687966f6ec6a56625bad59e2275   \n",
       "...                                           ...   \n",
       "11333  0x7b0507e0b2feb81b3fd618ac13e85c3f1980738a   \n",
       "11334  0xf663fa62890f73fc808c7eb1aea04263c9738510   \n",
       "11335  0x82f5604d78ea962a018049732f81bf74851a77ad   \n",
       "11336  0x41b846cacfa3549ad0bd9b3b91461a59afa77207   \n",
       "11337  0x4432e64624f4c64633466655de3d5132ad407343   \n",
       "\n",
       "                                                      id  \\\n",
       "0      0x6376782e657468000000000000000000000000000000...   \n",
       "1      0x6376782e657468000000000000000000000000000000...   \n",
       "2      0x6376782e657468000000000000000000000000000000...   \n",
       "3      0x6376782e657468000000000000000000000000000000...   \n",
       "4      0x6376782e657468000000000000000000000000000000...   \n",
       "...                                                  ...   \n",
       "11333  0x6376782e657468000000000000000000000000000000...   \n",
       "11334  0x6376782e657468000000000000000000000000000000...   \n",
       "11335  0x6376782e657468000000000000000000000000000000...   \n",
       "11336  0x6376782e657468000000000000000000000000000000...   \n",
       "11337  0x6376782e657468000000000000000000000000000000...   \n",
       "\n",
       "                              origin_from_address  \\\n",
       "0      0xca1146c1d1b26ca782f7388096462189fb09113f   \n",
       "1      0xfedcaa011c9fc474d8cb063cef1b8d1772b40f28   \n",
       "2      0x5275817b74021e97c980e95ede6bbac0d0d6f3a2   \n",
       "3      0x886969be23b1a38008021c418aae5df8b0efeab9   \n",
       "4      0x1d83a82ec33a7687966f6ec6a56625bad59e2275   \n",
       "...                                           ...   \n",
       "11333  0x7b0507e0b2feb81b3fd618ac13e85c3f1980738a   \n",
       "11334  0xf663fa62890f73fc808c7eb1aea04263c9738510   \n",
       "11335  0x82f5604d78ea962a018049732f81bf74851a77ad   \n",
       "11336  0x41b846cacfa3549ad0bd9b3b91461a59afa77207   \n",
       "11337  0x4432e64624f4c64633466655de3d5132ad407343   \n",
       "\n",
       "                                                 tx_hash __row_index  \n",
       "0      0x25c6b1b420e6ce892a6d5db12c59a9d37c4bf07eb9c2...           1  \n",
       "1      0x7e10494c25c953370963fea6e0345830f7a22e66de79...           2  \n",
       "2      0x9e758790bd92f31b63647d6c9294710d12c6e7d2da74...           3  \n",
       "3      0xcf1505bc9533c3b5aee380f190779219992f6e73be01...           4  \n",
       "4      0xc6082c58eed61971e4718f83f1825704a02adb1cc794...           5  \n",
       "...                                                  ...         ...  \n",
       "11333  0x063f17b53cd4943ef3a5440c6f71d930c442a04f2d2f...         140  \n",
       "11334  0x3cd70f15936ab87c8b7caa7c1bea5908a72d6b5f5566...         141  \n",
       "11335  0x918913944fda4cb0f1ea7bd47b8f94b01280b5b165bf...         142  \n",
       "11336  0x0c46aef6ec67ee36d74f08cf3f289726255fa4818e75...         143  \n",
       "11337  0x448e2a2567cdefe83e72e7d5bc5bc2fe1da9cf01a316...         144  \n",
       "\n",
       "[11338 rows x 8 columns]"
      ]
     },
     "execution_count": 40,
     "metadata": {},
     "output_type": "execute_result"
    }
   ],
   "source": [
    "df_delegations"
   ]
  },
  {
   "cell_type": "code",
   "execution_count": 41,
   "metadata": {},
   "outputs": [],
   "source": [
    "# fig = px.pie(df, values='pop', names='country', title='Population of European continent')\n",
    "# fig.show()"
   ]
  },
  {
   "cell_type": "code",
   "execution_count": 42,
   "metadata": {},
   "outputs": [
    {
     "data": {
      "text/plain": [
       "'2022-12-22 00:00:25.000'"
      ]
     },
     "execution_count": 42,
     "metadata": {},
     "output_type": "execute_result"
    }
   ],
   "source": [
    "df_snapshot_votes = df_convex_snapshot_vote_choice\n",
    "proposal_starts = df_snapshot_votes.proposal_start.unique()\n",
    "current_date = proposal_starts[0]\n",
    "current_date"
   ]
  },
  {
   "cell_type": "code",
   "execution_count": 43,
   "metadata": {},
   "outputs": [],
   "source": [
    "df_local = df_delegations[df_delegations['block_timestamp'] < current_date ]\n",
    "df_local = df_local.sort_values(['block_timestamp']).groupby(['delegator']).tail(1)\n",
    "df_local['checkpoint'] = current_date\n"
   ]
  },
  {
   "cell_type": "code",
   "execution_count": 44,
   "metadata": {},
   "outputs": [
    {
     "data": {
      "text/html": [
       "<div>\n",
       "<style scoped>\n",
       "    .dataframe tbody tr th:only-of-type {\n",
       "        vertical-align: middle;\n",
       "    }\n",
       "\n",
       "    .dataframe tbody tr th {\n",
       "        vertical-align: top;\n",
       "    }\n",
       "\n",
       "    .dataframe thead th {\n",
       "        text-align: right;\n",
       "    }\n",
       "</style>\n",
       "<table border=\"1\" class=\"dataframe\">\n",
       "  <thead>\n",
       "    <tr style=\"text-align: right;\">\n",
       "      <th></th>\n",
       "      <th>block_timestamp</th>\n",
       "      <th>event_name</th>\n",
       "      <th>delegate</th>\n",
       "      <th>delegator</th>\n",
       "      <th>id</th>\n",
       "      <th>origin_from_address</th>\n",
       "      <th>tx_hash</th>\n",
       "      <th>__row_index</th>\n",
       "      <th>checkpoint</th>\n",
       "    </tr>\n",
       "  </thead>\n",
       "  <tbody>\n",
       "    <tr>\n",
       "      <th>11192</th>\n",
       "      <td>2021-07-26T00:06:21.000Z</td>\n",
       "      <td>SetDelegate</td>\n",
       "      <td>0x724061efdfef4a421e8be05133ad24922d07b5bf</td>\n",
       "      <td>0x6daa190c87b24ee12cfbf26ef406cb7b2d95089b</td>\n",
       "      <td>0x6376782e657468000000000000000000000000000000...</td>\n",
       "      <td>0x6daa190c87b24ee12cfbf26ef406cb7b2d95089b</td>\n",
       "      <td>0x64cacda834ab126a7ef780fffc33dcf2ba35b8ac2ab4...</td>\n",
       "      <td>11193</td>\n",
       "      <td>2022-12-22 00:00:25.000</td>\n",
       "    </tr>\n",
       "    <tr>\n",
       "      <th>11191</th>\n",
       "      <td>2021-08-18T12:54:42.000Z</td>\n",
       "      <td>SetDelegate</td>\n",
       "      <td>0x78592ff362f83f765d5a9ed1b9d6880ea87c215a</td>\n",
       "      <td>0x3f86c3a4d4857a6f92999f214e2ed3ae7bb852c1</td>\n",
       "      <td>0x6376782e657468000000000000000000000000000000...</td>\n",
       "      <td>0x3f86c3a4d4857a6f92999f214e2ed3ae7bb852c1</td>\n",
       "      <td>0x2049716e9eb7a1bb61b89efb483e0fa01dd790f87d28...</td>\n",
       "      <td>11192</td>\n",
       "      <td>2022-12-22 00:00:25.000</td>\n",
       "    </tr>\n",
       "    <tr>\n",
       "      <th>11190</th>\n",
       "      <td>2021-08-20T02:17:39.000Z</td>\n",
       "      <td>SetDelegate</td>\n",
       "      <td>0xde1e6a7ed0ad3f61d531a8a78e83ccddbd6e0c49</td>\n",
       "      <td>0x3cebfe73cc946b9c7db360a07c14cc3ad135da48</td>\n",
       "      <td>0x6376782e657468000000000000000000000000000000...</td>\n",
       "      <td>0x3cebfe73cc946b9c7db360a07c14cc3ad135da48</td>\n",
       "      <td>0x7d339e5a9ca2c5e268752d1ea819b3157e99b70ab79f...</td>\n",
       "      <td>11191</td>\n",
       "      <td>2022-12-22 00:00:25.000</td>\n",
       "    </tr>\n",
       "    <tr>\n",
       "      <th>11189</th>\n",
       "      <td>2021-08-27T07:30:09.000Z</td>\n",
       "      <td>SetDelegate</td>\n",
       "      <td>0xde1e6a7ed0ad3f61d531a8a78e83ccddbd6e0c49</td>\n",
       "      <td>0x897258c8557e6205f7747b9cae593db334d8f5bf</td>\n",
       "      <td>0x6376782e657468000000000000000000000000000000...</td>\n",
       "      <td>0x897258c8557e6205f7747b9cae593db334d8f5bf</td>\n",
       "      <td>0xb4d55d7a5a8f9f465934a925752148a489478e7bfe63...</td>\n",
       "      <td>11190</td>\n",
       "      <td>2022-12-22 00:00:25.000</td>\n",
       "    </tr>\n",
       "    <tr>\n",
       "      <th>11188</th>\n",
       "      <td>2021-08-28T06:28:23.000Z</td>\n",
       "      <td>SetDelegate</td>\n",
       "      <td>0xde1e6a7ed0ad3f61d531a8a78e83ccddbd6e0c49</td>\n",
       "      <td>0x37b1884205cc47c2bf5cf5a0248946c4c0c85724</td>\n",
       "      <td>0x6376782e657468000000000000000000000000000000...</td>\n",
       "      <td>0x37b1884205cc47c2bf5cf5a0248946c4c0c85724</td>\n",
       "      <td>0x7c7e7f213c074646d470136eae78b22fad7c31b6f477...</td>\n",
       "      <td>11189</td>\n",
       "      <td>2022-12-22 00:00:25.000</td>\n",
       "    </tr>\n",
       "    <tr>\n",
       "      <th>...</th>\n",
       "      <td>...</td>\n",
       "      <td>...</td>\n",
       "      <td>...</td>\n",
       "      <td>...</td>\n",
       "      <td>...</td>\n",
       "      <td>...</td>\n",
       "      <td>...</td>\n",
       "      <td>...</td>\n",
       "      <td>...</td>\n",
       "    </tr>\n",
       "    <tr>\n",
       "      <th>1197</th>\n",
       "      <td>2022-12-20T10:43:59.000Z</td>\n",
       "      <td>SetDelegate</td>\n",
       "      <td>0xde1e6a7ed0ad3f61d531a8a78e83ccddbd6e0c49</td>\n",
       "      <td>0xe47fd677ba6d3738cec98aa18bb6fa015b6f7bda</td>\n",
       "      <td>0x6376782e657468000000000000000000000000000000...</td>\n",
       "      <td>0xe47fd677ba6d3738cec98aa18bb6fa015b6f7bda</td>\n",
       "      <td>0xda26e9f7fb314144f19960a81cb2c0f2883afc5eb73b...</td>\n",
       "      <td>1198</td>\n",
       "      <td>2022-12-22 00:00:25.000</td>\n",
       "    </tr>\n",
       "    <tr>\n",
       "      <th>1196</th>\n",
       "      <td>2022-12-20T21:02:35.000Z</td>\n",
       "      <td>SetDelegate</td>\n",
       "      <td>0x947b7742c403f20e5faccdac5e092c943e7d0277</td>\n",
       "      <td>0xec53ab6f6a2c5112c2a361d1f2b01f170824a5ce</td>\n",
       "      <td>0x6376782e657468000000000000000000000000000000...</td>\n",
       "      <td>0xec53ab6f6a2c5112c2a361d1f2b01f170824a5ce</td>\n",
       "      <td>0xab53d96b1fa885f014c513992b93a12954b2a3f4ec23...</td>\n",
       "      <td>1197</td>\n",
       "      <td>2022-12-22 00:00:25.000</td>\n",
       "    </tr>\n",
       "    <tr>\n",
       "      <th>1195</th>\n",
       "      <td>2022-12-20T21:41:23.000Z</td>\n",
       "      <td>SetDelegate</td>\n",
       "      <td>0xde1e6a7ed0ad3f61d531a8a78e83ccddbd6e0c49</td>\n",
       "      <td>0x41374b389772d5aed41240a57f5ffb087c6bfa93</td>\n",
       "      <td>0x6376782e657468000000000000000000000000000000...</td>\n",
       "      <td>0x41374b389772d5aed41240a57f5ffb087c6bfa93</td>\n",
       "      <td>0x550a824d8c12f2010d9015f84bbb293caeede622e143...</td>\n",
       "      <td>1196</td>\n",
       "      <td>2022-12-22 00:00:25.000</td>\n",
       "    </tr>\n",
       "    <tr>\n",
       "      <th>1194</th>\n",
       "      <td>2022-12-21T15:39:35.000Z</td>\n",
       "      <td>SetDelegate</td>\n",
       "      <td>0x947b7742c403f20e5faccdac5e092c943e7d0277</td>\n",
       "      <td>0x0dcb0fc0891d54ba982bddd7b67c5ca323c563f2</td>\n",
       "      <td>0x6376782e657468000000000000000000000000000000...</td>\n",
       "      <td>0x0dcb0fc0891d54ba982bddd7b67c5ca323c563f2</td>\n",
       "      <td>0xd2643f9c4e233aab7cfa3a5d681a9b00765bf4bfd567...</td>\n",
       "      <td>1195</td>\n",
       "      <td>2022-12-22 00:00:25.000</td>\n",
       "    </tr>\n",
       "    <tr>\n",
       "      <th>1193</th>\n",
       "      <td>2022-12-21T16:59:23.000Z</td>\n",
       "      <td>SetDelegate</td>\n",
       "      <td>0x947b7742c403f20e5faccdac5e092c943e7d0277</td>\n",
       "      <td>0xbd5622c171b879920d79d5bd7346c547fc7d4ada</td>\n",
       "      <td>0x6376782e657468000000000000000000000000000000...</td>\n",
       "      <td>0xbd5622c171b879920d79d5bd7346c547fc7d4ada</td>\n",
       "      <td>0xbcfff3742166e0988abb165e0b0ab666dea429390bed...</td>\n",
       "      <td>1194</td>\n",
       "      <td>2022-12-22 00:00:25.000</td>\n",
       "    </tr>\n",
       "  </tbody>\n",
       "</table>\n",
       "<p>8062 rows × 9 columns</p>\n",
       "</div>"
      ],
      "text/plain": [
       "                block_timestamp   event_name  \\\n",
       "11192  2021-07-26T00:06:21.000Z  SetDelegate   \n",
       "11191  2021-08-18T12:54:42.000Z  SetDelegate   \n",
       "11190  2021-08-20T02:17:39.000Z  SetDelegate   \n",
       "11189  2021-08-27T07:30:09.000Z  SetDelegate   \n",
       "11188  2021-08-28T06:28:23.000Z  SetDelegate   \n",
       "...                         ...          ...   \n",
       "1197   2022-12-20T10:43:59.000Z  SetDelegate   \n",
       "1196   2022-12-20T21:02:35.000Z  SetDelegate   \n",
       "1195   2022-12-20T21:41:23.000Z  SetDelegate   \n",
       "1194   2022-12-21T15:39:35.000Z  SetDelegate   \n",
       "1193   2022-12-21T16:59:23.000Z  SetDelegate   \n",
       "\n",
       "                                         delegate  \\\n",
       "11192  0x724061efdfef4a421e8be05133ad24922d07b5bf   \n",
       "11191  0x78592ff362f83f765d5a9ed1b9d6880ea87c215a   \n",
       "11190  0xde1e6a7ed0ad3f61d531a8a78e83ccddbd6e0c49   \n",
       "11189  0xde1e6a7ed0ad3f61d531a8a78e83ccddbd6e0c49   \n",
       "11188  0xde1e6a7ed0ad3f61d531a8a78e83ccddbd6e0c49   \n",
       "...                                           ...   \n",
       "1197   0xde1e6a7ed0ad3f61d531a8a78e83ccddbd6e0c49   \n",
       "1196   0x947b7742c403f20e5faccdac5e092c943e7d0277   \n",
       "1195   0xde1e6a7ed0ad3f61d531a8a78e83ccddbd6e0c49   \n",
       "1194   0x947b7742c403f20e5faccdac5e092c943e7d0277   \n",
       "1193   0x947b7742c403f20e5faccdac5e092c943e7d0277   \n",
       "\n",
       "                                        delegator  \\\n",
       "11192  0x6daa190c87b24ee12cfbf26ef406cb7b2d95089b   \n",
       "11191  0x3f86c3a4d4857a6f92999f214e2ed3ae7bb852c1   \n",
       "11190  0x3cebfe73cc946b9c7db360a07c14cc3ad135da48   \n",
       "11189  0x897258c8557e6205f7747b9cae593db334d8f5bf   \n",
       "11188  0x37b1884205cc47c2bf5cf5a0248946c4c0c85724   \n",
       "...                                           ...   \n",
       "1197   0xe47fd677ba6d3738cec98aa18bb6fa015b6f7bda   \n",
       "1196   0xec53ab6f6a2c5112c2a361d1f2b01f170824a5ce   \n",
       "1195   0x41374b389772d5aed41240a57f5ffb087c6bfa93   \n",
       "1194   0x0dcb0fc0891d54ba982bddd7b67c5ca323c563f2   \n",
       "1193   0xbd5622c171b879920d79d5bd7346c547fc7d4ada   \n",
       "\n",
       "                                                      id  \\\n",
       "11192  0x6376782e657468000000000000000000000000000000...   \n",
       "11191  0x6376782e657468000000000000000000000000000000...   \n",
       "11190  0x6376782e657468000000000000000000000000000000...   \n",
       "11189  0x6376782e657468000000000000000000000000000000...   \n",
       "11188  0x6376782e657468000000000000000000000000000000...   \n",
       "...                                                  ...   \n",
       "1197   0x6376782e657468000000000000000000000000000000...   \n",
       "1196   0x6376782e657468000000000000000000000000000000...   \n",
       "1195   0x6376782e657468000000000000000000000000000000...   \n",
       "1194   0x6376782e657468000000000000000000000000000000...   \n",
       "1193   0x6376782e657468000000000000000000000000000000...   \n",
       "\n",
       "                              origin_from_address  \\\n",
       "11192  0x6daa190c87b24ee12cfbf26ef406cb7b2d95089b   \n",
       "11191  0x3f86c3a4d4857a6f92999f214e2ed3ae7bb852c1   \n",
       "11190  0x3cebfe73cc946b9c7db360a07c14cc3ad135da48   \n",
       "11189  0x897258c8557e6205f7747b9cae593db334d8f5bf   \n",
       "11188  0x37b1884205cc47c2bf5cf5a0248946c4c0c85724   \n",
       "...                                           ...   \n",
       "1197   0xe47fd677ba6d3738cec98aa18bb6fa015b6f7bda   \n",
       "1196   0xec53ab6f6a2c5112c2a361d1f2b01f170824a5ce   \n",
       "1195   0x41374b389772d5aed41240a57f5ffb087c6bfa93   \n",
       "1194   0x0dcb0fc0891d54ba982bddd7b67c5ca323c563f2   \n",
       "1193   0xbd5622c171b879920d79d5bd7346c547fc7d4ada   \n",
       "\n",
       "                                                 tx_hash __row_index  \\\n",
       "11192  0x64cacda834ab126a7ef780fffc33dcf2ba35b8ac2ab4...       11193   \n",
       "11191  0x2049716e9eb7a1bb61b89efb483e0fa01dd790f87d28...       11192   \n",
       "11190  0x7d339e5a9ca2c5e268752d1ea819b3157e99b70ab79f...       11191   \n",
       "11189  0xb4d55d7a5a8f9f465934a925752148a489478e7bfe63...       11190   \n",
       "11188  0x7c7e7f213c074646d470136eae78b22fad7c31b6f477...       11189   \n",
       "...                                                  ...         ...   \n",
       "1197   0xda26e9f7fb314144f19960a81cb2c0f2883afc5eb73b...        1198   \n",
       "1196   0xab53d96b1fa885f014c513992b93a12954b2a3f4ec23...        1197   \n",
       "1195   0x550a824d8c12f2010d9015f84bbb293caeede622e143...        1196   \n",
       "1194   0xd2643f9c4e233aab7cfa3a5d681a9b00765bf4bfd567...        1195   \n",
       "1193   0xbcfff3742166e0988abb165e0b0ab666dea429390bed...        1194   \n",
       "\n",
       "                    checkpoint  \n",
       "11192  2022-12-22 00:00:25.000  \n",
       "11191  2022-12-22 00:00:25.000  \n",
       "11190  2022-12-22 00:00:25.000  \n",
       "11189  2022-12-22 00:00:25.000  \n",
       "11188  2022-12-22 00:00:25.000  \n",
       "...                        ...  \n",
       "1197   2022-12-22 00:00:25.000  \n",
       "1196   2022-12-22 00:00:25.000  \n",
       "1195   2022-12-22 00:00:25.000  \n",
       "1194   2022-12-22 00:00:25.000  \n",
       "1193   2022-12-22 00:00:25.000  \n",
       "\n",
       "[8062 rows x 9 columns]"
      ]
     },
     "execution_count": 44,
     "metadata": {},
     "output_type": "execute_result"
    }
   ],
   "source": [
    "df_local"
   ]
  },
  {
   "cell_type": "code",
   "execution_count": 45,
   "metadata": {},
   "outputs": [
    {
     "data": {
      "text/html": [
       "<div>\n",
       "<style scoped>\n",
       "    .dataframe tbody tr th:only-of-type {\n",
       "        vertical-align: middle;\n",
       "    }\n",
       "\n",
       "    .dataframe tbody tr th {\n",
       "        vertical-align: top;\n",
       "    }\n",
       "\n",
       "    .dataframe thead th {\n",
       "        text-align: right;\n",
       "    }\n",
       "</style>\n",
       "<table border=\"1\" class=\"dataframe\">\n",
       "  <thead>\n",
       "    <tr style=\"text-align: right;\">\n",
       "      <th></th>\n",
       "      <th>this_epoch</th>\n",
       "      <th>user</th>\n",
       "      <th>known_as</th>\n",
       "      <th>display_name</th>\n",
       "      <th>current_locked</th>\n",
       "      <th>lock_count</th>\n",
       "    </tr>\n",
       "  </thead>\n",
       "  <tbody>\n",
       "    <tr>\n",
       "      <th>175201</th>\n",
       "      <td>2022-12-21 19:00:00</td>\n",
       "      <td>0x0001f85d5eecc0a176e6197690baa3e62bde35c5</td>\n",
       "      <td>_</td>\n",
       "      <td>_ (0x0001)</td>\n",
       "      <td>302.856397</td>\n",
       "      <td>1</td>\n",
       "    </tr>\n",
       "    <tr>\n",
       "      <th>175202</th>\n",
       "      <td>2022-12-21 19:00:00</td>\n",
       "      <td>0x0017dfe08bcc0dc9a323ca5d4831e371534e9320</td>\n",
       "      <td>_</td>\n",
       "      <td>_ (0x0017)</td>\n",
       "      <td>3503.824879</td>\n",
       "      <td>1</td>\n",
       "    </tr>\n",
       "    <tr>\n",
       "      <th>175203</th>\n",
       "      <td>2022-12-21 19:00:00</td>\n",
       "      <td>0x0022e00560d1fd651e71df08d98edc028e3baf1a</td>\n",
       "      <td>_</td>\n",
       "      <td>_ (0x0022)</td>\n",
       "      <td>314.741854</td>\n",
       "      <td>1</td>\n",
       "    </tr>\n",
       "    <tr>\n",
       "      <th>175204</th>\n",
       "      <td>2022-12-21 19:00:00</td>\n",
       "      <td>0x0034daf2e65f6ef82bc6f893dbbfd7c232a0e59c</td>\n",
       "      <td>_</td>\n",
       "      <td>_ (0x0034)</td>\n",
       "      <td>4116.078932</td>\n",
       "      <td>9</td>\n",
       "    </tr>\n",
       "    <tr>\n",
       "      <th>175205</th>\n",
       "      <td>2022-12-21 19:00:00</td>\n",
       "      <td>0x003cd8f2dccf85848086958af7710c15461cff1f</td>\n",
       "      <td>_</td>\n",
       "      <td>_ (0x003c)</td>\n",
       "      <td>1.000000</td>\n",
       "      <td>1</td>\n",
       "    </tr>\n",
       "    <tr>\n",
       "      <th>...</th>\n",
       "      <td>...</td>\n",
       "      <td>...</td>\n",
       "      <td>...</td>\n",
       "      <td>...</td>\n",
       "      <td>...</td>\n",
       "      <td>...</td>\n",
       "    </tr>\n",
       "    <tr>\n",
       "      <th>178623</th>\n",
       "      <td>2022-12-21 19:00:00</td>\n",
       "      <td>0xff9a717fcf03318485579c4b553820edf73adf0a</td>\n",
       "      <td>_</td>\n",
       "      <td>_ (0xff9a)</td>\n",
       "      <td>44766.527170</td>\n",
       "      <td>9</td>\n",
       "    </tr>\n",
       "    <tr>\n",
       "      <th>178624</th>\n",
       "      <td>2022-12-21 19:00:00</td>\n",
       "      <td>0xff9b90914e248339ab0a50bf4798ef8b012eac79</td>\n",
       "      <td>_</td>\n",
       "      <td>_ (0xff9b)</td>\n",
       "      <td>4482.053422</td>\n",
       "      <td>2</td>\n",
       "    </tr>\n",
       "    <tr>\n",
       "      <th>178625</th>\n",
       "      <td>2022-12-21 19:00:00</td>\n",
       "      <td>0xffd3da76203642d4ee112893f33749a0df7ea7fd</td>\n",
       "      <td>_</td>\n",
       "      <td>_ (0xffd3)</td>\n",
       "      <td>1469.265502</td>\n",
       "      <td>2</td>\n",
       "    </tr>\n",
       "    <tr>\n",
       "      <th>178626</th>\n",
       "      <td>2022-12-21 19:00:00</td>\n",
       "      <td>0xffe4e3986d18333402564ea64f3a83fcc1907b52</td>\n",
       "      <td>_</td>\n",
       "      <td>_ (0xffe4)</td>\n",
       "      <td>15.809179</td>\n",
       "      <td>2</td>\n",
       "    </tr>\n",
       "    <tr>\n",
       "      <th>178627</th>\n",
       "      <td>2022-12-21 19:00:00</td>\n",
       "      <td>0xfff30cddd7013124f06a34a330053a1737afb514</td>\n",
       "      <td>_</td>\n",
       "      <td>_ (0xfff3)</td>\n",
       "      <td>364.127136</td>\n",
       "      <td>1</td>\n",
       "    </tr>\n",
       "  </tbody>\n",
       "</table>\n",
       "<p>3427 rows × 6 columns</p>\n",
       "</div>"
      ],
      "text/plain": [
       "                this_epoch                                        user  \\\n",
       "175201 2022-12-21 19:00:00  0x0001f85d5eecc0a176e6197690baa3e62bde35c5   \n",
       "175202 2022-12-21 19:00:00  0x0017dfe08bcc0dc9a323ca5d4831e371534e9320   \n",
       "175203 2022-12-21 19:00:00  0x0022e00560d1fd651e71df08d98edc028e3baf1a   \n",
       "175204 2022-12-21 19:00:00  0x0034daf2e65f6ef82bc6f893dbbfd7c232a0e59c   \n",
       "175205 2022-12-21 19:00:00  0x003cd8f2dccf85848086958af7710c15461cff1f   \n",
       "...                    ...                                         ...   \n",
       "178623 2022-12-21 19:00:00  0xff9a717fcf03318485579c4b553820edf73adf0a   \n",
       "178624 2022-12-21 19:00:00  0xff9b90914e248339ab0a50bf4798ef8b012eac79   \n",
       "178625 2022-12-21 19:00:00  0xffd3da76203642d4ee112893f33749a0df7ea7fd   \n",
       "178626 2022-12-21 19:00:00  0xffe4e3986d18333402564ea64f3a83fcc1907b52   \n",
       "178627 2022-12-21 19:00:00  0xfff30cddd7013124f06a34a330053a1737afb514   \n",
       "\n",
       "       known_as display_name  current_locked  lock_count  \n",
       "175201        _   _ (0x0001)      302.856397           1  \n",
       "175202        _   _ (0x0017)     3503.824879           1  \n",
       "175203        _   _ (0x0022)      314.741854           1  \n",
       "175204        _   _ (0x0034)     4116.078932           9  \n",
       "175205        _   _ (0x003c)        1.000000           1  \n",
       "...         ...          ...             ...         ...  \n",
       "178623        _   _ (0xff9a)    44766.527170           9  \n",
       "178624        _   _ (0xff9b)     4482.053422           2  \n",
       "178625        _   _ (0xffd3)     1469.265502           2  \n",
       "178626        _   _ (0xffe4)       15.809179           2  \n",
       "178627        _   _ (0xfff3)      364.127136           1  \n",
       "\n",
       "[3427 rows x 6 columns]"
      ]
     },
     "execution_count": 45,
     "metadata": {},
     "output_type": "execute_result"
    }
   ],
   "source": [
    "df_lock_local = pcl_agg_user[pcl_agg_user['this_epoch'] < current_date ]\n",
    "target_epoch = df_lock_local.this_epoch.max()\n",
    "df_lock_local = df_lock_local[df_lock_local['this_epoch'] == target_epoch ]\n",
    "df_lock_local\n"
   ]
  },
  {
   "cell_type": "code",
   "execution_count": 46,
   "metadata": {},
   "outputs": [
    {
     "data": {
      "text/plain": [
       "Timestamp('2022-12-21 19:00:00')"
      ]
     },
     "execution_count": 46,
     "metadata": {},
     "output_type": "execute_result"
    }
   ],
   "source": [
    "target_epoch"
   ]
  },
  {
   "cell_type": "code",
   "execution_count": 47,
   "metadata": {},
   "outputs": [
    {
     "data": {
      "text/html": [
       "<div>\n",
       "<style scoped>\n",
       "    .dataframe tbody tr th:only-of-type {\n",
       "        vertical-align: middle;\n",
       "    }\n",
       "\n",
       "    .dataframe tbody tr th {\n",
       "        vertical-align: top;\n",
       "    }\n",
       "\n",
       "    .dataframe thead th {\n",
       "        text-align: right;\n",
       "    }\n",
       "</style>\n",
       "<table border=\"1\" class=\"dataframe\">\n",
       "  <thead>\n",
       "    <tr style=\"text-align: right;\">\n",
       "      <th></th>\n",
       "      <th>this_epoch</th>\n",
       "      <th>user</th>\n",
       "      <th>known_as</th>\n",
       "      <th>display_name</th>\n",
       "      <th>current_locked</th>\n",
       "      <th>lock_count</th>\n",
       "    </tr>\n",
       "  </thead>\n",
       "  <tbody>\n",
       "    <tr>\n",
       "      <th>176066</th>\n",
       "      <td>2022-12-21 19:00:00</td>\n",
       "      <td>0x41374b389772d5aed41240a57f5ffb087c6bfa93</td>\n",
       "      <td>_</td>\n",
       "      <td>_ (0x4137)</td>\n",
       "      <td>691.329902</td>\n",
       "      <td>4</td>\n",
       "    </tr>\n",
       "  </tbody>\n",
       "</table>\n",
       "</div>"
      ],
      "text/plain": [
       "                this_epoch                                        user  \\\n",
       "176066 2022-12-21 19:00:00  0x41374b389772d5aed41240a57f5ffb087c6bfa93   \n",
       "\n",
       "       known_as display_name  current_locked  lock_count  \n",
       "176066        _   _ (0x4137)      691.329902           4  "
      ]
     },
     "execution_count": 47,
     "metadata": {},
     "output_type": "execute_result"
    }
   ],
   "source": [
    "df_lock_local[df_lock_local['user']== '0x41374b389772d5aed41240a57f5ffb087c6bfa93']\n",
    "# pcl_agg_user[pcl_agg_user['user']== '0x41374b389772d5aed41240a57f5ffb087c6bfa93']"
   ]
  },
  {
   "cell_type": "code",
   "execution_count": 48,
   "metadata": {},
   "outputs": [
    {
     "data": {
      "text/html": [
       "<div>\n",
       "<style scoped>\n",
       "    .dataframe tbody tr th:only-of-type {\n",
       "        vertical-align: middle;\n",
       "    }\n",
       "\n",
       "    .dataframe tbody tr th {\n",
       "        vertical-align: top;\n",
       "    }\n",
       "\n",
       "    .dataframe thead th {\n",
       "        text-align: right;\n",
       "    }\n",
       "</style>\n",
       "<table border=\"1\" class=\"dataframe\">\n",
       "  <thead>\n",
       "    <tr style=\"text-align: right;\">\n",
       "      <th></th>\n",
       "      <th>block_timestamp</th>\n",
       "      <th>event_name</th>\n",
       "      <th>delegate</th>\n",
       "      <th>delegator</th>\n",
       "      <th>id</th>\n",
       "      <th>origin_from_address</th>\n",
       "      <th>tx_hash</th>\n",
       "      <th>__row_index</th>\n",
       "      <th>checkpoint</th>\n",
       "    </tr>\n",
       "  </thead>\n",
       "  <tbody>\n",
       "    <tr>\n",
       "      <th>1195</th>\n",
       "      <td>2022-12-20T21:41:23.000Z</td>\n",
       "      <td>SetDelegate</td>\n",
       "      <td>0xde1e6a7ed0ad3f61d531a8a78e83ccddbd6e0c49</td>\n",
       "      <td>0x41374b389772d5aed41240a57f5ffb087c6bfa93</td>\n",
       "      <td>0x6376782e657468000000000000000000000000000000...</td>\n",
       "      <td>0x41374b389772d5aed41240a57f5ffb087c6bfa93</td>\n",
       "      <td>0x550a824d8c12f2010d9015f84bbb293caeede622e143...</td>\n",
       "      <td>1196</td>\n",
       "      <td>2022-12-22 00:00:25.000</td>\n",
       "    </tr>\n",
       "  </tbody>\n",
       "</table>\n",
       "</div>"
      ],
      "text/plain": [
       "               block_timestamp   event_name  \\\n",
       "1195  2022-12-20T21:41:23.000Z  SetDelegate   \n",
       "\n",
       "                                        delegate  \\\n",
       "1195  0xde1e6a7ed0ad3f61d531a8a78e83ccddbd6e0c49   \n",
       "\n",
       "                                       delegator  \\\n",
       "1195  0x41374b389772d5aed41240a57f5ffb087c6bfa93   \n",
       "\n",
       "                                                     id  \\\n",
       "1195  0x6376782e657468000000000000000000000000000000...   \n",
       "\n",
       "                             origin_from_address  \\\n",
       "1195  0x41374b389772d5aed41240a57f5ffb087c6bfa93   \n",
       "\n",
       "                                                tx_hash __row_index  \\\n",
       "1195  0x550a824d8c12f2010d9015f84bbb293caeede622e143...        1196   \n",
       "\n",
       "                   checkpoint  \n",
       "1195  2022-12-22 00:00:25.000  "
      ]
     },
     "execution_count": 48,
     "metadata": {},
     "output_type": "execute_result"
    }
   ],
   "source": [
    "df_local[df_local['delegator'] == '0x41374b389772d5aed41240a57f5ffb087c6bfa93']"
   ]
  },
  {
   "cell_type": "code",
   "execution_count": 49,
   "metadata": {},
   "outputs": [
    {
     "data": {
      "text/html": [
       "<div>\n",
       "<style scoped>\n",
       "    .dataframe tbody tr th:only-of-type {\n",
       "        vertical-align: middle;\n",
       "    }\n",
       "\n",
       "    .dataframe tbody tr th {\n",
       "        vertical-align: top;\n",
       "    }\n",
       "\n",
       "    .dataframe thead th {\n",
       "        text-align: right;\n",
       "    }\n",
       "</style>\n",
       "<table border=\"1\" class=\"dataframe\">\n",
       "  <thead>\n",
       "    <tr style=\"text-align: right;\">\n",
       "      <th></th>\n",
       "      <th>this_epoch</th>\n",
       "      <th>user</th>\n",
       "      <th>known_as</th>\n",
       "      <th>display_name</th>\n",
       "      <th>current_locked</th>\n",
       "      <th>lock_count</th>\n",
       "    </tr>\n",
       "  </thead>\n",
       "  <tbody>\n",
       "  </tbody>\n",
       "</table>\n",
       "</div>"
      ],
      "text/plain": [
       "Empty DataFrame\n",
       "Columns: [this_epoch, user, known_as, display_name, current_locked, lock_count]\n",
       "Index: []"
      ]
     },
     "execution_count": 49,
     "metadata": {},
     "output_type": "execute_result"
    }
   ],
   "source": [
    "pcl.df_aggregate_user_epoch[pcl.df_aggregate_user_epoch['known_as']== 'Reserve 1']"
   ]
  },
  {
   "cell_type": "code",
   "execution_count": 50,
   "metadata": {},
   "outputs": [],
   "source": [
    "# df_convex_processed_locks[df_convex_processed_locks['relocked'] == True]"
   ]
  },
  {
   "cell_type": "code",
   "execution_count": 51,
   "metadata": {},
   "outputs": [],
   "source": [
    "class ProcessConvexDelegations():\n",
    "    def __init__(self, df_delegations, df_snapshot_votes, convex_locker ):\n",
    "        # Existing\n",
    "        self.df_delegations = df_delegations\n",
    "        self.df_snapshot_votes = df_snapshot_votes\n",
    "        self.convex_locker = convex_locker\n",
    "        # New\n",
    "        self.delegator_per_proposal = []    # aggregates delegator per proposal\n",
    "        self.delegator_locks_per_proposal = [] # delegator per proposal plus lock info\n",
    "        self.aggregate_delegates = []  # sum balance per delegate per epoch and proposal\n",
    "        self.locks_with_delegate_context = [] # df_aggregate_user_epoch + delegate identifier per epoch\n",
    "        # self.vote_power = []\n",
    "        self.process()\n",
    "        self.process_aggregate_system()\n",
    "\n",
    "\n",
    "        # self.df_votes = df_snapshot_votes\n",
    "        # self.delegtors = {}\n",
    "        # self.delegates = {}\n",
    "\n",
    "    \n",
    "    def process(self):\n",
    "        proposal_starts = self.df_snapshot_votes.proposal_start.unique()\n",
    "        delegator_list = []\n",
    "        delegator_lock_list = []\n",
    "        lock_delegate_list = []\n",
    "        pcl_agg_user = self.convex_locker.df_aggregate_user_epoch\n",
    "        for current_date in proposal_starts:\n",
    "            # delegation\n",
    "            local_delegators = df_delegations[df_delegations['block_timestamp'] < current_date ]\n",
    "            local_delegators = local_delegators.sort_values(['block_timestamp']).groupby(['delegator']).tail(1)\n",
    "            local_delegators['checkpoint'] = current_date\n",
    "            \n",
    "            local_delegators_with_locks = local_delegators.copy()\n",
    "\n",
    "            # locks\n",
    "            df_lock_local = pcl_agg_user[pcl_agg_user['this_epoch'] < current_date ]\n",
    "            target_epoch = df_lock_local.this_epoch.max()\n",
    "            df_lock_local = df_lock_local[df_lock_local['this_epoch'] == target_epoch ]\n",
    "\n",
    "            # Join Delegators and Locks\n",
    "            local_delegators_with_locks = local_delegators_with_locks[['delegate', 'delegator', 'checkpoint']].set_index('delegator').join(df_lock_local.set_index('user')).reset_index()\n",
    "            \n",
    "            delegator_list.append(local_delegators)\n",
    "            delegator_lock_list.append(local_delegators_with_locks)\n",
    "\n",
    "            # Join Locks and Delegates (to reference delegation on locks per epoch per user)\n",
    "            # df_local_3\n",
    "            local_locks_with_delegators = df_lock_local.set_index('user').join(local_delegators[['delegate', 'delegator']].set_index('delegator')).reset_index()\n",
    "            # delegator_lock_list.append(df_local_3)        \n",
    "            lock_delegate_list.append(local_locks_with_delegators)\n",
    "\n",
    "\n",
    "            # Join Locks and Delegate to Votes:\n",
    "            \n",
    "        self.delegator_per_proposal = pd.concat(delegator_list)\n",
    "        temp = pd.concat(delegator_lock_list)\n",
    "        self.delegator_locks_per_proposal = temp[temp['current_locked'] > 0]\n",
    "        self.locks_with_delegate_context = pd.concat(lock_delegate_list)\n",
    "        return\n",
    "\n",
    "    def process_aggregate_system(self):\n",
    "        self.aggregate_delegates = self.delegator_locks_per_proposal.groupby([\n",
    "                'checkpoint', 'delegate', 'this_epoch'\n",
    "            ]).agg(\n",
    "            total_delegated=pd.NamedAgg(column='current_locked', aggfunc=sum),\n",
    "            delegated_lock_count=pd.NamedAgg(column='lock_count', aggfunc=sum),\n",
    "            delegators_count=pd.NamedAgg(column='delegator', aggfunc=lambda x: len(x.unique())),\n",
    "            delegators=pd.NamedAgg(column='delegator', aggfunc=list),\n",
    "\n",
    "        ).reset_index()\n",
    "        return\n",
    "    \n",
    "   \n"
   ]
  },
  {
   "cell_type": "code",
   "execution_count": 52,
   "metadata": {},
   "outputs": [],
   "source": [
    "pcb = ProcessConvexDelegations(df_delegations, df_convex_snapshot_vote_choice, pcl)"
   ]
  },
  {
   "cell_type": "code",
   "execution_count": 53,
   "metadata": {},
   "outputs": [
    {
     "data": {
      "text/html": [
       "<div>\n",
       "<style scoped>\n",
       "    .dataframe tbody tr th:only-of-type {\n",
       "        vertical-align: middle;\n",
       "    }\n",
       "\n",
       "    .dataframe tbody tr th {\n",
       "        vertical-align: top;\n",
       "    }\n",
       "\n",
       "    .dataframe thead th {\n",
       "        text-align: right;\n",
       "    }\n",
       "</style>\n",
       "<table border=\"1\" class=\"dataframe\">\n",
       "  <thead>\n",
       "    <tr style=\"text-align: right;\">\n",
       "      <th></th>\n",
       "      <th>user</th>\n",
       "      <th>this_epoch</th>\n",
       "      <th>known_as</th>\n",
       "      <th>display_name</th>\n",
       "      <th>current_locked</th>\n",
       "      <th>lock_count</th>\n",
       "      <th>delegate</th>\n",
       "    </tr>\n",
       "  </thead>\n",
       "  <tbody>\n",
       "    <tr>\n",
       "      <th>0</th>\n",
       "      <td>0x0001f85d5eecc0a176e6197690baa3e62bde35c5</td>\n",
       "      <td>2022-12-21 19:00:00</td>\n",
       "      <td>_</td>\n",
       "      <td>_ (0x0001)</td>\n",
       "      <td>302.856397</td>\n",
       "      <td>1</td>\n",
       "      <td>0xde1e6a7ed0ad3f61d531a8a78e83ccddbd6e0c49</td>\n",
       "    </tr>\n",
       "    <tr>\n",
       "      <th>1</th>\n",
       "      <td>0x0017dfe08bcc0dc9a323ca5d4831e371534e9320</td>\n",
       "      <td>2022-12-21 19:00:00</td>\n",
       "      <td>_</td>\n",
       "      <td>_ (0x0017)</td>\n",
       "      <td>3503.824879</td>\n",
       "      <td>1</td>\n",
       "      <td>NaN</td>\n",
       "    </tr>\n",
       "    <tr>\n",
       "      <th>2</th>\n",
       "      <td>0x0022e00560d1fd651e71df08d98edc028e3baf1a</td>\n",
       "      <td>2022-12-21 19:00:00</td>\n",
       "      <td>_</td>\n",
       "      <td>_ (0x0022)</td>\n",
       "      <td>314.741854</td>\n",
       "      <td>1</td>\n",
       "      <td>0xde1e6a7ed0ad3f61d531a8a78e83ccddbd6e0c49</td>\n",
       "    </tr>\n",
       "    <tr>\n",
       "      <th>3</th>\n",
       "      <td>0x0034daf2e65f6ef82bc6f893dbbfd7c232a0e59c</td>\n",
       "      <td>2022-12-21 19:00:00</td>\n",
       "      <td>_</td>\n",
       "      <td>_ (0x0034)</td>\n",
       "      <td>4116.078932</td>\n",
       "      <td>9</td>\n",
       "      <td>0xde1e6a7ed0ad3f61d531a8a78e83ccddbd6e0c49</td>\n",
       "    </tr>\n",
       "    <tr>\n",
       "      <th>4</th>\n",
       "      <td>0x003cd8f2dccf85848086958af7710c15461cff1f</td>\n",
       "      <td>2022-12-21 19:00:00</td>\n",
       "      <td>_</td>\n",
       "      <td>_ (0x003c)</td>\n",
       "      <td>1.000000</td>\n",
       "      <td>1</td>\n",
       "      <td>0xde1e6a7ed0ad3f61d531a8a78e83ccddbd6e0c49</td>\n",
       "    </tr>\n",
       "    <tr>\n",
       "      <th>...</th>\n",
       "      <td>...</td>\n",
       "      <td>...</td>\n",
       "      <td>...</td>\n",
       "      <td>...</td>\n",
       "      <td>...</td>\n",
       "      <td>...</td>\n",
       "      <td>...</td>\n",
       "    </tr>\n",
       "    <tr>\n",
       "      <th>1935</th>\n",
       "      <td>0xff0b6ffc4507812f5380062d91a79e464508bde1</td>\n",
       "      <td>2023-12-06 19:00:00</td>\n",
       "      <td>_</td>\n",
       "      <td>_ (0xff0b)</td>\n",
       "      <td>5775.694726</td>\n",
       "      <td>1</td>\n",
       "      <td>0xde1e6a7ed0ad3f61d531a8a78e83ccddbd6e0c49</td>\n",
       "    </tr>\n",
       "    <tr>\n",
       "      <th>1936</th>\n",
       "      <td>0xff3bd22870c5c4d097619d75d7e2be056581b013</td>\n",
       "      <td>2023-12-06 19:00:00</td>\n",
       "      <td>_</td>\n",
       "      <td>_ (0xff3b)</td>\n",
       "      <td>28977.718082</td>\n",
       "      <td>20</td>\n",
       "      <td>0xde1e6a7ed0ad3f61d531a8a78e83ccddbd6e0c49</td>\n",
       "    </tr>\n",
       "    <tr>\n",
       "      <th>1937</th>\n",
       "      <td>0xff597632d59c49e918fe26cda385f37a0db8a713</td>\n",
       "      <td>2023-12-06 19:00:00</td>\n",
       "      <td>_</td>\n",
       "      <td>_ (0xff59)</td>\n",
       "      <td>3063.467325</td>\n",
       "      <td>1</td>\n",
       "      <td>0xde1e6a7ed0ad3f61d531a8a78e83ccddbd6e0c49</td>\n",
       "    </tr>\n",
       "    <tr>\n",
       "      <th>1938</th>\n",
       "      <td>0xffd3da76203642d4ee112893f33749a0df7ea7fd</td>\n",
       "      <td>2023-12-06 19:00:00</td>\n",
       "      <td>_</td>\n",
       "      <td>_ (0xffd3)</td>\n",
       "      <td>1432.250066</td>\n",
       "      <td>1</td>\n",
       "      <td>0xde1e6a7ed0ad3f61d531a8a78e83ccddbd6e0c49</td>\n",
       "    </tr>\n",
       "    <tr>\n",
       "      <th>1939</th>\n",
       "      <td>0xffe4e3986d18333402564ea64f3a83fcc1907b52</td>\n",
       "      <td>2023-12-06 19:00:00</td>\n",
       "      <td>_</td>\n",
       "      <td>_ (0xffe4)</td>\n",
       "      <td>26.461834</td>\n",
       "      <td>1</td>\n",
       "      <td>0xde1e6a7ed0ad3f61d531a8a78e83ccddbd6e0c49</td>\n",
       "    </tr>\n",
       "  </tbody>\n",
       "</table>\n",
       "<p>70846 rows × 7 columns</p>\n",
       "</div>"
      ],
      "text/plain": [
       "                                            user          this_epoch known_as  \\\n",
       "0     0x0001f85d5eecc0a176e6197690baa3e62bde35c5 2022-12-21 19:00:00        _   \n",
       "1     0x0017dfe08bcc0dc9a323ca5d4831e371534e9320 2022-12-21 19:00:00        _   \n",
       "2     0x0022e00560d1fd651e71df08d98edc028e3baf1a 2022-12-21 19:00:00        _   \n",
       "3     0x0034daf2e65f6ef82bc6f893dbbfd7c232a0e59c 2022-12-21 19:00:00        _   \n",
       "4     0x003cd8f2dccf85848086958af7710c15461cff1f 2022-12-21 19:00:00        _   \n",
       "...                                          ...                 ...      ...   \n",
       "1935  0xff0b6ffc4507812f5380062d91a79e464508bde1 2023-12-06 19:00:00        _   \n",
       "1936  0xff3bd22870c5c4d097619d75d7e2be056581b013 2023-12-06 19:00:00        _   \n",
       "1937  0xff597632d59c49e918fe26cda385f37a0db8a713 2023-12-06 19:00:00        _   \n",
       "1938  0xffd3da76203642d4ee112893f33749a0df7ea7fd 2023-12-06 19:00:00        _   \n",
       "1939  0xffe4e3986d18333402564ea64f3a83fcc1907b52 2023-12-06 19:00:00        _   \n",
       "\n",
       "     display_name  current_locked  lock_count  \\\n",
       "0      _ (0x0001)      302.856397           1   \n",
       "1      _ (0x0017)     3503.824879           1   \n",
       "2      _ (0x0022)      314.741854           1   \n",
       "3      _ (0x0034)     4116.078932           9   \n",
       "4      _ (0x003c)        1.000000           1   \n",
       "...           ...             ...         ...   \n",
       "1935   _ (0xff0b)     5775.694726           1   \n",
       "1936   _ (0xff3b)    28977.718082          20   \n",
       "1937   _ (0xff59)     3063.467325           1   \n",
       "1938   _ (0xffd3)     1432.250066           1   \n",
       "1939   _ (0xffe4)       26.461834           1   \n",
       "\n",
       "                                        delegate  \n",
       "0     0xde1e6a7ed0ad3f61d531a8a78e83ccddbd6e0c49  \n",
       "1                                            NaN  \n",
       "2     0xde1e6a7ed0ad3f61d531a8a78e83ccddbd6e0c49  \n",
       "3     0xde1e6a7ed0ad3f61d531a8a78e83ccddbd6e0c49  \n",
       "4     0xde1e6a7ed0ad3f61d531a8a78e83ccddbd6e0c49  \n",
       "...                                          ...  \n",
       "1935  0xde1e6a7ed0ad3f61d531a8a78e83ccddbd6e0c49  \n",
       "1936  0xde1e6a7ed0ad3f61d531a8a78e83ccddbd6e0c49  \n",
       "1937  0xde1e6a7ed0ad3f61d531a8a78e83ccddbd6e0c49  \n",
       "1938  0xde1e6a7ed0ad3f61d531a8a78e83ccddbd6e0c49  \n",
       "1939  0xde1e6a7ed0ad3f61d531a8a78e83ccddbd6e0c49  \n",
       "\n",
       "[70846 rows x 7 columns]"
      ]
     },
     "execution_count": 53,
     "metadata": {},
     "output_type": "execute_result"
    }
   ],
   "source": [
    "pcb.locks_with_delegate_context"
   ]
  },
  {
   "cell_type": "code",
   "execution_count": 54,
   "metadata": {},
   "outputs": [
    {
     "data": {
      "text/html": [
       "<div>\n",
       "<style scoped>\n",
       "    .dataframe tbody tr th:only-of-type {\n",
       "        vertical-align: middle;\n",
       "    }\n",
       "\n",
       "    .dataframe tbody tr th {\n",
       "        vertical-align: top;\n",
       "    }\n",
       "\n",
       "    .dataframe thead th {\n",
       "        text-align: right;\n",
       "    }\n",
       "</style>\n",
       "<table border=\"1\" class=\"dataframe\">\n",
       "  <thead>\n",
       "    <tr style=\"text-align: right;\">\n",
       "      <th></th>\n",
       "      <th>checkpoint</th>\n",
       "      <th>delegate</th>\n",
       "      <th>this_epoch</th>\n",
       "      <th>total_delegated</th>\n",
       "      <th>delegated_lock_count</th>\n",
       "      <th>delegators_count</th>\n",
       "      <th>delegators</th>\n",
       "    </tr>\n",
       "  </thead>\n",
       "  <tbody>\n",
       "    <tr>\n",
       "      <th>0</th>\n",
       "      <td>2022-12-22 00:00:25.000</td>\n",
       "      <td>0x118e2ae07382d8ac768712e095bab4a06590e4a5</td>\n",
       "      <td>2022-12-21 19:00:00</td>\n",
       "      <td>4.188917e+03</td>\n",
       "      <td>3.0</td>\n",
       "      <td>2</td>\n",
       "      <td>[0x598c5e19a132a5c433a80c908f05d87bfdaac4ae, 0...</td>\n",
       "    </tr>\n",
       "    <tr>\n",
       "      <th>1</th>\n",
       "      <td>2022-12-22 00:00:25.000</td>\n",
       "      <td>0x14f83ff95d4ec5e8812ddf42da1232b0ba1015e6</td>\n",
       "      <td>2022-12-21 19:00:00</td>\n",
       "      <td>1.619827e+06</td>\n",
       "      <td>11.0</td>\n",
       "      <td>3</td>\n",
       "      <td>[0xe3e202b2cac2b3ec41219c69fe0d2352b19cef69, 0...</td>\n",
       "    </tr>\n",
       "    <tr>\n",
       "      <th>2</th>\n",
       "      <td>2022-12-22 00:00:25.000</td>\n",
       "      <td>0x23bc20fdd363bbf39349c67b8745d88de86ca78b</td>\n",
       "      <td>2022-12-21 19:00:00</td>\n",
       "      <td>1.606152e+02</td>\n",
       "      <td>1.0</td>\n",
       "      <td>1</td>\n",
       "      <td>[0x398a7d432b6988da02ee9cfe75f93e6df201e98e]</td>\n",
       "    </tr>\n",
       "  </tbody>\n",
       "</table>\n",
       "</div>"
      ],
      "text/plain": [
       "                checkpoint                                    delegate  \\\n",
       "0  2022-12-22 00:00:25.000  0x118e2ae07382d8ac768712e095bab4a06590e4a5   \n",
       "1  2022-12-22 00:00:25.000  0x14f83ff95d4ec5e8812ddf42da1232b0ba1015e6   \n",
       "2  2022-12-22 00:00:25.000  0x23bc20fdd363bbf39349c67b8745d88de86ca78b   \n",
       "\n",
       "           this_epoch  total_delegated  delegated_lock_count  \\\n",
       "0 2022-12-21 19:00:00     4.188917e+03                   3.0   \n",
       "1 2022-12-21 19:00:00     1.619827e+06                  11.0   \n",
       "2 2022-12-21 19:00:00     1.606152e+02                   1.0   \n",
       "\n",
       "   delegators_count                                         delegators  \n",
       "0                 2  [0x598c5e19a132a5c433a80c908f05d87bfdaac4ae, 0...  \n",
       "1                 3  [0xe3e202b2cac2b3ec41219c69fe0d2352b19cef69, 0...  \n",
       "2                 1       [0x398a7d432b6988da02ee9cfe75f93e6df201e98e]  "
      ]
     },
     "execution_count": 54,
     "metadata": {},
     "output_type": "execute_result"
    }
   ],
   "source": [
    "pcb.aggregate_delegates.head(3)\n"
   ]
  },
  {
   "cell_type": "code",
   "execution_count": 55,
   "metadata": {},
   "outputs": [
    {
     "data": {
      "text/html": [
       "<div>\n",
       "<style scoped>\n",
       "    .dataframe tbody tr th:only-of-type {\n",
       "        vertical-align: middle;\n",
       "    }\n",
       "\n",
       "    .dataframe tbody tr th {\n",
       "        vertical-align: top;\n",
       "    }\n",
       "\n",
       "    .dataframe thead th {\n",
       "        text-align: right;\n",
       "    }\n",
       "</style>\n",
       "<table border=\"1\" class=\"dataframe\">\n",
       "  <thead>\n",
       "    <tr style=\"text-align: right;\">\n",
       "      <th></th>\n",
       "      <th>user</th>\n",
       "      <th>this_epoch</th>\n",
       "      <th>known_as</th>\n",
       "      <th>display_name</th>\n",
       "      <th>current_locked</th>\n",
       "      <th>lock_count</th>\n",
       "      <th>delegate</th>\n",
       "    </tr>\n",
       "  </thead>\n",
       "  <tbody>\n",
       "    <tr>\n",
       "      <th>0</th>\n",
       "      <td>0x0001f85d5eecc0a176e6197690baa3e62bde35c5</td>\n",
       "      <td>2022-12-21 19:00:00</td>\n",
       "      <td>_</td>\n",
       "      <td>_ (0x0001)</td>\n",
       "      <td>302.856397</td>\n",
       "      <td>1</td>\n",
       "      <td>0xde1e6a7ed0ad3f61d531a8a78e83ccddbd6e0c49</td>\n",
       "    </tr>\n",
       "    <tr>\n",
       "      <th>1</th>\n",
       "      <td>0x0017dfe08bcc0dc9a323ca5d4831e371534e9320</td>\n",
       "      <td>2022-12-21 19:00:00</td>\n",
       "      <td>_</td>\n",
       "      <td>_ (0x0017)</td>\n",
       "      <td>3503.824879</td>\n",
       "      <td>1</td>\n",
       "      <td>NaN</td>\n",
       "    </tr>\n",
       "    <tr>\n",
       "      <th>2</th>\n",
       "      <td>0x0022e00560d1fd651e71df08d98edc028e3baf1a</td>\n",
       "      <td>2022-12-21 19:00:00</td>\n",
       "      <td>_</td>\n",
       "      <td>_ (0x0022)</td>\n",
       "      <td>314.741854</td>\n",
       "      <td>1</td>\n",
       "      <td>0xde1e6a7ed0ad3f61d531a8a78e83ccddbd6e0c49</td>\n",
       "    </tr>\n",
       "    <tr>\n",
       "      <th>3</th>\n",
       "      <td>0x0034daf2e65f6ef82bc6f893dbbfd7c232a0e59c</td>\n",
       "      <td>2022-12-21 19:00:00</td>\n",
       "      <td>_</td>\n",
       "      <td>_ (0x0034)</td>\n",
       "      <td>4116.078932</td>\n",
       "      <td>9</td>\n",
       "      <td>0xde1e6a7ed0ad3f61d531a8a78e83ccddbd6e0c49</td>\n",
       "    </tr>\n",
       "    <tr>\n",
       "      <th>4</th>\n",
       "      <td>0x003cd8f2dccf85848086958af7710c15461cff1f</td>\n",
       "      <td>2022-12-21 19:00:00</td>\n",
       "      <td>_</td>\n",
       "      <td>_ (0x003c)</td>\n",
       "      <td>1.000000</td>\n",
       "      <td>1</td>\n",
       "      <td>0xde1e6a7ed0ad3f61d531a8a78e83ccddbd6e0c49</td>\n",
       "    </tr>\n",
       "    <tr>\n",
       "      <th>...</th>\n",
       "      <td>...</td>\n",
       "      <td>...</td>\n",
       "      <td>...</td>\n",
       "      <td>...</td>\n",
       "      <td>...</td>\n",
       "      <td>...</td>\n",
       "      <td>...</td>\n",
       "    </tr>\n",
       "    <tr>\n",
       "      <th>1935</th>\n",
       "      <td>0xff0b6ffc4507812f5380062d91a79e464508bde1</td>\n",
       "      <td>2023-12-06 19:00:00</td>\n",
       "      <td>_</td>\n",
       "      <td>_ (0xff0b)</td>\n",
       "      <td>5775.694726</td>\n",
       "      <td>1</td>\n",
       "      <td>0xde1e6a7ed0ad3f61d531a8a78e83ccddbd6e0c49</td>\n",
       "    </tr>\n",
       "    <tr>\n",
       "      <th>1936</th>\n",
       "      <td>0xff3bd22870c5c4d097619d75d7e2be056581b013</td>\n",
       "      <td>2023-12-06 19:00:00</td>\n",
       "      <td>_</td>\n",
       "      <td>_ (0xff3b)</td>\n",
       "      <td>28977.718082</td>\n",
       "      <td>20</td>\n",
       "      <td>0xde1e6a7ed0ad3f61d531a8a78e83ccddbd6e0c49</td>\n",
       "    </tr>\n",
       "    <tr>\n",
       "      <th>1937</th>\n",
       "      <td>0xff597632d59c49e918fe26cda385f37a0db8a713</td>\n",
       "      <td>2023-12-06 19:00:00</td>\n",
       "      <td>_</td>\n",
       "      <td>_ (0xff59)</td>\n",
       "      <td>3063.467325</td>\n",
       "      <td>1</td>\n",
       "      <td>0xde1e6a7ed0ad3f61d531a8a78e83ccddbd6e0c49</td>\n",
       "    </tr>\n",
       "    <tr>\n",
       "      <th>1938</th>\n",
       "      <td>0xffd3da76203642d4ee112893f33749a0df7ea7fd</td>\n",
       "      <td>2023-12-06 19:00:00</td>\n",
       "      <td>_</td>\n",
       "      <td>_ (0xffd3)</td>\n",
       "      <td>1432.250066</td>\n",
       "      <td>1</td>\n",
       "      <td>0xde1e6a7ed0ad3f61d531a8a78e83ccddbd6e0c49</td>\n",
       "    </tr>\n",
       "    <tr>\n",
       "      <th>1939</th>\n",
       "      <td>0xffe4e3986d18333402564ea64f3a83fcc1907b52</td>\n",
       "      <td>2023-12-06 19:00:00</td>\n",
       "      <td>_</td>\n",
       "      <td>_ (0xffe4)</td>\n",
       "      <td>26.461834</td>\n",
       "      <td>1</td>\n",
       "      <td>0xde1e6a7ed0ad3f61d531a8a78e83ccddbd6e0c49</td>\n",
       "    </tr>\n",
       "  </tbody>\n",
       "</table>\n",
       "<p>70846 rows × 7 columns</p>\n",
       "</div>"
      ],
      "text/plain": [
       "                                            user          this_epoch known_as  \\\n",
       "0     0x0001f85d5eecc0a176e6197690baa3e62bde35c5 2022-12-21 19:00:00        _   \n",
       "1     0x0017dfe08bcc0dc9a323ca5d4831e371534e9320 2022-12-21 19:00:00        _   \n",
       "2     0x0022e00560d1fd651e71df08d98edc028e3baf1a 2022-12-21 19:00:00        _   \n",
       "3     0x0034daf2e65f6ef82bc6f893dbbfd7c232a0e59c 2022-12-21 19:00:00        _   \n",
       "4     0x003cd8f2dccf85848086958af7710c15461cff1f 2022-12-21 19:00:00        _   \n",
       "...                                          ...                 ...      ...   \n",
       "1935  0xff0b6ffc4507812f5380062d91a79e464508bde1 2023-12-06 19:00:00        _   \n",
       "1936  0xff3bd22870c5c4d097619d75d7e2be056581b013 2023-12-06 19:00:00        _   \n",
       "1937  0xff597632d59c49e918fe26cda385f37a0db8a713 2023-12-06 19:00:00        _   \n",
       "1938  0xffd3da76203642d4ee112893f33749a0df7ea7fd 2023-12-06 19:00:00        _   \n",
       "1939  0xffe4e3986d18333402564ea64f3a83fcc1907b52 2023-12-06 19:00:00        _   \n",
       "\n",
       "     display_name  current_locked  lock_count  \\\n",
       "0      _ (0x0001)      302.856397           1   \n",
       "1      _ (0x0017)     3503.824879           1   \n",
       "2      _ (0x0022)      314.741854           1   \n",
       "3      _ (0x0034)     4116.078932           9   \n",
       "4      _ (0x003c)        1.000000           1   \n",
       "...           ...             ...         ...   \n",
       "1935   _ (0xff0b)     5775.694726           1   \n",
       "1936   _ (0xff3b)    28977.718082          20   \n",
       "1937   _ (0xff59)     3063.467325           1   \n",
       "1938   _ (0xffd3)     1432.250066           1   \n",
       "1939   _ (0xffe4)       26.461834           1   \n",
       "\n",
       "                                        delegate  \n",
       "0     0xde1e6a7ed0ad3f61d531a8a78e83ccddbd6e0c49  \n",
       "1                                            NaN  \n",
       "2     0xde1e6a7ed0ad3f61d531a8a78e83ccddbd6e0c49  \n",
       "3     0xde1e6a7ed0ad3f61d531a8a78e83ccddbd6e0c49  \n",
       "4     0xde1e6a7ed0ad3f61d531a8a78e83ccddbd6e0c49  \n",
       "...                                          ...  \n",
       "1935  0xde1e6a7ed0ad3f61d531a8a78e83ccddbd6e0c49  \n",
       "1936  0xde1e6a7ed0ad3f61d531a8a78e83ccddbd6e0c49  \n",
       "1937  0xde1e6a7ed0ad3f61d531a8a78e83ccddbd6e0c49  \n",
       "1938  0xde1e6a7ed0ad3f61d531a8a78e83ccddbd6e0c49  \n",
       "1939  0xde1e6a7ed0ad3f61d531a8a78e83ccddbd6e0c49  \n",
       "\n",
       "[70846 rows x 7 columns]"
      ]
     },
     "execution_count": 55,
     "metadata": {},
     "output_type": "execute_result"
    }
   ],
   "source": [
    "pcb.locks_with_delegate_context\n"
   ]
  },
  {
   "cell_type": "code",
   "execution_count": 56,
   "metadata": {},
   "outputs": [
    {
     "data": {
      "text/html": [
       "<div>\n",
       "<style scoped>\n",
       "    .dataframe tbody tr th:only-of-type {\n",
       "        vertical-align: middle;\n",
       "    }\n",
       "\n",
       "    .dataframe tbody tr th {\n",
       "        vertical-align: top;\n",
       "    }\n",
       "\n",
       "    .dataframe thead th {\n",
       "        text-align: right;\n",
       "    }\n",
       "</style>\n",
       "<table border=\"1\" class=\"dataframe\">\n",
       "  <thead>\n",
       "    <tr style=\"text-align: right;\">\n",
       "      <th></th>\n",
       "      <th>this_epoch</th>\n",
       "      <th>user</th>\n",
       "      <th>known_as</th>\n",
       "      <th>display_name</th>\n",
       "      <th>current_locked</th>\n",
       "      <th>lock_count</th>\n",
       "    </tr>\n",
       "  </thead>\n",
       "  <tbody>\n",
       "    <tr>\n",
       "      <th>0</th>\n",
       "      <td>2022-03-09 19:00:00</td>\n",
       "      <td>0x000000e28faa823d5b53ff6c2922c28335840375</td>\n",
       "      <td>_</td>\n",
       "      <td>_ (0x0000)</td>\n",
       "      <td>324.918501</td>\n",
       "      <td>1</td>\n",
       "    </tr>\n",
       "    <tr>\n",
       "      <th>1</th>\n",
       "      <td>2022-03-09 19:00:00</td>\n",
       "      <td>0x0001f85d5eecc0a176e6197690baa3e62bde35c5</td>\n",
       "      <td>_</td>\n",
       "      <td>_ (0x0001)</td>\n",
       "      <td>305.915552</td>\n",
       "      <td>1</td>\n",
       "    </tr>\n",
       "    <tr>\n",
       "      <th>2</th>\n",
       "      <td>2022-03-09 19:00:00</td>\n",
       "      <td>0x0022e00560d1fd651e71df08d98edc028e3baf1a</td>\n",
       "      <td>_</td>\n",
       "      <td>_ (0x0022)</td>\n",
       "      <td>314.741854</td>\n",
       "      <td>1</td>\n",
       "    </tr>\n",
       "    <tr>\n",
       "      <th>3</th>\n",
       "      <td>2022-03-09 19:00:00</td>\n",
       "      <td>0x00329e92ed6fd0a0ef76da9c476d51faeb6b26a0</td>\n",
       "      <td>_</td>\n",
       "      <td>_ (0x0032)</td>\n",
       "      <td>4171.922151</td>\n",
       "      <td>1</td>\n",
       "    </tr>\n",
       "    <tr>\n",
       "      <th>4</th>\n",
       "      <td>2022-03-09 19:00:00</td>\n",
       "      <td>0x0034daf2e65f6ef82bc6f893dbbfd7c232a0e59c</td>\n",
       "      <td>_</td>\n",
       "      <td>_ (0x0034)</td>\n",
       "      <td>2659.555116</td>\n",
       "      <td>1</td>\n",
       "    </tr>\n",
       "    <tr>\n",
       "      <th>...</th>\n",
       "      <td>...</td>\n",
       "      <td>...</td>\n",
       "      <td>...</td>\n",
       "      <td>...</td>\n",
       "      <td>...</td>\n",
       "      <td>...</td>\n",
       "    </tr>\n",
       "    <tr>\n",
       "      <th>330455</th>\n",
       "      <td>2024-03-20 19:00:00</td>\n",
       "      <td>0xc7f2ab10d5a9b8f9261d7d397630da85fd684e65</td>\n",
       "      <td>_</td>\n",
       "      <td>_ (0xc7f2)</td>\n",
       "      <td>13.085066</td>\n",
       "      <td>1</td>\n",
       "    </tr>\n",
       "    <tr>\n",
       "      <th>330456</th>\n",
       "      <td>2024-03-20 19:00:00</td>\n",
       "      <td>0xca1d1a11074b1d86ac3fbd44771c7043126839c9</td>\n",
       "      <td>_</td>\n",
       "      <td>_ (0xca1d)</td>\n",
       "      <td>10000.000000</td>\n",
       "      <td>1</td>\n",
       "    </tr>\n",
       "    <tr>\n",
       "      <th>330457</th>\n",
       "      <td>2024-03-20 19:00:00</td>\n",
       "      <td>0xe001452bec9e7ac34ca4ecac56e7e95ed9c9aa3b</td>\n",
       "      <td>Bent</td>\n",
       "      <td>Bent (0xe001)</td>\n",
       "      <td>212.464681</td>\n",
       "      <td>1</td>\n",
       "    </tr>\n",
       "    <tr>\n",
       "      <th>330458</th>\n",
       "      <td>2024-03-20 19:00:00</td>\n",
       "      <td>0xea7d294ae3b33f873d711d1e7394bcc1caca660e</td>\n",
       "      <td>_</td>\n",
       "      <td>_ (0xea7d)</td>\n",
       "      <td>741.062670</td>\n",
       "      <td>2</td>\n",
       "    </tr>\n",
       "    <tr>\n",
       "      <th>330459</th>\n",
       "      <td>2024-03-20 19:00:00</td>\n",
       "      <td>0xf46291e043d2b6c884f8508b7d25e2225982ec7f</td>\n",
       "      <td>_</td>\n",
       "      <td>_ (0xf462)</td>\n",
       "      <td>50.000000</td>\n",
       "      <td>1</td>\n",
       "    </tr>\n",
       "  </tbody>\n",
       "</table>\n",
       "<p>330460 rows × 6 columns</p>\n",
       "</div>"
      ],
      "text/plain": [
       "                this_epoch                                        user  \\\n",
       "0      2022-03-09 19:00:00  0x000000e28faa823d5b53ff6c2922c28335840375   \n",
       "1      2022-03-09 19:00:00  0x0001f85d5eecc0a176e6197690baa3e62bde35c5   \n",
       "2      2022-03-09 19:00:00  0x0022e00560d1fd651e71df08d98edc028e3baf1a   \n",
       "3      2022-03-09 19:00:00  0x00329e92ed6fd0a0ef76da9c476d51faeb6b26a0   \n",
       "4      2022-03-09 19:00:00  0x0034daf2e65f6ef82bc6f893dbbfd7c232a0e59c   \n",
       "...                    ...                                         ...   \n",
       "330455 2024-03-20 19:00:00  0xc7f2ab10d5a9b8f9261d7d397630da85fd684e65   \n",
       "330456 2024-03-20 19:00:00  0xca1d1a11074b1d86ac3fbd44771c7043126839c9   \n",
       "330457 2024-03-20 19:00:00  0xe001452bec9e7ac34ca4ecac56e7e95ed9c9aa3b   \n",
       "330458 2024-03-20 19:00:00  0xea7d294ae3b33f873d711d1e7394bcc1caca660e   \n",
       "330459 2024-03-20 19:00:00  0xf46291e043d2b6c884f8508b7d25e2225982ec7f   \n",
       "\n",
       "       known_as   display_name  current_locked  lock_count  \n",
       "0             _     _ (0x0000)      324.918501           1  \n",
       "1             _     _ (0x0001)      305.915552           1  \n",
       "2             _     _ (0x0022)      314.741854           1  \n",
       "3             _     _ (0x0032)     4171.922151           1  \n",
       "4             _     _ (0x0034)     2659.555116           1  \n",
       "...         ...            ...             ...         ...  \n",
       "330455        _     _ (0xc7f2)       13.085066           1  \n",
       "330456        _     _ (0xca1d)    10000.000000           1  \n",
       "330457     Bent  Bent (0xe001)      212.464681           1  \n",
       "330458        _     _ (0xea7d)      741.062670           2  \n",
       "330459        _     _ (0xf462)       50.000000           1  \n",
       "\n",
       "[330460 rows x 6 columns]"
      ]
     },
     "execution_count": 56,
     "metadata": {},
     "output_type": "execute_result"
    }
   ],
   "source": [
    "pcb.convex_locker.df_aggregate_user_epoch"
   ]
  },
  {
   "cell_type": "code",
   "execution_count": 57,
   "metadata": {},
   "outputs": [
    {
     "data": {
      "text/html": [
       "<div>\n",
       "<style scoped>\n",
       "    .dataframe tbody tr th:only-of-type {\n",
       "        vertical-align: middle;\n",
       "    }\n",
       "\n",
       "    .dataframe tbody tr th {\n",
       "        vertical-align: top;\n",
       "    }\n",
       "\n",
       "    .dataframe thead th {\n",
       "        text-align: right;\n",
       "    }\n",
       "</style>\n",
       "<table border=\"1\" class=\"dataframe\">\n",
       "  <thead>\n",
       "    <tr style=\"text-align: right;\">\n",
       "      <th></th>\n",
       "      <th>checkpoint</th>\n",
       "      <th>delegate</th>\n",
       "      <th>this_epoch</th>\n",
       "      <th>total_delegated</th>\n",
       "      <th>delegated_lock_count</th>\n",
       "      <th>delegators_count</th>\n",
       "      <th>delegators</th>\n",
       "    </tr>\n",
       "  </thead>\n",
       "  <tbody>\n",
       "    <tr>\n",
       "      <th>0</th>\n",
       "      <td>2022-12-22 00:00:25.000</td>\n",
       "      <td>0x118e2ae07382d8ac768712e095bab4a06590e4a5</td>\n",
       "      <td>2022-12-21 19:00:00</td>\n",
       "      <td>4.188917e+03</td>\n",
       "      <td>3.0</td>\n",
       "      <td>2</td>\n",
       "      <td>[0x598c5e19a132a5c433a80c908f05d87bfdaac4ae, 0...</td>\n",
       "    </tr>\n",
       "    <tr>\n",
       "      <th>1</th>\n",
       "      <td>2022-12-22 00:00:25.000</td>\n",
       "      <td>0x14f83ff95d4ec5e8812ddf42da1232b0ba1015e6</td>\n",
       "      <td>2022-12-21 19:00:00</td>\n",
       "      <td>1.619827e+06</td>\n",
       "      <td>11.0</td>\n",
       "      <td>3</td>\n",
       "      <td>[0xe3e202b2cac2b3ec41219c69fe0d2352b19cef69, 0...</td>\n",
       "    </tr>\n",
       "    <tr>\n",
       "      <th>2</th>\n",
       "      <td>2022-12-22 00:00:25.000</td>\n",
       "      <td>0x23bc20fdd363bbf39349c67b8745d88de86ca78b</td>\n",
       "      <td>2022-12-21 19:00:00</td>\n",
       "      <td>1.606152e+02</td>\n",
       "      <td>1.0</td>\n",
       "      <td>1</td>\n",
       "      <td>[0x398a7d432b6988da02ee9cfe75f93e6df201e98e]</td>\n",
       "    </tr>\n",
       "    <tr>\n",
       "      <th>3</th>\n",
       "      <td>2022-12-22 00:00:25.000</td>\n",
       "      <td>0x253706f4bfcf5d454962219ee13d28252551f5e8</td>\n",
       "      <td>2022-12-21 19:00:00</td>\n",
       "      <td>1.300300e+03</td>\n",
       "      <td>1.0</td>\n",
       "      <td>1</td>\n",
       "      <td>[0x72f1f3ac58c318eb8b1c2a268b2a7e9b36f75385]</td>\n",
       "    </tr>\n",
       "    <tr>\n",
       "      <th>4</th>\n",
       "      <td>2022-12-22 00:00:25.000</td>\n",
       "      <td>0x2844a0d6442034d3027a05635f4224d966c54fd7</td>\n",
       "      <td>2022-12-21 19:00:00</td>\n",
       "      <td>8.633497e+04</td>\n",
       "      <td>5.0</td>\n",
       "      <td>1</td>\n",
       "      <td>[0x9f6e831c8f8939dc0c830c6e492e7cef4f9c2f5f]</td>\n",
       "    </tr>\n",
       "    <tr>\n",
       "      <th>...</th>\n",
       "      <td>...</td>\n",
       "      <td>...</td>\n",
       "      <td>...</td>\n",
       "      <td>...</td>\n",
       "      <td>...</td>\n",
       "      <td>...</td>\n",
       "      <td>...</td>\n",
       "    </tr>\n",
       "    <tr>\n",
       "      <th>1087</th>\n",
       "      <td>2023-12-06 19:00:36</td>\n",
       "      <td>0xeb4db23c27253077fb3080adda6c5c127b0dacae</td>\n",
       "      <td>2023-12-06 19:00:00</td>\n",
       "      <td>5.479898e+03</td>\n",
       "      <td>2.0</td>\n",
       "      <td>1</td>\n",
       "      <td>[0x0fc5ca302d05645bd59c6471f33ab41d1b63ebee]</td>\n",
       "    </tr>\n",
       "    <tr>\n",
       "      <th>1088</th>\n",
       "      <td>2023-12-06 19:00:36</td>\n",
       "      <td>0xf17149326ec300c5650ed983afa9a8114fef2400</td>\n",
       "      <td>2023-12-06 19:00:00</td>\n",
       "      <td>1.149046e+06</td>\n",
       "      <td>1.0</td>\n",
       "      <td>1</td>\n",
       "      <td>[0xa52fd396891e7a74b641a2cb1a6999fcf56b077e]</td>\n",
       "    </tr>\n",
       "    <tr>\n",
       "      <th>1089</th>\n",
       "      <td>2023-12-06 19:00:36</td>\n",
       "      <td>0xf1ff20ffb067cc08a2ac8826b75cdcffc768eae5</td>\n",
       "      <td>2023-12-06 19:00:00</td>\n",
       "      <td>2.338974e+06</td>\n",
       "      <td>10.0</td>\n",
       "      <td>1</td>\n",
       "      <td>[0x8a8e9730646efd1e57453054f1a6366897d7cb1c]</td>\n",
       "    </tr>\n",
       "    <tr>\n",
       "      <th>1090</th>\n",
       "      <td>2023-12-06 19:00:36</td>\n",
       "      <td>0xfc08757c505ea28709df66e54870fb6de09f0c5e</td>\n",
       "      <td>2023-12-06 19:00:00</td>\n",
       "      <td>2.656912e+06</td>\n",
       "      <td>121.0</td>\n",
       "      <td>1</td>\n",
       "      <td>[0x96c68d861ada016ed98c30c810879f9df7c64154]</td>\n",
       "    </tr>\n",
       "    <tr>\n",
       "      <th>1091</th>\n",
       "      <td>2023-12-06 19:00:36</td>\n",
       "      <td>0xfcc94b11e13814e7cbf45658895a5a1042998073</td>\n",
       "      <td>2023-12-06 19:00:00</td>\n",
       "      <td>8.888880e+03</td>\n",
       "      <td>1.0</td>\n",
       "      <td>1</td>\n",
       "      <td>[0x4eb7551bee1375f4ecbc4d232001db213ab945dc]</td>\n",
       "    </tr>\n",
       "  </tbody>\n",
       "</table>\n",
       "<p>1092 rows × 7 columns</p>\n",
       "</div>"
      ],
      "text/plain": [
       "                   checkpoint                                    delegate  \\\n",
       "0     2022-12-22 00:00:25.000  0x118e2ae07382d8ac768712e095bab4a06590e4a5   \n",
       "1     2022-12-22 00:00:25.000  0x14f83ff95d4ec5e8812ddf42da1232b0ba1015e6   \n",
       "2     2022-12-22 00:00:25.000  0x23bc20fdd363bbf39349c67b8745d88de86ca78b   \n",
       "3     2022-12-22 00:00:25.000  0x253706f4bfcf5d454962219ee13d28252551f5e8   \n",
       "4     2022-12-22 00:00:25.000  0x2844a0d6442034d3027a05635f4224d966c54fd7   \n",
       "...                       ...                                         ...   \n",
       "1087      2023-12-06 19:00:36  0xeb4db23c27253077fb3080adda6c5c127b0dacae   \n",
       "1088      2023-12-06 19:00:36  0xf17149326ec300c5650ed983afa9a8114fef2400   \n",
       "1089      2023-12-06 19:00:36  0xf1ff20ffb067cc08a2ac8826b75cdcffc768eae5   \n",
       "1090      2023-12-06 19:00:36  0xfc08757c505ea28709df66e54870fb6de09f0c5e   \n",
       "1091      2023-12-06 19:00:36  0xfcc94b11e13814e7cbf45658895a5a1042998073   \n",
       "\n",
       "              this_epoch  total_delegated  delegated_lock_count  \\\n",
       "0    2022-12-21 19:00:00     4.188917e+03                   3.0   \n",
       "1    2022-12-21 19:00:00     1.619827e+06                  11.0   \n",
       "2    2022-12-21 19:00:00     1.606152e+02                   1.0   \n",
       "3    2022-12-21 19:00:00     1.300300e+03                   1.0   \n",
       "4    2022-12-21 19:00:00     8.633497e+04                   5.0   \n",
       "...                  ...              ...                   ...   \n",
       "1087 2023-12-06 19:00:00     5.479898e+03                   2.0   \n",
       "1088 2023-12-06 19:00:00     1.149046e+06                   1.0   \n",
       "1089 2023-12-06 19:00:00     2.338974e+06                  10.0   \n",
       "1090 2023-12-06 19:00:00     2.656912e+06                 121.0   \n",
       "1091 2023-12-06 19:00:00     8.888880e+03                   1.0   \n",
       "\n",
       "      delegators_count                                         delegators  \n",
       "0                    2  [0x598c5e19a132a5c433a80c908f05d87bfdaac4ae, 0...  \n",
       "1                    3  [0xe3e202b2cac2b3ec41219c69fe0d2352b19cef69, 0...  \n",
       "2                    1       [0x398a7d432b6988da02ee9cfe75f93e6df201e98e]  \n",
       "3                    1       [0x72f1f3ac58c318eb8b1c2a268b2a7e9b36f75385]  \n",
       "4                    1       [0x9f6e831c8f8939dc0c830c6e492e7cef4f9c2f5f]  \n",
       "...                ...                                                ...  \n",
       "1087                 1       [0x0fc5ca302d05645bd59c6471f33ab41d1b63ebee]  \n",
       "1088                 1       [0xa52fd396891e7a74b641a2cb1a6999fcf56b077e]  \n",
       "1089                 1       [0x8a8e9730646efd1e57453054f1a6366897d7cb1c]  \n",
       "1090                 1       [0x96c68d861ada016ed98c30c810879f9df7c64154]  \n",
       "1091                 1       [0x4eb7551bee1375f4ecbc4d232001db213ab945dc]  \n",
       "\n",
       "[1092 rows x 7 columns]"
      ]
     },
     "execution_count": 57,
     "metadata": {},
     "output_type": "execute_result"
    }
   ],
   "source": [
    "pcb.aggregate_delegates"
   ]
  },
  {
   "cell_type": "code",
   "execution_count": 58,
   "metadata": {},
   "outputs": [
    {
     "data": {
      "application/vnd.plotly.v1+json": {
       "config": {
        "plotlyServerURL": "https://plot.ly"
       },
       "data": [
        {
         "hovertemplate": "delegate=0x118e2ae07382d8ac768712e095bab4a06590e4a5<br>checkpoint=%{x}<br>total_delegated=%{y}<extra></extra>",
         "legendgroup": "0x118e2ae07382d8ac768712e095bab4a06590e4a5",
         "line": {
          "color": "#636efa",
          "dash": "solid"
         },
         "mode": "lines",
         "name": "0x118e2ae07382d8ac768712e095bab4a06590e4a5",
         "showlegend": true,
         "type": "scattergl",
         "x": [
          "2022-12-22 00:00:25.000",
          "2023-01-05 00:00:13.000",
          "2023-01-19 00:00:14.000"
         ],
         "xaxis": "x",
         "y": [
          4188.916900554001,
          3090.589807668,
          4188.916900554001
         ],
         "yaxis": "y"
        },
        {
         "hovertemplate": "delegate=0x14f83ff95d4ec5e8812ddf42da1232b0ba1015e6<br>checkpoint=%{x}<br>total_delegated=%{y}<extra></extra>",
         "legendgroup": "0x14f83ff95d4ec5e8812ddf42da1232b0ba1015e6",
         "line": {
          "color": "#EF553B",
          "dash": "solid"
         },
         "mode": "lines",
         "name": "0x14f83ff95d4ec5e8812ddf42da1232b0ba1015e6",
         "showlegend": true,
         "type": "scattergl",
         "x": [
          "2022-12-22 00:00:25.000",
          "2023-01-05 00:00:13.000",
          "2023-01-19 00:00:14.000",
          "2023-02-02 00:01:01.000",
          "2023-02-16 00:00:14.000",
          "2023-03-02 00:00:13.000",
          "2023-03-16 00:00:27.000",
          "2023-03-30 00:00:37.000",
          "2023-04-13 00:00:40.000",
          "2023-04-27 00:00:38.000",
          "2023-05-11 00:00:38.000",
          "2023-05-25 00:00:26.000",
          "2023-06-08 08:46:55.000",
          "2023-06-22 00:00:51.000",
          "2023-07-06 00:00:40.000",
          "2023-07-20 00:01:02.000",
          "2023-08-03 00:00:14.000",
          "2023-08-16 20:01:00",
          "2023-08-30 20:00:37",
          "2023-09-13 20:00:49",
          "2023-09-27 20:00:49"
         ],
         "xaxis": "x",
         "y": [
          1619826.736187327,
          1590386.413618926,
          1673041.974000798,
          1822622.735779477,
          1692999.99961164,
          1011185.13099194,
          1544188.895154584,
          1559359.122647124,
          1832614.8272826131,
          1861303.826725864,
          2082225.15039344,
          2066551.4331490651,
          2103487.248572847,
          1560440.907544978,
          948401.1215626111,
          919074.4709058581,
          631607.4754535551,
          567745.209500557,
          264168.32545110903,
          130261.280916805,
          20.599527552
         ],
         "yaxis": "y"
        },
        {
         "hovertemplate": "delegate=0x23bc20fdd363bbf39349c67b8745d88de86ca78b<br>checkpoint=%{x}<br>total_delegated=%{y}<extra></extra>",
         "legendgroup": "0x23bc20fdd363bbf39349c67b8745d88de86ca78b",
         "line": {
          "color": "#00cc96",
          "dash": "solid"
         },
         "mode": "lines",
         "name": "0x23bc20fdd363bbf39349c67b8745d88de86ca78b",
         "showlegend": true,
         "type": "scattergl",
         "x": [
          "2022-12-22 00:00:25.000",
          "2023-01-05 00:00:13.000",
          "2023-01-19 00:00:14.000",
          "2023-02-02 00:01:01.000",
          "2023-02-16 00:00:14.000"
         ],
         "xaxis": "x",
         "y": [
          160.61519033,
          160.61519033,
          160.61519033,
          160.61519033,
          160.61519033
         ],
         "yaxis": "y"
        },
        {
         "hovertemplate": "delegate=0x253706f4bfcf5d454962219ee13d28252551f5e8<br>checkpoint=%{x}<br>total_delegated=%{y}<extra></extra>",
         "legendgroup": "0x253706f4bfcf5d454962219ee13d28252551f5e8",
         "line": {
          "color": "#ab63fa",
          "dash": "solid"
         },
         "mode": "lines",
         "name": "0x253706f4bfcf5d454962219ee13d28252551f5e8",
         "showlegend": true,
         "type": "scattergl",
         "x": [
          "2022-12-22 00:00:25.000",
          "2023-01-05 00:00:13.000",
          "2023-01-19 00:00:14.000",
          "2023-02-02 00:01:01.000",
          "2023-02-16 00:00:14.000",
          "2023-03-02 00:00:13.000",
          "2023-03-16 00:00:27.000",
          "2023-03-30 00:00:37.000",
          "2023-04-13 00:00:40.000",
          "2023-04-27 00:00:38.000",
          "2023-05-11 00:00:38.000",
          "2023-05-25 00:00:26.000",
          "2023-06-08 08:46:55.000",
          "2023-06-22 00:00:51.000",
          "2023-07-06 00:00:40.000",
          "2023-08-16 20:01:00",
          "2023-08-30 20:00:37",
          "2023-09-13 20:00:49",
          "2023-09-27 20:00:49",
          "2023-10-11 20:00:37",
          "2023-10-25 20:00:14",
          "2023-11-08 19:00:50",
          "2023-11-22 19:00:14",
          "2023-12-06 19:00:36"
         ],
         "xaxis": "x",
         "y": [
          1300.3,
          1300.3,
          1300.3,
          1300.3,
          1300.3,
          1300.3,
          1300.3,
          1300.3,
          1300.3,
          1300.3,
          1300.3,
          1300.3,
          1300.3,
          1300.3,
          1300.3,
          1465.218380215,
          1465.218380215,
          1465.218380215,
          1465.218380215,
          1465.218380215,
          1465.218380215,
          1465.218380215,
          1465.218380215,
          1739.231204105
         ],
         "yaxis": "y"
        },
        {
         "hovertemplate": "delegate=0x2844a0d6442034d3027a05635f4224d966c54fd7<br>checkpoint=%{x}<br>total_delegated=%{y}<extra></extra>",
         "legendgroup": "0x2844a0d6442034d3027a05635f4224d966c54fd7",
         "line": {
          "color": "#FFA15A",
          "dash": "solid"
         },
         "mode": "lines",
         "name": "0x2844a0d6442034d3027a05635f4224d966c54fd7",
         "showlegend": true,
         "type": "scattergl",
         "x": [
          "2022-12-22 00:00:25.000",
          "2023-01-05 00:00:13.000",
          "2023-01-19 00:00:14.000",
          "2023-02-02 00:01:01.000",
          "2023-02-16 00:00:14.000",
          "2023-03-02 00:00:13.000",
          "2023-03-16 00:00:27.000",
          "2023-03-30 00:00:37.000",
          "2023-04-13 00:00:40.000",
          "2023-04-27 00:00:38.000",
          "2023-05-11 00:00:38.000",
          "2023-05-25 00:00:26.000",
          "2023-06-08 08:46:55.000",
          "2023-06-22 00:00:51.000",
          "2023-07-06 00:00:40.000",
          "2023-07-20 00:01:02.000",
          "2023-08-03 00:00:14.000",
          "2023-08-16 20:01:00",
          "2023-08-30 20:00:37",
          "2023-09-13 20:00:49",
          "2023-09-27 20:00:49",
          "2023-10-11 20:00:37",
          "2023-10-25 20:00:14"
         ],
         "xaxis": "x",
         "y": [
          86334.96733211199,
          88407.665855763,
          88407.665855763,
          88407.665855763,
          88407.665855763,
          88419.802313037,
          100557.511512763,
          87191.434954941,
          100557.511512763,
          100557.51151276298,
          98638.51905554299,
          100557.511512763,
          100557.511512763,
          88407.665855763,
          33537.276631236,
          100557.511512763,
          87191.434954941,
          81089.07299574699,
          81089.07299574699,
          79170.08053852699,
          79170.08053852699,
          79170.08053852699,
          67020.234881527
         ],
         "yaxis": "y"
        },
        {
         "hovertemplate": "delegate=0x29b3cc70f8ccf4fe18ac52cf59c303fc8f2411e4<br>checkpoint=%{x}<br>total_delegated=%{y}<extra></extra>",
         "legendgroup": "0x29b3cc70f8ccf4fe18ac52cf59c303fc8f2411e4",
         "line": {
          "color": "#19d3f3",
          "dash": "solid"
         },
         "mode": "lines",
         "name": "0x29b3cc70f8ccf4fe18ac52cf59c303fc8f2411e4",
         "showlegend": true,
         "type": "scattergl",
         "x": [
          "2022-12-22 00:00:25.000",
          "2023-01-05 00:00:13.000",
          "2023-01-19 00:00:14.000",
          "2023-02-02 00:01:01.000",
          "2023-02-16 00:00:14.000",
          "2023-03-02 00:00:13.000",
          "2023-04-13 00:00:40.000",
          "2023-04-27 00:00:38.000",
          "2023-05-11 00:00:38.000",
          "2023-05-25 00:00:26.000",
          "2023-06-08 08:46:55.000",
          "2023-06-22 00:00:51.000",
          "2023-07-06 00:00:40.000",
          "2023-07-20 00:01:02.000",
          "2023-08-03 00:00:14.000",
          "2023-11-22 19:00:14",
          "2023-12-06 19:00:36"
         ],
         "xaxis": "x",
         "y": [
          190.59962107899997,
          190.59962107899997,
          190.59962107899997,
          190.59962107899997,
          157.267394049,
          157.267394049,
          190.59962108,
          348.968130998,
          348.968130998,
          348.968130998,
          348.968130998,
          348.968130998,
          348.968130998,
          348.968130998,
          158.368509918,
          433.96622670299996,
          433.96622670299996
         ],
         "yaxis": "y"
        },
        {
         "hovertemplate": "delegate=0x3305fceb235d7ab2fe3b9945f03d820e904d1034<br>checkpoint=%{x}<br>total_delegated=%{y}<extra></extra>",
         "legendgroup": "0x3305fceb235d7ab2fe3b9945f03d820e904d1034",
         "line": {
          "color": "#FF6692",
          "dash": "solid"
         },
         "mode": "lines",
         "name": "0x3305fceb235d7ab2fe3b9945f03d820e904d1034",
         "showlegend": true,
         "type": "scattergl",
         "x": [
          "2022-12-22 00:00:25.000",
          "2023-01-05 00:00:13.000",
          "2023-01-19 00:00:14.000",
          "2023-02-02 00:01:01.000",
          "2023-02-16 00:00:14.000",
          "2023-03-02 00:00:13.000",
          "2023-03-16 00:00:27.000",
          "2023-03-30 00:00:37.000",
          "2023-04-13 00:00:40.000",
          "2023-04-27 00:00:38.000",
          "2023-05-11 00:00:38.000",
          "2023-05-25 00:00:26.000",
          "2023-06-08 08:46:55.000",
          "2023-06-22 00:00:51.000",
          "2023-07-06 00:00:40.000",
          "2023-07-20 00:01:02.000",
          "2023-08-03 00:00:14.000",
          "2023-08-16 20:01:00",
          "2023-08-30 20:00:37",
          "2023-09-13 20:00:49",
          "2023-09-27 20:00:49",
          "2023-10-11 20:00:37",
          "2023-10-25 20:00:14",
          "2023-11-08 19:00:50",
          "2023-11-22 19:00:14",
          "2023-12-06 19:00:36"
         ],
         "xaxis": "x",
         "y": [
          2403.101625345,
          2717.417887491,
          2717.417887491,
          2717.417887491,
          1076.0103283429999,
          2717.417887491,
          2717.417887491,
          2717.417887491,
          2717.417887491,
          2403.101625345,
          2403.101625345,
          2717.417887491,
          2717.417887491,
          2717.417887491,
          2802.953634614,
          2802.953634614,
          2802.953634614,
          2802.9536346140003,
          2802.9536346140003,
          2802.953634614,
          2802.953634614,
          1161.5460754659998,
          1076.0103283429999,
          1076.0103283429999,
          1076.0103283429999,
          314.316262146
         ],
         "yaxis": "y"
        },
        {
         "hovertemplate": "delegate=0x38d5ebf3b0820e08327fffe2316ab6e88d72ca80<br>checkpoint=%{x}<br>total_delegated=%{y}<extra></extra>",
         "legendgroup": "0x38d5ebf3b0820e08327fffe2316ab6e88d72ca80",
         "line": {
          "color": "#B6E880",
          "dash": "solid"
         },
         "mode": "lines",
         "name": "0x38d5ebf3b0820e08327fffe2316ab6e88d72ca80",
         "showlegend": true,
         "type": "scattergl",
         "x": [
          "2022-12-22 00:00:25.000",
          "2023-01-05 00:00:13.000",
          "2023-01-19 00:00:14.000",
          "2023-02-02 00:01:01.000",
          "2023-02-16 00:00:14.000",
          "2023-03-02 00:00:13.000",
          "2023-03-16 00:00:27.000",
          "2023-03-30 00:00:37.000",
          "2023-04-13 00:00:40.000",
          "2023-04-27 00:00:38.000",
          "2023-05-11 00:00:38.000",
          "2023-05-25 00:00:26.000",
          "2023-06-08 08:46:55.000",
          "2023-06-22 00:00:51.000",
          "2023-07-06 00:00:40.000",
          "2023-07-20 00:01:02.000",
          "2023-08-03 00:00:14.000",
          "2023-08-16 20:01:00",
          "2023-08-30 20:00:37",
          "2023-09-13 20:00:49",
          "2023-09-27 20:00:49",
          "2023-10-25 20:00:14",
          "2023-11-08 19:00:50",
          "2023-11-22 19:00:14",
          "2023-12-06 19:00:36"
         ],
         "xaxis": "x",
         "y": [
          4095.528127685,
          4095.528127685,
          4095.528127685,
          4095.528127685,
          4095.528127685,
          4095.528127685,
          4095.528127685,
          4095.528127685,
          4095.528127685,
          4095.528127685,
          4095.528127685,
          4095.528127685,
          4095.528127685,
          4095.528127685,
          4095.528127685,
          4095.528127685,
          4095.528127685,
          4095.528127685,
          4095.528127685,
          4095.528127685,
          4095.528127685,
          4095.528127685,
          4095.528127685,
          4095.528127685,
          4095.528127685
         ],
         "yaxis": "y"
        },
        {
         "hovertemplate": "delegate=0x39415255619783a2e71fcf7d8f708a951d92e1b6<br>checkpoint=%{x}<br>total_delegated=%{y}<extra></extra>",
         "legendgroup": "0x39415255619783a2e71fcf7d8f708a951d92e1b6",
         "line": {
          "color": "#FF97FF",
          "dash": "solid"
         },
         "mode": "lines",
         "name": "0x39415255619783a2e71fcf7d8f708a951d92e1b6",
         "showlegend": true,
         "type": "scattergl",
         "x": [
          "2022-12-22 00:00:25.000",
          "2023-01-05 00:00:13.000",
          "2023-01-19 00:00:14.000",
          "2023-02-02 00:01:01.000",
          "2023-02-16 00:00:14.000",
          "2023-03-02 00:00:13.000",
          "2023-03-16 00:00:27.000",
          "2023-03-30 00:00:37.000",
          "2023-04-13 00:00:40.000",
          "2023-04-27 00:00:38.000",
          "2023-05-11 00:00:38.000",
          "2023-05-25 00:00:26.000",
          "2023-06-08 08:46:55.000",
          "2023-06-22 00:00:51.000",
          "2023-07-06 00:00:40.000",
          "2023-07-20 00:01:02.000",
          "2023-08-03 00:00:14.000",
          "2023-08-16 20:01:00",
          "2023-08-30 20:00:37",
          "2023-09-13 20:00:49",
          "2023-09-27 20:00:49",
          "2023-10-11 20:00:37",
          "2023-10-25 20:00:14",
          "2023-11-08 19:00:50",
          "2023-11-22 19:00:14",
          "2023-12-06 19:00:36"
         ],
         "xaxis": "x",
         "y": [
          616460.350574338,
          616460.350574338,
          616460.350574338,
          616460.350574338,
          616460.350574338,
          616460.350574338,
          616460.350574338,
          616460.350574338,
          616460.350574338,
          616460.350574338,
          616460.350574338,
          616460.350574338,
          616460.350574338,
          616460.350574338,
          616460.350574338,
          616460.350574338,
          616460.350574338,
          616460.350574338,
          616460.350574338,
          616460.350574338,
          616460.350574338,
          616460.350574338,
          616460.350574338,
          616460.350574338,
          616460.350574338,
          616460.350574338
         ],
         "yaxis": "y"
        },
        {
         "hovertemplate": "delegate=0x4702d39c499236a43654c54783c3f24830e247dc<br>checkpoint=%{x}<br>total_delegated=%{y}<extra></extra>",
         "legendgroup": "0x4702d39c499236a43654c54783c3f24830e247dc",
         "line": {
          "color": "#FECB52",
          "dash": "solid"
         },
         "mode": "lines",
         "name": "0x4702d39c499236a43654c54783c3f24830e247dc",
         "showlegend": true,
         "type": "scattergl",
         "x": [
          "2022-12-22 00:00:25.000",
          "2023-01-05 00:00:13.000",
          "2023-01-19 00:00:14.000",
          "2023-02-02 00:01:01.000",
          "2023-02-16 00:00:14.000",
          "2023-03-02 00:00:13.000",
          "2023-03-16 00:00:27.000",
          "2023-03-30 00:00:37.000",
          "2023-04-13 00:00:40.000",
          "2023-04-27 00:00:38.000",
          "2023-05-11 00:00:38.000",
          "2023-05-25 00:00:26.000",
          "2023-06-08 08:46:55.000",
          "2023-06-22 00:00:51.000",
          "2023-07-06 00:00:40.000",
          "2023-07-20 00:01:02.000",
          "2023-08-03 00:00:14.000",
          "2023-08-16 20:01:00",
          "2023-08-30 20:00:37",
          "2023-09-13 20:00:49",
          "2023-09-27 20:00:49",
          "2023-10-11 20:00:37",
          "2023-10-25 20:00:14",
          "2023-11-08 19:00:50",
          "2023-11-22 19:00:14",
          "2023-12-06 19:00:36"
         ],
         "xaxis": "x",
         "y": [
          939573.431288489,
          939573.431288489,
          484773.165946641,
          939573.4312884889,
          1010352.0545672571,
          1086912.269688995,
          1122676.80566689,
          1165722.752994274,
          1165722.752994274,
          1262508.661898179,
          1264008.48182073,
          1264008.48182073,
          1267161.2189252581,
          1417414.033747874,
          1498333.6158413829,
          1498333.6158413829,
          1444412.559519947,
          1562401.910515021,
          1562401.910515021,
          1562401.910515021,
          1575494.0678629552,
          1576990.870592541,
          1576990.870592541,
          1576990.870592541,
          1512922.5759189029,
          1027181.9078956271
         ],
         "yaxis": "y"
        },
        {
         "hovertemplate": "delegate=0x5180db0237291a6449dda9ed33ad90a38787621c<br>checkpoint=%{x}<br>total_delegated=%{y}<extra></extra>",
         "legendgroup": "0x5180db0237291a6449dda9ed33ad90a38787621c",
         "line": {
          "color": "#636efa",
          "dash": "solid"
         },
         "mode": "lines",
         "name": "0x5180db0237291a6449dda9ed33ad90a38787621c",
         "showlegend": true,
         "type": "scattergl",
         "x": [
          "2022-12-22 00:00:25.000",
          "2023-01-05 00:00:13.000",
          "2023-01-19 00:00:14.000",
          "2023-02-02 00:01:01.000",
          "2023-02-16 00:00:14.000",
          "2023-03-02 00:00:13.000",
          "2023-03-16 00:00:27.000",
          "2023-03-30 00:00:37.000",
          "2023-04-13 00:00:40.000",
          "2023-04-27 00:00:38.000",
          "2023-05-11 00:00:38.000",
          "2023-05-25 00:00:26.000",
          "2023-06-08 08:46:55.000",
          "2023-06-22 00:00:51.000",
          "2023-07-06 00:00:40.000",
          "2023-07-20 00:01:02.000",
          "2023-08-03 00:00:14.000",
          "2023-08-16 20:01:00",
          "2023-08-30 20:00:37",
          "2023-09-13 20:00:49",
          "2023-09-27 20:00:49",
          "2023-10-11 20:00:37",
          "2023-10-25 20:00:14",
          "2023-11-08 19:00:50",
          "2023-11-22 19:00:14",
          "2023-12-06 19:00:36"
         ],
         "xaxis": "x",
         "y": [
          3506981.203217669,
          3535778.5131072584,
          3555629.1747852582,
          3573390.1747852596,
          3589294.674785259,
          3619104.1201321706,
          3630630.120132172,
          3642255.780132172,
          3652938.780132172,
          3663150.780132171,
          3670451.0901321713,
          3676722.0901321713,
          3683360.089221351,
          3690185.045876825,
          3696320.3690629276,
          3703391.0889676386,
          3686159.5949591915,
          3689518.7061312804,
          3696001.4565722635,
          3702781.3651294964,
          3705186.267101523,
          3699829.0749258413,
          3704159.8341873256,
          3706592.920440323,
          3708397.691289506,
          3637635.6174314115
         ],
         "yaxis": "y"
        },
        {
         "hovertemplate": "delegate=0x58f1cac30786754d8128ca7a1e5cf8f29a780044<br>checkpoint=%{x}<br>total_delegated=%{y}<extra></extra>",
         "legendgroup": "0x58f1cac30786754d8128ca7a1e5cf8f29a780044",
         "line": {
          "color": "#EF553B",
          "dash": "solid"
         },
         "mode": "lines",
         "name": "0x58f1cac30786754d8128ca7a1e5cf8f29a780044",
         "showlegend": true,
         "type": "scattergl",
         "x": [
          "2022-12-22 00:00:25.000",
          "2023-01-05 00:00:13.000"
         ],
         "xaxis": "x",
         "y": [
          604844.105923002,
          610429.859855728
         ],
         "yaxis": "y"
        },
        {
         "hovertemplate": "delegate=0x60d200aae5ed2de26a257c86bc4cfc4da8f8a382<br>checkpoint=%{x}<br>total_delegated=%{y}<extra></extra>",
         "legendgroup": "0x60d200aae5ed2de26a257c86bc4cfc4da8f8a382",
         "line": {
          "color": "#00cc96",
          "dash": "solid"
         },
         "mode": "lines",
         "name": "0x60d200aae5ed2de26a257c86bc4cfc4da8f8a382",
         "showlegend": true,
         "type": "scattergl",
         "x": [
          "2022-12-22 00:00:25.000",
          "2023-01-05 00:00:13.000",
          "2023-01-19 00:00:14.000",
          "2023-03-30 00:00:37.000",
          "2023-04-13 00:00:40.000",
          "2023-04-27 00:00:38.000",
          "2023-05-11 00:00:38.000",
          "2023-05-25 00:00:26.000",
          "2023-06-08 08:46:55.000",
          "2023-06-22 00:00:51.000",
          "2023-07-06 00:00:40.000"
         ],
         "xaxis": "x",
         "y": [
          85.31348276,
          85.31348276,
          85.31348276,
          85.31348276,
          85.31348276,
          85.31348276,
          85.31348276,
          85.31348276,
          85.31348276,
          85.31348276,
          85.31348276
         ],
         "yaxis": "y"
        },
        {
         "hovertemplate": "delegate=0x633efc0b3ff672ed2482d798690fbc57cf71e53b<br>checkpoint=%{x}<br>total_delegated=%{y}<extra></extra>",
         "legendgroup": "0x633efc0b3ff672ed2482d798690fbc57cf71e53b",
         "line": {
          "color": "#ab63fa",
          "dash": "solid"
         },
         "mode": "lines",
         "name": "0x633efc0b3ff672ed2482d798690fbc57cf71e53b",
         "showlegend": true,
         "type": "scattergl",
         "x": [
          "2022-12-22 00:00:25.000",
          "2023-01-05 00:00:13.000",
          "2023-01-19 00:00:14.000",
          "2023-02-02 00:01:01.000",
          "2023-02-16 00:00:14.000"
         ],
         "xaxis": "x",
         "y": [
          2167.748541814,
          2167.748541814,
          2167.748541814,
          2167.748541814,
          353.974679956
         ],
         "yaxis": "y"
        },
        {
         "hovertemplate": "delegate=0x68378fcb3a27d5613afcfddb590d35a6e751972c<br>checkpoint=%{x}<br>total_delegated=%{y}<extra></extra>",
         "legendgroup": "0x68378fcb3a27d5613afcfddb590d35a6e751972c",
         "line": {
          "color": "#FFA15A",
          "dash": "solid"
         },
         "mode": "lines",
         "name": "0x68378fcb3a27d5613afcfddb590d35a6e751972c",
         "showlegend": true,
         "type": "scattergl",
         "x": [
          "2022-12-22 00:00:25.000",
          "2023-01-05 00:00:13.000",
          "2023-01-19 00:00:14.000",
          "2023-02-02 00:01:01.000",
          "2023-02-16 00:00:14.000",
          "2023-03-02 00:00:13.000",
          "2023-03-16 00:00:27.000",
          "2023-03-30 00:00:37.000",
          "2023-04-13 00:00:40.000",
          "2023-04-27 00:00:38.000",
          "2023-05-11 00:00:38.000",
          "2023-05-25 00:00:26.000",
          "2023-06-08 08:46:55.000",
          "2023-06-22 00:00:51.000",
          "2023-07-06 00:00:40.000",
          "2023-07-20 00:01:02.000",
          "2023-08-03 00:00:14.000",
          "2023-08-16 20:01:00",
          "2023-08-30 20:00:37",
          "2023-09-13 20:00:49",
          "2023-09-27 20:00:49",
          "2023-10-11 20:00:37",
          "2023-10-25 20:00:14",
          "2023-11-08 19:00:50",
          "2023-11-22 19:00:14",
          "2023-12-06 19:00:36"
         ],
         "xaxis": "x",
         "y": [
          16778.220536649842,
          18864.574071702842,
          22950.02612039084,
          23306.204898871845,
          17385.751088784844,
          18401.639102323843,
          18644.016102323843,
          15605.937641279,
          143550.603590738,
          143550.603590738,
          142150.941579989,
          230398.418740044,
          244956.744289157,
          246783.673834072,
          254887.38208399,
          248978.208512615,
          220965.70640241497,
          214007.536956072,
          240609.56383442797,
          204412.9959837672,
          184367.7023827932,
          242759.1695824414,
          130915.62118620939,
          111217.0496044575,
          125378.060663723,
          109085.6044807178
         ],
         "yaxis": "y"
        },
        {
         "hovertemplate": "delegate=0x6ed9c171e02de08aaedf0fc1d589923d807061d6<br>checkpoint=%{x}<br>total_delegated=%{y}<extra></extra>",
         "legendgroup": "0x6ed9c171e02de08aaedf0fc1d589923d807061d6",
         "line": {
          "color": "#19d3f3",
          "dash": "solid"
         },
         "mode": "lines",
         "name": "0x6ed9c171e02de08aaedf0fc1d589923d807061d6",
         "showlegend": true,
         "type": "scattergl",
         "x": [
          "2022-12-22 00:00:25.000",
          "2023-01-05 00:00:13.000",
          "2023-01-19 00:00:14.000",
          "2023-02-02 00:01:01.000",
          "2023-02-16 00:00:14.000",
          "2023-03-02 00:00:13.000",
          "2023-03-16 00:00:27.000",
          "2023-03-30 00:00:37.000",
          "2023-04-13 00:00:40.000",
          "2023-04-27 00:00:38.000",
          "2023-05-11 00:00:38.000",
          "2023-05-25 00:00:26.000"
         ],
         "xaxis": "x",
         "y": [
          1800646.6362792929,
          1655279.485789472,
          1456398.460266048,
          2025066.233227625,
          2349312.983229064,
          2639760.615893965,
          2727799.776731233,
          2761164.978809891,
          2738598.145916892,
          2709058.839701226,
          2747593.2980185263,
          2754824.869084648
         ],
         "yaxis": "y"
        },
        {
         "hovertemplate": "delegate=0x72987b3a4453fc7d289d623e03ca4bf72e39ccbd<br>checkpoint=%{x}<br>total_delegated=%{y}<extra></extra>",
         "legendgroup": "0x72987b3a4453fc7d289d623e03ca4bf72e39ccbd",
         "line": {
          "color": "#FF6692",
          "dash": "solid"
         },
         "mode": "lines",
         "name": "0x72987b3a4453fc7d289d623e03ca4bf72e39ccbd",
         "showlegend": true,
         "type": "scattergl",
         "x": [
          "2022-12-22 00:00:25.000",
          "2023-01-05 00:00:13.000",
          "2023-01-19 00:00:14.000",
          "2023-02-02 00:01:01.000",
          "2023-02-16 00:00:14.000",
          "2023-03-02 00:00:13.000",
          "2023-03-16 00:00:27.000",
          "2023-03-30 00:00:37.000",
          "2023-04-13 00:00:40.000",
          "2023-04-27 00:00:38.000",
          "2023-05-11 00:00:38.000",
          "2023-05-25 00:00:26.000"
         ],
         "xaxis": "x",
         "y": [
          279724.082242298,
          300000.002242298,
          300000.002242298,
          300000.002242298,
          300000.002242298,
          300000.002242298,
          300000.002242298,
          265330.590329021,
          300000.002242298,
          300000.002242298,
          300000.002242298,
          300000.002242298
         ],
         "yaxis": "y"
        },
        {
         "hovertemplate": "delegate=0x786aa398183b169b1eeb95f376956f72146601fa<br>checkpoint=%{x}<br>total_delegated=%{y}<extra></extra>",
         "legendgroup": "0x786aa398183b169b1eeb95f376956f72146601fa",
         "line": {
          "color": "#B6E880",
          "dash": "solid"
         },
         "mode": "lines",
         "name": "0x786aa398183b169b1eeb95f376956f72146601fa",
         "showlegend": true,
         "type": "scattergl",
         "x": [
          "2022-12-22 00:00:25.000",
          "2023-01-05 00:00:13.000",
          "2023-01-19 00:00:14.000",
          "2023-02-02 00:01:01.000",
          "2023-02-16 00:00:14.000",
          "2023-03-02 00:00:13.000",
          "2023-03-16 00:00:27.000",
          "2023-03-30 00:00:37.000",
          "2023-04-13 00:00:40.000",
          "2023-04-27 00:00:38.000",
          "2023-05-25 00:00:26.000",
          "2023-06-08 08:46:55.000",
          "2023-06-22 00:00:51.000",
          "2023-07-06 00:00:40.000",
          "2023-07-20 00:01:02.000",
          "2023-08-03 00:00:14.000",
          "2023-08-16 20:01:00",
          "2023-08-30 20:00:37",
          "2023-09-13 20:00:49",
          "2023-09-27 20:00:49",
          "2023-10-11 20:00:37",
          "2023-10-25 20:00:14",
          "2023-11-08 19:00:50",
          "2023-11-22 19:00:14",
          "2023-12-06 19:00:36"
         ],
         "xaxis": "x",
         "y": [
          520.479869945,
          778.411488967,
          1536.912477504,
          1536.912477504,
          1536.912477504,
          1536.912477504,
          1297.3914203250001,
          1297.3914203250001,
          1297.3914203250001,
          758.500988537,
          22297.391420326,
          22297.391420326,
          22297.391420326,
          22532.720859004,
          22532.720859004,
          22532.720859004,
          22532.720859004,
          22532.720859004,
          235.329438678,
          235.329438678,
          21678.993578091002,
          21443.664139413,
          21443.664139413,
          21443.664139413,
          21443.664139413
         ],
         "yaxis": "y"
        },
        {
         "hovertemplate": "delegate=0x79e76c14b3bb6236dfc06d2d7ff219c8b070169c<br>checkpoint=%{x}<br>total_delegated=%{y}<extra></extra>",
         "legendgroup": "0x79e76c14b3bb6236dfc06d2d7ff219c8b070169c",
         "line": {
          "color": "#FF97FF",
          "dash": "solid"
         },
         "mode": "lines",
         "name": "0x79e76c14b3bb6236dfc06d2d7ff219c8b070169c",
         "showlegend": true,
         "type": "scattergl",
         "x": [
          "2022-12-22 00:00:25.000",
          "2023-01-05 00:00:13.000",
          "2023-01-19 00:00:14.000",
          "2023-02-02 00:01:01.000",
          "2023-02-16 00:00:14.000",
          "2023-03-02 00:00:13.000",
          "2023-03-16 00:00:27.000",
          "2023-03-30 00:00:37.000",
          "2023-04-13 00:00:40.000",
          "2023-04-27 00:00:38.000",
          "2023-05-11 00:00:38.000",
          "2023-05-25 00:00:26.000",
          "2023-06-08 08:46:55.000",
          "2023-06-22 00:00:51.000",
          "2023-07-06 00:00:40.000",
          "2023-07-20 00:01:02.000"
         ],
         "xaxis": "x",
         "y": [
          968449.3047637669,
          968449.3047637669,
          968449.3047637669,
          968449.3047637669,
          968449.3047637669,
          968449.3047637669,
          968449.3047637669,
          968449.3047637669,
          968449.304763768,
          973756.509484985,
          973756.509484985,
          973756.509484985,
          973756.509484985,
          973756.509484985,
          973756.509484985,
          973756.509484985
         ],
         "yaxis": "y"
        },
        {
         "hovertemplate": "delegate=0x908db31ce01dc42c8b712f9156e969bc65023119<br>checkpoint=%{x}<br>total_delegated=%{y}<extra></extra>",
         "legendgroup": "0x908db31ce01dc42c8b712f9156e969bc65023119",
         "line": {
          "color": "#FECB52",
          "dash": "solid"
         },
         "mode": "lines",
         "name": "0x908db31ce01dc42c8b712f9156e969bc65023119",
         "showlegend": true,
         "type": "scattergl",
         "x": [
          "2022-12-22 00:00:25.000",
          "2023-01-05 00:00:13.000",
          "2023-01-19 00:00:14.000",
          "2023-02-02 00:01:01.000"
         ],
         "xaxis": "x",
         "y": [
          7513.654535152,
          7513.654535152,
          7513.654535152,
          7513.654535152
         ],
         "yaxis": "y"
        },
        {
         "hovertemplate": "delegate=0x9220ab22a9dab3ce4ac7ff7eff47ee02e19dcd27<br>checkpoint=%{x}<br>total_delegated=%{y}<extra></extra>",
         "legendgroup": "0x9220ab22a9dab3ce4ac7ff7eff47ee02e19dcd27",
         "line": {
          "color": "#636efa",
          "dash": "solid"
         },
         "mode": "lines",
         "name": "0x9220ab22a9dab3ce4ac7ff7eff47ee02e19dcd27",
         "showlegend": true,
         "type": "scattergl",
         "x": [
          "2022-12-22 00:00:25.000",
          "2023-01-05 00:00:13.000",
          "2023-01-19 00:00:14.000",
          "2023-02-02 00:01:01.000",
          "2023-02-16 00:00:14.000",
          "2023-03-02 00:00:13.000",
          "2023-03-16 00:00:27.000",
          "2023-03-30 00:00:37.000",
          "2023-04-13 00:00:40.000",
          "2023-04-27 00:00:38.000",
          "2023-05-11 00:00:38.000",
          "2023-05-25 00:00:26.000",
          "2023-06-08 08:46:55.000",
          "2023-06-22 00:00:51.000",
          "2023-07-06 00:00:40.000",
          "2023-07-20 00:01:02.000",
          "2023-08-03 00:00:14.000",
          "2023-08-16 20:01:00",
          "2023-08-30 20:00:37",
          "2023-09-13 20:00:49",
          "2023-09-27 20:00:49",
          "2023-10-11 20:00:37",
          "2023-10-25 20:00:14",
          "2023-11-08 19:00:50",
          "2023-11-22 19:00:14",
          "2023-12-06 19:00:36"
         ],
         "xaxis": "x",
         "y": [
          843380.237325684,
          851652.128018943,
          851652.128018943,
          858116.644572564,
          863979.410816373,
          863979.410816373,
          863979.4108163728,
          871536.8235041859,
          864189.6451685439,
          871536.8235041859,
          874620.9448844899,
          862293.6620946008,
          856430.895850792,
          856430.895850792,
          26260.603097018,
          856430.8958583331,
          882125.1031289761,
          866506.034100075,
          863421.912719771,
          863421.912719771,
          863421.912719771,
          863421.912719771,
          863421.912719771,
          25694.207270643,
          886015.0522246821,
          886015.0522246821
         ],
         "yaxis": "y"
        },
        {
         "hovertemplate": "delegate=0x947b7742c403f20e5faccdac5e092c943e7d0277<br>checkpoint=%{x}<br>total_delegated=%{y}<extra></extra>",
         "legendgroup": "0x947b7742c403f20e5faccdac5e092c943e7d0277",
         "line": {
          "color": "#EF553B",
          "dash": "solid"
         },
         "mode": "lines",
         "name": "0x947b7742c403f20e5faccdac5e092c943e7d0277",
         "showlegend": true,
         "type": "scattergl",
         "x": [
          "2022-12-22 00:00:25.000",
          "2023-01-05 00:00:13.000",
          "2023-01-19 00:00:14.000",
          "2023-02-02 00:01:01.000",
          "2023-02-16 00:00:14.000",
          "2023-03-02 00:00:13.000",
          "2023-03-16 00:00:27.000",
          "2023-03-30 00:00:37.000",
          "2023-04-13 00:00:40.000",
          "2023-04-27 00:00:38.000",
          "2023-05-11 00:00:38.000",
          "2023-05-25 00:00:26.000",
          "2023-06-08 08:46:55.000",
          "2023-06-22 00:00:51.000",
          "2023-07-06 00:00:40.000",
          "2023-07-20 00:01:02.000",
          "2023-08-03 00:00:14.000",
          "2023-08-16 20:01:00",
          "2023-08-30 20:00:37",
          "2023-09-13 20:00:49",
          "2023-09-27 20:00:49",
          "2023-10-11 20:00:37",
          "2023-10-25 20:00:14",
          "2023-11-08 19:00:50",
          "2023-11-22 19:00:14",
          "2023-12-06 19:00:36"
         ],
         "xaxis": "x",
         "y": [
          3592210.0725991214,
          3613369.2216077005,
          3672431.9595390097,
          3685660.3945305394,
          3611891.642434975,
          3631649.1075758184,
          3734793.577680569,
          3770737.972968384,
          3823346.108273682,
          3842887.2995329257,
          3816651.594913668,
          3992889.0996552557,
          1878211.2703378599,
          1870092.1728829523,
          1884236.42485914,
          1066636.1686233445,
          1073740.8863341254,
          1099796.0518628755,
          1119985.2276068875,
          846869.3780971774,
          1005816.4273221664,
          934207.5011670769,
          930605.6041502876,
          891616.2492489164,
          1017072.4490803215,
          1092468.4068562635
         ],
         "yaxis": "y"
        },
        {
         "hovertemplate": "delegate=0x95c2320fe56c248f15be7be3437d499ee31ffd57<br>checkpoint=%{x}<br>total_delegated=%{y}<extra></extra>",
         "legendgroup": "0x95c2320fe56c248f15be7be3437d499ee31ffd57",
         "line": {
          "color": "#00cc96",
          "dash": "solid"
         },
         "mode": "lines",
         "name": "0x95c2320fe56c248f15be7be3437d499ee31ffd57",
         "showlegend": true,
         "type": "scattergl",
         "x": [
          "2022-12-22 00:00:25.000",
          "2023-01-05 00:00:13.000",
          "2023-01-19 00:00:14.000",
          "2023-02-02 00:01:01.000",
          "2023-02-16 00:00:14.000",
          "2023-03-02 00:00:13.000",
          "2023-03-16 00:00:27.000",
          "2023-03-30 00:00:37.000",
          "2023-04-13 00:00:40.000",
          "2023-04-27 00:00:38.000",
          "2023-05-11 00:00:38.000",
          "2023-05-25 00:00:26.000",
          "2023-06-08 08:46:55.000",
          "2023-06-22 00:00:51.000",
          "2023-07-06 00:00:40.000",
          "2023-07-20 00:01:02.000",
          "2023-08-03 00:00:14.000",
          "2023-08-16 20:01:00"
         ],
         "xaxis": "x",
         "y": [
          9890.762941469999,
          10285.211833232,
          9531.989447402,
          9531.989447402,
          10285.211833231999,
          9717.070960915,
          10285.211833232,
          10285.211833232,
          10285.211833231999,
          9267.535166691,
          10285.211833232,
          10285.211833232,
          2948.0927826,
          2948.0927826,
          1647.0485606319999,
          1647.0485606319999,
          1017.676666541,
          1017.676666541
         ],
         "yaxis": "y"
        },
        {
         "hovertemplate": "delegate=0x9b8b04b6f82cd5e1dae58ca3614d445f93defc5c<br>checkpoint=%{x}<br>total_delegated=%{y}<extra></extra>",
         "legendgroup": "0x9b8b04b6f82cd5e1dae58ca3614d445f93defc5c",
         "line": {
          "color": "#ab63fa",
          "dash": "solid"
         },
         "mode": "lines",
         "name": "0x9b8b04b6f82cd5e1dae58ca3614d445f93defc5c",
         "showlegend": true,
         "type": "scattergl",
         "x": [
          "2022-12-22 00:00:25.000",
          "2023-01-05 00:00:13.000",
          "2023-01-19 00:00:14.000",
          "2023-02-02 00:01:01.000",
          "2023-02-16 00:00:14.000",
          "2023-03-02 00:00:13.000",
          "2023-03-16 00:00:27.000",
          "2023-03-30 00:00:37.000",
          "2023-04-13 00:00:40.000"
         ],
         "xaxis": "x",
         "y": [
          259596.7772872,
          259596.7772872,
          259596.7772872,
          259596.7772872,
          259596.7772872,
          259596.77728719998,
          259596.7772872,
          259596.7772872,
          259596.7772872
         ],
         "yaxis": "y"
        },
        {
         "hovertemplate": "delegate=0xa2482aa1376beccba98b17578b17ece82e6d9e86<br>checkpoint=%{x}<br>total_delegated=%{y}<extra></extra>",
         "legendgroup": "0xa2482aa1376beccba98b17578b17ece82e6d9e86",
         "line": {
          "color": "#FFA15A",
          "dash": "solid"
         },
         "mode": "lines",
         "name": "0xa2482aa1376beccba98b17578b17ece82e6d9e86",
         "showlegend": true,
         "type": "scattergl",
         "x": [
          "2022-12-22 00:00:25.000",
          "2023-01-05 00:00:13.000",
          "2023-01-19 00:00:14.000",
          "2023-02-02 00:01:01.000",
          "2023-02-16 00:00:14.000",
          "2023-03-02 00:00:13.000",
          "2023-03-16 00:00:27.000",
          "2023-03-30 00:00:37.000",
          "2023-04-13 00:00:40.000",
          "2023-04-27 00:00:38.000",
          "2023-05-11 00:00:38.000",
          "2023-05-25 00:00:26.000",
          "2023-06-08 08:46:55.000",
          "2023-06-22 00:00:51.000",
          "2023-07-06 00:00:40.000",
          "2023-07-20 00:01:02.000",
          "2023-08-03 00:00:14.000",
          "2023-08-16 20:01:00",
          "2023-08-30 20:00:37",
          "2023-09-13 20:00:49",
          "2023-09-27 20:00:49",
          "2023-10-11 20:00:37"
         ],
         "xaxis": "x",
         "y": [
          60579.287084092,
          60579.287084092,
          60579.287084092,
          60579.287084092,
          60579.287084092,
          59899.04329344,
          60579.287084092,
          60579.287084092,
          60579.287084092,
          60030.563236647,
          60579.287084092,
          61079.384258007005,
          61079.384258007005,
          61079.384258007005,
          61079.384258007005,
          61079.384258007005,
          61079.384258007005,
          61079.384258007005,
          60530.660410562,
          60030.563236647,
          680.243790652,
          680.243790652
         ],
         "yaxis": "y"
        },
        {
         "hovertemplate": "delegate=0xaed09aea5bbcf22a50ec4442f9934926a4836e61<br>checkpoint=%{x}<br>total_delegated=%{y}<extra></extra>",
         "legendgroup": "0xaed09aea5bbcf22a50ec4442f9934926a4836e61",
         "line": {
          "color": "#19d3f3",
          "dash": "solid"
         },
         "mode": "lines",
         "name": "0xaed09aea5bbcf22a50ec4442f9934926a4836e61",
         "showlegend": true,
         "type": "scattergl",
         "x": [
          "2022-12-22 00:00:25.000",
          "2023-01-05 00:00:13.000",
          "2023-01-19 00:00:14.000",
          "2023-02-02 00:01:01.000",
          "2023-03-30 00:00:37.000",
          "2023-04-13 00:00:40.000",
          "2023-04-27 00:00:38.000",
          "2023-05-11 00:00:38.000",
          "2023-05-25 00:00:26.000",
          "2023-06-08 08:46:55.000",
          "2023-06-22 00:00:51.000",
          "2023-07-06 00:00:40.000",
          "2023-07-20 00:01:02.000",
          "2023-08-03 00:00:14.000",
          "2023-08-16 20:01:00",
          "2023-08-30 20:00:37",
          "2023-09-13 20:00:49",
          "2023-09-27 20:00:49",
          "2023-11-22 19:00:14",
          "2023-12-06 19:00:36"
         ],
         "xaxis": "x",
         "y": [
          2150.009938413,
          2150.009938413,
          2150.009938413,
          2150.009938413,
          3000,
          3000,
          3000,
          3000,
          3000,
          3000,
          3000,
          3000,
          3000,
          3000,
          3000,
          3000,
          3000,
          3000,
          2992.5,
          2992.5
         ],
         "yaxis": "y"
        },
        {
         "hovertemplate": "delegate=0xb115aff9ce430fef6fcde91099a377795a4319bf<br>checkpoint=%{x}<br>total_delegated=%{y}<extra></extra>",
         "legendgroup": "0xb115aff9ce430fef6fcde91099a377795a4319bf",
         "line": {
          "color": "#FF6692",
          "dash": "solid"
         },
         "mode": "lines",
         "name": "0xb115aff9ce430fef6fcde91099a377795a4319bf",
         "showlegend": true,
         "type": "scattergl",
         "x": [
          "2022-12-22 00:00:25.000",
          "2023-01-05 00:00:13.000",
          "2023-01-19 00:00:14.000",
          "2023-02-02 00:01:01.000",
          "2023-02-16 00:00:14.000",
          "2023-03-02 00:00:13.000",
          "2023-03-16 00:00:27.000",
          "2023-03-30 00:00:37.000",
          "2023-04-13 00:00:40.000",
          "2023-04-27 00:00:38.000",
          "2023-05-11 00:00:38.000",
          "2023-05-25 00:00:26.000",
          "2023-06-08 08:46:55.000",
          "2023-06-22 00:00:51.000",
          "2023-07-06 00:00:40.000",
          "2023-07-20 00:01:02.000",
          "2023-08-03 00:00:14.000",
          "2023-08-16 20:01:00",
          "2023-08-30 20:00:37",
          "2023-09-13 20:00:49",
          "2023-09-27 20:00:49",
          "2023-10-11 20:00:37",
          "2023-10-25 20:00:14",
          "2023-11-08 19:00:50",
          "2023-11-22 19:00:14",
          "2023-12-06 19:00:36"
         ],
         "xaxis": "x",
         "y": [
          1218.045843115,
          1218.045843115,
          1218.045843115,
          1218.045843115,
          1218.045843115,
          1218.045843115,
          1218.045843115,
          1534.718841244,
          1534.718841244,
          1534.718841244,
          1534.718841244,
          1534.718841244,
          1534.718841244,
          1534.718841244,
          1534.718841244,
          794.585136117,
          794.585136117,
          794.585136117,
          1532.076824486,
          1532.076824486,
          737.491688369,
          737.491688369,
          737.491688369,
          737.491688369,
          737.491688369,
          737.491688369
         ],
         "yaxis": "y"
        },
        {
         "hovertemplate": "delegate=0xb721cc32160ab0da2614cc6ab16ed822aeebc101<br>checkpoint=%{x}<br>total_delegated=%{y}<extra></extra>",
         "legendgroup": "0xb721cc32160ab0da2614cc6ab16ed822aeebc101",
         "line": {
          "color": "#B6E880",
          "dash": "solid"
         },
         "mode": "lines",
         "name": "0xb721cc32160ab0da2614cc6ab16ed822aeebc101",
         "showlegend": true,
         "type": "scattergl",
         "x": [
          "2022-12-22 00:00:25.000",
          "2023-01-05 00:00:13.000",
          "2023-01-19 00:00:14.000",
          "2023-02-02 00:01:01.000",
          "2023-02-16 00:00:14.000",
          "2023-03-02 00:00:13.000",
          "2023-03-16 00:00:27.000",
          "2023-03-30 00:00:37.000",
          "2023-04-13 00:00:40.000"
         ],
         "xaxis": "x",
         "y": [
          13.74124633723,
          13.80300740224,
          13.80300740224,
          13.80300740224,
          13.54204757364,
          13.54204757364,
          0.29032821561,
          0.06176106501,
          0.06176106501
         ],
         "yaxis": "y"
        },
        {
         "hovertemplate": "delegate=0xbb57f06e8c7dbc253b06e3d4b4bd89eb677ab7c5<br>checkpoint=%{x}<br>total_delegated=%{y}<extra></extra>",
         "legendgroup": "0xbb57f06e8c7dbc253b06e3d4b4bd89eb677ab7c5",
         "line": {
          "color": "#FF97FF",
          "dash": "solid"
         },
         "mode": "lines",
         "name": "0xbb57f06e8c7dbc253b06e3d4b4bd89eb677ab7c5",
         "showlegend": true,
         "type": "scattergl",
         "x": [
          "2022-12-22 00:00:25.000",
          "2023-01-05 00:00:13.000",
          "2023-01-19 00:00:14.000",
          "2023-02-02 00:01:01.000",
          "2023-02-16 00:00:14.000",
          "2023-03-02 00:00:13.000",
          "2023-03-16 00:00:27.000",
          "2023-03-30 00:00:37.000",
          "2023-04-13 00:00:40.000",
          "2023-04-27 00:00:38.000",
          "2023-05-11 00:00:38.000",
          "2023-05-25 00:00:26.000",
          "2023-06-08 08:46:55.000",
          "2023-06-22 00:00:51.000",
          "2023-07-06 00:00:40.000",
          "2023-07-20 00:01:02.000",
          "2023-08-03 00:00:14.000",
          "2023-08-16 20:01:00",
          "2023-08-30 20:00:37",
          "2023-09-13 20:00:49",
          "2023-09-27 20:00:49",
          "2023-10-11 20:00:37",
          "2023-10-25 20:00:14",
          "2023-11-08 19:00:50",
          "2023-11-22 19:00:14",
          "2023-12-06 19:00:36"
         ],
         "xaxis": "x",
         "y": [
          59888.673001573,
          59888.673001573,
          59888.673001573,
          27018.202065044003,
          30590.103637866,
          33840.103637866,
          43840.103637866,
          43840.103637866,
          57173.103637866,
          57173.103637866,
          70128.968508395,
          56128.968508395,
          76487.17009398,
          80059.071666802,
          80388.193074351,
          90388.193074351,
          80388.193074351,
          90388.193074351,
          90388.193074351,
          90388.193074351,
          90388.193074351,
          83566.29150152899,
          90388.193074351,
          90388.193074351,
          90388.193074351,
          80388.193074351
         ],
         "yaxis": "y"
        },
        {
         "hovertemplate": "delegate=0xc1aa82499da8d37383f1e6d95de417ecf7514e7c<br>checkpoint=%{x}<br>total_delegated=%{y}<extra></extra>",
         "legendgroup": "0xc1aa82499da8d37383f1e6d95de417ecf7514e7c",
         "line": {
          "color": "#FECB52",
          "dash": "solid"
         },
         "mode": "lines",
         "name": "0xc1aa82499da8d37383f1e6d95de417ecf7514e7c",
         "showlegend": true,
         "type": "scattergl",
         "x": [
          "2022-12-22 00:00:25.000",
          "2023-01-05 00:00:13.000",
          "2023-01-19 00:00:14.000",
          "2023-02-02 00:01:01.000",
          "2023-02-16 00:00:14.000",
          "2023-03-02 00:00:13.000",
          "2023-03-16 00:00:27.000",
          "2023-03-30 00:00:37.000",
          "2023-04-13 00:00:40.000",
          "2023-04-27 00:00:38.000",
          "2023-05-11 00:00:38.000",
          "2023-05-25 00:00:26.000",
          "2023-06-08 08:46:55.000",
          "2023-06-22 00:00:51.000",
          "2023-07-06 00:00:40.000",
          "2023-07-20 00:01:02.000",
          "2023-08-03 00:00:14.000",
          "2023-08-16 20:01:00",
          "2023-08-30 20:00:37",
          "2023-09-13 20:00:49",
          "2023-09-27 20:00:49",
          "2023-10-11 20:00:37",
          "2023-10-25 20:00:14",
          "2023-11-08 19:00:50",
          "2023-11-22 19:00:14",
          "2023-12-06 19:00:36"
         ],
         "xaxis": "x",
         "y": [
          437081.90534091595,
          437081.90534091595,
          437081.90534091595,
          462205.604027892,
          462205.604027892,
          462205.604027892,
          496780.426472348,
          496780.426472348,
          553427.225331516,
          594736.735856807,
          642058.163146668,
          397563.19620600296,
          397563.19620600296,
          397563.19620600296,
          532303.5629276041,
          608146.983254367,
          555567.476875709,
          636325.53030539,
          645034.532296563,
          659587.482628052,
          670583.113225306,
          680951.53753596,
          685729.2174212349,
          688249.3267392459,
          694157.749868998,
          572090.185914026
         ],
         "yaxis": "y"
        },
        {
         "hovertemplate": "delegate=0xdd2938dffae71813a6b884730e53ddd5ff2c6f7b<br>checkpoint=%{x}<br>total_delegated=%{y}<extra></extra>",
         "legendgroup": "0xdd2938dffae71813a6b884730e53ddd5ff2c6f7b",
         "line": {
          "color": "#636efa",
          "dash": "solid"
         },
         "mode": "lines",
         "name": "0xdd2938dffae71813a6b884730e53ddd5ff2c6f7b",
         "showlegend": true,
         "type": "scattergl",
         "x": [
          "2022-12-22 00:00:25.000",
          "2023-01-05 00:00:13.000",
          "2023-01-19 00:00:14.000",
          "2023-02-02 00:01:01.000",
          "2023-02-16 00:00:14.000",
          "2023-03-02 00:00:13.000",
          "2023-03-16 00:00:27.000",
          "2023-03-30 00:00:37.000",
          "2023-04-13 00:00:40.000",
          "2023-04-27 00:00:38.000",
          "2023-05-11 00:00:38.000",
          "2023-05-25 00:00:26.000",
          "2023-06-08 08:46:55.000",
          "2023-06-22 00:00:51.000",
          "2023-07-06 00:00:40.000",
          "2023-07-20 00:01:02.000",
          "2023-08-03 00:00:14.000",
          "2023-08-16 20:01:00",
          "2023-08-30 20:00:37",
          "2023-09-13 20:00:49",
          "2023-09-27 20:00:49",
          "2023-10-11 20:00:37",
          "2023-10-25 20:00:14",
          "2023-11-08 19:00:50",
          "2023-11-22 19:00:14",
          "2023-12-06 19:00:36"
         ],
         "xaxis": "x",
         "y": [
          1703.2258955060001,
          1703.2258955060001,
          1703.2258955060001,
          1703.2258955060001,
          1052.598907489,
          1703.2258955060001,
          1703.2258955060001,
          1703.2258955060001,
          650.626988017,
          650.626988017,
          650.626988017,
          650.626988017,
          1697.962900968,
          1047.335912951,
          1047.335912951,
          1047.335912951,
          1047.335912951,
          1047.335912951,
          1047.335912951,
          1696.336333497,
          649.000420546,
          649.000420546,
          649.000420546,
          649.000420546,
          2079.694203724,
          2079.694203724
         ],
         "yaxis": "y"
        },
        {
         "hovertemplate": "delegate=0xde1e6a7ed0ad3f61d531a8a78e83ccddbd6e0c49<br>checkpoint=%{x}<br>total_delegated=%{y}<extra></extra>",
         "legendgroup": "0xde1e6a7ed0ad3f61d531a8a78e83ccddbd6e0c49",
         "line": {
          "color": "#EF553B",
          "dash": "solid"
         },
         "mode": "lines",
         "name": "0xde1e6a7ed0ad3f61d531a8a78e83ccddbd6e0c49",
         "showlegend": true,
         "type": "scattergl",
         "x": [
          "2022-12-22 00:00:25.000",
          "2023-01-05 00:00:13.000",
          "2023-01-19 00:00:14.000",
          "2023-02-02 00:01:01.000",
          "2023-02-16 00:00:14.000",
          "2023-03-02 00:00:13.000",
          "2023-03-16 00:00:27.000",
          "2023-03-30 00:00:37.000",
          "2023-04-13 00:00:40.000",
          "2023-04-27 00:00:38.000",
          "2023-05-11 00:00:38.000",
          "2023-05-25 00:00:26.000",
          "2023-06-08 08:46:55.000",
          "2023-06-22 00:00:51.000",
          "2023-07-06 00:00:40.000",
          "2023-07-20 00:01:02.000",
          "2023-08-03 00:00:14.000",
          "2023-08-16 20:01:00",
          "2023-08-30 20:00:37",
          "2023-09-13 20:00:49",
          "2023-09-27 20:00:49",
          "2023-10-11 20:00:37",
          "2023-10-25 20:00:14",
          "2023-11-08 19:00:50",
          "2023-11-22 19:00:14",
          "2023-12-06 19:00:36"
         ],
         "xaxis": "x",
         "y": [
          24496597.030152712,
          24540775.099275768,
          24949558.301728632,
          25987851.873536352,
          23868414.326971646,
          23982394.976914342,
          26064314.61708417,
          24121694.42582486,
          23252438.64427069,
          23990525.13460267,
          23430922.808663014,
          24032140.624227677,
          21199378.962131962,
          23088490.289312765,
          24485184.16719479,
          24740352.994830582,
          25873688.053126838,
          24767874.293505393,
          26361416.13970749,
          25310451.417872548,
          23361418.12443607,
          21691338.396056525,
          21083388.804461878,
          21605050.567167494,
          22238546.644672703,
          24057575.73786229
         ],
         "yaxis": "y"
        },
        {
         "hovertemplate": "delegate=0xe4804d769758e4d85d638b14409fe79439cf5c0e<br>checkpoint=%{x}<br>total_delegated=%{y}<extra></extra>",
         "legendgroup": "0xe4804d769758e4d85d638b14409fe79439cf5c0e",
         "line": {
          "color": "#00cc96",
          "dash": "solid"
         },
         "mode": "lines",
         "name": "0xe4804d769758e4d85d638b14409fe79439cf5c0e",
         "showlegend": true,
         "type": "scattergl",
         "x": [
          "2022-12-22 00:00:25.000"
         ],
         "xaxis": "x",
         "y": [
          5183.081004266
         ],
         "yaxis": "y"
        },
        {
         "hovertemplate": "delegate=0xeb4db23c27253077fb3080adda6c5c127b0dacae<br>checkpoint=%{x}<br>total_delegated=%{y}<extra></extra>",
         "legendgroup": "0xeb4db23c27253077fb3080adda6c5c127b0dacae",
         "line": {
          "color": "#ab63fa",
          "dash": "solid"
         },
         "mode": "lines",
         "name": "0xeb4db23c27253077fb3080adda6c5c127b0dacae",
         "showlegend": true,
         "type": "scattergl",
         "x": [
          "2022-12-22 00:00:25.000",
          "2023-01-05 00:00:13.000",
          "2023-01-19 00:00:14.000",
          "2023-02-02 00:01:01.000",
          "2023-02-16 00:00:14.000",
          "2023-03-02 00:00:13.000",
          "2023-03-16 00:00:27.000",
          "2023-03-30 00:00:37.000",
          "2023-04-13 00:00:40.000",
          "2023-04-27 00:00:38.000",
          "2023-05-11 00:00:38.000",
          "2023-05-25 00:00:26.000",
          "2023-06-08 08:46:55.000",
          "2023-06-22 00:00:51.000",
          "2023-07-06 00:00:40.000",
          "2023-07-20 00:01:02.000",
          "2023-08-03 00:00:14.000",
          "2023-08-16 20:01:00",
          "2023-08-30 20:00:37",
          "2023-09-13 20:00:49",
          "2023-10-11 20:00:37",
          "2023-10-25 20:00:14",
          "2023-11-08 19:00:50",
          "2023-11-22 19:00:14",
          "2023-12-06 19:00:36"
         ],
         "xaxis": "x",
         "y": [
          3757.314010212,
          3757.314010212,
          3757.314010212,
          3757.314010212,
          3757.314010212,
          3757.314010212,
          3757.314010212,
          3757.314010212,
          3757.314010212,
          3757.314010212,
          3757.314010212,
          3757.314010212,
          3757.314010212,
          3757.314010212,
          3757.314010212,
          3757.314010212,
          3757.314010212,
          3757.314010212,
          3757.314010212,
          3757.314010212,
          3757.314010212,
          3757.314010212,
          5479.898116101,
          5479.898116101,
          5479.898116101
         ],
         "yaxis": "y"
        },
        {
         "hovertemplate": "delegate=0xf1ff20ffb067cc08a2ac8826b75cdcffc768eae5<br>checkpoint=%{x}<br>total_delegated=%{y}<extra></extra>",
         "legendgroup": "0xf1ff20ffb067cc08a2ac8826b75cdcffc768eae5",
         "line": {
          "color": "#FFA15A",
          "dash": "solid"
         },
         "mode": "lines",
         "name": "0xf1ff20ffb067cc08a2ac8826b75cdcffc768eae5",
         "showlegend": true,
         "type": "scattergl",
         "x": [
          "2022-12-22 00:00:25.000",
          "2023-01-05 00:00:13.000",
          "2023-01-19 00:00:14.000",
          "2023-02-02 00:01:01.000",
          "2023-02-16 00:00:14.000",
          "2023-03-02 00:00:13.000",
          "2023-03-16 00:00:27.000",
          "2023-03-30 00:00:37.000",
          "2023-04-13 00:00:40.000",
          "2023-04-27 00:00:38.000",
          "2023-05-11 00:00:38.000",
          "2023-05-25 00:00:26.000",
          "2023-06-08 08:46:55.000",
          "2023-06-22 00:00:51.000",
          "2023-07-06 00:00:40.000",
          "2023-07-20 00:01:02.000",
          "2023-08-03 00:00:14.000",
          "2023-08-16 20:01:00",
          "2023-08-30 20:00:37",
          "2023-09-13 20:00:49",
          "2023-09-27 20:00:49",
          "2023-10-11 20:00:37",
          "2023-10-25 20:00:14",
          "2023-11-08 19:00:50",
          "2023-11-22 19:00:14",
          "2023-12-06 19:00:36"
         ],
         "xaxis": "x",
         "y": [
          2010291.350860351,
          2100000,
          2280000,
          2280000,
          2280000,
          2080000,
          1980000,
          1980000,
          1980000,
          1980000,
          2000000,
          2300000,
          2300000,
          2300000,
          2300000,
          2060323.326425043,
          2360323.326425043,
          2160323.326425043,
          2160323.326425043,
          1860323.326425043,
          2180947.754822665,
          1980947.754822665,
          1880947.754822665,
          2138974.400068663,
          2238974.400068663,
          2338974.400068663
         ],
         "yaxis": "y"
        },
        {
         "hovertemplate": "delegate=0xfcc94b11e13814e7cbf45658895a5a1042998073<br>checkpoint=%{x}<br>total_delegated=%{y}<extra></extra>",
         "legendgroup": "0xfcc94b11e13814e7cbf45658895a5a1042998073",
         "line": {
          "color": "#19d3f3",
          "dash": "solid"
         },
         "mode": "lines",
         "name": "0xfcc94b11e13814e7cbf45658895a5a1042998073",
         "showlegend": true,
         "type": "scattergl",
         "x": [
          "2022-12-22 00:00:25.000",
          "2023-01-05 00:00:13.000",
          "2023-01-19 00:00:14.000",
          "2023-02-02 00:01:01.000",
          "2023-02-16 00:00:14.000",
          "2023-03-02 00:00:13.000",
          "2023-03-16 00:00:27.000",
          "2023-03-30 00:00:37.000",
          "2023-04-13 00:00:40.000",
          "2023-04-27 00:00:38.000",
          "2023-05-11 00:00:38.000",
          "2023-05-25 00:00:26.000",
          "2023-06-08 08:46:55.000",
          "2023-06-22 00:00:51.000",
          "2023-07-06 00:00:40.000",
          "2023-07-20 00:01:02.000",
          "2023-08-03 00:00:14.000",
          "2023-08-16 20:01:00",
          "2023-08-30 20:00:37",
          "2023-09-13 20:00:49",
          "2023-09-27 20:00:49",
          "2023-10-25 20:00:14",
          "2023-11-08 19:00:50",
          "2023-11-22 19:00:14",
          "2023-12-06 19:00:36"
         ],
         "xaxis": "x",
         "y": [
          8888.88,
          8888.88,
          8888.88,
          8888.88,
          8888.88,
          8888.88,
          8888.88,
          8888.88,
          8888.88,
          8888.88,
          8888.88,
          8888.88,
          8888.88,
          8888.88,
          8888.88,
          8888.88,
          8888.88,
          8888.88,
          8888.88,
          8888.88,
          8888.88,
          8888.88,
          8888.88,
          8888.88,
          8888.88
         ],
         "yaxis": "y"
        },
        {
         "hovertemplate": "delegate=0x6b17f665a48c78ae1c2e092c184c8c533a9a6320<br>checkpoint=%{x}<br>total_delegated=%{y}<extra></extra>",
         "legendgroup": "0x6b17f665a48c78ae1c2e092c184c8c533a9a6320",
         "line": {
          "color": "#FF6692",
          "dash": "solid"
         },
         "mode": "lines",
         "name": "0x6b17f665a48c78ae1c2e092c184c8c533a9a6320",
         "showlegend": true,
         "type": "scattergl",
         "x": [
          "2023-01-05 00:00:13.000",
          "2023-01-19 00:00:14.000",
          "2023-02-02 00:01:01.000",
          "2023-02-16 00:00:14.000",
          "2023-03-02 00:00:13.000",
          "2023-03-16 00:00:27.000",
          "2023-03-30 00:00:37.000"
         ],
         "xaxis": "x",
         "y": [
          5,
          5,
          5,
          5,
          5,
          5,
          5
         ],
         "yaxis": "y"
        },
        {
         "hovertemplate": "delegate=0x131bd1a2827cceb2945b2e3b91ee1bf736ccbf80<br>checkpoint=%{x}<br>total_delegated=%{y}<extra></extra>",
         "legendgroup": "0x131bd1a2827cceb2945b2e3b91ee1bf736ccbf80",
         "line": {
          "color": "#B6E880",
          "dash": "solid"
         },
         "mode": "lines",
         "name": "0x131bd1a2827cceb2945b2e3b91ee1bf736ccbf80",
         "showlegend": true,
         "type": "scattergl",
         "x": [
          "2023-01-19 00:00:14.000",
          "2023-02-02 00:01:01.000",
          "2023-02-16 00:00:14.000",
          "2023-03-02 00:00:13.000",
          "2023-03-16 00:00:27.000",
          "2023-03-30 00:00:37.000",
          "2023-04-13 00:00:40.000",
          "2023-04-27 00:00:38.000",
          "2023-05-11 00:00:38.000",
          "2023-05-25 00:00:26.000",
          "2023-06-08 08:46:55.000",
          "2023-06-22 00:00:51.000"
         ],
         "xaxis": "x",
         "y": [
          913995.434346683,
          913995.434346683,
          913995.434346683,
          913995.434346683,
          915378.175401978,
          915378.175401978,
          915378.175401978,
          915378.175401978,
          1382.741055295,
          1382.741055295,
          1382.741055295,
          1382.741055295
         ],
         "yaxis": "y"
        },
        {
         "hovertemplate": "delegate=0x469788fe6e9e9681c6ebf3bf78e7fd26fc015446<br>checkpoint=%{x}<br>total_delegated=%{y}<extra></extra>",
         "legendgroup": "0x469788fe6e9e9681c6ebf3bf78e7fd26fc015446",
         "line": {
          "color": "#FF97FF",
          "dash": "solid"
         },
         "mode": "lines",
         "name": "0x469788fe6e9e9681c6ebf3bf78e7fd26fc015446",
         "showlegend": true,
         "type": "scattergl",
         "x": [
          "2023-01-19 00:00:14.000",
          "2023-02-02 00:01:01.000",
          "2023-02-16 00:00:14.000",
          "2023-03-02 00:00:13.000",
          "2023-03-16 00:00:27.000",
          "2023-03-30 00:00:37.000",
          "2023-04-13 00:00:40.000",
          "2023-05-11 00:00:38.000",
          "2023-05-25 00:00:26.000",
          "2023-06-08 08:46:55.000",
          "2023-06-22 00:00:51.000",
          "2023-07-06 00:00:40.000",
          "2023-07-20 00:01:02.000",
          "2023-08-03 00:00:14.000",
          "2023-08-16 20:01:00"
         ],
         "xaxis": "x",
         "y": [
          15.610076678,
          15.610076678,
          15.610076678,
          15.610076678,
          15.610076678,
          15.610076678,
          15.610076678,
          15.610076678,
          15.610076678,
          15.610076678,
          15.610076678,
          15.610076678,
          15.610076678,
          15.610076678,
          15.610076678
         ],
         "yaxis": "y"
        },
        {
         "hovertemplate": "delegate=0x8200d84590eceb10c6471268930e2924f34e3d69<br>checkpoint=%{x}<br>total_delegated=%{y}<extra></extra>",
         "legendgroup": "0x8200d84590eceb10c6471268930e2924f34e3d69",
         "line": {
          "color": "#FECB52",
          "dash": "solid"
         },
         "mode": "lines",
         "name": "0x8200d84590eceb10c6471268930e2924f34e3d69",
         "showlegend": true,
         "type": "scattergl",
         "x": [
          "2023-01-19 00:00:14.000",
          "2023-02-02 00:01:01.000",
          "2023-02-16 00:00:14.000",
          "2023-03-02 00:00:13.000",
          "2023-03-16 00:00:27.000",
          "2023-03-30 00:00:37.000",
          "2023-04-13 00:00:40.000",
          "2023-04-27 00:00:38.000",
          "2023-05-11 00:00:38.000",
          "2023-05-25 00:00:26.000",
          "2023-06-08 08:46:55.000",
          "2023-06-22 00:00:51.000",
          "2023-07-06 00:00:40.000",
          "2023-07-20 00:01:02.000",
          "2023-08-03 00:00:14.000",
          "2023-08-16 20:01:00",
          "2023-08-30 20:00:37",
          "2023-09-13 20:00:49",
          "2023-09-27 20:00:49",
          "2023-10-11 20:00:37",
          "2023-10-25 20:00:14",
          "2023-11-08 19:00:50",
          "2023-11-22 19:00:14",
          "2023-12-06 19:00:36"
         ],
         "xaxis": "x",
         "y": [
          617922.910962372,
          622793.727571135,
          627290.255498009,
          633062.524998009,
          635019.524998009,
          640403.550059402,
          645366.1969980099,
          644095.769065283,
          645535.384751157,
          660614.6657566429,
          659948.808329769,
          656575.830749885,
          671551.454201298,
          658517.608948434,
          682435.972367752,
          687179.066367752,
          665377.1934405001,
          696606.520367752,
          701533.442367752,
          695961.103816656,
          701533.442367752,
          701533.442367752,
          701533.442367752,
          696956.987048598
         ],
         "yaxis": "y"
        },
        {
         "hovertemplate": "delegate=0xf1ee93fac76290b6dae118aef3fa010f67354af5<br>checkpoint=%{x}<br>total_delegated=%{y}<extra></extra>",
         "legendgroup": "0xf1ee93fac76290b6dae118aef3fa010f67354af5",
         "line": {
          "color": "#636efa",
          "dash": "solid"
         },
         "mode": "lines",
         "name": "0xf1ee93fac76290b6dae118aef3fa010f67354af5",
         "showlegend": true,
         "type": "scattergl",
         "x": [
          "2023-01-19 00:00:14.000",
          "2023-02-02 00:01:01.000",
          "2023-02-16 00:00:14.000",
          "2023-03-02 00:00:13.000",
          "2023-03-16 00:00:27.000",
          "2023-03-30 00:00:37.000",
          "2023-04-13 00:00:40.000",
          "2023-04-27 00:00:38.000",
          "2023-05-11 00:00:38.000",
          "2023-05-25 00:00:26.000"
         ],
         "xaxis": "x",
         "y": [
          48295.53111041,
          48295.53111041,
          48295.53111041,
          14810.524310032,
          14810.524310032,
          14810.524310032,
          14810.524310032,
          14810.524310032,
          14810.524310032,
          14810.524310032
         ],
         "yaxis": "y"
        },
        {
         "hovertemplate": "delegate=0x411f9d604766f55cbea7ca57c2d84d27d8193682<br>checkpoint=%{x}<br>total_delegated=%{y}<extra></extra>",
         "legendgroup": "0x411f9d604766f55cbea7ca57c2d84d27d8193682",
         "line": {
          "color": "#EF553B",
          "dash": "solid"
         },
         "mode": "lines",
         "name": "0x411f9d604766f55cbea7ca57c2d84d27d8193682",
         "showlegend": true,
         "type": "scattergl",
         "x": [
          "2023-02-02 00:01:01.000",
          "2023-02-16 00:00:14.000",
          "2023-03-02 00:00:13.000",
          "2023-03-16 00:00:27.000",
          "2023-03-30 00:00:37.000",
          "2023-04-13 00:00:40.000",
          "2023-04-27 00:00:38.000",
          "2023-05-11 00:00:38.000",
          "2023-05-25 00:00:26.000",
          "2023-06-08 08:46:55.000",
          "2023-06-22 00:00:51.000",
          "2023-07-06 00:00:40.000",
          "2023-07-20 00:01:02.000",
          "2023-08-03 00:00:14.000",
          "2023-08-16 20:01:00",
          "2023-08-30 20:00:37",
          "2023-09-13 20:00:49",
          "2023-09-27 20:00:49",
          "2023-10-11 20:00:37",
          "2023-10-25 20:00:14",
          "2023-11-08 19:00:50",
          "2023-11-22 19:00:14",
          "2023-12-06 19:00:36"
         ],
         "xaxis": "x",
         "y": [
          1585.735480268,
          3717.236847542,
          3717.236847542,
          3717.236847542,
          3717.236847542,
          3717.236847542,
          3717.236847542,
          3717.236847542,
          6290.4088345420005,
          7403.011523293,
          11128.614262893,
          15283.737749934,
          15283.737749934,
          15283.737749934,
          16899.633349405,
          18638.439607891,
          17052.704127623,
          19485.688592528,
          15760.085852928,
          23422.74118637,
          23422.74118637,
          23422.74118637,
          21806.845586899
         ],
         "yaxis": "y"
        },
        {
         "hovertemplate": "delegate=0x467ea556ff83ae2a763f38f246bbb4f3f6e9558a<br>checkpoint=%{x}<br>total_delegated=%{y}<extra></extra>",
         "legendgroup": "0x467ea556ff83ae2a763f38f246bbb4f3f6e9558a",
         "line": {
          "color": "#00cc96",
          "dash": "solid"
         },
         "mode": "lines",
         "name": "0x467ea556ff83ae2a763f38f246bbb4f3f6e9558a",
         "showlegend": true,
         "type": "scattergl",
         "x": [
          "2023-02-02 00:01:01.000"
         ],
         "xaxis": "x",
         "y": [
          552.055978048
         ],
         "yaxis": "y"
        },
        {
         "hovertemplate": "delegate=0x2d407ddb06311396fe14d4b49da5f0471447d45c<br>checkpoint=%{x}<br>total_delegated=%{y}<extra></extra>",
         "legendgroup": "0x2d407ddb06311396fe14d4b49da5f0471447d45c",
         "line": {
          "color": "#ab63fa",
          "dash": "solid"
         },
         "mode": "lines",
         "name": "0x2d407ddb06311396fe14d4b49da5f0471447d45c",
         "showlegend": true,
         "type": "scattergl",
         "x": [
          "2023-02-16 00:00:14.000",
          "2023-03-02 00:00:13.000",
          "2023-03-16 00:00:27.000",
          "2023-03-30 00:00:37.000",
          "2023-04-13 00:00:40.000",
          "2023-04-27 00:00:38.000",
          "2023-05-11 00:00:38.000",
          "2023-05-25 00:00:26.000"
         ],
         "xaxis": "x",
         "y": [
          103.473111179,
          103.473111179,
          103.473111179,
          103.473111179,
          103.473111179,
          103.473111179,
          103.473111179,
          103.473111179
         ],
         "yaxis": "y"
        },
        {
         "hovertemplate": "delegate=0x3afb0b4ca9ab60165e207cb14067b07a04114413<br>checkpoint=%{x}<br>total_delegated=%{y}<extra></extra>",
         "legendgroup": "0x3afb0b4ca9ab60165e207cb14067b07a04114413",
         "line": {
          "color": "#FFA15A",
          "dash": "solid"
         },
         "mode": "lines",
         "name": "0x3afb0b4ca9ab60165e207cb14067b07a04114413",
         "showlegend": true,
         "type": "scattergl",
         "x": [
          "2023-02-16 00:00:14.000",
          "2023-03-02 00:00:13.000",
          "2023-03-16 00:00:27.000",
          "2023-03-30 00:00:37.000",
          "2023-04-13 00:00:40.000",
          "2023-04-27 00:00:38.000",
          "2023-05-11 00:00:38.000",
          "2023-05-25 00:00:26.000",
          "2023-07-06 00:00:40.000",
          "2023-07-20 00:01:02.000",
          "2023-08-03 00:00:14.000",
          "2023-08-16 20:01:00",
          "2023-08-30 20:00:37",
          "2023-09-13 20:00:49",
          "2023-09-27 20:00:49",
          "2023-10-11 20:00:37",
          "2023-11-08 19:00:50",
          "2023-11-22 19:00:14",
          "2023-12-06 19:00:36"
         ],
         "xaxis": "x",
         "y": [
          116.80527188399999,
          116.80527188399999,
          116.80527188399999,
          116.80527188399999,
          116.80527188399999,
          116.80527188399999,
          116.80527188399999,
          116.80527188399999,
          31.998674739,
          31.998674739,
          31.998674739,
          31.998674739,
          31.998674739,
          31.998674739,
          31.998674739,
          31.998674739,
          31.998674739,
          167.600711478,
          167.600711478
         ],
         "yaxis": "y"
        },
        {
         "hovertemplate": "delegate=0xb3983cddba4b127960a4cdd531ab989264509e23<br>checkpoint=%{x}<br>total_delegated=%{y}<extra></extra>",
         "legendgroup": "0xb3983cddba4b127960a4cdd531ab989264509e23",
         "line": {
          "color": "#19d3f3",
          "dash": "solid"
         },
         "mode": "lines",
         "name": "0xb3983cddba4b127960a4cdd531ab989264509e23",
         "showlegend": true,
         "type": "scattergl",
         "x": [
          "2023-03-02 00:00:13.000",
          "2023-03-16 00:00:27.000",
          "2023-03-30 00:00:37.000",
          "2023-04-13 00:00:40.000",
          "2023-04-27 00:00:38.000",
          "2023-05-11 00:00:38.000",
          "2023-05-25 00:00:26.000",
          "2023-06-08 08:46:55.000",
          "2023-06-22 00:00:51.000",
          "2023-07-06 00:00:40.000",
          "2023-07-20 00:01:02.000",
          "2023-08-03 00:00:14.000",
          "2023-08-16 20:01:00",
          "2023-08-30 20:00:37",
          "2023-09-13 20:00:49",
          "2023-09-27 20:00:49",
          "2023-10-11 20:00:37",
          "2023-10-25 20:00:14",
          "2023-11-08 19:00:50",
          "2023-11-22 19:00:14",
          "2023-12-06 19:00:36"
         ],
         "xaxis": "x",
         "y": [
          164689.286427537,
          164689.286427537,
          164689.286427537,
          164689.286427537,
          164689.286427537,
          164689.286427537,
          164689.286427537,
          170056.877996998,
          170056.877996998,
          174541.581555904,
          174541.581555904,
          174541.581555904,
          174541.581555904,
          174541.581555904,
          174541.581555904,
          169173.98998644302,
          169173.98998644302,
          164689.286427537,
          164689.286427537,
          164689.286427537,
          174528.162576981
         ],
         "yaxis": "y"
        },
        {
         "hovertemplate": "delegate=0x056a8152c8ea78ef73eed50ce3b643b35d953379<br>checkpoint=%{x}<br>total_delegated=%{y}<extra></extra>",
         "legendgroup": "0x056a8152c8ea78ef73eed50ce3b643b35d953379",
         "line": {
          "color": "#FF6692",
          "dash": "solid"
         },
         "mode": "lines",
         "name": "0x056a8152c8ea78ef73eed50ce3b643b35d953379",
         "showlegend": true,
         "type": "scattergl",
         "x": [
          "2023-03-16 00:00:27.000",
          "2023-03-30 00:00:37.000",
          "2023-04-13 00:00:40.000",
          "2023-04-27 00:00:38.000",
          "2023-05-11 00:00:38.000",
          "2023-05-25 00:00:26.000"
         ],
         "xaxis": "x",
         "y": [
          26374.781191204,
          22266.455895227,
          19292.796570343,
          19292.796570343,
          19292.796570343,
          19292.796570343
         ],
         "yaxis": "y"
        },
        {
         "hovertemplate": "delegate=0x47cb53752e5dc0a972440da127dca9fba6c2ab6f<br>checkpoint=%{x}<br>total_delegated=%{y}<extra></extra>",
         "legendgroup": "0x47cb53752e5dc0a972440da127dca9fba6c2ab6f",
         "line": {
          "color": "#B6E880",
          "dash": "solid"
         },
         "mode": "lines",
         "name": "0x47cb53752e5dc0a972440da127dca9fba6c2ab6f",
         "showlegend": true,
         "type": "scattergl",
         "x": [
          "2023-03-30 00:00:37.000",
          "2023-04-13 00:00:40.000",
          "2023-04-27 00:00:38.000",
          "2023-05-11 00:00:38.000",
          "2023-05-25 00:00:26.000",
          "2023-06-08 08:46:55.000"
         ],
         "xaxis": "x",
         "y": [
          1.75,
          1.75,
          1.75,
          1.75,
          1.75,
          1.75
         ],
         "yaxis": "y"
        },
        {
         "hovertemplate": "delegate=0xfc08757c505ea28709df66e54870fb6de09f0c5e<br>checkpoint=%{x}<br>total_delegated=%{y}<extra></extra>",
         "legendgroup": "0xfc08757c505ea28709df66e54870fb6de09f0c5e",
         "line": {
          "color": "#FF97FF",
          "dash": "solid"
         },
         "mode": "lines",
         "name": "0xfc08757c505ea28709df66e54870fb6de09f0c5e",
         "showlegend": true,
         "type": "scattergl",
         "x": [
          "2023-03-30 00:00:37.000",
          "2023-04-13 00:00:40.000",
          "2023-04-27 00:00:38.000",
          "2023-05-11 00:00:38.000",
          "2023-05-25 00:00:26.000",
          "2023-06-08 08:46:55.000",
          "2023-06-22 00:00:51.000",
          "2023-07-06 00:00:40.000",
          "2023-07-20 00:01:02.000",
          "2023-08-03 00:00:14.000",
          "2023-08-16 20:01:00",
          "2023-08-30 20:00:37",
          "2023-09-13 20:00:49",
          "2023-09-27 20:00:49",
          "2023-10-11 20:00:37",
          "2023-10-25 20:00:14",
          "2023-11-08 19:00:50",
          "2023-11-22 19:00:14",
          "2023-12-06 19:00:36"
         ],
         "xaxis": "x",
         "y": [
          2319165.2188298968,
          2311906.521683899,
          2374373.651691658,
          2383442.134745347,
          2184174.9187785666,
          2333710.206712246,
          1846202.189110166,
          2442905.775463961,
          2602500.194445653,
          2583330.200352239,
          2614359.666167279,
          2596103.671985478,
          2531324.471624813,
          2382859.519068941,
          2423747.276711557,
          2497758.4837634168,
          2644512.972621813,
          2687385.058185198,
          2656911.5376746138
         ],
         "yaxis": "y"
        },
        {
         "hovertemplate": "delegate=0x1ff60e85852ac73cd05b69a8b6641fc24a3fc011<br>checkpoint=%{x}<br>total_delegated=%{y}<extra></extra>",
         "legendgroup": "0x1ff60e85852ac73cd05b69a8b6641fc24a3fc011",
         "line": {
          "color": "#FECB52",
          "dash": "solid"
         },
         "mode": "lines",
         "name": "0x1ff60e85852ac73cd05b69a8b6641fc24a3fc011",
         "showlegend": true,
         "type": "scattergl",
         "x": [
          "2023-04-27 00:00:38.000",
          "2023-05-11 00:00:38.000",
          "2023-05-25 00:00:26.000",
          "2023-06-08 08:46:55.000",
          "2023-06-22 00:00:51.000",
          "2023-07-06 00:00:40.000",
          "2023-07-20 00:01:02.000",
          "2023-08-03 00:00:14.000"
         ],
         "xaxis": "x",
         "y": [
          259596.7772872,
          259596.7772872,
          259596.7772872,
          259596.7772872,
          259596.77728719998,
          259596.7772872,
          259596.7772872,
          259596.7772872
         ],
         "yaxis": "y"
        },
        {
         "hovertemplate": "delegate=0x357fcf792ba695fdb05674221b48012e98897dca<br>checkpoint=%{x}<br>total_delegated=%{y}<extra></extra>",
         "legendgroup": "0x357fcf792ba695fdb05674221b48012e98897dca",
         "line": {
          "color": "#636efa",
          "dash": "solid"
         },
         "mode": "lines",
         "name": "0x357fcf792ba695fdb05674221b48012e98897dca",
         "showlegend": true,
         "type": "scattergl",
         "x": [
          "2023-04-27 00:00:38.000",
          "2023-05-11 00:00:38.000",
          "2023-05-25 00:00:26.000",
          "2023-06-08 08:46:55.000",
          "2023-06-22 00:00:51.000",
          "2023-07-06 00:00:40.000",
          "2023-07-20 00:01:02.000",
          "2023-08-03 00:00:14.000",
          "2023-08-16 20:01:00",
          "2023-08-30 20:00:37",
          "2023-09-13 20:00:49",
          "2023-09-27 20:00:49",
          "2023-10-11 20:00:37"
         ],
         "xaxis": "x",
         "y": [
          465.06588651100003,
          465.06588651100003,
          269.08771145500003,
          269.08771145500003,
          9.345619471,
          413.72026704,
          413.72026704,
          413.72026704,
          413.72026704,
          413.72026704,
          413.72026704,
          413.72026704,
          413.72026704
         ],
         "yaxis": "y"
        },
        {
         "hovertemplate": "delegate=0xbce35d5a3e89995730b3c979a01319d06e41776f<br>checkpoint=%{x}<br>total_delegated=%{y}<extra></extra>",
         "legendgroup": "0xbce35d5a3e89995730b3c979a01319d06e41776f",
         "line": {
          "color": "#EF553B",
          "dash": "solid"
         },
         "mode": "lines",
         "name": "0xbce35d5a3e89995730b3c979a01319d06e41776f",
         "showlegend": true,
         "type": "scattergl",
         "x": [
          "2023-05-11 00:00:38.000",
          "2023-05-25 00:00:26.000",
          "2023-06-08 08:46:55.000",
          "2023-06-22 00:00:51.000",
          "2023-07-06 00:00:40.000",
          "2023-07-20 00:01:02.000",
          "2023-08-03 00:00:14.000",
          "2023-08-16 20:01:00",
          "2023-08-30 20:00:37",
          "2023-09-13 20:00:49",
          "2023-10-11 20:00:37",
          "2023-10-25 20:00:14",
          "2023-11-08 19:00:50",
          "2023-11-22 19:00:14"
         ],
         "xaxis": "x",
         "y": [
          9839.675714615,
          9839.675714615,
          15141.040500435,
          15141.040500435,
          15141.040500435,
          15141.040500435,
          15141.040500435,
          6197.445625115,
          5301.36478582,
          5301.36478582,
          15255.732258938,
          15255.732258938,
          15255.732258938,
          15255.732258938
         ],
         "yaxis": "y"
        },
        {
         "hovertemplate": "delegate=0x3bbaf0b179a0d89882113aff21cd3a3c8980d10e<br>checkpoint=%{x}<br>total_delegated=%{y}<extra></extra>",
         "legendgroup": "0x3bbaf0b179a0d89882113aff21cd3a3c8980d10e",
         "line": {
          "color": "#00cc96",
          "dash": "solid"
         },
         "mode": "lines",
         "name": "0x3bbaf0b179a0d89882113aff21cd3a3c8980d10e",
         "showlegend": true,
         "type": "scattergl",
         "x": [
          "2023-06-08 08:46:55.000",
          "2023-06-22 00:00:51.000",
          "2023-07-06 00:00:40.000",
          "2023-07-20 00:01:02.000",
          "2023-08-03 00:00:14.000",
          "2023-08-16 20:01:00",
          "2023-08-30 20:00:37",
          "2023-09-13 20:00:49",
          "2023-09-27 20:00:49",
          "2023-10-11 20:00:37",
          "2023-10-25 20:00:14",
          "2023-11-08 19:00:50",
          "2023-11-22 19:00:14",
          "2023-12-06 19:00:36"
         ],
         "xaxis": "x",
         "y": [
          50000,
          15000,
          25000,
          30000,
          40000,
          50000,
          50000,
          50000,
          50000,
          50000,
          25000,
          45000,
          45000,
          35000
         ],
         "yaxis": "y"
        },
        {
         "hovertemplate": "delegate=0x3bbd1ffde975eac3104f3c3e6ea0df3b1056d088<br>checkpoint=%{x}<br>total_delegated=%{y}<extra></extra>",
         "legendgroup": "0x3bbd1ffde975eac3104f3c3e6ea0df3b1056d088",
         "line": {
          "color": "#ab63fa",
          "dash": "solid"
         },
         "mode": "lines",
         "name": "0x3bbd1ffde975eac3104f3c3e6ea0df3b1056d088",
         "showlegend": true,
         "type": "scattergl",
         "x": [
          "2023-06-08 08:46:55.000",
          "2023-06-22 00:00:51.000",
          "2023-07-06 00:00:40.000",
          "2023-07-20 00:01:02.000",
          "2023-08-03 00:00:14.000",
          "2023-08-16 20:01:00",
          "2023-08-30 20:00:37",
          "2023-09-13 20:00:49",
          "2023-09-27 20:00:49",
          "2023-10-11 20:00:37",
          "2023-10-25 20:00:14",
          "2023-11-08 19:00:50",
          "2023-11-22 19:00:14",
          "2023-12-06 19:00:36"
         ],
         "xaxis": "x",
         "y": [
          6139.562920696,
          7702.461118806001,
          7615.412595705,
          7615.412595705,
          7525.065303076,
          7525.065303076,
          7702.461118805999,
          7702.461118805999,
          3236.8576700080002,
          8099.989583418001,
          7841.570829910999,
          7841.570829910999,
          7112.35476299,
          7112.35476299
         ],
         "yaxis": "y"
        },
        {
         "hovertemplate": "delegate=0x49e5097f627e400f2a377d5fd7e712d1e0e16fc2<br>checkpoint=%{x}<br>total_delegated=%{y}<extra></extra>",
         "legendgroup": "0x49e5097f627e400f2a377d5fd7e712d1e0e16fc2",
         "line": {
          "color": "#FFA15A",
          "dash": "solid"
         },
         "mode": "lines",
         "name": "0x49e5097f627e400f2a377d5fd7e712d1e0e16fc2",
         "showlegend": true,
         "type": "scattergl",
         "x": [
          "2023-06-08 08:46:55.000",
          "2023-06-22 00:00:51.000",
          "2023-07-06 00:00:40.000",
          "2023-07-20 00:01:02.000",
          "2023-08-03 00:00:14.000",
          "2023-08-16 20:01:00",
          "2023-08-30 20:00:37",
          "2023-09-13 20:00:49",
          "2023-09-27 20:00:49",
          "2023-10-11 20:00:37",
          "2023-10-25 20:00:14",
          "2023-11-08 19:00:50",
          "2023-11-22 19:00:14",
          "2023-12-06 19:00:36"
         ],
         "xaxis": "x",
         "y": [
          2047620.458413277,
          653365.85890061,
          653365.858900609,
          653365.858900609,
          653365.858900609,
          653823.692705355,
          640306.306712277,
          653823.692705355,
          2047948.102744773,
          2047948.102744773,
          2047948.102744773,
          2047948.102744773,
          2047948.102744773,
          1990078.8903890229
         ],
         "yaxis": "y"
        },
        {
         "hovertemplate": "delegate=0x96e2888f7d2d511778e6a28b40b6bd66a19877a4<br>checkpoint=%{x}<br>total_delegated=%{y}<extra></extra>",
         "legendgroup": "0x96e2888f7d2d511778e6a28b40b6bd66a19877a4",
         "line": {
          "color": "#19d3f3",
          "dash": "solid"
         },
         "mode": "lines",
         "name": "0x96e2888f7d2d511778e6a28b40b6bd66a19877a4",
         "showlegend": true,
         "type": "scattergl",
         "x": [
          "2023-06-08 08:46:55.000"
         ],
         "xaxis": "x",
         "y": [
          305.315883
         ],
         "yaxis": "y"
        },
        {
         "hovertemplate": "delegate=0x97ce0101a307a79ec9959d82db1d8adba9fbee4d<br>checkpoint=%{x}<br>total_delegated=%{y}<extra></extra>",
         "legendgroup": "0x97ce0101a307a79ec9959d82db1d8adba9fbee4d",
         "line": {
          "color": "#FF6692",
          "dash": "solid"
         },
         "mode": "lines",
         "name": "0x97ce0101a307a79ec9959d82db1d8adba9fbee4d",
         "showlegend": true,
         "type": "scattergl",
         "x": [
          "2023-06-08 08:46:55.000",
          "2023-06-22 00:00:51.000",
          "2023-07-06 00:00:40.000",
          "2023-07-20 00:01:02.000",
          "2023-08-03 00:00:14.000",
          "2023-08-16 20:01:00",
          "2023-08-30 20:00:37",
          "2023-09-13 20:00:49",
          "2023-09-27 20:00:49",
          "2023-10-11 20:00:37",
          "2023-10-25 20:00:14",
          "2023-11-08 19:00:50",
          "2023-11-22 19:00:14",
          "2023-12-06 19:00:36"
         ],
         "xaxis": "x",
         "y": [
          2381865.093691019,
          2585661.347083539,
          2687598.497606627,
          2852233.133390954,
          2615950.804147937,
          2870591.526547307,
          3009038.700737733,
          2840850.685532068,
          3314564.383479015,
          3002765.869270587,
          3112992.656381817,
          3179696.661684896,
          3286467.3979793987,
          3309378.432204492
         ],
         "yaxis": "y"
        },
        {
         "hovertemplate": "delegate=0xf17149326ec300c5650ed983afa9a8114fef2400<br>checkpoint=%{x}<br>total_delegated=%{y}<extra></extra>",
         "legendgroup": "0xf17149326ec300c5650ed983afa9a8114fef2400",
         "line": {
          "color": "#B6E880",
          "dash": "solid"
         },
         "mode": "lines",
         "name": "0xf17149326ec300c5650ed983afa9a8114fef2400",
         "showlegend": true,
         "type": "scattergl",
         "x": [
          "2023-06-08 08:46:55.000",
          "2023-06-22 00:00:51.000",
          "2023-07-06 00:00:40.000",
          "2023-07-20 00:01:02.000",
          "2023-08-03 00:00:14.000",
          "2023-08-16 20:01:00",
          "2023-08-30 20:00:37",
          "2023-09-13 20:00:49",
          "2023-09-27 20:00:49",
          "2023-10-11 20:00:37",
          "2023-10-25 20:00:14",
          "2023-11-08 19:00:50",
          "2023-11-22 19:00:14",
          "2023-12-06 19:00:36"
         ],
         "xaxis": "x",
         "y": [
          1149046.08024014,
          1149046.08024014,
          1149046.08024014,
          1149046.08024014,
          1149046.08024014,
          1149046.08024014,
          1149046.08024014,
          1149046.08024014,
          1149046.08024014,
          1149046.08024014,
          1149046.08024014,
          1149046.08024014,
          1149046.08024014,
          1149046.08024014
         ],
         "yaxis": "y"
        },
        {
         "hovertemplate": "delegate=0x3fbf25cbe94942c9d3d423ab6af767f5aaa2f83d<br>checkpoint=%{x}<br>total_delegated=%{y}<extra></extra>",
         "legendgroup": "0x3fbf25cbe94942c9d3d423ab6af767f5aaa2f83d",
         "line": {
          "color": "#FF97FF",
          "dash": "solid"
         },
         "mode": "lines",
         "name": "0x3fbf25cbe94942c9d3d423ab6af767f5aaa2f83d",
         "showlegend": true,
         "type": "scattergl",
         "x": [
          "2023-06-22 00:00:51.000",
          "2023-07-06 00:00:40.000",
          "2023-07-20 00:01:02.000",
          "2023-08-03 00:00:14.000",
          "2023-08-16 20:01:00",
          "2023-08-30 20:00:37",
          "2023-09-13 20:00:49",
          "2023-09-27 20:00:49"
         ],
         "xaxis": "x",
         "y": [
          9.243826,
          9.243826,
          9.243826,
          9.243826,
          9.243826,
          9.243826,
          9.243826,
          9.243826
         ],
         "yaxis": "y"
        },
        {
         "hovertemplate": "delegate=0x4dab5765046dd96748a93ea4bc3cc4261c8a3d02<br>checkpoint=%{x}<br>total_delegated=%{y}<extra></extra>",
         "legendgroup": "0x4dab5765046dd96748a93ea4bc3cc4261c8a3d02",
         "line": {
          "color": "#FECB52",
          "dash": "solid"
         },
         "mode": "lines",
         "name": "0x4dab5765046dd96748a93ea4bc3cc4261c8a3d02",
         "showlegend": true,
         "type": "scattergl",
         "x": [
          "2023-06-22 00:00:51.000",
          "2023-07-06 00:00:40.000",
          "2023-07-20 00:01:02.000",
          "2023-08-03 00:00:14.000",
          "2023-08-16 20:01:00",
          "2023-08-30 20:00:37",
          "2023-09-13 20:00:49",
          "2023-09-27 20:00:49",
          "2023-10-11 20:00:37",
          "2023-10-25 20:00:14",
          "2023-11-08 19:00:50",
          "2023-11-22 19:00:14",
          "2023-12-06 19:00:36"
         ],
         "xaxis": "x",
         "y": [
          35000,
          105000,
          105000,
          105000,
          105000,
          105000,
          105000,
          105000,
          70000,
          35000,
          105000,
          105000,
          105000
         ],
         "yaxis": "y"
        },
        {
         "hovertemplate": "delegate=0x8a65ac0e23f31979db06ec62af62b132a6df4741<br>checkpoint=%{x}<br>total_delegated=%{y}<extra></extra>",
         "legendgroup": "0x8a65ac0e23f31979db06ec62af62b132a6df4741",
         "line": {
          "color": "#636efa",
          "dash": "solid"
         },
         "mode": "lines",
         "name": "0x8a65ac0e23f31979db06ec62af62b132a6df4741",
         "showlegend": true,
         "type": "scattergl",
         "x": [
          "2023-06-22 00:00:51.000",
          "2023-07-06 00:00:40.000",
          "2023-07-20 00:01:02.000",
          "2023-08-03 00:00:14.000",
          "2023-08-16 20:01:00",
          "2023-08-30 20:00:37",
          "2023-09-13 20:00:49",
          "2023-09-27 20:00:49"
         ],
         "xaxis": "x",
         "y": [
          0.1,
          0.1,
          0.1,
          0.1,
          0.1,
          0.1,
          0.1,
          0.1
         ],
         "yaxis": "y"
        },
        {
         "hovertemplate": "delegate=0xb3df5271b92e9fd2fed137253bb4611285923f16<br>checkpoint=%{x}<br>total_delegated=%{y}<extra></extra>",
         "legendgroup": "0xb3df5271b92e9fd2fed137253bb4611285923f16",
         "line": {
          "color": "#EF553B",
          "dash": "solid"
         },
         "mode": "lines",
         "name": "0xb3df5271b92e9fd2fed137253bb4611285923f16",
         "showlegend": true,
         "type": "scattergl",
         "x": [
          "2023-06-22 00:00:51.000",
          "2023-07-06 00:00:40.000",
          "2023-07-20 00:01:02.000",
          "2023-08-03 00:00:14.000",
          "2023-08-16 20:01:00",
          "2023-08-30 20:00:37",
          "2023-09-13 20:00:49"
         ],
         "xaxis": "x",
         "y": [
          1394254.599512667,
          1394254.599512667,
          1394254.599512667,
          1394254.599512667,
          1394254.599512667,
          1394254.599512667,
          1394254.599512667
         ],
         "yaxis": "y"
        },
        {
         "hovertemplate": "delegate=0x56f610e0c5f2f64a6b599cc5481d35e70d2e63e7<br>checkpoint=%{x}<br>total_delegated=%{y}<extra></extra>",
         "legendgroup": "0x56f610e0c5f2f64a6b599cc5481d35e70d2e63e7",
         "line": {
          "color": "#00cc96",
          "dash": "solid"
         },
         "mode": "lines",
         "name": "0x56f610e0c5f2f64a6b599cc5481d35e70d2e63e7",
         "showlegend": true,
         "type": "scattergl",
         "x": [
          "2023-07-06 00:00:40.000",
          "2023-07-20 00:01:02.000",
          "2023-08-03 00:00:14.000",
          "2023-08-16 20:01:00",
          "2023-08-30 20:00:37",
          "2023-09-13 20:00:49",
          "2023-09-27 20:00:49",
          "2023-10-11 20:00:37",
          "2023-10-25 20:00:14",
          "2023-11-08 19:00:50",
          "2023-11-22 19:00:14",
          "2023-12-06 19:00:36"
         ],
         "xaxis": "x",
         "y": [
          32409.760467262,
          197135.66419892,
          206572.111195902,
          262735.87498133,
          257560.320002805,
          343873.419571699,
          239951.23926105798,
          230054.57628483098,
          222613.106408004,
          210256.97835188,
          201107.535505418,
          207491.671057519
         ],
         "yaxis": "y"
        },
        {
         "hovertemplate": "delegate=0x67733cfa01b42900057759a8eba97afed02c44e8<br>checkpoint=%{x}<br>total_delegated=%{y}<extra></extra>",
         "legendgroup": "0x67733cfa01b42900057759a8eba97afed02c44e8",
         "line": {
          "color": "#ab63fa",
          "dash": "solid"
         },
         "mode": "lines",
         "name": "0x67733cfa01b42900057759a8eba97afed02c44e8",
         "showlegend": true,
         "type": "scattergl",
         "x": [
          "2023-07-20 00:01:02.000",
          "2023-08-03 00:00:14.000"
         ],
         "xaxis": "x",
         "y": [
          18263.927497,
          18263.927497
         ],
         "yaxis": "y"
        },
        {
         "hovertemplate": "delegate=0x6bbb9b83e6ad112cfaf1c275accc885c86262401<br>checkpoint=%{x}<br>total_delegated=%{y}<extra></extra>",
         "legendgroup": "0x6bbb9b83e6ad112cfaf1c275accc885c86262401",
         "line": {
          "color": "#FFA15A",
          "dash": "solid"
         },
         "mode": "lines",
         "name": "0x6bbb9b83e6ad112cfaf1c275accc885c86262401",
         "showlegend": true,
         "type": "scattergl",
         "x": [
          "2023-07-20 00:01:02.000",
          "2023-08-03 00:00:14.000",
          "2023-08-16 20:01:00",
          "2023-08-30 20:00:37",
          "2023-09-13 20:00:49",
          "2023-09-27 20:00:49",
          "2023-10-11 20:00:37",
          "2023-10-25 20:00:14",
          "2023-11-08 19:00:50",
          "2023-11-22 19:00:14",
          "2023-12-06 19:00:36"
         ],
         "xaxis": "x",
         "y": [
          7190.718480088,
          7190.718480088,
          7190.718480088,
          7190.718480088,
          7190.718480088,
          15625.348649536001,
          15625.348649536001,
          15625.348649536001,
          15625.348649536001,
          15625.348649536001,
          15625.348649536001
         ],
         "yaxis": "y"
        },
        {
         "hovertemplate": "delegate=0x7c844793638aa18280d73bf0464e70c951e0a893<br>checkpoint=%{x}<br>total_delegated=%{y}<extra></extra>",
         "legendgroup": "0x7c844793638aa18280d73bf0464e70c951e0a893",
         "line": {
          "color": "#19d3f3",
          "dash": "solid"
         },
         "mode": "lines",
         "name": "0x7c844793638aa18280d73bf0464e70c951e0a893",
         "showlegend": true,
         "type": "scattergl",
         "x": [
          "2023-07-20 00:01:02.000",
          "2023-08-03 00:00:14.000",
          "2023-08-16 20:01:00",
          "2023-08-30 20:00:37",
          "2023-09-13 20:00:49",
          "2023-09-27 20:00:49",
          "2023-10-11 20:00:37",
          "2023-10-25 20:00:14"
         ],
         "xaxis": "x",
         "y": [
          7310.708930895,
          7310.708930895,
          7310.708930895,
          7310.708930895,
          7310.708930895,
          7310.708930895,
          7310.708930895,
          7310.708930895
         ],
         "yaxis": "y"
        },
        {
         "hovertemplate": "delegate=0x7cfc917d0d16916752ee65ac73a24ed3f774ea7c<br>checkpoint=%{x}<br>total_delegated=%{y}<extra></extra>",
         "legendgroup": "0x7cfc917d0d16916752ee65ac73a24ed3f774ea7c",
         "line": {
          "color": "#FF6692",
          "dash": "solid"
         },
         "mode": "lines",
         "name": "0x7cfc917d0d16916752ee65ac73a24ed3f774ea7c",
         "showlegend": true,
         "type": "scattergl",
         "x": [
          "2023-07-20 00:01:02.000",
          "2023-08-03 00:00:14.000",
          "2023-08-16 20:01:00",
          "2023-08-30 20:00:37",
          "2023-09-13 20:00:49",
          "2023-09-27 20:00:49",
          "2023-10-11 20:00:37",
          "2023-10-25 20:00:14",
          "2023-11-08 19:00:50",
          "2023-11-22 19:00:14",
          "2023-12-06 19:00:36"
         ],
         "xaxis": "x",
         "y": [
          723897.8867557549,
          723897.8867557549,
          695203.1340622529,
          723897.8867557549,
          723897.8867557549,
          726903.317498644,
          726903.3174986439,
          726903.3174986439,
          726903.3174986439,
          668807.6599381969,
          668807.6599381969
         ],
         "yaxis": "y"
        },
        {
         "hovertemplate": "delegate=0xb89c066fbd5e88522bd3dde7a0a5516ef2b44d13<br>checkpoint=%{x}<br>total_delegated=%{y}<extra></extra>",
         "legendgroup": "0xb89c066fbd5e88522bd3dde7a0a5516ef2b44d13",
         "line": {
          "color": "#B6E880",
          "dash": "solid"
         },
         "mode": "lines",
         "name": "0xb89c066fbd5e88522bd3dde7a0a5516ef2b44d13",
         "showlegend": true,
         "type": "scattergl",
         "x": [
          "2023-07-20 00:01:02.000",
          "2023-08-03 00:00:14.000",
          "2023-08-16 20:01:00",
          "2023-08-30 20:00:37",
          "2023-09-13 20:00:49",
          "2023-09-27 20:00:49",
          "2023-10-11 20:00:37",
          "2023-10-25 20:00:14",
          "2023-11-08 19:00:50",
          "2023-11-22 19:00:14",
          "2023-12-06 19:00:36"
         ],
         "xaxis": "x",
         "y": [
          109289.907048146,
          109289.907048146,
          109289.907048146,
          109289.907048146,
          109289.907048146,
          109289.907048146,
          109289.907048146,
          109289.907048146,
          109289.907048146,
          109289.907048146,
          109289.907048146
         ],
         "yaxis": "y"
        },
        {
         "hovertemplate": "delegate=0x08f963bf8d9d8ad3a803bde87a0718dd25eeeac8<br>checkpoint=%{x}<br>total_delegated=%{y}<extra></extra>",
         "legendgroup": "0x08f963bf8d9d8ad3a803bde87a0718dd25eeeac8",
         "line": {
          "color": "#FF97FF",
          "dash": "solid"
         },
         "mode": "lines",
         "name": "0x08f963bf8d9d8ad3a803bde87a0718dd25eeeac8",
         "showlegend": true,
         "type": "scattergl",
         "x": [
          "2023-08-03 00:00:14.000",
          "2023-08-16 20:01:00",
          "2023-08-30 20:00:37",
          "2023-09-13 20:00:49",
          "2023-09-27 20:00:49",
          "2023-10-11 20:00:37",
          "2023-10-25 20:00:14"
         ],
         "xaxis": "x",
         "y": [
          12560.0327148,
          12560.0327148,
          12560.0327148,
          12560.0327148,
          12560.0327148,
          12560.0327148,
          12560.0327148
         ],
         "yaxis": "y"
        },
        {
         "hovertemplate": "delegate=0xd733d4cc5b42206a62ed7b1ceec5b4d61898f429<br>checkpoint=%{x}<br>total_delegated=%{y}<extra></extra>",
         "legendgroup": "0xd733d4cc5b42206a62ed7b1ceec5b4d61898f429",
         "line": {
          "color": "#FECB52",
          "dash": "solid"
         },
         "mode": "lines",
         "name": "0xd733d4cc5b42206a62ed7b1ceec5b4d61898f429",
         "showlegend": true,
         "type": "scattergl",
         "x": [
          "2023-08-03 00:00:14.000",
          "2023-08-16 20:01:00",
          "2023-08-30 20:00:37",
          "2023-09-13 20:00:49"
         ],
         "xaxis": "x",
         "y": [
          974829.3687469771,
          974829.3687469771,
          974829.3687469771,
          974829.3687469771
         ],
         "yaxis": "y"
        },
        {
         "hovertemplate": "delegate=0x1759d307879174d2b298d2e66a0df70ccbede667<br>checkpoint=%{x}<br>total_delegated=%{y}<extra></extra>",
         "legendgroup": "0x1759d307879174d2b298d2e66a0df70ccbede667",
         "line": {
          "color": "#636efa",
          "dash": "solid"
         },
         "mode": "lines",
         "name": "0x1759d307879174d2b298d2e66a0df70ccbede667",
         "showlegend": true,
         "type": "scattergl",
         "x": [
          "2023-08-16 20:01:00",
          "2023-08-30 20:00:37",
          "2023-09-13 20:00:49",
          "2023-09-27 20:00:49",
          "2023-10-11 20:00:37",
          "2023-10-25 20:00:14",
          "2023-11-08 19:00:50",
          "2023-11-22 19:00:14",
          "2023-12-06 19:00:36"
         ],
         "xaxis": "x",
         "y": [
          259596.7772872,
          259596.7772872,
          259596.7772872,
          259596.7772872,
          259596.77728719998,
          250212.044735971,
          259596.7772872,
          259596.7772872,
          259596.7772872
         ],
         "yaxis": "y"
        },
        {
         "hovertemplate": "delegate=0x9c5083dd4838e120dbeac44c052179692aa5dac5<br>checkpoint=%{x}<br>total_delegated=%{y}<extra></extra>",
         "legendgroup": "0x9c5083dd4838e120dbeac44c052179692aa5dac5",
         "line": {
          "color": "#EF553B",
          "dash": "solid"
         },
         "mode": "lines",
         "name": "0x9c5083dd4838e120dbeac44c052179692aa5dac5",
         "showlegend": true,
         "type": "scattergl",
         "x": [
          "2023-08-16 20:01:00"
         ],
         "xaxis": "x",
         "y": [
          1000000.00264766
         ],
         "yaxis": "y"
        },
        {
         "hovertemplate": "delegate=0xcd585be7de1641bac08f371f187355cda9eef2d8<br>checkpoint=%{x}<br>total_delegated=%{y}<extra></extra>",
         "legendgroup": "0xcd585be7de1641bac08f371f187355cda9eef2d8",
         "line": {
          "color": "#00cc96",
          "dash": "solid"
         },
         "mode": "lines",
         "name": "0xcd585be7de1641bac08f371f187355cda9eef2d8",
         "showlegend": true,
         "type": "scattergl",
         "x": [
          "2023-09-13 20:00:49",
          "2023-09-27 20:00:49",
          "2023-10-11 20:00:37",
          "2023-10-25 20:00:14",
          "2023-11-08 19:00:50",
          "2023-11-22 19:00:14",
          "2023-12-06 19:00:36"
         ],
         "xaxis": "x",
         "y": [
          235614.998896921,
          235614.998896921,
          235614.998896921,
          235614.998896921,
          235614.998896921,
          235614.998896921,
          235614.998896921
         ],
         "yaxis": "y"
        },
        {
         "hovertemplate": "delegate=0x578a4af5cbc3009487a89be88bc560157200795b<br>checkpoint=%{x}<br>total_delegated=%{y}<extra></extra>",
         "legendgroup": "0x578a4af5cbc3009487a89be88bc560157200795b",
         "line": {
          "color": "#ab63fa",
          "dash": "solid"
         },
         "mode": "lines",
         "name": "0x578a4af5cbc3009487a89be88bc560157200795b",
         "showlegend": true,
         "type": "scattergl",
         "x": [
          "2023-09-27 20:00:49",
          "2023-10-11 20:00:37",
          "2023-10-25 20:00:14",
          "2023-11-08 19:00:50",
          "2023-11-22 19:00:14",
          "2023-12-06 19:00:36"
         ],
         "xaxis": "x",
         "y": [
          975839.678206595,
          975839.678206595,
          975839.678206595,
          975839.678206595,
          975839.678206595,
          975839.678206595
         ],
         "yaxis": "y"
        },
        {
         "hovertemplate": "delegate=0x4fcccfe552574ab5f6aa46d3ec1630d0bffdee87<br>checkpoint=%{x}<br>total_delegated=%{y}<extra></extra>",
         "legendgroup": "0x4fcccfe552574ab5f6aa46d3ec1630d0bffdee87",
         "line": {
          "color": "#FFA15A",
          "dash": "solid"
         },
         "mode": "lines",
         "name": "0x4fcccfe552574ab5f6aa46d3ec1630d0bffdee87",
         "showlegend": true,
         "type": "scattergl",
         "x": [
          "2023-10-11 20:00:37",
          "2023-10-25 20:00:14",
          "2023-11-08 19:00:50",
          "2023-11-22 19:00:14",
          "2023-12-06 19:00:36"
         ],
         "xaxis": "x",
         "y": [
          4147445.910016735,
          4162133.671244099,
          4162133.671244099,
          4162133.671244099,
          4162133.671244099
         ],
         "yaxis": "y"
        },
        {
         "hovertemplate": "delegate=0xd818b9f7cb4090047d26c51e63c9cb1b5e12886a<br>checkpoint=%{x}<br>total_delegated=%{y}<extra></extra>",
         "legendgroup": "0xd818b9f7cb4090047d26c51e63c9cb1b5e12886a",
         "line": {
          "color": "#19d3f3",
          "dash": "solid"
         },
         "mode": "lines",
         "name": "0xd818b9f7cb4090047d26c51e63c9cb1b5e12886a",
         "showlegend": true,
         "type": "scattergl",
         "x": [
          "2023-10-11 20:00:37",
          "2023-10-25 20:00:14",
          "2023-11-08 19:00:50",
          "2023-11-22 19:00:14",
          "2023-12-06 19:00:36"
         ],
         "xaxis": "x",
         "y": [
          49589.506114794,
          49589.506114794,
          49589.506114794,
          56983.598514794,
          56983.598514794
         ],
         "yaxis": "y"
        },
        {
         "hovertemplate": "delegate=0x64acb0882c8b174c84dbd492ed307ef0ed4e732f<br>checkpoint=%{x}<br>total_delegated=%{y}<extra></extra>",
         "legendgroup": "0x64acb0882c8b174c84dbd492ed307ef0ed4e732f",
         "line": {
          "color": "#FF6692",
          "dash": "solid"
         },
         "mode": "lines",
         "name": "0x64acb0882c8b174c84dbd492ed307ef0ed4e732f",
         "showlegend": true,
         "type": "scattergl",
         "x": [
          "2023-10-25 20:00:14",
          "2023-11-08 19:00:50",
          "2023-11-22 19:00:14",
          "2023-12-06 19:00:36"
         ],
         "xaxis": "x",
         "y": [
          25413,
          25413,
          25413,
          25413
         ],
         "yaxis": "y"
        },
        {
         "hovertemplate": "delegate=0xdce62b21a8b1a9b39dd3ded27c876d416cc91b3e<br>checkpoint=%{x}<br>total_delegated=%{y}<extra></extra>",
         "legendgroup": "0xdce62b21a8b1a9b39dd3ded27c876d416cc91b3e",
         "line": {
          "color": "#B6E880",
          "dash": "solid"
         },
         "mode": "lines",
         "name": "0xdce62b21a8b1a9b39dd3ded27c876d416cc91b3e",
         "showlegend": true,
         "type": "scattergl",
         "x": [
          "2023-11-22 19:00:14",
          "2023-12-06 19:00:36"
         ],
         "xaxis": "x",
         "y": [
          10578.994238035,
          10069.530595388
         ],
         "yaxis": "y"
        },
        {
         "hovertemplate": "delegate=0x84d38bbbea10495c66a4738532f46e4e96d60ddb<br>checkpoint=%{x}<br>total_delegated=%{y}<extra></extra>",
         "legendgroup": "0x84d38bbbea10495c66a4738532f46e4e96d60ddb",
         "line": {
          "color": "#FF97FF",
          "dash": "solid"
         },
         "mode": "lines",
         "name": "0x84d38bbbea10495c66a4738532f46e4e96d60ddb",
         "showlegend": true,
         "type": "scattergl",
         "x": [
          "2023-12-06 19:00:36"
         ],
         "xaxis": "x",
         "y": [
          8
         ],
         "yaxis": "y"
        },
        {
         "hovertemplate": "delegate=0xcb71544ed459f934166c48e510ed700708f82882<br>checkpoint=%{x}<br>total_delegated=%{y}<extra></extra>",
         "legendgroup": "0xcb71544ed459f934166c48e510ed700708f82882",
         "line": {
          "color": "#FECB52",
          "dash": "solid"
         },
         "mode": "lines",
         "name": "0xcb71544ed459f934166c48e510ed700708f82882",
         "showlegend": true,
         "type": "scattergl",
         "x": [
          "2023-12-06 19:00:36"
         ],
         "xaxis": "x",
         "y": [
          15255.732258938
         ],
         "yaxis": "y"
        }
       ],
       "layout": {
        "font": {
         "color": "RebeccaPurple",
         "family": "Courier New, monospace",
         "size": 18
        },
        "legend": {
         "title": {
          "text": "delegate"
         },
         "tracegroupgap": 0
        },
        "margin": {
         "t": 60
        },
        "template": {
         "data": {
          "bar": [
           {
            "error_x": {
             "color": "#2a3f5f"
            },
            "error_y": {
             "color": "#2a3f5f"
            },
            "marker": {
             "line": {
              "color": "#E5ECF6",
              "width": 0.5
             }
            },
            "type": "bar"
           }
          ],
          "barpolar": [
           {
            "marker": {
             "line": {
              "color": "#E5ECF6",
              "width": 0.5
             }
            },
            "type": "barpolar"
           }
          ],
          "carpet": [
           {
            "aaxis": {
             "endlinecolor": "#2a3f5f",
             "gridcolor": "white",
             "linecolor": "white",
             "minorgridcolor": "white",
             "startlinecolor": "#2a3f5f"
            },
            "baxis": {
             "endlinecolor": "#2a3f5f",
             "gridcolor": "white",
             "linecolor": "white",
             "minorgridcolor": "white",
             "startlinecolor": "#2a3f5f"
            },
            "type": "carpet"
           }
          ],
          "choropleth": [
           {
            "colorbar": {
             "outlinewidth": 0,
             "ticks": ""
            },
            "type": "choropleth"
           }
          ],
          "contour": [
           {
            "colorbar": {
             "outlinewidth": 0,
             "ticks": ""
            },
            "colorscale": [
             [
              0,
              "#0d0887"
             ],
             [
              0.1111111111111111,
              "#46039f"
             ],
             [
              0.2222222222222222,
              "#7201a8"
             ],
             [
              0.3333333333333333,
              "#9c179e"
             ],
             [
              0.4444444444444444,
              "#bd3786"
             ],
             [
              0.5555555555555556,
              "#d8576b"
             ],
             [
              0.6666666666666666,
              "#ed7953"
             ],
             [
              0.7777777777777778,
              "#fb9f3a"
             ],
             [
              0.8888888888888888,
              "#fdca26"
             ],
             [
              1,
              "#f0f921"
             ]
            ],
            "type": "contour"
           }
          ],
          "contourcarpet": [
           {
            "colorbar": {
             "outlinewidth": 0,
             "ticks": ""
            },
            "type": "contourcarpet"
           }
          ],
          "heatmap": [
           {
            "colorbar": {
             "outlinewidth": 0,
             "ticks": ""
            },
            "colorscale": [
             [
              0,
              "#0d0887"
             ],
             [
              0.1111111111111111,
              "#46039f"
             ],
             [
              0.2222222222222222,
              "#7201a8"
             ],
             [
              0.3333333333333333,
              "#9c179e"
             ],
             [
              0.4444444444444444,
              "#bd3786"
             ],
             [
              0.5555555555555556,
              "#d8576b"
             ],
             [
              0.6666666666666666,
              "#ed7953"
             ],
             [
              0.7777777777777778,
              "#fb9f3a"
             ],
             [
              0.8888888888888888,
              "#fdca26"
             ],
             [
              1,
              "#f0f921"
             ]
            ],
            "type": "heatmap"
           }
          ],
          "heatmapgl": [
           {
            "colorbar": {
             "outlinewidth": 0,
             "ticks": ""
            },
            "colorscale": [
             [
              0,
              "#0d0887"
             ],
             [
              0.1111111111111111,
              "#46039f"
             ],
             [
              0.2222222222222222,
              "#7201a8"
             ],
             [
              0.3333333333333333,
              "#9c179e"
             ],
             [
              0.4444444444444444,
              "#bd3786"
             ],
             [
              0.5555555555555556,
              "#d8576b"
             ],
             [
              0.6666666666666666,
              "#ed7953"
             ],
             [
              0.7777777777777778,
              "#fb9f3a"
             ],
             [
              0.8888888888888888,
              "#fdca26"
             ],
             [
              1,
              "#f0f921"
             ]
            ],
            "type": "heatmapgl"
           }
          ],
          "histogram": [
           {
            "marker": {
             "colorbar": {
              "outlinewidth": 0,
              "ticks": ""
             }
            },
            "type": "histogram"
           }
          ],
          "histogram2d": [
           {
            "colorbar": {
             "outlinewidth": 0,
             "ticks": ""
            },
            "colorscale": [
             [
              0,
              "#0d0887"
             ],
             [
              0.1111111111111111,
              "#46039f"
             ],
             [
              0.2222222222222222,
              "#7201a8"
             ],
             [
              0.3333333333333333,
              "#9c179e"
             ],
             [
              0.4444444444444444,
              "#bd3786"
             ],
             [
              0.5555555555555556,
              "#d8576b"
             ],
             [
              0.6666666666666666,
              "#ed7953"
             ],
             [
              0.7777777777777778,
              "#fb9f3a"
             ],
             [
              0.8888888888888888,
              "#fdca26"
             ],
             [
              1,
              "#f0f921"
             ]
            ],
            "type": "histogram2d"
           }
          ],
          "histogram2dcontour": [
           {
            "colorbar": {
             "outlinewidth": 0,
             "ticks": ""
            },
            "colorscale": [
             [
              0,
              "#0d0887"
             ],
             [
              0.1111111111111111,
              "#46039f"
             ],
             [
              0.2222222222222222,
              "#7201a8"
             ],
             [
              0.3333333333333333,
              "#9c179e"
             ],
             [
              0.4444444444444444,
              "#bd3786"
             ],
             [
              0.5555555555555556,
              "#d8576b"
             ],
             [
              0.6666666666666666,
              "#ed7953"
             ],
             [
              0.7777777777777778,
              "#fb9f3a"
             ],
             [
              0.8888888888888888,
              "#fdca26"
             ],
             [
              1,
              "#f0f921"
             ]
            ],
            "type": "histogram2dcontour"
           }
          ],
          "mesh3d": [
           {
            "colorbar": {
             "outlinewidth": 0,
             "ticks": ""
            },
            "type": "mesh3d"
           }
          ],
          "parcoords": [
           {
            "line": {
             "colorbar": {
              "outlinewidth": 0,
              "ticks": ""
             }
            },
            "type": "parcoords"
           }
          ],
          "pie": [
           {
            "automargin": true,
            "type": "pie"
           }
          ],
          "scatter": [
           {
            "marker": {
             "colorbar": {
              "outlinewidth": 0,
              "ticks": ""
             }
            },
            "type": "scatter"
           }
          ],
          "scatter3d": [
           {
            "line": {
             "colorbar": {
              "outlinewidth": 0,
              "ticks": ""
             }
            },
            "marker": {
             "colorbar": {
              "outlinewidth": 0,
              "ticks": ""
             }
            },
            "type": "scatter3d"
           }
          ],
          "scattercarpet": [
           {
            "marker": {
             "colorbar": {
              "outlinewidth": 0,
              "ticks": ""
             }
            },
            "type": "scattercarpet"
           }
          ],
          "scattergeo": [
           {
            "marker": {
             "colorbar": {
              "outlinewidth": 0,
              "ticks": ""
             }
            },
            "type": "scattergeo"
           }
          ],
          "scattergl": [
           {
            "marker": {
             "colorbar": {
              "outlinewidth": 0,
              "ticks": ""
             }
            },
            "type": "scattergl"
           }
          ],
          "scattermapbox": [
           {
            "marker": {
             "colorbar": {
              "outlinewidth": 0,
              "ticks": ""
             }
            },
            "type": "scattermapbox"
           }
          ],
          "scatterpolar": [
           {
            "marker": {
             "colorbar": {
              "outlinewidth": 0,
              "ticks": ""
             }
            },
            "type": "scatterpolar"
           }
          ],
          "scatterpolargl": [
           {
            "marker": {
             "colorbar": {
              "outlinewidth": 0,
              "ticks": ""
             }
            },
            "type": "scatterpolargl"
           }
          ],
          "scatterternary": [
           {
            "marker": {
             "colorbar": {
              "outlinewidth": 0,
              "ticks": ""
             }
            },
            "type": "scatterternary"
           }
          ],
          "surface": [
           {
            "colorbar": {
             "outlinewidth": 0,
             "ticks": ""
            },
            "colorscale": [
             [
              0,
              "#0d0887"
             ],
             [
              0.1111111111111111,
              "#46039f"
             ],
             [
              0.2222222222222222,
              "#7201a8"
             ],
             [
              0.3333333333333333,
              "#9c179e"
             ],
             [
              0.4444444444444444,
              "#bd3786"
             ],
             [
              0.5555555555555556,
              "#d8576b"
             ],
             [
              0.6666666666666666,
              "#ed7953"
             ],
             [
              0.7777777777777778,
              "#fb9f3a"
             ],
             [
              0.8888888888888888,
              "#fdca26"
             ],
             [
              1,
              "#f0f921"
             ]
            ],
            "type": "surface"
           }
          ],
          "table": [
           {
            "cells": {
             "fill": {
              "color": "#EBF0F8"
             },
             "line": {
              "color": "white"
             }
            },
            "header": {
             "fill": {
              "color": "#C8D4E3"
             },
             "line": {
              "color": "white"
             }
            },
            "type": "table"
           }
          ]
         },
         "layout": {
          "annotationdefaults": {
           "arrowcolor": "#2a3f5f",
           "arrowhead": 0,
           "arrowwidth": 1
          },
          "autotypenumbers": "strict",
          "coloraxis": {
           "colorbar": {
            "outlinewidth": 0,
            "ticks": ""
           }
          },
          "colorscale": {
           "diverging": [
            [
             0,
             "#8e0152"
            ],
            [
             0.1,
             "#c51b7d"
            ],
            [
             0.2,
             "#de77ae"
            ],
            [
             0.3,
             "#f1b6da"
            ],
            [
             0.4,
             "#fde0ef"
            ],
            [
             0.5,
             "#f7f7f7"
            ],
            [
             0.6,
             "#e6f5d0"
            ],
            [
             0.7,
             "#b8e186"
            ],
            [
             0.8,
             "#7fbc41"
            ],
            [
             0.9,
             "#4d9221"
            ],
            [
             1,
             "#276419"
            ]
           ],
           "sequential": [
            [
             0,
             "#0d0887"
            ],
            [
             0.1111111111111111,
             "#46039f"
            ],
            [
             0.2222222222222222,
             "#7201a8"
            ],
            [
             0.3333333333333333,
             "#9c179e"
            ],
            [
             0.4444444444444444,
             "#bd3786"
            ],
            [
             0.5555555555555556,
             "#d8576b"
            ],
            [
             0.6666666666666666,
             "#ed7953"
            ],
            [
             0.7777777777777778,
             "#fb9f3a"
            ],
            [
             0.8888888888888888,
             "#fdca26"
            ],
            [
             1,
             "#f0f921"
            ]
           ],
           "sequentialminus": [
            [
             0,
             "#0d0887"
            ],
            [
             0.1111111111111111,
             "#46039f"
            ],
            [
             0.2222222222222222,
             "#7201a8"
            ],
            [
             0.3333333333333333,
             "#9c179e"
            ],
            [
             0.4444444444444444,
             "#bd3786"
            ],
            [
             0.5555555555555556,
             "#d8576b"
            ],
            [
             0.6666666666666666,
             "#ed7953"
            ],
            [
             0.7777777777777778,
             "#fb9f3a"
            ],
            [
             0.8888888888888888,
             "#fdca26"
            ],
            [
             1,
             "#f0f921"
            ]
           ]
          },
          "colorway": [
           "#636efa",
           "#EF553B",
           "#00cc96",
           "#ab63fa",
           "#FFA15A",
           "#19d3f3",
           "#FF6692",
           "#B6E880",
           "#FF97FF",
           "#FECB52"
          ],
          "font": {
           "color": "#2a3f5f"
          },
          "geo": {
           "bgcolor": "white",
           "lakecolor": "white",
           "landcolor": "#E5ECF6",
           "showlakes": true,
           "showland": true,
           "subunitcolor": "white"
          },
          "hoverlabel": {
           "align": "left"
          },
          "hovermode": "closest",
          "mapbox": {
           "style": "light"
          },
          "paper_bgcolor": "white",
          "plot_bgcolor": "#E5ECF6",
          "polar": {
           "angularaxis": {
            "gridcolor": "white",
            "linecolor": "white",
            "ticks": ""
           },
           "bgcolor": "#E5ECF6",
           "radialaxis": {
            "gridcolor": "white",
            "linecolor": "white",
            "ticks": ""
           }
          },
          "scene": {
           "xaxis": {
            "backgroundcolor": "#E5ECF6",
            "gridcolor": "white",
            "gridwidth": 2,
            "linecolor": "white",
            "showbackground": true,
            "ticks": "",
            "zerolinecolor": "white"
           },
           "yaxis": {
            "backgroundcolor": "#E5ECF6",
            "gridcolor": "white",
            "gridwidth": 2,
            "linecolor": "white",
            "showbackground": true,
            "ticks": "",
            "zerolinecolor": "white"
           },
           "zaxis": {
            "backgroundcolor": "#E5ECF6",
            "gridcolor": "white",
            "gridwidth": 2,
            "linecolor": "white",
            "showbackground": true,
            "ticks": "",
            "zerolinecolor": "white"
           }
          },
          "shapedefaults": {
           "line": {
            "color": "#2a3f5f"
           }
          },
          "ternary": {
           "aaxis": {
            "gridcolor": "white",
            "linecolor": "white",
            "ticks": ""
           },
           "baxis": {
            "gridcolor": "white",
            "linecolor": "white",
            "ticks": ""
           },
           "bgcolor": "#E5ECF6",
           "caxis": {
            "gridcolor": "white",
            "linecolor": "white",
            "ticks": ""
           }
          },
          "title": {
           "x": 0.05
          },
          "xaxis": {
           "automargin": true,
           "gridcolor": "white",
           "linecolor": "white",
           "ticks": "",
           "title": {
            "standoff": 15
           },
           "zerolinecolor": "white",
           "zerolinewidth": 2
          },
          "yaxis": {
           "automargin": true,
           "gridcolor": "white",
           "linecolor": "white",
           "ticks": "",
           "title": {
            "standoff": 15
           },
           "zerolinecolor": "white",
           "zerolinewidth": 2
          }
         }
        },
        "title": {
         "text": "Delegated Balance Per Delegate"
        },
        "xaxis": {
         "anchor": "y",
         "domain": [
          0,
          1
         ],
         "title": {
          "text": "checkpoint"
         }
        },
        "yaxis": {
         "anchor": "x",
         "domain": [
          0,
          1
         ],
         "title": {
          "text": "total_delegated"
         }
        }
       }
      }
     },
     "metadata": {},
     "output_type": "display_data"
    }
   ],
   "source": [
    "fig = px.line(pcb.aggregate_delegates, x=\"checkpoint\", y=\"total_delegated\", color='delegate')\n",
    "fig.update_layout(\n",
    "    title=f\"Delegated Balance Per Delegate\",\n",
    "#     xaxis_title=\"X Axis Title\",\n",
    "#     yaxis_title=\"Y Axis Title\",\n",
    "#     legend_title=\"Legend Title\",\n",
    "    font=dict(\n",
    "        family=\"Courier New, monospace\",\n",
    "        size=18,\n",
    "        color=\"RebeccaPurple\"\n",
    "    ),\n",
    "    # height= 1000,\n",
    ")\n",
    "fig.show()"
   ]
  },
  {
   "cell_type": "code",
   "execution_count": 59,
   "metadata": {},
   "outputs": [
    {
     "data": {
      "application/vnd.plotly.v1+json": {
       "config": {
        "plotlyServerURL": "https://plot.ly"
       },
       "data": [
        {
         "hovertemplate": "delegate=0x118e2ae07382d8ac768712e095bab4a06590e4a5<br>checkpoint=%{x}<br>delegators_count=%{y}<extra></extra>",
         "legendgroup": "0x118e2ae07382d8ac768712e095bab4a06590e4a5",
         "line": {
          "color": "#636efa",
          "dash": "solid"
         },
         "mode": "lines",
         "name": "0x118e2ae07382d8ac768712e095bab4a06590e4a5",
         "showlegend": true,
         "type": "scattergl",
         "x": [
          "2022-12-22 00:00:25.000",
          "2023-01-05 00:00:13.000",
          "2023-01-19 00:00:14.000"
         ],
         "xaxis": "x",
         "y": [
          2,
          2,
          2
         ],
         "yaxis": "y"
        },
        {
         "hovertemplate": "delegate=0x14f83ff95d4ec5e8812ddf42da1232b0ba1015e6<br>checkpoint=%{x}<br>delegators_count=%{y}<extra></extra>",
         "legendgroup": "0x14f83ff95d4ec5e8812ddf42da1232b0ba1015e6",
         "line": {
          "color": "#EF553B",
          "dash": "solid"
         },
         "mode": "lines",
         "name": "0x14f83ff95d4ec5e8812ddf42da1232b0ba1015e6",
         "showlegend": true,
         "type": "scattergl",
         "x": [
          "2022-12-22 00:00:25.000",
          "2023-01-05 00:00:13.000",
          "2023-01-19 00:00:14.000",
          "2023-02-02 00:01:01.000",
          "2023-02-16 00:00:14.000",
          "2023-03-02 00:00:13.000",
          "2023-03-16 00:00:27.000",
          "2023-03-30 00:00:37.000",
          "2023-04-13 00:00:40.000",
          "2023-04-27 00:00:38.000",
          "2023-05-11 00:00:38.000",
          "2023-05-25 00:00:26.000",
          "2023-06-08 08:46:55.000",
          "2023-06-22 00:00:51.000",
          "2023-07-06 00:00:40.000",
          "2023-07-20 00:01:02.000",
          "2023-08-03 00:00:14.000",
          "2023-08-16 20:01:00",
          "2023-08-30 20:00:37",
          "2023-09-13 20:00:49",
          "2023-09-27 20:00:49"
         ],
         "xaxis": "x",
         "y": [
          3,
          3,
          3,
          3,
          2,
          2,
          2,
          2,
          2,
          1,
          1,
          1,
          1,
          2,
          2,
          2,
          2,
          2,
          2,
          2,
          1
         ],
         "yaxis": "y"
        },
        {
         "hovertemplate": "delegate=0x23bc20fdd363bbf39349c67b8745d88de86ca78b<br>checkpoint=%{x}<br>delegators_count=%{y}<extra></extra>",
         "legendgroup": "0x23bc20fdd363bbf39349c67b8745d88de86ca78b",
         "line": {
          "color": "#00cc96",
          "dash": "solid"
         },
         "mode": "lines",
         "name": "0x23bc20fdd363bbf39349c67b8745d88de86ca78b",
         "showlegend": true,
         "type": "scattergl",
         "x": [
          "2022-12-22 00:00:25.000",
          "2023-01-05 00:00:13.000",
          "2023-01-19 00:00:14.000",
          "2023-02-02 00:01:01.000",
          "2023-02-16 00:00:14.000"
         ],
         "xaxis": "x",
         "y": [
          1,
          1,
          1,
          1,
          1
         ],
         "yaxis": "y"
        },
        {
         "hovertemplate": "delegate=0x253706f4bfcf5d454962219ee13d28252551f5e8<br>checkpoint=%{x}<br>delegators_count=%{y}<extra></extra>",
         "legendgroup": "0x253706f4bfcf5d454962219ee13d28252551f5e8",
         "line": {
          "color": "#ab63fa",
          "dash": "solid"
         },
         "mode": "lines",
         "name": "0x253706f4bfcf5d454962219ee13d28252551f5e8",
         "showlegend": true,
         "type": "scattergl",
         "x": [
          "2022-12-22 00:00:25.000",
          "2023-01-05 00:00:13.000",
          "2023-01-19 00:00:14.000",
          "2023-02-02 00:01:01.000",
          "2023-02-16 00:00:14.000",
          "2023-03-02 00:00:13.000",
          "2023-03-16 00:00:27.000",
          "2023-03-30 00:00:37.000",
          "2023-04-13 00:00:40.000",
          "2023-04-27 00:00:38.000",
          "2023-05-11 00:00:38.000",
          "2023-05-25 00:00:26.000",
          "2023-06-08 08:46:55.000",
          "2023-06-22 00:00:51.000",
          "2023-07-06 00:00:40.000",
          "2023-08-16 20:01:00",
          "2023-08-30 20:00:37",
          "2023-09-13 20:00:49",
          "2023-09-27 20:00:49",
          "2023-10-11 20:00:37",
          "2023-10-25 20:00:14",
          "2023-11-08 19:00:50",
          "2023-11-22 19:00:14",
          "2023-12-06 19:00:36"
         ],
         "xaxis": "x",
         "y": [
          1,
          1,
          1,
          1,
          1,
          1,
          1,
          1,
          1,
          1,
          1,
          1,
          1,
          1,
          1,
          1,
          1,
          1,
          1,
          1,
          1,
          1,
          1,
          1
         ],
         "yaxis": "y"
        },
        {
         "hovertemplate": "delegate=0x2844a0d6442034d3027a05635f4224d966c54fd7<br>checkpoint=%{x}<br>delegators_count=%{y}<extra></extra>",
         "legendgroup": "0x2844a0d6442034d3027a05635f4224d966c54fd7",
         "line": {
          "color": "#FFA15A",
          "dash": "solid"
         },
         "mode": "lines",
         "name": "0x2844a0d6442034d3027a05635f4224d966c54fd7",
         "showlegend": true,
         "type": "scattergl",
         "x": [
          "2022-12-22 00:00:25.000",
          "2023-01-05 00:00:13.000",
          "2023-01-19 00:00:14.000",
          "2023-02-02 00:01:01.000",
          "2023-02-16 00:00:14.000",
          "2023-03-02 00:00:13.000",
          "2023-03-16 00:00:27.000",
          "2023-03-30 00:00:37.000",
          "2023-04-13 00:00:40.000",
          "2023-04-27 00:00:38.000",
          "2023-05-11 00:00:38.000",
          "2023-05-25 00:00:26.000",
          "2023-06-08 08:46:55.000",
          "2023-06-22 00:00:51.000",
          "2023-07-06 00:00:40.000",
          "2023-07-20 00:01:02.000",
          "2023-08-03 00:00:14.000",
          "2023-08-16 20:01:00",
          "2023-08-30 20:00:37",
          "2023-09-13 20:00:49",
          "2023-09-27 20:00:49",
          "2023-10-11 20:00:37",
          "2023-10-25 20:00:14"
         ],
         "xaxis": "x",
         "y": [
          1,
          1,
          1,
          1,
          1,
          1,
          1,
          1,
          1,
          1,
          1,
          1,
          1,
          1,
          1,
          1,
          1,
          1,
          1,
          1,
          1,
          1,
          1
         ],
         "yaxis": "y"
        },
        {
         "hovertemplate": "delegate=0x29b3cc70f8ccf4fe18ac52cf59c303fc8f2411e4<br>checkpoint=%{x}<br>delegators_count=%{y}<extra></extra>",
         "legendgroup": "0x29b3cc70f8ccf4fe18ac52cf59c303fc8f2411e4",
         "line": {
          "color": "#19d3f3",
          "dash": "solid"
         },
         "mode": "lines",
         "name": "0x29b3cc70f8ccf4fe18ac52cf59c303fc8f2411e4",
         "showlegend": true,
         "type": "scattergl",
         "x": [
          "2022-12-22 00:00:25.000",
          "2023-01-05 00:00:13.000",
          "2023-01-19 00:00:14.000",
          "2023-02-02 00:01:01.000",
          "2023-02-16 00:00:14.000",
          "2023-03-02 00:00:13.000",
          "2023-04-13 00:00:40.000",
          "2023-04-27 00:00:38.000",
          "2023-05-11 00:00:38.000",
          "2023-05-25 00:00:26.000",
          "2023-06-08 08:46:55.000",
          "2023-06-22 00:00:51.000",
          "2023-07-06 00:00:40.000",
          "2023-07-20 00:01:02.000",
          "2023-08-03 00:00:14.000",
          "2023-11-22 19:00:14",
          "2023-12-06 19:00:36"
         ],
         "xaxis": "x",
         "y": [
          1,
          1,
          1,
          1,
          1,
          1,
          1,
          1,
          1,
          1,
          1,
          1,
          1,
          1,
          1,
          1,
          1
         ],
         "yaxis": "y"
        },
        {
         "hovertemplate": "delegate=0x3305fceb235d7ab2fe3b9945f03d820e904d1034<br>checkpoint=%{x}<br>delegators_count=%{y}<extra></extra>",
         "legendgroup": "0x3305fceb235d7ab2fe3b9945f03d820e904d1034",
         "line": {
          "color": "#FF6692",
          "dash": "solid"
         },
         "mode": "lines",
         "name": "0x3305fceb235d7ab2fe3b9945f03d820e904d1034",
         "showlegend": true,
         "type": "scattergl",
         "x": [
          "2022-12-22 00:00:25.000",
          "2023-01-05 00:00:13.000",
          "2023-01-19 00:00:14.000",
          "2023-02-02 00:01:01.000",
          "2023-02-16 00:00:14.000",
          "2023-03-02 00:00:13.000",
          "2023-03-16 00:00:27.000",
          "2023-03-30 00:00:37.000",
          "2023-04-13 00:00:40.000",
          "2023-04-27 00:00:38.000",
          "2023-05-11 00:00:38.000",
          "2023-05-25 00:00:26.000",
          "2023-06-08 08:46:55.000",
          "2023-06-22 00:00:51.000",
          "2023-07-06 00:00:40.000",
          "2023-07-20 00:01:02.000",
          "2023-08-03 00:00:14.000",
          "2023-08-16 20:01:00",
          "2023-08-30 20:00:37",
          "2023-09-13 20:00:49",
          "2023-09-27 20:00:49",
          "2023-10-11 20:00:37",
          "2023-10-25 20:00:14",
          "2023-11-08 19:00:50",
          "2023-11-22 19:00:14",
          "2023-12-06 19:00:36"
         ],
         "xaxis": "x",
         "y": [
          1,
          1,
          1,
          1,
          1,
          1,
          1,
          1,
          1,
          1,
          1,
          1,
          1,
          1,
          1,
          1,
          1,
          1,
          1,
          1,
          1,
          1,
          1,
          1,
          1,
          1
         ],
         "yaxis": "y"
        },
        {
         "hovertemplate": "delegate=0x38d5ebf3b0820e08327fffe2316ab6e88d72ca80<br>checkpoint=%{x}<br>delegators_count=%{y}<extra></extra>",
         "legendgroup": "0x38d5ebf3b0820e08327fffe2316ab6e88d72ca80",
         "line": {
          "color": "#B6E880",
          "dash": "solid"
         },
         "mode": "lines",
         "name": "0x38d5ebf3b0820e08327fffe2316ab6e88d72ca80",
         "showlegend": true,
         "type": "scattergl",
         "x": [
          "2022-12-22 00:00:25.000",
          "2023-01-05 00:00:13.000",
          "2023-01-19 00:00:14.000",
          "2023-02-02 00:01:01.000",
          "2023-02-16 00:00:14.000",
          "2023-03-02 00:00:13.000",
          "2023-03-16 00:00:27.000",
          "2023-03-30 00:00:37.000",
          "2023-04-13 00:00:40.000",
          "2023-04-27 00:00:38.000",
          "2023-05-11 00:00:38.000",
          "2023-05-25 00:00:26.000",
          "2023-06-08 08:46:55.000",
          "2023-06-22 00:00:51.000",
          "2023-07-06 00:00:40.000",
          "2023-07-20 00:01:02.000",
          "2023-08-03 00:00:14.000",
          "2023-08-16 20:01:00",
          "2023-08-30 20:00:37",
          "2023-09-13 20:00:49",
          "2023-09-27 20:00:49",
          "2023-10-25 20:00:14",
          "2023-11-08 19:00:50",
          "2023-11-22 19:00:14",
          "2023-12-06 19:00:36"
         ],
         "xaxis": "x",
         "y": [
          1,
          1,
          1,
          1,
          1,
          1,
          1,
          1,
          1,
          1,
          1,
          1,
          1,
          1,
          1,
          1,
          1,
          1,
          1,
          1,
          1,
          1,
          1,
          1,
          1
         ],
         "yaxis": "y"
        },
        {
         "hovertemplate": "delegate=0x39415255619783a2e71fcf7d8f708a951d92e1b6<br>checkpoint=%{x}<br>delegators_count=%{y}<extra></extra>",
         "legendgroup": "0x39415255619783a2e71fcf7d8f708a951d92e1b6",
         "line": {
          "color": "#FF97FF",
          "dash": "solid"
         },
         "mode": "lines",
         "name": "0x39415255619783a2e71fcf7d8f708a951d92e1b6",
         "showlegend": true,
         "type": "scattergl",
         "x": [
          "2022-12-22 00:00:25.000",
          "2023-01-05 00:00:13.000",
          "2023-01-19 00:00:14.000",
          "2023-02-02 00:01:01.000",
          "2023-02-16 00:00:14.000",
          "2023-03-02 00:00:13.000",
          "2023-03-16 00:00:27.000",
          "2023-03-30 00:00:37.000",
          "2023-04-13 00:00:40.000",
          "2023-04-27 00:00:38.000",
          "2023-05-11 00:00:38.000",
          "2023-05-25 00:00:26.000",
          "2023-06-08 08:46:55.000",
          "2023-06-22 00:00:51.000",
          "2023-07-06 00:00:40.000",
          "2023-07-20 00:01:02.000",
          "2023-08-03 00:00:14.000",
          "2023-08-16 20:01:00",
          "2023-08-30 20:00:37",
          "2023-09-13 20:00:49",
          "2023-09-27 20:00:49",
          "2023-10-11 20:00:37",
          "2023-10-25 20:00:14",
          "2023-11-08 19:00:50",
          "2023-11-22 19:00:14",
          "2023-12-06 19:00:36"
         ],
         "xaxis": "x",
         "y": [
          3,
          3,
          3,
          3,
          3,
          3,
          3,
          3,
          3,
          3,
          3,
          3,
          3,
          3,
          3,
          3,
          3,
          3,
          3,
          3,
          3,
          3,
          3,
          3,
          3,
          3
         ],
         "yaxis": "y"
        },
        {
         "hovertemplate": "delegate=0x4702d39c499236a43654c54783c3f24830e247dc<br>checkpoint=%{x}<br>delegators_count=%{y}<extra></extra>",
         "legendgroup": "0x4702d39c499236a43654c54783c3f24830e247dc",
         "line": {
          "color": "#FECB52",
          "dash": "solid"
         },
         "mode": "lines",
         "name": "0x4702d39c499236a43654c54783c3f24830e247dc",
         "showlegend": true,
         "type": "scattergl",
         "x": [
          "2022-12-22 00:00:25.000",
          "2023-01-05 00:00:13.000",
          "2023-01-19 00:00:14.000",
          "2023-02-02 00:01:01.000",
          "2023-02-16 00:00:14.000",
          "2023-03-02 00:00:13.000",
          "2023-03-16 00:00:27.000",
          "2023-03-30 00:00:37.000",
          "2023-04-13 00:00:40.000",
          "2023-04-27 00:00:38.000",
          "2023-05-11 00:00:38.000",
          "2023-05-25 00:00:26.000",
          "2023-06-08 08:46:55.000",
          "2023-06-22 00:00:51.000",
          "2023-07-06 00:00:40.000",
          "2023-07-20 00:01:02.000",
          "2023-08-03 00:00:14.000",
          "2023-08-16 20:01:00",
          "2023-08-30 20:00:37",
          "2023-09-13 20:00:49",
          "2023-09-27 20:00:49",
          "2023-10-11 20:00:37",
          "2023-10-25 20:00:14",
          "2023-11-08 19:00:50",
          "2023-11-22 19:00:14",
          "2023-12-06 19:00:36"
         ],
         "xaxis": "x",
         "y": [
          1,
          1,
          1,
          1,
          1,
          1,
          1,
          1,
          1,
          1,
          1,
          1,
          1,
          1,
          1,
          1,
          1,
          1,
          1,
          1,
          1,
          1,
          1,
          1,
          1,
          1
         ],
         "yaxis": "y"
        },
        {
         "hovertemplate": "delegate=0x5180db0237291a6449dda9ed33ad90a38787621c<br>checkpoint=%{x}<br>delegators_count=%{y}<extra></extra>",
         "legendgroup": "0x5180db0237291a6449dda9ed33ad90a38787621c",
         "line": {
          "color": "#636efa",
          "dash": "solid"
         },
         "mode": "lines",
         "name": "0x5180db0237291a6449dda9ed33ad90a38787621c",
         "showlegend": true,
         "type": "scattergl",
         "x": [
          "2022-12-22 00:00:25.000",
          "2023-01-05 00:00:13.000",
          "2023-01-19 00:00:14.000",
          "2023-02-02 00:01:01.000",
          "2023-02-16 00:00:14.000",
          "2023-03-02 00:00:13.000",
          "2023-03-16 00:00:27.000",
          "2023-03-30 00:00:37.000",
          "2023-04-13 00:00:40.000",
          "2023-04-27 00:00:38.000",
          "2023-05-11 00:00:38.000",
          "2023-05-25 00:00:26.000",
          "2023-06-08 08:46:55.000",
          "2023-06-22 00:00:51.000",
          "2023-07-06 00:00:40.000",
          "2023-07-20 00:01:02.000",
          "2023-08-03 00:00:14.000",
          "2023-08-16 20:01:00",
          "2023-08-30 20:00:37",
          "2023-09-13 20:00:49",
          "2023-09-27 20:00:49",
          "2023-10-11 20:00:37",
          "2023-10-25 20:00:14",
          "2023-11-08 19:00:50",
          "2023-11-22 19:00:14",
          "2023-12-06 19:00:36"
         ],
         "xaxis": "x",
         "y": [
          2,
          2,
          2,
          2,
          2,
          2,
          2,
          2,
          2,
          2,
          2,
          2,
          2,
          2,
          2,
          2,
          2,
          2,
          2,
          2,
          2,
          1,
          1,
          1,
          1,
          1
         ],
         "yaxis": "y"
        },
        {
         "hovertemplate": "delegate=0x58f1cac30786754d8128ca7a1e5cf8f29a780044<br>checkpoint=%{x}<br>delegators_count=%{y}<extra></extra>",
         "legendgroup": "0x58f1cac30786754d8128ca7a1e5cf8f29a780044",
         "line": {
          "color": "#EF553B",
          "dash": "solid"
         },
         "mode": "lines",
         "name": "0x58f1cac30786754d8128ca7a1e5cf8f29a780044",
         "showlegend": true,
         "type": "scattergl",
         "x": [
          "2022-12-22 00:00:25.000",
          "2023-01-05 00:00:13.000"
         ],
         "xaxis": "x",
         "y": [
          1,
          1
         ],
         "yaxis": "y"
        },
        {
         "hovertemplate": "delegate=0x60d200aae5ed2de26a257c86bc4cfc4da8f8a382<br>checkpoint=%{x}<br>delegators_count=%{y}<extra></extra>",
         "legendgroup": "0x60d200aae5ed2de26a257c86bc4cfc4da8f8a382",
         "line": {
          "color": "#00cc96",
          "dash": "solid"
         },
         "mode": "lines",
         "name": "0x60d200aae5ed2de26a257c86bc4cfc4da8f8a382",
         "showlegend": true,
         "type": "scattergl",
         "x": [
          "2022-12-22 00:00:25.000",
          "2023-01-05 00:00:13.000",
          "2023-01-19 00:00:14.000",
          "2023-03-30 00:00:37.000",
          "2023-04-13 00:00:40.000",
          "2023-04-27 00:00:38.000",
          "2023-05-11 00:00:38.000",
          "2023-05-25 00:00:26.000",
          "2023-06-08 08:46:55.000",
          "2023-06-22 00:00:51.000",
          "2023-07-06 00:00:40.000"
         ],
         "xaxis": "x",
         "y": [
          1,
          1,
          1,
          1,
          1,
          1,
          1,
          1,
          1,
          1,
          1
         ],
         "yaxis": "y"
        },
        {
         "hovertemplate": "delegate=0x633efc0b3ff672ed2482d798690fbc57cf71e53b<br>checkpoint=%{x}<br>delegators_count=%{y}<extra></extra>",
         "legendgroup": "0x633efc0b3ff672ed2482d798690fbc57cf71e53b",
         "line": {
          "color": "#ab63fa",
          "dash": "solid"
         },
         "mode": "lines",
         "name": "0x633efc0b3ff672ed2482d798690fbc57cf71e53b",
         "showlegend": true,
         "type": "scattergl",
         "x": [
          "2022-12-22 00:00:25.000",
          "2023-01-05 00:00:13.000",
          "2023-01-19 00:00:14.000",
          "2023-02-02 00:01:01.000",
          "2023-02-16 00:00:14.000"
         ],
         "xaxis": "x",
         "y": [
          1,
          1,
          1,
          1,
          1
         ],
         "yaxis": "y"
        },
        {
         "hovertemplate": "delegate=0x68378fcb3a27d5613afcfddb590d35a6e751972c<br>checkpoint=%{x}<br>delegators_count=%{y}<extra></extra>",
         "legendgroup": "0x68378fcb3a27d5613afcfddb590d35a6e751972c",
         "line": {
          "color": "#FFA15A",
          "dash": "solid"
         },
         "mode": "lines",
         "name": "0x68378fcb3a27d5613afcfddb590d35a6e751972c",
         "showlegend": true,
         "type": "scattergl",
         "x": [
          "2022-12-22 00:00:25.000",
          "2023-01-05 00:00:13.000",
          "2023-01-19 00:00:14.000",
          "2023-02-02 00:01:01.000",
          "2023-02-16 00:00:14.000",
          "2023-03-02 00:00:13.000",
          "2023-03-16 00:00:27.000",
          "2023-03-30 00:00:37.000",
          "2023-04-13 00:00:40.000",
          "2023-04-27 00:00:38.000",
          "2023-05-11 00:00:38.000",
          "2023-05-25 00:00:26.000",
          "2023-06-08 08:46:55.000",
          "2023-06-22 00:00:51.000",
          "2023-07-06 00:00:40.000",
          "2023-07-20 00:01:02.000",
          "2023-08-03 00:00:14.000",
          "2023-08-16 20:01:00",
          "2023-08-30 20:00:37",
          "2023-09-13 20:00:49",
          "2023-09-27 20:00:49",
          "2023-10-11 20:00:37",
          "2023-10-25 20:00:14",
          "2023-11-08 19:00:50",
          "2023-11-22 19:00:14",
          "2023-12-06 19:00:36"
         ],
         "xaxis": "x",
         "y": [
          13,
          14,
          14,
          15,
          14,
          11,
          12,
          10,
          12,
          12,
          12,
          9,
          9,
          9,
          11,
          13,
          12,
          12,
          13,
          12,
          10,
          13,
          14,
          12,
          15,
          14
         ],
         "yaxis": "y"
        },
        {
         "hovertemplate": "delegate=0x6ed9c171e02de08aaedf0fc1d589923d807061d6<br>checkpoint=%{x}<br>delegators_count=%{y}<extra></extra>",
         "legendgroup": "0x6ed9c171e02de08aaedf0fc1d589923d807061d6",
         "line": {
          "color": "#19d3f3",
          "dash": "solid"
         },
         "mode": "lines",
         "name": "0x6ed9c171e02de08aaedf0fc1d589923d807061d6",
         "showlegend": true,
         "type": "scattergl",
         "x": [
          "2022-12-22 00:00:25.000",
          "2023-01-05 00:00:13.000",
          "2023-01-19 00:00:14.000",
          "2023-02-02 00:01:01.000",
          "2023-02-16 00:00:14.000",
          "2023-03-02 00:00:13.000",
          "2023-03-16 00:00:27.000",
          "2023-03-30 00:00:37.000",
          "2023-04-13 00:00:40.000",
          "2023-04-27 00:00:38.000",
          "2023-05-11 00:00:38.000",
          "2023-05-25 00:00:26.000"
         ],
         "xaxis": "x",
         "y": [
          1,
          1,
          1,
          1,
          1,
          1,
          1,
          1,
          1,
          1,
          1,
          1
         ],
         "yaxis": "y"
        },
        {
         "hovertemplate": "delegate=0x72987b3a4453fc7d289d623e03ca4bf72e39ccbd<br>checkpoint=%{x}<br>delegators_count=%{y}<extra></extra>",
         "legendgroup": "0x72987b3a4453fc7d289d623e03ca4bf72e39ccbd",
         "line": {
          "color": "#FF6692",
          "dash": "solid"
         },
         "mode": "lines",
         "name": "0x72987b3a4453fc7d289d623e03ca4bf72e39ccbd",
         "showlegend": true,
         "type": "scattergl",
         "x": [
          "2022-12-22 00:00:25.000",
          "2023-01-05 00:00:13.000",
          "2023-01-19 00:00:14.000",
          "2023-02-02 00:01:01.000",
          "2023-02-16 00:00:14.000",
          "2023-03-02 00:00:13.000",
          "2023-03-16 00:00:27.000",
          "2023-03-30 00:00:37.000",
          "2023-04-13 00:00:40.000",
          "2023-04-27 00:00:38.000",
          "2023-05-11 00:00:38.000",
          "2023-05-25 00:00:26.000"
         ],
         "xaxis": "x",
         "y": [
          1,
          1,
          1,
          1,
          1,
          1,
          1,
          1,
          1,
          1,
          1,
          1
         ],
         "yaxis": "y"
        },
        {
         "hovertemplate": "delegate=0x786aa398183b169b1eeb95f376956f72146601fa<br>checkpoint=%{x}<br>delegators_count=%{y}<extra></extra>",
         "legendgroup": "0x786aa398183b169b1eeb95f376956f72146601fa",
         "line": {
          "color": "#B6E880",
          "dash": "solid"
         },
         "mode": "lines",
         "name": "0x786aa398183b169b1eeb95f376956f72146601fa",
         "showlegend": true,
         "type": "scattergl",
         "x": [
          "2022-12-22 00:00:25.000",
          "2023-01-05 00:00:13.000",
          "2023-01-19 00:00:14.000",
          "2023-02-02 00:01:01.000",
          "2023-02-16 00:00:14.000",
          "2023-03-02 00:00:13.000",
          "2023-03-16 00:00:27.000",
          "2023-03-30 00:00:37.000",
          "2023-04-13 00:00:40.000",
          "2023-04-27 00:00:38.000",
          "2023-05-25 00:00:26.000",
          "2023-06-08 08:46:55.000",
          "2023-06-22 00:00:51.000",
          "2023-07-06 00:00:40.000",
          "2023-07-20 00:01:02.000",
          "2023-08-03 00:00:14.000",
          "2023-08-16 20:01:00",
          "2023-08-30 20:00:37",
          "2023-09-13 20:00:49",
          "2023-09-27 20:00:49",
          "2023-10-11 20:00:37",
          "2023-10-25 20:00:14",
          "2023-11-08 19:00:50",
          "2023-11-22 19:00:14",
          "2023-12-06 19:00:36"
         ],
         "xaxis": "x",
         "y": [
          1,
          1,
          1,
          1,
          1,
          1,
          1,
          1,
          1,
          1,
          2,
          2,
          2,
          2,
          2,
          2,
          2,
          2,
          1,
          1,
          2,
          2,
          2,
          2,
          2
         ],
         "yaxis": "y"
        },
        {
         "hovertemplate": "delegate=0x79e76c14b3bb6236dfc06d2d7ff219c8b070169c<br>checkpoint=%{x}<br>delegators_count=%{y}<extra></extra>",
         "legendgroup": "0x79e76c14b3bb6236dfc06d2d7ff219c8b070169c",
         "line": {
          "color": "#FF97FF",
          "dash": "solid"
         },
         "mode": "lines",
         "name": "0x79e76c14b3bb6236dfc06d2d7ff219c8b070169c",
         "showlegend": true,
         "type": "scattergl",
         "x": [
          "2022-12-22 00:00:25.000",
          "2023-01-05 00:00:13.000",
          "2023-01-19 00:00:14.000",
          "2023-02-02 00:01:01.000",
          "2023-02-16 00:00:14.000",
          "2023-03-02 00:00:13.000",
          "2023-03-16 00:00:27.000",
          "2023-03-30 00:00:37.000",
          "2023-04-13 00:00:40.000",
          "2023-04-27 00:00:38.000",
          "2023-05-11 00:00:38.000",
          "2023-05-25 00:00:26.000",
          "2023-06-08 08:46:55.000",
          "2023-06-22 00:00:51.000",
          "2023-07-06 00:00:40.000",
          "2023-07-20 00:01:02.000"
         ],
         "xaxis": "x",
         "y": [
          1,
          1,
          1,
          1,
          1,
          1,
          1,
          1,
          1,
          1,
          1,
          1,
          1,
          1,
          1,
          1
         ],
         "yaxis": "y"
        },
        {
         "hovertemplate": "delegate=0x908db31ce01dc42c8b712f9156e969bc65023119<br>checkpoint=%{x}<br>delegators_count=%{y}<extra></extra>",
         "legendgroup": "0x908db31ce01dc42c8b712f9156e969bc65023119",
         "line": {
          "color": "#FECB52",
          "dash": "solid"
         },
         "mode": "lines",
         "name": "0x908db31ce01dc42c8b712f9156e969bc65023119",
         "showlegend": true,
         "type": "scattergl",
         "x": [
          "2022-12-22 00:00:25.000",
          "2023-01-05 00:00:13.000",
          "2023-01-19 00:00:14.000",
          "2023-02-02 00:01:01.000"
         ],
         "xaxis": "x",
         "y": [
          1,
          1,
          1,
          1
         ],
         "yaxis": "y"
        },
        {
         "hovertemplate": "delegate=0x9220ab22a9dab3ce4ac7ff7eff47ee02e19dcd27<br>checkpoint=%{x}<br>delegators_count=%{y}<extra></extra>",
         "legendgroup": "0x9220ab22a9dab3ce4ac7ff7eff47ee02e19dcd27",
         "line": {
          "color": "#636efa",
          "dash": "solid"
         },
         "mode": "lines",
         "name": "0x9220ab22a9dab3ce4ac7ff7eff47ee02e19dcd27",
         "showlegend": true,
         "type": "scattergl",
         "x": [
          "2022-12-22 00:00:25.000",
          "2023-01-05 00:00:13.000",
          "2023-01-19 00:00:14.000",
          "2023-02-02 00:01:01.000",
          "2023-02-16 00:00:14.000",
          "2023-03-02 00:00:13.000",
          "2023-03-16 00:00:27.000",
          "2023-03-30 00:00:37.000",
          "2023-04-13 00:00:40.000",
          "2023-04-27 00:00:38.000",
          "2023-05-11 00:00:38.000",
          "2023-05-25 00:00:26.000",
          "2023-06-08 08:46:55.000",
          "2023-06-22 00:00:51.000",
          "2023-07-06 00:00:40.000",
          "2023-07-20 00:01:02.000",
          "2023-08-03 00:00:14.000",
          "2023-08-16 20:01:00",
          "2023-08-30 20:00:37",
          "2023-09-13 20:00:49",
          "2023-09-27 20:00:49",
          "2023-10-11 20:00:37",
          "2023-10-25 20:00:14",
          "2023-11-08 19:00:50",
          "2023-11-22 19:00:14",
          "2023-12-06 19:00:36"
         ],
         "xaxis": "x",
         "y": [
          1,
          1,
          1,
          1,
          1,
          1,
          1,
          1,
          1,
          1,
          1,
          1,
          1,
          1,
          1,
          1,
          1,
          1,
          1,
          1,
          1,
          1,
          1,
          1,
          1,
          1
         ],
         "yaxis": "y"
        },
        {
         "hovertemplate": "delegate=0x947b7742c403f20e5faccdac5e092c943e7d0277<br>checkpoint=%{x}<br>delegators_count=%{y}<extra></extra>",
         "legendgroup": "0x947b7742c403f20e5faccdac5e092c943e7d0277",
         "line": {
          "color": "#EF553B",
          "dash": "solid"
         },
         "mode": "lines",
         "name": "0x947b7742c403f20e5faccdac5e092c943e7d0277",
         "showlegend": true,
         "type": "scattergl",
         "x": [
          "2022-12-22 00:00:25.000",
          "2023-01-05 00:00:13.000",
          "2023-01-19 00:00:14.000",
          "2023-02-02 00:01:01.000",
          "2023-02-16 00:00:14.000",
          "2023-03-02 00:00:13.000",
          "2023-03-16 00:00:27.000",
          "2023-03-30 00:00:37.000",
          "2023-04-13 00:00:40.000",
          "2023-04-27 00:00:38.000",
          "2023-05-11 00:00:38.000",
          "2023-05-25 00:00:26.000",
          "2023-06-08 08:46:55.000",
          "2023-06-22 00:00:51.000",
          "2023-07-06 00:00:40.000",
          "2023-07-20 00:01:02.000",
          "2023-08-03 00:00:14.000",
          "2023-08-16 20:01:00",
          "2023-08-30 20:00:37",
          "2023-09-13 20:00:49",
          "2023-09-27 20:00:49",
          "2023-10-11 20:00:37",
          "2023-10-25 20:00:14",
          "2023-11-08 19:00:50",
          "2023-11-22 19:00:14",
          "2023-12-06 19:00:36"
         ],
         "xaxis": "x",
         "y": [
          198,
          194,
          187,
          190,
          185,
          185,
          183,
          184,
          181,
          180,
          168,
          166,
          177,
          170,
          167,
          165,
          161,
          156,
          167,
          155,
          146,
          138,
          133,
          133,
          134,
          130
         ],
         "yaxis": "y"
        },
        {
         "hovertemplate": "delegate=0x95c2320fe56c248f15be7be3437d499ee31ffd57<br>checkpoint=%{x}<br>delegators_count=%{y}<extra></extra>",
         "legendgroup": "0x95c2320fe56c248f15be7be3437d499ee31ffd57",
         "line": {
          "color": "#00cc96",
          "dash": "solid"
         },
         "mode": "lines",
         "name": "0x95c2320fe56c248f15be7be3437d499ee31ffd57",
         "showlegend": true,
         "type": "scattergl",
         "x": [
          "2022-12-22 00:00:25.000",
          "2023-01-05 00:00:13.000",
          "2023-01-19 00:00:14.000",
          "2023-02-02 00:01:01.000",
          "2023-02-16 00:00:14.000",
          "2023-03-02 00:00:13.000",
          "2023-03-16 00:00:27.000",
          "2023-03-30 00:00:37.000",
          "2023-04-13 00:00:40.000",
          "2023-04-27 00:00:38.000",
          "2023-05-11 00:00:38.000",
          "2023-05-25 00:00:26.000",
          "2023-06-08 08:46:55.000",
          "2023-06-22 00:00:51.000",
          "2023-07-06 00:00:40.000",
          "2023-07-20 00:01:02.000",
          "2023-08-03 00:00:14.000",
          "2023-08-16 20:01:00"
         ],
         "xaxis": "x",
         "y": [
          1,
          1,
          1,
          1,
          1,
          1,
          1,
          1,
          1,
          1,
          1,
          1,
          1,
          1,
          1,
          1,
          1,
          1
         ],
         "yaxis": "y"
        },
        {
         "hovertemplate": "delegate=0x9b8b04b6f82cd5e1dae58ca3614d445f93defc5c<br>checkpoint=%{x}<br>delegators_count=%{y}<extra></extra>",
         "legendgroup": "0x9b8b04b6f82cd5e1dae58ca3614d445f93defc5c",
         "line": {
          "color": "#ab63fa",
          "dash": "solid"
         },
         "mode": "lines",
         "name": "0x9b8b04b6f82cd5e1dae58ca3614d445f93defc5c",
         "showlegend": true,
         "type": "scattergl",
         "x": [
          "2022-12-22 00:00:25.000",
          "2023-01-05 00:00:13.000",
          "2023-01-19 00:00:14.000",
          "2023-02-02 00:01:01.000",
          "2023-02-16 00:00:14.000",
          "2023-03-02 00:00:13.000",
          "2023-03-16 00:00:27.000",
          "2023-03-30 00:00:37.000",
          "2023-04-13 00:00:40.000"
         ],
         "xaxis": "x",
         "y": [
          1,
          1,
          1,
          1,
          1,
          1,
          1,
          1,
          1
         ],
         "yaxis": "y"
        },
        {
         "hovertemplate": "delegate=0xa2482aa1376beccba98b17578b17ece82e6d9e86<br>checkpoint=%{x}<br>delegators_count=%{y}<extra></extra>",
         "legendgroup": "0xa2482aa1376beccba98b17578b17ece82e6d9e86",
         "line": {
          "color": "#FFA15A",
          "dash": "solid"
         },
         "mode": "lines",
         "name": "0xa2482aa1376beccba98b17578b17ece82e6d9e86",
         "showlegend": true,
         "type": "scattergl",
         "x": [
          "2022-12-22 00:00:25.000",
          "2023-01-05 00:00:13.000",
          "2023-01-19 00:00:14.000",
          "2023-02-02 00:01:01.000",
          "2023-02-16 00:00:14.000",
          "2023-03-02 00:00:13.000",
          "2023-03-16 00:00:27.000",
          "2023-03-30 00:00:37.000",
          "2023-04-13 00:00:40.000",
          "2023-04-27 00:00:38.000",
          "2023-05-11 00:00:38.000",
          "2023-05-25 00:00:26.000",
          "2023-06-08 08:46:55.000",
          "2023-06-22 00:00:51.000",
          "2023-07-06 00:00:40.000",
          "2023-07-20 00:01:02.000",
          "2023-08-03 00:00:14.000",
          "2023-08-16 20:01:00",
          "2023-08-30 20:00:37",
          "2023-09-13 20:00:49",
          "2023-09-27 20:00:49",
          "2023-10-11 20:00:37"
         ],
         "xaxis": "x",
         "y": [
          1,
          1,
          1,
          1,
          1,
          1,
          1,
          1,
          1,
          1,
          1,
          1,
          1,
          1,
          1,
          1,
          1,
          1,
          1,
          1,
          1,
          1
         ],
         "yaxis": "y"
        },
        {
         "hovertemplate": "delegate=0xaed09aea5bbcf22a50ec4442f9934926a4836e61<br>checkpoint=%{x}<br>delegators_count=%{y}<extra></extra>",
         "legendgroup": "0xaed09aea5bbcf22a50ec4442f9934926a4836e61",
         "line": {
          "color": "#19d3f3",
          "dash": "solid"
         },
         "mode": "lines",
         "name": "0xaed09aea5bbcf22a50ec4442f9934926a4836e61",
         "showlegend": true,
         "type": "scattergl",
         "x": [
          "2022-12-22 00:00:25.000",
          "2023-01-05 00:00:13.000",
          "2023-01-19 00:00:14.000",
          "2023-02-02 00:01:01.000",
          "2023-03-30 00:00:37.000",
          "2023-04-13 00:00:40.000",
          "2023-04-27 00:00:38.000",
          "2023-05-11 00:00:38.000",
          "2023-05-25 00:00:26.000",
          "2023-06-08 08:46:55.000",
          "2023-06-22 00:00:51.000",
          "2023-07-06 00:00:40.000",
          "2023-07-20 00:01:02.000",
          "2023-08-03 00:00:14.000",
          "2023-08-16 20:01:00",
          "2023-08-30 20:00:37",
          "2023-09-13 20:00:49",
          "2023-09-27 20:00:49",
          "2023-11-22 19:00:14",
          "2023-12-06 19:00:36"
         ],
         "xaxis": "x",
         "y": [
          1,
          1,
          1,
          1,
          1,
          1,
          1,
          1,
          1,
          1,
          1,
          1,
          1,
          1,
          1,
          1,
          1,
          1,
          1,
          1
         ],
         "yaxis": "y"
        },
        {
         "hovertemplate": "delegate=0xb115aff9ce430fef6fcde91099a377795a4319bf<br>checkpoint=%{x}<br>delegators_count=%{y}<extra></extra>",
         "legendgroup": "0xb115aff9ce430fef6fcde91099a377795a4319bf",
         "line": {
          "color": "#FF6692",
          "dash": "solid"
         },
         "mode": "lines",
         "name": "0xb115aff9ce430fef6fcde91099a377795a4319bf",
         "showlegend": true,
         "type": "scattergl",
         "x": [
          "2022-12-22 00:00:25.000",
          "2023-01-05 00:00:13.000",
          "2023-01-19 00:00:14.000",
          "2023-02-02 00:01:01.000",
          "2023-02-16 00:00:14.000",
          "2023-03-02 00:00:13.000",
          "2023-03-16 00:00:27.000",
          "2023-03-30 00:00:37.000",
          "2023-04-13 00:00:40.000",
          "2023-04-27 00:00:38.000",
          "2023-05-11 00:00:38.000",
          "2023-05-25 00:00:26.000",
          "2023-06-08 08:46:55.000",
          "2023-06-22 00:00:51.000",
          "2023-07-06 00:00:40.000",
          "2023-07-20 00:01:02.000",
          "2023-08-03 00:00:14.000",
          "2023-08-16 20:01:00",
          "2023-08-30 20:00:37",
          "2023-09-13 20:00:49",
          "2023-09-27 20:00:49",
          "2023-10-11 20:00:37",
          "2023-10-25 20:00:14",
          "2023-11-08 19:00:50",
          "2023-11-22 19:00:14",
          "2023-12-06 19:00:36"
         ],
         "xaxis": "x",
         "y": [
          1,
          1,
          1,
          1,
          1,
          1,
          1,
          1,
          1,
          1,
          1,
          1,
          1,
          1,
          1,
          1,
          1,
          1,
          1,
          1,
          1,
          1,
          1,
          1,
          1,
          1
         ],
         "yaxis": "y"
        },
        {
         "hovertemplate": "delegate=0xb721cc32160ab0da2614cc6ab16ed822aeebc101<br>checkpoint=%{x}<br>delegators_count=%{y}<extra></extra>",
         "legendgroup": "0xb721cc32160ab0da2614cc6ab16ed822aeebc101",
         "line": {
          "color": "#B6E880",
          "dash": "solid"
         },
         "mode": "lines",
         "name": "0xb721cc32160ab0da2614cc6ab16ed822aeebc101",
         "showlegend": true,
         "type": "scattergl",
         "x": [
          "2022-12-22 00:00:25.000",
          "2023-01-05 00:00:13.000",
          "2023-01-19 00:00:14.000",
          "2023-02-02 00:01:01.000",
          "2023-02-16 00:00:14.000",
          "2023-03-02 00:00:13.000",
          "2023-03-16 00:00:27.000",
          "2023-03-30 00:00:37.000",
          "2023-04-13 00:00:40.000"
         ],
         "xaxis": "x",
         "y": [
          1,
          1,
          1,
          1,
          1,
          1,
          1,
          1,
          1
         ],
         "yaxis": "y"
        },
        {
         "hovertemplate": "delegate=0xbb57f06e8c7dbc253b06e3d4b4bd89eb677ab7c5<br>checkpoint=%{x}<br>delegators_count=%{y}<extra></extra>",
         "legendgroup": "0xbb57f06e8c7dbc253b06e3d4b4bd89eb677ab7c5",
         "line": {
          "color": "#FF97FF",
          "dash": "solid"
         },
         "mode": "lines",
         "name": "0xbb57f06e8c7dbc253b06e3d4b4bd89eb677ab7c5",
         "showlegend": true,
         "type": "scattergl",
         "x": [
          "2022-12-22 00:00:25.000",
          "2023-01-05 00:00:13.000",
          "2023-01-19 00:00:14.000",
          "2023-02-02 00:01:01.000",
          "2023-02-16 00:00:14.000",
          "2023-03-02 00:00:13.000",
          "2023-03-16 00:00:27.000",
          "2023-03-30 00:00:37.000",
          "2023-04-13 00:00:40.000",
          "2023-04-27 00:00:38.000",
          "2023-05-11 00:00:38.000",
          "2023-05-25 00:00:26.000",
          "2023-06-08 08:46:55.000",
          "2023-06-22 00:00:51.000",
          "2023-07-06 00:00:40.000",
          "2023-07-20 00:01:02.000",
          "2023-08-03 00:00:14.000",
          "2023-08-16 20:01:00",
          "2023-08-30 20:00:37",
          "2023-09-13 20:00:49",
          "2023-09-27 20:00:49",
          "2023-10-11 20:00:37",
          "2023-10-25 20:00:14",
          "2023-11-08 19:00:50",
          "2023-11-22 19:00:14",
          "2023-12-06 19:00:36"
         ],
         "xaxis": "x",
         "y": [
          1,
          1,
          1,
          1,
          1,
          1,
          1,
          1,
          1,
          1,
          1,
          1,
          1,
          1,
          1,
          1,
          1,
          1,
          1,
          1,
          1,
          1,
          1,
          1,
          1,
          1
         ],
         "yaxis": "y"
        },
        {
         "hovertemplate": "delegate=0xc1aa82499da8d37383f1e6d95de417ecf7514e7c<br>checkpoint=%{x}<br>delegators_count=%{y}<extra></extra>",
         "legendgroup": "0xc1aa82499da8d37383f1e6d95de417ecf7514e7c",
         "line": {
          "color": "#FECB52",
          "dash": "solid"
         },
         "mode": "lines",
         "name": "0xc1aa82499da8d37383f1e6d95de417ecf7514e7c",
         "showlegend": true,
         "type": "scattergl",
         "x": [
          "2022-12-22 00:00:25.000",
          "2023-01-05 00:00:13.000",
          "2023-01-19 00:00:14.000",
          "2023-02-02 00:01:01.000",
          "2023-02-16 00:00:14.000",
          "2023-03-02 00:00:13.000",
          "2023-03-16 00:00:27.000",
          "2023-03-30 00:00:37.000",
          "2023-04-13 00:00:40.000",
          "2023-04-27 00:00:38.000",
          "2023-05-11 00:00:38.000",
          "2023-05-25 00:00:26.000",
          "2023-06-08 08:46:55.000",
          "2023-06-22 00:00:51.000",
          "2023-07-06 00:00:40.000",
          "2023-07-20 00:01:02.000",
          "2023-08-03 00:00:14.000",
          "2023-08-16 20:01:00",
          "2023-08-30 20:00:37",
          "2023-09-13 20:00:49",
          "2023-09-27 20:00:49",
          "2023-10-11 20:00:37",
          "2023-10-25 20:00:14",
          "2023-11-08 19:00:50",
          "2023-11-22 19:00:14",
          "2023-12-06 19:00:36"
         ],
         "xaxis": "x",
         "y": [
          5,
          5,
          5,
          5,
          5,
          5,
          5,
          5,
          5,
          5,
          5,
          1,
          1,
          1,
          5,
          6,
          7,
          7,
          7,
          7,
          7,
          7,
          7,
          7,
          6,
          6
         ],
         "yaxis": "y"
        },
        {
         "hovertemplate": "delegate=0xdd2938dffae71813a6b884730e53ddd5ff2c6f7b<br>checkpoint=%{x}<br>delegators_count=%{y}<extra></extra>",
         "legendgroup": "0xdd2938dffae71813a6b884730e53ddd5ff2c6f7b",
         "line": {
          "color": "#636efa",
          "dash": "solid"
         },
         "mode": "lines",
         "name": "0xdd2938dffae71813a6b884730e53ddd5ff2c6f7b",
         "showlegend": true,
         "type": "scattergl",
         "x": [
          "2022-12-22 00:00:25.000",
          "2023-01-05 00:00:13.000",
          "2023-01-19 00:00:14.000",
          "2023-02-02 00:01:01.000",
          "2023-02-16 00:00:14.000",
          "2023-03-02 00:00:13.000",
          "2023-03-16 00:00:27.000",
          "2023-03-30 00:00:37.000",
          "2023-04-13 00:00:40.000",
          "2023-04-27 00:00:38.000",
          "2023-05-11 00:00:38.000",
          "2023-05-25 00:00:26.000",
          "2023-06-08 08:46:55.000",
          "2023-06-22 00:00:51.000",
          "2023-07-06 00:00:40.000",
          "2023-07-20 00:01:02.000",
          "2023-08-03 00:00:14.000",
          "2023-08-16 20:01:00",
          "2023-08-30 20:00:37",
          "2023-09-13 20:00:49",
          "2023-09-27 20:00:49",
          "2023-10-11 20:00:37",
          "2023-10-25 20:00:14",
          "2023-11-08 19:00:50",
          "2023-11-22 19:00:14",
          "2023-12-06 19:00:36"
         ],
         "xaxis": "x",
         "y": [
          1,
          1,
          1,
          1,
          1,
          1,
          1,
          1,
          1,
          1,
          1,
          1,
          1,
          1,
          1,
          1,
          1,
          1,
          1,
          1,
          1,
          1,
          1,
          1,
          1,
          1
         ],
         "yaxis": "y"
        },
        {
         "hovertemplate": "delegate=0xde1e6a7ed0ad3f61d531a8a78e83ccddbd6e0c49<br>checkpoint=%{x}<br>delegators_count=%{y}<extra></extra>",
         "legendgroup": "0xde1e6a7ed0ad3f61d531a8a78e83ccddbd6e0c49",
         "line": {
          "color": "#EF553B",
          "dash": "solid"
         },
         "mode": "lines",
         "name": "0xde1e6a7ed0ad3f61d531a8a78e83ccddbd6e0c49",
         "showlegend": true,
         "type": "scattergl",
         "x": [
          "2022-12-22 00:00:25.000",
          "2023-01-05 00:00:13.000",
          "2023-01-19 00:00:14.000",
          "2023-02-02 00:01:01.000",
          "2023-02-16 00:00:14.000",
          "2023-03-02 00:00:13.000",
          "2023-03-16 00:00:27.000",
          "2023-03-30 00:00:37.000",
          "2023-04-13 00:00:40.000",
          "2023-04-27 00:00:38.000",
          "2023-05-11 00:00:38.000",
          "2023-05-25 00:00:26.000",
          "2023-06-08 08:46:55.000",
          "2023-06-22 00:00:51.000",
          "2023-07-06 00:00:40.000",
          "2023-07-20 00:01:02.000",
          "2023-08-03 00:00:14.000",
          "2023-08-16 20:01:00",
          "2023-08-30 20:00:37",
          "2023-09-13 20:00:49",
          "2023-09-27 20:00:49",
          "2023-10-11 20:00:37",
          "2023-10-25 20:00:14",
          "2023-11-08 19:00:50",
          "2023-11-22 19:00:14",
          "2023-12-06 19:00:36"
         ],
         "xaxis": "x",
         "y": [
          2711,
          2668,
          2693,
          2758,
          2676,
          2575,
          2535,
          2503,
          2476,
          2432,
          2322,
          2241,
          2153,
          2109,
          2078,
          2044,
          2021,
          2023,
          2014,
          1968,
          1890,
          1779,
          1699,
          1658,
          1636,
          1560
         ],
         "yaxis": "y"
        },
        {
         "hovertemplate": "delegate=0xe4804d769758e4d85d638b14409fe79439cf5c0e<br>checkpoint=%{x}<br>delegators_count=%{y}<extra></extra>",
         "legendgroup": "0xe4804d769758e4d85d638b14409fe79439cf5c0e",
         "line": {
          "color": "#00cc96",
          "dash": "solid"
         },
         "mode": "lines",
         "name": "0xe4804d769758e4d85d638b14409fe79439cf5c0e",
         "showlegend": true,
         "type": "scattergl",
         "x": [
          "2022-12-22 00:00:25.000"
         ],
         "xaxis": "x",
         "y": [
          1
         ],
         "yaxis": "y"
        },
        {
         "hovertemplate": "delegate=0xeb4db23c27253077fb3080adda6c5c127b0dacae<br>checkpoint=%{x}<br>delegators_count=%{y}<extra></extra>",
         "legendgroup": "0xeb4db23c27253077fb3080adda6c5c127b0dacae",
         "line": {
          "color": "#ab63fa",
          "dash": "solid"
         },
         "mode": "lines",
         "name": "0xeb4db23c27253077fb3080adda6c5c127b0dacae",
         "showlegend": true,
         "type": "scattergl",
         "x": [
          "2022-12-22 00:00:25.000",
          "2023-01-05 00:00:13.000",
          "2023-01-19 00:00:14.000",
          "2023-02-02 00:01:01.000",
          "2023-02-16 00:00:14.000",
          "2023-03-02 00:00:13.000",
          "2023-03-16 00:00:27.000",
          "2023-03-30 00:00:37.000",
          "2023-04-13 00:00:40.000",
          "2023-04-27 00:00:38.000",
          "2023-05-11 00:00:38.000",
          "2023-05-25 00:00:26.000",
          "2023-06-08 08:46:55.000",
          "2023-06-22 00:00:51.000",
          "2023-07-06 00:00:40.000",
          "2023-07-20 00:01:02.000",
          "2023-08-03 00:00:14.000",
          "2023-08-16 20:01:00",
          "2023-08-30 20:00:37",
          "2023-09-13 20:00:49",
          "2023-10-11 20:00:37",
          "2023-10-25 20:00:14",
          "2023-11-08 19:00:50",
          "2023-11-22 19:00:14",
          "2023-12-06 19:00:36"
         ],
         "xaxis": "x",
         "y": [
          1,
          1,
          1,
          1,
          1,
          1,
          1,
          1,
          1,
          1,
          1,
          1,
          1,
          1,
          1,
          1,
          1,
          1,
          1,
          1,
          1,
          1,
          1,
          1,
          1
         ],
         "yaxis": "y"
        },
        {
         "hovertemplate": "delegate=0xf1ff20ffb067cc08a2ac8826b75cdcffc768eae5<br>checkpoint=%{x}<br>delegators_count=%{y}<extra></extra>",
         "legendgroup": "0xf1ff20ffb067cc08a2ac8826b75cdcffc768eae5",
         "line": {
          "color": "#FFA15A",
          "dash": "solid"
         },
         "mode": "lines",
         "name": "0xf1ff20ffb067cc08a2ac8826b75cdcffc768eae5",
         "showlegend": true,
         "type": "scattergl",
         "x": [
          "2022-12-22 00:00:25.000",
          "2023-01-05 00:00:13.000",
          "2023-01-19 00:00:14.000",
          "2023-02-02 00:01:01.000",
          "2023-02-16 00:00:14.000",
          "2023-03-02 00:00:13.000",
          "2023-03-16 00:00:27.000",
          "2023-03-30 00:00:37.000",
          "2023-04-13 00:00:40.000",
          "2023-04-27 00:00:38.000",
          "2023-05-11 00:00:38.000",
          "2023-05-25 00:00:26.000",
          "2023-06-08 08:46:55.000",
          "2023-06-22 00:00:51.000",
          "2023-07-06 00:00:40.000",
          "2023-07-20 00:01:02.000",
          "2023-08-03 00:00:14.000",
          "2023-08-16 20:01:00",
          "2023-08-30 20:00:37",
          "2023-09-13 20:00:49",
          "2023-09-27 20:00:49",
          "2023-10-11 20:00:37",
          "2023-10-25 20:00:14",
          "2023-11-08 19:00:50",
          "2023-11-22 19:00:14",
          "2023-12-06 19:00:36"
         ],
         "xaxis": "x",
         "y": [
          1,
          1,
          1,
          1,
          1,
          1,
          1,
          1,
          1,
          1,
          1,
          1,
          1,
          1,
          1,
          1,
          1,
          1,
          1,
          1,
          1,
          1,
          1,
          1,
          1,
          1
         ],
         "yaxis": "y"
        },
        {
         "hovertemplate": "delegate=0xfcc94b11e13814e7cbf45658895a5a1042998073<br>checkpoint=%{x}<br>delegators_count=%{y}<extra></extra>",
         "legendgroup": "0xfcc94b11e13814e7cbf45658895a5a1042998073",
         "line": {
          "color": "#19d3f3",
          "dash": "solid"
         },
         "mode": "lines",
         "name": "0xfcc94b11e13814e7cbf45658895a5a1042998073",
         "showlegend": true,
         "type": "scattergl",
         "x": [
          "2022-12-22 00:00:25.000",
          "2023-01-05 00:00:13.000",
          "2023-01-19 00:00:14.000",
          "2023-02-02 00:01:01.000",
          "2023-02-16 00:00:14.000",
          "2023-03-02 00:00:13.000",
          "2023-03-16 00:00:27.000",
          "2023-03-30 00:00:37.000",
          "2023-04-13 00:00:40.000",
          "2023-04-27 00:00:38.000",
          "2023-05-11 00:00:38.000",
          "2023-05-25 00:00:26.000",
          "2023-06-08 08:46:55.000",
          "2023-06-22 00:00:51.000",
          "2023-07-06 00:00:40.000",
          "2023-07-20 00:01:02.000",
          "2023-08-03 00:00:14.000",
          "2023-08-16 20:01:00",
          "2023-08-30 20:00:37",
          "2023-09-13 20:00:49",
          "2023-09-27 20:00:49",
          "2023-10-25 20:00:14",
          "2023-11-08 19:00:50",
          "2023-11-22 19:00:14",
          "2023-12-06 19:00:36"
         ],
         "xaxis": "x",
         "y": [
          1,
          1,
          1,
          1,
          1,
          1,
          1,
          1,
          1,
          1,
          1,
          1,
          1,
          1,
          1,
          1,
          1,
          1,
          1,
          1,
          1,
          1,
          1,
          1,
          1
         ],
         "yaxis": "y"
        },
        {
         "hovertemplate": "delegate=0x6b17f665a48c78ae1c2e092c184c8c533a9a6320<br>checkpoint=%{x}<br>delegators_count=%{y}<extra></extra>",
         "legendgroup": "0x6b17f665a48c78ae1c2e092c184c8c533a9a6320",
         "line": {
          "color": "#FF6692",
          "dash": "solid"
         },
         "mode": "lines",
         "name": "0x6b17f665a48c78ae1c2e092c184c8c533a9a6320",
         "showlegend": true,
         "type": "scattergl",
         "x": [
          "2023-01-05 00:00:13.000",
          "2023-01-19 00:00:14.000",
          "2023-02-02 00:01:01.000",
          "2023-02-16 00:00:14.000",
          "2023-03-02 00:00:13.000",
          "2023-03-16 00:00:27.000",
          "2023-03-30 00:00:37.000"
         ],
         "xaxis": "x",
         "y": [
          1,
          1,
          1,
          1,
          1,
          1,
          1
         ],
         "yaxis": "y"
        },
        {
         "hovertemplate": "delegate=0x131bd1a2827cceb2945b2e3b91ee1bf736ccbf80<br>checkpoint=%{x}<br>delegators_count=%{y}<extra></extra>",
         "legendgroup": "0x131bd1a2827cceb2945b2e3b91ee1bf736ccbf80",
         "line": {
          "color": "#B6E880",
          "dash": "solid"
         },
         "mode": "lines",
         "name": "0x131bd1a2827cceb2945b2e3b91ee1bf736ccbf80",
         "showlegend": true,
         "type": "scattergl",
         "x": [
          "2023-01-19 00:00:14.000",
          "2023-02-02 00:01:01.000",
          "2023-02-16 00:00:14.000",
          "2023-03-02 00:00:13.000",
          "2023-03-16 00:00:27.000",
          "2023-03-30 00:00:37.000",
          "2023-04-13 00:00:40.000",
          "2023-04-27 00:00:38.000",
          "2023-05-11 00:00:38.000",
          "2023-05-25 00:00:26.000",
          "2023-06-08 08:46:55.000",
          "2023-06-22 00:00:51.000"
         ],
         "xaxis": "x",
         "y": [
          1,
          1,
          1,
          1,
          1,
          1,
          1,
          1,
          1,
          1,
          1,
          1
         ],
         "yaxis": "y"
        },
        {
         "hovertemplate": "delegate=0x469788fe6e9e9681c6ebf3bf78e7fd26fc015446<br>checkpoint=%{x}<br>delegators_count=%{y}<extra></extra>",
         "legendgroup": "0x469788fe6e9e9681c6ebf3bf78e7fd26fc015446",
         "line": {
          "color": "#FF97FF",
          "dash": "solid"
         },
         "mode": "lines",
         "name": "0x469788fe6e9e9681c6ebf3bf78e7fd26fc015446",
         "showlegend": true,
         "type": "scattergl",
         "x": [
          "2023-01-19 00:00:14.000",
          "2023-02-02 00:01:01.000",
          "2023-02-16 00:00:14.000",
          "2023-03-02 00:00:13.000",
          "2023-03-16 00:00:27.000",
          "2023-03-30 00:00:37.000",
          "2023-04-13 00:00:40.000",
          "2023-05-11 00:00:38.000",
          "2023-05-25 00:00:26.000",
          "2023-06-08 08:46:55.000",
          "2023-06-22 00:00:51.000",
          "2023-07-06 00:00:40.000",
          "2023-07-20 00:01:02.000",
          "2023-08-03 00:00:14.000",
          "2023-08-16 20:01:00"
         ],
         "xaxis": "x",
         "y": [
          1,
          1,
          1,
          1,
          1,
          1,
          1,
          1,
          1,
          1,
          1,
          1,
          1,
          1,
          1
         ],
         "yaxis": "y"
        },
        {
         "hovertemplate": "delegate=0x8200d84590eceb10c6471268930e2924f34e3d69<br>checkpoint=%{x}<br>delegators_count=%{y}<extra></extra>",
         "legendgroup": "0x8200d84590eceb10c6471268930e2924f34e3d69",
         "line": {
          "color": "#FECB52",
          "dash": "solid"
         },
         "mode": "lines",
         "name": "0x8200d84590eceb10c6471268930e2924f34e3d69",
         "showlegend": true,
         "type": "scattergl",
         "x": [
          "2023-01-19 00:00:14.000",
          "2023-02-02 00:01:01.000",
          "2023-02-16 00:00:14.000",
          "2023-03-02 00:00:13.000",
          "2023-03-16 00:00:27.000",
          "2023-03-30 00:00:37.000",
          "2023-04-13 00:00:40.000",
          "2023-04-27 00:00:38.000",
          "2023-05-11 00:00:38.000",
          "2023-05-25 00:00:26.000",
          "2023-06-08 08:46:55.000",
          "2023-06-22 00:00:51.000",
          "2023-07-06 00:00:40.000",
          "2023-07-20 00:01:02.000",
          "2023-08-03 00:00:14.000",
          "2023-08-16 20:01:00",
          "2023-08-30 20:00:37",
          "2023-09-13 20:00:49",
          "2023-09-27 20:00:49",
          "2023-10-11 20:00:37",
          "2023-10-25 20:00:14",
          "2023-11-08 19:00:50",
          "2023-11-22 19:00:14",
          "2023-12-06 19:00:36"
         ],
         "xaxis": "x",
         "y": [
          1,
          1,
          1,
          1,
          1,
          1,
          1,
          1,
          1,
          1,
          1,
          1,
          1,
          1,
          1,
          1,
          1,
          1,
          1,
          1,
          1,
          1,
          1,
          1
         ],
         "yaxis": "y"
        },
        {
         "hovertemplate": "delegate=0xf1ee93fac76290b6dae118aef3fa010f67354af5<br>checkpoint=%{x}<br>delegators_count=%{y}<extra></extra>",
         "legendgroup": "0xf1ee93fac76290b6dae118aef3fa010f67354af5",
         "line": {
          "color": "#636efa",
          "dash": "solid"
         },
         "mode": "lines",
         "name": "0xf1ee93fac76290b6dae118aef3fa010f67354af5",
         "showlegend": true,
         "type": "scattergl",
         "x": [
          "2023-01-19 00:00:14.000",
          "2023-02-02 00:01:01.000",
          "2023-02-16 00:00:14.000",
          "2023-03-02 00:00:13.000",
          "2023-03-16 00:00:27.000",
          "2023-03-30 00:00:37.000",
          "2023-04-13 00:00:40.000",
          "2023-04-27 00:00:38.000",
          "2023-05-11 00:00:38.000",
          "2023-05-25 00:00:26.000"
         ],
         "xaxis": "x",
         "y": [
          1,
          1,
          1,
          1,
          1,
          1,
          1,
          1,
          1,
          1
         ],
         "yaxis": "y"
        },
        {
         "hovertemplate": "delegate=0x411f9d604766f55cbea7ca57c2d84d27d8193682<br>checkpoint=%{x}<br>delegators_count=%{y}<extra></extra>",
         "legendgroup": "0x411f9d604766f55cbea7ca57c2d84d27d8193682",
         "line": {
          "color": "#EF553B",
          "dash": "solid"
         },
         "mode": "lines",
         "name": "0x411f9d604766f55cbea7ca57c2d84d27d8193682",
         "showlegend": true,
         "type": "scattergl",
         "x": [
          "2023-02-02 00:01:01.000",
          "2023-02-16 00:00:14.000",
          "2023-03-02 00:00:13.000",
          "2023-03-16 00:00:27.000",
          "2023-03-30 00:00:37.000",
          "2023-04-13 00:00:40.000",
          "2023-04-27 00:00:38.000",
          "2023-05-11 00:00:38.000",
          "2023-05-25 00:00:26.000",
          "2023-06-08 08:46:55.000",
          "2023-06-22 00:00:51.000",
          "2023-07-06 00:00:40.000",
          "2023-07-20 00:01:02.000",
          "2023-08-03 00:00:14.000",
          "2023-08-16 20:01:00",
          "2023-08-30 20:00:37",
          "2023-09-13 20:00:49",
          "2023-09-27 20:00:49",
          "2023-10-11 20:00:37",
          "2023-10-25 20:00:14",
          "2023-11-08 19:00:50",
          "2023-11-22 19:00:14",
          "2023-12-06 19:00:36"
         ],
         "xaxis": "x",
         "y": [
          1,
          1,
          1,
          1,
          1,
          1,
          1,
          1,
          1,
          1,
          1,
          1,
          1,
          1,
          1,
          1,
          1,
          1,
          1,
          1,
          1,
          1,
          1
         ],
         "yaxis": "y"
        },
        {
         "hovertemplate": "delegate=0x467ea556ff83ae2a763f38f246bbb4f3f6e9558a<br>checkpoint=%{x}<br>delegators_count=%{y}<extra></extra>",
         "legendgroup": "0x467ea556ff83ae2a763f38f246bbb4f3f6e9558a",
         "line": {
          "color": "#00cc96",
          "dash": "solid"
         },
         "mode": "lines",
         "name": "0x467ea556ff83ae2a763f38f246bbb4f3f6e9558a",
         "showlegend": true,
         "type": "scattergl",
         "x": [
          "2023-02-02 00:01:01.000"
         ],
         "xaxis": "x",
         "y": [
          1
         ],
         "yaxis": "y"
        },
        {
         "hovertemplate": "delegate=0x2d407ddb06311396fe14d4b49da5f0471447d45c<br>checkpoint=%{x}<br>delegators_count=%{y}<extra></extra>",
         "legendgroup": "0x2d407ddb06311396fe14d4b49da5f0471447d45c",
         "line": {
          "color": "#ab63fa",
          "dash": "solid"
         },
         "mode": "lines",
         "name": "0x2d407ddb06311396fe14d4b49da5f0471447d45c",
         "showlegend": true,
         "type": "scattergl",
         "x": [
          "2023-02-16 00:00:14.000",
          "2023-03-02 00:00:13.000",
          "2023-03-16 00:00:27.000",
          "2023-03-30 00:00:37.000",
          "2023-04-13 00:00:40.000",
          "2023-04-27 00:00:38.000",
          "2023-05-11 00:00:38.000",
          "2023-05-25 00:00:26.000"
         ],
         "xaxis": "x",
         "y": [
          1,
          1,
          1,
          1,
          1,
          1,
          1,
          1
         ],
         "yaxis": "y"
        },
        {
         "hovertemplate": "delegate=0x3afb0b4ca9ab60165e207cb14067b07a04114413<br>checkpoint=%{x}<br>delegators_count=%{y}<extra></extra>",
         "legendgroup": "0x3afb0b4ca9ab60165e207cb14067b07a04114413",
         "line": {
          "color": "#FFA15A",
          "dash": "solid"
         },
         "mode": "lines",
         "name": "0x3afb0b4ca9ab60165e207cb14067b07a04114413",
         "showlegend": true,
         "type": "scattergl",
         "x": [
          "2023-02-16 00:00:14.000",
          "2023-03-02 00:00:13.000",
          "2023-03-16 00:00:27.000",
          "2023-03-30 00:00:37.000",
          "2023-04-13 00:00:40.000",
          "2023-04-27 00:00:38.000",
          "2023-05-11 00:00:38.000",
          "2023-05-25 00:00:26.000",
          "2023-07-06 00:00:40.000",
          "2023-07-20 00:01:02.000",
          "2023-08-03 00:00:14.000",
          "2023-08-16 20:01:00",
          "2023-08-30 20:00:37",
          "2023-09-13 20:00:49",
          "2023-09-27 20:00:49",
          "2023-10-11 20:00:37",
          "2023-11-08 19:00:50",
          "2023-11-22 19:00:14",
          "2023-12-06 19:00:36"
         ],
         "xaxis": "x",
         "y": [
          2,
          2,
          2,
          2,
          2,
          2,
          2,
          2,
          1,
          1,
          1,
          1,
          1,
          1,
          1,
          1,
          1,
          2,
          2
         ],
         "yaxis": "y"
        },
        {
         "hovertemplate": "delegate=0xb3983cddba4b127960a4cdd531ab989264509e23<br>checkpoint=%{x}<br>delegators_count=%{y}<extra></extra>",
         "legendgroup": "0xb3983cddba4b127960a4cdd531ab989264509e23",
         "line": {
          "color": "#19d3f3",
          "dash": "solid"
         },
         "mode": "lines",
         "name": "0xb3983cddba4b127960a4cdd531ab989264509e23",
         "showlegend": true,
         "type": "scattergl",
         "x": [
          "2023-03-02 00:00:13.000",
          "2023-03-16 00:00:27.000",
          "2023-03-30 00:00:37.000",
          "2023-04-13 00:00:40.000",
          "2023-04-27 00:00:38.000",
          "2023-05-11 00:00:38.000",
          "2023-05-25 00:00:26.000",
          "2023-06-08 08:46:55.000",
          "2023-06-22 00:00:51.000",
          "2023-07-06 00:00:40.000",
          "2023-07-20 00:01:02.000",
          "2023-08-03 00:00:14.000",
          "2023-08-16 20:01:00",
          "2023-08-30 20:00:37",
          "2023-09-13 20:00:49",
          "2023-09-27 20:00:49",
          "2023-10-11 20:00:37",
          "2023-10-25 20:00:14",
          "2023-11-08 19:00:50",
          "2023-11-22 19:00:14",
          "2023-12-06 19:00:36"
         ],
         "xaxis": "x",
         "y": [
          1,
          1,
          1,
          1,
          1,
          1,
          1,
          1,
          1,
          1,
          1,
          1,
          1,
          1,
          1,
          1,
          1,
          1,
          1,
          1,
          1
         ],
         "yaxis": "y"
        },
        {
         "hovertemplate": "delegate=0x056a8152c8ea78ef73eed50ce3b643b35d953379<br>checkpoint=%{x}<br>delegators_count=%{y}<extra></extra>",
         "legendgroup": "0x056a8152c8ea78ef73eed50ce3b643b35d953379",
         "line": {
          "color": "#FF6692",
          "dash": "solid"
         },
         "mode": "lines",
         "name": "0x056a8152c8ea78ef73eed50ce3b643b35d953379",
         "showlegend": true,
         "type": "scattergl",
         "x": [
          "2023-03-16 00:00:27.000",
          "2023-03-30 00:00:37.000",
          "2023-04-13 00:00:40.000",
          "2023-04-27 00:00:38.000",
          "2023-05-11 00:00:38.000",
          "2023-05-25 00:00:26.000"
         ],
         "xaxis": "x",
         "y": [
          1,
          1,
          1,
          1,
          1,
          1
         ],
         "yaxis": "y"
        },
        {
         "hovertemplate": "delegate=0x47cb53752e5dc0a972440da127dca9fba6c2ab6f<br>checkpoint=%{x}<br>delegators_count=%{y}<extra></extra>",
         "legendgroup": "0x47cb53752e5dc0a972440da127dca9fba6c2ab6f",
         "line": {
          "color": "#B6E880",
          "dash": "solid"
         },
         "mode": "lines",
         "name": "0x47cb53752e5dc0a972440da127dca9fba6c2ab6f",
         "showlegend": true,
         "type": "scattergl",
         "x": [
          "2023-03-30 00:00:37.000",
          "2023-04-13 00:00:40.000",
          "2023-04-27 00:00:38.000",
          "2023-05-11 00:00:38.000",
          "2023-05-25 00:00:26.000",
          "2023-06-08 08:46:55.000"
         ],
         "xaxis": "x",
         "y": [
          1,
          1,
          1,
          1,
          1,
          1
         ],
         "yaxis": "y"
        },
        {
         "hovertemplate": "delegate=0xfc08757c505ea28709df66e54870fb6de09f0c5e<br>checkpoint=%{x}<br>delegators_count=%{y}<extra></extra>",
         "legendgroup": "0xfc08757c505ea28709df66e54870fb6de09f0c5e",
         "line": {
          "color": "#FF97FF",
          "dash": "solid"
         },
         "mode": "lines",
         "name": "0xfc08757c505ea28709df66e54870fb6de09f0c5e",
         "showlegend": true,
         "type": "scattergl",
         "x": [
          "2023-03-30 00:00:37.000",
          "2023-04-13 00:00:40.000",
          "2023-04-27 00:00:38.000",
          "2023-05-11 00:00:38.000",
          "2023-05-25 00:00:26.000",
          "2023-06-08 08:46:55.000",
          "2023-06-22 00:00:51.000",
          "2023-07-06 00:00:40.000",
          "2023-07-20 00:01:02.000",
          "2023-08-03 00:00:14.000",
          "2023-08-16 20:01:00",
          "2023-08-30 20:00:37",
          "2023-09-13 20:00:49",
          "2023-09-27 20:00:49",
          "2023-10-11 20:00:37",
          "2023-10-25 20:00:14",
          "2023-11-08 19:00:50",
          "2023-11-22 19:00:14",
          "2023-12-06 19:00:36"
         ],
         "xaxis": "x",
         "y": [
          1,
          1,
          1,
          1,
          1,
          1,
          1,
          1,
          1,
          1,
          1,
          1,
          1,
          1,
          1,
          1,
          1,
          1,
          1
         ],
         "yaxis": "y"
        },
        {
         "hovertemplate": "delegate=0x1ff60e85852ac73cd05b69a8b6641fc24a3fc011<br>checkpoint=%{x}<br>delegators_count=%{y}<extra></extra>",
         "legendgroup": "0x1ff60e85852ac73cd05b69a8b6641fc24a3fc011",
         "line": {
          "color": "#FECB52",
          "dash": "solid"
         },
         "mode": "lines",
         "name": "0x1ff60e85852ac73cd05b69a8b6641fc24a3fc011",
         "showlegend": true,
         "type": "scattergl",
         "x": [
          "2023-04-27 00:00:38.000",
          "2023-05-11 00:00:38.000",
          "2023-05-25 00:00:26.000",
          "2023-06-08 08:46:55.000",
          "2023-06-22 00:00:51.000",
          "2023-07-06 00:00:40.000",
          "2023-07-20 00:01:02.000",
          "2023-08-03 00:00:14.000"
         ],
         "xaxis": "x",
         "y": [
          1,
          1,
          1,
          1,
          1,
          1,
          1,
          1
         ],
         "yaxis": "y"
        },
        {
         "hovertemplate": "delegate=0x357fcf792ba695fdb05674221b48012e98897dca<br>checkpoint=%{x}<br>delegators_count=%{y}<extra></extra>",
         "legendgroup": "0x357fcf792ba695fdb05674221b48012e98897dca",
         "line": {
          "color": "#636efa",
          "dash": "solid"
         },
         "mode": "lines",
         "name": "0x357fcf792ba695fdb05674221b48012e98897dca",
         "showlegend": true,
         "type": "scattergl",
         "x": [
          "2023-04-27 00:00:38.000",
          "2023-05-11 00:00:38.000",
          "2023-05-25 00:00:26.000",
          "2023-06-08 08:46:55.000",
          "2023-06-22 00:00:51.000",
          "2023-07-06 00:00:40.000",
          "2023-07-20 00:01:02.000",
          "2023-08-03 00:00:14.000",
          "2023-08-16 20:01:00",
          "2023-08-30 20:00:37",
          "2023-09-13 20:00:49",
          "2023-09-27 20:00:49",
          "2023-10-11 20:00:37"
         ],
         "xaxis": "x",
         "y": [
          1,
          1,
          1,
          1,
          1,
          1,
          1,
          1,
          1,
          1,
          1,
          1,
          1
         ],
         "yaxis": "y"
        },
        {
         "hovertemplate": "delegate=0xbce35d5a3e89995730b3c979a01319d06e41776f<br>checkpoint=%{x}<br>delegators_count=%{y}<extra></extra>",
         "legendgroup": "0xbce35d5a3e89995730b3c979a01319d06e41776f",
         "line": {
          "color": "#EF553B",
          "dash": "solid"
         },
         "mode": "lines",
         "name": "0xbce35d5a3e89995730b3c979a01319d06e41776f",
         "showlegend": true,
         "type": "scattergl",
         "x": [
          "2023-05-11 00:00:38.000",
          "2023-05-25 00:00:26.000",
          "2023-06-08 08:46:55.000",
          "2023-06-22 00:00:51.000",
          "2023-07-06 00:00:40.000",
          "2023-07-20 00:01:02.000",
          "2023-08-03 00:00:14.000",
          "2023-08-16 20:01:00",
          "2023-08-30 20:00:37",
          "2023-09-13 20:00:49",
          "2023-10-11 20:00:37",
          "2023-10-25 20:00:14",
          "2023-11-08 19:00:50",
          "2023-11-22 19:00:14"
         ],
         "xaxis": "x",
         "y": [
          1,
          1,
          1,
          1,
          1,
          1,
          1,
          1,
          1,
          1,
          1,
          1,
          1,
          1
         ],
         "yaxis": "y"
        },
        {
         "hovertemplate": "delegate=0x3bbaf0b179a0d89882113aff21cd3a3c8980d10e<br>checkpoint=%{x}<br>delegators_count=%{y}<extra></extra>",
         "legendgroup": "0x3bbaf0b179a0d89882113aff21cd3a3c8980d10e",
         "line": {
          "color": "#00cc96",
          "dash": "solid"
         },
         "mode": "lines",
         "name": "0x3bbaf0b179a0d89882113aff21cd3a3c8980d10e",
         "showlegend": true,
         "type": "scattergl",
         "x": [
          "2023-06-08 08:46:55.000",
          "2023-06-22 00:00:51.000",
          "2023-07-06 00:00:40.000",
          "2023-07-20 00:01:02.000",
          "2023-08-03 00:00:14.000",
          "2023-08-16 20:01:00",
          "2023-08-30 20:00:37",
          "2023-09-13 20:00:49",
          "2023-09-27 20:00:49",
          "2023-10-11 20:00:37",
          "2023-10-25 20:00:14",
          "2023-11-08 19:00:50",
          "2023-11-22 19:00:14",
          "2023-12-06 19:00:36"
         ],
         "xaxis": "x",
         "y": [
          1,
          1,
          1,
          1,
          1,
          1,
          1,
          1,
          1,
          1,
          1,
          1,
          1,
          1
         ],
         "yaxis": "y"
        },
        {
         "hovertemplate": "delegate=0x3bbd1ffde975eac3104f3c3e6ea0df3b1056d088<br>checkpoint=%{x}<br>delegators_count=%{y}<extra></extra>",
         "legendgroup": "0x3bbd1ffde975eac3104f3c3e6ea0df3b1056d088",
         "line": {
          "color": "#ab63fa",
          "dash": "solid"
         },
         "mode": "lines",
         "name": "0x3bbd1ffde975eac3104f3c3e6ea0df3b1056d088",
         "showlegend": true,
         "type": "scattergl",
         "x": [
          "2023-06-08 08:46:55.000",
          "2023-06-22 00:00:51.000",
          "2023-07-06 00:00:40.000",
          "2023-07-20 00:01:02.000",
          "2023-08-03 00:00:14.000",
          "2023-08-16 20:01:00",
          "2023-08-30 20:00:37",
          "2023-09-13 20:00:49",
          "2023-09-27 20:00:49",
          "2023-10-11 20:00:37",
          "2023-10-25 20:00:14",
          "2023-11-08 19:00:50",
          "2023-11-22 19:00:14",
          "2023-12-06 19:00:36"
         ],
         "xaxis": "x",
         "y": [
          1,
          2,
          2,
          2,
          2,
          2,
          2,
          2,
          2,
          2,
          2,
          2,
          2,
          2
         ],
         "yaxis": "y"
        },
        {
         "hovertemplate": "delegate=0x49e5097f627e400f2a377d5fd7e712d1e0e16fc2<br>checkpoint=%{x}<br>delegators_count=%{y}<extra></extra>",
         "legendgroup": "0x49e5097f627e400f2a377d5fd7e712d1e0e16fc2",
         "line": {
          "color": "#FFA15A",
          "dash": "solid"
         },
         "mode": "lines",
         "name": "0x49e5097f627e400f2a377d5fd7e712d1e0e16fc2",
         "showlegend": true,
         "type": "scattergl",
         "x": [
          "2023-06-08 08:46:55.000",
          "2023-06-22 00:00:51.000",
          "2023-07-06 00:00:40.000",
          "2023-07-20 00:01:02.000",
          "2023-08-03 00:00:14.000",
          "2023-08-16 20:01:00",
          "2023-08-30 20:00:37",
          "2023-09-13 20:00:49",
          "2023-09-27 20:00:49",
          "2023-10-11 20:00:37",
          "2023-10-25 20:00:14",
          "2023-11-08 19:00:50",
          "2023-11-22 19:00:14",
          "2023-12-06 19:00:36"
         ],
         "xaxis": "x",
         "y": [
          3,
          1,
          1,
          1,
          1,
          1,
          1,
          1,
          3,
          3,
          3,
          3,
          3,
          3
         ],
         "yaxis": "y"
        },
        {
         "hovertemplate": "delegate=0x96e2888f7d2d511778e6a28b40b6bd66a19877a4<br>checkpoint=%{x}<br>delegators_count=%{y}<extra></extra>",
         "legendgroup": "0x96e2888f7d2d511778e6a28b40b6bd66a19877a4",
         "line": {
          "color": "#19d3f3",
          "dash": "solid"
         },
         "mode": "lines",
         "name": "0x96e2888f7d2d511778e6a28b40b6bd66a19877a4",
         "showlegend": true,
         "type": "scattergl",
         "x": [
          "2023-06-08 08:46:55.000"
         ],
         "xaxis": "x",
         "y": [
          1
         ],
         "yaxis": "y"
        },
        {
         "hovertemplate": "delegate=0x97ce0101a307a79ec9959d82db1d8adba9fbee4d<br>checkpoint=%{x}<br>delegators_count=%{y}<extra></extra>",
         "legendgroup": "0x97ce0101a307a79ec9959d82db1d8adba9fbee4d",
         "line": {
          "color": "#FF6692",
          "dash": "solid"
         },
         "mode": "lines",
         "name": "0x97ce0101a307a79ec9959d82db1d8adba9fbee4d",
         "showlegend": true,
         "type": "scattergl",
         "x": [
          "2023-06-08 08:46:55.000",
          "2023-06-22 00:00:51.000",
          "2023-07-06 00:00:40.000",
          "2023-07-20 00:01:02.000",
          "2023-08-03 00:00:14.000",
          "2023-08-16 20:01:00",
          "2023-08-30 20:00:37",
          "2023-09-13 20:00:49",
          "2023-09-27 20:00:49",
          "2023-10-11 20:00:37",
          "2023-10-25 20:00:14",
          "2023-11-08 19:00:50",
          "2023-11-22 19:00:14",
          "2023-12-06 19:00:36"
         ],
         "xaxis": "x",
         "y": [
          1,
          1,
          1,
          1,
          1,
          1,
          1,
          1,
          1,
          1,
          1,
          1,
          1,
          1
         ],
         "yaxis": "y"
        },
        {
         "hovertemplate": "delegate=0xf17149326ec300c5650ed983afa9a8114fef2400<br>checkpoint=%{x}<br>delegators_count=%{y}<extra></extra>",
         "legendgroup": "0xf17149326ec300c5650ed983afa9a8114fef2400",
         "line": {
          "color": "#B6E880",
          "dash": "solid"
         },
         "mode": "lines",
         "name": "0xf17149326ec300c5650ed983afa9a8114fef2400",
         "showlegend": true,
         "type": "scattergl",
         "x": [
          "2023-06-08 08:46:55.000",
          "2023-06-22 00:00:51.000",
          "2023-07-06 00:00:40.000",
          "2023-07-20 00:01:02.000",
          "2023-08-03 00:00:14.000",
          "2023-08-16 20:01:00",
          "2023-08-30 20:00:37",
          "2023-09-13 20:00:49",
          "2023-09-27 20:00:49",
          "2023-10-11 20:00:37",
          "2023-10-25 20:00:14",
          "2023-11-08 19:00:50",
          "2023-11-22 19:00:14",
          "2023-12-06 19:00:36"
         ],
         "xaxis": "x",
         "y": [
          1,
          1,
          1,
          1,
          1,
          1,
          1,
          1,
          1,
          1,
          1,
          1,
          1,
          1
         ],
         "yaxis": "y"
        },
        {
         "hovertemplate": "delegate=0x3fbf25cbe94942c9d3d423ab6af767f5aaa2f83d<br>checkpoint=%{x}<br>delegators_count=%{y}<extra></extra>",
         "legendgroup": "0x3fbf25cbe94942c9d3d423ab6af767f5aaa2f83d",
         "line": {
          "color": "#FF97FF",
          "dash": "solid"
         },
         "mode": "lines",
         "name": "0x3fbf25cbe94942c9d3d423ab6af767f5aaa2f83d",
         "showlegend": true,
         "type": "scattergl",
         "x": [
          "2023-06-22 00:00:51.000",
          "2023-07-06 00:00:40.000",
          "2023-07-20 00:01:02.000",
          "2023-08-03 00:00:14.000",
          "2023-08-16 20:01:00",
          "2023-08-30 20:00:37",
          "2023-09-13 20:00:49",
          "2023-09-27 20:00:49"
         ],
         "xaxis": "x",
         "y": [
          1,
          1,
          1,
          1,
          1,
          1,
          1,
          1
         ],
         "yaxis": "y"
        },
        {
         "hovertemplate": "delegate=0x4dab5765046dd96748a93ea4bc3cc4261c8a3d02<br>checkpoint=%{x}<br>delegators_count=%{y}<extra></extra>",
         "legendgroup": "0x4dab5765046dd96748a93ea4bc3cc4261c8a3d02",
         "line": {
          "color": "#FECB52",
          "dash": "solid"
         },
         "mode": "lines",
         "name": "0x4dab5765046dd96748a93ea4bc3cc4261c8a3d02",
         "showlegend": true,
         "type": "scattergl",
         "x": [
          "2023-06-22 00:00:51.000",
          "2023-07-06 00:00:40.000",
          "2023-07-20 00:01:02.000",
          "2023-08-03 00:00:14.000",
          "2023-08-16 20:01:00",
          "2023-08-30 20:00:37",
          "2023-09-13 20:00:49",
          "2023-09-27 20:00:49",
          "2023-10-11 20:00:37",
          "2023-10-25 20:00:14",
          "2023-11-08 19:00:50",
          "2023-11-22 19:00:14",
          "2023-12-06 19:00:36"
         ],
         "xaxis": "x",
         "y": [
          1,
          1,
          1,
          1,
          1,
          1,
          1,
          1,
          1,
          1,
          1,
          1,
          1
         ],
         "yaxis": "y"
        },
        {
         "hovertemplate": "delegate=0x8a65ac0e23f31979db06ec62af62b132a6df4741<br>checkpoint=%{x}<br>delegators_count=%{y}<extra></extra>",
         "legendgroup": "0x8a65ac0e23f31979db06ec62af62b132a6df4741",
         "line": {
          "color": "#636efa",
          "dash": "solid"
         },
         "mode": "lines",
         "name": "0x8a65ac0e23f31979db06ec62af62b132a6df4741",
         "showlegend": true,
         "type": "scattergl",
         "x": [
          "2023-06-22 00:00:51.000",
          "2023-07-06 00:00:40.000",
          "2023-07-20 00:01:02.000",
          "2023-08-03 00:00:14.000",
          "2023-08-16 20:01:00",
          "2023-08-30 20:00:37",
          "2023-09-13 20:00:49",
          "2023-09-27 20:00:49"
         ],
         "xaxis": "x",
         "y": [
          1,
          1,
          1,
          1,
          1,
          1,
          1,
          1
         ],
         "yaxis": "y"
        },
        {
         "hovertemplate": "delegate=0xb3df5271b92e9fd2fed137253bb4611285923f16<br>checkpoint=%{x}<br>delegators_count=%{y}<extra></extra>",
         "legendgroup": "0xb3df5271b92e9fd2fed137253bb4611285923f16",
         "line": {
          "color": "#EF553B",
          "dash": "solid"
         },
         "mode": "lines",
         "name": "0xb3df5271b92e9fd2fed137253bb4611285923f16",
         "showlegend": true,
         "type": "scattergl",
         "x": [
          "2023-06-22 00:00:51.000",
          "2023-07-06 00:00:40.000",
          "2023-07-20 00:01:02.000",
          "2023-08-03 00:00:14.000",
          "2023-08-16 20:01:00",
          "2023-08-30 20:00:37",
          "2023-09-13 20:00:49"
         ],
         "xaxis": "x",
         "y": [
          2,
          2,
          2,
          2,
          2,
          2,
          2
         ],
         "yaxis": "y"
        },
        {
         "hovertemplate": "delegate=0x56f610e0c5f2f64a6b599cc5481d35e70d2e63e7<br>checkpoint=%{x}<br>delegators_count=%{y}<extra></extra>",
         "legendgroup": "0x56f610e0c5f2f64a6b599cc5481d35e70d2e63e7",
         "line": {
          "color": "#00cc96",
          "dash": "solid"
         },
         "mode": "lines",
         "name": "0x56f610e0c5f2f64a6b599cc5481d35e70d2e63e7",
         "showlegend": true,
         "type": "scattergl",
         "x": [
          "2023-07-06 00:00:40.000",
          "2023-07-20 00:01:02.000",
          "2023-08-03 00:00:14.000",
          "2023-08-16 20:01:00",
          "2023-08-30 20:00:37",
          "2023-09-13 20:00:49",
          "2023-09-27 20:00:49",
          "2023-10-11 20:00:37",
          "2023-10-25 20:00:14",
          "2023-11-08 19:00:50",
          "2023-11-22 19:00:14",
          "2023-12-06 19:00:36"
         ],
         "xaxis": "x",
         "y": [
          4,
          15,
          21,
          30,
          30,
          34,
          25,
          23,
          28,
          32,
          31,
          28
         ],
         "yaxis": "y"
        },
        {
         "hovertemplate": "delegate=0x67733cfa01b42900057759a8eba97afed02c44e8<br>checkpoint=%{x}<br>delegators_count=%{y}<extra></extra>",
         "legendgroup": "0x67733cfa01b42900057759a8eba97afed02c44e8",
         "line": {
          "color": "#ab63fa",
          "dash": "solid"
         },
         "mode": "lines",
         "name": "0x67733cfa01b42900057759a8eba97afed02c44e8",
         "showlegend": true,
         "type": "scattergl",
         "x": [
          "2023-07-20 00:01:02.000",
          "2023-08-03 00:00:14.000"
         ],
         "xaxis": "x",
         "y": [
          1,
          1
         ],
         "yaxis": "y"
        },
        {
         "hovertemplate": "delegate=0x6bbb9b83e6ad112cfaf1c275accc885c86262401<br>checkpoint=%{x}<br>delegators_count=%{y}<extra></extra>",
         "legendgroup": "0x6bbb9b83e6ad112cfaf1c275accc885c86262401",
         "line": {
          "color": "#FFA15A",
          "dash": "solid"
         },
         "mode": "lines",
         "name": "0x6bbb9b83e6ad112cfaf1c275accc885c86262401",
         "showlegend": true,
         "type": "scattergl",
         "x": [
          "2023-07-20 00:01:02.000",
          "2023-08-03 00:00:14.000",
          "2023-08-16 20:01:00",
          "2023-08-30 20:00:37",
          "2023-09-13 20:00:49",
          "2023-09-27 20:00:49",
          "2023-10-11 20:00:37",
          "2023-10-25 20:00:14",
          "2023-11-08 19:00:50",
          "2023-11-22 19:00:14",
          "2023-12-06 19:00:36"
         ],
         "xaxis": "x",
         "y": [
          1,
          1,
          1,
          1,
          1,
          1,
          1,
          1,
          1,
          1,
          1
         ],
         "yaxis": "y"
        },
        {
         "hovertemplate": "delegate=0x7c844793638aa18280d73bf0464e70c951e0a893<br>checkpoint=%{x}<br>delegators_count=%{y}<extra></extra>",
         "legendgroup": "0x7c844793638aa18280d73bf0464e70c951e0a893",
         "line": {
          "color": "#19d3f3",
          "dash": "solid"
         },
         "mode": "lines",
         "name": "0x7c844793638aa18280d73bf0464e70c951e0a893",
         "showlegend": true,
         "type": "scattergl",
         "x": [
          "2023-07-20 00:01:02.000",
          "2023-08-03 00:00:14.000",
          "2023-08-16 20:01:00",
          "2023-08-30 20:00:37",
          "2023-09-13 20:00:49",
          "2023-09-27 20:00:49",
          "2023-10-11 20:00:37",
          "2023-10-25 20:00:14"
         ],
         "xaxis": "x",
         "y": [
          1,
          1,
          1,
          1,
          1,
          1,
          1,
          1
         ],
         "yaxis": "y"
        },
        {
         "hovertemplate": "delegate=0x7cfc917d0d16916752ee65ac73a24ed3f774ea7c<br>checkpoint=%{x}<br>delegators_count=%{y}<extra></extra>",
         "legendgroup": "0x7cfc917d0d16916752ee65ac73a24ed3f774ea7c",
         "line": {
          "color": "#FF6692",
          "dash": "solid"
         },
         "mode": "lines",
         "name": "0x7cfc917d0d16916752ee65ac73a24ed3f774ea7c",
         "showlegend": true,
         "type": "scattergl",
         "x": [
          "2023-07-20 00:01:02.000",
          "2023-08-03 00:00:14.000",
          "2023-08-16 20:01:00",
          "2023-08-30 20:00:37",
          "2023-09-13 20:00:49",
          "2023-09-27 20:00:49",
          "2023-10-11 20:00:37",
          "2023-10-25 20:00:14",
          "2023-11-08 19:00:50",
          "2023-11-22 19:00:14",
          "2023-12-06 19:00:36"
         ],
         "xaxis": "x",
         "y": [
          1,
          1,
          1,
          1,
          1,
          1,
          1,
          1,
          1,
          1,
          1
         ],
         "yaxis": "y"
        },
        {
         "hovertemplate": "delegate=0xb89c066fbd5e88522bd3dde7a0a5516ef2b44d13<br>checkpoint=%{x}<br>delegators_count=%{y}<extra></extra>",
         "legendgroup": "0xb89c066fbd5e88522bd3dde7a0a5516ef2b44d13",
         "line": {
          "color": "#B6E880",
          "dash": "solid"
         },
         "mode": "lines",
         "name": "0xb89c066fbd5e88522bd3dde7a0a5516ef2b44d13",
         "showlegend": true,
         "type": "scattergl",
         "x": [
          "2023-07-20 00:01:02.000",
          "2023-08-03 00:00:14.000",
          "2023-08-16 20:01:00",
          "2023-08-30 20:00:37",
          "2023-09-13 20:00:49",
          "2023-09-27 20:00:49",
          "2023-10-11 20:00:37",
          "2023-10-25 20:00:14",
          "2023-11-08 19:00:50",
          "2023-11-22 19:00:14",
          "2023-12-06 19:00:36"
         ],
         "xaxis": "x",
         "y": [
          1,
          1,
          1,
          1,
          1,
          1,
          1,
          1,
          1,
          1,
          1
         ],
         "yaxis": "y"
        },
        {
         "hovertemplate": "delegate=0x08f963bf8d9d8ad3a803bde87a0718dd25eeeac8<br>checkpoint=%{x}<br>delegators_count=%{y}<extra></extra>",
         "legendgroup": "0x08f963bf8d9d8ad3a803bde87a0718dd25eeeac8",
         "line": {
          "color": "#FF97FF",
          "dash": "solid"
         },
         "mode": "lines",
         "name": "0x08f963bf8d9d8ad3a803bde87a0718dd25eeeac8",
         "showlegend": true,
         "type": "scattergl",
         "x": [
          "2023-08-03 00:00:14.000",
          "2023-08-16 20:01:00",
          "2023-08-30 20:00:37",
          "2023-09-13 20:00:49",
          "2023-09-27 20:00:49",
          "2023-10-11 20:00:37",
          "2023-10-25 20:00:14"
         ],
         "xaxis": "x",
         "y": [
          1,
          1,
          1,
          1,
          1,
          1,
          1
         ],
         "yaxis": "y"
        },
        {
         "hovertemplate": "delegate=0xd733d4cc5b42206a62ed7b1ceec5b4d61898f429<br>checkpoint=%{x}<br>delegators_count=%{y}<extra></extra>",
         "legendgroup": "0xd733d4cc5b42206a62ed7b1ceec5b4d61898f429",
         "line": {
          "color": "#FECB52",
          "dash": "solid"
         },
         "mode": "lines",
         "name": "0xd733d4cc5b42206a62ed7b1ceec5b4d61898f429",
         "showlegend": true,
         "type": "scattergl",
         "x": [
          "2023-08-03 00:00:14.000",
          "2023-08-16 20:01:00",
          "2023-08-30 20:00:37",
          "2023-09-13 20:00:49"
         ],
         "xaxis": "x",
         "y": [
          1,
          1,
          1,
          1
         ],
         "yaxis": "y"
        },
        {
         "hovertemplate": "delegate=0x1759d307879174d2b298d2e66a0df70ccbede667<br>checkpoint=%{x}<br>delegators_count=%{y}<extra></extra>",
         "legendgroup": "0x1759d307879174d2b298d2e66a0df70ccbede667",
         "line": {
          "color": "#636efa",
          "dash": "solid"
         },
         "mode": "lines",
         "name": "0x1759d307879174d2b298d2e66a0df70ccbede667",
         "showlegend": true,
         "type": "scattergl",
         "x": [
          "2023-08-16 20:01:00",
          "2023-08-30 20:00:37",
          "2023-09-13 20:00:49",
          "2023-09-27 20:00:49",
          "2023-10-11 20:00:37",
          "2023-10-25 20:00:14",
          "2023-11-08 19:00:50",
          "2023-11-22 19:00:14",
          "2023-12-06 19:00:36"
         ],
         "xaxis": "x",
         "y": [
          1,
          1,
          1,
          1,
          1,
          1,
          1,
          1,
          1
         ],
         "yaxis": "y"
        },
        {
         "hovertemplate": "delegate=0x9c5083dd4838e120dbeac44c052179692aa5dac5<br>checkpoint=%{x}<br>delegators_count=%{y}<extra></extra>",
         "legendgroup": "0x9c5083dd4838e120dbeac44c052179692aa5dac5",
         "line": {
          "color": "#EF553B",
          "dash": "solid"
         },
         "mode": "lines",
         "name": "0x9c5083dd4838e120dbeac44c052179692aa5dac5",
         "showlegend": true,
         "type": "scattergl",
         "x": [
          "2023-08-16 20:01:00"
         ],
         "xaxis": "x",
         "y": [
          1
         ],
         "yaxis": "y"
        },
        {
         "hovertemplate": "delegate=0xcd585be7de1641bac08f371f187355cda9eef2d8<br>checkpoint=%{x}<br>delegators_count=%{y}<extra></extra>",
         "legendgroup": "0xcd585be7de1641bac08f371f187355cda9eef2d8",
         "line": {
          "color": "#00cc96",
          "dash": "solid"
         },
         "mode": "lines",
         "name": "0xcd585be7de1641bac08f371f187355cda9eef2d8",
         "showlegend": true,
         "type": "scattergl",
         "x": [
          "2023-09-13 20:00:49",
          "2023-09-27 20:00:49",
          "2023-10-11 20:00:37",
          "2023-10-25 20:00:14",
          "2023-11-08 19:00:50",
          "2023-11-22 19:00:14",
          "2023-12-06 19:00:36"
         ],
         "xaxis": "x",
         "y": [
          2,
          2,
          2,
          2,
          2,
          2,
          2
         ],
         "yaxis": "y"
        },
        {
         "hovertemplate": "delegate=0x578a4af5cbc3009487a89be88bc560157200795b<br>checkpoint=%{x}<br>delegators_count=%{y}<extra></extra>",
         "legendgroup": "0x578a4af5cbc3009487a89be88bc560157200795b",
         "line": {
          "color": "#ab63fa",
          "dash": "solid"
         },
         "mode": "lines",
         "name": "0x578a4af5cbc3009487a89be88bc560157200795b",
         "showlegend": true,
         "type": "scattergl",
         "x": [
          "2023-09-27 20:00:49",
          "2023-10-11 20:00:37",
          "2023-10-25 20:00:14",
          "2023-11-08 19:00:50",
          "2023-11-22 19:00:14",
          "2023-12-06 19:00:36"
         ],
         "xaxis": "x",
         "y": [
          1,
          1,
          1,
          1,
          1,
          1
         ],
         "yaxis": "y"
        },
        {
         "hovertemplate": "delegate=0x4fcccfe552574ab5f6aa46d3ec1630d0bffdee87<br>checkpoint=%{x}<br>delegators_count=%{y}<extra></extra>",
         "legendgroup": "0x4fcccfe552574ab5f6aa46d3ec1630d0bffdee87",
         "line": {
          "color": "#FFA15A",
          "dash": "solid"
         },
         "mode": "lines",
         "name": "0x4fcccfe552574ab5f6aa46d3ec1630d0bffdee87",
         "showlegend": true,
         "type": "scattergl",
         "x": [
          "2023-10-11 20:00:37",
          "2023-10-25 20:00:14",
          "2023-11-08 19:00:50",
          "2023-11-22 19:00:14",
          "2023-12-06 19:00:36"
         ],
         "xaxis": "x",
         "y": [
          1,
          1,
          1,
          1,
          1
         ],
         "yaxis": "y"
        },
        {
         "hovertemplate": "delegate=0xd818b9f7cb4090047d26c51e63c9cb1b5e12886a<br>checkpoint=%{x}<br>delegators_count=%{y}<extra></extra>",
         "legendgroup": "0xd818b9f7cb4090047d26c51e63c9cb1b5e12886a",
         "line": {
          "color": "#19d3f3",
          "dash": "solid"
         },
         "mode": "lines",
         "name": "0xd818b9f7cb4090047d26c51e63c9cb1b5e12886a",
         "showlegend": true,
         "type": "scattergl",
         "x": [
          "2023-10-11 20:00:37",
          "2023-10-25 20:00:14",
          "2023-11-08 19:00:50",
          "2023-11-22 19:00:14",
          "2023-12-06 19:00:36"
         ],
         "xaxis": "x",
         "y": [
          1,
          1,
          1,
          1,
          1
         ],
         "yaxis": "y"
        },
        {
         "hovertemplate": "delegate=0x64acb0882c8b174c84dbd492ed307ef0ed4e732f<br>checkpoint=%{x}<br>delegators_count=%{y}<extra></extra>",
         "legendgroup": "0x64acb0882c8b174c84dbd492ed307ef0ed4e732f",
         "line": {
          "color": "#FF6692",
          "dash": "solid"
         },
         "mode": "lines",
         "name": "0x64acb0882c8b174c84dbd492ed307ef0ed4e732f",
         "showlegend": true,
         "type": "scattergl",
         "x": [
          "2023-10-25 20:00:14",
          "2023-11-08 19:00:50",
          "2023-11-22 19:00:14",
          "2023-12-06 19:00:36"
         ],
         "xaxis": "x",
         "y": [
          2,
          2,
          2,
          2
         ],
         "yaxis": "y"
        },
        {
         "hovertemplate": "delegate=0xdce62b21a8b1a9b39dd3ded27c876d416cc91b3e<br>checkpoint=%{x}<br>delegators_count=%{y}<extra></extra>",
         "legendgroup": "0xdce62b21a8b1a9b39dd3ded27c876d416cc91b3e",
         "line": {
          "color": "#B6E880",
          "dash": "solid"
         },
         "mode": "lines",
         "name": "0xdce62b21a8b1a9b39dd3ded27c876d416cc91b3e",
         "showlegend": true,
         "type": "scattergl",
         "x": [
          "2023-11-22 19:00:14",
          "2023-12-06 19:00:36"
         ],
         "xaxis": "x",
         "y": [
          1,
          1
         ],
         "yaxis": "y"
        },
        {
         "hovertemplate": "delegate=0x84d38bbbea10495c66a4738532f46e4e96d60ddb<br>checkpoint=%{x}<br>delegators_count=%{y}<extra></extra>",
         "legendgroup": "0x84d38bbbea10495c66a4738532f46e4e96d60ddb",
         "line": {
          "color": "#FF97FF",
          "dash": "solid"
         },
         "mode": "lines",
         "name": "0x84d38bbbea10495c66a4738532f46e4e96d60ddb",
         "showlegend": true,
         "type": "scattergl",
         "x": [
          "2023-12-06 19:00:36"
         ],
         "xaxis": "x",
         "y": [
          1
         ],
         "yaxis": "y"
        },
        {
         "hovertemplate": "delegate=0xcb71544ed459f934166c48e510ed700708f82882<br>checkpoint=%{x}<br>delegators_count=%{y}<extra></extra>",
         "legendgroup": "0xcb71544ed459f934166c48e510ed700708f82882",
         "line": {
          "color": "#FECB52",
          "dash": "solid"
         },
         "mode": "lines",
         "name": "0xcb71544ed459f934166c48e510ed700708f82882",
         "showlegend": true,
         "type": "scattergl",
         "x": [
          "2023-12-06 19:00:36"
         ],
         "xaxis": "x",
         "y": [
          1
         ],
         "yaxis": "y"
        }
       ],
       "layout": {
        "font": {
         "color": "RebeccaPurple",
         "family": "Courier New, monospace",
         "size": 18
        },
        "legend": {
         "title": {
          "text": "delegate"
         },
         "tracegroupgap": 0
        },
        "margin": {
         "t": 60
        },
        "template": {
         "data": {
          "bar": [
           {
            "error_x": {
             "color": "#2a3f5f"
            },
            "error_y": {
             "color": "#2a3f5f"
            },
            "marker": {
             "line": {
              "color": "#E5ECF6",
              "width": 0.5
             }
            },
            "type": "bar"
           }
          ],
          "barpolar": [
           {
            "marker": {
             "line": {
              "color": "#E5ECF6",
              "width": 0.5
             }
            },
            "type": "barpolar"
           }
          ],
          "carpet": [
           {
            "aaxis": {
             "endlinecolor": "#2a3f5f",
             "gridcolor": "white",
             "linecolor": "white",
             "minorgridcolor": "white",
             "startlinecolor": "#2a3f5f"
            },
            "baxis": {
             "endlinecolor": "#2a3f5f",
             "gridcolor": "white",
             "linecolor": "white",
             "minorgridcolor": "white",
             "startlinecolor": "#2a3f5f"
            },
            "type": "carpet"
           }
          ],
          "choropleth": [
           {
            "colorbar": {
             "outlinewidth": 0,
             "ticks": ""
            },
            "type": "choropleth"
           }
          ],
          "contour": [
           {
            "colorbar": {
             "outlinewidth": 0,
             "ticks": ""
            },
            "colorscale": [
             [
              0,
              "#0d0887"
             ],
             [
              0.1111111111111111,
              "#46039f"
             ],
             [
              0.2222222222222222,
              "#7201a8"
             ],
             [
              0.3333333333333333,
              "#9c179e"
             ],
             [
              0.4444444444444444,
              "#bd3786"
             ],
             [
              0.5555555555555556,
              "#d8576b"
             ],
             [
              0.6666666666666666,
              "#ed7953"
             ],
             [
              0.7777777777777778,
              "#fb9f3a"
             ],
             [
              0.8888888888888888,
              "#fdca26"
             ],
             [
              1,
              "#f0f921"
             ]
            ],
            "type": "contour"
           }
          ],
          "contourcarpet": [
           {
            "colorbar": {
             "outlinewidth": 0,
             "ticks": ""
            },
            "type": "contourcarpet"
           }
          ],
          "heatmap": [
           {
            "colorbar": {
             "outlinewidth": 0,
             "ticks": ""
            },
            "colorscale": [
             [
              0,
              "#0d0887"
             ],
             [
              0.1111111111111111,
              "#46039f"
             ],
             [
              0.2222222222222222,
              "#7201a8"
             ],
             [
              0.3333333333333333,
              "#9c179e"
             ],
             [
              0.4444444444444444,
              "#bd3786"
             ],
             [
              0.5555555555555556,
              "#d8576b"
             ],
             [
              0.6666666666666666,
              "#ed7953"
             ],
             [
              0.7777777777777778,
              "#fb9f3a"
             ],
             [
              0.8888888888888888,
              "#fdca26"
             ],
             [
              1,
              "#f0f921"
             ]
            ],
            "type": "heatmap"
           }
          ],
          "heatmapgl": [
           {
            "colorbar": {
             "outlinewidth": 0,
             "ticks": ""
            },
            "colorscale": [
             [
              0,
              "#0d0887"
             ],
             [
              0.1111111111111111,
              "#46039f"
             ],
             [
              0.2222222222222222,
              "#7201a8"
             ],
             [
              0.3333333333333333,
              "#9c179e"
             ],
             [
              0.4444444444444444,
              "#bd3786"
             ],
             [
              0.5555555555555556,
              "#d8576b"
             ],
             [
              0.6666666666666666,
              "#ed7953"
             ],
             [
              0.7777777777777778,
              "#fb9f3a"
             ],
             [
              0.8888888888888888,
              "#fdca26"
             ],
             [
              1,
              "#f0f921"
             ]
            ],
            "type": "heatmapgl"
           }
          ],
          "histogram": [
           {
            "marker": {
             "colorbar": {
              "outlinewidth": 0,
              "ticks": ""
             }
            },
            "type": "histogram"
           }
          ],
          "histogram2d": [
           {
            "colorbar": {
             "outlinewidth": 0,
             "ticks": ""
            },
            "colorscale": [
             [
              0,
              "#0d0887"
             ],
             [
              0.1111111111111111,
              "#46039f"
             ],
             [
              0.2222222222222222,
              "#7201a8"
             ],
             [
              0.3333333333333333,
              "#9c179e"
             ],
             [
              0.4444444444444444,
              "#bd3786"
             ],
             [
              0.5555555555555556,
              "#d8576b"
             ],
             [
              0.6666666666666666,
              "#ed7953"
             ],
             [
              0.7777777777777778,
              "#fb9f3a"
             ],
             [
              0.8888888888888888,
              "#fdca26"
             ],
             [
              1,
              "#f0f921"
             ]
            ],
            "type": "histogram2d"
           }
          ],
          "histogram2dcontour": [
           {
            "colorbar": {
             "outlinewidth": 0,
             "ticks": ""
            },
            "colorscale": [
             [
              0,
              "#0d0887"
             ],
             [
              0.1111111111111111,
              "#46039f"
             ],
             [
              0.2222222222222222,
              "#7201a8"
             ],
             [
              0.3333333333333333,
              "#9c179e"
             ],
             [
              0.4444444444444444,
              "#bd3786"
             ],
             [
              0.5555555555555556,
              "#d8576b"
             ],
             [
              0.6666666666666666,
              "#ed7953"
             ],
             [
              0.7777777777777778,
              "#fb9f3a"
             ],
             [
              0.8888888888888888,
              "#fdca26"
             ],
             [
              1,
              "#f0f921"
             ]
            ],
            "type": "histogram2dcontour"
           }
          ],
          "mesh3d": [
           {
            "colorbar": {
             "outlinewidth": 0,
             "ticks": ""
            },
            "type": "mesh3d"
           }
          ],
          "parcoords": [
           {
            "line": {
             "colorbar": {
              "outlinewidth": 0,
              "ticks": ""
             }
            },
            "type": "parcoords"
           }
          ],
          "pie": [
           {
            "automargin": true,
            "type": "pie"
           }
          ],
          "scatter": [
           {
            "marker": {
             "colorbar": {
              "outlinewidth": 0,
              "ticks": ""
             }
            },
            "type": "scatter"
           }
          ],
          "scatter3d": [
           {
            "line": {
             "colorbar": {
              "outlinewidth": 0,
              "ticks": ""
             }
            },
            "marker": {
             "colorbar": {
              "outlinewidth": 0,
              "ticks": ""
             }
            },
            "type": "scatter3d"
           }
          ],
          "scattercarpet": [
           {
            "marker": {
             "colorbar": {
              "outlinewidth": 0,
              "ticks": ""
             }
            },
            "type": "scattercarpet"
           }
          ],
          "scattergeo": [
           {
            "marker": {
             "colorbar": {
              "outlinewidth": 0,
              "ticks": ""
             }
            },
            "type": "scattergeo"
           }
          ],
          "scattergl": [
           {
            "marker": {
             "colorbar": {
              "outlinewidth": 0,
              "ticks": ""
             }
            },
            "type": "scattergl"
           }
          ],
          "scattermapbox": [
           {
            "marker": {
             "colorbar": {
              "outlinewidth": 0,
              "ticks": ""
             }
            },
            "type": "scattermapbox"
           }
          ],
          "scatterpolar": [
           {
            "marker": {
             "colorbar": {
              "outlinewidth": 0,
              "ticks": ""
             }
            },
            "type": "scatterpolar"
           }
          ],
          "scatterpolargl": [
           {
            "marker": {
             "colorbar": {
              "outlinewidth": 0,
              "ticks": ""
             }
            },
            "type": "scatterpolargl"
           }
          ],
          "scatterternary": [
           {
            "marker": {
             "colorbar": {
              "outlinewidth": 0,
              "ticks": ""
             }
            },
            "type": "scatterternary"
           }
          ],
          "surface": [
           {
            "colorbar": {
             "outlinewidth": 0,
             "ticks": ""
            },
            "colorscale": [
             [
              0,
              "#0d0887"
             ],
             [
              0.1111111111111111,
              "#46039f"
             ],
             [
              0.2222222222222222,
              "#7201a8"
             ],
             [
              0.3333333333333333,
              "#9c179e"
             ],
             [
              0.4444444444444444,
              "#bd3786"
             ],
             [
              0.5555555555555556,
              "#d8576b"
             ],
             [
              0.6666666666666666,
              "#ed7953"
             ],
             [
              0.7777777777777778,
              "#fb9f3a"
             ],
             [
              0.8888888888888888,
              "#fdca26"
             ],
             [
              1,
              "#f0f921"
             ]
            ],
            "type": "surface"
           }
          ],
          "table": [
           {
            "cells": {
             "fill": {
              "color": "#EBF0F8"
             },
             "line": {
              "color": "white"
             }
            },
            "header": {
             "fill": {
              "color": "#C8D4E3"
             },
             "line": {
              "color": "white"
             }
            },
            "type": "table"
           }
          ]
         },
         "layout": {
          "annotationdefaults": {
           "arrowcolor": "#2a3f5f",
           "arrowhead": 0,
           "arrowwidth": 1
          },
          "autotypenumbers": "strict",
          "coloraxis": {
           "colorbar": {
            "outlinewidth": 0,
            "ticks": ""
           }
          },
          "colorscale": {
           "diverging": [
            [
             0,
             "#8e0152"
            ],
            [
             0.1,
             "#c51b7d"
            ],
            [
             0.2,
             "#de77ae"
            ],
            [
             0.3,
             "#f1b6da"
            ],
            [
             0.4,
             "#fde0ef"
            ],
            [
             0.5,
             "#f7f7f7"
            ],
            [
             0.6,
             "#e6f5d0"
            ],
            [
             0.7,
             "#b8e186"
            ],
            [
             0.8,
             "#7fbc41"
            ],
            [
             0.9,
             "#4d9221"
            ],
            [
             1,
             "#276419"
            ]
           ],
           "sequential": [
            [
             0,
             "#0d0887"
            ],
            [
             0.1111111111111111,
             "#46039f"
            ],
            [
             0.2222222222222222,
             "#7201a8"
            ],
            [
             0.3333333333333333,
             "#9c179e"
            ],
            [
             0.4444444444444444,
             "#bd3786"
            ],
            [
             0.5555555555555556,
             "#d8576b"
            ],
            [
             0.6666666666666666,
             "#ed7953"
            ],
            [
             0.7777777777777778,
             "#fb9f3a"
            ],
            [
             0.8888888888888888,
             "#fdca26"
            ],
            [
             1,
             "#f0f921"
            ]
           ],
           "sequentialminus": [
            [
             0,
             "#0d0887"
            ],
            [
             0.1111111111111111,
             "#46039f"
            ],
            [
             0.2222222222222222,
             "#7201a8"
            ],
            [
             0.3333333333333333,
             "#9c179e"
            ],
            [
             0.4444444444444444,
             "#bd3786"
            ],
            [
             0.5555555555555556,
             "#d8576b"
            ],
            [
             0.6666666666666666,
             "#ed7953"
            ],
            [
             0.7777777777777778,
             "#fb9f3a"
            ],
            [
             0.8888888888888888,
             "#fdca26"
            ],
            [
             1,
             "#f0f921"
            ]
           ]
          },
          "colorway": [
           "#636efa",
           "#EF553B",
           "#00cc96",
           "#ab63fa",
           "#FFA15A",
           "#19d3f3",
           "#FF6692",
           "#B6E880",
           "#FF97FF",
           "#FECB52"
          ],
          "font": {
           "color": "#2a3f5f"
          },
          "geo": {
           "bgcolor": "white",
           "lakecolor": "white",
           "landcolor": "#E5ECF6",
           "showlakes": true,
           "showland": true,
           "subunitcolor": "white"
          },
          "hoverlabel": {
           "align": "left"
          },
          "hovermode": "closest",
          "mapbox": {
           "style": "light"
          },
          "paper_bgcolor": "white",
          "plot_bgcolor": "#E5ECF6",
          "polar": {
           "angularaxis": {
            "gridcolor": "white",
            "linecolor": "white",
            "ticks": ""
           },
           "bgcolor": "#E5ECF6",
           "radialaxis": {
            "gridcolor": "white",
            "linecolor": "white",
            "ticks": ""
           }
          },
          "scene": {
           "xaxis": {
            "backgroundcolor": "#E5ECF6",
            "gridcolor": "white",
            "gridwidth": 2,
            "linecolor": "white",
            "showbackground": true,
            "ticks": "",
            "zerolinecolor": "white"
           },
           "yaxis": {
            "backgroundcolor": "#E5ECF6",
            "gridcolor": "white",
            "gridwidth": 2,
            "linecolor": "white",
            "showbackground": true,
            "ticks": "",
            "zerolinecolor": "white"
           },
           "zaxis": {
            "backgroundcolor": "#E5ECF6",
            "gridcolor": "white",
            "gridwidth": 2,
            "linecolor": "white",
            "showbackground": true,
            "ticks": "",
            "zerolinecolor": "white"
           }
          },
          "shapedefaults": {
           "line": {
            "color": "#2a3f5f"
           }
          },
          "ternary": {
           "aaxis": {
            "gridcolor": "white",
            "linecolor": "white",
            "ticks": ""
           },
           "baxis": {
            "gridcolor": "white",
            "linecolor": "white",
            "ticks": ""
           },
           "bgcolor": "#E5ECF6",
           "caxis": {
            "gridcolor": "white",
            "linecolor": "white",
            "ticks": ""
           }
          },
          "title": {
           "x": 0.05
          },
          "xaxis": {
           "automargin": true,
           "gridcolor": "white",
           "linecolor": "white",
           "ticks": "",
           "title": {
            "standoff": 15
           },
           "zerolinecolor": "white",
           "zerolinewidth": 2
          },
          "yaxis": {
           "automargin": true,
           "gridcolor": "white",
           "linecolor": "white",
           "ticks": "",
           "title": {
            "standoff": 15
           },
           "zerolinecolor": "white",
           "zerolinewidth": 2
          }
         }
        },
        "title": {
         "text": "Delegator Count Per Delegate"
        },
        "xaxis": {
         "anchor": "y",
         "domain": [
          0,
          1
         ],
         "title": {
          "text": "checkpoint"
         }
        },
        "yaxis": {
         "anchor": "x",
         "domain": [
          0,
          1
         ],
         "title": {
          "text": "delegators_count"
         }
        }
       }
      }
     },
     "metadata": {},
     "output_type": "display_data"
    }
   ],
   "source": [
    "fig = px.line(pcb.aggregate_delegates, x=\"checkpoint\", y=\"delegators_count\", color='delegate')\n",
    "fig.update_layout(\n",
    "    title=f\"Delegator Count Per Delegate\",\n",
    "#     xaxis_title=\"X Axis Title\",\n",
    "#     yaxis_title=\"Y Axis Title\",\n",
    "#     legend_title=\"Legend Title\",\n",
    "    font=dict(\n",
    "        family=\"Courier New, monospace\",\n",
    "        size=18,\n",
    "        color=\"RebeccaPurple\"\n",
    "    ),\n",
    "    # height= 1000,\n",
    ")\n",
    "fig.show()"
   ]
  },
  {
   "cell_type": "code",
   "execution_count": 60,
   "metadata": {},
   "outputs": [],
   "source": [
    "# 0xde1e6a7ed0ad3f61d531a8a78e83ccddbd6e0c49 # Votium\n",
    "\n",
    "# fig = px.line(pcb.delegator_locks_per_proposal, x=\"checkpoint\", y=\"current_locked\", color='delegate')\n",
    "# fig.update_layout(\n",
    "#     title=f\"Delegated vlCVX Per Delegator\",\n",
    "# #     xaxis_title=\"X Axis Title\",\n",
    "# #     yaxis_title=\"Y Axis Title\",\n",
    "# #     legend_title=\"Legend Title\",\n",
    "#     font=dict(\n",
    "#         family=\"Courier New, monospace\",\n",
    "#         size=18,\n",
    "#         color=\"RebeccaPurple\"\n",
    "#     ),\n",
    "#     # height= 1000,\n",
    "# )\n",
    "# fig.show()"
   ]
  },
  {
   "cell_type": "code",
   "execution_count": 61,
   "metadata": {},
   "outputs": [
    {
     "data": {
      "text/html": [
       "<div>\n",
       "<style scoped>\n",
       "    .dataframe tbody tr th:only-of-type {\n",
       "        vertical-align: middle;\n",
       "    }\n",
       "\n",
       "    .dataframe tbody tr th {\n",
       "        vertical-align: top;\n",
       "    }\n",
       "\n",
       "    .dataframe thead th {\n",
       "        text-align: right;\n",
       "    }\n",
       "</style>\n",
       "<table border=\"1\" class=\"dataframe\">\n",
       "  <thead>\n",
       "    <tr style=\"text-align: right;\">\n",
       "      <th></th>\n",
       "      <th>delegator</th>\n",
       "      <th>delegate</th>\n",
       "      <th>checkpoint</th>\n",
       "      <th>this_epoch</th>\n",
       "      <th>known_as</th>\n",
       "      <th>display_name</th>\n",
       "      <th>current_locked</th>\n",
       "      <th>lock_count</th>\n",
       "    </tr>\n",
       "  </thead>\n",
       "  <tbody>\n",
       "    <tr>\n",
       "      <th>7970</th>\n",
       "      <td>0xc6625129c9df3314a4dd604845488f4ba62f9db8</td>\n",
       "      <td>0x79e76c14b3bb6236dfc06d2d7ff219c8b070169c</td>\n",
       "      <td>2022-12-22 00:00:25.000</td>\n",
       "      <td>2022-12-21 19:00:00</td>\n",
       "      <td>Reserve</td>\n",
       "      <td>Reserve (0xc662)</td>\n",
       "      <td>968449.304764</td>\n",
       "      <td>10.0</td>\n",
       "    </tr>\n",
       "    <tr>\n",
       "      <th>7965</th>\n",
       "      <td>0xc6625129c9df3314a4dd604845488f4ba62f9db8</td>\n",
       "      <td>0x79e76c14b3bb6236dfc06d2d7ff219c8b070169c</td>\n",
       "      <td>2023-01-05 00:00:13.000</td>\n",
       "      <td>2023-01-04 19:00:00</td>\n",
       "      <td>Reserve</td>\n",
       "      <td>Reserve (0xc662)</td>\n",
       "      <td>968449.304764</td>\n",
       "      <td>10.0</td>\n",
       "    </tr>\n",
       "    <tr>\n",
       "      <th>7953</th>\n",
       "      <td>0xc6625129c9df3314a4dd604845488f4ba62f9db8</td>\n",
       "      <td>0x79e76c14b3bb6236dfc06d2d7ff219c8b070169c</td>\n",
       "      <td>2023-01-19 00:00:14.000</td>\n",
       "      <td>2023-01-18 19:00:00</td>\n",
       "      <td>Reserve</td>\n",
       "      <td>Reserve (0xc662)</td>\n",
       "      <td>968449.304764</td>\n",
       "      <td>10.0</td>\n",
       "    </tr>\n",
       "    <tr>\n",
       "      <th>7936</th>\n",
       "      <td>0xc6625129c9df3314a4dd604845488f4ba62f9db8</td>\n",
       "      <td>0x79e76c14b3bb6236dfc06d2d7ff219c8b070169c</td>\n",
       "      <td>2023-02-02 00:01:01.000</td>\n",
       "      <td>2023-02-01 19:00:00</td>\n",
       "      <td>Reserve</td>\n",
       "      <td>Reserve (0xc662)</td>\n",
       "      <td>968449.304764</td>\n",
       "      <td>10.0</td>\n",
       "    </tr>\n",
       "    <tr>\n",
       "      <th>7923</th>\n",
       "      <td>0xc6625129c9df3314a4dd604845488f4ba62f9db8</td>\n",
       "      <td>0x79e76c14b3bb6236dfc06d2d7ff219c8b070169c</td>\n",
       "      <td>2023-02-16 00:00:14.000</td>\n",
       "      <td>2023-02-15 19:00:00</td>\n",
       "      <td>Reserve</td>\n",
       "      <td>Reserve (0xc662)</td>\n",
       "      <td>968449.304764</td>\n",
       "      <td>9.0</td>\n",
       "    </tr>\n",
       "    <tr>\n",
       "      <th>7915</th>\n",
       "      <td>0xc6625129c9df3314a4dd604845488f4ba62f9db8</td>\n",
       "      <td>0x79e76c14b3bb6236dfc06d2d7ff219c8b070169c</td>\n",
       "      <td>2023-03-02 00:00:13.000</td>\n",
       "      <td>2023-03-01 19:00:00</td>\n",
       "      <td>Reserve</td>\n",
       "      <td>Reserve (0xc662)</td>\n",
       "      <td>968449.304764</td>\n",
       "      <td>7.0</td>\n",
       "    </tr>\n",
       "    <tr>\n",
       "      <th>7907</th>\n",
       "      <td>0xc6625129c9df3314a4dd604845488f4ba62f9db8</td>\n",
       "      <td>0x79e76c14b3bb6236dfc06d2d7ff219c8b070169c</td>\n",
       "      <td>2023-03-16 00:00:27.000</td>\n",
       "      <td>2023-03-15 19:00:00</td>\n",
       "      <td>Reserve</td>\n",
       "      <td>Reserve (0xc662)</td>\n",
       "      <td>968449.304764</td>\n",
       "      <td>7.0</td>\n",
       "    </tr>\n",
       "    <tr>\n",
       "      <th>7900</th>\n",
       "      <td>0xc6625129c9df3314a4dd604845488f4ba62f9db8</td>\n",
       "      <td>0x79e76c14b3bb6236dfc06d2d7ff219c8b070169c</td>\n",
       "      <td>2023-03-30 00:00:37.000</td>\n",
       "      <td>2023-03-29 19:00:00</td>\n",
       "      <td>Reserve</td>\n",
       "      <td>Reserve (0xc662)</td>\n",
       "      <td>968449.304764</td>\n",
       "      <td>7.0</td>\n",
       "    </tr>\n",
       "    <tr>\n",
       "      <th>7892</th>\n",
       "      <td>0xc6625129c9df3314a4dd604845488f4ba62f9db8</td>\n",
       "      <td>0x79e76c14b3bb6236dfc06d2d7ff219c8b070169c</td>\n",
       "      <td>2023-04-13 00:00:40.000</td>\n",
       "      <td>2023-04-12 19:00:00</td>\n",
       "      <td>Reserve</td>\n",
       "      <td>Reserve (0xc662)</td>\n",
       "      <td>968449.304764</td>\n",
       "      <td>6.0</td>\n",
       "    </tr>\n",
       "    <tr>\n",
       "      <th>7882</th>\n",
       "      <td>0xc6625129c9df3314a4dd604845488f4ba62f9db8</td>\n",
       "      <td>0x79e76c14b3bb6236dfc06d2d7ff219c8b070169c</td>\n",
       "      <td>2023-04-27 00:00:38.000</td>\n",
       "      <td>2023-04-26 19:00:00</td>\n",
       "      <td>Reserve</td>\n",
       "      <td>Reserve (0xc662)</td>\n",
       "      <td>973756.509485</td>\n",
       "      <td>7.0</td>\n",
       "    </tr>\n",
       "    <tr>\n",
       "      <th>7880</th>\n",
       "      <td>0xc6625129c9df3314a4dd604845488f4ba62f9db8</td>\n",
       "      <td>0x79e76c14b3bb6236dfc06d2d7ff219c8b070169c</td>\n",
       "      <td>2023-05-11 00:00:38.000</td>\n",
       "      <td>2023-05-10 19:00:00</td>\n",
       "      <td>Reserve</td>\n",
       "      <td>Reserve (0xc662)</td>\n",
       "      <td>973756.509485</td>\n",
       "      <td>7.0</td>\n",
       "    </tr>\n",
       "    <tr>\n",
       "      <th>7878</th>\n",
       "      <td>0xc6625129c9df3314a4dd604845488f4ba62f9db8</td>\n",
       "      <td>0x79e76c14b3bb6236dfc06d2d7ff219c8b070169c</td>\n",
       "      <td>2023-05-25 00:00:26.000</td>\n",
       "      <td>2023-05-24 19:00:00</td>\n",
       "      <td>Reserve</td>\n",
       "      <td>Reserve (0xc662)</td>\n",
       "      <td>973756.509485</td>\n",
       "      <td>7.0</td>\n",
       "    </tr>\n",
       "    <tr>\n",
       "      <th>7864</th>\n",
       "      <td>0xc6625129c9df3314a4dd604845488f4ba62f9db8</td>\n",
       "      <td>0x79e76c14b3bb6236dfc06d2d7ff219c8b070169c</td>\n",
       "      <td>2023-06-08 08:46:55.000</td>\n",
       "      <td>2023-06-07 19:00:00</td>\n",
       "      <td>Reserve</td>\n",
       "      <td>Reserve (0xc662)</td>\n",
       "      <td>973756.509485</td>\n",
       "      <td>7.0</td>\n",
       "    </tr>\n",
       "    <tr>\n",
       "      <th>7858</th>\n",
       "      <td>0xc6625129c9df3314a4dd604845488f4ba62f9db8</td>\n",
       "      <td>0x79e76c14b3bb6236dfc06d2d7ff219c8b070169c</td>\n",
       "      <td>2023-06-22 00:00:51.000</td>\n",
       "      <td>2023-06-21 19:00:00</td>\n",
       "      <td>Reserve</td>\n",
       "      <td>Reserve (0xc662)</td>\n",
       "      <td>973756.509485</td>\n",
       "      <td>7.0</td>\n",
       "    </tr>\n",
       "    <tr>\n",
       "      <th>7848</th>\n",
       "      <td>0xc6625129c9df3314a4dd604845488f4ba62f9db8</td>\n",
       "      <td>0x79e76c14b3bb6236dfc06d2d7ff219c8b070169c</td>\n",
       "      <td>2023-07-06 00:00:40.000</td>\n",
       "      <td>2023-07-05 19:00:00</td>\n",
       "      <td>Reserve</td>\n",
       "      <td>Reserve (0xc662)</td>\n",
       "      <td>973756.509485</td>\n",
       "      <td>7.0</td>\n",
       "    </tr>\n",
       "    <tr>\n",
       "      <th>7835</th>\n",
       "      <td>0xc6625129c9df3314a4dd604845488f4ba62f9db8</td>\n",
       "      <td>0x79e76c14b3bb6236dfc06d2d7ff219c8b070169c</td>\n",
       "      <td>2023-07-20 00:01:02.000</td>\n",
       "      <td>2023-07-19 19:00:00</td>\n",
       "      <td>Reserve</td>\n",
       "      <td>Reserve (0xc662)</td>\n",
       "      <td>973756.509485</td>\n",
       "      <td>7.0</td>\n",
       "    </tr>\n",
       "    <tr>\n",
       "      <th>8639</th>\n",
       "      <td>0xc6625129c9df3314a4dd604845488f4ba62f9db8</td>\n",
       "      <td>0xd733d4cc5b42206a62ed7b1ceec5b4d61898f429</td>\n",
       "      <td>2023-08-03 00:00:14.000</td>\n",
       "      <td>2023-08-02 19:00:00</td>\n",
       "      <td>Reserve</td>\n",
       "      <td>Reserve (0xc662)</td>\n",
       "      <td>974829.368747</td>\n",
       "      <td>9.0</td>\n",
       "    </tr>\n",
       "    <tr>\n",
       "      <th>8624</th>\n",
       "      <td>0xc6625129c9df3314a4dd604845488f4ba62f9db8</td>\n",
       "      <td>0xd733d4cc5b42206a62ed7b1ceec5b4d61898f429</td>\n",
       "      <td>2023-08-16 20:01:00</td>\n",
       "      <td>2023-08-16 19:00:00</td>\n",
       "      <td>Reserve</td>\n",
       "      <td>Reserve (0xc662)</td>\n",
       "      <td>974829.368747</td>\n",
       "      <td>9.0</td>\n",
       "    </tr>\n",
       "    <tr>\n",
       "      <th>8618</th>\n",
       "      <td>0xc6625129c9df3314a4dd604845488f4ba62f9db8</td>\n",
       "      <td>0xd733d4cc5b42206a62ed7b1ceec5b4d61898f429</td>\n",
       "      <td>2023-08-30 20:00:37</td>\n",
       "      <td>2023-08-30 19:00:00</td>\n",
       "      <td>Reserve</td>\n",
       "      <td>Reserve (0xc662)</td>\n",
       "      <td>974829.368747</td>\n",
       "      <td>9.0</td>\n",
       "    </tr>\n",
       "    <tr>\n",
       "      <th>8608</th>\n",
       "      <td>0xc6625129c9df3314a4dd604845488f4ba62f9db8</td>\n",
       "      <td>0xd733d4cc5b42206a62ed7b1ceec5b4d61898f429</td>\n",
       "      <td>2023-09-13 20:00:49</td>\n",
       "      <td>2023-09-13 19:00:00</td>\n",
       "      <td>Reserve</td>\n",
       "      <td>Reserve (0xc662)</td>\n",
       "      <td>974829.368747</td>\n",
       "      <td>9.0</td>\n",
       "    </tr>\n",
       "    <tr>\n",
       "      <th>8745</th>\n",
       "      <td>0xc6625129c9df3314a4dd604845488f4ba62f9db8</td>\n",
       "      <td>0x578a4af5cbc3009487a89be88bc560157200795b</td>\n",
       "      <td>2023-09-27 20:00:49</td>\n",
       "      <td>2023-09-27 19:00:00</td>\n",
       "      <td>Reserve</td>\n",
       "      <td>Reserve (0xc662)</td>\n",
       "      <td>975839.678207</td>\n",
       "      <td>10.0</td>\n",
       "    </tr>\n",
       "    <tr>\n",
       "      <th>8730</th>\n",
       "      <td>0xc6625129c9df3314a4dd604845488f4ba62f9db8</td>\n",
       "      <td>0x578a4af5cbc3009487a89be88bc560157200795b</td>\n",
       "      <td>2023-10-11 20:00:37</td>\n",
       "      <td>2023-10-11 19:00:00</td>\n",
       "      <td>Reserve</td>\n",
       "      <td>Reserve (0xc662)</td>\n",
       "      <td>975839.678207</td>\n",
       "      <td>10.0</td>\n",
       "    </tr>\n",
       "    <tr>\n",
       "      <th>8720</th>\n",
       "      <td>0xc6625129c9df3314a4dd604845488f4ba62f9db8</td>\n",
       "      <td>0x578a4af5cbc3009487a89be88bc560157200795b</td>\n",
       "      <td>2023-10-25 20:00:14</td>\n",
       "      <td>2023-10-25 19:00:00</td>\n",
       "      <td>Reserve</td>\n",
       "      <td>Reserve (0xc662)</td>\n",
       "      <td>975839.678207</td>\n",
       "      <td>10.0</td>\n",
       "    </tr>\n",
       "    <tr>\n",
       "      <th>8706</th>\n",
       "      <td>0xc6625129c9df3314a4dd604845488f4ba62f9db8</td>\n",
       "      <td>0x578a4af5cbc3009487a89be88bc560157200795b</td>\n",
       "      <td>2023-11-08 19:00:50</td>\n",
       "      <td>2023-11-08 19:00:00</td>\n",
       "      <td>Reserve</td>\n",
       "      <td>Reserve (0xc662)</td>\n",
       "      <td>975839.678207</td>\n",
       "      <td>10.0</td>\n",
       "    </tr>\n",
       "    <tr>\n",
       "      <th>8695</th>\n",
       "      <td>0xc6625129c9df3314a4dd604845488f4ba62f9db8</td>\n",
       "      <td>0x578a4af5cbc3009487a89be88bc560157200795b</td>\n",
       "      <td>2023-11-22 19:00:14</td>\n",
       "      <td>2023-11-22 19:00:00</td>\n",
       "      <td>Reserve</td>\n",
       "      <td>Reserve (0xc662)</td>\n",
       "      <td>975839.678207</td>\n",
       "      <td>9.0</td>\n",
       "    </tr>\n",
       "    <tr>\n",
       "      <th>8687</th>\n",
       "      <td>0xc6625129c9df3314a4dd604845488f4ba62f9db8</td>\n",
       "      <td>0x578a4af5cbc3009487a89be88bc560157200795b</td>\n",
       "      <td>2023-12-06 19:00:36</td>\n",
       "      <td>2023-12-06 19:00:00</td>\n",
       "      <td>Reserve</td>\n",
       "      <td>Reserve (0xc662)</td>\n",
       "      <td>975839.678207</td>\n",
       "      <td>9.0</td>\n",
       "    </tr>\n",
       "  </tbody>\n",
       "</table>\n",
       "</div>"
      ],
      "text/plain": [
       "                                       delegator  \\\n",
       "7970  0xc6625129c9df3314a4dd604845488f4ba62f9db8   \n",
       "7965  0xc6625129c9df3314a4dd604845488f4ba62f9db8   \n",
       "7953  0xc6625129c9df3314a4dd604845488f4ba62f9db8   \n",
       "7936  0xc6625129c9df3314a4dd604845488f4ba62f9db8   \n",
       "7923  0xc6625129c9df3314a4dd604845488f4ba62f9db8   \n",
       "7915  0xc6625129c9df3314a4dd604845488f4ba62f9db8   \n",
       "7907  0xc6625129c9df3314a4dd604845488f4ba62f9db8   \n",
       "7900  0xc6625129c9df3314a4dd604845488f4ba62f9db8   \n",
       "7892  0xc6625129c9df3314a4dd604845488f4ba62f9db8   \n",
       "7882  0xc6625129c9df3314a4dd604845488f4ba62f9db8   \n",
       "7880  0xc6625129c9df3314a4dd604845488f4ba62f9db8   \n",
       "7878  0xc6625129c9df3314a4dd604845488f4ba62f9db8   \n",
       "7864  0xc6625129c9df3314a4dd604845488f4ba62f9db8   \n",
       "7858  0xc6625129c9df3314a4dd604845488f4ba62f9db8   \n",
       "7848  0xc6625129c9df3314a4dd604845488f4ba62f9db8   \n",
       "7835  0xc6625129c9df3314a4dd604845488f4ba62f9db8   \n",
       "8639  0xc6625129c9df3314a4dd604845488f4ba62f9db8   \n",
       "8624  0xc6625129c9df3314a4dd604845488f4ba62f9db8   \n",
       "8618  0xc6625129c9df3314a4dd604845488f4ba62f9db8   \n",
       "8608  0xc6625129c9df3314a4dd604845488f4ba62f9db8   \n",
       "8745  0xc6625129c9df3314a4dd604845488f4ba62f9db8   \n",
       "8730  0xc6625129c9df3314a4dd604845488f4ba62f9db8   \n",
       "8720  0xc6625129c9df3314a4dd604845488f4ba62f9db8   \n",
       "8706  0xc6625129c9df3314a4dd604845488f4ba62f9db8   \n",
       "8695  0xc6625129c9df3314a4dd604845488f4ba62f9db8   \n",
       "8687  0xc6625129c9df3314a4dd604845488f4ba62f9db8   \n",
       "\n",
       "                                        delegate               checkpoint  \\\n",
       "7970  0x79e76c14b3bb6236dfc06d2d7ff219c8b070169c  2022-12-22 00:00:25.000   \n",
       "7965  0x79e76c14b3bb6236dfc06d2d7ff219c8b070169c  2023-01-05 00:00:13.000   \n",
       "7953  0x79e76c14b3bb6236dfc06d2d7ff219c8b070169c  2023-01-19 00:00:14.000   \n",
       "7936  0x79e76c14b3bb6236dfc06d2d7ff219c8b070169c  2023-02-02 00:01:01.000   \n",
       "7923  0x79e76c14b3bb6236dfc06d2d7ff219c8b070169c  2023-02-16 00:00:14.000   \n",
       "7915  0x79e76c14b3bb6236dfc06d2d7ff219c8b070169c  2023-03-02 00:00:13.000   \n",
       "7907  0x79e76c14b3bb6236dfc06d2d7ff219c8b070169c  2023-03-16 00:00:27.000   \n",
       "7900  0x79e76c14b3bb6236dfc06d2d7ff219c8b070169c  2023-03-30 00:00:37.000   \n",
       "7892  0x79e76c14b3bb6236dfc06d2d7ff219c8b070169c  2023-04-13 00:00:40.000   \n",
       "7882  0x79e76c14b3bb6236dfc06d2d7ff219c8b070169c  2023-04-27 00:00:38.000   \n",
       "7880  0x79e76c14b3bb6236dfc06d2d7ff219c8b070169c  2023-05-11 00:00:38.000   \n",
       "7878  0x79e76c14b3bb6236dfc06d2d7ff219c8b070169c  2023-05-25 00:00:26.000   \n",
       "7864  0x79e76c14b3bb6236dfc06d2d7ff219c8b070169c  2023-06-08 08:46:55.000   \n",
       "7858  0x79e76c14b3bb6236dfc06d2d7ff219c8b070169c  2023-06-22 00:00:51.000   \n",
       "7848  0x79e76c14b3bb6236dfc06d2d7ff219c8b070169c  2023-07-06 00:00:40.000   \n",
       "7835  0x79e76c14b3bb6236dfc06d2d7ff219c8b070169c  2023-07-20 00:01:02.000   \n",
       "8639  0xd733d4cc5b42206a62ed7b1ceec5b4d61898f429  2023-08-03 00:00:14.000   \n",
       "8624  0xd733d4cc5b42206a62ed7b1ceec5b4d61898f429      2023-08-16 20:01:00   \n",
       "8618  0xd733d4cc5b42206a62ed7b1ceec5b4d61898f429      2023-08-30 20:00:37   \n",
       "8608  0xd733d4cc5b42206a62ed7b1ceec5b4d61898f429      2023-09-13 20:00:49   \n",
       "8745  0x578a4af5cbc3009487a89be88bc560157200795b      2023-09-27 20:00:49   \n",
       "8730  0x578a4af5cbc3009487a89be88bc560157200795b      2023-10-11 20:00:37   \n",
       "8720  0x578a4af5cbc3009487a89be88bc560157200795b      2023-10-25 20:00:14   \n",
       "8706  0x578a4af5cbc3009487a89be88bc560157200795b      2023-11-08 19:00:50   \n",
       "8695  0x578a4af5cbc3009487a89be88bc560157200795b      2023-11-22 19:00:14   \n",
       "8687  0x578a4af5cbc3009487a89be88bc560157200795b      2023-12-06 19:00:36   \n",
       "\n",
       "              this_epoch known_as      display_name  current_locked  \\\n",
       "7970 2022-12-21 19:00:00  Reserve  Reserve (0xc662)   968449.304764   \n",
       "7965 2023-01-04 19:00:00  Reserve  Reserve (0xc662)   968449.304764   \n",
       "7953 2023-01-18 19:00:00  Reserve  Reserve (0xc662)   968449.304764   \n",
       "7936 2023-02-01 19:00:00  Reserve  Reserve (0xc662)   968449.304764   \n",
       "7923 2023-02-15 19:00:00  Reserve  Reserve (0xc662)   968449.304764   \n",
       "7915 2023-03-01 19:00:00  Reserve  Reserve (0xc662)   968449.304764   \n",
       "7907 2023-03-15 19:00:00  Reserve  Reserve (0xc662)   968449.304764   \n",
       "7900 2023-03-29 19:00:00  Reserve  Reserve (0xc662)   968449.304764   \n",
       "7892 2023-04-12 19:00:00  Reserve  Reserve (0xc662)   968449.304764   \n",
       "7882 2023-04-26 19:00:00  Reserve  Reserve (0xc662)   973756.509485   \n",
       "7880 2023-05-10 19:00:00  Reserve  Reserve (0xc662)   973756.509485   \n",
       "7878 2023-05-24 19:00:00  Reserve  Reserve (0xc662)   973756.509485   \n",
       "7864 2023-06-07 19:00:00  Reserve  Reserve (0xc662)   973756.509485   \n",
       "7858 2023-06-21 19:00:00  Reserve  Reserve (0xc662)   973756.509485   \n",
       "7848 2023-07-05 19:00:00  Reserve  Reserve (0xc662)   973756.509485   \n",
       "7835 2023-07-19 19:00:00  Reserve  Reserve (0xc662)   973756.509485   \n",
       "8639 2023-08-02 19:00:00  Reserve  Reserve (0xc662)   974829.368747   \n",
       "8624 2023-08-16 19:00:00  Reserve  Reserve (0xc662)   974829.368747   \n",
       "8618 2023-08-30 19:00:00  Reserve  Reserve (0xc662)   974829.368747   \n",
       "8608 2023-09-13 19:00:00  Reserve  Reserve (0xc662)   974829.368747   \n",
       "8745 2023-09-27 19:00:00  Reserve  Reserve (0xc662)   975839.678207   \n",
       "8730 2023-10-11 19:00:00  Reserve  Reserve (0xc662)   975839.678207   \n",
       "8720 2023-10-25 19:00:00  Reserve  Reserve (0xc662)   975839.678207   \n",
       "8706 2023-11-08 19:00:00  Reserve  Reserve (0xc662)   975839.678207   \n",
       "8695 2023-11-22 19:00:00  Reserve  Reserve (0xc662)   975839.678207   \n",
       "8687 2023-12-06 19:00:00  Reserve  Reserve (0xc662)   975839.678207   \n",
       "\n",
       "      lock_count  \n",
       "7970        10.0  \n",
       "7965        10.0  \n",
       "7953        10.0  \n",
       "7936        10.0  \n",
       "7923         9.0  \n",
       "7915         7.0  \n",
       "7907         7.0  \n",
       "7900         7.0  \n",
       "7892         6.0  \n",
       "7882         7.0  \n",
       "7880         7.0  \n",
       "7878         7.0  \n",
       "7864         7.0  \n",
       "7858         7.0  \n",
       "7848         7.0  \n",
       "7835         7.0  \n",
       "8639         9.0  \n",
       "8624         9.0  \n",
       "8618         9.0  \n",
       "8608         9.0  \n",
       "8745        10.0  \n",
       "8730        10.0  \n",
       "8720        10.0  \n",
       "8706        10.0  \n",
       "8695         9.0  \n",
       "8687         9.0  "
      ]
     },
     "execution_count": 61,
     "metadata": {},
     "output_type": "execute_result"
    }
   ],
   "source": [
    "pcb.delegator_locks_per_proposal[pcb.delegator_locks_per_proposal['known_as'] == 'Reserve']"
   ]
  },
  {
   "cell_type": "code",
   "execution_count": null,
   "metadata": {},
   "outputs": [],
   "source": []
  },
  {
   "cell_type": "code",
   "execution_count": 62,
   "metadata": {},
   "outputs": [],
   "source": [
    "# fig = make_subplots(specs=[[{\"secondary_y\": True}]])\n",
    "# fig.update_layout(\n",
    "#     title=f\"Convex Locker Historic Locks Per Epoch\",\n",
    "#         xaxis_title=\"Epoch Date\",\n",
    "#         yaxis_title=\"vlCVX\",\n",
    "#         yaxis2_title=\"Locked Positions\",\n",
    "#     #     legend_title=\"Legend Title\",\n",
    "#     font=dict(\n",
    "#         family=\"Courier New, monospace\",\n",
    "#         size=18,\n",
    "#         color=\"RebeccaPurple\"\n",
    "#     ),\n",
    "#     # height= 1000,\n",
    "# )\n",
    "# fig = fig.add_trace(\n",
    "#     go.Bar(\n",
    "#         x=pcb.aggregate_delegates.checkpoint,\n",
    "#         y=pcb.aggregate_delegates.total_locked,\n",
    "#         name=\"Total Locked\",\n",
    "#         # color=\"pool_name\"\n",
    "#     ),\n",
    "#     secondary_y=False\n",
    "# )\n",
    "# fig = fig.add_trace(\n",
    "#     go.Scatter(\n",
    "#         x = pcl_agg_system.this_epoch,\n",
    "#         y = pcl_agg_system.lock_count, \n",
    "#         name = \"Locked Count\",\n",
    "#         line_shape='hvh',\n",
    "#         line_width=3,\n",
    "#     ),\n",
    "#     secondary_y=True\n",
    "# )\n",
    "# fig.add_vline(x=dt.now(), line_width=3, line_dash=\"dash\", line_color=\"black\", )\n",
    "\n",
    "# fig.update_layout(autotypenumbers='convert types')\n",
    "# fig.update_yaxes(rangemode=\"tozero\")\n",
    "# fig.show()"
   ]
  }
 ],
 "metadata": {
  "kernelspec": {
   "display_name": "cadcad-edu",
   "language": "python",
   "name": "python3"
  },
  "language_info": {
   "codemirror_mode": {
    "name": "ipython",
    "version": 3
   },
   "file_extension": ".py",
   "mimetype": "text/x-python",
   "name": "python",
   "nbconvert_exporter": "python",
   "pygments_lexer": "ipython3",
   "version": "3.8.13"
  }
 },
 "nbformat": 4,
 "nbformat_minor": 2
}
