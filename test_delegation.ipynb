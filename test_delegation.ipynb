{
 "cells": [
  {
   "cell_type": "code",
   "execution_count": 1,
   "metadata": {},
   "outputs": [],
   "source": [
    "from app.data.reference import filename_convex_delegations , filename_convex_locker, known_large_cvx_holders_addresses\n",
    "from datetime import datetime as dt\n",
    "\n",
    "from app.data.local_storage import (\n",
    "    pd,\n",
    "    read_json,\n",
    "    read_csv,\n",
    "    write_dataframe_csv,\n",
    "    write_dfs_to_xlsx,\n",
    "    csv_to_df,\n",
    "    write_dataframe_csv\n",
    "    )\n",
    "from app.utilities.utility import (\n",
    "    get_period_direct, \n",
    "    get_period_end_date, \n",
    "    get_date_obj, \n",
    "    get_dt_from_timestamp,\n",
    "    shift_time_days,\n",
    "    df_remove_nan\n",
    ")"
   ]
  },
  {
   "cell_type": "code",
   "execution_count": 2,
   "metadata": {},
   "outputs": [],
   "source": [
    "import plotly\n",
    "import plotly.express as px\n",
    "\n",
    "import plotly.graph_objects as go\n",
    "from plotly.subplots import make_subplots\n"
   ]
  },
  {
   "cell_type": "code",
   "execution_count": 3,
   "metadata": {},
   "outputs": [
    {
     "name": "stdout",
     "output_type": "stream",
     "text": [
      "Loading... { curve.gauges.models }\n",
      "Processing... { curve.gauges.models }\n",
      "could not register in app.config\n",
      "\tGauges\n",
      "Loading... { snapshot.alt_models }\n",
      "Loading... { convex.snapshot.models }\n",
      "could not register in app.config\n",
      "\tSnapshot\n"
     ]
    }
   ],
   "source": [
    "from app.convex.snapshot.models import df_convex_snapshot_vote_choice"
   ]
  },
  {
   "cell_type": "code",
   "execution_count": 4,
   "metadata": {},
   "outputs": [],
   "source": [
    "def get_df(filename):\n",
    "    df = csv_to_df(filename, 'raw_data')\n",
    "\n",
    "    # df_gauge_pool_map = df_gauge_pool_map.sort_values(\"BLOCK_TIMESTAMP\", axis = 0, ascending = True)\n",
    "    return df"
   ]
  },
  {
   "cell_type": "code",
   "execution_count": 5,
   "metadata": {},
   "outputs": [],
   "source": [
    "df_delegations = get_df(filename_convex_delegations)"
   ]
  },
  {
   "cell_type": "code",
   "execution_count": 6,
   "metadata": {},
   "outputs": [],
   "source": [
    "df_locker = get_df(filename_convex_locker)"
   ]
  },
  {
   "cell_type": "code",
   "execution_count": 7,
   "metadata": {},
   "outputs": [],
   "source": [
    "# df['period'] = get_period_direct(df['block_timestamp'])\n",
    "\n",
    "# df['period'] = df.apply(lambda row : get_period_direct(row['block_timestamp']), axis = 1)"
   ]
  },
  {
   "cell_type": "code",
   "execution_count": 8,
   "metadata": {},
   "outputs": [
    {
     "data": {
      "text/html": [
       "<div>\n",
       "<style scoped>\n",
       "    .dataframe tbody tr th:only-of-type {\n",
       "        vertical-align: middle;\n",
       "    }\n",
       "\n",
       "    .dataframe tbody tr th {\n",
       "        vertical-align: top;\n",
       "    }\n",
       "\n",
       "    .dataframe thead th {\n",
       "        text-align: right;\n",
       "    }\n",
       "</style>\n",
       "<table border=\"1\" class=\"dataframe\">\n",
       "  <thead>\n",
       "    <tr style=\"text-align: right;\">\n",
       "      <th></th>\n",
       "      <th>block_timestamp</th>\n",
       "      <th>event_name</th>\n",
       "      <th>delegate</th>\n",
       "      <th>delegator</th>\n",
       "      <th>id</th>\n",
       "      <th>origin_from_address</th>\n",
       "      <th>tx_hash</th>\n",
       "      <th>__row_index</th>\n",
       "    </tr>\n",
       "  </thead>\n",
       "  <tbody>\n",
       "    <tr>\n",
       "      <th>0</th>\n",
       "      <td>2023-10-27T13:33:23.000Z</td>\n",
       "      <td>SetDelegate</td>\n",
       "      <td>0xde1e6a7ed0ad3f61d531a8a78e83ccddbd6e0c49</td>\n",
       "      <td>0x4432e64624f4c64633466655de3d5132ad407343</td>\n",
       "      <td>0x6376782e657468000000000000000000000000000000...</td>\n",
       "      <td>0x4432e64624f4c64633466655de3d5132ad407343</td>\n",
       "      <td>0x448e2a2567cdefe83e72e7d5bc5bc2fe1da9cf01a316...</td>\n",
       "      <td>0</td>\n",
       "    </tr>\n",
       "    <tr>\n",
       "      <th>1</th>\n",
       "      <td>2023-10-27T11:01:23.000Z</td>\n",
       "      <td>SetDelegate</td>\n",
       "      <td>0xde1e6a7ed0ad3f61d531a8a78e83ccddbd6e0c49</td>\n",
       "      <td>0xca1146c1d1b26ca782f7388096462189fb09113f</td>\n",
       "      <td>0x6376782e657468000000000000000000000000000000...</td>\n",
       "      <td>0xca1146c1d1b26ca782f7388096462189fb09113f</td>\n",
       "      <td>0x25c6b1b420e6ce892a6d5db12c59a9d37c4bf07eb9c2...</td>\n",
       "      <td>1</td>\n",
       "    </tr>\n",
       "    <tr>\n",
       "      <th>2</th>\n",
       "      <td>2023-10-27T09:32:47.000Z</td>\n",
       "      <td>SetDelegate</td>\n",
       "      <td>0x56f610e0c5f2f64a6b599cc5481d35e70d2e63e7</td>\n",
       "      <td>0xfedcaa011c9fc474d8cb063cef1b8d1772b40f28</td>\n",
       "      <td>0x6376782e657468000000000000000000000000000000...</td>\n",
       "      <td>0xfedcaa011c9fc474d8cb063cef1b8d1772b40f28</td>\n",
       "      <td>0x7e10494c25c953370963fea6e0345830f7a22e66de79...</td>\n",
       "      <td>2</td>\n",
       "    </tr>\n",
       "    <tr>\n",
       "      <th>3</th>\n",
       "      <td>2023-10-26T22:46:11.000Z</td>\n",
       "      <td>SetDelegate</td>\n",
       "      <td>0x68378fcb3a27d5613afcfddb590d35a6e751972c</td>\n",
       "      <td>0x5275817b74021e97c980e95ede6bbac0d0d6f3a2</td>\n",
       "      <td>0x6376782e657468000000000000000000000000000000...</td>\n",
       "      <td>0x5275817b74021e97c980e95ede6bbac0d0d6f3a2</td>\n",
       "      <td>0x9e758790bd92f31b63647d6c9294710d12c6e7d2da74...</td>\n",
       "      <td>3</td>\n",
       "    </tr>\n",
       "    <tr>\n",
       "      <th>4</th>\n",
       "      <td>2023-10-26T16:16:47.000Z</td>\n",
       "      <td>SetDelegate</td>\n",
       "      <td>0x947b7742c403f20e5faccdac5e092c943e7d0277</td>\n",
       "      <td>0x886969be23b1a38008021c418aae5df8b0efeab9</td>\n",
       "      <td>0x6376782e657468000000000000000000000000000000...</td>\n",
       "      <td>0x886969be23b1a38008021c418aae5df8b0efeab9</td>\n",
       "      <td>0xcf1505bc9533c3b5aee380f190779219992f6e73be01...</td>\n",
       "      <td>4</td>\n",
       "    </tr>\n",
       "  </tbody>\n",
       "</table>\n",
       "</div>"
      ],
      "text/plain": [
       "            block_timestamp   event_name  \\\n",
       "0  2023-10-27T13:33:23.000Z  SetDelegate   \n",
       "1  2023-10-27T11:01:23.000Z  SetDelegate   \n",
       "2  2023-10-27T09:32:47.000Z  SetDelegate   \n",
       "3  2023-10-26T22:46:11.000Z  SetDelegate   \n",
       "4  2023-10-26T16:16:47.000Z  SetDelegate   \n",
       "\n",
       "                                     delegate  \\\n",
       "0  0xde1e6a7ed0ad3f61d531a8a78e83ccddbd6e0c49   \n",
       "1  0xde1e6a7ed0ad3f61d531a8a78e83ccddbd6e0c49   \n",
       "2  0x56f610e0c5f2f64a6b599cc5481d35e70d2e63e7   \n",
       "3  0x68378fcb3a27d5613afcfddb590d35a6e751972c   \n",
       "4  0x947b7742c403f20e5faccdac5e092c943e7d0277   \n",
       "\n",
       "                                    delegator  \\\n",
       "0  0x4432e64624f4c64633466655de3d5132ad407343   \n",
       "1  0xca1146c1d1b26ca782f7388096462189fb09113f   \n",
       "2  0xfedcaa011c9fc474d8cb063cef1b8d1772b40f28   \n",
       "3  0x5275817b74021e97c980e95ede6bbac0d0d6f3a2   \n",
       "4  0x886969be23b1a38008021c418aae5df8b0efeab9   \n",
       "\n",
       "                                                  id  \\\n",
       "0  0x6376782e657468000000000000000000000000000000...   \n",
       "1  0x6376782e657468000000000000000000000000000000...   \n",
       "2  0x6376782e657468000000000000000000000000000000...   \n",
       "3  0x6376782e657468000000000000000000000000000000...   \n",
       "4  0x6376782e657468000000000000000000000000000000...   \n",
       "\n",
       "                          origin_from_address  \\\n",
       "0  0x4432e64624f4c64633466655de3d5132ad407343   \n",
       "1  0xca1146c1d1b26ca782f7388096462189fb09113f   \n",
       "2  0xfedcaa011c9fc474d8cb063cef1b8d1772b40f28   \n",
       "3  0x5275817b74021e97c980e95ede6bbac0d0d6f3a2   \n",
       "4  0x886969be23b1a38008021c418aae5df8b0efeab9   \n",
       "\n",
       "                                             tx_hash __row_index  \n",
       "0  0x448e2a2567cdefe83e72e7d5bc5bc2fe1da9cf01a316...           0  \n",
       "1  0x25c6b1b420e6ce892a6d5db12c59a9d37c4bf07eb9c2...           1  \n",
       "2  0x7e10494c25c953370963fea6e0345830f7a22e66de79...           2  \n",
       "3  0x9e758790bd92f31b63647d6c9294710d12c6e7d2da74...           3  \n",
       "4  0xcf1505bc9533c3b5aee380f190779219992f6e73be01...           4  "
      ]
     },
     "execution_count": 8,
     "metadata": {},
     "output_type": "execute_result"
    }
   ],
   "source": [
    "df_delegations.head(5)"
   ]
  },
  {
   "cell_type": "code",
   "execution_count": 9,
   "metadata": {},
   "outputs": [
    {
     "data": {
      "text/html": [
       "<div>\n",
       "<style scoped>\n",
       "    .dataframe tbody tr th:only-of-type {\n",
       "        vertical-align: middle;\n",
       "    }\n",
       "\n",
       "    .dataframe tbody tr th {\n",
       "        vertical-align: top;\n",
       "    }\n",
       "\n",
       "    .dataframe thead th {\n",
       "        text-align: right;\n",
       "    }\n",
       "</style>\n",
       "<table border=\"1\" class=\"dataframe\">\n",
       "  <thead>\n",
       "    <tr style=\"text-align: right;\">\n",
       "      <th></th>\n",
       "      <th>block_timestamp</th>\n",
       "      <th>event_name</th>\n",
       "      <th>user</th>\n",
       "      <th>_epoch</th>\n",
       "      <th>locked_amount</th>\n",
       "      <th>boosted_amount</th>\n",
       "      <th>paid_amount</th>\n",
       "      <th>withdrawn_amount</th>\n",
       "      <th>relocked</th>\n",
       "      <th>tx_hash</th>\n",
       "      <th>__row_index</th>\n",
       "    </tr>\n",
       "  </thead>\n",
       "  <tbody>\n",
       "    <tr>\n",
       "      <th>0</th>\n",
       "      <td>2023-09-28T06:53:59.000Z</td>\n",
       "      <td>Staked</td>\n",
       "      <td>0xd334533980c201c1b93e39bbe6bd1e04be5c0f5d</td>\n",
       "      <td>1696464000</td>\n",
       "      <td>1876.080585521</td>\n",
       "      <td>1876.080585521</td>\n",
       "      <td>1876.080585521</td>\n",
       "      <td>0</td>\n",
       "      <td>False</td>\n",
       "      <td>0xa08fb5686be2eee0bca1bc09cefa1faea3062114639e...</td>\n",
       "      <td>0</td>\n",
       "    </tr>\n",
       "    <tr>\n",
       "      <th>1</th>\n",
       "      <td>2023-09-28T06:45:59.000Z</td>\n",
       "      <td>Staked</td>\n",
       "      <td>0xd683ca4ee6327cf09cb51adc8236aafea9493cd1</td>\n",
       "      <td>1696464000</td>\n",
       "      <td>2189.366909445</td>\n",
       "      <td>2189.366909445</td>\n",
       "      <td>2189.366909445</td>\n",
       "      <td>0</td>\n",
       "      <td>False</td>\n",
       "      <td>0x21edc20ec7f21019e6158cc3f4518ca43740b509d64c...</td>\n",
       "      <td>1</td>\n",
       "    </tr>\n",
       "    <tr>\n",
       "      <th>2</th>\n",
       "      <td>2023-09-28T06:29:35.000Z</td>\n",
       "      <td>Staked</td>\n",
       "      <td>0x0961f86626e297450073048a2c2ad9657fe56fbe</td>\n",
       "      <td>1695859200</td>\n",
       "      <td>2964.318996663</td>\n",
       "      <td>2964.318996663</td>\n",
       "      <td>2964.318996663</td>\n",
       "      <td>0</td>\n",
       "      <td>False</td>\n",
       "      <td>0xee34ae33271c454ecb9e22c35d6faf794014c757a71a...</td>\n",
       "      <td>2</td>\n",
       "    </tr>\n",
       "    <tr>\n",
       "      <th>3</th>\n",
       "      <td>2023-09-28T06:25:35.000Z</td>\n",
       "      <td>Staked</td>\n",
       "      <td>0x7d354d291a7e750672bc9002c2323a112f9de719</td>\n",
       "      <td>1695859200</td>\n",
       "      <td>1030.0</td>\n",
       "      <td>1030.0</td>\n",
       "      <td>1030.0</td>\n",
       "      <td>0</td>\n",
       "      <td>False</td>\n",
       "      <td>0xe8902e2cf639efbc27c5d1e86db2bb7ca6a6021d0dd5...</td>\n",
       "      <td>3</td>\n",
       "    </tr>\n",
       "    <tr>\n",
       "      <th>4</th>\n",
       "      <td>2023-09-28T06:01:11.000Z</td>\n",
       "      <td>Staked</td>\n",
       "      <td>0x7423fab4f4835ebdaa204c1e439792c7a75cb3f9</td>\n",
       "      <td>1695859200</td>\n",
       "      <td>231.406267742</td>\n",
       "      <td>231.406267742</td>\n",
       "      <td>231.406267742</td>\n",
       "      <td>0</td>\n",
       "      <td>False</td>\n",
       "      <td>0xd50a241bdfa973b13a66cf90cbd847645b6638a93cbf...</td>\n",
       "      <td>4</td>\n",
       "    </tr>\n",
       "  </tbody>\n",
       "</table>\n",
       "</div>"
      ],
      "text/plain": [
       "            block_timestamp event_name  \\\n",
       "0  2023-09-28T06:53:59.000Z     Staked   \n",
       "1  2023-09-28T06:45:59.000Z     Staked   \n",
       "2  2023-09-28T06:29:35.000Z     Staked   \n",
       "3  2023-09-28T06:25:35.000Z     Staked   \n",
       "4  2023-09-28T06:01:11.000Z     Staked   \n",
       "\n",
       "                                         user      _epoch   locked_amount  \\\n",
       "0  0xd334533980c201c1b93e39bbe6bd1e04be5c0f5d  1696464000  1876.080585521   \n",
       "1  0xd683ca4ee6327cf09cb51adc8236aafea9493cd1  1696464000  2189.366909445   \n",
       "2  0x0961f86626e297450073048a2c2ad9657fe56fbe  1695859200  2964.318996663   \n",
       "3  0x7d354d291a7e750672bc9002c2323a112f9de719  1695859200          1030.0   \n",
       "4  0x7423fab4f4835ebdaa204c1e439792c7a75cb3f9  1695859200   231.406267742   \n",
       "\n",
       "   boosted_amount     paid_amount withdrawn_amount relocked  \\\n",
       "0  1876.080585521  1876.080585521                0    False   \n",
       "1  2189.366909445  2189.366909445                0    False   \n",
       "2  2964.318996663  2964.318996663                0    False   \n",
       "3          1030.0          1030.0                0    False   \n",
       "4   231.406267742   231.406267742                0    False   \n",
       "\n",
       "                                             tx_hash __row_index  \n",
       "0  0xa08fb5686be2eee0bca1bc09cefa1faea3062114639e...           0  \n",
       "1  0x21edc20ec7f21019e6158cc3f4518ca43740b509d64c...           1  \n",
       "2  0xee34ae33271c454ecb9e22c35d6faf794014c757a71a...           2  \n",
       "3  0xe8902e2cf639efbc27c5d1e86db2bb7ca6a6021d0dd5...           3  \n",
       "4  0xd50a241bdfa973b13a66cf90cbd847645b6638a93cbf...           4  "
      ]
     },
     "execution_count": 9,
     "metadata": {},
     "output_type": "execute_result"
    }
   ],
   "source": [
    "df_locker.head(5)"
   ]
  },
  {
   "cell_type": "code",
   "execution_count": 10,
   "metadata": {},
   "outputs": [],
   "source": [
    "for i, row in df_locker.iterrows():\n",
    "    if row['locked_amount'] != row['boosted_amount']:\n",
    "        print( f\"locked: {row['locked_amount']} \\nboosted: {row['boosted_amount']}\")\n",
    "    if row['locked_amount'] != row['paid_amount']:\n",
    "        print( f\"locked: {row['locked_amount']} \\paid:\\t {row['paid_amount']}\")"
   ]
  },
  {
   "cell_type": "code",
   "execution_count": 11,
   "metadata": {},
   "outputs": [
    {
     "data": {
      "text/html": [
       "<div>\n",
       "<style scoped>\n",
       "    .dataframe tbody tr th:only-of-type {\n",
       "        vertical-align: middle;\n",
       "    }\n",
       "\n",
       "    .dataframe tbody tr th {\n",
       "        vertical-align: top;\n",
       "    }\n",
       "\n",
       "    .dataframe thead th {\n",
       "        text-align: right;\n",
       "    }\n",
       "</style>\n",
       "<table border=\"1\" class=\"dataframe\">\n",
       "  <thead>\n",
       "    <tr style=\"text-align: right;\">\n",
       "      <th></th>\n",
       "      <th>proposal_title</th>\n",
       "      <th>voter</th>\n",
       "      <th>known_as</th>\n",
       "      <th>choice</th>\n",
       "      <th>choice_index</th>\n",
       "      <th>voting_weight</th>\n",
       "      <th>total_weight</th>\n",
       "      <th>choice_percent</th>\n",
       "      <th>available_power</th>\n",
       "      <th>choice_power</th>\n",
       "      <th>timestamp</th>\n",
       "      <th>proposal_start</th>\n",
       "      <th>proposal_end</th>\n",
       "      <th>period_end_date</th>\n",
       "      <th>period</th>\n",
       "      <th>valid</th>\n",
       "      <th>vote_id</th>\n",
       "      <th>gauge_addr</th>\n",
       "      <th></th>\n",
       "    </tr>\n",
       "  </thead>\n",
       "  <tbody>\n",
       "    <tr>\n",
       "      <th>0</th>\n",
       "      <td>Gauge Weight for Week of 22nd Dec 2022</td>\n",
       "      <td>0x79e76c14b3bb6236dfc06d2d7ff219c8b070169c</td>\n",
       "      <td>Reserve Delegate 1</td>\n",
       "      <td>RSR+FRAXBP (0x6a62…)</td>\n",
       "      <td>110</td>\n",
       "      <td>100.0</td>\n",
       "      <td>100.0</td>\n",
       "      <td>1.0</td>\n",
       "      <td>968449.0</td>\n",
       "      <td>968449.0</td>\n",
       "      <td>2022-12-22 00:02:56.000</td>\n",
       "      <td>2022-12-22 00:00:25.000</td>\n",
       "      <td>2022-12-27 00:00:25.000</td>\n",
       "      <td>2022-12-29</td>\n",
       "      <td>2022.52</td>\n",
       "      <td>True</td>\n",
       "      <td>0</td>\n",
       "      <td>0x8c94e9a3b68316fba06ba6666acdfc2dc7b7f623</td>\n",
       "      <td>NaN</td>\n",
       "    </tr>\n",
       "    <tr>\n",
       "      <th>711</th>\n",
       "      <td>Gauge Weight for Week of 22nd Dec 2022</td>\n",
       "      <td>0xc8e33e8b915f953ada2fbcd64fc28ea725125602</td>\n",
       "      <td>_</td>\n",
       "      <td>BUSD+FRAXBP (0x8fdb…)</td>\n",
       "      <td>92</td>\n",
       "      <td>1.0</td>\n",
       "      <td>1.0</td>\n",
       "      <td>1.0</td>\n",
       "      <td>6253.0</td>\n",
       "      <td>6253.0</td>\n",
       "      <td>2022-12-26 13:40:28.000</td>\n",
       "      <td>2022-12-22 00:00:25.000</td>\n",
       "      <td>2022-12-27 00:00:25.000</td>\n",
       "      <td>2022-12-29</td>\n",
       "      <td>2022.52</td>\n",
       "      <td>True</td>\n",
       "      <td>485</td>\n",
       "      <td>0xaeac6dcd12cc0be74c8f99efe4bb5205a1f9a608</td>\n",
       "      <td>NaN</td>\n",
       "    </tr>\n",
       "    <tr>\n",
       "      <th>712</th>\n",
       "      <td>Gauge Weight for Week of 22nd Dec 2022</td>\n",
       "      <td>0x41b9f4c5810a2c13629e240e81bfccaf1a864348</td>\n",
       "      <td>_</td>\n",
       "      <td>CRV+cvxCRV (0x9D04…)</td>\n",
       "      <td>33</td>\n",
       "      <td>1.0</td>\n",
       "      <td>1.0</td>\n",
       "      <td>1.0</td>\n",
       "      <td>669.0</td>\n",
       "      <td>669.0</td>\n",
       "      <td>2022-12-26 13:44:14.000</td>\n",
       "      <td>2022-12-22 00:00:25.000</td>\n",
       "      <td>2022-12-27 00:00:25.000</td>\n",
       "      <td>2022-12-29</td>\n",
       "      <td>2022.52</td>\n",
       "      <td>True</td>\n",
       "      <td>486</td>\n",
       "      <td>0x903da6213a5a12b61c821598154efad98c3b20e4</td>\n",
       "      <td>NaN</td>\n",
       "    </tr>\n",
       "    <tr>\n",
       "      <th>713</th>\n",
       "      <td>Gauge Weight for Week of 22nd Dec 2022</td>\n",
       "      <td>0x9c570be42ad43c251a1997fe9e231d742358c386</td>\n",
       "      <td>_</td>\n",
       "      <td>FRAX+3Crv (0xd632…)</td>\n",
       "      <td>25</td>\n",
       "      <td>1.0</td>\n",
       "      <td>1.0</td>\n",
       "      <td>1.0</td>\n",
       "      <td>6419.0</td>\n",
       "      <td>6419.0</td>\n",
       "      <td>2022-12-26 13:48:12.000</td>\n",
       "      <td>2022-12-22 00:00:25.000</td>\n",
       "      <td>2022-12-27 00:00:25.000</td>\n",
       "      <td>2022-12-29</td>\n",
       "      <td>2022.52</td>\n",
       "      <td>True</td>\n",
       "      <td>487</td>\n",
       "      <td>0x72e158d38dbd50a483501c24f792bdaaa3e7d55c</td>\n",
       "      <td>NaN</td>\n",
       "    </tr>\n",
       "    <tr>\n",
       "      <th>714</th>\n",
       "      <td>Gauge Weight for Week of 22nd Dec 2022</td>\n",
       "      <td>0x5c7fce16aef068cc7d35cb8d9a880dd36809bf72</td>\n",
       "      <td>_</td>\n",
       "      <td>FRAX+3Crv (0xd632…)</td>\n",
       "      <td>25</td>\n",
       "      <td>1.0</td>\n",
       "      <td>1.0</td>\n",
       "      <td>1.0</td>\n",
       "      <td>817.0</td>\n",
       "      <td>817.0</td>\n",
       "      <td>2022-12-26 13:49:11.000</td>\n",
       "      <td>2022-12-22 00:00:25.000</td>\n",
       "      <td>2022-12-27 00:00:25.000</td>\n",
       "      <td>2022-12-29</td>\n",
       "      <td>2022.52</td>\n",
       "      <td>True</td>\n",
       "      <td>488</td>\n",
       "      <td>0x72e158d38dbd50a483501c24f792bdaaa3e7d55c</td>\n",
       "      <td>NaN</td>\n",
       "    </tr>\n",
       "  </tbody>\n",
       "</table>\n",
       "</div>"
      ],
      "text/plain": [
       "                             proposal_title  \\\n",
       "0    Gauge Weight for Week of 22nd Dec 2022   \n",
       "711  Gauge Weight for Week of 22nd Dec 2022   \n",
       "712  Gauge Weight for Week of 22nd Dec 2022   \n",
       "713  Gauge Weight for Week of 22nd Dec 2022   \n",
       "714  Gauge Weight for Week of 22nd Dec 2022   \n",
       "\n",
       "                                          voter            known_as  \\\n",
       "0    0x79e76c14b3bb6236dfc06d2d7ff219c8b070169c  Reserve Delegate 1   \n",
       "711  0xc8e33e8b915f953ada2fbcd64fc28ea725125602                   _   \n",
       "712  0x41b9f4c5810a2c13629e240e81bfccaf1a864348                   _   \n",
       "713  0x9c570be42ad43c251a1997fe9e231d742358c386                   _   \n",
       "714  0x5c7fce16aef068cc7d35cb8d9a880dd36809bf72                   _   \n",
       "\n",
       "                    choice  choice_index  voting_weight  total_weight  \\\n",
       "0     RSR+FRAXBP (0x6a62…)           110          100.0         100.0   \n",
       "711  BUSD+FRAXBP (0x8fdb…)            92            1.0           1.0   \n",
       "712   CRV+cvxCRV (0x9D04…)            33            1.0           1.0   \n",
       "713    FRAX+3Crv (0xd632…)            25            1.0           1.0   \n",
       "714    FRAX+3Crv (0xd632…)            25            1.0           1.0   \n",
       "\n",
       "     choice_percent  available_power  choice_power                timestamp  \\\n",
       "0               1.0         968449.0      968449.0  2022-12-22 00:02:56.000   \n",
       "711             1.0           6253.0        6253.0  2022-12-26 13:40:28.000   \n",
       "712             1.0            669.0         669.0  2022-12-26 13:44:14.000   \n",
       "713             1.0           6419.0        6419.0  2022-12-26 13:48:12.000   \n",
       "714             1.0            817.0         817.0  2022-12-26 13:49:11.000   \n",
       "\n",
       "              proposal_start             proposal_end period_end_date  \\\n",
       "0    2022-12-22 00:00:25.000  2022-12-27 00:00:25.000      2022-12-29   \n",
       "711  2022-12-22 00:00:25.000  2022-12-27 00:00:25.000      2022-12-29   \n",
       "712  2022-12-22 00:00:25.000  2022-12-27 00:00:25.000      2022-12-29   \n",
       "713  2022-12-22 00:00:25.000  2022-12-27 00:00:25.000      2022-12-29   \n",
       "714  2022-12-22 00:00:25.000  2022-12-27 00:00:25.000      2022-12-29   \n",
       "\n",
       "      period  valid vote_id                                  gauge_addr       \n",
       "0    2022.52   True       0  0x8c94e9a3b68316fba06ba6666acdfc2dc7b7f623  NaN  \n",
       "711  2022.52   True     485  0xaeac6dcd12cc0be74c8f99efe4bb5205a1f9a608  NaN  \n",
       "712  2022.52   True     486  0x903da6213a5a12b61c821598154efad98c3b20e4  NaN  \n",
       "713  2022.52   True     487  0x72e158d38dbd50a483501c24f792bdaaa3e7d55c  NaN  \n",
       "714  2022.52   True     488  0x72e158d38dbd50a483501c24f792bdaaa3e7d55c  NaN  "
      ]
     },
     "execution_count": 11,
     "metadata": {},
     "output_type": "execute_result"
    }
   ],
   "source": [
    "df_convex_snapshot_vote_choice.head(5)"
   ]
  },
  {
   "cell_type": "code",
   "execution_count": 12,
   "metadata": {},
   "outputs": [],
   "source": [
    "# def get_date_obj(time):\n",
    "#     if type(time) == str:\n",
    "#         if 'T' in time:\n",
    "#             try:\n",
    "#                 split = time.split(\"T\")\n",
    "#                 time = split[0]+\" \"+split[1][:-1]\n",
    "#                 # row['block_timestamp'] = dt.strptime(row['block_timestamp'], '%Y-%m-%d %H:%M:%S.%f'),\n",
    "#             except:\n",
    "#                 pass\n",
    "#         try:\n",
    "#             time = dt.strptime(time,'%Y-%m-%d %H:%M:%S.%f')\n",
    "#         except:\n",
    "#             time = dt.strptime(time,'%Y-%m-%d %H:%M:%S')      \n",
    "#     return time"
   ]
  },
  {
   "cell_type": "markdown",
   "metadata": {},
   "source": [
    "# Process Convex Locker"
   ]
  },
  {
   "cell_type": "code",
   "execution_count": 86,
   "metadata": {},
   "outputs": [],
   "source": [
    "class ProcessConvexLocker():\n",
    "    def __init__(self, df_locker):\n",
    "        self.df_locker = df_locker\n",
    "        # self.df_locker_aggregate = []\n",
    "        \n",
    "        self.df_user_epoch = [] # All locks\n",
    "        self.df_aggregate_user_epoch = []   # Sum of locks per lock per epoch per user\n",
    "        self.df_aggregate_system = [] # Aggregate sum of locks per epoch\n",
    "        self.df_aggregate_epoch = [] # Aggregate sum of locks per user per epoch\n",
    "        self.df_aggregate_epoch_current = [] # only current aggregate epoch\n",
    "        self.process()\n",
    "        self.process_user_epoch()\n",
    "        self.process_aggregate_user_epoch()\n",
    "        self.process_aggregate_system()\n",
    "        self.process_aggregate_epoch()\n",
    "\n",
    "    def process(self):\n",
    "        self.df_locker['locked_amount'] = self.df_locker['locked_amount'].astype(float)\n",
    "        self.df_locker['epoch_start'] = self.df_locker['_epoch'].apply(get_dt_from_timestamp)\n",
    "        self.df_locker['epoch_end'] = self.df_locker['epoch_start'].apply(lambda x: shift_time_days(x,16*7))\n",
    "        self.df_locker['known_as'] = self.df_locker['user'].apply(lambda x: self.known_as(x))\n",
    "        self.df_locker['display_name'] = self.df_locker.apply(lambda x: self.display_name(x['user'], x['known_as']), axis=1)\n",
    "    \n",
    "    def known_as(self, user):\n",
    "        if user in known_large_cvx_holders_addresses:\n",
    "            return known_large_cvx_holders_addresses[user]\n",
    "        else:\n",
    "            return \"_\"\n",
    "\n",
    "\n",
    "    def display_name(self, user, known_as ):\n",
    "        # print(user)\n",
    "        # print(known_as)\n",
    "        if known_as:\n",
    "            return f\"{known_as} ({user[:6]})\"\n",
    "        else:\n",
    "            return f\"({user[:6]})\"\n",
    "\n",
    "    # Calculate total balance for individual locks at each epoch per user\n",
    "    def process_user_epoch(self, df=[]):\n",
    "        if len(df) == 0:\n",
    "            df = self.df_locker\n",
    "        furthest_epoch = df.epoch_end.max()\n",
    "        this_epoch = df.epoch_start.min()\n",
    "        local_list = []\n",
    "        while this_epoch <= furthest_epoch:\n",
    "            this_epoch_lag = shift_time_days(this_epoch, -1)\n",
    "            this_epoch_buff = shift_time_days(this_epoch, 1)\n",
    "            df_local = df[df['epoch_start'] <= this_epoch_buff ]\n",
    "            df_local = df_local[df_local['epoch_end'] > this_epoch_lag ]\n",
    "            df_local = df_local.groupby([\n",
    "                    'epoch_start', 'epoch_end', 'user', 'known_as', 'display_name',\n",
    "                ])['locked_amount'].agg(['sum', 'count']).reset_index()\n",
    "            df_local = df_local.rename(columns={\n",
    "                        \"sum\": 'current_locked',\n",
    "                        \"count\": 'lock_count'\n",
    "                        })\n",
    "            df_local['this_epoch'] = this_epoch\n",
    "            local_list.append(df_local)\n",
    "            this_epoch = shift_time_days(this_epoch, 7)\n",
    "        self.df_user_epoch = pd.concat(local_list)\n",
    "        return\n",
    "    \n",
    "    # Calculate total balance of locks at each epoch per user\n",
    "    def process_aggregate_user_epoch(self):\n",
    "        self.df_aggregate_user_epoch = self.df_user_epoch.groupby([\n",
    "                'this_epoch', 'user', 'known_as', 'display_name'\n",
    "            ]).agg(\n",
    "            current_locked=pd.NamedAgg(column='current_locked', aggfunc=sum),\n",
    "            lock_count=pd.NamedAgg(column='lock_count', aggfunc=sum)\n",
    "        ).reset_index()\n",
    "        return\n",
    "    \n",
    "    # Calculate total locked per epoch (sum all locks within an epoch)\n",
    "    # And create filter for only currently locked epochs\n",
    "    def process_aggregate_epoch(self):\n",
    "        self.df_aggregate_epoch = self.df_locker.groupby([\n",
    "                'epoch_start',\n",
    "                'epoch_end',\n",
    "            ]).agg(\n",
    "            locked_amount=pd.NamedAgg(column='locked_amount', aggfunc=sum),\n",
    "            lock_count=pd.NamedAgg(column='tx_hash', aggfunc=sum)\n",
    "\n",
    "        ).reset_index()\n",
    "        now_epoch = self.df_aggregate_epoch[self.df_aggregate_epoch['epoch_start'] <= dt.now()].epoch_start.max()\n",
    "        self.df_aggregate_epoch_current = self.df_aggregate_epoch[self.df_aggregate_epoch['epoch_end'] >= now_epoch]\n",
    "        return\n",
    "    \n",
    "    \n",
    "    # Calculate total locked each epoch (sum all currently active epochs) \n",
    "    def process_aggregate_system(self):\n",
    "        self.df_aggregate_system = self.df_aggregate_user_epoch.groupby([\n",
    "                'this_epoch',\n",
    "            ]).agg(\n",
    "            total_locked=pd.NamedAgg(column='current_locked', aggfunc=sum),\n",
    "            lock_count=pd.NamedAgg(column='lock_count', aggfunc=sum),\n",
    "            user_count=pd.NamedAgg(column='user', aggfunc=lambda x: len(x.unique()))\n",
    "        ).reset_index()\n",
    "        return"
   ]
  },
  {
   "cell_type": "code",
   "execution_count": 87,
   "metadata": {},
   "outputs": [],
   "source": [
    "pcl = ProcessConvexLocker(df_locker)\n",
    "pcl_base = pcl.df_locker\n",
    "pcl_user = pcl.df_user_epoch\n",
    "pcl_agg_user = pcl.df_aggregate_user_epoch\n",
    "pcl_agg_system = pcl.df_aggregate_system\n",
    "pcl_agg_epoch = pcl.df_aggregate_epoch\n",
    "pcl_agg_current = pcl.df_aggregate_epoch_current"
   ]
  },
  {
   "cell_type": "code",
   "execution_count": 41,
   "metadata": {},
   "outputs": [
    {
     "data": {
      "text/html": [
       "<div>\n",
       "<style scoped>\n",
       "    .dataframe tbody tr th:only-of-type {\n",
       "        vertical-align: middle;\n",
       "    }\n",
       "\n",
       "    .dataframe tbody tr th {\n",
       "        vertical-align: top;\n",
       "    }\n",
       "\n",
       "    .dataframe thead th {\n",
       "        text-align: right;\n",
       "    }\n",
       "</style>\n",
       "<table border=\"1\" class=\"dataframe\">\n",
       "  <thead>\n",
       "    <tr style=\"text-align: right;\">\n",
       "      <th></th>\n",
       "      <th>this_epoch</th>\n",
       "      <th>total_locked</th>\n",
       "      <th>lock_count</th>\n",
       "      <th>user_count</th>\n",
       "    </tr>\n",
       "  </thead>\n",
       "  <tbody>\n",
       "    <tr>\n",
       "      <th>0</th>\n",
       "      <td>2022-03-09 19:00:00</td>\n",
       "      <td>2.748035e+07</td>\n",
       "      <td>2942</td>\n",
       "      <td>2594</td>\n",
       "    </tr>\n",
       "    <tr>\n",
       "      <th>1</th>\n",
       "      <td>2022-03-16 19:00:00</td>\n",
       "      <td>2.748035e+07</td>\n",
       "      <td>2942</td>\n",
       "      <td>2594</td>\n",
       "    </tr>\n",
       "    <tr>\n",
       "      <th>2</th>\n",
       "      <td>2022-03-23 19:00:00</td>\n",
       "      <td>3.620358e+07</td>\n",
       "      <td>4025</td>\n",
       "      <td>3258</td>\n",
       "    </tr>\n",
       "    <tr>\n",
       "      <th>3</th>\n",
       "      <td>2022-03-30 19:00:00</td>\n",
       "      <td>3.759359e+07</td>\n",
       "      <td>4732</td>\n",
       "      <td>3608</td>\n",
       "    </tr>\n",
       "    <tr>\n",
       "      <th>4</th>\n",
       "      <td>2022-04-06 19:00:00</td>\n",
       "      <td>4.081950e+07</td>\n",
       "      <td>5519</td>\n",
       "      <td>3929</td>\n",
       "    </tr>\n",
       "    <tr>\n",
       "      <th>...</th>\n",
       "      <td>...</td>\n",
       "      <td>...</td>\n",
       "      <td>...</td>\n",
       "      <td>...</td>\n",
       "    </tr>\n",
       "    <tr>\n",
       "      <th>101</th>\n",
       "      <td>2024-02-14 19:00:00</td>\n",
       "      <td>1.592350e+07</td>\n",
       "      <td>1478</td>\n",
       "      <td>973</td>\n",
       "    </tr>\n",
       "    <tr>\n",
       "      <th>102</th>\n",
       "      <td>2024-02-21 19:00:00</td>\n",
       "      <td>1.242299e+07</td>\n",
       "      <td>1184</td>\n",
       "      <td>811</td>\n",
       "    </tr>\n",
       "    <tr>\n",
       "      <th>103</th>\n",
       "      <td>2024-02-28 19:00:00</td>\n",
       "      <td>7.503665e+06</td>\n",
       "      <td>564</td>\n",
       "      <td>431</td>\n",
       "    </tr>\n",
       "    <tr>\n",
       "      <th>104</th>\n",
       "      <td>2024-03-06 19:00:00</td>\n",
       "      <td>3.816822e+06</td>\n",
       "      <td>289</td>\n",
       "      <td>239</td>\n",
       "    </tr>\n",
       "    <tr>\n",
       "      <th>105</th>\n",
       "      <td>2024-03-13 19:00:00</td>\n",
       "      <td>7.542133e+05</td>\n",
       "      <td>64</td>\n",
       "      <td>54</td>\n",
       "    </tr>\n",
       "  </tbody>\n",
       "</table>\n",
       "<p>106 rows × 4 columns</p>\n",
       "</div>"
      ],
      "text/plain": [
       "             this_epoch  total_locked  lock_count  user_count\n",
       "0   2022-03-09 19:00:00  2.748035e+07        2942        2594\n",
       "1   2022-03-16 19:00:00  2.748035e+07        2942        2594\n",
       "2   2022-03-23 19:00:00  3.620358e+07        4025        3258\n",
       "3   2022-03-30 19:00:00  3.759359e+07        4732        3608\n",
       "4   2022-04-06 19:00:00  4.081950e+07        5519        3929\n",
       "..                  ...           ...         ...         ...\n",
       "101 2024-02-14 19:00:00  1.592350e+07        1478         973\n",
       "102 2024-02-21 19:00:00  1.242299e+07        1184         811\n",
       "103 2024-02-28 19:00:00  7.503665e+06         564         431\n",
       "104 2024-03-06 19:00:00  3.816822e+06         289         239\n",
       "105 2024-03-13 19:00:00  7.542133e+05          64          54\n",
       "\n",
       "[106 rows x 4 columns]"
      ]
     },
     "execution_count": 41,
     "metadata": {},
     "output_type": "execute_result"
    }
   ],
   "source": [
    "pcl_agg_system"
   ]
  },
  {
   "cell_type": "code",
   "execution_count": 15,
   "metadata": {},
   "outputs": [
    {
     "data": {
      "text/plain": [
       "629.712"
      ]
     },
     "execution_count": 15,
     "metadata": {},
     "output_type": "execute_result"
    }
   ],
   "source": [
    "len(pcl_user) / 1000"
   ]
  },
  {
   "cell_type": "code",
   "execution_count": 16,
   "metadata": {},
   "outputs": [
    {
     "data": {
      "text/html": [
       "<div>\n",
       "<style scoped>\n",
       "    .dataframe tbody tr th:only-of-type {\n",
       "        vertical-align: middle;\n",
       "    }\n",
       "\n",
       "    .dataframe tbody tr th {\n",
       "        vertical-align: top;\n",
       "    }\n",
       "\n",
       "    .dataframe thead th {\n",
       "        text-align: right;\n",
       "    }\n",
       "</style>\n",
       "<table border=\"1\" class=\"dataframe\">\n",
       "  <thead>\n",
       "    <tr style=\"text-align: right;\">\n",
       "      <th></th>\n",
       "      <th>this_epoch</th>\n",
       "      <th>user</th>\n",
       "      <th>known_as</th>\n",
       "      <th>display_name</th>\n",
       "      <th>current_locked</th>\n",
       "      <th>lock_count</th>\n",
       "    </tr>\n",
       "  </thead>\n",
       "  <tbody>\n",
       "    <tr>\n",
       "      <th>308709</th>\n",
       "      <td>2023-11-29 19:00:00</td>\n",
       "      <td>0x0001f85d5eecc0a176e6197690baa3e62bde35c5</td>\n",
       "      <td>_</td>\n",
       "      <td>_ (0x0001)</td>\n",
       "      <td>305.424250</td>\n",
       "      <td>1</td>\n",
       "    </tr>\n",
       "    <tr>\n",
       "      <th>308710</th>\n",
       "      <td>2023-11-29 19:00:00</td>\n",
       "      <td>0x0034daf2e65f6ef82bc6f893dbbfd7c232a0e59c</td>\n",
       "      <td>_</td>\n",
       "      <td>_ (0x0034)</td>\n",
       "      <td>4594.425353</td>\n",
       "      <td>5</td>\n",
       "    </tr>\n",
       "    <tr>\n",
       "      <th>308711</th>\n",
       "      <td>2023-11-29 19:00:00</td>\n",
       "      <td>0x0050dac04ca9a20361ea0ba447d9e92ee78de445</td>\n",
       "      <td>_</td>\n",
       "      <td>_ (0x0050)</td>\n",
       "      <td>1950.108040</td>\n",
       "      <td>1</td>\n",
       "    </tr>\n",
       "    <tr>\n",
       "      <th>308712</th>\n",
       "      <td>2023-11-29 19:00:00</td>\n",
       "      <td>0x0065ec16a5eb2a291dc6f7076e1255a418c52ffd</td>\n",
       "      <td>_</td>\n",
       "      <td>_ (0x0065)</td>\n",
       "      <td>111.307479</td>\n",
       "      <td>1</td>\n",
       "    </tr>\n",
       "    <tr>\n",
       "      <th>308713</th>\n",
       "      <td>2023-11-29 19:00:00</td>\n",
       "      <td>0x0079f92ba09c15b21a62ba97caaf2e3aa4531643</td>\n",
       "      <td>_</td>\n",
       "      <td>_ (0x0079)</td>\n",
       "      <td>2534.135395</td>\n",
       "      <td>1</td>\n",
       "    </tr>\n",
       "    <tr>\n",
       "      <th>...</th>\n",
       "      <td>...</td>\n",
       "      <td>...</td>\n",
       "      <td>...</td>\n",
       "      <td>...</td>\n",
       "      <td>...</td>\n",
       "      <td>...</td>\n",
       "    </tr>\n",
       "    <tr>\n",
       "      <th>310745</th>\n",
       "      <td>2023-11-29 19:00:00</td>\n",
       "      <td>0xff3bd22870c5c4d097619d75d7e2be056581b013</td>\n",
       "      <td>_</td>\n",
       "      <td>_ (0xff3b)</td>\n",
       "      <td>29580.378115</td>\n",
       "      <td>22</td>\n",
       "    </tr>\n",
       "    <tr>\n",
       "      <th>310746</th>\n",
       "      <td>2023-11-29 19:00:00</td>\n",
       "      <td>0xff597632d59c49e918fe26cda385f37a0db8a713</td>\n",
       "      <td>_</td>\n",
       "      <td>_ (0xff59)</td>\n",
       "      <td>3063.467325</td>\n",
       "      <td>1</td>\n",
       "    </tr>\n",
       "    <tr>\n",
       "      <th>310747</th>\n",
       "      <td>2023-11-29 19:00:00</td>\n",
       "      <td>0xff9a717fcf03318485579c4b553820edf73adf0a</td>\n",
       "      <td>_</td>\n",
       "      <td>_ (0xff9a)</td>\n",
       "      <td>73930.082958</td>\n",
       "      <td>1</td>\n",
       "    </tr>\n",
       "    <tr>\n",
       "      <th>310748</th>\n",
       "      <td>2023-11-29 19:00:00</td>\n",
       "      <td>0xffd3da76203642d4ee112893f33749a0df7ea7fd</td>\n",
       "      <td>_</td>\n",
       "      <td>_ (0xffd3)</td>\n",
       "      <td>1479.486442</td>\n",
       "      <td>2</td>\n",
       "    </tr>\n",
       "    <tr>\n",
       "      <th>310749</th>\n",
       "      <td>2023-11-29 19:00:00</td>\n",
       "      <td>0xffe4e3986d18333402564ea64f3a83fcc1907b52</td>\n",
       "      <td>_</td>\n",
       "      <td>_ (0xffe4)</td>\n",
       "      <td>26.461834</td>\n",
       "      <td>1</td>\n",
       "    </tr>\n",
       "  </tbody>\n",
       "</table>\n",
       "<p>2041 rows × 6 columns</p>\n",
       "</div>"
      ],
      "text/plain": [
       "                this_epoch                                        user  \\\n",
       "308709 2023-11-29 19:00:00  0x0001f85d5eecc0a176e6197690baa3e62bde35c5   \n",
       "308710 2023-11-29 19:00:00  0x0034daf2e65f6ef82bc6f893dbbfd7c232a0e59c   \n",
       "308711 2023-11-29 19:00:00  0x0050dac04ca9a20361ea0ba447d9e92ee78de445   \n",
       "308712 2023-11-29 19:00:00  0x0065ec16a5eb2a291dc6f7076e1255a418c52ffd   \n",
       "308713 2023-11-29 19:00:00  0x0079f92ba09c15b21a62ba97caaf2e3aa4531643   \n",
       "...                    ...                                         ...   \n",
       "310745 2023-11-29 19:00:00  0xff3bd22870c5c4d097619d75d7e2be056581b013   \n",
       "310746 2023-11-29 19:00:00  0xff597632d59c49e918fe26cda385f37a0db8a713   \n",
       "310747 2023-11-29 19:00:00  0xff9a717fcf03318485579c4b553820edf73adf0a   \n",
       "310748 2023-11-29 19:00:00  0xffd3da76203642d4ee112893f33749a0df7ea7fd   \n",
       "310749 2023-11-29 19:00:00  0xffe4e3986d18333402564ea64f3a83fcc1907b52   \n",
       "\n",
       "       known_as display_name  current_locked  lock_count  \n",
       "308709        _   _ (0x0001)      305.424250           1  \n",
       "308710        _   _ (0x0034)     4594.425353           5  \n",
       "308711        _   _ (0x0050)     1950.108040           1  \n",
       "308712        _   _ (0x0065)      111.307479           1  \n",
       "308713        _   _ (0x0079)     2534.135395           1  \n",
       "...         ...          ...             ...         ...  \n",
       "310745        _   _ (0xff3b)    29580.378115          22  \n",
       "310746        _   _ (0xff59)     3063.467325           1  \n",
       "310747        _   _ (0xff9a)    73930.082958           1  \n",
       "310748        _   _ (0xffd3)     1479.486442           2  \n",
       "310749        _   _ (0xffe4)       26.461834           1  \n",
       "\n",
       "[2041 rows x 6 columns]"
      ]
     },
     "execution_count": 16,
     "metadata": {},
     "output_type": "execute_result"
    }
   ],
   "source": [
    "pcl_agg_user\n",
    "df_locker_agg_user_epoch_current = pcl_agg_user[pcl_agg_user['this_epoch'] >= dt.now()]\n",
    "df_locker_agg_user_epoch_current = df_locker_agg_user_epoch_current[\n",
    "    df_locker_agg_user_epoch_current['this_epoch'] == df_locker_agg_user_epoch_current.this_epoch.min()\n",
    "    ]\n",
    "df_locker_agg_user_epoch_current"
   ]
  },
  {
   "cell_type": "code",
   "execution_count": 17,
   "metadata": {},
   "outputs": [
    {
     "data": {
      "text/html": [
       "<div>\n",
       "<style scoped>\n",
       "    .dataframe tbody tr th:only-of-type {\n",
       "        vertical-align: middle;\n",
       "    }\n",
       "\n",
       "    .dataframe tbody tr th {\n",
       "        vertical-align: top;\n",
       "    }\n",
       "\n",
       "    .dataframe thead th {\n",
       "        text-align: right;\n",
       "    }\n",
       "</style>\n",
       "<table border=\"1\" class=\"dataframe\">\n",
       "  <thead>\n",
       "    <tr style=\"text-align: right;\">\n",
       "      <th></th>\n",
       "      <th>this_epoch</th>\n",
       "      <th>user</th>\n",
       "      <th>known_as</th>\n",
       "      <th>display_name</th>\n",
       "      <th>current_locked</th>\n",
       "      <th>lock_count</th>\n",
       "    </tr>\n",
       "  </thead>\n",
       "  <tbody>\n",
       "    <tr>\n",
       "      <th>73385</th>\n",
       "      <td>2022-06-29 19:00:00</td>\n",
       "      <td>0xc6625129c9df3314a4dd604845488f4ba62f9db8</td>\n",
       "      <td>Reserve</td>\n",
       "      <td>Reserve (0xc662)</td>\n",
       "      <td>5.000000</td>\n",
       "      <td>1</td>\n",
       "    </tr>\n",
       "    <tr>\n",
       "      <th>77797</th>\n",
       "      <td>2022-07-06 19:00:00</td>\n",
       "      <td>0xc6625129c9df3314a4dd604845488f4ba62f9db8</td>\n",
       "      <td>Reserve</td>\n",
       "      <td>Reserve (0xc662)</td>\n",
       "      <td>150005.000000</td>\n",
       "      <td>2</td>\n",
       "    </tr>\n",
       "    <tr>\n",
       "      <th>82315</th>\n",
       "      <td>2022-07-13 19:00:00</td>\n",
       "      <td>0xc6625129c9df3314a4dd604845488f4ba62f9db8</td>\n",
       "      <td>Reserve</td>\n",
       "      <td>Reserve (0xc662)</td>\n",
       "      <td>250005.000000</td>\n",
       "      <td>3</td>\n",
       "    </tr>\n",
       "    <tr>\n",
       "      <th>86805</th>\n",
       "      <td>2022-07-20 19:00:00</td>\n",
       "      <td>0xc6625129c9df3314a4dd604845488f4ba62f9db8</td>\n",
       "      <td>Reserve</td>\n",
       "      <td>Reserve (0xc662)</td>\n",
       "      <td>253468.519532</td>\n",
       "      <td>4</td>\n",
       "    </tr>\n",
       "    <tr>\n",
       "      <th>91217</th>\n",
       "      <td>2022-07-27 19:00:00</td>\n",
       "      <td>0xc6625129c9df3314a4dd604845488f4ba62f9db8</td>\n",
       "      <td>Reserve</td>\n",
       "      <td>Reserve (0xc662)</td>\n",
       "      <td>353468.519532</td>\n",
       "      <td>5</td>\n",
       "    </tr>\n",
       "    <tr>\n",
       "      <th>...</th>\n",
       "      <td>...</td>\n",
       "      <td>...</td>\n",
       "      <td>...</td>\n",
       "      <td>...</td>\n",
       "      <td>...</td>\n",
       "      <td>...</td>\n",
       "    </tr>\n",
       "    <tr>\n",
       "      <th>326500</th>\n",
       "      <td>2024-02-07 19:00:00</td>\n",
       "      <td>0xc6625129c9df3314a4dd604845488f4ba62f9db8</td>\n",
       "      <td>Reserve</td>\n",
       "      <td>Reserve (0xc662)</td>\n",
       "      <td>293432.982153</td>\n",
       "      <td>3</td>\n",
       "    </tr>\n",
       "    <tr>\n",
       "      <th>327499</th>\n",
       "      <td>2024-02-14 19:00:00</td>\n",
       "      <td>0xc6625129c9df3314a4dd604845488f4ba62f9db8</td>\n",
       "      <td>Reserve</td>\n",
       "      <td>Reserve (0xc662)</td>\n",
       "      <td>293432.982153</td>\n",
       "      <td>3</td>\n",
       "    </tr>\n",
       "    <tr>\n",
       "      <th>328349</th>\n",
       "      <td>2024-02-21 19:00:00</td>\n",
       "      <td>0xc6625129c9df3314a4dd604845488f4ba62f9db8</td>\n",
       "      <td>Reserve</td>\n",
       "      <td>Reserve (0xc662)</td>\n",
       "      <td>194791.323421</td>\n",
       "      <td>2</td>\n",
       "    </tr>\n",
       "    <tr>\n",
       "      <th>328869</th>\n",
       "      <td>2024-02-28 19:00:00</td>\n",
       "      <td>0xc6625129c9df3314a4dd604845488f4ba62f9db8</td>\n",
       "      <td>Reserve</td>\n",
       "      <td>Reserve (0xc662)</td>\n",
       "      <td>194791.323421</td>\n",
       "      <td>2</td>\n",
       "    </tr>\n",
       "    <tr>\n",
       "      <th>329149</th>\n",
       "      <td>2024-03-06 19:00:00</td>\n",
       "      <td>0xc6625129c9df3314a4dd604845488f4ba62f9db8</td>\n",
       "      <td>Reserve</td>\n",
       "      <td>Reserve (0xc662)</td>\n",
       "      <td>193718.464159</td>\n",
       "      <td>1</td>\n",
       "    </tr>\n",
       "  </tbody>\n",
       "</table>\n",
       "<p>89 rows × 6 columns</p>\n",
       "</div>"
      ],
      "text/plain": [
       "                this_epoch                                        user  \\\n",
       "73385  2022-06-29 19:00:00  0xc6625129c9df3314a4dd604845488f4ba62f9db8   \n",
       "77797  2022-07-06 19:00:00  0xc6625129c9df3314a4dd604845488f4ba62f9db8   \n",
       "82315  2022-07-13 19:00:00  0xc6625129c9df3314a4dd604845488f4ba62f9db8   \n",
       "86805  2022-07-20 19:00:00  0xc6625129c9df3314a4dd604845488f4ba62f9db8   \n",
       "91217  2022-07-27 19:00:00  0xc6625129c9df3314a4dd604845488f4ba62f9db8   \n",
       "...                    ...                                         ...   \n",
       "326500 2024-02-07 19:00:00  0xc6625129c9df3314a4dd604845488f4ba62f9db8   \n",
       "327499 2024-02-14 19:00:00  0xc6625129c9df3314a4dd604845488f4ba62f9db8   \n",
       "328349 2024-02-21 19:00:00  0xc6625129c9df3314a4dd604845488f4ba62f9db8   \n",
       "328869 2024-02-28 19:00:00  0xc6625129c9df3314a4dd604845488f4ba62f9db8   \n",
       "329149 2024-03-06 19:00:00  0xc6625129c9df3314a4dd604845488f4ba62f9db8   \n",
       "\n",
       "       known_as      display_name  current_locked  lock_count  \n",
       "73385   Reserve  Reserve (0xc662)        5.000000           1  \n",
       "77797   Reserve  Reserve (0xc662)   150005.000000           2  \n",
       "82315   Reserve  Reserve (0xc662)   250005.000000           3  \n",
       "86805   Reserve  Reserve (0xc662)   253468.519532           4  \n",
       "91217   Reserve  Reserve (0xc662)   353468.519532           5  \n",
       "...         ...               ...             ...         ...  \n",
       "326500  Reserve  Reserve (0xc662)   293432.982153           3  \n",
       "327499  Reserve  Reserve (0xc662)   293432.982153           3  \n",
       "328349  Reserve  Reserve (0xc662)   194791.323421           2  \n",
       "328869  Reserve  Reserve (0xc662)   194791.323421           2  \n",
       "329149  Reserve  Reserve (0xc662)   193718.464159           1  \n",
       "\n",
       "[89 rows x 6 columns]"
      ]
     },
     "execution_count": 17,
     "metadata": {},
     "output_type": "execute_result"
    }
   ],
   "source": [
    "pcl_agg_user[pcl_agg_user['known_as'] == 'Reserve']\n"
   ]
  },
  {
   "cell_type": "code",
   "execution_count": 18,
   "metadata": {},
   "outputs": [],
   "source": [
    "from app.data.reference import known_large_cvx_holders_addresses\n"
   ]
  },
  {
   "cell_type": "code",
   "execution_count": 19,
   "metadata": {},
   "outputs": [
    {
     "data": {
      "text/plain": [
       "'Reserve Delegate 3'"
      ]
     },
     "execution_count": 19,
     "metadata": {},
     "output_type": "execute_result"
    }
   ],
   "source": [
    "known_large_cvx_holders_addresses['0x578a4af5cbc3009487a89be88bc560157200795b']"
   ]
  },
  {
   "cell_type": "code",
   "execution_count": 20,
   "metadata": {},
   "outputs": [
    {
     "data": {
      "text/plain": [
       "True"
      ]
     },
     "execution_count": 20,
     "metadata": {},
     "output_type": "execute_result"
    }
   ],
   "source": [
    "a = '0x578a4af5cbc3009487a89be88bc560157200795b'\n",
    "b = '0x578a4af5cbc3009487a89be88bc560157200795b'.lower()\n",
    "a == b"
   ]
  },
  {
   "cell_type": "code",
   "execution_count": 21,
   "metadata": {},
   "outputs": [
    {
     "data": {
      "text/plain": [
       "73    2023-11-22\n",
       "74    2023-11-29\n",
       "75    2023-12-06\n",
       "76    2023-12-13\n",
       "77    2023-12-20\n",
       "78    2023-12-27\n",
       "79    2024-01-03\n",
       "80    2024-01-10\n",
       "81    2024-01-17\n",
       "82    2024-01-24\n",
       "83    2024-01-31\n",
       "84    2024-02-07\n",
       "85    2024-02-14\n",
       "86    2024-02-21\n",
       "87    2024-02-28\n",
       "88    2024-03-06\n",
       "89    2024-03-13\n",
       "90    2024-03-20\n",
       "Name: epoch_end, dtype: object"
      ]
     },
     "execution_count": 21,
     "metadata": {},
     "output_type": "execute_result"
    }
   ],
   "source": [
    "pcl_agg_current.epoch_end.dt.date"
   ]
  },
  {
   "cell_type": "code",
   "execution_count": 22,
   "metadata": {},
   "outputs": [
    {
     "data": {
      "application/vnd.plotly.v1+json": {
       "config": {
        "plotlyServerURL": "https://plot.ly"
       },
       "data": [
        {
         "name": "Locked",
         "type": "bar",
         "x": [
          "2023-08-02",
          "2023-08-09",
          "2023-08-16",
          "2023-08-23",
          "2023-08-30",
          "2023-09-06",
          "2023-09-13",
          "2023-09-20",
          "2023-09-27",
          "2023-10-04",
          "2023-10-11",
          "2023-10-18",
          "2023-10-25",
          "2023-11-01",
          "2023-11-08",
          "2023-11-15",
          "2023-11-22",
          "2023-11-29"
         ],
         "xaxis": "x",
         "y": [
          2454695.852679216,
          1590237.6131216623,
          2273510.7262717164,
          1341957.8281946583,
          1633076.1052619163,
          2522789.840088511,
          2165424.5471235705,
          6169809.0632449025,
          6932292.238056662,
          4000529.835701629,
          5102460.051469658,
          3667293.6578077273,
          3500519.489650455,
          2190145.559493453,
          2729175.1728511383,
          3686842.8625430944,
          3062608.4516245816,
          754213.3165177918
         ],
         "yaxis": "y"
        },
        {
         "name": "Lock Expires",
         "type": "bar",
         "x": [
          "2023-11-22",
          "2023-11-29",
          "2023-12-06",
          "2023-12-13",
          "2023-12-20",
          "2023-12-27",
          "2024-01-03",
          "2024-01-10",
          "2024-01-17",
          "2024-01-24",
          "2024-01-31",
          "2024-02-07",
          "2024-02-14",
          "2024-02-21",
          "2024-02-28",
          "2024-03-06",
          "2024-03-13",
          "2024-03-20"
         ],
         "y": [
          2454695.852679216,
          1590237.6131216623,
          2273510.7262717164,
          1341957.8281946583,
          1633076.1052619163,
          2522789.840088511,
          2165424.5471235705,
          6169809.0632449025,
          6932292.238056662,
          4000529.835701629,
          5102460.051469658,
          3667293.6578077273,
          3500519.489650455,
          2190145.559493453,
          2729175.1728511383,
          3686842.8625430944,
          3062608.4516245816,
          754213.3165177918
         ]
        }
       ],
       "layout": {
        "autotypenumbers": "convert types",
        "font": {
         "color": "RebeccaPurple",
         "family": "Courier New, monospace",
         "size": 18
        },
        "shapes": [
         {
          "line": {
           "color": "black",
           "dash": "dash",
           "width": 2
          },
          "type": "line",
          "x0": "2023-11-28T19:00:29.886215",
          "x1": "2023-11-28T19:00:29.886215",
          "xref": "x",
          "y0": 0,
          "y1": 1,
          "yref": "y domain"
         }
        ],
        "template": {
         "data": {
          "bar": [
           {
            "error_x": {
             "color": "#2a3f5f"
            },
            "error_y": {
             "color": "#2a3f5f"
            },
            "marker": {
             "line": {
              "color": "#E5ECF6",
              "width": 0.5
             }
            },
            "type": "bar"
           }
          ],
          "barpolar": [
           {
            "marker": {
             "line": {
              "color": "#E5ECF6",
              "width": 0.5
             }
            },
            "type": "barpolar"
           }
          ],
          "carpet": [
           {
            "aaxis": {
             "endlinecolor": "#2a3f5f",
             "gridcolor": "white",
             "linecolor": "white",
             "minorgridcolor": "white",
             "startlinecolor": "#2a3f5f"
            },
            "baxis": {
             "endlinecolor": "#2a3f5f",
             "gridcolor": "white",
             "linecolor": "white",
             "minorgridcolor": "white",
             "startlinecolor": "#2a3f5f"
            },
            "type": "carpet"
           }
          ],
          "choropleth": [
           {
            "colorbar": {
             "outlinewidth": 0,
             "ticks": ""
            },
            "type": "choropleth"
           }
          ],
          "contour": [
           {
            "colorbar": {
             "outlinewidth": 0,
             "ticks": ""
            },
            "colorscale": [
             [
              0,
              "#0d0887"
             ],
             [
              0.1111111111111111,
              "#46039f"
             ],
             [
              0.2222222222222222,
              "#7201a8"
             ],
             [
              0.3333333333333333,
              "#9c179e"
             ],
             [
              0.4444444444444444,
              "#bd3786"
             ],
             [
              0.5555555555555556,
              "#d8576b"
             ],
             [
              0.6666666666666666,
              "#ed7953"
             ],
             [
              0.7777777777777778,
              "#fb9f3a"
             ],
             [
              0.8888888888888888,
              "#fdca26"
             ],
             [
              1,
              "#f0f921"
             ]
            ],
            "type": "contour"
           }
          ],
          "contourcarpet": [
           {
            "colorbar": {
             "outlinewidth": 0,
             "ticks": ""
            },
            "type": "contourcarpet"
           }
          ],
          "heatmap": [
           {
            "colorbar": {
             "outlinewidth": 0,
             "ticks": ""
            },
            "colorscale": [
             [
              0,
              "#0d0887"
             ],
             [
              0.1111111111111111,
              "#46039f"
             ],
             [
              0.2222222222222222,
              "#7201a8"
             ],
             [
              0.3333333333333333,
              "#9c179e"
             ],
             [
              0.4444444444444444,
              "#bd3786"
             ],
             [
              0.5555555555555556,
              "#d8576b"
             ],
             [
              0.6666666666666666,
              "#ed7953"
             ],
             [
              0.7777777777777778,
              "#fb9f3a"
             ],
             [
              0.8888888888888888,
              "#fdca26"
             ],
             [
              1,
              "#f0f921"
             ]
            ],
            "type": "heatmap"
           }
          ],
          "heatmapgl": [
           {
            "colorbar": {
             "outlinewidth": 0,
             "ticks": ""
            },
            "colorscale": [
             [
              0,
              "#0d0887"
             ],
             [
              0.1111111111111111,
              "#46039f"
             ],
             [
              0.2222222222222222,
              "#7201a8"
             ],
             [
              0.3333333333333333,
              "#9c179e"
             ],
             [
              0.4444444444444444,
              "#bd3786"
             ],
             [
              0.5555555555555556,
              "#d8576b"
             ],
             [
              0.6666666666666666,
              "#ed7953"
             ],
             [
              0.7777777777777778,
              "#fb9f3a"
             ],
             [
              0.8888888888888888,
              "#fdca26"
             ],
             [
              1,
              "#f0f921"
             ]
            ],
            "type": "heatmapgl"
           }
          ],
          "histogram": [
           {
            "marker": {
             "colorbar": {
              "outlinewidth": 0,
              "ticks": ""
             }
            },
            "type": "histogram"
           }
          ],
          "histogram2d": [
           {
            "colorbar": {
             "outlinewidth": 0,
             "ticks": ""
            },
            "colorscale": [
             [
              0,
              "#0d0887"
             ],
             [
              0.1111111111111111,
              "#46039f"
             ],
             [
              0.2222222222222222,
              "#7201a8"
             ],
             [
              0.3333333333333333,
              "#9c179e"
             ],
             [
              0.4444444444444444,
              "#bd3786"
             ],
             [
              0.5555555555555556,
              "#d8576b"
             ],
             [
              0.6666666666666666,
              "#ed7953"
             ],
             [
              0.7777777777777778,
              "#fb9f3a"
             ],
             [
              0.8888888888888888,
              "#fdca26"
             ],
             [
              1,
              "#f0f921"
             ]
            ],
            "type": "histogram2d"
           }
          ],
          "histogram2dcontour": [
           {
            "colorbar": {
             "outlinewidth": 0,
             "ticks": ""
            },
            "colorscale": [
             [
              0,
              "#0d0887"
             ],
             [
              0.1111111111111111,
              "#46039f"
             ],
             [
              0.2222222222222222,
              "#7201a8"
             ],
             [
              0.3333333333333333,
              "#9c179e"
             ],
             [
              0.4444444444444444,
              "#bd3786"
             ],
             [
              0.5555555555555556,
              "#d8576b"
             ],
             [
              0.6666666666666666,
              "#ed7953"
             ],
             [
              0.7777777777777778,
              "#fb9f3a"
             ],
             [
              0.8888888888888888,
              "#fdca26"
             ],
             [
              1,
              "#f0f921"
             ]
            ],
            "type": "histogram2dcontour"
           }
          ],
          "mesh3d": [
           {
            "colorbar": {
             "outlinewidth": 0,
             "ticks": ""
            },
            "type": "mesh3d"
           }
          ],
          "parcoords": [
           {
            "line": {
             "colorbar": {
              "outlinewidth": 0,
              "ticks": ""
             }
            },
            "type": "parcoords"
           }
          ],
          "pie": [
           {
            "automargin": true,
            "type": "pie"
           }
          ],
          "scatter": [
           {
            "marker": {
             "colorbar": {
              "outlinewidth": 0,
              "ticks": ""
             }
            },
            "type": "scatter"
           }
          ],
          "scatter3d": [
           {
            "line": {
             "colorbar": {
              "outlinewidth": 0,
              "ticks": ""
             }
            },
            "marker": {
             "colorbar": {
              "outlinewidth": 0,
              "ticks": ""
             }
            },
            "type": "scatter3d"
           }
          ],
          "scattercarpet": [
           {
            "marker": {
             "colorbar": {
              "outlinewidth": 0,
              "ticks": ""
             }
            },
            "type": "scattercarpet"
           }
          ],
          "scattergeo": [
           {
            "marker": {
             "colorbar": {
              "outlinewidth": 0,
              "ticks": ""
             }
            },
            "type": "scattergeo"
           }
          ],
          "scattergl": [
           {
            "marker": {
             "colorbar": {
              "outlinewidth": 0,
              "ticks": ""
             }
            },
            "type": "scattergl"
           }
          ],
          "scattermapbox": [
           {
            "marker": {
             "colorbar": {
              "outlinewidth": 0,
              "ticks": ""
             }
            },
            "type": "scattermapbox"
           }
          ],
          "scatterpolar": [
           {
            "marker": {
             "colorbar": {
              "outlinewidth": 0,
              "ticks": ""
             }
            },
            "type": "scatterpolar"
           }
          ],
          "scatterpolargl": [
           {
            "marker": {
             "colorbar": {
              "outlinewidth": 0,
              "ticks": ""
             }
            },
            "type": "scatterpolargl"
           }
          ],
          "scatterternary": [
           {
            "marker": {
             "colorbar": {
              "outlinewidth": 0,
              "ticks": ""
             }
            },
            "type": "scatterternary"
           }
          ],
          "surface": [
           {
            "colorbar": {
             "outlinewidth": 0,
             "ticks": ""
            },
            "colorscale": [
             [
              0,
              "#0d0887"
             ],
             [
              0.1111111111111111,
              "#46039f"
             ],
             [
              0.2222222222222222,
              "#7201a8"
             ],
             [
              0.3333333333333333,
              "#9c179e"
             ],
             [
              0.4444444444444444,
              "#bd3786"
             ],
             [
              0.5555555555555556,
              "#d8576b"
             ],
             [
              0.6666666666666666,
              "#ed7953"
             ],
             [
              0.7777777777777778,
              "#fb9f3a"
             ],
             [
              0.8888888888888888,
              "#fdca26"
             ],
             [
              1,
              "#f0f921"
             ]
            ],
            "type": "surface"
           }
          ],
          "table": [
           {
            "cells": {
             "fill": {
              "color": "#EBF0F8"
             },
             "line": {
              "color": "white"
             }
            },
            "header": {
             "fill": {
              "color": "#C8D4E3"
             },
             "line": {
              "color": "white"
             }
            },
            "type": "table"
           }
          ]
         },
         "layout": {
          "annotationdefaults": {
           "arrowcolor": "#2a3f5f",
           "arrowhead": 0,
           "arrowwidth": 1
          },
          "autotypenumbers": "strict",
          "coloraxis": {
           "colorbar": {
            "outlinewidth": 0,
            "ticks": ""
           }
          },
          "colorscale": {
           "diverging": [
            [
             0,
             "#8e0152"
            ],
            [
             0.1,
             "#c51b7d"
            ],
            [
             0.2,
             "#de77ae"
            ],
            [
             0.3,
             "#f1b6da"
            ],
            [
             0.4,
             "#fde0ef"
            ],
            [
             0.5,
             "#f7f7f7"
            ],
            [
             0.6,
             "#e6f5d0"
            ],
            [
             0.7,
             "#b8e186"
            ],
            [
             0.8,
             "#7fbc41"
            ],
            [
             0.9,
             "#4d9221"
            ],
            [
             1,
             "#276419"
            ]
           ],
           "sequential": [
            [
             0,
             "#0d0887"
            ],
            [
             0.1111111111111111,
             "#46039f"
            ],
            [
             0.2222222222222222,
             "#7201a8"
            ],
            [
             0.3333333333333333,
             "#9c179e"
            ],
            [
             0.4444444444444444,
             "#bd3786"
            ],
            [
             0.5555555555555556,
             "#d8576b"
            ],
            [
             0.6666666666666666,
             "#ed7953"
            ],
            [
             0.7777777777777778,
             "#fb9f3a"
            ],
            [
             0.8888888888888888,
             "#fdca26"
            ],
            [
             1,
             "#f0f921"
            ]
           ],
           "sequentialminus": [
            [
             0,
             "#0d0887"
            ],
            [
             0.1111111111111111,
             "#46039f"
            ],
            [
             0.2222222222222222,
             "#7201a8"
            ],
            [
             0.3333333333333333,
             "#9c179e"
            ],
            [
             0.4444444444444444,
             "#bd3786"
            ],
            [
             0.5555555555555556,
             "#d8576b"
            ],
            [
             0.6666666666666666,
             "#ed7953"
            ],
            [
             0.7777777777777778,
             "#fb9f3a"
            ],
            [
             0.8888888888888888,
             "#fdca26"
            ],
            [
             1,
             "#f0f921"
            ]
           ]
          },
          "colorway": [
           "#636efa",
           "#EF553B",
           "#00cc96",
           "#ab63fa",
           "#FFA15A",
           "#19d3f3",
           "#FF6692",
           "#B6E880",
           "#FF97FF",
           "#FECB52"
          ],
          "font": {
           "color": "#2a3f5f"
          },
          "geo": {
           "bgcolor": "white",
           "lakecolor": "white",
           "landcolor": "#E5ECF6",
           "showlakes": true,
           "showland": true,
           "subunitcolor": "white"
          },
          "hoverlabel": {
           "align": "left"
          },
          "hovermode": "closest",
          "mapbox": {
           "style": "light"
          },
          "paper_bgcolor": "white",
          "plot_bgcolor": "#E5ECF6",
          "polar": {
           "angularaxis": {
            "gridcolor": "white",
            "linecolor": "white",
            "ticks": ""
           },
           "bgcolor": "#E5ECF6",
           "radialaxis": {
            "gridcolor": "white",
            "linecolor": "white",
            "ticks": ""
           }
          },
          "scene": {
           "xaxis": {
            "backgroundcolor": "#E5ECF6",
            "gridcolor": "white",
            "gridwidth": 2,
            "linecolor": "white",
            "showbackground": true,
            "ticks": "",
            "zerolinecolor": "white"
           },
           "yaxis": {
            "backgroundcolor": "#E5ECF6",
            "gridcolor": "white",
            "gridwidth": 2,
            "linecolor": "white",
            "showbackground": true,
            "ticks": "",
            "zerolinecolor": "white"
           },
           "zaxis": {
            "backgroundcolor": "#E5ECF6",
            "gridcolor": "white",
            "gridwidth": 2,
            "linecolor": "white",
            "showbackground": true,
            "ticks": "",
            "zerolinecolor": "white"
           }
          },
          "shapedefaults": {
           "line": {
            "color": "#2a3f5f"
           }
          },
          "ternary": {
           "aaxis": {
            "gridcolor": "white",
            "linecolor": "white",
            "ticks": ""
           },
           "baxis": {
            "gridcolor": "white",
            "linecolor": "white",
            "ticks": ""
           },
           "bgcolor": "#E5ECF6",
           "caxis": {
            "gridcolor": "white",
            "linecolor": "white",
            "ticks": ""
           }
          },
          "title": {
           "x": 0.05
          },
          "xaxis": {
           "automargin": true,
           "gridcolor": "white",
           "linecolor": "white",
           "ticks": "",
           "title": {
            "standoff": 15
           },
           "zerolinecolor": "white",
           "zerolinewidth": 2
          },
          "yaxis": {
           "automargin": true,
           "gridcolor": "white",
           "linecolor": "white",
           "ticks": "",
           "title": {
            "standoff": 15
           },
           "zerolinecolor": "white",
           "zerolinewidth": 2
          }
         }
        },
        "title": {
         "text": "Convex: vlCVX Current Locks"
        },
        "xaxis": {
         "anchor": "y",
         "domain": [
          0,
          1
         ]
        },
        "yaxis": {
         "anchor": "x",
         "domain": [
          0,
          1
         ]
        }
       }
      }
     },
     "metadata": {},
     "output_type": "display_data"
    }
   ],
   "source": [
    "fig = make_subplots()\n",
    "fig.update_layout(\n",
    "    title=f\"Convex: vlCVX Current Locks\",\n",
    "    #     xaxis_title=\"X Axis Title\",\n",
    "    #     yaxis_title=\"Y Axis Title\",\n",
    "    #     legend_title=\"Legend Title\",\n",
    "    font=dict(\n",
    "        family=\"Courier New, monospace\",\n",
    "        size=18,\n",
    "        color=\"RebeccaPurple\"\n",
    "    ),\n",
    "    # height= 1000,\n",
    ")\n",
    "fig = fig.add_trace(\n",
    "    go.Bar(\n",
    "        x=pcl_agg_current.epoch_start.dt.date,\n",
    "        y=pcl_agg_current.locked_amount,\n",
    "        name=\"Locked\",\n",
    "        # color=\"pool_name\"\n",
    "    ),\n",
    "    secondary_y=False\n",
    ")\n",
    "fig = fig.add_trace(\n",
    "    go.Bar(\n",
    "        x = pcl_agg_current.epoch_end.dt.date,\n",
    "        y = pcl_agg_current.locked_amount, \n",
    "        name = \"Lock Expires\",\n",
    "        # line_shape='hvh',\n",
    "        # line_width=3,\n",
    "    ),\n",
    "    # secondary_y=True\n",
    ")\n",
    "fig.add_vline(x=dt.now(), line_width=2, line_dash=\"dash\", line_color=\"black\" )\n",
    "\n",
    "fig.update_layout(autotypenumbers='convert types')\n",
    "# fig.update_yaxes(rangemode=\"tozero\")\n",
    "fig.show()\n",
    "\n",
    "# fig = px.bar(df_convex_processed_locks_2,\n",
    "#     x=\"epoch_end\",\n",
    "#     y=\"locked_amount\",\n",
    "#     color=\"token_symbol\",\n",
    "#     title=\"Liquidity By Asset\")\n",
    "# graphJSON3 = json.dumps(\n",
    "#     fig,\n",
    "#     cls=plotly.utils.PlotlyJSONEncoder\n",
    "#     )\n"
   ]
  },
  {
   "cell_type": "code",
   "execution_count": 23,
   "metadata": {},
   "outputs": [
    {
     "ename": "NameError",
     "evalue": "name 'local_df_locker_current' is not defined",
     "output_type": "error",
     "traceback": [
      "\u001b[0;31m---------------------------------------------------------------------------\u001b[0m",
      "\u001b[0;31mNameError\u001b[0m                                 Traceback (most recent call last)",
      "\u001b[1;32m/home/meir/Dev/curve_governance_flask/test_delegation.ipynb Cell 24\u001b[0m line \u001b[0;36m1\n\u001b[0;32m----> <a href='vscode-notebook-cell:/home/meir/Dev/curve_governance_flask/test_delegation.ipynb#Y104sZmlsZQ%3D%3D?line=0'>1</a>\u001b[0m local_df_locker_current\n",
      "\u001b[0;31mNameError\u001b[0m: name 'local_df_locker_current' is not defined"
     ]
    }
   ],
   "source": [
    "local_df_locker_current"
   ]
  },
  {
   "cell_type": "code",
   "execution_count": null,
   "metadata": {},
   "outputs": [],
   "source": [
    "user = '0xc6625129c9df3314a4dd604845488f4ba62f9db8'\n",
    "\n",
    "local_df_locker_user_epoch = pcl_agg_user[pcl_agg_user['user'] == user]\n",
    "local_df_locker = pcl_base[pcl_base['user'] == user]\n",
    "local_df_locker_current = local_df_locker[local_df_locker['epoch_end'] >= dt.now()]\n",
    "\n",
    "\n",
    "fig = make_subplots()\n",
    "fig.update_layout(\n",
    "    title=f\"Convex: vlCVX Current Locks\",\n",
    "    #     xaxis_title=\"X Axis Title\",\n",
    "    #     yaxis_title=\"Y Axis Title\",\n",
    "    #     legend_title=\"Legend Title\",\n",
    "    font=dict(\n",
    "        family=\"Courier New, monospace\",\n",
    "        size=18,\n",
    "        color=\"RebeccaPurple\"\n",
    "    ),\n",
    "    # height= 1000,\n",
    ")\n",
    "fig = fig.add_trace(\n",
    "    go.Bar(\n",
    "        x=local_df_locker_current.epoch_start.dt.date,\n",
    "        y=local_df_locker_current.locked_amount,\n",
    "        name=\"Locked\",\n",
    "        # color=\"pool_name\"\n",
    "    ),\n",
    "    secondary_y=False\n",
    ")\n",
    "fig = fig.add_trace(\n",
    "    go.Bar(\n",
    "        x = local_df_locker_current.epoch_end.dt.date,\n",
    "        y = local_df_locker_current.locked_amount, \n",
    "        name = \"Lock Expires\",\n",
    "        # line_shape='hvh',\n",
    "        # line_width=3,\n",
    "    ),\n",
    "    # secondary_y=True\n",
    ")\n",
    "fig.add_vline(x=dt.now(), line_width=2, line_dash=\"dash\", line_color=\"black\" )\n",
    "\n",
    "fig.update_layout(autotypenumbers='convert types')"
   ]
  },
  {
   "cell_type": "code",
   "execution_count": null,
   "metadata": {},
   "outputs": [],
   "source": [
    "pcl_base"
   ]
  },
  {
   "cell_type": "code",
   "execution_count": 44,
   "metadata": {},
   "outputs": [
    {
     "data": {
      "application/vnd.plotly.v1+json": {
       "config": {
        "plotlyServerURL": "https://plot.ly"
       },
       "data": [
        {
         "name": "Locked",
         "type": "bar",
         "x": [
          "2022-03-09",
          "2022-03-16",
          "2022-03-23",
          "2022-03-30",
          "2022-04-06",
          "2022-04-13",
          "2022-04-20",
          "2022-04-27",
          "2022-05-04",
          "2022-05-11",
          "2022-05-18",
          "2022-05-25",
          "2022-06-01",
          "2022-06-08",
          "2022-06-15",
          "2022-06-22",
          "2022-06-29",
          "2022-07-06",
          "2022-07-13",
          "2022-07-20",
          "2022-07-27",
          "2022-08-03",
          "2022-08-10",
          "2022-08-17",
          "2022-08-24",
          "2022-08-31",
          "2022-09-07",
          "2022-09-14",
          "2022-09-21",
          "2022-09-28",
          "2022-10-05",
          "2022-10-12",
          "2022-10-19",
          "2022-10-26",
          "2022-11-02",
          "2022-11-09",
          "2022-11-16",
          "2022-11-23",
          "2022-11-30",
          "2022-12-07",
          "2022-12-14",
          "2022-12-21",
          "2022-12-28",
          "2023-01-04",
          "2023-01-11",
          "2023-01-18",
          "2023-01-25",
          "2023-02-01",
          "2023-02-08",
          "2023-02-15",
          "2023-02-22",
          "2023-03-01",
          "2023-03-08",
          "2023-03-15",
          "2023-03-22",
          "2023-03-29",
          "2023-04-05",
          "2023-04-12",
          "2023-04-19",
          "2023-04-26",
          "2023-05-03",
          "2023-05-10",
          "2023-05-17",
          "2023-05-24",
          "2023-05-31",
          "2023-06-07",
          "2023-06-14",
          "2023-06-21",
          "2023-06-28",
          "2023-07-05",
          "2023-07-12",
          "2023-07-19",
          "2023-07-26",
          "2023-08-02",
          "2023-08-09",
          "2023-08-16",
          "2023-08-23",
          "2023-08-30",
          "2023-09-06",
          "2023-09-13",
          "2023-09-20",
          "2023-09-27",
          "2023-10-04",
          "2023-10-11",
          "2023-10-18",
          "2023-10-25",
          "2023-11-01",
          "2023-11-08",
          "2023-11-15",
          "2023-11-22",
          "2023-11-29"
         ],
         "xaxis": "x",
         "y": [
          27480352.283296645,
          8723225.06860201,
          1390015.8462264,
          3225906.500187241,
          754473.0582768819,
          3462326.471651098,
          635685.2486499785,
          1516335.650191196,
          315693.6694321409,
          1032499.9034782505,
          553067.8622700771,
          295331.487031376,
          1193445.8616692438,
          280482.6711918668,
          807759.559870148,
          757993.6488559011,
          15932431.559432337,
          13227722.419766136,
          3200107.2587294313,
          4206836.562132661,
          1251036.5043773577,
          2027071.8590648125,
          1980687.8102851964,
          1816006.502661611,
          1482671.1850698274,
          1026686.9082421018,
          1169989.2380156785,
          1190133.368313305,
          899889.6122176327,
          1701779.8016207435,
          2050506.7709095168,
          748871.2858370605,
          10495294.346047299,
          8460052.09358487,
          6471688.81949663,
          4091845.990805865,
          2741727.491664839,
          2233755.949479967,
          1518470.2892643341,
          1712287.4094060694,
          3035454.504414782,
          1281500.7348941057,
          1262789.6008011403,
          1352710.0345148698,
          1108628.1697418056,
          2749240.9272243814,
          3580809.419498431,
          2045122.5384000018,
          8144370.9061649265,
          8713933.351509174,
          5561802.9327704385,
          4538474.721893254,
          2534772.3164397017,
          4357642.551557679,
          1699770.0716261803,
          2056094.351191741,
          2003633.1011745196,
          1991118.9053520453,
          1795059.7224678523,
          1769011.123714195,
          903732.427139717,
          1555394.1133586688,
          3309024.5692759072,
          3145798.451548866,
          6106247.388407693,
          8508474.79704831,
          6882887.954521716,
          4536611.935683707,
          3852078.1354252384,
          3914394.7179337055,
          1732618.9160070082,
          3023806.6352807092,
          2855289.9680089527,
          2454695.852679216,
          1590237.6131216623,
          2273510.7262717164,
          1341957.8281946583,
          1633076.1052619163,
          2522789.840088511,
          2165424.5471235705,
          6169809.0632449025,
          6932292.238056662,
          4000529.835701629,
          5102460.051469658,
          3667293.6578077273,
          3500519.489650455,
          2190145.559493453,
          2729175.1728511383,
          3686842.8625430944,
          3062608.4516245816,
          754213.3165177918
         ],
         "yaxis": "y"
        },
        {
         "name": "Lock Expires",
         "type": "bar",
         "x": [
          "2022-06-29",
          "2022-07-06",
          "2022-07-13",
          "2022-07-20",
          "2022-07-27",
          "2022-08-03",
          "2022-08-10",
          "2022-08-17",
          "2022-08-24",
          "2022-08-31",
          "2022-09-07",
          "2022-09-14",
          "2022-09-21",
          "2022-09-28",
          "2022-10-05",
          "2022-10-12",
          "2022-10-19",
          "2022-10-26",
          "2022-11-02",
          "2022-11-09",
          "2022-11-16",
          "2022-11-23",
          "2022-11-30",
          "2022-12-07",
          "2022-12-14",
          "2022-12-21",
          "2022-12-28",
          "2023-01-04",
          "2023-01-11",
          "2023-01-18",
          "2023-01-25",
          "2023-02-01",
          "2023-02-08",
          "2023-02-15",
          "2023-02-22",
          "2023-03-01",
          "2023-03-08",
          "2023-03-15",
          "2023-03-22",
          "2023-03-29",
          "2023-04-05",
          "2023-04-12",
          "2023-04-19",
          "2023-04-26",
          "2023-05-03",
          "2023-05-10",
          "2023-05-17",
          "2023-05-24",
          "2023-05-31",
          "2023-06-07",
          "2023-06-14",
          "2023-06-21",
          "2023-06-28",
          "2023-07-05",
          "2023-07-12",
          "2023-07-19",
          "2023-07-26",
          "2023-08-02",
          "2023-08-09",
          "2023-08-16",
          "2023-08-23",
          "2023-08-30",
          "2023-09-06",
          "2023-09-13",
          "2023-09-20",
          "2023-09-27",
          "2023-10-04",
          "2023-10-11",
          "2023-10-18",
          "2023-10-25",
          "2023-11-01",
          "2023-11-08",
          "2023-11-15",
          "2023-11-22",
          "2023-11-29",
          "2023-12-06",
          "2023-12-13",
          "2023-12-20",
          "2023-12-27",
          "2024-01-03",
          "2024-01-10",
          "2024-01-17",
          "2024-01-24",
          "2024-01-31",
          "2024-02-07",
          "2024-02-14",
          "2024-02-21",
          "2024-02-28",
          "2024-03-06",
          "2024-03-13",
          "2024-03-20"
         ],
         "xaxis": "x",
         "y": [
          27480352.283296645,
          8723225.06860201,
          1390015.8462264,
          3225906.500187241,
          754473.0582768819,
          3462326.471651098,
          635685.2486499785,
          1516335.650191196,
          315693.6694321409,
          1032499.9034782505,
          553067.8622700771,
          295331.487031376,
          1193445.8616692438,
          280482.6711918668,
          807759.559870148,
          757993.6488559011,
          15932431.559432337,
          13227722.419766136,
          3200107.2587294313,
          4206836.562132661,
          1251036.5043773577,
          2027071.8590648125,
          1980687.8102851964,
          1816006.502661611,
          1482671.1850698274,
          1026686.9082421018,
          1169989.2380156785,
          1190133.368313305,
          899889.6122176327,
          1701779.8016207435,
          2050506.7709095168,
          748871.2858370605,
          10495294.346047299,
          8460052.09358487,
          6471688.81949663,
          4091845.990805865,
          2741727.491664839,
          2233755.949479967,
          1518470.2892643341,
          1712287.4094060694,
          3035454.504414782,
          1281500.7348941057,
          1262789.6008011403,
          1352710.0345148698,
          1108628.1697418056,
          2749240.9272243814,
          3580809.419498431,
          2045122.5384000018,
          8144370.9061649265,
          8713933.351509174,
          5561802.9327704385,
          4538474.721893254,
          2534772.3164397017,
          4357642.551557679,
          1699770.0716261803,
          2056094.351191741,
          2003633.1011745196,
          1991118.9053520453,
          1795059.7224678523,
          1769011.123714195,
          903732.427139717,
          1555394.1133586688,
          3309024.5692759072,
          3145798.451548866,
          6106247.388407693,
          8508474.79704831,
          6882887.954521716,
          4536611.935683707,
          3852078.1354252384,
          3914394.7179337055,
          1732618.9160070082,
          3023806.6352807092,
          2855289.9680089527,
          2454695.852679216,
          1590237.6131216623,
          2273510.7262717164,
          1341957.8281946583,
          1633076.1052619163,
          2522789.840088511,
          2165424.5471235705,
          6169809.0632449025,
          6932292.238056662,
          4000529.835701629,
          5102460.051469658,
          3667293.6578077273,
          3500519.489650455,
          2190145.559493453,
          2729175.1728511383,
          3686842.8625430944,
          3062608.4516245816,
          754213.3165177918
         ],
         "yaxis": "y"
        }
       ],
       "layout": {
        "font": {
         "color": "RebeccaPurple",
         "family": "Courier New, monospace",
         "size": 18
        },
        "shapes": [
         {
          "line": {
           "color": "black",
           "dash": "dash",
           "width": 2
          },
          "type": "line",
          "x0": "2023-11-28T20:18:04.359976",
          "x1": "2023-11-28T20:18:04.359976",
          "xref": "x",
          "y0": 0,
          "y1": 1,
          "yref": "y domain"
         }
        ],
        "template": {
         "data": {
          "bar": [
           {
            "error_x": {
             "color": "#2a3f5f"
            },
            "error_y": {
             "color": "#2a3f5f"
            },
            "marker": {
             "line": {
              "color": "#E5ECF6",
              "width": 0.5
             }
            },
            "type": "bar"
           }
          ],
          "barpolar": [
           {
            "marker": {
             "line": {
              "color": "#E5ECF6",
              "width": 0.5
             }
            },
            "type": "barpolar"
           }
          ],
          "carpet": [
           {
            "aaxis": {
             "endlinecolor": "#2a3f5f",
             "gridcolor": "white",
             "linecolor": "white",
             "minorgridcolor": "white",
             "startlinecolor": "#2a3f5f"
            },
            "baxis": {
             "endlinecolor": "#2a3f5f",
             "gridcolor": "white",
             "linecolor": "white",
             "minorgridcolor": "white",
             "startlinecolor": "#2a3f5f"
            },
            "type": "carpet"
           }
          ],
          "choropleth": [
           {
            "colorbar": {
             "outlinewidth": 0,
             "ticks": ""
            },
            "type": "choropleth"
           }
          ],
          "contour": [
           {
            "colorbar": {
             "outlinewidth": 0,
             "ticks": ""
            },
            "colorscale": [
             [
              0,
              "#0d0887"
             ],
             [
              0.1111111111111111,
              "#46039f"
             ],
             [
              0.2222222222222222,
              "#7201a8"
             ],
             [
              0.3333333333333333,
              "#9c179e"
             ],
             [
              0.4444444444444444,
              "#bd3786"
             ],
             [
              0.5555555555555556,
              "#d8576b"
             ],
             [
              0.6666666666666666,
              "#ed7953"
             ],
             [
              0.7777777777777778,
              "#fb9f3a"
             ],
             [
              0.8888888888888888,
              "#fdca26"
             ],
             [
              1,
              "#f0f921"
             ]
            ],
            "type": "contour"
           }
          ],
          "contourcarpet": [
           {
            "colorbar": {
             "outlinewidth": 0,
             "ticks": ""
            },
            "type": "contourcarpet"
           }
          ],
          "heatmap": [
           {
            "colorbar": {
             "outlinewidth": 0,
             "ticks": ""
            },
            "colorscale": [
             [
              0,
              "#0d0887"
             ],
             [
              0.1111111111111111,
              "#46039f"
             ],
             [
              0.2222222222222222,
              "#7201a8"
             ],
             [
              0.3333333333333333,
              "#9c179e"
             ],
             [
              0.4444444444444444,
              "#bd3786"
             ],
             [
              0.5555555555555556,
              "#d8576b"
             ],
             [
              0.6666666666666666,
              "#ed7953"
             ],
             [
              0.7777777777777778,
              "#fb9f3a"
             ],
             [
              0.8888888888888888,
              "#fdca26"
             ],
             [
              1,
              "#f0f921"
             ]
            ],
            "type": "heatmap"
           }
          ],
          "heatmapgl": [
           {
            "colorbar": {
             "outlinewidth": 0,
             "ticks": ""
            },
            "colorscale": [
             [
              0,
              "#0d0887"
             ],
             [
              0.1111111111111111,
              "#46039f"
             ],
             [
              0.2222222222222222,
              "#7201a8"
             ],
             [
              0.3333333333333333,
              "#9c179e"
             ],
             [
              0.4444444444444444,
              "#bd3786"
             ],
             [
              0.5555555555555556,
              "#d8576b"
             ],
             [
              0.6666666666666666,
              "#ed7953"
             ],
             [
              0.7777777777777778,
              "#fb9f3a"
             ],
             [
              0.8888888888888888,
              "#fdca26"
             ],
             [
              1,
              "#f0f921"
             ]
            ],
            "type": "heatmapgl"
           }
          ],
          "histogram": [
           {
            "marker": {
             "colorbar": {
              "outlinewidth": 0,
              "ticks": ""
             }
            },
            "type": "histogram"
           }
          ],
          "histogram2d": [
           {
            "colorbar": {
             "outlinewidth": 0,
             "ticks": ""
            },
            "colorscale": [
             [
              0,
              "#0d0887"
             ],
             [
              0.1111111111111111,
              "#46039f"
             ],
             [
              0.2222222222222222,
              "#7201a8"
             ],
             [
              0.3333333333333333,
              "#9c179e"
             ],
             [
              0.4444444444444444,
              "#bd3786"
             ],
             [
              0.5555555555555556,
              "#d8576b"
             ],
             [
              0.6666666666666666,
              "#ed7953"
             ],
             [
              0.7777777777777778,
              "#fb9f3a"
             ],
             [
              0.8888888888888888,
              "#fdca26"
             ],
             [
              1,
              "#f0f921"
             ]
            ],
            "type": "histogram2d"
           }
          ],
          "histogram2dcontour": [
           {
            "colorbar": {
             "outlinewidth": 0,
             "ticks": ""
            },
            "colorscale": [
             [
              0,
              "#0d0887"
             ],
             [
              0.1111111111111111,
              "#46039f"
             ],
             [
              0.2222222222222222,
              "#7201a8"
             ],
             [
              0.3333333333333333,
              "#9c179e"
             ],
             [
              0.4444444444444444,
              "#bd3786"
             ],
             [
              0.5555555555555556,
              "#d8576b"
             ],
             [
              0.6666666666666666,
              "#ed7953"
             ],
             [
              0.7777777777777778,
              "#fb9f3a"
             ],
             [
              0.8888888888888888,
              "#fdca26"
             ],
             [
              1,
              "#f0f921"
             ]
            ],
            "type": "histogram2dcontour"
           }
          ],
          "mesh3d": [
           {
            "colorbar": {
             "outlinewidth": 0,
             "ticks": ""
            },
            "type": "mesh3d"
           }
          ],
          "parcoords": [
           {
            "line": {
             "colorbar": {
              "outlinewidth": 0,
              "ticks": ""
             }
            },
            "type": "parcoords"
           }
          ],
          "pie": [
           {
            "automargin": true,
            "type": "pie"
           }
          ],
          "scatter": [
           {
            "marker": {
             "colorbar": {
              "outlinewidth": 0,
              "ticks": ""
             }
            },
            "type": "scatter"
           }
          ],
          "scatter3d": [
           {
            "line": {
             "colorbar": {
              "outlinewidth": 0,
              "ticks": ""
             }
            },
            "marker": {
             "colorbar": {
              "outlinewidth": 0,
              "ticks": ""
             }
            },
            "type": "scatter3d"
           }
          ],
          "scattercarpet": [
           {
            "marker": {
             "colorbar": {
              "outlinewidth": 0,
              "ticks": ""
             }
            },
            "type": "scattercarpet"
           }
          ],
          "scattergeo": [
           {
            "marker": {
             "colorbar": {
              "outlinewidth": 0,
              "ticks": ""
             }
            },
            "type": "scattergeo"
           }
          ],
          "scattergl": [
           {
            "marker": {
             "colorbar": {
              "outlinewidth": 0,
              "ticks": ""
             }
            },
            "type": "scattergl"
           }
          ],
          "scattermapbox": [
           {
            "marker": {
             "colorbar": {
              "outlinewidth": 0,
              "ticks": ""
             }
            },
            "type": "scattermapbox"
           }
          ],
          "scatterpolar": [
           {
            "marker": {
             "colorbar": {
              "outlinewidth": 0,
              "ticks": ""
             }
            },
            "type": "scatterpolar"
           }
          ],
          "scatterpolargl": [
           {
            "marker": {
             "colorbar": {
              "outlinewidth": 0,
              "ticks": ""
             }
            },
            "type": "scatterpolargl"
           }
          ],
          "scatterternary": [
           {
            "marker": {
             "colorbar": {
              "outlinewidth": 0,
              "ticks": ""
             }
            },
            "type": "scatterternary"
           }
          ],
          "surface": [
           {
            "colorbar": {
             "outlinewidth": 0,
             "ticks": ""
            },
            "colorscale": [
             [
              0,
              "#0d0887"
             ],
             [
              0.1111111111111111,
              "#46039f"
             ],
             [
              0.2222222222222222,
              "#7201a8"
             ],
             [
              0.3333333333333333,
              "#9c179e"
             ],
             [
              0.4444444444444444,
              "#bd3786"
             ],
             [
              0.5555555555555556,
              "#d8576b"
             ],
             [
              0.6666666666666666,
              "#ed7953"
             ],
             [
              0.7777777777777778,
              "#fb9f3a"
             ],
             [
              0.8888888888888888,
              "#fdca26"
             ],
             [
              1,
              "#f0f921"
             ]
            ],
            "type": "surface"
           }
          ],
          "table": [
           {
            "cells": {
             "fill": {
              "color": "#EBF0F8"
             },
             "line": {
              "color": "white"
             }
            },
            "header": {
             "fill": {
              "color": "#C8D4E3"
             },
             "line": {
              "color": "white"
             }
            },
            "type": "table"
           }
          ]
         },
         "layout": {
          "annotationdefaults": {
           "arrowcolor": "#2a3f5f",
           "arrowhead": 0,
           "arrowwidth": 1
          },
          "autotypenumbers": "strict",
          "coloraxis": {
           "colorbar": {
            "outlinewidth": 0,
            "ticks": ""
           }
          },
          "colorscale": {
           "diverging": [
            [
             0,
             "#8e0152"
            ],
            [
             0.1,
             "#c51b7d"
            ],
            [
             0.2,
             "#de77ae"
            ],
            [
             0.3,
             "#f1b6da"
            ],
            [
             0.4,
             "#fde0ef"
            ],
            [
             0.5,
             "#f7f7f7"
            ],
            [
             0.6,
             "#e6f5d0"
            ],
            [
             0.7,
             "#b8e186"
            ],
            [
             0.8,
             "#7fbc41"
            ],
            [
             0.9,
             "#4d9221"
            ],
            [
             1,
             "#276419"
            ]
           ],
           "sequential": [
            [
             0,
             "#0d0887"
            ],
            [
             0.1111111111111111,
             "#46039f"
            ],
            [
             0.2222222222222222,
             "#7201a8"
            ],
            [
             0.3333333333333333,
             "#9c179e"
            ],
            [
             0.4444444444444444,
             "#bd3786"
            ],
            [
             0.5555555555555556,
             "#d8576b"
            ],
            [
             0.6666666666666666,
             "#ed7953"
            ],
            [
             0.7777777777777778,
             "#fb9f3a"
            ],
            [
             0.8888888888888888,
             "#fdca26"
            ],
            [
             1,
             "#f0f921"
            ]
           ],
           "sequentialminus": [
            [
             0,
             "#0d0887"
            ],
            [
             0.1111111111111111,
             "#46039f"
            ],
            [
             0.2222222222222222,
             "#7201a8"
            ],
            [
             0.3333333333333333,
             "#9c179e"
            ],
            [
             0.4444444444444444,
             "#bd3786"
            ],
            [
             0.5555555555555556,
             "#d8576b"
            ],
            [
             0.6666666666666666,
             "#ed7953"
            ],
            [
             0.7777777777777778,
             "#fb9f3a"
            ],
            [
             0.8888888888888888,
             "#fdca26"
            ],
            [
             1,
             "#f0f921"
            ]
           ]
          },
          "colorway": [
           "#636efa",
           "#EF553B",
           "#00cc96",
           "#ab63fa",
           "#FFA15A",
           "#19d3f3",
           "#FF6692",
           "#B6E880",
           "#FF97FF",
           "#FECB52"
          ],
          "font": {
           "color": "#2a3f5f"
          },
          "geo": {
           "bgcolor": "white",
           "lakecolor": "white",
           "landcolor": "#E5ECF6",
           "showlakes": true,
           "showland": true,
           "subunitcolor": "white"
          },
          "hoverlabel": {
           "align": "left"
          },
          "hovermode": "closest",
          "mapbox": {
           "style": "light"
          },
          "paper_bgcolor": "white",
          "plot_bgcolor": "#E5ECF6",
          "polar": {
           "angularaxis": {
            "gridcolor": "white",
            "linecolor": "white",
            "ticks": ""
           },
           "bgcolor": "#E5ECF6",
           "radialaxis": {
            "gridcolor": "white",
            "linecolor": "white",
            "ticks": ""
           }
          },
          "scene": {
           "xaxis": {
            "backgroundcolor": "#E5ECF6",
            "gridcolor": "white",
            "gridwidth": 2,
            "linecolor": "white",
            "showbackground": true,
            "ticks": "",
            "zerolinecolor": "white"
           },
           "yaxis": {
            "backgroundcolor": "#E5ECF6",
            "gridcolor": "white",
            "gridwidth": 2,
            "linecolor": "white",
            "showbackground": true,
            "ticks": "",
            "zerolinecolor": "white"
           },
           "zaxis": {
            "backgroundcolor": "#E5ECF6",
            "gridcolor": "white",
            "gridwidth": 2,
            "linecolor": "white",
            "showbackground": true,
            "ticks": "",
            "zerolinecolor": "white"
           }
          },
          "shapedefaults": {
           "line": {
            "color": "#2a3f5f"
           }
          },
          "ternary": {
           "aaxis": {
            "gridcolor": "white",
            "linecolor": "white",
            "ticks": ""
           },
           "baxis": {
            "gridcolor": "white",
            "linecolor": "white",
            "ticks": ""
           },
           "bgcolor": "#E5ECF6",
           "caxis": {
            "gridcolor": "white",
            "linecolor": "white",
            "ticks": ""
           }
          },
          "title": {
           "x": 0.05
          },
          "xaxis": {
           "automargin": true,
           "gridcolor": "white",
           "linecolor": "white",
           "ticks": "",
           "title": {
            "standoff": 15
           },
           "zerolinecolor": "white",
           "zerolinewidth": 2
          },
          "yaxis": {
           "automargin": true,
           "gridcolor": "white",
           "linecolor": "white",
           "ticks": "",
           "title": {
            "standoff": 15
           },
           "zerolinecolor": "white",
           "zerolinewidth": 2
          }
         }
        },
        "title": {
         "text": "Convex: vlCVX Historic Locks"
        },
        "xaxis": {
         "anchor": "y",
         "domain": [
          0,
          1
         ]
        },
        "yaxis": {
         "anchor": "x",
         "domain": [
          0,
          1
         ]
        }
       }
      }
     },
     "metadata": {},
     "output_type": "display_data"
    }
   ],
   "source": [
    "fig = make_subplots()\n",
    "fig.update_layout(\n",
    "    title=f\"Convex: vlCVX Historic Locks\",\n",
    "    #     xaxis_title=\"X Axis Title\",\n",
    "    #     yaxis_title=\"Y Axis Title\",\n",
    "    #     legend_title=\"Legend Title\",\n",
    "    font=dict(\n",
    "        family=\"Courier New, monospace\",\n",
    "        size=18,\n",
    "        color=\"RebeccaPurple\"\n",
    "    ),\n",
    "    # height= 1000,\n",
    ")\n",
    "fig = fig.add_trace(\n",
    "    go.Bar(\n",
    "        x=pcl_agg_epoch.epoch_start.dt.date,\n",
    "        y=pcl_agg_epoch.locked_amount,\n",
    "        name=\"Locked\",\n",
    "        # color=\"pool_name\"\n",
    "    ),\n",
    "    secondary_y=False\n",
    ")\n",
    "fig = fig.add_trace(\n",
    "    go.Bar(\n",
    "        x=pcl_agg_epoch.epoch_end.dt.date,\n",
    "        y=pcl_agg_epoch.locked_amount,\n",
    "        name=\"Lock Expires\",\n",
    "        # color=\"pool_name\"\n",
    "    ),\n",
    "    secondary_y=False\n",
    ")\n",
    "fig.add_vline(x=dt.now(), line_width=2, line_dash=\"dash\", line_color=\"black\")\n",
    "\n",
    "fig.show()"
   ]
  },
  {
   "cell_type": "code",
   "execution_count": 88,
   "metadata": {},
   "outputs": [],
   "source": [
    "pcl_user\n",
    "\n",
    "local_pcl_agg_user = pcl_agg_user.groupby([\n",
    "        'this_epoch',\n",
    "        'known_as',\n",
    "    ]).agg(\n",
    "    current_locked=pd.NamedAgg(column='current_locked', aggfunc=sum)\n",
    "    ).reset_index()\n",
    "local_pcl_agg_user = local_pcl_agg_user.sort_values(['this_epoch', 'current_locked'], axis = 0, ascending = False)"
   ]
  },
  {
   "cell_type": "code",
   "execution_count": 84,
   "metadata": {},
   "outputs": [
    {
     "data": {
      "text/html": [
       "<div>\n",
       "<style scoped>\n",
       "    .dataframe tbody tr th:only-of-type {\n",
       "        vertical-align: middle;\n",
       "    }\n",
       "\n",
       "    .dataframe tbody tr th {\n",
       "        vertical-align: top;\n",
       "    }\n",
       "\n",
       "    .dataframe thead th {\n",
       "        text-align: right;\n",
       "    }\n",
       "</style>\n",
       "<table border=\"1\" class=\"dataframe\">\n",
       "  <thead>\n",
       "    <tr style=\"text-align: right;\">\n",
       "      <th></th>\n",
       "      <th>block_timestamp</th>\n",
       "      <th>event_name</th>\n",
       "      <th>user</th>\n",
       "      <th>_epoch</th>\n",
       "      <th>locked_amount</th>\n",
       "      <th>boosted_amount</th>\n",
       "      <th>paid_amount</th>\n",
       "      <th>withdrawn_amount</th>\n",
       "      <th>relocked</th>\n",
       "      <th>tx_hash</th>\n",
       "      <th>__row_index</th>\n",
       "      <th>epoch_start</th>\n",
       "      <th>epoch_end</th>\n",
       "      <th>known_as</th>\n",
       "      <th>display_name</th>\n",
       "    </tr>\n",
       "  </thead>\n",
       "  <tbody>\n",
       "    <tr>\n",
       "      <th>5147</th>\n",
       "      <td>2022-10-21T00:34:35.000Z</td>\n",
       "      <td>Staked</td>\n",
       "      <td>0xaac0aa431c237c2c0b5f041c8e59b3f1a43ac78f</td>\n",
       "      <td>1666224000</td>\n",
       "      <td>3.210495e+06</td>\n",
       "      <td>3210495.31298533</td>\n",
       "      <td>3210495.31298533</td>\n",
       "      <td>0</td>\n",
       "      <td>False</td>\n",
       "      <td>0xe7a6e54ab230e1f85a467687a0e8a718eb5a833af86e...</td>\n",
       "      <td>5147</td>\n",
       "      <td>2022-10-19 20:00:00</td>\n",
       "      <td>2023-02-08 20:00:00</td>\n",
       "      <td>c2tp.eth</td>\n",
       "      <td>c2tp.eth (0xaac0)</td>\n",
       "    </tr>\n",
       "  </tbody>\n",
       "</table>\n",
       "</div>"
      ],
      "text/plain": [
       "               block_timestamp event_name  \\\n",
       "5147  2022-10-21T00:34:35.000Z     Staked   \n",
       "\n",
       "                                            user      _epoch  locked_amount  \\\n",
       "5147  0xaac0aa431c237c2c0b5f041c8e59b3f1a43ac78f  1666224000   3.210495e+06   \n",
       "\n",
       "        boosted_amount       paid_amount withdrawn_amount relocked  \\\n",
       "5147  3210495.31298533  3210495.31298533                0    False   \n",
       "\n",
       "                                                tx_hash __row_index  \\\n",
       "5147  0xe7a6e54ab230e1f85a467687a0e8a718eb5a833af86e...        5147   \n",
       "\n",
       "             epoch_start           epoch_end  known_as       display_name  \n",
       "5147 2022-10-19 20:00:00 2023-02-08 20:00:00  c2tp.eth  c2tp.eth (0xaac0)  "
      ]
     },
     "execution_count": 84,
     "metadata": {},
     "output_type": "execute_result"
    }
   ],
   "source": [
    "temp = pcl_base[pcl_base['user']=='0xaac0aa431c237c2c0b5f041c8e59b3f1a43ac78f']\n",
    "\n",
    "temp[temp['epoch_end'] == '2023-02-08 20:00:00']"
   ]
  },
  {
   "cell_type": "code",
   "execution_count": 89,
   "metadata": {},
   "outputs": [
    {
     "data": {
      "application/vnd.plotly.v1+json": {
       "config": {
        "plotlyServerURL": "https://plot.ly"
       },
       "data": [
        {
         "hovertemplate": "known_as=_<br>x=%{x}<br>current_locked=%{y}<extra></extra>",
         "legendgroup": "_",
         "line": {
          "color": "#636efa",
          "dash": "solid",
          "shape": "linear"
         },
         "mode": "lines",
         "name": "_",
         "showlegend": true,
         "type": "scattergl",
         "x": [
          "2024-03-20",
          "2024-03-13",
          "2024-03-06",
          "2024-02-28",
          "2024-02-21",
          "2024-02-14",
          "2024-02-07",
          "2024-01-31",
          "2024-01-24",
          "2024-01-17",
          "2024-01-10",
          "2024-01-03",
          "2023-12-27",
          "2023-12-20",
          "2023-12-13",
          "2023-12-06",
          "2023-11-29",
          "2023-11-22",
          "2023-11-15",
          "2023-11-08",
          "2023-11-01",
          "2023-10-25",
          "2023-10-18",
          "2023-10-11",
          "2023-10-04",
          "2023-09-27",
          "2023-09-20",
          "2023-09-13",
          "2023-09-06",
          "2023-08-30",
          "2023-08-23",
          "2023-08-16",
          "2023-08-09",
          "2023-08-02",
          "2023-07-26",
          "2023-07-19",
          "2023-07-12",
          "2023-07-05",
          "2023-06-28",
          "2023-06-21",
          "2023-06-14",
          "2023-06-07",
          "2023-05-31",
          "2023-05-24",
          "2023-05-17",
          "2023-05-10",
          "2023-05-03",
          "2023-04-26",
          "2023-04-19",
          "2023-04-12",
          "2023-04-05",
          "2023-03-29",
          "2023-03-22",
          "2023-03-15",
          "2023-03-08",
          "2023-03-01",
          "2023-02-22",
          "2023-02-15",
          "2023-02-08",
          "2023-02-01",
          "2023-01-25",
          "2023-01-18",
          "2023-01-11",
          "2023-01-04",
          "2022-12-28",
          "2022-12-21",
          "2022-12-14",
          "2022-12-07",
          "2022-11-30",
          "2022-11-23",
          "2022-11-16",
          "2022-11-09",
          "2022-11-02",
          "2022-10-26",
          "2022-10-19",
          "2022-10-12",
          "2022-10-05",
          "2022-09-28",
          "2022-09-21",
          "2022-09-14",
          "2022-09-07",
          "2022-08-31",
          "2022-08-24",
          "2022-08-17",
          "2022-08-10",
          "2022-08-03",
          "2022-07-27",
          "2022-07-20",
          "2022-07-13",
          "2022-07-06",
          "2022-06-29",
          "2022-06-22",
          "2022-06-15",
          "2022-06-08",
          "2022-06-01",
          "2022-05-25",
          "2022-05-18",
          "2022-05-11",
          "2022-05-04",
          "2022-04-27",
          "2022-04-20",
          "2022-04-13",
          "2022-04-06",
          "2022-03-30",
          "2022-03-23",
          "2022-03-16",
          "2022-03-09"
         ],
         "xaxis": "x",
         "y": [
          207512116.3609431,
          207512116.3609431,
          207512116.3609431,
          207512116.3609431,
          207512116.3609431,
          207512116.3609431,
          207512116.3609431,
          207512116.3609431,
          207512116.3609431,
          207512116.3609431,
          207512116.3609431,
          207512116.3609431,
          207512116.3609431,
          207512116.3609431,
          207512116.3609431,
          207512116.3609431,
          207512116.3609431,
          206784432.1621401,
          204232886.24456668,
          201731860.85923195,
          197415305.78720507,
          195713701.90930352,
          192834314.342543,
          188649516.85365856,
          187248844.67640954,
          183507745.96360916,
          181322234.23254567,
          179827617.05479395,
          177719265.86200616,
          176339106.29866388,
          175144526.31238708,
          173651901.9908227,
          172283670.5234083,
          170365997.423829,
          167885147.19865593,
          165933864.68960583,
          164451257.51049307,
          161793662.4009289,
          159182389.02638966,
          155498673.68304995,
          151235166.52222973,
          145787255.3028458,
          144035324.9324854,
          141595016.72508854,
          138857302.7045844,
          137801101.5524519,
          137117355.35757765,
          135816263.50714183,
          134421890.5759507,
          133199170.50545664,
          131699205.86121376,
          129741481.24199367,
          128226665.72703882,
          126183059.03856799,
          126183059.03856799,
          124604346.94767949,
          121924492.25775912,
          118850216.84332058,
          113197254.0789443,
          109201563.80352852,
          108259257.74358928,
          104807811.10628621,
          103533296.2670232,
          102550902.79540478,
          101605181.40069771,
          100553150.84886464,
          99667422.43951344,
          97143025.84222741,
          95537843.13472506,
          94128094.5099527,
          92598907.0881435,
          91217303.88723096,
          85716418.73915973,
          79189058.70415515,
          73805591.91370335,
          73247891.56718661,
          71323968.67395511,
          70206216.91414708,
          69631324.33984989,
          68575894.19934238,
          67837388.51215293,
          67006091.97533583,
          65935151.66275034,
          64527657.982994854,
          63480694.40058225,
          61898877.28761106,
          60949384.52488448,
          59412915.99015808,
          57308230.2747669,
          47614710.47296402,
          37773823.44406017,
          37072583.0912483,
          36359361.13483274,
          36159722.882097535,
          35691159.94760977,
          35450339.48695809,
          35040261.37031399,
          34339527.872579776,
          34117144.32763016,
          32927344.66815764,
          32326431.723924354,
          29968328.330936138,
          29308899.570632093,
          26925614.717215315,
          25771212.201727293,
          21647357.156588405,
          21647357.156588405
         ],
         "yaxis": "y"
        },
        {
         "hovertemplate": "known_as=c2tp.eth<br>x=%{x}<br>current_locked=%{y}<extra></extra>",
         "legendgroup": "c2tp.eth",
         "line": {
          "color": "#EF553B",
          "dash": "solid",
          "shape": "linear"
         },
         "mode": "lines",
         "name": "c2tp.eth",
         "showlegend": true,
         "type": "scattergl",
         "x": [
          "2024-03-20",
          "2024-03-13",
          "2024-03-06",
          "2024-02-28",
          "2024-02-21",
          "2024-02-14",
          "2024-02-07",
          "2024-01-31",
          "2024-01-24",
          "2024-01-17",
          "2024-01-10",
          "2024-01-03",
          "2023-12-27",
          "2023-12-20",
          "2023-12-13",
          "2023-12-06",
          "2023-11-29",
          "2023-11-22",
          "2023-11-15",
          "2023-11-08",
          "2023-11-01",
          "2023-10-25",
          "2023-10-18",
          "2023-10-11",
          "2023-10-04",
          "2023-09-27",
          "2023-09-20",
          "2023-09-13",
          "2023-09-06",
          "2023-08-30",
          "2023-08-23",
          "2023-08-16",
          "2023-08-09",
          "2023-08-02",
          "2023-07-26",
          "2023-07-19",
          "2023-07-12",
          "2023-07-05",
          "2023-06-28",
          "2023-06-21",
          "2023-06-14",
          "2023-06-07",
          "2023-05-31",
          "2023-05-24",
          "2023-05-17",
          "2023-05-10",
          "2023-05-03",
          "2023-04-26",
          "2023-04-19",
          "2023-04-12",
          "2023-04-05",
          "2023-03-29",
          "2023-03-22",
          "2023-03-15",
          "2023-03-08",
          "2023-03-01",
          "2023-02-22",
          "2023-02-15",
          "2023-02-08",
          "2023-02-01",
          "2023-01-25",
          "2023-01-18",
          "2023-01-11",
          "2023-01-04",
          "2022-12-28",
          "2022-12-21",
          "2022-12-14",
          "2022-12-07",
          "2022-11-30",
          "2022-11-23",
          "2022-11-16",
          "2022-11-09",
          "2022-11-02",
          "2022-10-26",
          "2022-10-19",
          "2022-10-12",
          "2022-10-05",
          "2022-09-28",
          "2022-09-21",
          "2022-09-14",
          "2022-09-07",
          "2022-08-31",
          "2022-08-24",
          "2022-08-17",
          "2022-08-10",
          "2022-08-03",
          "2022-07-27",
          "2022-07-20",
          "2022-07-13",
          "2022-07-06",
          "2022-06-29",
          "2022-06-22",
          "2022-06-15",
          "2022-06-08",
          "2022-06-01",
          "2022-05-25",
          "2022-05-18",
          "2022-05-11",
          "2022-05-04",
          "2022-04-27",
          "2022-04-20",
          "2022-04-13",
          "2022-04-06",
          "2022-03-30",
          "2022-03-23",
          "2022-03-16",
          "2022-03-09"
         ],
         "xaxis": "x",
         "y": [
          24319763.079013545,
          24319763.079013545,
          24319763.079013545,
          24319763.079013545,
          24319763.079013545,
          24319763.079013545,
          24319763.079013545,
          24319763.079013545,
          24319763.079013545,
          24319763.079013545,
          24319763.079013545,
          24319763.079013545,
          24319763.079013545,
          24319763.079013545,
          24319763.079013545,
          24319763.079013545,
          24319763.079013545,
          24319763.079013545,
          24148301.492870472,
          24148301.492870472,
          24148301.492870472,
          23638840.709293954,
          23638840.709293954,
          23638840.709293954,
          23638840.709293954,
          23638840.709293954,
          20428345.396308623,
          20428345.396308623,
          20178980.720213104,
          20157629.407769445,
          20157629.407769445,
          20157629.407769445,
          20157629.407769445,
          19986167.821626373,
          19986167.821626373,
          19986167.821626373,
          19986167.821626373,
          19491394.79927722,
          19491394.79927722,
          19491394.79927722,
          19491394.79927722,
          19491394.79927722,
          16280899.48629189,
          16280899.48629189,
          16031534.810196368,
          16031534.810196368,
          16031534.810196368,
          16031534.810196368,
          16031534.810196368,
          16031534.810196368,
          15860073.224053297,
          15860073.224053297,
          15860073.224053297,
          15688729.268756695,
          15688729.268756695,
          15378802.101366915,
          15378802.101366915,
          15378802.101366915,
          15378802.101366915,
          12168306.788381584,
          12168306.788381584,
          12168306.788381584,
          11935079.683069112,
          11935079.683069112,
          11935079.683069112,
          11935079.683069112,
          11935079.683069112,
          11763618.09692604,
          11763618.09692604,
          11763618.09692604,
          11592274.141629437,
          11592274.141629437,
          11305434.604497371,
          11301993.690128203,
          8091498.377142873,
          8091498.377142873,
          8079624.874722459,
          8079624.874722459,
          7864678.768749479,
          7864678.768749479,
          7864678.768749479,
          7864678.768749479,
          7864678.768749479,
          7693217.182606408,
          7693217.182606408,
          7544811.214051452,
          7529483.360905798,
          7242643.823773732,
          7242643.823773732,
          7242643.823773732,
          4032148.510788402,
          4032148.510788402,
          4032148.510788402,
          4032148.510788402,
          3817202.404815422,
          3817202.404815422,
          3817202.404815422,
          3817202.404815422,
          3817202.404815422,
          3645740.818672351,
          3645740.818672351,
          3497334.8501173956,
          3497334.8501173956,
          3210495.31298533,
          3210495.31298533,
          3210495.31298533,
          3210495.31298533
         ],
         "yaxis": "y"
        },
        {
         "hovertemplate": "known_as=frax<br>x=%{x}<br>current_locked=%{y}<extra></extra>",
         "legendgroup": "frax",
         "line": {
          "color": "#00cc96",
          "dash": "solid",
          "shape": "linear"
         },
         "mode": "lines",
         "name": "frax",
         "showlegend": true,
         "type": "scattergl",
         "x": [
          "2024-03-20",
          "2024-03-13",
          "2024-03-06",
          "2024-02-28",
          "2024-02-21",
          "2024-02-14",
          "2024-02-07",
          "2024-01-31",
          "2024-01-24",
          "2024-01-17",
          "2024-01-10",
          "2024-01-03",
          "2023-12-27",
          "2023-12-20",
          "2023-12-13",
          "2023-12-06",
          "2023-11-29",
          "2023-11-22",
          "2023-11-15",
          "2023-11-08",
          "2023-11-01",
          "2023-10-25",
          "2023-10-18",
          "2023-10-11",
          "2023-10-04",
          "2023-09-27",
          "2023-09-20",
          "2023-09-13",
          "2023-09-06",
          "2023-08-30",
          "2023-08-23",
          "2023-08-16",
          "2023-08-09",
          "2023-08-02",
          "2023-07-26",
          "2023-07-19",
          "2023-07-12",
          "2023-07-05",
          "2023-06-28",
          "2023-06-21",
          "2023-06-14",
          "2023-06-07",
          "2023-05-31",
          "2023-05-24",
          "2023-05-17",
          "2023-05-10",
          "2023-05-03",
          "2023-04-26",
          "2023-04-19",
          "2023-04-12",
          "2023-04-05",
          "2023-03-29",
          "2023-03-22",
          "2023-03-15",
          "2023-03-08",
          "2023-03-01",
          "2023-02-22",
          "2023-02-15",
          "2023-02-08",
          "2023-02-01",
          "2023-01-25",
          "2023-01-18",
          "2023-01-11",
          "2023-01-04",
          "2022-12-28",
          "2022-12-21",
          "2022-12-14",
          "2022-12-07",
          "2022-11-30",
          "2022-11-23",
          "2022-11-16",
          "2022-11-09",
          "2022-11-02",
          "2022-10-26",
          "2022-10-19",
          "2022-10-12",
          "2022-10-05",
          "2022-09-28",
          "2022-09-21",
          "2022-09-14",
          "2022-09-07",
          "2022-08-31",
          "2022-08-24",
          "2022-08-17",
          "2022-08-10",
          "2022-08-03",
          "2022-07-27",
          "2022-07-20",
          "2022-07-13",
          "2022-07-06",
          "2022-06-29",
          "2022-06-22",
          "2022-06-15",
          "2022-06-08",
          "2022-06-01",
          "2022-05-25",
          "2022-05-18",
          "2022-05-11",
          "2022-05-04",
          "2022-04-27",
          "2022-04-20",
          "2022-04-13",
          "2022-04-06",
          "2022-03-30",
          "2022-03-23",
          "2022-03-16",
          "2022-03-09"
         ],
         "xaxis": "x",
         "y": [
          19978605.582734317,
          19978605.582734317,
          19978605.582734317,
          19978605.582734317,
          19978605.582734317,
          19978605.582734317,
          19978605.582734317,
          19978605.582734317,
          19978605.582734317,
          19978605.582734317,
          19978605.582734317,
          19978605.582734317,
          19978605.582734317,
          19978605.582734317,
          19978605.582734317,
          19978605.582734317,
          19978605.582734317,
          19977645.52696377,
          19896626.364361763,
          19696817.003945466,
          19556904.135113787,
          19388657.544879463,
          19170434.99812842,
          19113806.194207303,
          16937351.73772973,
          16787345.915746197,
          16784941.01377417,
          16694003.065341307,
          16653596.966336573,
          16525859.663723892,
          16442609.96195552,
          16370001.338044783,
          16269247.835674265,
          16189238.243035195,
          15990224.083505144,
          15922089.24087078,
          15852744.300926462,
          15686782.472998831,
          15470605.923202582,
          15416595.887279045,
          13245953.275975117,
          13108119.953991588,
          13095947.453991588,
          13008924.613769276,
          12971383.315111222,
          12846832.87723316,
          12766879.06117115,
          12697629.548432505,
          12596876.046061987,
          12519494.732361492,
          12323766.91281345,
          12259021.118274927,
          12193357.85013948,
          12030833.435386278,
          12030833.435386278,
          11817354.7956017,
          11767317.000611043,
          9599527.105029711,
          9465054.782135362,
          9456159.282135362,
          9373022.44191305,
          9337866.143254995,
          9216823.705376934,
          9140662.199314924,
          9076757.686576277,
          8980871.18420576,
          8908957.870505264,
          8718445.050957223,
          8658933.9164187,
          8599661.648283252,
          8441764.233530052,
          8235184.593745474,
          6033378.543173486,
          6010247.617132592,
          5905915.220279136,
          5831197.380056824,
          5805383.08139877,
          5693840.643520709,
          5628029.799136699,
          5579922.596287641,
          5497036.093917123,
          5439632.83149083,
          5268526.700846137,
          5225249.743144575,
          5191566.878946286,
          5054736.955304492,
          4944933.6281004995,
          4848157.315519915,
          4720769.211192445,
          2688591.419938584,
          2612196.7740631457,
          2570034.539086463,
          2570034.539086463,
          2517383.260338914,
          2484540.48341252,
          2451572.4159549037,
          2393927.606029154,
          2369880.2032589847,
          2314233.241615228,
          2256761.778210463,
          2229602.265335267,
          2153758.208298321,
          2099691.9957523607,
          2059757.708184942,
          1974401.711276766,
          1875.1817161749998,
          1875.1817161749998
         ],
         "yaxis": "y"
        },
        {
         "hovertemplate": "known_as=Clever<br>x=%{x}<br>current_locked=%{y}<extra></extra>",
         "legendgroup": "Clever",
         "line": {
          "color": "#ab63fa",
          "dash": "solid",
          "shape": "linear"
         },
         "mode": "lines",
         "name": "Clever",
         "showlegend": true,
         "type": "scattergl",
         "x": [
          "2024-03-20",
          "2024-03-13",
          "2024-03-06",
          "2024-02-28",
          "2024-02-21",
          "2024-02-14",
          "2024-02-07",
          "2024-01-31",
          "2024-01-24",
          "2024-01-17",
          "2024-01-10",
          "2024-01-03",
          "2023-12-27",
          "2023-12-20",
          "2023-12-13",
          "2023-12-06",
          "2023-11-29",
          "2023-11-22",
          "2023-11-15",
          "2023-11-08",
          "2023-11-01",
          "2023-10-25",
          "2023-10-18",
          "2023-10-11",
          "2023-10-04",
          "2023-09-27",
          "2023-09-20",
          "2023-09-13",
          "2023-09-06",
          "2023-08-30",
          "2023-08-23",
          "2023-08-16",
          "2023-08-09",
          "2023-08-02",
          "2023-07-26",
          "2023-07-19",
          "2023-07-12",
          "2023-07-05",
          "2023-06-28",
          "2023-06-21",
          "2023-06-14",
          "2023-06-07",
          "2023-05-31",
          "2023-05-24",
          "2023-05-17",
          "2023-05-10",
          "2023-05-03",
          "2023-04-26",
          "2023-04-19",
          "2023-04-12",
          "2023-04-05",
          "2023-03-29",
          "2023-03-22",
          "2023-03-15",
          "2023-03-08",
          "2023-03-01",
          "2023-02-22",
          "2023-02-15",
          "2023-02-08",
          "2023-02-01",
          "2023-01-25",
          "2023-01-18",
          "2023-01-11",
          "2023-01-04",
          "2022-12-28",
          "2022-12-21",
          "2022-12-14",
          "2022-12-07",
          "2022-11-30",
          "2022-11-23",
          "2022-11-16",
          "2022-11-09",
          "2022-11-02",
          "2022-10-26",
          "2022-10-19",
          "2022-10-12",
          "2022-10-05",
          "2022-09-28",
          "2022-09-21",
          "2022-09-14",
          "2022-09-07",
          "2022-08-31",
          "2022-08-24",
          "2022-08-17",
          "2022-08-10",
          "2022-08-03",
          "2022-07-27",
          "2022-07-20",
          "2022-07-13",
          "2022-07-06",
          "2022-06-29",
          "2022-06-22",
          "2022-06-15",
          "2022-06-08",
          "2022-06-01",
          "2022-05-25",
          "2022-05-18",
          "2022-05-11",
          "2022-05-04"
         ],
         "xaxis": "x",
         "y": [
          9705947.800358348,
          9705947.800358348,
          9705947.800358348,
          9705947.800358348,
          9705947.800358348,
          9705947.800358348,
          9705947.800358348,
          9705947.800358348,
          9705947.800358348,
          9705947.800358348,
          9705947.800358348,
          9705947.800358348,
          9705947.800358348,
          9705947.800358348,
          9705947.800358348,
          9705947.800358348,
          9705947.800358348,
          9680378.738414103,
          9648793.074938834,
          9583344.90329694,
          9234329.89425417,
          8505167.030450832,
          8233596.420195586,
          7992102.407312565,
          7767157.437352097,
          7448896.694361363,
          7373312.824716891,
          7340961.377306021,
          7264294.11446857,
          7209287.43481768,
          7152115.766772152,
          7063904.776443308,
          6992993.680228906,
          6967768.643331801,
          6938831.930675127,
          6883721.863125563,
          6736571.410490753,
          6541936.759083942,
          5809849.143484029,
          5636074.671395746,
          5384297.918283156,
          5152270.90300628,
          4841988.353092078,
          4766257.294690483,
          4668190.442483092,
          4589599.997756498,
          4537756.100604873,
          4496882.869878047,
          4409663.479876667,
          4363451.915705503,
          4336331.736229474,
          4319050.199451997,
          4293665.635026792,
          4147814.884956208,
          4147814.884956208,
          3963646.954373863,
          3237278.855269071,
          3050587.71157091,
          2841801.4523236863,
          2657813.434313511,
          2328136.822214279,
          2284748.307737745,
          2185595.542973966,
          2163382.448913215,
          2130260.876961134,
          2097756.958192768,
          2021993.662462712,
          2017166.517399577,
          2009555.739191933,
          1997335.208094005,
          1979549.4830265131,
          1943133.766625979,
          1168761.431529556,
          1017900.1701574643,
          980579.3212877372,
          963775.7825385182,
          892178.2461766965,
          881186.0385492262,
          864772.2259198952,
          851268.2120718102,
          833067.2731522511,
          821688.7527156773,
          761060.3473853962,
          755273.4167809472,
          748180.7515944568,
          740605.5444905919,
          730178.2334310499,
          720758.9580403969,
          599189.4055144419,
          95295.0535739609,
          89087.5042909819,
          85926.2227447639,
          78095.6660248169,
          77533.75479585491,
          71395.9617303769,
          70466.5743379709,
          64505.0293375729,
          53922.028189980905,
          44305.894717508
         ],
         "yaxis": "y"
        },
        {
         "hovertemplate": "known_as=Badger<br>x=%{x}<br>current_locked=%{y}<extra></extra>",
         "legendgroup": "Badger",
         "line": {
          "color": "#FFA15A",
          "dash": "solid",
          "shape": "linear"
         },
         "mode": "lines",
         "name": "Badger",
         "showlegend": true,
         "type": "scattergl",
         "x": [
          "2024-03-20",
          "2024-03-13",
          "2024-03-06",
          "2024-02-28",
          "2024-02-21",
          "2024-02-14",
          "2024-02-07",
          "2024-01-31",
          "2024-01-24",
          "2024-01-17",
          "2024-01-10",
          "2024-01-03",
          "2023-12-27",
          "2023-12-20",
          "2023-12-13",
          "2023-12-06",
          "2023-11-29",
          "2023-11-22",
          "2023-11-15",
          "2023-11-08",
          "2023-11-01",
          "2023-10-25",
          "2023-10-18",
          "2023-10-11",
          "2023-10-04",
          "2023-09-27",
          "2023-09-20",
          "2023-09-13",
          "2023-09-06",
          "2023-08-30",
          "2023-08-23",
          "2023-08-16",
          "2023-08-09",
          "2023-08-02",
          "2023-07-26",
          "2023-07-19",
          "2023-07-12",
          "2023-07-05",
          "2023-06-28",
          "2023-06-21",
          "2023-06-14",
          "2023-06-07",
          "2023-05-31",
          "2023-05-24",
          "2023-05-17",
          "2023-05-10",
          "2023-05-03",
          "2023-04-26",
          "2023-04-19",
          "2023-04-12",
          "2023-04-05",
          "2023-03-29",
          "2023-03-22",
          "2023-03-15",
          "2023-03-08",
          "2023-03-01",
          "2023-02-22",
          "2023-02-15",
          "2023-02-08",
          "2023-02-01",
          "2023-01-25",
          "2023-01-18",
          "2023-01-11",
          "2023-01-04",
          "2022-12-28",
          "2022-12-21",
          "2022-12-14",
          "2022-12-07",
          "2022-11-30",
          "2022-11-23",
          "2022-11-16",
          "2022-11-09",
          "2022-11-02",
          "2022-10-26",
          "2022-10-19",
          "2022-10-12",
          "2022-10-05",
          "2022-09-28",
          "2022-09-21",
          "2022-09-14",
          "2022-09-07",
          "2022-08-31",
          "2022-08-24",
          "2022-08-17",
          "2022-08-10",
          "2022-08-03",
          "2022-07-27",
          "2022-07-20",
          "2022-07-13",
          "2022-07-06",
          "2022-06-29",
          "2022-06-22",
          "2022-06-15",
          "2022-06-08",
          "2022-06-01",
          "2022-05-25",
          "2022-05-18",
          "2022-05-11",
          "2022-05-04",
          "2022-04-27",
          "2022-04-20",
          "2022-04-13",
          "2022-04-06",
          "2022-03-30",
          "2022-03-23"
         ],
         "xaxis": "x",
         "y": [
          8366360.360521316,
          8366360.360521316,
          8366360.360521316,
          8366360.360521316,
          8366360.360521316,
          8366360.360521316,
          8366360.360521316,
          8366360.360521316,
          8366360.360521316,
          8366360.360521316,
          8366360.360521316,
          8366360.360521316,
          8366360.360521316,
          8366360.360521316,
          8366360.360521316,
          8366360.360521316,
          8366360.360521316,
          8366360.360521316,
          8366360.360521316,
          8366360.360521316,
          8366360.360521316,
          8366360.360521316,
          8366360.360521316,
          8366360.360521316,
          8366360.360521316,
          8366360.360521316,
          8366360.360521316,
          8366360.360521316,
          8366360.360521316,
          8366360.360521316,
          8366360.360521316,
          8366360.360521316,
          8366360.360521316,
          8366360.360521316,
          8366360.360521316,
          8366360.360521316,
          8366360.360521316,
          8366360.360521316,
          8366360.360521316,
          8366360.360521316,
          8366360.360521316,
          8366360.360521316,
          8236119.679132063,
          8236119.679132063,
          8102212.634597759,
          7810336.276734838,
          7798635.750548311,
          7763650.416948666,
          7734773.484595313,
          7480540.572640513,
          7447306.48914301,
          7435367.760487356,
          7417979.838486257,
          6805940.05250389,
          6805940.05250389,
          6805940.05250389,
          6262873.111948469,
          6262873.111948469,
          6169568.245982998,
          6169568.245982998,
          6037493.57986499,
          6019987.484204319,
          5937331.923822447,
          5937331.923822447,
          5937331.923822447,
          5902169.529087607,
          5887958.238270793,
          5887958.238270793,
          5887958.238270793,
          5873801.81510658,
          5873801.81510658,
          5794765.793286857,
          4569883.984111736,
          4375440.428550764,
          4348232.569796149,
          4348232.569796149,
          4348232.569796149,
          4348232.569796149,
          4348232.569796149,
          4291908.55504775,
          4283790.592736789,
          4272016.720422483,
          4205958.260410489,
          4171776.959873743,
          4158492.709277525,
          4158492.709277525,
          4158492.709277525,
          3217967.114610548,
          2389817.952241354,
          1823721.8410012862,
          1809210.1495799092,
          1803810.5190667051,
          1803810.5190667051,
          1803810.5190667051,
          1803810.5190667051,
          1803810.5190667051,
          1738320.8093347452,
          1738320.8093347452,
          1732429.282124754,
          1711854.897169979,
          1711854.897169979,
          1711854.897169979,
          1695781.731494791,
          1695781.731494791,
          1656460.06461605
         ],
         "yaxis": "y"
        },
        {
         "hovertemplate": "known_as=Redacted<br>x=%{x}<br>current_locked=%{y}<extra></extra>",
         "legendgroup": "Redacted",
         "line": {
          "color": "#19d3f3",
          "dash": "solid",
          "shape": "linear"
         },
         "mode": "lines",
         "name": "Redacted",
         "showlegend": true,
         "type": "scattergl",
         "x": [
          "2024-03-20",
          "2024-03-13",
          "2024-03-06",
          "2024-02-28",
          "2024-02-21",
          "2024-02-14",
          "2024-02-07",
          "2024-01-31",
          "2024-01-24",
          "2024-01-17",
          "2024-01-10",
          "2024-01-03",
          "2023-12-27",
          "2023-12-20",
          "2023-12-13",
          "2023-12-06",
          "2023-11-29",
          "2023-11-22",
          "2023-11-15",
          "2023-11-08",
          "2023-11-01",
          "2023-10-25",
          "2023-10-18",
          "2023-10-11",
          "2023-10-04",
          "2023-09-27",
          "2023-09-20",
          "2023-09-13",
          "2023-09-06",
          "2023-08-30",
          "2023-08-23",
          "2023-08-16",
          "2023-08-09",
          "2023-08-02",
          "2023-07-26",
          "2023-07-19",
          "2023-07-12",
          "2023-07-05",
          "2023-06-28",
          "2023-06-21",
          "2023-06-14",
          "2023-06-07",
          "2023-05-31",
          "2023-05-24",
          "2023-05-17",
          "2023-05-10",
          "2023-05-03",
          "2023-04-26",
          "2023-04-19",
          "2023-04-12",
          "2023-04-05",
          "2023-03-29",
          "2023-03-22",
          "2023-03-15",
          "2023-03-08",
          "2023-03-01",
          "2023-02-22",
          "2023-02-15",
          "2023-02-08",
          "2023-02-01",
          "2023-01-25",
          "2023-01-18",
          "2023-01-11",
          "2023-01-04",
          "2022-12-28",
          "2022-12-21",
          "2022-12-14",
          "2022-12-07",
          "2022-11-30",
          "2022-11-23",
          "2022-11-16",
          "2022-11-09",
          "2022-11-02",
          "2022-10-26",
          "2022-10-19",
          "2022-10-12",
          "2022-10-05",
          "2022-09-28",
          "2022-09-21",
          "2022-09-14",
          "2022-09-07",
          "2022-08-31",
          "2022-08-24",
          "2022-08-17",
          "2022-08-10",
          "2022-08-03",
          "2022-07-27",
          "2022-07-20",
          "2022-07-13",
          "2022-07-06",
          "2022-06-29",
          "2022-06-22",
          "2022-06-15",
          "2022-06-08",
          "2022-06-01",
          "2022-05-25",
          "2022-05-18",
          "2022-05-11",
          "2022-05-04",
          "2022-04-27",
          "2022-04-20",
          "2022-04-13",
          "2022-04-06",
          "2022-03-30",
          "2022-03-23",
          "2022-03-16",
          "2022-03-09"
         ],
         "xaxis": "x",
         "y": [
          6810156.0071792845,
          6810156.0071792845,
          6810156.0071792845,
          6810156.0071792845,
          6810156.0071792845,
          6810156.0071792845,
          6810156.0071792845,
          6810156.0071792845,
          6810156.0071792845,
          6810156.0071792845,
          6810156.0071792845,
          6810156.0071792845,
          6810156.0071792845,
          6810156.0071792845,
          6810156.0071792845,
          6810156.0071792845,
          6810156.0071792845,
          6810156.0071792845,
          6810156.0071792845,
          6810156.0071792845,
          6810156.0071792845,
          6810156.0071792845,
          6810156.0071792845,
          6810156.0071792845,
          6810156.0071792845,
          5661109.926939145,
          5661109.926939145,
          5661109.926939145,
          5661109.926939145,
          5661109.926939145,
          5661109.926939145,
          5661109.926939145,
          5661109.926939145,
          5661109.926939145,
          5661109.926939145,
          5661109.926939145,
          5661109.926939145,
          5661109.926939145,
          5661109.926939145,
          5661109.926939145,
          5661109.926939145,
          4512063.846699005,
          4512063.846699005,
          4512063.846699005,
          4512063.846699005,
          4512063.846699005,
          4512063.846699005,
          4512063.846699005,
          4512063.846699005,
          4512063.846699005,
          4512063.846699005,
          4512063.846699005,
          4512063.846699005,
          4512063.846699005,
          4512063.846699005,
          4512063.846699005,
          4512063.846699005,
          4512063.846699005,
          3363017.766458865,
          3363017.766458865,
          3363017.766458865,
          3363017.766458865,
          3363017.766458865,
          3363017.766458865,
          3363017.766458865,
          3363017.766458865,
          3363017.766458865,
          3363017.766458865,
          3363017.766458865,
          3363017.766458865,
          3363017.766458865,
          3363017.766458865,
          3363017.766458865,
          2213971.686218725,
          2213971.686218725,
          2213971.686218725,
          2213971.686218725,
          2213971.686218725,
          2213971.686218725,
          2213971.686218725,
          2213971.686218725,
          2213971.686218725,
          2213971.686218725,
          2213971.686218725,
          2213971.686218725,
          2213971.686218725,
          2213971.686218725,
          2213971.686218725,
          2213971.686218725,
          2129851.21195716,
          1064925.60597858,
          1064925.60597858,
          1064925.60597858,
          1064925.60597858,
          1064925.60597858,
          1064925.60597858,
          1064925.60597858,
          1064925.60597858,
          1064925.60597858,
          1064925.60597858,
          1064925.60597858,
          1064925.60597858,
          1064925.60597858,
          1064925.60597858,
          1064925.60597858,
          1064925.60597858,
          1064925.60597858
         ],
         "yaxis": "y"
        },
        {
         "hovertemplate": "known_as=Mochi Inu<br>x=%{x}<br>current_locked=%{y}<extra></extra>",
         "legendgroup": "Mochi Inu",
         "line": {
          "color": "#FF6692",
          "dash": "solid",
          "shape": "linear"
         },
         "mode": "lines",
         "name": "Mochi Inu",
         "showlegend": true,
         "type": "scattergl",
         "x": [
          "2024-03-20",
          "2024-03-13",
          "2024-03-06",
          "2024-02-28",
          "2024-02-21",
          "2024-02-14",
          "2024-02-07",
          "2024-01-31",
          "2024-01-24",
          "2024-01-17",
          "2024-01-10",
          "2024-01-03",
          "2023-12-27",
          "2023-12-20",
          "2023-12-13",
          "2023-12-06",
          "2023-11-29",
          "2023-11-22",
          "2023-11-15",
          "2023-11-08",
          "2023-11-01",
          "2023-10-25",
          "2023-10-18",
          "2023-10-11",
          "2023-10-04",
          "2023-09-27",
          "2023-09-20",
          "2023-09-13",
          "2023-09-06",
          "2023-08-30",
          "2023-08-23",
          "2023-08-16",
          "2023-08-09",
          "2023-08-02",
          "2023-07-26",
          "2023-07-19",
          "2023-07-12",
          "2023-07-05",
          "2023-06-28",
          "2023-06-21",
          "2023-06-14",
          "2023-06-07",
          "2023-05-31",
          "2023-05-24",
          "2023-05-17",
          "2023-05-10",
          "2023-05-03",
          "2023-04-26",
          "2023-04-19",
          "2023-04-12",
          "2023-04-05",
          "2023-03-29",
          "2023-03-22",
          "2023-03-15",
          "2023-03-08",
          "2023-03-01",
          "2023-02-22",
          "2023-02-15",
          "2023-02-08",
          "2023-02-01",
          "2023-01-25",
          "2023-01-18",
          "2023-01-11",
          "2023-01-04",
          "2022-12-28",
          "2022-12-21",
          "2022-12-14",
          "2022-12-07",
          "2022-11-30",
          "2022-11-23",
          "2022-11-16",
          "2022-11-09",
          "2022-11-02",
          "2022-10-26",
          "2022-10-19",
          "2022-10-12",
          "2022-10-05",
          "2022-09-28",
          "2022-09-21",
          "2022-09-14",
          "2022-09-07",
          "2022-08-31",
          "2022-08-24",
          "2022-08-17",
          "2022-08-10",
          "2022-08-03",
          "2022-07-27",
          "2022-07-20",
          "2022-07-13",
          "2022-07-06",
          "2022-06-29",
          "2022-06-22",
          "2022-06-15",
          "2022-06-08",
          "2022-06-01",
          "2022-05-25",
          "2022-05-18",
          "2022-05-11",
          "2022-05-04",
          "2022-04-27",
          "2022-04-20",
          "2022-04-13",
          "2022-04-06",
          "2022-03-30",
          "2022-03-23",
          "2022-03-16",
          "2022-03-09"
         ],
         "xaxis": "x",
         "y": [
          6301711.024599241,
          6301711.024599241,
          6301711.024599241,
          6301711.024599241,
          6301711.024599241,
          6301711.024599241,
          6301711.024599241,
          6301711.024599241,
          6301711.024599241,
          6301711.024599241,
          6301711.024599241,
          6301711.024599241,
          6301711.024599241,
          6301711.024599241,
          6301711.024599241,
          6301711.024599241,
          6301711.024599241,
          6301711.024599241,
          6301711.024599241,
          6301711.024599241,
          6301711.024599241,
          6301711.024599241,
          6301711.024599241,
          6301711.024599241,
          6301711.024599241,
          5251425.8538327,
          5251425.8538327,
          5251425.8538327,
          5251425.8538327,
          5251425.8538327,
          5251425.8538327,
          5251425.8538327,
          5251425.8538327,
          5251425.8538327,
          5251425.8538327,
          5251425.8538327,
          5251425.8538327,
          5251425.8538327,
          5251425.8538327,
          5251425.8538327,
          5251425.8538327,
          4201140.68306616,
          4201140.68306616,
          4201140.68306616,
          4201140.68306616,
          4201140.68306616,
          4201140.68306616,
          4201140.68306616,
          4201140.68306616,
          4201140.68306616,
          4201140.68306616,
          4201140.68306616,
          4201140.68306616,
          4201140.68306616,
          4201140.68306616,
          4201140.68306616,
          4201140.68306616,
          4201140.68306616,
          3150855.5122996205,
          3150855.5122996205,
          3150855.5122996205,
          3150855.5122996205,
          3150855.5122996205,
          3150855.5122996205,
          3150855.5122996205,
          3150855.5122996205,
          3150855.5122996205,
          3150855.5122996205,
          3150855.5122996205,
          3150855.5122996205,
          3150855.5122996205,
          3150855.5122996205,
          3150855.5122996205,
          3150855.5122996205,
          2100570.34153308,
          2100570.34153308,
          2100570.34153308,
          2100570.34153308,
          2100570.34153308,
          2100570.34153308,
          2100570.34153308,
          2100570.34153308,
          2100570.34153308,
          2100570.34153308,
          2100570.34153308,
          2100570.34153308,
          2100570.34153308,
          2100570.34153308,
          2100570.34153308,
          2100570.34153308,
          1050285.17076654,
          1050285.17076654,
          1050285.17076654,
          1050285.17076654,
          1050285.17076654,
          1050285.17076654,
          1050285.17076654,
          1050285.17076654,
          1050285.17076654,
          1050285.17076654,
          1050285.17076654,
          1050285.17076654,
          1050285.17076654,
          1050285.17076654,
          1050285.17076654,
          1050285.17076654,
          1050285.17076654
         ],
         "yaxis": "y"
        },
        {
         "hovertemplate": "known_as=JPEGD<br>x=%{x}<br>current_locked=%{y}<extra></extra>",
         "legendgroup": "JPEGD",
         "line": {
          "color": "#B6E880",
          "dash": "solid",
          "shape": "linear"
         },
         "mode": "lines",
         "name": "JPEGD",
         "showlegend": true,
         "type": "scattergl",
         "x": [
          "2024-03-20",
          "2024-03-13",
          "2024-03-06",
          "2024-02-28",
          "2024-02-21",
          "2024-02-14",
          "2024-02-07",
          "2024-01-31",
          "2024-01-24",
          "2024-01-17",
          "2024-01-10",
          "2024-01-03",
          "2023-12-27",
          "2023-12-20",
          "2023-12-13",
          "2023-12-06",
          "2023-11-29",
          "2023-11-22",
          "2023-11-15",
          "2023-11-08",
          "2023-11-01",
          "2023-10-25",
          "2023-10-18",
          "2023-10-11",
          "2023-10-04",
          "2023-09-27",
          "2023-09-20",
          "2023-09-13",
          "2023-09-06",
          "2023-08-30",
          "2023-08-23",
          "2023-08-16",
          "2023-08-09",
          "2023-08-02",
          "2023-07-26",
          "2023-07-19",
          "2023-07-12",
          "2023-07-05",
          "2023-06-28",
          "2023-06-21",
          "2023-06-14",
          "2023-06-07",
          "2023-05-31",
          "2023-05-24",
          "2023-05-17",
          "2023-05-10",
          "2023-05-03",
          "2023-04-26",
          "2023-04-19",
          "2023-04-12",
          "2023-04-05",
          "2023-03-29",
          "2023-03-22",
          "2023-03-15",
          "2023-03-08",
          "2023-03-01",
          "2023-02-22",
          "2023-02-15",
          "2023-02-08",
          "2023-02-01",
          "2023-01-25",
          "2023-01-18",
          "2023-01-11",
          "2023-01-04",
          "2022-12-28",
          "2022-12-21",
          "2022-12-14",
          "2022-12-07",
          "2022-11-30",
          "2022-11-23",
          "2022-11-16",
          "2022-11-09",
          "2022-11-02",
          "2022-10-26",
          "2022-10-19",
          "2022-10-12",
          "2022-10-05",
          "2022-09-28",
          "2022-09-21",
          "2022-09-14",
          "2022-09-07",
          "2022-08-31",
          "2022-08-24",
          "2022-08-17",
          "2022-08-10",
          "2022-08-03",
          "2022-07-27",
          "2022-07-20",
          "2022-07-13",
          "2022-07-06",
          "2022-06-29",
          "2022-06-22",
          "2022-06-15",
          "2022-06-08",
          "2022-06-01",
          "2022-05-25",
          "2022-05-18"
         ],
         "xaxis": "x",
         "y": [
          5989395.502369091,
          5989395.502369091,
          5989395.502369091,
          5989395.502369091,
          5989395.502369091,
          5989395.502369091,
          5989395.502369091,
          5989395.502369091,
          5989395.502369091,
          5989395.502369091,
          5989395.502369091,
          5989395.502369091,
          5989395.502369091,
          5989395.502369091,
          5989395.502369091,
          5989395.502369091,
          5989395.502369091,
          5989395.502369091,
          5989395.502369091,
          5989395.502369091,
          5946349.555041707,
          5910585.019063812,
          5829665.436970303,
          5703188.317116015,
          5601355.604296363,
          5514614.995272056,
          5501522.837924122,
          4963713.414396015,
          4963713.414396015,
          4962213.594473464,
          4962213.594473464,
          4476472.926450188,
          4476472.926450188,
          4476472.926450188,
          4412404.63177655,
          4369358.684449166,
          4369358.684449166,
          4333594.148471271,
          4252674.566377762,
          4126197.446523475,
          4025861.536433408,
          3942273.664513629,
          3939120.9274091013,
          3401311.503880994,
          3401311.503880994,
          3401311.503880994,
          3399811.683958443,
          3128846.275834146,
          3032060.366930241,
          2914071.015935167,
          2914071.015935167,
          2914071.015935167,
          2871025.068607783,
          2871025.068607783,
          2871025.068607783,
          2835260.532629888,
          2799597.864792507,
          2758700.31750815,
          2735101.016923405,
          2675112.445588371,
          2137303.022060264,
          2137303.022060264,
          2137303.022060264,
          2137303.022060264,
          1866337.613935967,
          1866337.613935967,
          1748348.262940893,
          1748348.262940893,
          1748348.262940893,
          1748348.262940893,
          1748348.262940893,
          1748348.262940893,
          1748348.262940893,
          1748348.262940893,
          1735539.014299882,
          1652529.856113623,
          1652529.856113623,
          1197729.590771775,
          1197729.590771775,
          1197729.590771775,
          926764.182647478,
          926764.182647478,
          926764.182647478,
          808774.831652404,
          808774.831652404,
          808774.831652404,
          808774.831652404,
          808774.831652404,
          808774.831652404,
          808774.831652404,
          808774.831652404,
          808774.831652404,
          725765.6734661451,
          725765.6734661451,
          270965.408124297,
          270965.408124297,
          270965.408124297
         ],
         "yaxis": "y"
        },
        {
         "hovertemplate": "known_as=Keeper<br>x=%{x}<br>current_locked=%{y}<extra></extra>",
         "legendgroup": "Keeper",
         "line": {
          "color": "#FF97FF",
          "dash": "solid",
          "shape": "linear"
         },
         "mode": "lines",
         "name": "Keeper",
         "showlegend": true,
         "type": "scattergl",
         "x": [
          "2024-03-20",
          "2024-03-13",
          "2024-03-06",
          "2024-02-28",
          "2024-02-21",
          "2024-02-14",
          "2024-02-07",
          "2024-01-31",
          "2024-01-24",
          "2024-01-17",
          "2024-01-10",
          "2024-01-03",
          "2023-12-27",
          "2023-12-20",
          "2023-12-13",
          "2023-12-06",
          "2023-11-29",
          "2023-11-22",
          "2023-11-15",
          "2023-11-08",
          "2023-11-01",
          "2023-10-25",
          "2023-10-18",
          "2023-10-11",
          "2023-10-04",
          "2023-09-27",
          "2023-09-20",
          "2023-09-13",
          "2023-09-06",
          "2023-08-30",
          "2023-08-23",
          "2023-08-16",
          "2023-08-09",
          "2023-08-02",
          "2023-07-26",
          "2023-07-19",
          "2023-07-12",
          "2023-07-05",
          "2023-06-28",
          "2023-06-21",
          "2023-06-14",
          "2023-06-07",
          "2023-05-31",
          "2023-05-24",
          "2023-05-17",
          "2023-05-10",
          "2023-05-03",
          "2023-04-26",
          "2023-04-19",
          "2023-04-12",
          "2023-04-05",
          "2023-03-29",
          "2023-03-22",
          "2023-03-15",
          "2023-03-08",
          "2023-03-01",
          "2023-02-22",
          "2023-02-15",
          "2023-02-08",
          "2023-02-01",
          "2023-01-25",
          "2023-01-18",
          "2023-01-11",
          "2023-01-04",
          "2022-12-28",
          "2022-12-21",
          "2022-12-14",
          "2022-12-07",
          "2022-11-30",
          "2022-11-23",
          "2022-11-16",
          "2022-11-09",
          "2022-11-02",
          "2022-10-26",
          "2022-10-19",
          "2022-10-12",
          "2022-10-05",
          "2022-09-28",
          "2022-09-21",
          "2022-09-14",
          "2022-09-07",
          "2022-08-31",
          "2022-08-24",
          "2022-08-17",
          "2022-08-10",
          "2022-08-03",
          "2022-07-27",
          "2022-07-20",
          "2022-07-13",
          "2022-07-06",
          "2022-06-29",
          "2022-06-22",
          "2022-06-15",
          "2022-06-08",
          "2022-06-01",
          "2022-05-25",
          "2022-05-18",
          "2022-05-11",
          "2022-05-04",
          "2022-04-27",
          "2022-04-20",
          "2022-04-13",
          "2022-04-06",
          "2022-03-30",
          "2022-03-23"
         ],
         "xaxis": "x",
         "y": [
          5101205.201040444,
          5101205.201040444,
          5101205.201040444,
          5101205.201040444,
          5101205.201040444,
          5101205.201040444,
          5101205.201040444,
          5101205.201040444,
          5101205.201040444,
          5101205.201040444,
          5101205.201040444,
          5101205.201040444,
          5101205.201040444,
          5101205.201040444,
          5101205.201040444,
          5101205.201040444,
          5101205.201040444,
          5101205.201040444,
          5078612.061535533,
          4215190.148815762,
          4215190.148815762,
          4215190.148815762,
          4215190.148815762,
          4215190.148815762,
          4215190.148815762,
          4215190.148815762,
          4215190.148815762,
          4215190.148815762,
          4215190.148815762,
          4215190.148815762,
          4215190.148815762,
          4215190.148815762,
          4215190.148815762,
          4215190.148815762,
          4189495.941545119,
          3351768.236095991,
          3351768.236095991,
          3351768.236095991,
          3351768.236095991,
          3351768.236095991,
          3351768.236095991,
          3351768.236095991,
          3351768.236095991,
          3351768.236095991,
          3351768.236095991,
          3351768.236095991,
          3348684.114715687,
          3333065.045686786,
          3333065.045686786,
          3333065.045686786,
          3333065.045686786,
          3333065.045686786,
          3325507.632998973,
          2495337.340245199,
          2495337.340245199,
          2495337.340245199,
          2495337.340245199,
          2495337.340245199,
          2495337.340237658,
          2489474.57400139,
          2489474.57400139,
          2477147.291211501,
          2477147.291211501,
          2477147.291211501,
          2477147.291211501,
          2468875.400518242,
          2468875.400518242,
          2461528.2221826,
          2461528.2221826,
          2461528.2221826,
          2458111.631414989,
          1631357.929428826,
          1631357.929428826,
          1631357.929428826,
          1631357.929428826,
          1631357.929428826,
          1625495.163192558,
          1625495.163192558,
          1625495.163192558,
          1625495.163192558,
          1625495.163192558,
          1625495.163192558,
          1625495.163192558,
          1625495.163192558,
          1625495.163192558,
          1625495.163192558,
          1597482.922412792,
          798741.461206396,
          798741.461206396,
          798741.461206396,
          798741.461206396,
          798741.461206396,
          798741.461206396,
          798741.461206396,
          798741.461206396,
          798741.461206396,
          798741.461206396,
          798741.461206396,
          798741.461206396,
          798741.461206396,
          798741.461206396,
          798741.461206396,
          798741.461206396,
          366493.575861689,
          267398.121536499
         ],
         "yaxis": "y"
        },
        {
         "hovertemplate": "known_as=Reserve<br>x=%{x}<br>current_locked=%{y}<extra></extra>",
         "legendgroup": "Reserve",
         "line": {
          "color": "#FECB52",
          "dash": "solid",
          "shape": "linear"
         },
         "mode": "lines",
         "name": "Reserve",
         "showlegend": true,
         "type": "scattergl",
         "x": [
          "2024-03-20",
          "2024-03-13",
          "2024-03-06",
          "2024-02-28",
          "2024-02-21",
          "2024-02-14",
          "2024-02-07",
          "2024-01-31",
          "2024-01-24",
          "2024-01-17",
          "2024-01-10",
          "2024-01-03",
          "2023-12-27",
          "2023-12-20",
          "2023-12-13",
          "2023-12-06",
          "2023-11-29",
          "2023-11-22",
          "2023-11-15",
          "2023-11-08",
          "2023-11-01",
          "2023-10-25",
          "2023-10-18",
          "2023-10-11",
          "2023-10-04",
          "2023-09-27",
          "2023-09-20",
          "2023-09-13",
          "2023-09-06",
          "2023-08-30",
          "2023-08-23",
          "2023-08-16",
          "2023-08-09",
          "2023-08-02",
          "2023-07-26",
          "2023-07-19",
          "2023-07-12",
          "2023-07-05",
          "2023-06-28",
          "2023-06-21",
          "2023-06-14",
          "2023-06-07",
          "2023-05-31",
          "2023-05-24",
          "2023-05-17",
          "2023-05-10",
          "2023-05-03",
          "2023-04-26",
          "2023-04-19",
          "2023-04-12",
          "2023-04-05",
          "2023-03-29",
          "2023-03-22",
          "2023-03-15",
          "2023-03-08",
          "2023-03-01",
          "2023-02-22",
          "2023-02-15",
          "2023-02-08",
          "2023-02-01",
          "2023-01-25",
          "2023-01-18",
          "2023-01-11",
          "2023-01-04",
          "2022-12-28",
          "2022-12-21",
          "2022-12-14",
          "2022-12-07",
          "2022-11-30",
          "2022-11-23",
          "2022-11-16",
          "2022-11-09",
          "2022-11-02",
          "2022-10-26",
          "2022-10-19",
          "2022-10-12",
          "2022-10-05",
          "2022-09-28",
          "2022-09-21",
          "2022-09-14",
          "2022-09-07",
          "2022-08-31",
          "2022-08-24",
          "2022-08-17",
          "2022-08-10",
          "2022-08-03",
          "2022-07-27",
          "2022-07-20",
          "2022-07-13",
          "2022-07-06",
          "2022-06-29"
         ],
         "xaxis": "x",
         "y": [
          4533396.298904368,
          4533396.298904368,
          4533396.298904368,
          4533396.298904368,
          4533396.298904368,
          4533396.298904368,
          4533396.298904368,
          4533396.298904368,
          4533396.298904368,
          4533396.298904368,
          4533396.298904368,
          4533396.298904368,
          4533396.298904368,
          4533396.298904368,
          4533396.298904368,
          4533396.298904368,
          4533396.298904368,
          4533396.298904368,
          4339677.834744936,
          4338604.975482944,
          4338604.975482944,
          4239963.316751345,
          4239963.316751345,
          4139963.316751345,
          4106879.134878608,
          3713879.134878608,
          3562863.82541899,
          3562863.82541899,
          3562863.82541899,
          3562863.82541899,
          3562863.82541899,
          3562863.82541899,
          3557556.620697773,
          3363838.156538341,
          3362765.297276349,
          3362765.297276349,
          3362765.297276349,
          3264123.63854475,
          3264123.63854475,
          3164123.63854475,
          3131039.456672013,
          2738039.456672013,
          2588034.456672013,
          2588034.456672013,
          2588034.456672013,
          2588034.456672013,
          2588034.456672013,
          2588034.456672013,
          2582727.251950796,
          2389008.787791364,
          2389008.787791364,
          2389008.787791364,
          2389008.787791364,
          2290367.129059765,
          2290367.129059765,
          2290367.129059765,
          2190367.129059765,
          2157282.947187028,
          1764282.947187028,
          1614277.947187028,
          1614277.947187028,
          1614277.947187028,
          1614277.947187028,
          1614277.947187028,
          1614277.947187028,
          1614277.947187028,
          1519380.487717932,
          1420559.483027597,
          1420559.483027597,
          1420559.483027597,
          1321917.824295998,
          1321917.824295998,
          1188833.642423261,
          795833.642423261,
          645828.642423261,
          645828.642423261,
          645828.642423261,
          645828.642423261,
          645828.642423261,
          645828.642423261,
          645828.642423261,
          550931.182954165,
          452110.17826383,
          452110.17826383,
          452110.17826383,
          353468.51953223103,
          353468.51953223103,
          253468.519532231,
          250005,
          150005,
          5
         ],
         "yaxis": "y"
        },
        {
         "hovertemplate": "known_as=Bent<br>x=%{x}<br>current_locked=%{y}<extra></extra>",
         "legendgroup": "Bent",
         "line": {
          "color": "#636efa",
          "dash": "solid",
          "shape": "linear"
         },
         "mode": "lines",
         "name": "Bent",
         "showlegend": true,
         "type": "scattergl",
         "x": [
          "2024-03-20",
          "2024-03-13",
          "2024-03-06",
          "2024-02-28",
          "2024-02-21",
          "2024-02-14",
          "2024-02-07",
          "2024-01-31",
          "2024-01-24",
          "2024-01-17",
          "2024-01-10",
          "2024-01-03",
          "2023-12-27",
          "2023-12-20",
          "2023-12-13",
          "2023-12-06",
          "2023-11-29",
          "2023-11-22",
          "2023-11-15",
          "2023-11-08",
          "2023-11-01",
          "2023-10-25",
          "2023-10-18",
          "2023-10-11",
          "2023-10-04",
          "2023-09-27",
          "2023-09-20",
          "2023-09-13",
          "2023-09-06",
          "2023-08-30",
          "2023-08-23",
          "2023-08-16",
          "2023-08-09",
          "2023-08-02",
          "2023-07-26",
          "2023-07-19",
          "2023-07-12",
          "2023-07-05",
          "2023-06-28",
          "2023-06-21",
          "2023-06-14",
          "2023-06-07",
          "2023-05-31",
          "2023-05-24",
          "2023-05-17",
          "2023-05-10",
          "2023-05-03",
          "2023-04-26",
          "2023-04-19",
          "2023-04-12",
          "2023-04-05",
          "2023-03-29",
          "2023-03-22",
          "2023-03-15",
          "2023-03-08",
          "2023-03-01",
          "2023-02-22",
          "2023-02-15",
          "2023-02-08",
          "2023-02-01",
          "2023-01-25",
          "2023-01-18",
          "2023-01-11",
          "2023-01-04",
          "2022-12-28",
          "2022-12-21",
          "2022-12-14",
          "2022-12-07",
          "2022-11-30",
          "2022-11-23",
          "2022-11-16",
          "2022-11-09",
          "2022-11-02",
          "2022-10-26",
          "2022-10-19",
          "2022-10-12",
          "2022-10-05",
          "2022-09-28",
          "2022-09-21",
          "2022-09-14",
          "2022-09-07",
          "2022-08-31",
          "2022-08-24",
          "2022-08-17",
          "2022-08-10",
          "2022-08-03",
          "2022-07-27",
          "2022-07-20",
          "2022-07-13",
          "2022-07-06",
          "2022-06-29",
          "2022-06-22",
          "2022-06-15",
          "2022-06-08",
          "2022-06-01",
          "2022-05-25",
          "2022-05-18",
          "2022-05-11",
          "2022-05-04",
          "2022-04-27",
          "2022-04-20",
          "2022-04-13",
          "2022-04-06",
          "2022-03-30",
          "2022-03-23",
          "2022-03-16",
          "2022-03-09"
         ],
         "xaxis": "x",
         "y": [
          3743962.537497427,
          3743962.537497427,
          3743962.537497427,
          3743962.537497427,
          3743962.537497427,
          3743962.537497427,
          3743962.537497427,
          3743962.537497427,
          3743962.537497427,
          3743962.537497427,
          3743962.537497427,
          3743962.537497427,
          3743962.537497427,
          3743962.537497427,
          3743962.537497427,
          3743962.537497427,
          3743962.537497427,
          3743962.537497427,
          3733278.019330972,
          3704336.804437013,
          3704336.804437013,
          3698983.084543454,
          3670384.570630009,
          3670384.570630009,
          3651409.711076863,
          3646598.981076863,
          3128660.217633661,
          3118951.667633661,
          3075541.681472505,
          3075541.681472505,
          3075541.681472505,
          3070752.761472505,
          3042429.0951296748,
          3031744.57696322,
          3002803.362069261,
          3002803.362069261,
          3002803.362069261,
          2997449.642175702,
          2974423.466813353,
          2968851.128262257,
          2949876.268709111,
          2945065.538709111,
          2432053.697265909,
          2427126.775265909,
          2410164.488032005,
          2405988.767273373,
          2388362.615104753,
          2383716.789104753,
          2359993.122761923,
          2355393.122761923,
          2344285.753120827,
          2339882.081120827,
          2331251.907867963,
          2326451.907867963,
          2326451.907867963,
          2317847.636063468,
          2303425.732505615,
          2289927.460379342,
          2284450.8729524678,
          1771439.031509266,
          1771439.031509266,
          1764629.1032808481,
          1754476.744275362,
          1744266.84603947,
          1736850.592106743,
          1714626.925763913,
          1713126.925763913,
          1703882.2030614251,
          1702019.556122818,
          1696232.382869954,
          1693389.382869954,
          1684785.111065459,
          1662637.204881333,
          1660979.145381333,
          1148645.303938131,
          1147967.303938131,
          1146706.192318476,
          1144013.06135315,
          1133836.986183742,
          1132006.486183742,
          1109782.819840911,
          1109782.819840911,
          1108150.888679921,
          1100538.097138423,
          1100538.097138423,
          1094750.923885559,
          1092669.893594395,
          1086146.652081064,
          1074306.4394547911,
          1074306.4394547911,
          561972.598011589,
          561972.598011589,
          561972.598011589,
          559279.467046263,
          559279.467046263,
          549103.391876855,
          549103.391876855,
          549103.391876855,
          526947.88972055,
          526947.88972055,
          519335.098179052,
          519335.098179052,
          517851.577829378,
          517254.067887888,
          505413.855261615,
          505413.855261615,
          505413.855261615
         ],
         "yaxis": "y"
        },
        {
         "hovertemplate": "known_as=Olympus<br>x=%{x}<br>current_locked=%{y}<extra></extra>",
         "legendgroup": "Olympus",
         "line": {
          "color": "#EF553B",
          "dash": "solid",
          "shape": "linear"
         },
         "mode": "lines",
         "name": "Olympus",
         "showlegend": true,
         "type": "scattergl",
         "x": [
          "2024-03-20",
          "2024-03-13",
          "2024-03-06",
          "2024-02-28",
          "2024-02-21",
          "2024-02-14",
          "2024-02-07",
          "2024-01-31",
          "2024-01-24",
          "2024-01-17",
          "2024-01-10",
          "2024-01-03",
          "2023-12-27",
          "2023-12-20",
          "2023-12-13",
          "2023-12-06",
          "2023-11-29",
          "2023-11-22",
          "2023-11-15",
          "2023-11-08",
          "2023-11-01",
          "2023-10-25",
          "2023-10-18",
          "2023-10-11",
          "2023-10-04",
          "2023-09-27",
          "2023-09-20",
          "2023-09-13",
          "2023-09-06",
          "2023-08-30",
          "2023-08-23",
          "2023-08-16",
          "2023-08-09",
          "2023-08-02",
          "2023-07-26",
          "2023-07-19",
          "2023-07-12",
          "2023-07-05",
          "2023-06-28",
          "2023-06-21",
          "2023-06-14",
          "2023-06-07",
          "2023-05-31",
          "2023-05-24",
          "2023-05-17",
          "2023-05-10",
          "2023-05-03",
          "2023-04-26",
          "2023-04-19",
          "2023-04-12",
          "2023-04-05",
          "2023-03-29",
          "2023-03-22",
          "2023-03-15",
          "2023-03-08",
          "2023-03-01",
          "2023-02-22",
          "2023-02-15",
          "2023-02-08",
          "2023-02-01",
          "2023-01-25",
          "2023-01-18",
          "2023-01-11",
          "2023-01-04",
          "2022-12-28",
          "2022-12-21",
          "2022-12-14",
          "2022-12-07",
          "2022-11-30",
          "2022-11-23",
          "2022-11-16",
          "2022-11-09",
          "2022-11-02",
          "2022-10-26",
          "2022-10-19",
          "2022-10-12",
          "2022-10-05",
          "2022-09-28",
          "2022-09-21",
          "2022-09-14",
          "2022-09-07",
          "2022-08-31",
          "2022-08-24",
          "2022-08-17",
          "2022-08-10",
          "2022-08-03",
          "2022-07-27",
          "2022-07-20",
          "2022-07-13",
          "2022-07-06",
          "2022-06-29",
          "2022-06-22",
          "2022-06-15",
          "2022-06-08",
          "2022-06-01",
          "2022-05-25",
          "2022-05-18",
          "2022-05-11",
          "2022-05-04",
          "2022-04-27",
          "2022-04-20"
         ],
         "xaxis": "x",
         "y": [
          2671868.071098134,
          2671868.071098134,
          2671868.071098134,
          2671868.071098134,
          2671868.071098134,
          2671868.071098134,
          2671868.071098134,
          2671868.071098134,
          2671868.071098134,
          2671868.071098134,
          2671868.071098134,
          2671868.071098134,
          2671868.071098134,
          2671868.071098134,
          2671868.071098134,
          2671868.071098134,
          2671868.071098134,
          2671868.071098134,
          2671868.071098134,
          2671868.071098134,
          2671868.071098134,
          2671868.071098134,
          2671868.071098134,
          2671868.071098134,
          2671868.071098134,
          2671868.071098134,
          2671868.071098134,
          2671868.071098134,
          2671868.071098134,
          2671868.071098134,
          2671868.071098134,
          2671868.071098134,
          2671868.071098134,
          2671868.071098134,
          2671868.071098134,
          2671868.071098134,
          2671868.071098134,
          2671868.071098134,
          2671868.071098134,
          2671868.071098134,
          2671868.071098134,
          2671868.071098134,
          2671868.071098134,
          2671868.071098134,
          2671868.071098134,
          2671868.071098134,
          2671868.071098134,
          2671868.071098134,
          2671868.071098134,
          2671868.071098134,
          2671868.071098134,
          2671868.071098134,
          2671868.071098134,
          2671868.071098134,
          2671868.071098134,
          2670485.330042839,
          2670485.330042839,
          2670485.330042839,
          2670485.330042839,
          2670485.330042839,
          2670485.330042839,
          2670485.330042839,
          1756489.895696156,
          1756489.895696156,
          1756489.895696156,
          1756489.895696156,
          1756489.895696156,
          1756489.895696156,
          1756489.895696156,
          1756489.895696156,
          1756489.895696156,
          1756489.895696156,
          1756489.895696156,
          1756489.895696156,
          1756489.895696156,
          1756489.895696156,
          1756489.895696156,
          1756489.895696156,
          1756489.895696156,
          1756489.895696156,
          1756489.895696156,
          1756489.895696156,
          1756489.895696156,
          1756489.895696156,
          886741.684639783,
          886741.684639783,
          886741.684639783,
          886741.684639783,
          886741.684639783,
          877321.617954795,
          877321.617954795,
          877321.617954795,
          877321.617954795,
          857967.559619916,
          857967.559619916,
          857967.559619916,
          857967.559619916,
          857967.559619916,
          857967.559619916,
          857967.559619916,
          857967.559619916
         ],
         "yaxis": "y"
        },
        {
         "hovertemplate": "known_as=Alchemix<br>x=%{x}<br>current_locked=%{y}<extra></extra>",
         "legendgroup": "Alchemix",
         "line": {
          "color": "#00cc96",
          "dash": "solid",
          "shape": "linear"
         },
         "mode": "lines",
         "name": "Alchemix",
         "showlegend": true,
         "type": "scattergl",
         "x": [
          "2024-03-20",
          "2024-03-13",
          "2024-03-06",
          "2024-02-28",
          "2024-02-21",
          "2024-02-14",
          "2024-02-07",
          "2024-01-31",
          "2024-01-24",
          "2024-01-17",
          "2024-01-10",
          "2024-01-03",
          "2023-12-27",
          "2023-12-20",
          "2023-12-13",
          "2023-12-06",
          "2023-11-29",
          "2023-11-22",
          "2023-11-15",
          "2023-11-08",
          "2023-11-01",
          "2023-10-25",
          "2023-10-18",
          "2023-10-11",
          "2023-10-04",
          "2023-09-27",
          "2023-09-20",
          "2023-09-13",
          "2023-09-06",
          "2023-08-30",
          "2023-08-23",
          "2023-08-16",
          "2023-08-09",
          "2023-08-02",
          "2023-07-26",
          "2023-07-19",
          "2023-07-12",
          "2023-07-05",
          "2023-06-28",
          "2023-06-21",
          "2023-06-14",
          "2023-06-07",
          "2023-05-31",
          "2023-05-24",
          "2023-05-17",
          "2023-05-10",
          "2023-05-03",
          "2023-04-26",
          "2023-04-19",
          "2023-04-12",
          "2023-04-05",
          "2023-03-29",
          "2023-03-22",
          "2023-03-15",
          "2023-03-08",
          "2023-03-01",
          "2023-02-22",
          "2023-02-15",
          "2023-02-08",
          "2023-02-01",
          "2023-01-25",
          "2023-01-18",
          "2023-01-11",
          "2023-01-04",
          "2022-12-28",
          "2022-12-21",
          "2022-12-14",
          "2022-12-07",
          "2022-11-30",
          "2022-11-23",
          "2022-11-16",
          "2022-11-09",
          "2022-11-02",
          "2022-10-26",
          "2022-10-19",
          "2022-10-12",
          "2022-10-05",
          "2022-09-28",
          "2022-09-21",
          "2022-09-14",
          "2022-09-07",
          "2022-08-31",
          "2022-08-24",
          "2022-08-17",
          "2022-08-10",
          "2022-08-03",
          "2022-07-27",
          "2022-07-20",
          "2022-07-13",
          "2022-07-06",
          "2022-06-29",
          "2022-06-22",
          "2022-06-15",
          "2022-06-08",
          "2022-06-01",
          "2022-05-25",
          "2022-05-18",
          "2022-05-11",
          "2022-05-04",
          "2022-04-27",
          "2022-04-20",
          "2022-04-13",
          "2022-04-06",
          "2022-03-30",
          "2022-03-23"
         ],
         "xaxis": "x",
         "y": [
          2046599.613351936,
          2046599.613351936,
          2046599.613351936,
          2046599.613351936,
          2046599.613351936,
          2046599.613351936,
          2046599.613351936,
          2046599.613351936,
          2046599.613351936,
          2046599.613351936,
          2046599.613351936,
          2046599.613351936,
          2046599.613351936,
          2046599.613351936,
          2046599.613351936,
          2046599.613351936,
          2046599.613351936,
          2046599.613351936,
          2046599.613351936,
          2046599.613351936,
          2046599.613351936,
          2046599.613351936,
          2044599.613351936,
          1801536.987425153,
          1801536.987425153,
          1762492.617174112,
          1762492.617174112,
          1762492.617174112,
          1762492.617174112,
          1762492.617174112,
          1762492.617174112,
          1741349.22047433,
          1741349.22047433,
          1701097.922158263,
          1701097.922158263,
          1657963.0078196109,
          1657963.0078196109,
          1657963.0078196109,
          1655963.0078196109,
          1412900.381892828,
          1412900.381892828,
          1411400.381892828,
          1404733.778482499,
          1404733.778482499,
          1373856.011641788,
          1373856.011641788,
          1373856.011641788,
          1352712.614942006,
          1352712.614942006,
          1312461.316625939,
          1312461.316625939,
          1312461.316625939,
          1312461.316625939,
          1285466.503210127,
          1285466.503210127,
          1269326.402287287,
          1030263.776360504,
          1029263.776360504,
          1026263.776360504,
          1023597.172950175,
          1019597.172950175,
          1010013.133770227,
          999413.133770227,
          988719.406109464,
          967576.009409682,
          967576.009409682,
          967576.009409682,
          941276.947928831,
          927324.711093615,
          927324.711093615,
          901779.897677803,
          885639.796754963,
          646577.17082818,
          643577.17082818,
          643577.17082818,
          639577.17082818,
          633993.131648232,
          629993.131648232,
          619299.403987469,
          614799.403987469,
          602421.007287687,
          598156.007287687,
          587215.455806836,
          583179.455806836,
          573263.21897162,
          551918.405555808,
          535778.304632968,
          535778.304632968,
          535778.304632968,
          300715.678706185,
          300715.678706185,
          300715.678706185,
          300715.678706185,
          295131.63952623704,
          284437.911865474,
          284437.911865474,
          284437.911865474,
          272059.51516569103,
          272059.51516569103,
          261118.96368484,
          261118.96368484,
          251202.72684962302,
          251202.72684962302,
          235062.62592678302,
          235062.62592678302
         ],
         "yaxis": "y"
        },
        {
         "hovertemplate": "known_as=Origin<br>x=%{x}<br>current_locked=%{y}<extra></extra>",
         "legendgroup": "Origin",
         "line": {
          "color": "#ab63fa",
          "dash": "solid",
          "shape": "linear"
         },
         "mode": "lines",
         "name": "Origin",
         "showlegend": true,
         "type": "scattergl",
         "x": [
          "2024-03-20",
          "2024-03-13",
          "2024-03-06",
          "2024-02-28",
          "2024-02-21",
          "2024-02-14",
          "2024-02-07",
          "2024-01-31",
          "2024-01-24",
          "2024-01-17",
          "2024-01-10",
          "2024-01-03",
          "2023-12-27",
          "2023-12-20",
          "2023-12-13",
          "2023-12-06",
          "2023-11-29",
          "2023-11-22",
          "2023-11-15",
          "2023-11-08",
          "2023-11-01",
          "2023-10-25",
          "2023-10-18",
          "2023-10-11",
          "2023-10-04",
          "2023-09-27",
          "2023-09-20",
          "2023-09-13",
          "2023-09-06",
          "2023-08-30",
          "2023-08-23",
          "2023-08-16",
          "2023-08-09",
          "2023-08-02",
          "2023-07-26",
          "2023-07-19",
          "2023-07-12",
          "2023-07-05",
          "2023-06-28",
          "2023-06-21",
          "2023-06-14",
          "2023-06-07",
          "2023-05-31",
          "2023-05-24",
          "2023-05-17",
          "2023-05-10",
          "2023-05-03",
          "2023-04-26",
          "2023-04-19",
          "2023-04-12",
          "2023-04-05",
          "2023-03-29",
          "2023-03-22",
          "2023-03-15",
          "2023-03-08",
          "2023-03-01",
          "2023-02-22",
          "2023-02-15",
          "2023-02-08",
          "2023-02-01",
          "2023-01-25",
          "2023-01-18",
          "2023-01-11",
          "2023-01-04",
          "2022-12-28",
          "2022-12-21",
          "2022-12-14",
          "2022-12-07",
          "2022-11-30",
          "2022-11-23",
          "2022-11-16",
          "2022-11-09",
          "2022-11-02",
          "2022-10-26",
          "2022-10-19",
          "2022-10-12",
          "2022-10-05",
          "2022-09-28",
          "2022-09-21",
          "2022-09-14",
          "2022-09-07",
          "2022-08-31",
          "2022-08-24",
          "2022-08-17",
          "2022-08-10",
          "2022-08-03",
          "2022-07-27",
          "2022-07-20",
          "2022-07-13",
          "2022-07-06",
          "2022-06-29",
          "2022-06-22",
          "2022-06-15",
          "2022-06-08",
          "2022-06-01",
          "2022-05-25",
          "2022-05-18",
          "2022-05-11",
          "2022-05-04",
          "2022-04-27",
          "2022-04-20",
          "2022-04-13",
          "2022-04-06",
          "2022-03-30",
          "2022-03-23"
         ],
         "xaxis": "x",
         "y": [
          1807408.8354689789,
          1807408.8354689789,
          1807408.8354689789,
          1807408.8354689789,
          1807408.8354689789,
          1807408.8354689789,
          1807408.8354689789,
          1807408.8354689789,
          1807408.8354689789,
          1807408.8354689789,
          1807408.8354689789,
          1807408.8354689789,
          1807408.8354689789,
          1807408.8354689789,
          1807408.8354689789,
          1807408.8354689789,
          1807408.8354689789,
          1807408.8354689789,
          1807408.8354689789,
          1806997.171743437,
          1762875.338020312,
          1510589.8784886298,
          1510589.8784886298,
          1510589.8784886298,
          1510589.8784886298,
          1510589.8784886298,
          1510589.8784886298,
          1510589.8784886298,
          1510589.8784886298,
          1463268.451198769,
          1463268.451198769,
          1365312.141814311,
          1365312.141814311,
          1365312.141814311,
          1365312.141814311,
          1339941.492882807,
          1323710.417409197,
          1071424.957877515,
          1071424.957877515,
          1071424.957877515,
          1071424.957877515,
          1071424.957877515,
          1071424.957877515,
          1071424.957877515,
          1071424.957877515,
          1071424.957877515,
          1024103.530587654,
          1024103.530587654,
          982794.0200623629,
          964452.345280172,
          926147.2212031949,
          926147.2212031949,
          926147.2212031949,
          673861.7616715119,
          673861.7616715119,
          673861.7616715119,
          673861.7616715119,
          673861.7616715119,
          673861.7616715119,
          673861.7616715119,
          658365.173377023,
          658365.173377023,
          658365.173377023,
          658365.173377023,
          658365.173377023,
          658365.173377023,
          658365.173377023,
          658365.173377023,
          658365.173377023,
          658365.173377023,
          440654.536289796,
          440654.536289796,
          440654.536289796,
          440654.536289796,
          440654.536289796,
          435421.274174454,
          435421.274174454,
          435421.274174454,
          435421.274174454,
          435421.274174454,
          435421.274174454,
          435421.274174454,
          435421.274174454,
          435421.274174454,
          435421.274174454,
          435421.274174454,
          435421.274174454,
          217710.637087227,
          217710.637087227,
          217710.637087227,
          217710.637087227,
          217710.637087227,
          217710.637087227,
          217710.637087227,
          217710.637087227,
          217710.637087227,
          217710.637087227,
          217710.637087227,
          217710.637087227,
          217710.637087227,
          217710.637087227,
          217710.637087227,
          217710.637087227,
          217710.637087227,
          217710.637087227
         ],
         "yaxis": "y"
        },
        {
         "hovertemplate": "known_as=Silo<br>x=%{x}<br>current_locked=%{y}<extra></extra>",
         "legendgroup": "Silo",
         "line": {
          "color": "#FFA15A",
          "dash": "solid",
          "shape": "linear"
         },
         "mode": "lines",
         "name": "Silo",
         "showlegend": true,
         "type": "scattergl",
         "x": [
          "2024-03-20",
          "2024-03-13",
          "2024-03-06",
          "2024-02-28",
          "2024-02-21",
          "2024-02-14",
          "2024-02-07",
          "2024-01-31",
          "2024-01-24",
          "2024-01-17",
          "2024-01-10",
          "2024-01-03",
          "2023-12-27",
          "2023-12-20",
          "2023-12-13",
          "2023-12-06",
          "2023-11-29",
          "2023-11-22",
          "2023-11-15",
          "2023-11-08",
          "2023-11-01",
          "2023-10-25",
          "2023-10-18",
          "2023-10-11",
          "2023-10-04",
          "2023-09-27",
          "2023-09-20",
          "2023-09-13",
          "2023-09-06",
          "2023-08-30",
          "2023-08-23",
          "2023-08-16",
          "2023-08-09",
          "2023-08-02",
          "2023-07-26",
          "2023-07-19",
          "2023-07-12",
          "2023-07-05",
          "2023-06-28",
          "2023-06-21",
          "2023-06-14",
          "2023-06-07",
          "2023-05-31",
          "2023-05-24",
          "2023-05-17",
          "2023-05-10",
          "2023-05-03",
          "2023-04-26",
          "2023-04-19",
          "2023-04-12",
          "2023-04-05",
          "2023-03-29",
          "2023-03-22",
          "2023-03-15",
          "2023-03-08",
          "2023-03-01",
          "2023-02-22",
          "2023-02-15",
          "2023-02-08",
          "2023-02-01",
          "2023-01-25",
          "2023-01-18",
          "2023-01-11",
          "2023-01-04",
          "2022-12-28",
          "2022-12-21",
          "2022-12-14",
          "2022-12-07",
          "2022-11-30",
          "2022-11-23",
          "2022-11-16",
          "2022-11-09",
          "2022-11-02",
          "2022-10-26",
          "2022-10-19",
          "2022-10-12",
          "2022-10-05",
          "2022-09-28",
          "2022-09-21",
          "2022-09-14",
          "2022-09-07",
          "2022-08-31",
          "2022-08-24",
          "2022-08-17",
          "2022-08-10",
          "2022-08-03",
          "2022-07-27",
          "2022-07-20",
          "2022-07-13",
          "2022-07-06",
          "2022-06-29",
          "2022-06-22",
          "2022-06-15",
          "2022-06-08",
          "2022-06-01",
          "2022-05-25",
          "2022-05-18",
          "2022-05-11",
          "2022-05-04",
          "2022-04-27",
          "2022-04-20",
          "2022-04-13",
          "2022-04-06",
          "2022-03-30",
          "2022-03-23"
         ],
         "xaxis": "x",
         "y": [
          1557580.663723199,
          1557580.663723199,
          1557580.663723199,
          1557580.663723199,
          1557580.663723199,
          1557580.663723199,
          1557580.663723199,
          1557580.663723199,
          1557580.663723199,
          1557580.663723199,
          1557580.663723199,
          1557580.663723199,
          1557580.663723199,
          1557580.663723199,
          1557580.663723199,
          1557580.663723199,
          1557580.663723199,
          1557580.663723199,
          1557580.663723199,
          1557580.663723199,
          1548195.93117197,
          1548195.93117197,
          1447983.886435999,
          1297983.886435999,
          1297983.886435999,
          1297983.886435999,
          1297983.886435999,
          1297983.886435999,
          1297983.886435999,
          1297983.886435999,
          1297983.886435999,
          1297983.886435999,
          1297983.886435999,
          1297983.886435999,
          1297983.886435999,
          1297983.886435999,
          1297983.886435999,
          1288599.1538847699,
          1188387.109148799,
          1038387.109148799,
          1038387.109148799,
          1038387.109148799,
          1038387.109148799,
          1038387.109148799,
          1038387.109148799,
          1038387.109148799,
          1038387.109148799,
          1038387.109148799,
          1038387.109148799,
          1038387.109148799,
          1038387.109148799,
          1038387.109148799,
          1038387.109148799,
          1029002.37659757,
          1029002.37659757,
          928790.331861599,
          778790.331861599,
          778790.331861599,
          778790.331861599,
          778790.331861599,
          778790.331861599,
          778790.331861599,
          778790.331861599,
          778790.331861599,
          778790.331861599,
          778790.331861599,
          778790.331861599,
          778790.331861599,
          778790.331861599,
          778790.331861599,
          769405.5993103699,
          669193.554574399,
          519193.55457439896,
          519193.55457439896,
          519193.55457439896,
          519193.55457439896,
          519193.55457439896,
          519193.55457439896,
          519193.55457439896,
          519193.55457439896,
          519193.55457439896,
          519193.55457439896,
          519193.55457439896,
          519193.55457439896,
          519193.55457439896,
          509808.82202316995,
          409596.777287199,
          259596.777287199,
          259596.777287199,
          259596.777287199,
          259596.777287199,
          259596.777287199,
          259596.777287199,
          259596.777287199,
          259596.777287199,
          259596.777287199,
          259596.777287199,
          259596.777287199,
          259596.777287199,
          259596.777287199,
          259596.777287199,
          259596.777287199,
          255715.211397027,
          250212.044735971,
          250212.044735971
         ],
         "yaxis": "y"
        },
        {
         "hovertemplate": "known_as=Tokemac<br>x=%{x}<br>current_locked=%{y}<extra></extra>",
         "legendgroup": "Tokemac",
         "line": {
          "color": "#19d3f3",
          "dash": "solid",
          "shape": "linear"
         },
         "mode": "lines",
         "name": "Tokemac",
         "showlegend": true,
         "type": "scattergl",
         "x": [
          "2024-03-20",
          "2024-03-13",
          "2024-03-06",
          "2024-02-28",
          "2024-02-21",
          "2024-02-14",
          "2024-02-07",
          "2024-01-31",
          "2024-01-24",
          "2024-01-17",
          "2024-01-10",
          "2024-01-03",
          "2023-12-27",
          "2023-12-20",
          "2023-12-13",
          "2023-12-06",
          "2023-11-29",
          "2023-11-22",
          "2023-11-15",
          "2023-11-08",
          "2023-11-01",
          "2023-10-25",
          "2023-10-18",
          "2023-10-11",
          "2023-10-04",
          "2023-09-27",
          "2023-09-20",
          "2023-09-13",
          "2023-09-06",
          "2023-08-30",
          "2023-08-23",
          "2023-08-16",
          "2023-08-09",
          "2023-08-02",
          "2023-07-26",
          "2023-07-19",
          "2023-07-12",
          "2023-07-05",
          "2023-06-28",
          "2023-06-21",
          "2023-06-14",
          "2023-06-07",
          "2023-05-31",
          "2023-05-24",
          "2023-05-17",
          "2023-05-10",
          "2023-05-03",
          "2023-04-26",
          "2023-04-19",
          "2023-04-12",
          "2023-04-05",
          "2023-03-29",
          "2023-03-22",
          "2023-03-15",
          "2023-03-08",
          "2023-03-01",
          "2023-02-22",
          "2023-02-15",
          "2023-02-08",
          "2023-02-01",
          "2023-01-25",
          "2023-01-18",
          "2023-01-11",
          "2023-01-04",
          "2022-12-28",
          "2022-12-21",
          "2022-12-14",
          "2022-12-07",
          "2022-11-30",
          "2022-11-23",
          "2022-11-16",
          "2022-11-09",
          "2022-11-02",
          "2022-10-26",
          "2022-10-19",
          "2022-10-12",
          "2022-10-05",
          "2022-09-28",
          "2022-09-21",
          "2022-09-14",
          "2022-09-07",
          "2022-08-31",
          "2022-08-24",
          "2022-08-17",
          "2022-08-10",
          "2022-08-03",
          "2022-07-27",
          "2022-07-20",
          "2022-07-13",
          "2022-07-06",
          "2022-06-29",
          "2022-06-22",
          "2022-06-15",
          "2022-06-08",
          "2022-06-01",
          "2022-05-25",
          "2022-05-18",
          "2022-05-11",
          "2022-05-04",
          "2022-04-27",
          "2022-04-20",
          "2022-04-13",
          "2022-04-06"
         ],
         "xaxis": "x",
         "y": [
          1280606.800723363,
          1280606.800723363,
          1280606.800723363,
          1280606.800723363,
          1280606.800723363,
          1280606.800723363,
          1280606.800723363,
          1280606.800723363,
          1280606.800723363,
          1280606.800723363,
          1280606.800723363,
          1280606.800723363,
          1280606.800723363,
          1280606.800723363,
          1280606.800723363,
          1280606.800723363,
          1280606.800723363,
          1280606.800723363,
          1280606.800723363,
          1253894.506174443,
          1236609.237332931,
          1236609.237332931,
          1150226.4440349329,
          1150226.4440349329,
          1105659.966265894,
          1105659.966265894,
          1091892.948937079,
          1091892.948937079,
          1087302.32573522,
          1087302.32573522,
          1080345.853631269,
          1069908.357271001,
          1053197.68121274,
          1037525.424434001,
          1010813.129885081,
          1010813.129885081,
          993527.8610435689,
          993527.8610435689,
          907145.067745571,
          907145.067745571,
          862578.5899765319,
          862578.5899765319,
          848811.572647717,
          848811.572647717,
          844220.949445858,
          844220.949445858,
          837264.477341907,
          826826.980981639,
          810116.3049233779,
          794444.048144639,
          767731.753595719,
          767731.753595719,
          750446.484754207,
          750446.484754207,
          750446.484754207,
          664063.6914562089,
          664063.6914562089,
          619497.21368717,
          619497.21368717,
          605730.196358355,
          605730.196358355,
          601139.573156496,
          601139.573156496,
          594183.101052545,
          583745.604692277,
          567034.928634016,
          551362.671855277,
          548818.282690079,
          524650.377306357,
          507365.108464845,
          507365.108464845,
          420982.315166847,
          390527.098894829,
          376415.837397808,
          369377.960116177,
          362648.820068993,
          358058.196867134,
          358058.196867134,
          351101.724763184,
          340664.228402916,
          323953.552344655,
          308281.295565916,
          305736.906400718,
          281569.001016995,
          281569.001016995,
          264283.732175483,
          244743.898663639,
          180911.93083461298,
          177900.93887748598,
          174469.742221976,
          168079.029446935,
          162053.880439005,
          158355.991890628,
          158355.991890628,
          152893.733676616,
          142456.237316348,
          128562.556348481,
          114770.359346278,
          114770.359346278,
          92988.249328575,
          92988.249328575,
          80898.992712729,
          61359.159200885
         ],
         "yaxis": "y"
        },
        {
         "hovertemplate": "known_as=Paladin<br>x=%{x}<br>current_locked=%{y}<extra></extra>",
         "legendgroup": "Paladin",
         "line": {
          "color": "#FF6692",
          "dash": "solid",
          "shape": "linear"
         },
         "mode": "lines",
         "name": "Paladin",
         "showlegend": true,
         "type": "scattergl",
         "x": [
          "2024-03-20",
          "2024-03-13",
          "2024-03-06",
          "2024-02-28",
          "2024-02-21",
          "2024-02-14",
          "2024-02-07",
          "2024-01-31",
          "2024-01-24",
          "2024-01-17",
          "2024-01-10",
          "2024-01-03",
          "2023-12-27",
          "2023-12-20",
          "2023-12-13",
          "2023-12-06",
          "2023-11-29",
          "2023-11-22",
          "2023-11-15",
          "2023-11-08",
          "2023-11-01",
          "2023-10-25",
          "2023-10-18",
          "2023-10-11",
          "2023-10-04",
          "2023-09-27",
          "2023-09-20",
          "2023-09-13",
          "2023-09-06",
          "2023-08-30",
          "2023-08-23",
          "2023-08-16",
          "2023-08-09",
          "2023-08-02",
          "2023-07-26",
          "2023-07-19",
          "2023-07-12",
          "2023-07-05",
          "2023-06-28",
          "2023-06-21",
          "2023-06-14",
          "2023-06-07",
          "2023-05-31",
          "2023-05-24",
          "2023-05-17",
          "2023-05-10",
          "2023-05-03",
          "2023-04-26",
          "2023-04-19",
          "2023-04-12",
          "2023-04-05",
          "2023-03-29",
          "2023-03-22",
          "2023-03-15",
          "2023-03-08",
          "2023-03-01",
          "2023-02-22",
          "2023-02-15",
          "2023-02-08",
          "2023-02-01",
          "2023-01-25",
          "2023-01-18",
          "2023-01-11",
          "2023-01-04",
          "2022-12-28",
          "2022-12-21"
         ],
         "xaxis": "x",
         "y": [
          21344.294473406,
          21344.294473406,
          21344.294473406,
          21344.294473406,
          21344.294473406,
          21344.294473406,
          21344.294473406,
          21344.294473406,
          21344.294473406,
          21344.294473406,
          21344.294473406,
          21344.294473406,
          21344.294473406,
          21344.294473406,
          21344.294473406,
          21344.294473406,
          21344.294473406,
          21344.294473406,
          21344.294473406,
          21344.294473406,
          21344.294473406,
          21344.294473406,
          21344.294473406,
          21344.294473406,
          21344.294473406,
          21344.294473406,
          21344.294473406,
          21344.294473406,
          21344.294473406,
          21344.294473406,
          21344.294473406,
          21344.294473406,
          21344.294473406,
          21344.294473406,
          21344.294473406,
          21344.294473406,
          21344.294473406,
          21344.294473406,
          21344.294473406,
          21344.294473406,
          21344.294473406,
          12870.906995894,
          8348.132524263001,
          8348.132524263001,
          8348.132524263001,
          8348.132524263001,
          8348.132524263001,
          8348.132524263001,
          8348.132524263001,
          8348.132524263001,
          8348.132524263001,
          8348.132524263001,
          8348.132524263001,
          8348.132524263001,
          8348.132524263001,
          8348.132524263001,
          8348.132524263001,
          8348.132524263001,
          8348.132524263001,
          8348.132524263001,
          7725.784325652,
          7725.784325652,
          3825.358052632,
          3825.358052632,
          3825.358052632,
          3825.358052632
         ],
         "yaxis": "y"
        }
       ],
       "layout": {
        "font": {
         "color": "RebeccaPurple",
         "family": "Courier New, monospace",
         "size": 18
        },
        "legend": {
         "title": {
          "text": "known_as"
         },
         "tracegroupgap": 0
        },
        "margin": {
         "t": 60
        },
        "shapes": [
         {
          "line": {
           "color": "black",
           "dash": "dash",
           "width": 2
          },
          "type": "line",
          "x0": "2023-11-28T21:07:03.844663",
          "x1": "2023-11-28T21:07:03.844663",
          "xref": "x",
          "y0": 0,
          "y1": 1,
          "yref": "y domain"
         }
        ],
        "template": {
         "data": {
          "bar": [
           {
            "error_x": {
             "color": "#2a3f5f"
            },
            "error_y": {
             "color": "#2a3f5f"
            },
            "marker": {
             "line": {
              "color": "#E5ECF6",
              "width": 0.5
             }
            },
            "type": "bar"
           }
          ],
          "barpolar": [
           {
            "marker": {
             "line": {
              "color": "#E5ECF6",
              "width": 0.5
             }
            },
            "type": "barpolar"
           }
          ],
          "carpet": [
           {
            "aaxis": {
             "endlinecolor": "#2a3f5f",
             "gridcolor": "white",
             "linecolor": "white",
             "minorgridcolor": "white",
             "startlinecolor": "#2a3f5f"
            },
            "baxis": {
             "endlinecolor": "#2a3f5f",
             "gridcolor": "white",
             "linecolor": "white",
             "minorgridcolor": "white",
             "startlinecolor": "#2a3f5f"
            },
            "type": "carpet"
           }
          ],
          "choropleth": [
           {
            "colorbar": {
             "outlinewidth": 0,
             "ticks": ""
            },
            "type": "choropleth"
           }
          ],
          "contour": [
           {
            "colorbar": {
             "outlinewidth": 0,
             "ticks": ""
            },
            "colorscale": [
             [
              0,
              "#0d0887"
             ],
             [
              0.1111111111111111,
              "#46039f"
             ],
             [
              0.2222222222222222,
              "#7201a8"
             ],
             [
              0.3333333333333333,
              "#9c179e"
             ],
             [
              0.4444444444444444,
              "#bd3786"
             ],
             [
              0.5555555555555556,
              "#d8576b"
             ],
             [
              0.6666666666666666,
              "#ed7953"
             ],
             [
              0.7777777777777778,
              "#fb9f3a"
             ],
             [
              0.8888888888888888,
              "#fdca26"
             ],
             [
              1,
              "#f0f921"
             ]
            ],
            "type": "contour"
           }
          ],
          "contourcarpet": [
           {
            "colorbar": {
             "outlinewidth": 0,
             "ticks": ""
            },
            "type": "contourcarpet"
           }
          ],
          "heatmap": [
           {
            "colorbar": {
             "outlinewidth": 0,
             "ticks": ""
            },
            "colorscale": [
             [
              0,
              "#0d0887"
             ],
             [
              0.1111111111111111,
              "#46039f"
             ],
             [
              0.2222222222222222,
              "#7201a8"
             ],
             [
              0.3333333333333333,
              "#9c179e"
             ],
             [
              0.4444444444444444,
              "#bd3786"
             ],
             [
              0.5555555555555556,
              "#d8576b"
             ],
             [
              0.6666666666666666,
              "#ed7953"
             ],
             [
              0.7777777777777778,
              "#fb9f3a"
             ],
             [
              0.8888888888888888,
              "#fdca26"
             ],
             [
              1,
              "#f0f921"
             ]
            ],
            "type": "heatmap"
           }
          ],
          "heatmapgl": [
           {
            "colorbar": {
             "outlinewidth": 0,
             "ticks": ""
            },
            "colorscale": [
             [
              0,
              "#0d0887"
             ],
             [
              0.1111111111111111,
              "#46039f"
             ],
             [
              0.2222222222222222,
              "#7201a8"
             ],
             [
              0.3333333333333333,
              "#9c179e"
             ],
             [
              0.4444444444444444,
              "#bd3786"
             ],
             [
              0.5555555555555556,
              "#d8576b"
             ],
             [
              0.6666666666666666,
              "#ed7953"
             ],
             [
              0.7777777777777778,
              "#fb9f3a"
             ],
             [
              0.8888888888888888,
              "#fdca26"
             ],
             [
              1,
              "#f0f921"
             ]
            ],
            "type": "heatmapgl"
           }
          ],
          "histogram": [
           {
            "marker": {
             "colorbar": {
              "outlinewidth": 0,
              "ticks": ""
             }
            },
            "type": "histogram"
           }
          ],
          "histogram2d": [
           {
            "colorbar": {
             "outlinewidth": 0,
             "ticks": ""
            },
            "colorscale": [
             [
              0,
              "#0d0887"
             ],
             [
              0.1111111111111111,
              "#46039f"
             ],
             [
              0.2222222222222222,
              "#7201a8"
             ],
             [
              0.3333333333333333,
              "#9c179e"
             ],
             [
              0.4444444444444444,
              "#bd3786"
             ],
             [
              0.5555555555555556,
              "#d8576b"
             ],
             [
              0.6666666666666666,
              "#ed7953"
             ],
             [
              0.7777777777777778,
              "#fb9f3a"
             ],
             [
              0.8888888888888888,
              "#fdca26"
             ],
             [
              1,
              "#f0f921"
             ]
            ],
            "type": "histogram2d"
           }
          ],
          "histogram2dcontour": [
           {
            "colorbar": {
             "outlinewidth": 0,
             "ticks": ""
            },
            "colorscale": [
             [
              0,
              "#0d0887"
             ],
             [
              0.1111111111111111,
              "#46039f"
             ],
             [
              0.2222222222222222,
              "#7201a8"
             ],
             [
              0.3333333333333333,
              "#9c179e"
             ],
             [
              0.4444444444444444,
              "#bd3786"
             ],
             [
              0.5555555555555556,
              "#d8576b"
             ],
             [
              0.6666666666666666,
              "#ed7953"
             ],
             [
              0.7777777777777778,
              "#fb9f3a"
             ],
             [
              0.8888888888888888,
              "#fdca26"
             ],
             [
              1,
              "#f0f921"
             ]
            ],
            "type": "histogram2dcontour"
           }
          ],
          "mesh3d": [
           {
            "colorbar": {
             "outlinewidth": 0,
             "ticks": ""
            },
            "type": "mesh3d"
           }
          ],
          "parcoords": [
           {
            "line": {
             "colorbar": {
              "outlinewidth": 0,
              "ticks": ""
             }
            },
            "type": "parcoords"
           }
          ],
          "pie": [
           {
            "automargin": true,
            "type": "pie"
           }
          ],
          "scatter": [
           {
            "marker": {
             "colorbar": {
              "outlinewidth": 0,
              "ticks": ""
             }
            },
            "type": "scatter"
           }
          ],
          "scatter3d": [
           {
            "line": {
             "colorbar": {
              "outlinewidth": 0,
              "ticks": ""
             }
            },
            "marker": {
             "colorbar": {
              "outlinewidth": 0,
              "ticks": ""
             }
            },
            "type": "scatter3d"
           }
          ],
          "scattercarpet": [
           {
            "marker": {
             "colorbar": {
              "outlinewidth": 0,
              "ticks": ""
             }
            },
            "type": "scattercarpet"
           }
          ],
          "scattergeo": [
           {
            "marker": {
             "colorbar": {
              "outlinewidth": 0,
              "ticks": ""
             }
            },
            "type": "scattergeo"
           }
          ],
          "scattergl": [
           {
            "marker": {
             "colorbar": {
              "outlinewidth": 0,
              "ticks": ""
             }
            },
            "type": "scattergl"
           }
          ],
          "scattermapbox": [
           {
            "marker": {
             "colorbar": {
              "outlinewidth": 0,
              "ticks": ""
             }
            },
            "type": "scattermapbox"
           }
          ],
          "scatterpolar": [
           {
            "marker": {
             "colorbar": {
              "outlinewidth": 0,
              "ticks": ""
             }
            },
            "type": "scatterpolar"
           }
          ],
          "scatterpolargl": [
           {
            "marker": {
             "colorbar": {
              "outlinewidth": 0,
              "ticks": ""
             }
            },
            "type": "scatterpolargl"
           }
          ],
          "scatterternary": [
           {
            "marker": {
             "colorbar": {
              "outlinewidth": 0,
              "ticks": ""
             }
            },
            "type": "scatterternary"
           }
          ],
          "surface": [
           {
            "colorbar": {
             "outlinewidth": 0,
             "ticks": ""
            },
            "colorscale": [
             [
              0,
              "#0d0887"
             ],
             [
              0.1111111111111111,
              "#46039f"
             ],
             [
              0.2222222222222222,
              "#7201a8"
             ],
             [
              0.3333333333333333,
              "#9c179e"
             ],
             [
              0.4444444444444444,
              "#bd3786"
             ],
             [
              0.5555555555555556,
              "#d8576b"
             ],
             [
              0.6666666666666666,
              "#ed7953"
             ],
             [
              0.7777777777777778,
              "#fb9f3a"
             ],
             [
              0.8888888888888888,
              "#fdca26"
             ],
             [
              1,
              "#f0f921"
             ]
            ],
            "type": "surface"
           }
          ],
          "table": [
           {
            "cells": {
             "fill": {
              "color": "#EBF0F8"
             },
             "line": {
              "color": "white"
             }
            },
            "header": {
             "fill": {
              "color": "#C8D4E3"
             },
             "line": {
              "color": "white"
             }
            },
            "type": "table"
           }
          ]
         },
         "layout": {
          "annotationdefaults": {
           "arrowcolor": "#2a3f5f",
           "arrowhead": 0,
           "arrowwidth": 1
          },
          "autotypenumbers": "strict",
          "coloraxis": {
           "colorbar": {
            "outlinewidth": 0,
            "ticks": ""
           }
          },
          "colorscale": {
           "diverging": [
            [
             0,
             "#8e0152"
            ],
            [
             0.1,
             "#c51b7d"
            ],
            [
             0.2,
             "#de77ae"
            ],
            [
             0.3,
             "#f1b6da"
            ],
            [
             0.4,
             "#fde0ef"
            ],
            [
             0.5,
             "#f7f7f7"
            ],
            [
             0.6,
             "#e6f5d0"
            ],
            [
             0.7,
             "#b8e186"
            ],
            [
             0.8,
             "#7fbc41"
            ],
            [
             0.9,
             "#4d9221"
            ],
            [
             1,
             "#276419"
            ]
           ],
           "sequential": [
            [
             0,
             "#0d0887"
            ],
            [
             0.1111111111111111,
             "#46039f"
            ],
            [
             0.2222222222222222,
             "#7201a8"
            ],
            [
             0.3333333333333333,
             "#9c179e"
            ],
            [
             0.4444444444444444,
             "#bd3786"
            ],
            [
             0.5555555555555556,
             "#d8576b"
            ],
            [
             0.6666666666666666,
             "#ed7953"
            ],
            [
             0.7777777777777778,
             "#fb9f3a"
            ],
            [
             0.8888888888888888,
             "#fdca26"
            ],
            [
             1,
             "#f0f921"
            ]
           ],
           "sequentialminus": [
            [
             0,
             "#0d0887"
            ],
            [
             0.1111111111111111,
             "#46039f"
            ],
            [
             0.2222222222222222,
             "#7201a8"
            ],
            [
             0.3333333333333333,
             "#9c179e"
            ],
            [
             0.4444444444444444,
             "#bd3786"
            ],
            [
             0.5555555555555556,
             "#d8576b"
            ],
            [
             0.6666666666666666,
             "#ed7953"
            ],
            [
             0.7777777777777778,
             "#fb9f3a"
            ],
            [
             0.8888888888888888,
             "#fdca26"
            ],
            [
             1,
             "#f0f921"
            ]
           ]
          },
          "colorway": [
           "#636efa",
           "#EF553B",
           "#00cc96",
           "#ab63fa",
           "#FFA15A",
           "#19d3f3",
           "#FF6692",
           "#B6E880",
           "#FF97FF",
           "#FECB52"
          ],
          "font": {
           "color": "#2a3f5f"
          },
          "geo": {
           "bgcolor": "white",
           "lakecolor": "white",
           "landcolor": "#E5ECF6",
           "showlakes": true,
           "showland": true,
           "subunitcolor": "white"
          },
          "hoverlabel": {
           "align": "left"
          },
          "hovermode": "closest",
          "mapbox": {
           "style": "light"
          },
          "paper_bgcolor": "white",
          "plot_bgcolor": "#E5ECF6",
          "polar": {
           "angularaxis": {
            "gridcolor": "white",
            "linecolor": "white",
            "ticks": ""
           },
           "bgcolor": "#E5ECF6",
           "radialaxis": {
            "gridcolor": "white",
            "linecolor": "white",
            "ticks": ""
           }
          },
          "scene": {
           "xaxis": {
            "backgroundcolor": "#E5ECF6",
            "gridcolor": "white",
            "gridwidth": 2,
            "linecolor": "white",
            "showbackground": true,
            "ticks": "",
            "zerolinecolor": "white"
           },
           "yaxis": {
            "backgroundcolor": "#E5ECF6",
            "gridcolor": "white",
            "gridwidth": 2,
            "linecolor": "white",
            "showbackground": true,
            "ticks": "",
            "zerolinecolor": "white"
           },
           "zaxis": {
            "backgroundcolor": "#E5ECF6",
            "gridcolor": "white",
            "gridwidth": 2,
            "linecolor": "white",
            "showbackground": true,
            "ticks": "",
            "zerolinecolor": "white"
           }
          },
          "shapedefaults": {
           "line": {
            "color": "#2a3f5f"
           }
          },
          "ternary": {
           "aaxis": {
            "gridcolor": "white",
            "linecolor": "white",
            "ticks": ""
           },
           "baxis": {
            "gridcolor": "white",
            "linecolor": "white",
            "ticks": ""
           },
           "bgcolor": "#E5ECF6",
           "caxis": {
            "gridcolor": "white",
            "linecolor": "white",
            "ticks": ""
           }
          },
          "title": {
           "x": 0.05
          },
          "xaxis": {
           "automargin": true,
           "gridcolor": "white",
           "linecolor": "white",
           "ticks": "",
           "title": {
            "standoff": 15
           },
           "zerolinecolor": "white",
           "zerolinewidth": 2
          },
          "yaxis": {
           "automargin": true,
           "gridcolor": "white",
           "linecolor": "white",
           "ticks": "",
           "title": {
            "standoff": 15
           },
           "zerolinecolor": "white",
           "zerolinewidth": 2
          }
         }
        },
        "title": {
         "text": "Convex vlCVX Balances"
        },
        "xaxis": {
         "anchor": "y",
         "domain": [
          0,
          1
         ],
         "title": {
          "text": "This Epoch"
         }
        },
        "yaxis": {
         "anchor": "x",
         "domain": [
          0,
          1
         ],
         "title": {
          "text": "vlCVX Balance"
         }
        }
       }
      }
     },
     "metadata": {},
     "output_type": "display_data"
    }
   ],
   "source": [
    "\n",
    "fig = px.line(local_pcl_agg_user,\n",
    "                x=local_pcl_agg_user['this_epoch'].dt.date,\n",
    "                y=local_pcl_agg_user['current_locked'],\n",
    "                color='known_as',\n",
    "                line_shape='linear',\n",
    "                # facet_row=facet_row,\n",
    "                # facet_col_wrap=facet_col_wrap\n",
    "                )\n",
    "fig.add_vline(x=dt.now(), line_width=2, line_dash=\"dash\", line_color=\"black\")\n",
    "fig.update_layout(\n",
    "    title=f\"Convex vlCVX Balances\",\n",
    "        xaxis_title=\"This Epoch\",\n",
    "        yaxis_title=\"vlCVX Balance\",\n",
    "    #     legend_title=\"Legend Title\",\n",
    "    font=dict(\n",
    "        family=\"Courier New, monospace\",\n",
    "        size=18,\n",
    "        color=\"RebeccaPurple\"\n",
    "    ),\n",
    "    # height= 1000,\n",
    ")\n",
    "fig.show()"
   ]
  },
  {
   "cell_type": "code",
   "execution_count": null,
   "metadata": {},
   "outputs": [],
   "source": [
    "pcl_agg_epoch\n",
    "df_temp_start = pcl_agg_epoch[['epoch_start', 'locked_amount']]\n",
    "df_temp_end = pcl_agg_epoch[['epoch_end', 'locked_amount']]\n",
    "\n",
    "df_temp_end = df_temp_end.rename(columns={\n",
    "    \"locked_amount\": 'unlocked_amount',\n",
    "    })\n",
    "\n",
    "df_temp_start['epoch_start'] = df_temp_start.epoch_start.dt.date\n",
    "df_temp_end['epoch_end'] = df_temp_end.epoch_end.dt.date"
   ]
  },
  {
   "cell_type": "code",
   "execution_count": null,
   "metadata": {},
   "outputs": [],
   "source": [
    "df_combo = pd.merge(df_temp_start, df_temp_end, how='left', left_on = 'epoch_start', right_on = 'epoch_end')\n"
   ]
  },
  {
   "cell_type": "code",
   "execution_count": 167,
   "metadata": {},
   "outputs": [
    {
     "data": {
      "text/html": [
       "<div>\n",
       "<style scoped>\n",
       "    .dataframe tbody tr th:only-of-type {\n",
       "        vertical-align: middle;\n",
       "    }\n",
       "\n",
       "    .dataframe tbody tr th {\n",
       "        vertical-align: top;\n",
       "    }\n",
       "\n",
       "    .dataframe thead th {\n",
       "        text-align: right;\n",
       "    }\n",
       "</style>\n",
       "<table border=\"1\" class=\"dataframe\">\n",
       "  <thead>\n",
       "    <tr style=\"text-align: right;\">\n",
       "      <th></th>\n",
       "      <th>epoch_start</th>\n",
       "      <th>locked_amount</th>\n",
       "      <th>epoch_end</th>\n",
       "      <th>unlocked_amount</th>\n",
       "    </tr>\n",
       "  </thead>\n",
       "  <tbody>\n",
       "    <tr>\n",
       "      <th>41</th>\n",
       "      <td>2022-12-21</td>\n",
       "      <td>1.281501e+06</td>\n",
       "      <td>2022-12-21</td>\n",
       "      <td>1.026687e+06</td>\n",
       "    </tr>\n",
       "    <tr>\n",
       "      <th>42</th>\n",
       "      <td>2022-12-28</td>\n",
       "      <td>1.262790e+06</td>\n",
       "      <td>2022-12-28</td>\n",
       "      <td>1.169989e+06</td>\n",
       "    </tr>\n",
       "    <tr>\n",
       "      <th>43</th>\n",
       "      <td>2023-01-04</td>\n",
       "      <td>1.352710e+06</td>\n",
       "      <td>2023-01-04</td>\n",
       "      <td>1.190133e+06</td>\n",
       "    </tr>\n",
       "    <tr>\n",
       "      <th>44</th>\n",
       "      <td>2023-01-11</td>\n",
       "      <td>1.108628e+06</td>\n",
       "      <td>2023-01-11</td>\n",
       "      <td>8.998896e+05</td>\n",
       "    </tr>\n",
       "    <tr>\n",
       "      <th>45</th>\n",
       "      <td>2023-01-18</td>\n",
       "      <td>2.749241e+06</td>\n",
       "      <td>2023-01-18</td>\n",
       "      <td>1.701780e+06</td>\n",
       "    </tr>\n",
       "    <tr>\n",
       "      <th>46</th>\n",
       "      <td>2023-01-25</td>\n",
       "      <td>3.580809e+06</td>\n",
       "      <td>2023-01-25</td>\n",
       "      <td>2.050507e+06</td>\n",
       "    </tr>\n",
       "    <tr>\n",
       "      <th>47</th>\n",
       "      <td>2023-02-01</td>\n",
       "      <td>2.045123e+06</td>\n",
       "      <td>2023-02-01</td>\n",
       "      <td>7.488713e+05</td>\n",
       "    </tr>\n",
       "    <tr>\n",
       "      <th>48</th>\n",
       "      <td>2023-02-08</td>\n",
       "      <td>8.144371e+06</td>\n",
       "      <td>2023-02-08</td>\n",
       "      <td>1.049529e+07</td>\n",
       "    </tr>\n",
       "    <tr>\n",
       "      <th>49</th>\n",
       "      <td>2023-02-15</td>\n",
       "      <td>8.713933e+06</td>\n",
       "      <td>2023-02-15</td>\n",
       "      <td>8.460052e+06</td>\n",
       "    </tr>\n",
       "    <tr>\n",
       "      <th>50</th>\n",
       "      <td>2023-02-22</td>\n",
       "      <td>5.561803e+06</td>\n",
       "      <td>2023-02-22</td>\n",
       "      <td>6.471689e+06</td>\n",
       "    </tr>\n",
       "    <tr>\n",
       "      <th>51</th>\n",
       "      <td>2023-03-01</td>\n",
       "      <td>4.538475e+06</td>\n",
       "      <td>2023-03-01</td>\n",
       "      <td>4.091846e+06</td>\n",
       "    </tr>\n",
       "    <tr>\n",
       "      <th>52</th>\n",
       "      <td>2023-03-08</td>\n",
       "      <td>2.534772e+06</td>\n",
       "      <td>2023-03-08</td>\n",
       "      <td>2.741727e+06</td>\n",
       "    </tr>\n",
       "    <tr>\n",
       "      <th>53</th>\n",
       "      <td>2023-03-15</td>\n",
       "      <td>4.357643e+06</td>\n",
       "      <td>2023-03-15</td>\n",
       "      <td>2.233756e+06</td>\n",
       "    </tr>\n",
       "    <tr>\n",
       "      <th>54</th>\n",
       "      <td>2023-03-22</td>\n",
       "      <td>1.699770e+06</td>\n",
       "      <td>2023-03-22</td>\n",
       "      <td>1.518470e+06</td>\n",
       "    </tr>\n",
       "    <tr>\n",
       "      <th>55</th>\n",
       "      <td>2023-03-29</td>\n",
       "      <td>2.056094e+06</td>\n",
       "      <td>2023-03-29</td>\n",
       "      <td>1.712287e+06</td>\n",
       "    </tr>\n",
       "    <tr>\n",
       "      <th>56</th>\n",
       "      <td>2023-04-05</td>\n",
       "      <td>2.003633e+06</td>\n",
       "      <td>2023-04-05</td>\n",
       "      <td>3.035455e+06</td>\n",
       "    </tr>\n",
       "    <tr>\n",
       "      <th>57</th>\n",
       "      <td>2023-04-12</td>\n",
       "      <td>1.991119e+06</td>\n",
       "      <td>2023-04-12</td>\n",
       "      <td>1.281501e+06</td>\n",
       "    </tr>\n",
       "    <tr>\n",
       "      <th>58</th>\n",
       "      <td>2023-04-19</td>\n",
       "      <td>1.795060e+06</td>\n",
       "      <td>2023-04-19</td>\n",
       "      <td>1.262790e+06</td>\n",
       "    </tr>\n",
       "    <tr>\n",
       "      <th>59</th>\n",
       "      <td>2023-04-26</td>\n",
       "      <td>1.769011e+06</td>\n",
       "      <td>2023-04-26</td>\n",
       "      <td>1.352710e+06</td>\n",
       "    </tr>\n",
       "    <tr>\n",
       "      <th>60</th>\n",
       "      <td>2023-05-03</td>\n",
       "      <td>9.037324e+05</td>\n",
       "      <td>2023-05-03</td>\n",
       "      <td>1.108628e+06</td>\n",
       "    </tr>\n",
       "    <tr>\n",
       "      <th>61</th>\n",
       "      <td>2023-05-10</td>\n",
       "      <td>1.555394e+06</td>\n",
       "      <td>2023-05-10</td>\n",
       "      <td>2.749241e+06</td>\n",
       "    </tr>\n",
       "    <tr>\n",
       "      <th>62</th>\n",
       "      <td>2023-05-17</td>\n",
       "      <td>3.309025e+06</td>\n",
       "      <td>2023-05-17</td>\n",
       "      <td>3.580809e+06</td>\n",
       "    </tr>\n",
       "    <tr>\n",
       "      <th>63</th>\n",
       "      <td>2023-05-24</td>\n",
       "      <td>3.145798e+06</td>\n",
       "      <td>2023-05-24</td>\n",
       "      <td>2.045123e+06</td>\n",
       "    </tr>\n",
       "    <tr>\n",
       "      <th>64</th>\n",
       "      <td>2023-05-31</td>\n",
       "      <td>6.106247e+06</td>\n",
       "      <td>2023-05-31</td>\n",
       "      <td>8.144371e+06</td>\n",
       "    </tr>\n",
       "    <tr>\n",
       "      <th>65</th>\n",
       "      <td>2023-06-07</td>\n",
       "      <td>8.508475e+06</td>\n",
       "      <td>2023-06-07</td>\n",
       "      <td>8.713933e+06</td>\n",
       "    </tr>\n",
       "    <tr>\n",
       "      <th>66</th>\n",
       "      <td>2023-06-14</td>\n",
       "      <td>6.882888e+06</td>\n",
       "      <td>2023-06-14</td>\n",
       "      <td>5.561803e+06</td>\n",
       "    </tr>\n",
       "    <tr>\n",
       "      <th>67</th>\n",
       "      <td>2023-06-21</td>\n",
       "      <td>4.536612e+06</td>\n",
       "      <td>2023-06-21</td>\n",
       "      <td>4.538475e+06</td>\n",
       "    </tr>\n",
       "    <tr>\n",
       "      <th>68</th>\n",
       "      <td>2023-06-28</td>\n",
       "      <td>3.852078e+06</td>\n",
       "      <td>2023-06-28</td>\n",
       "      <td>2.534772e+06</td>\n",
       "    </tr>\n",
       "    <tr>\n",
       "      <th>69</th>\n",
       "      <td>2023-07-05</td>\n",
       "      <td>3.914395e+06</td>\n",
       "      <td>2023-07-05</td>\n",
       "      <td>4.357643e+06</td>\n",
       "    </tr>\n",
       "    <tr>\n",
       "      <th>70</th>\n",
       "      <td>2023-07-12</td>\n",
       "      <td>1.732619e+06</td>\n",
       "      <td>2023-07-12</td>\n",
       "      <td>1.699770e+06</td>\n",
       "    </tr>\n",
       "    <tr>\n",
       "      <th>71</th>\n",
       "      <td>2023-07-19</td>\n",
       "      <td>3.023807e+06</td>\n",
       "      <td>2023-07-19</td>\n",
       "      <td>2.056094e+06</td>\n",
       "    </tr>\n",
       "    <tr>\n",
       "      <th>72</th>\n",
       "      <td>2023-07-26</td>\n",
       "      <td>2.855290e+06</td>\n",
       "      <td>2023-07-26</td>\n",
       "      <td>2.003633e+06</td>\n",
       "    </tr>\n",
       "    <tr>\n",
       "      <th>73</th>\n",
       "      <td>2023-08-02</td>\n",
       "      <td>2.454696e+06</td>\n",
       "      <td>2023-08-02</td>\n",
       "      <td>1.991119e+06</td>\n",
       "    </tr>\n",
       "    <tr>\n",
       "      <th>74</th>\n",
       "      <td>2023-08-09</td>\n",
       "      <td>1.590238e+06</td>\n",
       "      <td>2023-08-09</td>\n",
       "      <td>1.795060e+06</td>\n",
       "    </tr>\n",
       "    <tr>\n",
       "      <th>75</th>\n",
       "      <td>2023-08-16</td>\n",
       "      <td>2.273511e+06</td>\n",
       "      <td>2023-08-16</td>\n",
       "      <td>1.769011e+06</td>\n",
       "    </tr>\n",
       "    <tr>\n",
       "      <th>76</th>\n",
       "      <td>2023-08-23</td>\n",
       "      <td>1.341958e+06</td>\n",
       "      <td>2023-08-23</td>\n",
       "      <td>9.037324e+05</td>\n",
       "    </tr>\n",
       "    <tr>\n",
       "      <th>77</th>\n",
       "      <td>2023-08-30</td>\n",
       "      <td>1.633076e+06</td>\n",
       "      <td>2023-08-30</td>\n",
       "      <td>1.555394e+06</td>\n",
       "    </tr>\n",
       "    <tr>\n",
       "      <th>78</th>\n",
       "      <td>2023-09-06</td>\n",
       "      <td>2.522790e+06</td>\n",
       "      <td>2023-09-06</td>\n",
       "      <td>3.309025e+06</td>\n",
       "    </tr>\n",
       "    <tr>\n",
       "      <th>79</th>\n",
       "      <td>2023-09-13</td>\n",
       "      <td>2.165425e+06</td>\n",
       "      <td>2023-09-13</td>\n",
       "      <td>3.145798e+06</td>\n",
       "    </tr>\n",
       "    <tr>\n",
       "      <th>80</th>\n",
       "      <td>2023-09-20</td>\n",
       "      <td>6.169809e+06</td>\n",
       "      <td>2023-09-20</td>\n",
       "      <td>6.106247e+06</td>\n",
       "    </tr>\n",
       "    <tr>\n",
       "      <th>81</th>\n",
       "      <td>2023-09-27</td>\n",
       "      <td>6.932292e+06</td>\n",
       "      <td>2023-09-27</td>\n",
       "      <td>8.508475e+06</td>\n",
       "    </tr>\n",
       "    <tr>\n",
       "      <th>82</th>\n",
       "      <td>2023-10-04</td>\n",
       "      <td>4.000530e+06</td>\n",
       "      <td>2023-10-04</td>\n",
       "      <td>6.882888e+06</td>\n",
       "    </tr>\n",
       "    <tr>\n",
       "      <th>83</th>\n",
       "      <td>2023-10-11</td>\n",
       "      <td>5.102460e+06</td>\n",
       "      <td>2023-10-11</td>\n",
       "      <td>4.536612e+06</td>\n",
       "    </tr>\n",
       "    <tr>\n",
       "      <th>84</th>\n",
       "      <td>2023-10-18</td>\n",
       "      <td>3.667294e+06</td>\n",
       "      <td>2023-10-18</td>\n",
       "      <td>3.852078e+06</td>\n",
       "    </tr>\n",
       "    <tr>\n",
       "      <th>85</th>\n",
       "      <td>2023-10-25</td>\n",
       "      <td>3.500519e+06</td>\n",
       "      <td>2023-10-25</td>\n",
       "      <td>3.914395e+06</td>\n",
       "    </tr>\n",
       "    <tr>\n",
       "      <th>86</th>\n",
       "      <td>2023-11-01</td>\n",
       "      <td>2.190146e+06</td>\n",
       "      <td>2023-11-01</td>\n",
       "      <td>1.732619e+06</td>\n",
       "    </tr>\n",
       "    <tr>\n",
       "      <th>87</th>\n",
       "      <td>2023-11-08</td>\n",
       "      <td>2.729175e+06</td>\n",
       "      <td>2023-11-08</td>\n",
       "      <td>3.023807e+06</td>\n",
       "    </tr>\n",
       "    <tr>\n",
       "      <th>88</th>\n",
       "      <td>2023-11-15</td>\n",
       "      <td>3.686843e+06</td>\n",
       "      <td>2023-11-15</td>\n",
       "      <td>2.855290e+06</td>\n",
       "    </tr>\n",
       "    <tr>\n",
       "      <th>89</th>\n",
       "      <td>2023-11-22</td>\n",
       "      <td>3.062608e+06</td>\n",
       "      <td>2023-11-22</td>\n",
       "      <td>2.454696e+06</td>\n",
       "    </tr>\n",
       "    <tr>\n",
       "      <th>90</th>\n",
       "      <td>2023-11-29</td>\n",
       "      <td>7.542133e+05</td>\n",
       "      <td>2023-11-29</td>\n",
       "      <td>1.590238e+06</td>\n",
       "    </tr>\n",
       "  </tbody>\n",
       "</table>\n",
       "</div>"
      ],
      "text/plain": [
       "   epoch_start  locked_amount   epoch_end  unlocked_amount\n",
       "41  2022-12-21   1.281501e+06  2022-12-21     1.026687e+06\n",
       "42  2022-12-28   1.262790e+06  2022-12-28     1.169989e+06\n",
       "43  2023-01-04   1.352710e+06  2023-01-04     1.190133e+06\n",
       "44  2023-01-11   1.108628e+06  2023-01-11     8.998896e+05\n",
       "45  2023-01-18   2.749241e+06  2023-01-18     1.701780e+06\n",
       "46  2023-01-25   3.580809e+06  2023-01-25     2.050507e+06\n",
       "47  2023-02-01   2.045123e+06  2023-02-01     7.488713e+05\n",
       "48  2023-02-08   8.144371e+06  2023-02-08     1.049529e+07\n",
       "49  2023-02-15   8.713933e+06  2023-02-15     8.460052e+06\n",
       "50  2023-02-22   5.561803e+06  2023-02-22     6.471689e+06\n",
       "51  2023-03-01   4.538475e+06  2023-03-01     4.091846e+06\n",
       "52  2023-03-08   2.534772e+06  2023-03-08     2.741727e+06\n",
       "53  2023-03-15   4.357643e+06  2023-03-15     2.233756e+06\n",
       "54  2023-03-22   1.699770e+06  2023-03-22     1.518470e+06\n",
       "55  2023-03-29   2.056094e+06  2023-03-29     1.712287e+06\n",
       "56  2023-04-05   2.003633e+06  2023-04-05     3.035455e+06\n",
       "57  2023-04-12   1.991119e+06  2023-04-12     1.281501e+06\n",
       "58  2023-04-19   1.795060e+06  2023-04-19     1.262790e+06\n",
       "59  2023-04-26   1.769011e+06  2023-04-26     1.352710e+06\n",
       "60  2023-05-03   9.037324e+05  2023-05-03     1.108628e+06\n",
       "61  2023-05-10   1.555394e+06  2023-05-10     2.749241e+06\n",
       "62  2023-05-17   3.309025e+06  2023-05-17     3.580809e+06\n",
       "63  2023-05-24   3.145798e+06  2023-05-24     2.045123e+06\n",
       "64  2023-05-31   6.106247e+06  2023-05-31     8.144371e+06\n",
       "65  2023-06-07   8.508475e+06  2023-06-07     8.713933e+06\n",
       "66  2023-06-14   6.882888e+06  2023-06-14     5.561803e+06\n",
       "67  2023-06-21   4.536612e+06  2023-06-21     4.538475e+06\n",
       "68  2023-06-28   3.852078e+06  2023-06-28     2.534772e+06\n",
       "69  2023-07-05   3.914395e+06  2023-07-05     4.357643e+06\n",
       "70  2023-07-12   1.732619e+06  2023-07-12     1.699770e+06\n",
       "71  2023-07-19   3.023807e+06  2023-07-19     2.056094e+06\n",
       "72  2023-07-26   2.855290e+06  2023-07-26     2.003633e+06\n",
       "73  2023-08-02   2.454696e+06  2023-08-02     1.991119e+06\n",
       "74  2023-08-09   1.590238e+06  2023-08-09     1.795060e+06\n",
       "75  2023-08-16   2.273511e+06  2023-08-16     1.769011e+06\n",
       "76  2023-08-23   1.341958e+06  2023-08-23     9.037324e+05\n",
       "77  2023-08-30   1.633076e+06  2023-08-30     1.555394e+06\n",
       "78  2023-09-06   2.522790e+06  2023-09-06     3.309025e+06\n",
       "79  2023-09-13   2.165425e+06  2023-09-13     3.145798e+06\n",
       "80  2023-09-20   6.169809e+06  2023-09-20     6.106247e+06\n",
       "81  2023-09-27   6.932292e+06  2023-09-27     8.508475e+06\n",
       "82  2023-10-04   4.000530e+06  2023-10-04     6.882888e+06\n",
       "83  2023-10-11   5.102460e+06  2023-10-11     4.536612e+06\n",
       "84  2023-10-18   3.667294e+06  2023-10-18     3.852078e+06\n",
       "85  2023-10-25   3.500519e+06  2023-10-25     3.914395e+06\n",
       "86  2023-11-01   2.190146e+06  2023-11-01     1.732619e+06\n",
       "87  2023-11-08   2.729175e+06  2023-11-08     3.023807e+06\n",
       "88  2023-11-15   3.686843e+06  2023-11-15     2.855290e+06\n",
       "89  2023-11-22   3.062608e+06  2023-11-22     2.454696e+06\n",
       "90  2023-11-29   7.542133e+05  2023-11-29     1.590238e+06"
      ]
     },
     "execution_count": 167,
     "metadata": {},
     "output_type": "execute_result"
    }
   ],
   "source": [
    "df_combo.tail(50)"
   ]
  },
  {
   "cell_type": "code",
   "execution_count": null,
   "metadata": {},
   "outputs": [],
   "source": [
    "df_combo['unlocked_vs_locked'] = df_combo['unlocked_amount'] / df_combo['locked_amount'] - 1"
   ]
  },
  {
   "cell_type": "code",
   "execution_count": null,
   "metadata": {},
   "outputs": [],
   "source": [
    "df_combo"
   ]
  },
  {
   "cell_type": "code",
   "execution_count": null,
   "metadata": {},
   "outputs": [],
   "source": [
    "fig = make_subplots()\n",
    "fig.update_layout(\n",
    "    title=f\"Convex: vlCVX compare unlocked / locked\",\n",
    "    #     xaxis_title=\"X Axis Title\",\n",
    "    #     yaxis_title=\"Y Axis Title\",\n",
    "    #     legend_title=\"Legend Title\",\n",
    "    font=dict(\n",
    "        family=\"Courier New, monospace\",\n",
    "        size=18,\n",
    "        color=\"RebeccaPurple\"\n",
    "    ),\n",
    "    # height= 1000,\n",
    ")\n",
    "fig = fig.add_trace(\n",
    "    go.Bar(\n",
    "        x=df_combo.epoch_start,\n",
    "        y=df_combo.unlocked_vs_locked,\n",
    "        name=\"Locked\",\n",
    "        # color=\"pool_name\"\n",
    "    ),\n",
    "    secondary_y=False\n",
    ")\n",
    "\n",
    "fig.add_vline(x=dt.now(), line_width=2, line_dash=\"dash\", line_color=\"black\")\n",
    "\n",
    "fig.show()"
   ]
  },
  {
   "cell_type": "code",
   "execution_count": null,
   "metadata": {},
   "outputs": [],
   "source": [
    "write_dataframe_csv('convex_locker_comparison', df_combo, 'source')"
   ]
  },
  {
   "cell_type": "code",
   "execution_count": null,
   "metadata": {},
   "outputs": [],
   "source": [
    "pcl_agg_system"
   ]
  },
  {
   "cell_type": "code",
   "execution_count": 43,
   "metadata": {},
   "outputs": [
    {
     "data": {
      "application/vnd.plotly.v1+json": {
       "config": {
        "plotlyServerURL": "https://plot.ly"
       },
       "data": [
        {
         "name": "Total Locked",
         "type": "bar",
         "x": [
          "2022-03-09T19:00:00",
          "2022-03-16T19:00:00",
          "2022-03-23T19:00:00",
          "2022-03-30T19:00:00",
          "2022-04-06T19:00:00",
          "2022-04-13T19:00:00",
          "2022-04-20T19:00:00",
          "2022-04-27T19:00:00",
          "2022-05-04T19:00:00",
          "2022-05-11T19:00:00",
          "2022-05-18T19:00:00",
          "2022-05-25T19:00:00",
          "2022-06-01T19:00:00",
          "2022-06-08T19:00:00",
          "2022-06-15T19:00:00",
          "2022-06-22T19:00:00",
          "2022-06-29T19:00:00",
          "2022-07-06T19:00:00",
          "2022-07-13T19:00:00",
          "2022-07-20T19:00:00",
          "2022-07-27T19:00:00",
          "2022-08-03T19:00:00",
          "2022-08-10T19:00:00",
          "2022-08-17T19:00:00",
          "2022-08-24T19:00:00",
          "2022-08-31T19:00:00",
          "2022-09-07T19:00:00",
          "2022-09-14T19:00:00",
          "2022-09-21T19:00:00",
          "2022-09-28T19:00:00",
          "2022-10-05T19:00:00",
          "2022-10-12T19:00:00",
          "2022-10-19T19:00:00",
          "2022-10-26T19:00:00",
          "2022-11-02T19:00:00",
          "2022-11-09T19:00:00",
          "2022-11-16T19:00:00",
          "2022-11-23T19:00:00",
          "2022-11-30T19:00:00",
          "2022-12-07T19:00:00",
          "2022-12-14T19:00:00",
          "2022-12-21T19:00:00",
          "2022-12-28T19:00:00",
          "2023-01-04T19:00:00",
          "2023-01-11T19:00:00",
          "2023-01-18T19:00:00",
          "2023-01-25T19:00:00",
          "2023-02-01T19:00:00",
          "2023-02-08T19:00:00",
          "2023-02-15T19:00:00",
          "2023-02-22T19:00:00",
          "2023-03-01T19:00:00",
          "2023-03-08T19:00:00",
          "2023-03-15T19:00:00",
          "2023-03-22T19:00:00",
          "2023-03-29T19:00:00",
          "2023-04-05T19:00:00",
          "2023-04-12T19:00:00",
          "2023-04-19T19:00:00",
          "2023-04-26T19:00:00",
          "2023-05-03T19:00:00",
          "2023-05-10T19:00:00",
          "2023-05-17T19:00:00",
          "2023-05-24T19:00:00",
          "2023-05-31T19:00:00",
          "2023-06-07T19:00:00",
          "2023-06-14T19:00:00",
          "2023-06-21T19:00:00",
          "2023-06-28T19:00:00",
          "2023-07-05T19:00:00",
          "2023-07-12T19:00:00",
          "2023-07-19T19:00:00",
          "2023-07-26T19:00:00",
          "2023-08-02T19:00:00",
          "2023-08-09T19:00:00",
          "2023-08-16T19:00:00",
          "2023-08-23T19:00:00",
          "2023-08-30T19:00:00",
          "2023-09-06T19:00:00",
          "2023-09-13T19:00:00",
          "2023-09-20T19:00:00",
          "2023-09-27T19:00:00",
          "2023-10-04T19:00:00",
          "2023-10-11T19:00:00",
          "2023-10-18T19:00:00",
          "2023-10-25T19:00:00",
          "2023-11-01T19:00:00",
          "2023-11-08T19:00:00",
          "2023-11-15T19:00:00",
          "2023-11-22T19:00:00",
          "2023-11-29T19:00:00",
          "2023-12-06T19:00:00",
          "2023-12-13T19:00:00",
          "2023-12-20T19:00:00",
          "2023-12-27T19:00:00",
          "2024-01-03T19:00:00",
          "2024-01-10T19:00:00",
          "2024-01-17T19:00:00",
          "2024-01-24T19:00:00",
          "2024-01-31T19:00:00",
          "2024-02-07T19:00:00",
          "2024-02-14T19:00:00",
          "2024-02-21T19:00:00",
          "2024-02-28T19:00:00",
          "2024-03-06T19:00:00",
          "2024-03-13T19:00:00"
         ],
         "xaxis": "x",
         "y": [
          27480352.283296645,
          27480352.283296645,
          36203577.351898655,
          37593593.19812506,
          40819499.6983123,
          41573972.75658918,
          45036299.228240274,
          45671984.47689026,
          47188320.127081454,
          47504013.796513595,
          48536513.699991845,
          49089581.56226192,
          49384913.049293295,
          50578358.910962544,
          50858841.58215441,
          51666601.142024554,
          24944242.507583812,
          40876674.06701615,
          45381171.41818027,
          47191262.830683306,
          48172192.89262872,
          48668756.338729195,
          47233501.72614291,
          48578504.28777813,
          48878175.140248545,
          50045152.65588623,
          50039339.66065008,
          50656261.036395684,
          51551062.91767762,
          51257506.668226,
          52678803.798654884,
          53921551.00969425,
          53912428.64667541,
          48475291.43329037,
          43707621.10710911,
          51071048.65868217,
          49605939.588214345,
          50588659.033316955,
          50080057.463516474,
          49811657.06263735,
          51031105.06439052,
          50829934.6142148,
          51066037.306773834,
          51248758.10327303,
          51167252.90470153,
          53016604.21970828,
          54895633.83758596,
          54890249.605076455,
          62285749.225404315,
          60504388.230866194,
          57606139.07005176,
          51581078.98164252,
          51374123.80641738,
          49140367.856937416,
          51979540.11923076,
          51967022.78145087,
          50987662.62822783,
          51709794.994508244,
          52438124.299059145,
          52880473.98701213,
          53540856.94098452,
          51695348.44089986,
          49669933.1347601,
          50933835.165635996,
          45935262.71101994,
          43327576.74791846,
          46274248.612196326,
          48618661.84482479,
          50620501.4640688,
          54472579.59949403,
          54029331.765870064,
          54062180.61025089,
          55029892.89433986,
          55881549.76117429,
          56345126.708501466,
          56140304.59915527,
          56644804.201712795,
          57083029.602767736,
          57160711.59467098,
          56374476.86548359,
          55394102.96105829,
          55457664.6358955,
          53881482.07690385,
          50999123.95808376,
          51564972.07386971,
          51380187.5962522,
          50966312.367968954,
          54153014.18430653,
          54816050.411568925,
          55023368.89518455,
          53322886.359023124,
          51732648.745901465,
          49459138.01962975,
          48117180.19143509,
          46484104.08617318,
          43961314.24608466,
          41795889.698961094,
          35626080.63571619,
          28693788.39765953,
          24693258.5619579,
          19590798.510488242,
          15923504.852680514,
          12422985.36303006,
          7503664.630685468,
          3816821.7681423738,
          754213.3165177918
         ],
         "yaxis": "y"
        },
        {
         "line": {
          "shape": "hvh",
          "width": 3
         },
         "name": "Lock Count",
         "type": "scatter",
         "x": [
          "2022-03-09T19:00:00",
          "2022-03-16T19:00:00",
          "2022-03-23T19:00:00",
          "2022-03-30T19:00:00",
          "2022-04-06T19:00:00",
          "2022-04-13T19:00:00",
          "2022-04-20T19:00:00",
          "2022-04-27T19:00:00",
          "2022-05-04T19:00:00",
          "2022-05-11T19:00:00",
          "2022-05-18T19:00:00",
          "2022-05-25T19:00:00",
          "2022-06-01T19:00:00",
          "2022-06-08T19:00:00",
          "2022-06-15T19:00:00",
          "2022-06-22T19:00:00",
          "2022-06-29T19:00:00",
          "2022-07-06T19:00:00",
          "2022-07-13T19:00:00",
          "2022-07-20T19:00:00",
          "2022-07-27T19:00:00",
          "2022-08-03T19:00:00",
          "2022-08-10T19:00:00",
          "2022-08-17T19:00:00",
          "2022-08-24T19:00:00",
          "2022-08-31T19:00:00",
          "2022-09-07T19:00:00",
          "2022-09-14T19:00:00",
          "2022-09-21T19:00:00",
          "2022-09-28T19:00:00",
          "2022-10-05T19:00:00",
          "2022-10-12T19:00:00",
          "2022-10-19T19:00:00",
          "2022-10-26T19:00:00",
          "2022-11-02T19:00:00",
          "2022-11-09T19:00:00",
          "2022-11-16T19:00:00",
          "2022-11-23T19:00:00",
          "2022-11-30T19:00:00",
          "2022-12-07T19:00:00",
          "2022-12-14T19:00:00",
          "2022-12-21T19:00:00",
          "2022-12-28T19:00:00",
          "2023-01-04T19:00:00",
          "2023-01-11T19:00:00",
          "2023-01-18T19:00:00",
          "2023-01-25T19:00:00",
          "2023-02-01T19:00:00",
          "2023-02-08T19:00:00",
          "2023-02-15T19:00:00",
          "2023-02-22T19:00:00",
          "2023-03-01T19:00:00",
          "2023-03-08T19:00:00",
          "2023-03-15T19:00:00",
          "2023-03-22T19:00:00",
          "2023-03-29T19:00:00",
          "2023-04-05T19:00:00",
          "2023-04-12T19:00:00",
          "2023-04-19T19:00:00",
          "2023-04-26T19:00:00",
          "2023-05-03T19:00:00",
          "2023-05-10T19:00:00",
          "2023-05-17T19:00:00",
          "2023-05-24T19:00:00",
          "2023-05-31T19:00:00",
          "2023-06-07T19:00:00",
          "2023-06-14T19:00:00",
          "2023-06-21T19:00:00",
          "2023-06-28T19:00:00",
          "2023-07-05T19:00:00",
          "2023-07-12T19:00:00",
          "2023-07-19T19:00:00",
          "2023-07-26T19:00:00",
          "2023-08-02T19:00:00",
          "2023-08-09T19:00:00",
          "2023-08-16T19:00:00",
          "2023-08-23T19:00:00",
          "2023-08-30T19:00:00",
          "2023-09-06T19:00:00",
          "2023-09-13T19:00:00",
          "2023-09-20T19:00:00",
          "2023-09-27T19:00:00",
          "2023-10-04T19:00:00",
          "2023-10-11T19:00:00",
          "2023-10-18T19:00:00",
          "2023-10-25T19:00:00",
          "2023-11-01T19:00:00",
          "2023-11-08T19:00:00",
          "2023-11-15T19:00:00",
          "2023-11-22T19:00:00",
          "2023-11-29T19:00:00",
          "2023-12-06T19:00:00",
          "2023-12-13T19:00:00",
          "2023-12-20T19:00:00",
          "2023-12-27T19:00:00",
          "2024-01-03T19:00:00",
          "2024-01-10T19:00:00",
          "2024-01-17T19:00:00",
          "2024-01-24T19:00:00",
          "2024-01-31T19:00:00",
          "2024-02-07T19:00:00",
          "2024-02-14T19:00:00",
          "2024-02-21T19:00:00",
          "2024-02-28T19:00:00",
          "2024-03-06T19:00:00",
          "2024-03-13T19:00:00"
         ],
         "xaxis": "x",
         "y": [
          2942,
          2942,
          4025,
          4732,
          5519,
          6086,
          6786,
          7289,
          7954,
          8292,
          8919,
          9404,
          9838,
          10110,
          10327,
          10584,
          7987,
          9096,
          9545,
          9635,
          9600,
          9731,
          9786,
          9910,
          9870,
          10039,
          9935,
          9973,
          10046,
          10267,
          10512,
          10719,
          10716,
          10290,
          9788,
          10384,
          10196,
          10089,
          9788,
          9641,
          9398,
          9338,
          9190,
          9088,
          9005,
          9060,
          9117,
          9144,
          9316,
          9335,
          8837,
          7990,
          7857,
          7266,
          7352,
          7319,
          7297,
          7182,
          7146,
          6965,
          6822,
          6483,
          6226,
          6041,
          5897,
          5600,
          5628,
          5576,
          5613,
          6008,
          5926,
          5848,
          5836,
          5810,
          5821,
          5838,
          5832,
          5852,
          5860,
          5775,
          5706,
          5612,
          5405,
          5201,
          5034,
          4891,
          4727,
          4978,
          4905,
          4824,
          4538,
          4281,
          4006,
          3777,
          3507,
          3286,
          2985,
          2674,
          2321,
          2031,
          1730,
          1478,
          1184,
          564,
          289,
          64
         ],
         "yaxis": "y2"
        },
        {
         "line": {
          "shape": "hvh",
          "width": 3
         },
         "name": "User Count",
         "type": "scatter",
         "x": [
          "2022-03-09T19:00:00",
          "2022-03-16T19:00:00",
          "2022-03-23T19:00:00",
          "2022-03-30T19:00:00",
          "2022-04-06T19:00:00",
          "2022-04-13T19:00:00",
          "2022-04-20T19:00:00",
          "2022-04-27T19:00:00",
          "2022-05-04T19:00:00",
          "2022-05-11T19:00:00",
          "2022-05-18T19:00:00",
          "2022-05-25T19:00:00",
          "2022-06-01T19:00:00",
          "2022-06-08T19:00:00",
          "2022-06-15T19:00:00",
          "2022-06-22T19:00:00",
          "2022-06-29T19:00:00",
          "2022-07-06T19:00:00",
          "2022-07-13T19:00:00",
          "2022-07-20T19:00:00",
          "2022-07-27T19:00:00",
          "2022-08-03T19:00:00",
          "2022-08-10T19:00:00",
          "2022-08-17T19:00:00",
          "2022-08-24T19:00:00",
          "2022-08-31T19:00:00",
          "2022-09-07T19:00:00",
          "2022-09-14T19:00:00",
          "2022-09-21T19:00:00",
          "2022-09-28T19:00:00",
          "2022-10-05T19:00:00",
          "2022-10-12T19:00:00",
          "2022-10-19T19:00:00",
          "2022-10-26T19:00:00",
          "2022-11-02T19:00:00",
          "2022-11-09T19:00:00",
          "2022-11-16T19:00:00",
          "2022-11-23T19:00:00",
          "2022-11-30T19:00:00",
          "2022-12-07T19:00:00",
          "2022-12-14T19:00:00",
          "2022-12-21T19:00:00",
          "2022-12-28T19:00:00",
          "2023-01-04T19:00:00",
          "2023-01-11T19:00:00",
          "2023-01-18T19:00:00",
          "2023-01-25T19:00:00",
          "2023-02-01T19:00:00",
          "2023-02-08T19:00:00",
          "2023-02-15T19:00:00",
          "2023-02-22T19:00:00",
          "2023-03-01T19:00:00",
          "2023-03-08T19:00:00",
          "2023-03-15T19:00:00",
          "2023-03-22T19:00:00",
          "2023-03-29T19:00:00",
          "2023-04-05T19:00:00",
          "2023-04-12T19:00:00",
          "2023-04-19T19:00:00",
          "2023-04-26T19:00:00",
          "2023-05-03T19:00:00",
          "2023-05-10T19:00:00",
          "2023-05-17T19:00:00",
          "2023-05-24T19:00:00",
          "2023-05-31T19:00:00",
          "2023-06-07T19:00:00",
          "2023-06-14T19:00:00",
          "2023-06-21T19:00:00",
          "2023-06-28T19:00:00",
          "2023-07-05T19:00:00",
          "2023-07-12T19:00:00",
          "2023-07-19T19:00:00",
          "2023-07-26T19:00:00",
          "2023-08-02T19:00:00",
          "2023-08-09T19:00:00",
          "2023-08-16T19:00:00",
          "2023-08-23T19:00:00",
          "2023-08-30T19:00:00",
          "2023-09-06T19:00:00",
          "2023-09-13T19:00:00",
          "2023-09-20T19:00:00",
          "2023-09-27T19:00:00",
          "2023-10-04T19:00:00",
          "2023-10-11T19:00:00",
          "2023-10-18T19:00:00",
          "2023-10-25T19:00:00",
          "2023-11-01T19:00:00",
          "2023-11-08T19:00:00",
          "2023-11-15T19:00:00",
          "2023-11-22T19:00:00",
          "2023-11-29T19:00:00",
          "2023-12-06T19:00:00",
          "2023-12-13T19:00:00",
          "2023-12-20T19:00:00",
          "2023-12-27T19:00:00",
          "2024-01-03T19:00:00",
          "2024-01-10T19:00:00",
          "2024-01-17T19:00:00",
          "2024-01-24T19:00:00",
          "2024-01-31T19:00:00",
          "2024-02-07T19:00:00",
          "2024-02-14T19:00:00",
          "2024-02-21T19:00:00",
          "2024-02-28T19:00:00",
          "2024-03-06T19:00:00",
          "2024-03-13T19:00:00"
         ],
         "xaxis": "x",
         "y": [
          2594,
          2594,
          3258,
          3608,
          3929,
          4190,
          4435,
          4629,
          4781,
          4865,
          5011,
          5121,
          5220,
          5280,
          5330,
          5398,
          4028,
          4536,
          4534,
          4482,
          4393,
          4336,
          4301,
          4296,
          4262,
          4264,
          4207,
          4194,
          4181,
          4193,
          4250,
          4290,
          4256,
          4067,
          3834,
          3910,
          3826,
          3783,
          3688,
          3608,
          3533,
          3515,
          3486,
          3445,
          3427,
          3444,
          3452,
          3457,
          3475,
          3445,
          3396,
          3176,
          3149,
          2993,
          3015,
          3013,
          3010,
          2976,
          2980,
          2956,
          2904,
          2814,
          2717,
          2664,
          2599,
          2485,
          2466,
          2463,
          2452,
          2577,
          2554,
          2527,
          2520,
          2505,
          2493,
          2479,
          2494,
          2493,
          2493,
          2465,
          2443,
          2413,
          2337,
          2247,
          2198,
          2146,
          2103,
          2140,
          2115,
          2098,
          2041,
          1974,
          1892,
          1835,
          1771,
          1714,
          1618,
          1499,
          1359,
          1239,
          1093,
          973,
          811,
          431,
          239,
          54
         ],
         "yaxis": "y2"
        }
       ],
       "layout": {
        "autotypenumbers": "convert types",
        "font": {
         "color": "RebeccaPurple",
         "family": "Courier New, monospace",
         "size": 18
        },
        "shapes": [
         {
          "line": {
           "color": "black",
           "dash": "dash",
           "width": 3
          },
          "type": "line",
          "x0": "2023-11-28T19:22:36.563812",
          "x1": "2023-11-28T19:22:36.563812",
          "xref": "x",
          "y0": 0,
          "y1": 1,
          "yref": "y domain"
         }
        ],
        "template": {
         "data": {
          "bar": [
           {
            "error_x": {
             "color": "#2a3f5f"
            },
            "error_y": {
             "color": "#2a3f5f"
            },
            "marker": {
             "line": {
              "color": "#E5ECF6",
              "width": 0.5
             }
            },
            "type": "bar"
           }
          ],
          "barpolar": [
           {
            "marker": {
             "line": {
              "color": "#E5ECF6",
              "width": 0.5
             }
            },
            "type": "barpolar"
           }
          ],
          "carpet": [
           {
            "aaxis": {
             "endlinecolor": "#2a3f5f",
             "gridcolor": "white",
             "linecolor": "white",
             "minorgridcolor": "white",
             "startlinecolor": "#2a3f5f"
            },
            "baxis": {
             "endlinecolor": "#2a3f5f",
             "gridcolor": "white",
             "linecolor": "white",
             "minorgridcolor": "white",
             "startlinecolor": "#2a3f5f"
            },
            "type": "carpet"
           }
          ],
          "choropleth": [
           {
            "colorbar": {
             "outlinewidth": 0,
             "ticks": ""
            },
            "type": "choropleth"
           }
          ],
          "contour": [
           {
            "colorbar": {
             "outlinewidth": 0,
             "ticks": ""
            },
            "colorscale": [
             [
              0,
              "#0d0887"
             ],
             [
              0.1111111111111111,
              "#46039f"
             ],
             [
              0.2222222222222222,
              "#7201a8"
             ],
             [
              0.3333333333333333,
              "#9c179e"
             ],
             [
              0.4444444444444444,
              "#bd3786"
             ],
             [
              0.5555555555555556,
              "#d8576b"
             ],
             [
              0.6666666666666666,
              "#ed7953"
             ],
             [
              0.7777777777777778,
              "#fb9f3a"
             ],
             [
              0.8888888888888888,
              "#fdca26"
             ],
             [
              1,
              "#f0f921"
             ]
            ],
            "type": "contour"
           }
          ],
          "contourcarpet": [
           {
            "colorbar": {
             "outlinewidth": 0,
             "ticks": ""
            },
            "type": "contourcarpet"
           }
          ],
          "heatmap": [
           {
            "colorbar": {
             "outlinewidth": 0,
             "ticks": ""
            },
            "colorscale": [
             [
              0,
              "#0d0887"
             ],
             [
              0.1111111111111111,
              "#46039f"
             ],
             [
              0.2222222222222222,
              "#7201a8"
             ],
             [
              0.3333333333333333,
              "#9c179e"
             ],
             [
              0.4444444444444444,
              "#bd3786"
             ],
             [
              0.5555555555555556,
              "#d8576b"
             ],
             [
              0.6666666666666666,
              "#ed7953"
             ],
             [
              0.7777777777777778,
              "#fb9f3a"
             ],
             [
              0.8888888888888888,
              "#fdca26"
             ],
             [
              1,
              "#f0f921"
             ]
            ],
            "type": "heatmap"
           }
          ],
          "heatmapgl": [
           {
            "colorbar": {
             "outlinewidth": 0,
             "ticks": ""
            },
            "colorscale": [
             [
              0,
              "#0d0887"
             ],
             [
              0.1111111111111111,
              "#46039f"
             ],
             [
              0.2222222222222222,
              "#7201a8"
             ],
             [
              0.3333333333333333,
              "#9c179e"
             ],
             [
              0.4444444444444444,
              "#bd3786"
             ],
             [
              0.5555555555555556,
              "#d8576b"
             ],
             [
              0.6666666666666666,
              "#ed7953"
             ],
             [
              0.7777777777777778,
              "#fb9f3a"
             ],
             [
              0.8888888888888888,
              "#fdca26"
             ],
             [
              1,
              "#f0f921"
             ]
            ],
            "type": "heatmapgl"
           }
          ],
          "histogram": [
           {
            "marker": {
             "colorbar": {
              "outlinewidth": 0,
              "ticks": ""
             }
            },
            "type": "histogram"
           }
          ],
          "histogram2d": [
           {
            "colorbar": {
             "outlinewidth": 0,
             "ticks": ""
            },
            "colorscale": [
             [
              0,
              "#0d0887"
             ],
             [
              0.1111111111111111,
              "#46039f"
             ],
             [
              0.2222222222222222,
              "#7201a8"
             ],
             [
              0.3333333333333333,
              "#9c179e"
             ],
             [
              0.4444444444444444,
              "#bd3786"
             ],
             [
              0.5555555555555556,
              "#d8576b"
             ],
             [
              0.6666666666666666,
              "#ed7953"
             ],
             [
              0.7777777777777778,
              "#fb9f3a"
             ],
             [
              0.8888888888888888,
              "#fdca26"
             ],
             [
              1,
              "#f0f921"
             ]
            ],
            "type": "histogram2d"
           }
          ],
          "histogram2dcontour": [
           {
            "colorbar": {
             "outlinewidth": 0,
             "ticks": ""
            },
            "colorscale": [
             [
              0,
              "#0d0887"
             ],
             [
              0.1111111111111111,
              "#46039f"
             ],
             [
              0.2222222222222222,
              "#7201a8"
             ],
             [
              0.3333333333333333,
              "#9c179e"
             ],
             [
              0.4444444444444444,
              "#bd3786"
             ],
             [
              0.5555555555555556,
              "#d8576b"
             ],
             [
              0.6666666666666666,
              "#ed7953"
             ],
             [
              0.7777777777777778,
              "#fb9f3a"
             ],
             [
              0.8888888888888888,
              "#fdca26"
             ],
             [
              1,
              "#f0f921"
             ]
            ],
            "type": "histogram2dcontour"
           }
          ],
          "mesh3d": [
           {
            "colorbar": {
             "outlinewidth": 0,
             "ticks": ""
            },
            "type": "mesh3d"
           }
          ],
          "parcoords": [
           {
            "line": {
             "colorbar": {
              "outlinewidth": 0,
              "ticks": ""
             }
            },
            "type": "parcoords"
           }
          ],
          "pie": [
           {
            "automargin": true,
            "type": "pie"
           }
          ],
          "scatter": [
           {
            "marker": {
             "colorbar": {
              "outlinewidth": 0,
              "ticks": ""
             }
            },
            "type": "scatter"
           }
          ],
          "scatter3d": [
           {
            "line": {
             "colorbar": {
              "outlinewidth": 0,
              "ticks": ""
             }
            },
            "marker": {
             "colorbar": {
              "outlinewidth": 0,
              "ticks": ""
             }
            },
            "type": "scatter3d"
           }
          ],
          "scattercarpet": [
           {
            "marker": {
             "colorbar": {
              "outlinewidth": 0,
              "ticks": ""
             }
            },
            "type": "scattercarpet"
           }
          ],
          "scattergeo": [
           {
            "marker": {
             "colorbar": {
              "outlinewidth": 0,
              "ticks": ""
             }
            },
            "type": "scattergeo"
           }
          ],
          "scattergl": [
           {
            "marker": {
             "colorbar": {
              "outlinewidth": 0,
              "ticks": ""
             }
            },
            "type": "scattergl"
           }
          ],
          "scattermapbox": [
           {
            "marker": {
             "colorbar": {
              "outlinewidth": 0,
              "ticks": ""
             }
            },
            "type": "scattermapbox"
           }
          ],
          "scatterpolar": [
           {
            "marker": {
             "colorbar": {
              "outlinewidth": 0,
              "ticks": ""
             }
            },
            "type": "scatterpolar"
           }
          ],
          "scatterpolargl": [
           {
            "marker": {
             "colorbar": {
              "outlinewidth": 0,
              "ticks": ""
             }
            },
            "type": "scatterpolargl"
           }
          ],
          "scatterternary": [
           {
            "marker": {
             "colorbar": {
              "outlinewidth": 0,
              "ticks": ""
             }
            },
            "type": "scatterternary"
           }
          ],
          "surface": [
           {
            "colorbar": {
             "outlinewidth": 0,
             "ticks": ""
            },
            "colorscale": [
             [
              0,
              "#0d0887"
             ],
             [
              0.1111111111111111,
              "#46039f"
             ],
             [
              0.2222222222222222,
              "#7201a8"
             ],
             [
              0.3333333333333333,
              "#9c179e"
             ],
             [
              0.4444444444444444,
              "#bd3786"
             ],
             [
              0.5555555555555556,
              "#d8576b"
             ],
             [
              0.6666666666666666,
              "#ed7953"
             ],
             [
              0.7777777777777778,
              "#fb9f3a"
             ],
             [
              0.8888888888888888,
              "#fdca26"
             ],
             [
              1,
              "#f0f921"
             ]
            ],
            "type": "surface"
           }
          ],
          "table": [
           {
            "cells": {
             "fill": {
              "color": "#EBF0F8"
             },
             "line": {
              "color": "white"
             }
            },
            "header": {
             "fill": {
              "color": "#C8D4E3"
             },
             "line": {
              "color": "white"
             }
            },
            "type": "table"
           }
          ]
         },
         "layout": {
          "annotationdefaults": {
           "arrowcolor": "#2a3f5f",
           "arrowhead": 0,
           "arrowwidth": 1
          },
          "autotypenumbers": "strict",
          "coloraxis": {
           "colorbar": {
            "outlinewidth": 0,
            "ticks": ""
           }
          },
          "colorscale": {
           "diverging": [
            [
             0,
             "#8e0152"
            ],
            [
             0.1,
             "#c51b7d"
            ],
            [
             0.2,
             "#de77ae"
            ],
            [
             0.3,
             "#f1b6da"
            ],
            [
             0.4,
             "#fde0ef"
            ],
            [
             0.5,
             "#f7f7f7"
            ],
            [
             0.6,
             "#e6f5d0"
            ],
            [
             0.7,
             "#b8e186"
            ],
            [
             0.8,
             "#7fbc41"
            ],
            [
             0.9,
             "#4d9221"
            ],
            [
             1,
             "#276419"
            ]
           ],
           "sequential": [
            [
             0,
             "#0d0887"
            ],
            [
             0.1111111111111111,
             "#46039f"
            ],
            [
             0.2222222222222222,
             "#7201a8"
            ],
            [
             0.3333333333333333,
             "#9c179e"
            ],
            [
             0.4444444444444444,
             "#bd3786"
            ],
            [
             0.5555555555555556,
             "#d8576b"
            ],
            [
             0.6666666666666666,
             "#ed7953"
            ],
            [
             0.7777777777777778,
             "#fb9f3a"
            ],
            [
             0.8888888888888888,
             "#fdca26"
            ],
            [
             1,
             "#f0f921"
            ]
           ],
           "sequentialminus": [
            [
             0,
             "#0d0887"
            ],
            [
             0.1111111111111111,
             "#46039f"
            ],
            [
             0.2222222222222222,
             "#7201a8"
            ],
            [
             0.3333333333333333,
             "#9c179e"
            ],
            [
             0.4444444444444444,
             "#bd3786"
            ],
            [
             0.5555555555555556,
             "#d8576b"
            ],
            [
             0.6666666666666666,
             "#ed7953"
            ],
            [
             0.7777777777777778,
             "#fb9f3a"
            ],
            [
             0.8888888888888888,
             "#fdca26"
            ],
            [
             1,
             "#f0f921"
            ]
           ]
          },
          "colorway": [
           "#636efa",
           "#EF553B",
           "#00cc96",
           "#ab63fa",
           "#FFA15A",
           "#19d3f3",
           "#FF6692",
           "#B6E880",
           "#FF97FF",
           "#FECB52"
          ],
          "font": {
           "color": "#2a3f5f"
          },
          "geo": {
           "bgcolor": "white",
           "lakecolor": "white",
           "landcolor": "#E5ECF6",
           "showlakes": true,
           "showland": true,
           "subunitcolor": "white"
          },
          "hoverlabel": {
           "align": "left"
          },
          "hovermode": "closest",
          "mapbox": {
           "style": "light"
          },
          "paper_bgcolor": "white",
          "plot_bgcolor": "#E5ECF6",
          "polar": {
           "angularaxis": {
            "gridcolor": "white",
            "linecolor": "white",
            "ticks": ""
           },
           "bgcolor": "#E5ECF6",
           "radialaxis": {
            "gridcolor": "white",
            "linecolor": "white",
            "ticks": ""
           }
          },
          "scene": {
           "xaxis": {
            "backgroundcolor": "#E5ECF6",
            "gridcolor": "white",
            "gridwidth": 2,
            "linecolor": "white",
            "showbackground": true,
            "ticks": "",
            "zerolinecolor": "white"
           },
           "yaxis": {
            "backgroundcolor": "#E5ECF6",
            "gridcolor": "white",
            "gridwidth": 2,
            "linecolor": "white",
            "showbackground": true,
            "ticks": "",
            "zerolinecolor": "white"
           },
           "zaxis": {
            "backgroundcolor": "#E5ECF6",
            "gridcolor": "white",
            "gridwidth": 2,
            "linecolor": "white",
            "showbackground": true,
            "ticks": "",
            "zerolinecolor": "white"
           }
          },
          "shapedefaults": {
           "line": {
            "color": "#2a3f5f"
           }
          },
          "ternary": {
           "aaxis": {
            "gridcolor": "white",
            "linecolor": "white",
            "ticks": ""
           },
           "baxis": {
            "gridcolor": "white",
            "linecolor": "white",
            "ticks": ""
           },
           "bgcolor": "#E5ECF6",
           "caxis": {
            "gridcolor": "white",
            "linecolor": "white",
            "ticks": ""
           }
          },
          "title": {
           "x": 0.05
          },
          "xaxis": {
           "automargin": true,
           "gridcolor": "white",
           "linecolor": "white",
           "ticks": "",
           "title": {
            "standoff": 15
           },
           "zerolinecolor": "white",
           "zerolinewidth": 2
          },
          "yaxis": {
           "automargin": true,
           "gridcolor": "white",
           "linecolor": "white",
           "ticks": "",
           "title": {
            "standoff": 15
           },
           "zerolinecolor": "white",
           "zerolinewidth": 2
          }
         }
        },
        "title": {
         "text": "Convex Locker Historic Locks Per Epoch"
        },
        "xaxis": {
         "anchor": "y",
         "domain": [
          0,
          0.94
         ],
         "title": {
          "text": "Epoch Date"
         }
        },
        "yaxis": {
         "anchor": "x",
         "domain": [
          0,
          1
         ],
         "rangemode": "tozero",
         "title": {
          "text": "vlCVX"
         }
        },
        "yaxis2": {
         "anchor": "x",
         "overlaying": "y",
         "rangemode": "tozero",
         "side": "right",
         "title": {
          "text": "Locked Positions"
         }
        }
       }
      }
     },
     "metadata": {},
     "output_type": "display_data"
    }
   ],
   "source": [
    "fig = make_subplots(specs=[[{\"secondary_y\": True}]])\n",
    "fig.update_layout(\n",
    "    title=f\"Convex Locker Historic Locks Per Epoch\",\n",
    "        xaxis_title=\"Epoch Date\",\n",
    "        yaxis_title=\"vlCVX\",\n",
    "        yaxis2_title=\"Locked Positions\",\n",
    "    #     legend_title=\"Legend Title\",\n",
    "    font=dict(\n",
    "        family=\"Courier New, monospace\",\n",
    "        size=18,\n",
    "        color=\"RebeccaPurple\"\n",
    "    ),\n",
    "    # height= 1000,\n",
    ")\n",
    "fig = fig.add_trace(\n",
    "    go.Bar(\n",
    "        x=pcl_agg_system.this_epoch,\n",
    "        y=pcl_agg_system.total_locked,\n",
    "        name=\"Total Locked\",\n",
    "        # color=\"pool_name\"\n",
    "    ),\n",
    "    secondary_y=False\n",
    ")\n",
    "fig = fig.add_trace(\n",
    "    go.Scatter(\n",
    "        x = pcl_agg_system.this_epoch,\n",
    "        y = pcl_agg_system.lock_count, \n",
    "        name = \"Lock Count\",\n",
    "        line_shape='hvh',\n",
    "        line_width=3,\n",
    "    ),\n",
    "    secondary_y=True\n",
    ")\n",
    "\n",
    "fig = fig.add_trace(\n",
    "    go.Scatter(\n",
    "        x = pcl_agg_system.this_epoch,\n",
    "        y = pcl_agg_system.user_count, \n",
    "        name = \"User Count\",\n",
    "        line_shape='hvh',\n",
    "        line_width=3,\n",
    "    ),\n",
    "    secondary_y=True\n",
    ")\n",
    "fig.add_vline(x=dt.now(), line_width=3, line_dash=\"dash\", line_color=\"black\", )\n",
    "\n",
    "fig.update_layout(autotypenumbers='convert types')\n",
    "fig.update_yaxes(rangemode=\"tozero\")\n",
    "fig.show()"
   ]
  },
  {
   "cell_type": "code",
   "execution_count": null,
   "metadata": {},
   "outputs": [],
   "source": [
    "len(df_locker.user.unique())"
   ]
  },
  {
   "cell_type": "code",
   "execution_count": null,
   "metadata": {},
   "outputs": [],
   "source": [
    "df_delegations"
   ]
  },
  {
   "cell_type": "code",
   "execution_count": null,
   "metadata": {},
   "outputs": [],
   "source": [
    "# fig = px.pie(df, values='pop', names='country', title='Population of European continent')\n",
    "# fig.show()"
   ]
  },
  {
   "cell_type": "code",
   "execution_count": null,
   "metadata": {},
   "outputs": [],
   "source": [
    "df_snapshot_votes = df_convex_snapshot_vote_choice\n",
    "proposal_starts = df_snapshot_votes.proposal_start.unique()\n",
    "current_date = proposal_starts[0]\n",
    "current_date"
   ]
  },
  {
   "cell_type": "code",
   "execution_count": null,
   "metadata": {},
   "outputs": [],
   "source": [
    "df_local = df_delegations[df_delegations['block_timestamp'] < current_date ]\n",
    "df_local = df_local.sort_values(['block_timestamp']).groupby(['delegator']).tail(1)\n",
    "df_local['checkpoint'] = current_date\n"
   ]
  },
  {
   "cell_type": "code",
   "execution_count": null,
   "metadata": {},
   "outputs": [],
   "source": [
    "df_local"
   ]
  },
  {
   "cell_type": "code",
   "execution_count": null,
   "metadata": {},
   "outputs": [],
   "source": [
    "df_lock_local = pcl_agg_user[pcl_agg_user['this_epoch'] < current_date ]\n",
    "target_epoch = df_lock_local.this_epoch.max()\n",
    "df_lock_local = df_lock_local[df_lock_local['this_epoch'] == target_epoch ]\n",
    "df_lock_local\n"
   ]
  },
  {
   "cell_type": "code",
   "execution_count": null,
   "metadata": {},
   "outputs": [],
   "source": [
    "target_epoch"
   ]
  },
  {
   "cell_type": "code",
   "execution_count": null,
   "metadata": {},
   "outputs": [],
   "source": [
    "df_lock_local[df_lock_local['user']== '0x41374b389772d5aed41240a57f5ffb087c6bfa93']\n",
    "# pcl_agg_user[pcl_agg_user['user']== '0x41374b389772d5aed41240a57f5ffb087c6bfa93']"
   ]
  },
  {
   "cell_type": "code",
   "execution_count": null,
   "metadata": {},
   "outputs": [],
   "source": [
    "df_local[df_local['delegator'] == '0x41374b389772d5aed41240a57f5ffb087c6bfa93']"
   ]
  },
  {
   "cell_type": "code",
   "execution_count": null,
   "metadata": {},
   "outputs": [],
   "source": [
    "pcl.df_aggregate_user_epoch[pcl.df_aggregate_user_epoch['known_as']== 'Reserve 1']"
   ]
  },
  {
   "cell_type": "code",
   "execution_count": null,
   "metadata": {},
   "outputs": [],
   "source": [
    "# df_convex_processed_locks[df_convex_processed_locks['relocked'] == True]"
   ]
  },
  {
   "cell_type": "code",
   "execution_count": null,
   "metadata": {},
   "outputs": [],
   "source": [
    "class ProcessConvexDelegations():\n",
    "    def __init__(self, df_delegations, df_snapshot_votes, convex_locker ):\n",
    "        # Existing\n",
    "        self.df_delegations = df_delegations\n",
    "        self.df_snapshot_votes = df_snapshot_votes\n",
    "        self.convex_locker = convex_locker\n",
    "        # New\n",
    "        self.delegator_per_proposal = []    # aggregates delegator per proposal\n",
    "        self.delegator_locks_per_proposal = [] # delegator per proposal plus lock info\n",
    "        self.aggregate_delegates = []  # sum balance per delegate per epoch and proposal\n",
    "        self.locks_with_delegate_context = [] # df_aggregate_user_epoch + delegate identifier per epoch\n",
    "        # self.vote_power = []\n",
    "        self.process()\n",
    "        self.process_aggregate_system()\n",
    "\n",
    "\n",
    "        # self.df_votes = df_snapshot_votes\n",
    "        # self.delegtors = {}\n",
    "        # self.delegates = {}\n",
    "\n",
    "    \n",
    "    def process(self):\n",
    "        proposal_starts = self.df_snapshot_votes.proposal_start.unique()\n",
    "        delegator_list = []\n",
    "        delegator_lock_list = []\n",
    "        lock_delegate_list = []\n",
    "        pcl_agg_user = self.convex_locker.df_aggregate_user_epoch\n",
    "        for current_date in proposal_starts:\n",
    "            # delegation\n",
    "            local_delegators = df_delegations[df_delegations['block_timestamp'] < current_date ]\n",
    "            local_delegators = local_delegators.sort_values(['block_timestamp']).groupby(['delegator']).tail(1)\n",
    "            local_delegators['checkpoint'] = current_date\n",
    "            \n",
    "            local_delegators_with_locks = local_delegators.copy()\n",
    "\n",
    "            # locks\n",
    "            df_lock_local = pcl_agg_user[pcl_agg_user['this_epoch'] < current_date ]\n",
    "            target_epoch = df_lock_local.this_epoch.max()\n",
    "            df_lock_local = df_lock_local[df_lock_local['this_epoch'] == target_epoch ]\n",
    "\n",
    "            # Join Delegators and Locks\n",
    "            local_delegators_with_locks = local_delegators_with_locks[['delegate', 'delegator', 'checkpoint']].set_index('delegator').join(df_lock_local.set_index('user')).reset_index()\n",
    "            \n",
    "            delegator_list.append(local_delegators)\n",
    "            delegator_lock_list.append(local_delegators_with_locks)\n",
    "\n",
    "            # Join Locks and Delegates (to reference delegation on locks per epoch per user)\n",
    "            # df_local_3\n",
    "            local_locks_with_delegators = df_lock_local.set_index('user').join(local_delegators[['delegate', 'delegator']].set_index('delegator')).reset_index()\n",
    "            # delegator_lock_list.append(df_local_3)        \n",
    "            lock_delegate_list.append(local_locks_with_delegators)\n",
    "        self.delegator_per_proposal = pd.concat(delegator_list)\n",
    "        temp = pd.concat(delegator_lock_list)\n",
    "        self.delegator_locks_per_proposal = temp[temp['current_locked'] > 0]\n",
    "        self.locks_with_delegate_context = pd.concat(lock_delegate_list)\n",
    "        return\n",
    "\n",
    "    def process_aggregate_system(self):\n",
    "        self.aggregate_delegates = self.delegator_locks_per_proposal.groupby([\n",
    "                'checkpoint', 'delegate', 'this_epoch'\n",
    "            ]).agg(\n",
    "            total_delegated=pd.NamedAgg(column='current_locked', aggfunc=sum),\n",
    "            delegated_lock_count=pd.NamedAgg(column='lock_count', aggfunc=sum),\n",
    "            delegators_count=pd.NamedAgg(column='delegator', aggfunc=lambda x: len(x.unique())),\n",
    "            delegators=pd.NamedAgg(column='delegator', aggfunc=list),\n",
    "\n",
    "        ).reset_index()\n",
    "        return\n",
    "    \n",
    "   \n"
   ]
  },
  {
   "cell_type": "code",
   "execution_count": null,
   "metadata": {},
   "outputs": [],
   "source": [
    "pcb = ProcessConvexDelegations(df_delegations, df_convex_snapshot_vote_choice, pcl)"
   ]
  },
  {
   "cell_type": "code",
   "execution_count": null,
   "metadata": {},
   "outputs": [],
   "source": [
    "pcb.aggregate_delegates.head(3)\n"
   ]
  },
  {
   "cell_type": "code",
   "execution_count": null,
   "metadata": {},
   "outputs": [],
   "source": [
    "pcb.locks_with_delegate_context\n"
   ]
  },
  {
   "cell_type": "code",
   "execution_count": null,
   "metadata": {},
   "outputs": [],
   "source": [
    "pcb.convex_locker.df_aggregate_user_epoch"
   ]
  },
  {
   "cell_type": "code",
   "execution_count": null,
   "metadata": {},
   "outputs": [],
   "source": [
    "pcb.aggregate_delegates"
   ]
  },
  {
   "cell_type": "code",
   "execution_count": null,
   "metadata": {},
   "outputs": [],
   "source": [
    "fig = px.line(pcb.aggregate_delegates, x=\"checkpoint\", y=\"total_delegated\", color='delegate')\n",
    "fig.update_layout(\n",
    "    title=f\"Delegated Balance Per Delegate\",\n",
    "#     xaxis_title=\"X Axis Title\",\n",
    "#     yaxis_title=\"Y Axis Title\",\n",
    "#     legend_title=\"Legend Title\",\n",
    "    font=dict(\n",
    "        family=\"Courier New, monospace\",\n",
    "        size=18,\n",
    "        color=\"RebeccaPurple\"\n",
    "    ),\n",
    "    # height= 1000,\n",
    ")\n",
    "fig.show()"
   ]
  },
  {
   "cell_type": "code",
   "execution_count": null,
   "metadata": {},
   "outputs": [],
   "source": [
    "fig = px.line(pcb.aggregate_delegates, x=\"checkpoint\", y=\"delegators_count\", color='delegate')\n",
    "fig.update_layout(\n",
    "    title=f\"Delegator Count Per Delegate\",\n",
    "#     xaxis_title=\"X Axis Title\",\n",
    "#     yaxis_title=\"Y Axis Title\",\n",
    "#     legend_title=\"Legend Title\",\n",
    "    font=dict(\n",
    "        family=\"Courier New, monospace\",\n",
    "        size=18,\n",
    "        color=\"RebeccaPurple\"\n",
    "    ),\n",
    "    # height= 1000,\n",
    ")\n",
    "fig.show()"
   ]
  },
  {
   "cell_type": "code",
   "execution_count": null,
   "metadata": {},
   "outputs": [],
   "source": [
    "# 0xde1e6a7ed0ad3f61d531a8a78e83ccddbd6e0c49 # Votium\n",
    "\n",
    "# fig = px.line(pcb.delegator_locks_per_proposal, x=\"checkpoint\", y=\"current_locked\", color='delegate')\n",
    "# fig.update_layout(\n",
    "#     title=f\"Delegated vlCVX Per Delegator\",\n",
    "# #     xaxis_title=\"X Axis Title\",\n",
    "# #     yaxis_title=\"Y Axis Title\",\n",
    "# #     legend_title=\"Legend Title\",\n",
    "#     font=dict(\n",
    "#         family=\"Courier New, monospace\",\n",
    "#         size=18,\n",
    "#         color=\"RebeccaPurple\"\n",
    "#     ),\n",
    "#     # height= 1000,\n",
    "# )\n",
    "# fig.show()"
   ]
  },
  {
   "cell_type": "code",
   "execution_count": null,
   "metadata": {},
   "outputs": [],
   "source": [
    "pcb.delegator_locks_per_proposal[pcb.delegator_locks_per_proposal['known_as'] == 'Reserve Delegate 2']"
   ]
  },
  {
   "cell_type": "code",
   "execution_count": null,
   "metadata": {},
   "outputs": [],
   "source": []
  },
  {
   "cell_type": "code",
   "execution_count": null,
   "metadata": {},
   "outputs": [],
   "source": [
    "# fig = make_subplots(specs=[[{\"secondary_y\": True}]])\n",
    "# fig.update_layout(\n",
    "#     title=f\"Convex Locker Historic Locks Per Epoch\",\n",
    "#         xaxis_title=\"Epoch Date\",\n",
    "#         yaxis_title=\"vlCVX\",\n",
    "#         yaxis2_title=\"Locked Positions\",\n",
    "#     #     legend_title=\"Legend Title\",\n",
    "#     font=dict(\n",
    "#         family=\"Courier New, monospace\",\n",
    "#         size=18,\n",
    "#         color=\"RebeccaPurple\"\n",
    "#     ),\n",
    "#     # height= 1000,\n",
    "# )\n",
    "# fig = fig.add_trace(\n",
    "#     go.Bar(\n",
    "#         x=pcb.aggregate_delegates.checkpoint,\n",
    "#         y=pcb.aggregate_delegates.total_locked,\n",
    "#         name=\"Total Locked\",\n",
    "#         # color=\"pool_name\"\n",
    "#     ),\n",
    "#     secondary_y=False\n",
    "# )\n",
    "# fig = fig.add_trace(\n",
    "#     go.Scatter(\n",
    "#         x = pcl_agg_system.this_epoch,\n",
    "#         y = pcl_agg_system.lock_count, \n",
    "#         name = \"Locked Count\",\n",
    "#         line_shape='hvh',\n",
    "#         line_width=3,\n",
    "#     ),\n",
    "#     secondary_y=True\n",
    "# )\n",
    "# fig.add_vline(x=dt.now(), line_width=3, line_dash=\"dash\", line_color=\"black\", )\n",
    "\n",
    "# fig.update_layout(autotypenumbers='convert types')\n",
    "# fig.update_yaxes(rangemode=\"tozero\")\n",
    "# fig.show()"
   ]
  }
 ],
 "metadata": {
  "kernelspec": {
   "display_name": "cadcad-edu",
   "language": "python",
   "name": "python3"
  },
  "language_info": {
   "codemirror_mode": {
    "name": "ipython",
    "version": 3
   },
   "file_extension": ".py",
   "mimetype": "text/x-python",
   "name": "python",
   "nbconvert_exporter": "python",
   "pygments_lexer": "ipython3",
   "version": "3.8.13"
  }
 },
 "nbformat": 4,
 "nbformat_minor": 2
}
