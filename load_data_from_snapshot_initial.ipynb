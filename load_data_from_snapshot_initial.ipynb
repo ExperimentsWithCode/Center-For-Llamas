{
 "cells": [
  {
   "cell_type": "code",
   "execution_count": null,
   "metadata": {},
   "outputs": [],
   "source": [
    "import pandas as pd\n",
    "import os\n",
    "from datetime import datetime as dt\n",
    "import numpy as np"
   ]
  },
  {
   "cell_type": "code",
   "execution_count": null,
   "metadata": {},
   "outputs": [],
   "source": [
    "from app.data.local_storage import (\n",
    "    read_json,\n",
    "    read_csv\n",
    ")\n"
   ]
  },
  {
   "cell_type": "code",
   "execution_count": null,
   "metadata": {},
   "outputs": [],
   "source": [
    "from app.snapshot.alt_models import SnapshotAsSource"
   ]
  },
  {
   "cell_type": "markdown",
   "metadata": {},
   "source": [
    "# Configure"
   ]
  },
  {
   "cell_type": "code",
   "execution_count": null,
   "metadata": {},
   "outputs": [],
   "source": [
    "space_address = 'cvx.eth'\n",
    "first = 100\n",
    "skip = 0\n",
    "target = None"
   ]
  },
  {
   "cell_type": "markdown",
   "metadata": {},
   "source": [
    "### Helpers"
   ]
  },
  {
   "cell_type": "code",
   "execution_count": null,
   "metadata": {},
   "outputs": [],
   "source": [
    "data_path = \"/app/data/source\"\n",
    "\n",
    "def get_cwd():\n",
    "    cwd_temp = os.getcwd()\n",
    "    temp_split = cwd_temp.split('/')\n",
    "    cwd = \"\"\n",
    "    for x in temp_split:\n",
    "        if x == 'experiments':\n",
    "            break\n",
    "        elif x == '':\n",
    "            pass\n",
    "        else:\n",
    "            cwd += \"/\"+x       \n",
    "    return cwd"
   ]
  },
  {
   "cell_type": "code",
   "execution_count": null,
   "metadata": {},
   "outputs": [],
   "source": [
    "def df_to_csv(df, filename):\n",
    "    cwd = get_cwd()\n",
    "    full_filename = cwd+ data_path + '/' + filename+'.csv'\n",
    "    df.to_csv(full_filename) \n",
    "    "
   ]
  },
  {
   "cell_type": "code",
   "execution_count": null,
   "metadata": {},
   "outputs": [],
   "source": [
    "def df_to_json(df, filename):\n",
    "    cwd = get_cwd()\n",
    "    full_filename = cwd+ data_path + '/' + filename+'.json'\n",
    "    df.to_json(full_filename) "
   ]
  },
  {
   "cell_type": "code",
   "execution_count": null,
   "metadata": {},
   "outputs": [],
   "source": [
    "def csv_to_df(filename):\n",
    "    resp_dict = read_csv(filename, 'source')\n",
    "    df = pd.json_normalize(resp_dict)\n",
    "    return df"
   ]
  },
  {
   "cell_type": "code",
   "execution_count": null,
   "metadata": {},
   "outputs": [],
   "source": [
    "def json_to_df(filename):\n",
    "    resp_dict = read_json(filename, 'source')\n",
    "    df = pd.json_normalize(resp_dict)\n",
    "    return df"
   ]
  },
  {
   "cell_type": "markdown",
   "metadata": {},
   "source": [
    "# Run"
   ]
  },
  {
   "cell_type": "code",
   "execution_count": null,
   "metadata": {},
   "outputs": [],
   "source": [
    "snapshot = SnapshotAsSource(space_address, first, skip, target )"
   ]
  },
  {
   "cell_type": "code",
   "execution_count": null,
   "metadata": {},
   "outputs": [],
   "source": [
    "df_votes = snapshot.get_vote_df()"
   ]
  },
  {
   "cell_type": "code",
   "execution_count": null,
   "metadata": {},
   "outputs": [],
   "source": [
    "df_votes"
   ]
  },
  {
   "cell_type": "code",
   "execution_count": null,
   "metadata": {},
   "outputs": [],
   "source": [
    "filename = ('convex_snapshot_from_snapshot')\n",
    "df_to_csv(df_votes, filename)\n",
    "df_votes_alt = csv_to_df(filename)"
   ]
  },
  {
   "cell_type": "code",
   "execution_count": null,
   "metadata": {},
   "outputs": [],
   "source": [
    "df_votes_alt"
   ]
  },
  {
   "cell_type": "code",
   "execution_count": null,
   "metadata": {},
   "outputs": [],
   "source": [
    "filename = ('convex_snapshot_proposal_choice_map')\n",
    "df_to_csv(snapshot.get_proposal_choice_map_df(), filename)\n",
    "df_proposal_choice_map = csv_to_df(filename)\n",
    "df_proposal_choice_map"
   ]
  },
  {
   "cell_type": "markdown",
   "metadata": {},
   "source": [
    "# StakeDAO"
   ]
  },
  {
   "cell_type": "code",
   "execution_count": null,
   "metadata": {},
   "outputs": [],
   "source": [
    "space_address = 'sdcrv.eth'\n",
    "first = 1000\n",
    "skip = 0\n",
    "target = None"
   ]
  },
  {
   "cell_type": "code",
   "execution_count": null,
   "metadata": {},
   "outputs": [],
   "source": [
    "snapshot = SnapshotAsSource(space_address, first, skip, target )"
   ]
  },
  {
   "cell_type": "code",
   "execution_count": null,
   "metadata": {},
   "outputs": [],
   "source": [
    "snapshot.proposals"
   ]
  },
  {
   "cell_type": "code",
   "execution_count": null,
   "metadata": {},
   "outputs": [],
   "source": [
    "filename = ('stakedao_snapshot_from_snapshot')\n",
    "df_to_csv(snapshot.get_vote_df(), filename)\n",
    "df_votes_alt = csv_to_df(filename)"
   ]
  },
  {
   "cell_type": "code",
   "execution_count": null,
   "metadata": {},
   "outputs": [],
   "source": [
    "df_votes_alt.tail()"
   ]
  },
  {
   "cell_type": "code",
   "execution_count": null,
   "metadata": {},
   "outputs": [],
   "source": [
    "filename = ('stakedao_snapshot_proposal_choice_map')\n",
    "df_to_csv(snapshot.get_proposal_choice_map_df(), filename)\n",
    "df_proposal_choice_map = csv_to_df(filename).to_dict()\n",
    "df_proposal_choice_map"
   ]
  }
 ],
 "metadata": {
  "kernelspec": {
   "display_name": "cadcad-edu",
   "language": "python",
   "name": "python3"
  },
  "language_info": {
   "codemirror_mode": {
    "name": "ipython",
    "version": 3
   },
   "file_extension": ".py",
   "mimetype": "text/x-python",
   "name": "python",
   "nbconvert_exporter": "python",
   "pygments_lexer": "ipython3",
   "version": "3.8.13"
  },
  "orig_nbformat": 4
 },
 "nbformat": 4,
 "nbformat_minor": 2
}
