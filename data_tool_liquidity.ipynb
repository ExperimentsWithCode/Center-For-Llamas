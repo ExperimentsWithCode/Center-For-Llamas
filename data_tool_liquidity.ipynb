{
 "cells": [
  {
   "cell_type": "markdown",
   "metadata": {},
   "source": [
    "# Load Initial"
   ]
  },
  {
   "cell_type": "markdown",
   "metadata": {},
   "source": [
    "Since more data than can query at once, load manually\n",
    "\n",
    "* Notably, if we use fixed cut offs if we are not aware of a pool\n",
    "    * It will have missing data before the last checkpoint\n",
    "    * Will need to additionally backfill new pools, \n",
    "        * and overwrite pool address list"
   ]
  },
  {
   "cell_type": "code",
   "execution_count": null,
   "metadata": {},
   "outputs": [],
   "source": [
    "from datetime import datetime as dt\n",
    "from datetime import timedelta, date"
   ]
  },
  {
   "cell_type": "code",
   "execution_count": null,
   "metadata": {},
   "outputs": [],
   "source": [
    "from app.data.flipside_api_helper import query_and_save"
   ]
  },
  {
   "cell_type": "code",
   "execution_count": null,
   "metadata": {},
   "outputs": [],
   "source": [
    "from app.curve.liquidity.fetch import generate_query, fetch\n",
    "from app.curve.liquidity.fetch_cutoff import fetch_cutoff"
   ]
  },
  {
   "cell_type": "code",
   "execution_count": null,
   "metadata": {},
   "outputs": [],
   "source": [
    "from app.data.local_storage import (\n",
    "    pd,\n",
    "    read_json,\n",
    "    read_csv,\n",
    "    write_dataframe_csv,\n",
    "    write_dfs_to_xlsx,\n",
    "    csv_to_df,\n",
    "    df_to_csv,\n",
    "    )\n",
    "from app.utilities.utility import (\n",
    "    utc,\n",
    "    get_datetime_obj\n",
    "    )\n",
    "from app.data.reference import (\n",
    "    filename_curve_liquidity, \n",
    "    filename_curve_liquidity_cutoff\n",
    "    )"
   ]
  },
  {
   "cell_type": "markdown",
   "metadata": {},
   "source": [
    "# PARAMS!"
   ]
  },
  {
   "cell_type": "code",
   "execution_count": null,
   "metadata": {},
   "outputs": [],
   "source": [
    "load_initial = True\n",
    "load_cutoff = True\n",
    "load_forward = True\n",
    "\n",
    "should_fetch = True \n",
    "\n",
    "cutoff_value = None"
   ]
  },
  {
   "cell_type": "code",
   "execution_count": null,
   "metadata": {},
   "outputs": [],
   "source": [
    "def get_df_from_file(filename):\n",
    "    resp_dict = read_csv(filename, 'raw_data')\n",
    "    df = pd.json_normalize(resp_dict)\n",
    "    return df"
   ]
  },
  {
   "cell_type": "markdown",
   "metadata": {},
   "source": [
    "## Query cutoff"
   ]
  },
  {
   "cell_type": "code",
   "execution_count": null,
   "metadata": {},
   "outputs": [],
   "source": [
    "if load_initial:\n",
    "    if cutoff_value:\n",
    "        df_cutoff = fetch_cutoff(cutoff_value)\n",
    "    else:\n",
    "        df_cutoff = fetch_cutoff()\n",
    "    df_to_csv(df_cutoff, filename_curve_liquidity_cutoff, 'raw_data') "
   ]
  },
  {
   "cell_type": "code",
   "execution_count": null,
   "metadata": {},
   "outputs": [],
   "source": [
    "df_cutoff = get_df_from_file(filename_curve_liquidity_cutoff)\n",
    "df_cutoff.head()"
   ]
  },
  {
   "cell_type": "markdown",
   "metadata": {},
   "source": [
    "## Query back from current timestamp"
   ]
  },
  {
   "cell_type": "code",
   "execution_count": null,
   "metadata": {},
   "outputs": [],
   "source": [
    "# df = query_and_save(query, filename, df):"
   ]
  },
  {
   "cell_type": "code",
   "execution_count": null,
   "metadata": {},
   "outputs": [],
   "source": [
    "def backfiller(generate_query, filename, target, cutoff_time = None, page_size=10000):\n",
    "    # Loop Basics\n",
    "    should_continue = True\n",
    "    df = get_df_from_file(filename)\n",
    "    # Controls ending at a fixed cutoff\n",
    "    if cutoff_time:\n",
    "        cutoff_time = get_datetime_obj(cutoff_time)\n",
    "    while should_continue:\n",
    "        if len(df) == 0:\n",
    "            df = []\n",
    "            print(\"no starting position\")\n",
    "            time =  '2023-08-01 00:00:01'\n",
    "            start_time = get_datetime_obj(time)\n",
    "            end_time = start_time + timedelta(days=26*7)\n",
    "        else:\n",
    "            end_time = get_datetime_obj(df['block_timestamp'].min())\n",
    "            start_time = end_time - timedelta(days=26*7)\n",
    "            if cutoff_time and start_time < cutoff_time:\n",
    "                start_time = cutoff_time\n",
    "                print(\"Last Run!\")\n",
    "        # Begin true sequence\n",
    "        print(\"=\"*50)\n",
    "        print(\"=\"*50)\n",
    "        print(\"GO BACK\")\n",
    "        print(f\"Time Bounds: {start_time} --> {end_time}\")\n",
    "        # If things go off the rails, allow user to abort\n",
    "        #   * Provides time to check in on api provider\n",
    "        print(\"^^^ Look Up ^^^ User Input Requested ^^^\")\n",
    "        user_input = input(\"Type anything to abort, or enter to continue\")\n",
    "        if len(user_input) > 0:\n",
    "            break\n",
    "        current_length = len(df)\n",
    "        query = generate_query(start_time, end_time)\n",
    "        df = query_and_save(query, filename_curve_liquidity, df, page_size)\n",
    "        if start_time == cutoff_time:\n",
    "            should_continue = False\n",
    "        if len(df) < current_length:\n",
    "            should_continue = False\n",
    "\n",
    "    \n",
    "    return df\n"
   ]
  },
  {
   "cell_type": "code",
   "execution_count": null,
   "metadata": {},
   "outputs": [],
   "source": [
    "if load_initial:\n",
    "    df = backfiller(\n",
    "        generate_query, \n",
    "        filename_curve_liquidity, \n",
    "        'block_timestamp', \n",
    "        df_cutoff.cutoff.min()\n",
    "        )"
   ]
  },
  {
   "cell_type": "code",
   "execution_count": null,
   "metadata": {},
   "outputs": [],
   "source": [
    "df_liquidity = get_df_from_file(filename_curve_liquidity)\n",
    "df_liquidity.head()"
   ]
  },
  {
   "cell_type": "markdown",
   "metadata": {},
   "source": [
    "# Query Forward"
   ]
  },
  {
   "cell_type": "code",
   "execution_count": null,
   "metadata": {},
   "outputs": [],
   "source": [
    "if load_forward:\n",
    "    if should_fetch:\n",
    "        df_gauge_votes_raw = fetch(False)"
   ]
  },
  {
   "cell_type": "markdown",
   "metadata": {},
   "source": [
    "# Join"
   ]
  },
  {
   "cell_type": "code",
   "execution_count": null,
   "metadata": {},
   "outputs": [],
   "source": [
    "len(df) / 1000000"
   ]
  },
  {
   "cell_type": "code",
   "execution_count": null,
   "metadata": {},
   "outputs": [],
   "source": [
    "def join_cutoff(df, df_cutoff):\n",
    "    df_cutoff = format_cutoff(df_cutoff)\n",
    "     \n",
    "    return pd.concat([df, df_cutoff])\n",
    "\n",
    "def format_cutoff(df_cutoff):\n",
    "    cutoff = df_cutoff.cutoff.min()\n",
    "    if not 'T' in cutoff:\n",
    "        cutoff = cutoff.replace(' ', 'T')\n",
    "    if not '.' in cutoff:\n",
    "        cutoff = cutoff + '.000Z'\n",
    "    if not 'Z' in cutoff:\n",
    "        cutoff = cutoff + 'Z'\n",
    "    df_cutoff['cutoff'] = cutoff\n",
    "    df_cutoff = df_cutoff.rename(columns={\n",
    "        \"cutoff\": 'block_timestamp',\n",
    "        })   \n",
    "    return df_cutoff"
   ]
  },
  {
   "cell_type": "code",
   "execution_count": null,
   "metadata": {},
   "outputs": [],
   "source": [
    "combo_df = join_cutoff(df_liquidity, df_cutoff)\n",
    "combo_df.block_timestamp.max()"
   ]
  },
  {
   "cell_type": "code",
   "execution_count": null,
   "metadata": {},
   "outputs": [],
   "source": [
    "df_to_csv(combo_df, filename_curve_liquidity, 'source')"
   ]
  },
  {
   "cell_type": "code",
   "execution_count": null,
   "metadata": {},
   "outputs": [],
   "source": [
    "combo_df['block_timestamp'] = pd.to_datetime(combo_df['block_timestamp'])"
   ]
  },
  {
   "cell_type": "code",
   "execution_count": null,
   "metadata": {},
   "outputs": [],
   "source": [
    "# should_continue = True\n",
    "# while should_continue:\n",
    "#     user_input = input(\"Type anything to abort, or enter to continue\")\n",
    "#     if len(user_input) > 0:\n",
    "#         print(\"Here!\")\n",
    "#         break"
   ]
  },
  {
   "cell_type": "code",
   "execution_count": null,
   "metadata": {},
   "outputs": [],
   "source": [
    "dt.now(utc)\n",
    "time =  '2023-08-01T00:00:01.000Z'\n",
    "time = get_datetime_obj(time)\n",
    "f\"{time}\""
   ]
  }
 ],
 "metadata": {
  "kernelspec": {
   "display_name": "flask",
   "language": "python",
   "name": "python3"
  },
  "language_info": {
   "codemirror_mode": {
    "name": "ipython",
    "version": 3
   },
   "file_extension": ".py",
   "mimetype": "text/x-python",
   "name": "python",
   "nbconvert_exporter": "python",
   "pygments_lexer": "ipython3",
   "version": "3.9.12"
  }
 },
 "nbformat": 4,
 "nbformat_minor": 2
}
